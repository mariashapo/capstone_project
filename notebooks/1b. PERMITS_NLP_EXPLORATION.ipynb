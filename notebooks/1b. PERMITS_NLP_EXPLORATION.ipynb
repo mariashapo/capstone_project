{
 "cells": [
  {
   "attachments": {},
   "cell_type": "markdown",
   "metadata": {},
   "source": [
    "# Predicting Gentrification\n",
    "*A study into planning application features that can help to signal early warnings of gentrification*\n",
    "</br></br></br></br>\n",
    "`Notebook 1b: Further EDA of Permits Dataset --  NLP and Topic Modelling`</br>\n",
    "Author: Mariia Shapovalova</br>\n",
    "Date: April, 2023"
   ]
  },
  {
   "attachments": {},
   "cell_type": "markdown",
   "metadata": {},
   "source": [
    "---\n",
    "## Table of Contents\n",
    "Notebook 1b: \n",
    "* Vectorization\n",
    "* LDA\n",
    "* Adding the newly engineered topics to the dataframe \n",
    "\n"
   ]
  },
  {
   "attachments": {},
   "cell_type": "markdown",
   "metadata": {},
   "source": [
    "---\n",
    "<center><h2 id=\"identifier_0\">INTRODUCTION</h2><center>"
   ]
  },
  {
   "attachments": {},
   "cell_type": "markdown",
   "metadata": {},
   "source": [
    "The purpose of this notebook is to perform an Exploratory Data Analysis (EDA) on the Permits Dataset. The focus is on conducting Natural Language Processing (NLP) analysis and utilizing Latent Dirichlet Allocation (LDA) to extract project types. This approach aims to provide more meaningful information for prediction tasks compared to relying solely on the existing permit types, which might not capture the true essence of the architectural projects."
   ]
  },
  {
   "cell_type": "code",
   "execution_count": 4,
   "metadata": {},
   "outputs": [
    {
     "name": "stderr",
     "output_type": "stream",
     "text": [
      "[nltk_data] Downloading package stopwords to\n",
      "[nltk_data]     /Users/mshapovalova/nltk_data...\n",
      "[nltk_data]   Package stopwords is already up-to-date!\n"
     ]
    }
   ],
   "source": [
    "#import relevant packages\n",
    "import numpy as np\n",
    "import pandas as pd\n",
    "\n",
    "import joblib\n",
    "import re\n",
    "\n",
    "import seaborn as sns\n",
    "import matplotlib.pyplot as plt\n",
    "\n",
    "import warnings\n",
    "warnings.filterwarnings('ignore')\n",
    "\n",
    "from functions import *\n",
    "\n",
    "#NLP\n",
    "\n",
    "from sklearn.feature_extraction.text import TfidfVectorizer\n",
    "from sklearn.feature_extraction.text import CountVectorizer\n",
    "import string\n",
    "\n",
    "from sklearn.decomposition import LatentDirichletAllocation\n",
    "\n",
    "# import the nltk stopwords\n",
    "import nltk\n",
    "nltk.download('stopwords')\n",
    "from nltk.corpus import stopwords\n",
    "from nltk.tag import pos_tag \n",
    "from nltk.tokenize import word_tokenize\n",
    "from nltk.stem import PorterStemmer"
   ]
  },
  {
   "cell_type": "code",
   "execution_count": 5,
   "metadata": {},
   "outputs": [],
   "source": [
    "df=pd.read_csv('../data/clean/permits_cleaned.csv',index_col=0)"
   ]
  },
  {
   "cell_type": "code",
   "execution_count": 6,
   "metadata": {},
   "outputs": [
    {
     "name": "stdout",
     "output_type": "stream",
     "text": [
      "The dataframe shape is (730511, 15)\n"
     ]
    },
    {
     "data": {
      "text/html": [
       "<div>\n",
       "<style scoped>\n",
       "    .dataframe tbody tr th:only-of-type {\n",
       "        vertical-align: middle;\n",
       "    }\n",
       "\n",
       "    .dataframe tbody tr th {\n",
       "        vertical-align: top;\n",
       "    }\n",
       "\n",
       "    .dataframe thead th {\n",
       "        text-align: right;\n",
       "    }\n",
       "</style>\n",
       "<table border=\"1\" class=\"dataframe\">\n",
       "  <thead>\n",
       "    <tr style=\"text-align: right;\">\n",
       "      <th></th>\n",
       "      <th>Data Types</th>\n",
       "      <th>Total Null Values</th>\n",
       "      <th>Null Values Percentage</th>\n",
       "      <th>Sample Value Head</th>\n",
       "      <th>Sample Value Tail</th>\n",
       "      <th>Sample Value</th>\n",
       "    </tr>\n",
       "    <tr>\n",
       "      <th>Column_Name</th>\n",
       "      <th></th>\n",
       "      <th></th>\n",
       "      <th></th>\n",
       "      <th></th>\n",
       "      <th></th>\n",
       "      <th></th>\n",
       "    </tr>\n",
       "  </thead>\n",
       "  <tbody>\n",
       "    <tr>\n",
       "      <th>PERMIT_TYPE</th>\n",
       "      <td>object</td>\n",
       "      <td>0</td>\n",
       "      <td>0.0</td>\n",
       "      <td>RENOVATION/ALTERATION</td>\n",
       "      <td>ELECTRIC WIRING</td>\n",
       "      <td>DROP</td>\n",
       "    </tr>\n",
       "    <tr>\n",
       "      <th>REVIEW_TYPE</th>\n",
       "      <td>object</td>\n",
       "      <td>0</td>\n",
       "      <td>0.0</td>\n",
       "      <td>STANDARD PLAN REVIEW</td>\n",
       "      <td>EASY PERMIT WEB</td>\n",
       "      <td>SIGN PERMIT</td>\n",
       "    </tr>\n",
       "    <tr>\n",
       "      <th>WORK_DESCRIPTION</th>\n",
       "      <td>object</td>\n",
       "      <td>0</td>\n",
       "      <td>0.0</td>\n",
       "      <td>INTERIOR REMODELING OF EXISTING 3 D.U. PER PLA...</td>\n",
       "      <td>REPAIR SERVICE</td>\n",
       "      <td>INSTALL A WALL SIGN FOR THE LD PHO AT 4722 N K...</td>\n",
       "    </tr>\n",
       "    <tr>\n",
       "      <th>CONTACT_1_TYPE</th>\n",
       "      <td>object</td>\n",
       "      <td>0</td>\n",
       "      <td>0.0</td>\n",
       "      <td>OWNER AS GENERAL CONTRACTOR</td>\n",
       "      <td>CONTRACTOR-ELECTRICAL</td>\n",
       "      <td>SIGN CONTRACTOR</td>\n",
       "    </tr>\n",
       "    <tr>\n",
       "      <th>CONTACT_1_CITY</th>\n",
       "      <td>object</td>\n",
       "      <td>0</td>\n",
       "      <td>0.0</td>\n",
       "      <td>CHICAGO</td>\n",
       "      <td>CHICAGO_SUBURBS</td>\n",
       "      <td>CHICAGO</td>\n",
       "    </tr>\n",
       "    <tr>\n",
       "      <th>CONTACT_1_STATE</th>\n",
       "      <td>object</td>\n",
       "      <td>0</td>\n",
       "      <td>0.0</td>\n",
       "      <td>IL</td>\n",
       "      <td>OTHER</td>\n",
       "      <td>IL</td>\n",
       "    </tr>\n",
       "    <tr>\n",
       "      <th>CENSUS_TRACT</th>\n",
       "      <td>int64</td>\n",
       "      <td>0</td>\n",
       "      <td>0.0</td>\n",
       "      <td>220702</td>\n",
       "      <td>530503</td>\n",
       "      <td>140701</td>\n",
       "    </tr>\n",
       "    <tr>\n",
       "      <th>LOG_PROCESSING_TIME</th>\n",
       "      <td>float64</td>\n",
       "      <td>0</td>\n",
       "      <td>0.0</td>\n",
       "      <td>4.394449</td>\n",
       "      <td>-23.025851</td>\n",
       "      <td>5.129899</td>\n",
       "    </tr>\n",
       "    <tr>\n",
       "      <th>LOG_BUILDING_FEE_PAID</th>\n",
       "      <td>float64</td>\n",
       "      <td>0</td>\n",
       "      <td>0.0</td>\n",
       "      <td>4.828314</td>\n",
       "      <td>4.317488</td>\n",
       "      <td>4.60517</td>\n",
       "    </tr>\n",
       "    <tr>\n",
       "      <th>LOG_ZONING_FEE_PAID</th>\n",
       "      <td>float64</td>\n",
       "      <td>0</td>\n",
       "      <td>0.0</td>\n",
       "      <td>4.317488</td>\n",
       "      <td>-23.025851</td>\n",
       "      <td>5.298317</td>\n",
       "    </tr>\n",
       "    <tr>\n",
       "      <th>LOG_OTHER_FEE_PAID</th>\n",
       "      <td>float64</td>\n",
       "      <td>0</td>\n",
       "      <td>0.0</td>\n",
       "      <td>-23.025851</td>\n",
       "      <td>-23.025851</td>\n",
       "      <td>-23.025851</td>\n",
       "    </tr>\n",
       "    <tr>\n",
       "      <th>LOG_SUBTOTAL_PAID</th>\n",
       "      <td>float64</td>\n",
       "      <td>0</td>\n",
       "      <td>0.0</td>\n",
       "      <td>5.298317</td>\n",
       "      <td>4.317488</td>\n",
       "      <td>5.703782</td>\n",
       "    </tr>\n",
       "    <tr>\n",
       "      <th>LOG_TOTAL_FEE</th>\n",
       "      <td>float64</td>\n",
       "      <td>0</td>\n",
       "      <td>0.0</td>\n",
       "      <td>5.298317</td>\n",
       "      <td>4.317488</td>\n",
       "      <td>5.703782</td>\n",
       "    </tr>\n",
       "    <tr>\n",
       "      <th>LOG_REPORTED_COST</th>\n",
       "      <td>float64</td>\n",
       "      <td>0</td>\n",
       "      <td>0.0</td>\n",
       "      <td>8.006368</td>\n",
       "      <td>6.214608</td>\n",
       "      <td>7.31322</td>\n",
       "    </tr>\n",
       "    <tr>\n",
       "      <th>YEAR</th>\n",
       "      <td>int64</td>\n",
       "      <td>0</td>\n",
       "      <td>0.0</td>\n",
       "      <td>2006</td>\n",
       "      <td>2023</td>\n",
       "      <td>2016</td>\n",
       "    </tr>\n",
       "  </tbody>\n",
       "</table>\n",
       "</div>"
      ],
      "text/plain": [
       "                      Data Types  Total Null Values  Null Values Percentage  \\\n",
       "Column_Name                                                                   \n",
       "PERMIT_TYPE               object                  0                     0.0   \n",
       "REVIEW_TYPE               object                  0                     0.0   \n",
       "WORK_DESCRIPTION          object                  0                     0.0   \n",
       "CONTACT_1_TYPE            object                  0                     0.0   \n",
       "CONTACT_1_CITY            object                  0                     0.0   \n",
       "CONTACT_1_STATE           object                  0                     0.0   \n",
       "CENSUS_TRACT               int64                  0                     0.0   \n",
       "LOG_PROCESSING_TIME      float64                  0                     0.0   \n",
       "LOG_BUILDING_FEE_PAID    float64                  0                     0.0   \n",
       "LOG_ZONING_FEE_PAID      float64                  0                     0.0   \n",
       "LOG_OTHER_FEE_PAID       float64                  0                     0.0   \n",
       "LOG_SUBTOTAL_PAID        float64                  0                     0.0   \n",
       "LOG_TOTAL_FEE            float64                  0                     0.0   \n",
       "LOG_REPORTED_COST        float64                  0                     0.0   \n",
       "YEAR                       int64                  0                     0.0   \n",
       "\n",
       "                                                       Sample Value Head  \\\n",
       "Column_Name                                                                \n",
       "PERMIT_TYPE                                        RENOVATION/ALTERATION   \n",
       "REVIEW_TYPE                                         STANDARD PLAN REVIEW   \n",
       "WORK_DESCRIPTION       INTERIOR REMODELING OF EXISTING 3 D.U. PER PLA...   \n",
       "CONTACT_1_TYPE                               OWNER AS GENERAL CONTRACTOR   \n",
       "CONTACT_1_CITY                                                   CHICAGO   \n",
       "CONTACT_1_STATE                                                       IL   \n",
       "CENSUS_TRACT                                                      220702   \n",
       "LOG_PROCESSING_TIME                                             4.394449   \n",
       "LOG_BUILDING_FEE_PAID                                           4.828314   \n",
       "LOG_ZONING_FEE_PAID                                             4.317488   \n",
       "LOG_OTHER_FEE_PAID                                            -23.025851   \n",
       "LOG_SUBTOTAL_PAID                                               5.298317   \n",
       "LOG_TOTAL_FEE                                                   5.298317   \n",
       "LOG_REPORTED_COST                                               8.006368   \n",
       "YEAR                                                                2006   \n",
       "\n",
       "                           Sample Value Tail  \\\n",
       "Column_Name                                    \n",
       "PERMIT_TYPE                  ELECTRIC WIRING   \n",
       "REVIEW_TYPE                  EASY PERMIT WEB   \n",
       "WORK_DESCRIPTION              REPAIR SERVICE   \n",
       "CONTACT_1_TYPE         CONTRACTOR-ELECTRICAL   \n",
       "CONTACT_1_CITY               CHICAGO_SUBURBS   \n",
       "CONTACT_1_STATE                        OTHER   \n",
       "CENSUS_TRACT                          530503   \n",
       "LOG_PROCESSING_TIME               -23.025851   \n",
       "LOG_BUILDING_FEE_PAID               4.317488   \n",
       "LOG_ZONING_FEE_PAID               -23.025851   \n",
       "LOG_OTHER_FEE_PAID                -23.025851   \n",
       "LOG_SUBTOTAL_PAID                   4.317488   \n",
       "LOG_TOTAL_FEE                       4.317488   \n",
       "LOG_REPORTED_COST                   6.214608   \n",
       "YEAR                                    2023   \n",
       "\n",
       "                                                            Sample Value  \n",
       "Column_Name                                                               \n",
       "PERMIT_TYPE                                                         DROP  \n",
       "REVIEW_TYPE                                                  SIGN PERMIT  \n",
       "WORK_DESCRIPTION       INSTALL A WALL SIGN FOR THE LD PHO AT 4722 N K...  \n",
       "CONTACT_1_TYPE                                           SIGN CONTRACTOR  \n",
       "CONTACT_1_CITY                                                   CHICAGO  \n",
       "CONTACT_1_STATE                                                       IL  \n",
       "CENSUS_TRACT                                                      140701  \n",
       "LOG_PROCESSING_TIME                                             5.129899  \n",
       "LOG_BUILDING_FEE_PAID                                            4.60517  \n",
       "LOG_ZONING_FEE_PAID                                             5.298317  \n",
       "LOG_OTHER_FEE_PAID                                            -23.025851  \n",
       "LOG_SUBTOTAL_PAID                                               5.703782  \n",
       "LOG_TOTAL_FEE                                                   5.703782  \n",
       "LOG_REPORTED_COST                                                7.31322  \n",
       "YEAR                                                                2016  "
      ]
     },
     "execution_count": 6,
     "metadata": {},
     "output_type": "execute_result"
    }
   ],
   "source": [
    "overview(df)"
   ]
  },
  {
   "cell_type": "code",
   "execution_count": 7,
   "metadata": {},
   "outputs": [
    {
     "data": {
      "text/plain": [
       "array(['RENOVATION/ALTERATION', 'NEW CONSTRUCTION', 'DROP',\n",
       "       'ELECTRIC WIRING', 'EASY PERMIT PROCESS', 'SCAFFOLDING',\n",
       "       'REINSTATE REVOKED PMT'], dtype=object)"
      ]
     },
     "execution_count": 7,
     "metadata": {},
     "output_type": "execute_result"
    }
   ],
   "source": [
    "df['PERMIT_TYPE'].unique()"
   ]
  },
  {
   "cell_type": "code",
   "execution_count": 8,
   "metadata": {},
   "outputs": [
    {
     "data": {
      "text/plain": [
       "array(['STANDARD PLAN REVIEW', 'SIGN PERMIT', 'SELF CERT',\n",
       "       'EASY PERMIT WEB', 'EASY PERMIT', 'ELECTRICAL PLAN REVIEW',\n",
       "       'DEMOLITION PERMIT', 'CONVEYANCE DEVICE PERMIT',\n",
       "       'TRADITIONAL DEVELOPER SERVICES', 'FIRE PROTECTION SYSTEM',\n",
       "       'DIRECT DEVELOPER SERVICES'], dtype=object)"
      ]
     },
     "execution_count": 8,
     "metadata": {},
     "output_type": "execute_result"
    }
   ],
   "source": [
    "df['REVIEW_TYPE'].unique()"
   ]
  },
  {
   "attachments": {},
   "cell_type": "markdown",
   "metadata": {},
   "source": [
    "* WORK_DESCRIPTION will be the main column of study in this notebook"
   ]
  },
  {
   "cell_type": "code",
   "execution_count": 9,
   "metadata": {},
   "outputs": [],
   "source": [
    "description_series=df['WORK_DESCRIPTION']"
   ]
  },
  {
   "cell_type": "code",
   "execution_count": 10,
   "metadata": {},
   "outputs": [
    {
     "data": {
      "text/plain": [
       "pandas.core.series.Series"
      ]
     },
     "execution_count": 10,
     "metadata": {},
     "output_type": "execute_result"
    }
   ],
   "source": [
    "type(description_series)"
   ]
  },
  {
   "attachments": {},
   "cell_type": "markdown",
   "metadata": {},
   "source": [
    "***\n",
    "<center><h2 id=\"identifier_1\">all_descriptions</h2><center>"
   ]
  },
  {
   "attachments": {},
   "cell_type": "markdown",
   "metadata": {},
   "source": [
    "* We will start by looking at the descriptions of all projects"
   ]
  },
  {
   "cell_type": "code",
   "execution_count": 11,
   "metadata": {},
   "outputs": [],
   "source": [
    "#define tokenizer\n",
    "STOP_WORDS = stopwords.words('english')\n",
    "\n",
    "def my_tokenizer(document,nouns_only=False):\n",
    "    # rset to lower case (note, removing punctuation is not necessary in our case, bacause we would be using a regex patter to extract toke)\n",
    "    document = document.lower()\n",
    "\n",
    "    # pattern denoting a sequence of at least 2 alphanumeric characters \n",
    "    pattern=r\"(?u)\\b\\w\\w+\\b\"\n",
    "\n",
    "    # tokenize - split by matching a pattern\n",
    "    tokenized_document = re.findall(pattern, document)\n",
    "\n",
    "    # tokenized_document contains a list of tokens from the document\n",
    "    # ['....','....','....']\n",
    "\n",
    "    if nouns_only:\n",
    "        # Tag each token with its part of speech\n",
    "        tagged_words = pos_tag(tokenized_document)\n",
    "\n",
    "        # Extract only the nouns from the sentence\n",
    "        tokenized_document = [word for (word, pos) in tagged_words if pos.startswith('N')]\n",
    "    \n",
    "    listof_words_result = []\n",
    "\n",
    "    # remove stopwords and any tokens that contain only digits\n",
    "    for word in tokenized_document:\n",
    "        if (not word in STOP_WORDS) & (not bool(re.search('\\d', word))):\n",
    "            stemmer = PorterStemmer()\n",
    "            stemmed_word = stemmer.stem(word)\n",
    "            listof_words_result.append(stemmed_word)\n",
    "            #listof_words.append(word)\n",
    "        else:\n",
    "            continue\n",
    "\n",
    "    return listof_words_result"
   ]
  },
  {
   "attachments": {},
   "cell_type": "markdown",
   "metadata": {},
   "source": [
    "---\n",
    "<center><h2 id=\"identifier_1\">TfidfVectorizer</h2><center>"
   ]
  },
  {
   "cell_type": "code",
   "execution_count": 12,
   "metadata": {},
   "outputs": [
    {
     "data": {
      "text/plain": [
       "'#0.05 --> 5% of the documents\\nvect = TfidfVectorizer(tokenizer=lambda document: my_tokenizer(document, nouns_only=True),min_df=0.0001)\\nwords_tranformed=vect.fit_transform(description_series)\\n\\nprint(words_tranformed.shape)'"
      ]
     },
     "execution_count": 12,
     "metadata": {},
     "output_type": "execute_result"
    }
   ],
   "source": [
    "### THIS CODE BLOCK IS COMMENTED OUT BECAUSE TAKES TOO LONG TO RUN. THE OUTPUT WAS PICKELED AND LOADED BACK\n",
    "'''#0.05 --> 5% of the documents\n",
    "vect = TfidfVectorizer(tokenizer=lambda document: my_tokenizer(document, nouns_only=True),min_df=0.0001)\n",
    "words_tranformed=vect.fit_transform(description_series)\n",
    "\n",
    "print(words_tranformed.shape)'''\n",
    "\n",
    "#joblib.dump(words_tranformed, '../data/interim/further_nlp_exploration/matrix_nouns_all.pkl')\n",
    "#joblib.dump(bagofwords, '../data/interim/further_nlp_exploration/vector_nouns_all.pkl')"
   ]
  },
  {
   "cell_type": "code",
   "execution_count": 13,
   "metadata": {},
   "outputs": [],
   "source": [
    "words_tranformed=joblib.load('../data/interim/further_nlp_exploration/matrix_nouns_all.pkl')\n",
    "bagofwords=joblib.load('../data/interim/further_nlp_exploration/vector_nouns_all.pkl')"
   ]
  },
  {
   "attachments": {},
   "cell_type": "markdown",
   "metadata": {},
   "source": [
    "---\n",
    "<center><h2 id=\"identifier_1\">LatentDirichletAllocation</h2><center>"
   ]
  },
  {
   "attachments": {},
   "cell_type": "markdown",
   "metadata": {},
   "source": [
    "* Fitting LDA for 7 topics"
   ]
  },
  {
   "cell_type": "code",
   "execution_count": 14,
   "metadata": {},
   "outputs": [
    {
     "data": {
      "text/plain": [
       "'# fit the LDA topic model\\nlda = LatentDirichletAllocation(n_components=7, max_iter=30,random_state=1,verbose=1)\\nlda.fit(words_tranformed)'"
      ]
     },
     "execution_count": 14,
     "metadata": {},
     "output_type": "execute_result"
    }
   ],
   "source": [
    "### THIS CODE BLOCK IS COMMENTED OUT BECAUSE TAKES TOO LONG TO RUN. THE OUTPUT WAS PICKELED AND LOADED BACK\n",
    "'''# fit the LDA topic model\n",
    "lda = LatentDirichletAllocation(n_components=7, max_iter=30,random_state=1,verbose=1)\n",
    "lda.fit(words_tranformed)'''\n",
    "\n",
    "#joblib.dump(lda, '../data/interim/further_nlp_exploration/lda_nouns_all.pkl')"
   ]
  },
  {
   "cell_type": "code",
   "execution_count": 15,
   "metadata": {},
   "outputs": [],
   "source": [
    "lda=joblib.load('../data/interim/further_nlp_exploration/lda_nouns_all.pkl')"
   ]
  },
  {
   "cell_type": "code",
   "execution_count": 16,
   "metadata": {},
   "outputs": [
    {
     "name": "stdout",
     "output_type": "stream",
     "text": [
      "Topic #0 words: floor work field inspect space alter plan offic permit\n",
      "Topic #1 words: porch plan wood stori repair famili stair violat deck\n",
      "Topic #2 words: contractor chang wreck revis stori permit frame resid elev\n",
      "Topic #3 words: roof fixtur panel outlet circuit switch light unit furnac\n",
      "Topic #4 words: garag sign elev fenc wall qti scaffold letter work\n",
      "Topic #5 words: servic voltag alarm instal meter system amp interior work\n",
      "Topic #6 words: mainten permit heater water replac month antenna march april\n"
     ]
    }
   ],
   "source": [
    "# for each topic, print the the top 10 most representative words\n",
    "words = bagofwords.get_feature_names_out()\n",
    "\n",
    "for i, topic in enumerate(lda.components_):\n",
    "    topic_words = \" \".join([words[j] for j in topic.argsort()[: -10: -1]])\n",
    "    print(f\"Topic #{i} words: {topic_words}\")"
   ]
  },
  {
   "cell_type": "code",
   "execution_count": 17,
   "metadata": {},
   "outputs": [
    {
     "name": "stdout",
     "output_type": "stream",
     "text": [
      "Perplexity: 460.6145244954449\n"
     ]
    }
   ],
   "source": [
    "perplexity = lda.perplexity(words_tranformed)\n",
    "print(\"Perplexity:\", perplexity)"
   ]
  },
  {
   "attachments": {},
   "cell_type": "markdown",
   "metadata": {},
   "source": [
    "A perplexity score of 460 is generally considered low, suggesting that the LDA model fails to provide meaningful topic allocations.\n",
    "\n",
    "To address this issue, we have two potential approaches: \n",
    "* firstly, we can adjust the number of topics we aim to identify, in the hope of achieving better model fits; \n",
    "* alternatively, we can refine the dataset by pre-selecting specific project types, allowing us to focus our analysis on a more targeted subset"
   ]
  },
  {
   "attachments": {},
   "cell_type": "markdown",
   "metadata": {},
   "source": [
    "---"
   ]
  },
  {
   "attachments": {},
   "cell_type": "markdown",
   "metadata": {},
   "source": [
    "## RENOVATION/ALTERATION\n",
    "* Let's consider RENOVATION/ALTERATION project type"
   ]
  },
  {
   "attachments": {},
   "cell_type": "markdown",
   "metadata": {},
   "source": [
    "*-----------------------------------------------------------*\n",
    "### LDA"
   ]
  },
  {
   "cell_type": "code",
   "execution_count": 18,
   "metadata": {},
   "outputs": [],
   "source": [
    "# filter the dataframe to only include RENOVATION/ALTERATION permit type\n",
    "renovation_description_series=df[df['PERMIT_TYPE']=='RENOVATION/ALTERATION']['WORK_DESCRIPTION'].reset_index(drop=True)"
   ]
  },
  {
   "cell_type": "code",
   "execution_count": 19,
   "metadata": {},
   "outputs": [
    {
     "data": {
      "text/plain": [
       "0         INTERIOR REMODELING OF EXISTING 3 D.U. PER PLA...\n",
       "1         Interior alteration of existing partial 34th f...\n",
       "2         Interior alterations to the retail space on th...\n",
       "3         DECOVERT EXISTING 11 DU APARTMENT TO 10 DU AS ...\n",
       "4         REPLACE 2 EXISTING WOOD PORCHES (SAME CONFIGUR...\n",
       "                                ...                        \n",
       "146849    SPR 2019 CBC. REVISION TO 100992339. BASEMENT ...\n",
       "146850    REMOVE/REPLACE FRONT AND REAR WOOD STEPS, INTE...\n",
       "146851    INTERIOR REMODEL OF EXISTING TWO FAMILY RESIDE...\n",
       "146852    [SELF-CERTIFICATION 2019 CBRC:] REVISION TO TH...\n",
       "146853    NEW-(3) ANTENNAS, NEW (6) RADIO UNITS WITH ASS...\n",
       "Name: WORK_DESCRIPTION, Length: 146854, dtype: object"
      ]
     },
     "execution_count": 19,
     "metadata": {},
     "output_type": "execute_result"
    }
   ],
   "source": [
    "#preview the descriptions for RENOVATION/ALTERATION permit type\n",
    "renovation_description_series"
   ]
  },
  {
   "attachments": {},
   "cell_type": "markdown",
   "metadata": {},
   "source": [
    "* Refit TfidfCectorizer on RENOVATION/ALTERATION permit type"
   ]
  },
  {
   "cell_type": "code",
   "execution_count": 20,
   "metadata": {},
   "outputs": [
    {
     "name": "stdout",
     "output_type": "stream",
     "text": [
      "(146854, 494)\n"
     ]
    }
   ],
   "source": [
    "vectorizer = TfidfVectorizer(tokenizer=lambda document: my_tokenizer(document, nouns_only=True),min_df=0.001)\n",
    "renovation_matrix=vectorizer.fit_transform(renovation_description_series)\n",
    "print(renovation_matrix.shape)"
   ]
  },
  {
   "cell_type": "code",
   "execution_count": 21,
   "metadata": {},
   "outputs": [],
   "source": [
    "#aggregate tfidf_scores to find the most occuring words\n",
    "vocab_di = {k: v for k, v in zip(vectorizer.get_feature_names_out(), renovation_matrix.toarray().sum(axis=0))}\n",
    "vocab_df=pd.DataFrame(vocab_di,index=['tfidf_scores']).T"
   ]
  },
  {
   "attachments": {},
   "cell_type": "markdown",
   "metadata": {},
   "source": [
    "* Preview 20 most occuring words"
   ]
  },
  {
   "cell_type": "code",
   "execution_count": 22,
   "metadata": {},
   "outputs": [
    {
     "data": {
      "text/html": [
       "<div>\n",
       "<style scoped>\n",
       "    .dataframe tbody tr th:only-of-type {\n",
       "        vertical-align: middle;\n",
       "    }\n",
       "\n",
       "    .dataframe tbody tr th {\n",
       "        vertical-align: top;\n",
       "    }\n",
       "\n",
       "    .dataframe thead th {\n",
       "        text-align: right;\n",
       "    }\n",
       "</style>\n",
       "<table border=\"1\" class=\"dataframe\">\n",
       "  <thead>\n",
       "    <tr style=\"text-align: right;\">\n",
       "      <th></th>\n",
       "      <th>tfidf_scores</th>\n",
       "    </tr>\n",
       "  </thead>\n",
       "  <tbody>\n",
       "    <tr>\n",
       "      <th>plan</th>\n",
       "      <td>14760.438855</td>\n",
       "    </tr>\n",
       "    <tr>\n",
       "      <th>porch</th>\n",
       "      <td>13095.013725</td>\n",
       "    </tr>\n",
       "    <tr>\n",
       "      <th>stori</th>\n",
       "      <td>9377.984468</td>\n",
       "    </tr>\n",
       "    <tr>\n",
       "      <th>wood</th>\n",
       "      <td>9260.176920</td>\n",
       "    </tr>\n",
       "    <tr>\n",
       "      <th>floor</th>\n",
       "      <td>8950.144244</td>\n",
       "    </tr>\n",
       "  </tbody>\n",
       "</table>\n",
       "</div>"
      ],
      "text/plain": [
       "       tfidf_scores\n",
       "plan   14760.438855\n",
       "porch  13095.013725\n",
       "stori   9377.984468\n",
       "wood    9260.176920\n",
       "floor   8950.144244"
      ]
     },
     "execution_count": 22,
     "metadata": {},
     "output_type": "execute_result"
    }
   ],
   "source": [
    "vocab_df.sort_values('tfidf_scores',ascending=False)[:5]"
   ]
  },
  {
   "attachments": {},
   "cell_type": "markdown",
   "metadata": {},
   "source": [
    "* To perform topic modeling specifically on the 'Renovation/Alteration' permit type, we will fit an LDA model with **3** topics.\n",
    "* A lot of the topics seem to be surrounding the word 'porch'\n",
    "* Some topics 'antennas equipment install site wireless tmobile previous swapping rrhs rrus' and 'antennas facility wireless communications equipment radios associated sprint cabling sector' similar to electrical wiring\n",
    "* One should note that while these are topics in Renovation Permits a lot of the topics appear to be maintenance related, rather than maintenance-related, rather than renovation-related\n",
    "* Further analysis would be needed to determine the significance of these topics, but it is clear that there is more information that can be extracted when analyzing building permits data since the pre-described features are limited by the way data is recorded.\n",
    "  "
   ]
  },
  {
   "cell_type": "code",
   "execution_count": 23,
   "metadata": {},
   "outputs": [
    {
     "name": "stdout",
     "output_type": "stream",
     "text": [
      "iteration: 1 of max_iter: 30\n",
      "iteration: 2 of max_iter: 30\n",
      "iteration: 3 of max_iter: 30\n",
      "iteration: 4 of max_iter: 30\n",
      "iteration: 5 of max_iter: 30\n",
      "iteration: 6 of max_iter: 30\n",
      "iteration: 7 of max_iter: 30\n",
      "iteration: 8 of max_iter: 30\n",
      "iteration: 9 of max_iter: 30\n",
      "iteration: 10 of max_iter: 30\n",
      "iteration: 11 of max_iter: 30\n",
      "iteration: 12 of max_iter: 30\n",
      "iteration: 13 of max_iter: 30\n",
      "iteration: 14 of max_iter: 30\n",
      "iteration: 15 of max_iter: 30\n",
      "iteration: 16 of max_iter: 30\n",
      "iteration: 17 of max_iter: 30\n",
      "iteration: 18 of max_iter: 30\n",
      "iteration: 19 of max_iter: 30\n",
      "iteration: 20 of max_iter: 30\n",
      "iteration: 21 of max_iter: 30\n",
      "iteration: 22 of max_iter: 30\n",
      "iteration: 23 of max_iter: 30\n",
      "iteration: 24 of max_iter: 30\n",
      "iteration: 25 of max_iter: 30\n",
      "iteration: 26 of max_iter: 30\n",
      "iteration: 27 of max_iter: 30\n",
      "iteration: 28 of max_iter: 30\n",
      "iteration: 29 of max_iter: 30\n",
      "iteration: 30 of max_iter: 30\n"
     ]
    },
    {
     "data": {
      "text/html": [
       "<style>#sk-container-id-1 {color: black;background-color: white;}#sk-container-id-1 pre{padding: 0;}#sk-container-id-1 div.sk-toggleable {background-color: white;}#sk-container-id-1 label.sk-toggleable__label {cursor: pointer;display: block;width: 100%;margin-bottom: 0;padding: 0.3em;box-sizing: border-box;text-align: center;}#sk-container-id-1 label.sk-toggleable__label-arrow:before {content: \"▸\";float: left;margin-right: 0.25em;color: #696969;}#sk-container-id-1 label.sk-toggleable__label-arrow:hover:before {color: black;}#sk-container-id-1 div.sk-estimator:hover label.sk-toggleable__label-arrow:before {color: black;}#sk-container-id-1 div.sk-toggleable__content {max-height: 0;max-width: 0;overflow: hidden;text-align: left;background-color: #f0f8ff;}#sk-container-id-1 div.sk-toggleable__content pre {margin: 0.2em;color: black;border-radius: 0.25em;background-color: #f0f8ff;}#sk-container-id-1 input.sk-toggleable__control:checked~div.sk-toggleable__content {max-height: 200px;max-width: 100%;overflow: auto;}#sk-container-id-1 input.sk-toggleable__control:checked~label.sk-toggleable__label-arrow:before {content: \"▾\";}#sk-container-id-1 div.sk-estimator input.sk-toggleable__control:checked~label.sk-toggleable__label {background-color: #d4ebff;}#sk-container-id-1 div.sk-label input.sk-toggleable__control:checked~label.sk-toggleable__label {background-color: #d4ebff;}#sk-container-id-1 input.sk-hidden--visually {border: 0;clip: rect(1px 1px 1px 1px);clip: rect(1px, 1px, 1px, 1px);height: 1px;margin: -1px;overflow: hidden;padding: 0;position: absolute;width: 1px;}#sk-container-id-1 div.sk-estimator {font-family: monospace;background-color: #f0f8ff;border: 1px dotted black;border-radius: 0.25em;box-sizing: border-box;margin-bottom: 0.5em;}#sk-container-id-1 div.sk-estimator:hover {background-color: #d4ebff;}#sk-container-id-1 div.sk-parallel-item::after {content: \"\";width: 100%;border-bottom: 1px solid gray;flex-grow: 1;}#sk-container-id-1 div.sk-label:hover label.sk-toggleable__label {background-color: #d4ebff;}#sk-container-id-1 div.sk-serial::before {content: \"\";position: absolute;border-left: 1px solid gray;box-sizing: border-box;top: 0;bottom: 0;left: 50%;z-index: 0;}#sk-container-id-1 div.sk-serial {display: flex;flex-direction: column;align-items: center;background-color: white;padding-right: 0.2em;padding-left: 0.2em;position: relative;}#sk-container-id-1 div.sk-item {position: relative;z-index: 1;}#sk-container-id-1 div.sk-parallel {display: flex;align-items: stretch;justify-content: center;background-color: white;position: relative;}#sk-container-id-1 div.sk-item::before, #sk-container-id-1 div.sk-parallel-item::before {content: \"\";position: absolute;border-left: 1px solid gray;box-sizing: border-box;top: 0;bottom: 0;left: 50%;z-index: -1;}#sk-container-id-1 div.sk-parallel-item {display: flex;flex-direction: column;z-index: 1;position: relative;background-color: white;}#sk-container-id-1 div.sk-parallel-item:first-child::after {align-self: flex-end;width: 50%;}#sk-container-id-1 div.sk-parallel-item:last-child::after {align-self: flex-start;width: 50%;}#sk-container-id-1 div.sk-parallel-item:only-child::after {width: 0;}#sk-container-id-1 div.sk-dashed-wrapped {border: 1px dashed gray;margin: 0 0.4em 0.5em 0.4em;box-sizing: border-box;padding-bottom: 0.4em;background-color: white;}#sk-container-id-1 div.sk-label label {font-family: monospace;font-weight: bold;display: inline-block;line-height: 1.2em;}#sk-container-id-1 div.sk-label-container {text-align: center;}#sk-container-id-1 div.sk-container {/* jupyter's `normalize.less` sets `[hidden] { display: none; }` but bootstrap.min.css set `[hidden] { display: none !important; }` so we also need the `!important` here to be able to override the default hidden behavior on the sphinx rendered scikit-learn.org. See: https://github.com/scikit-learn/scikit-learn/issues/21755 */display: inline-block !important;position: relative;}#sk-container-id-1 div.sk-text-repr-fallback {display: none;}</style><div id=\"sk-container-id-1\" class=\"sk-top-container\"><div class=\"sk-text-repr-fallback\"><pre>LatentDirichletAllocation(max_iter=30, n_components=3, random_state=1,\n",
       "                          verbose=1)</pre><b>In a Jupyter environment, please rerun this cell to show the HTML representation or trust the notebook. <br />On GitHub, the HTML representation is unable to render, please try loading this page with nbviewer.org.</b></div><div class=\"sk-container\" hidden><div class=\"sk-item\"><div class=\"sk-estimator sk-toggleable\"><input class=\"sk-toggleable__control sk-hidden--visually\" id=\"sk-estimator-id-1\" type=\"checkbox\" checked><label for=\"sk-estimator-id-1\" class=\"sk-toggleable__label sk-toggleable__label-arrow\">LatentDirichletAllocation</label><div class=\"sk-toggleable__content\"><pre>LatentDirichletAllocation(max_iter=30, n_components=3, random_state=1,\n",
       "                          verbose=1)</pre></div></div></div></div></div>"
      ],
      "text/plain": [
       "LatentDirichletAllocation(max_iter=30, n_components=3, random_state=1,\n",
       "                          verbose=1)"
      ]
     },
     "execution_count": 23,
     "metadata": {},
     "output_type": "execute_result"
    }
   ],
   "source": [
    "lda = LatentDirichletAllocation(n_components=3, max_iter=30,random_state=1,verbose=1)\n",
    "lda.fit(renovation_matrix)"
   ]
  },
  {
   "cell_type": "code",
   "execution_count": 24,
   "metadata": {},
   "outputs": [
    {
     "name": "stdout",
     "output_type": "stream",
     "text": [
      "Perplexity: 201.80017013401414\n"
     ]
    }
   ],
   "source": [
    "#check perplexity\n",
    "perplexity = lda.perplexity(renovation_matrix)\n",
    "print(\"Perplexity:\", perplexity)"
   ]
  },
  {
   "attachments": {},
   "cell_type": "markdown",
   "metadata": {},
   "source": [
    "The score is improved but still considered low and unlikely to boost the model performance significantly\n",
    "* 1 - refit on all words not just the nouns\n",
    "* 1b. - test LDA on more topics (20)\n",
    "* 2 - compare LDA to HDP"
   ]
  },
  {
   "cell_type": "code",
   "execution_count": 25,
   "metadata": {},
   "outputs": [
    {
     "name": "stdout",
     "output_type": "stream",
     "text": [
      "Topic #0 words: porch wood plan stair repair locat size stori deck\n",
      "Topic #1 words: unit stori plan famili addit resid basement build alter\n",
      "Topic #2 words: space offic floor alter self use cert chang plan\n"
     ]
    }
   ],
   "source": [
    "#print topics\n",
    "words = vectorizer.get_feature_names_out()\n",
    "\n",
    "for i, topic in enumerate(lda.components_):\n",
    "    topic_words = \" \".join([words[j] for j in topic.argsort()[: -10: -1]])\n",
    "    print(f\"Topic #{i} words: {topic_words}\")"
   ]
  },
  {
   "attachments": {},
   "cell_type": "markdown",
   "metadata": {},
   "source": [
    "*-----------------------------------------------------------*\n",
    "### 1a. All words\n",
    "Let's try refitting on all words, not just nouns to compare the performance"
   ]
  },
  {
   "cell_type": "code",
   "execution_count": 26,
   "metadata": {},
   "outputs": [
    {
     "name": "stdout",
     "output_type": "stream",
     "text": [
      "(146854, 712)\n"
     ]
    }
   ],
   "source": [
    "vectorizer_all = TfidfVectorizer(tokenizer=my_tokenizer,min_df=0.001)\n",
    "renovation_matrix_all_words=vectorizer_all.fit_transform(renovation_description_series)\n",
    "print(renovation_matrix_all_words.shape)"
   ]
  },
  {
   "cell_type": "code",
   "execution_count": 27,
   "metadata": {},
   "outputs": [
    {
     "name": "stdout",
     "output_type": "stream",
     "text": [
      "iteration: 1 of max_iter: 30\n",
      "iteration: 2 of max_iter: 30\n",
      "iteration: 3 of max_iter: 30\n",
      "iteration: 4 of max_iter: 30\n",
      "iteration: 5 of max_iter: 30\n",
      "iteration: 6 of max_iter: 30\n",
      "iteration: 7 of max_iter: 30\n",
      "iteration: 8 of max_iter: 30\n",
      "iteration: 9 of max_iter: 30\n",
      "iteration: 10 of max_iter: 30\n",
      "iteration: 11 of max_iter: 30\n",
      "iteration: 12 of max_iter: 30\n",
      "iteration: 13 of max_iter: 30\n",
      "iteration: 14 of max_iter: 30\n",
      "iteration: 15 of max_iter: 30\n",
      "iteration: 16 of max_iter: 30\n",
      "iteration: 17 of max_iter: 30\n",
      "iteration: 18 of max_iter: 30\n",
      "iteration: 19 of max_iter: 30\n",
      "iteration: 20 of max_iter: 30\n",
      "iteration: 21 of max_iter: 30\n",
      "iteration: 22 of max_iter: 30\n",
      "iteration: 23 of max_iter: 30\n",
      "iteration: 24 of max_iter: 30\n",
      "iteration: 25 of max_iter: 30\n",
      "iteration: 26 of max_iter: 30\n",
      "iteration: 27 of max_iter: 30\n",
      "iteration: 28 of max_iter: 30\n",
      "iteration: 29 of max_iter: 30\n",
      "iteration: 30 of max_iter: 30\n"
     ]
    },
    {
     "data": {
      "text/html": [
       "<style>#sk-container-id-2 {color: black;background-color: white;}#sk-container-id-2 pre{padding: 0;}#sk-container-id-2 div.sk-toggleable {background-color: white;}#sk-container-id-2 label.sk-toggleable__label {cursor: pointer;display: block;width: 100%;margin-bottom: 0;padding: 0.3em;box-sizing: border-box;text-align: center;}#sk-container-id-2 label.sk-toggleable__label-arrow:before {content: \"▸\";float: left;margin-right: 0.25em;color: #696969;}#sk-container-id-2 label.sk-toggleable__label-arrow:hover:before {color: black;}#sk-container-id-2 div.sk-estimator:hover label.sk-toggleable__label-arrow:before {color: black;}#sk-container-id-2 div.sk-toggleable__content {max-height: 0;max-width: 0;overflow: hidden;text-align: left;background-color: #f0f8ff;}#sk-container-id-2 div.sk-toggleable__content pre {margin: 0.2em;color: black;border-radius: 0.25em;background-color: #f0f8ff;}#sk-container-id-2 input.sk-toggleable__control:checked~div.sk-toggleable__content {max-height: 200px;max-width: 100%;overflow: auto;}#sk-container-id-2 input.sk-toggleable__control:checked~label.sk-toggleable__label-arrow:before {content: \"▾\";}#sk-container-id-2 div.sk-estimator input.sk-toggleable__control:checked~label.sk-toggleable__label {background-color: #d4ebff;}#sk-container-id-2 div.sk-label input.sk-toggleable__control:checked~label.sk-toggleable__label {background-color: #d4ebff;}#sk-container-id-2 input.sk-hidden--visually {border: 0;clip: rect(1px 1px 1px 1px);clip: rect(1px, 1px, 1px, 1px);height: 1px;margin: -1px;overflow: hidden;padding: 0;position: absolute;width: 1px;}#sk-container-id-2 div.sk-estimator {font-family: monospace;background-color: #f0f8ff;border: 1px dotted black;border-radius: 0.25em;box-sizing: border-box;margin-bottom: 0.5em;}#sk-container-id-2 div.sk-estimator:hover {background-color: #d4ebff;}#sk-container-id-2 div.sk-parallel-item::after {content: \"\";width: 100%;border-bottom: 1px solid gray;flex-grow: 1;}#sk-container-id-2 div.sk-label:hover label.sk-toggleable__label {background-color: #d4ebff;}#sk-container-id-2 div.sk-serial::before {content: \"\";position: absolute;border-left: 1px solid gray;box-sizing: border-box;top: 0;bottom: 0;left: 50%;z-index: 0;}#sk-container-id-2 div.sk-serial {display: flex;flex-direction: column;align-items: center;background-color: white;padding-right: 0.2em;padding-left: 0.2em;position: relative;}#sk-container-id-2 div.sk-item {position: relative;z-index: 1;}#sk-container-id-2 div.sk-parallel {display: flex;align-items: stretch;justify-content: center;background-color: white;position: relative;}#sk-container-id-2 div.sk-item::before, #sk-container-id-2 div.sk-parallel-item::before {content: \"\";position: absolute;border-left: 1px solid gray;box-sizing: border-box;top: 0;bottom: 0;left: 50%;z-index: -1;}#sk-container-id-2 div.sk-parallel-item {display: flex;flex-direction: column;z-index: 1;position: relative;background-color: white;}#sk-container-id-2 div.sk-parallel-item:first-child::after {align-self: flex-end;width: 50%;}#sk-container-id-2 div.sk-parallel-item:last-child::after {align-self: flex-start;width: 50%;}#sk-container-id-2 div.sk-parallel-item:only-child::after {width: 0;}#sk-container-id-2 div.sk-dashed-wrapped {border: 1px dashed gray;margin: 0 0.4em 0.5em 0.4em;box-sizing: border-box;padding-bottom: 0.4em;background-color: white;}#sk-container-id-2 div.sk-label label {font-family: monospace;font-weight: bold;display: inline-block;line-height: 1.2em;}#sk-container-id-2 div.sk-label-container {text-align: center;}#sk-container-id-2 div.sk-container {/* jupyter's `normalize.less` sets `[hidden] { display: none; }` but bootstrap.min.css set `[hidden] { display: none !important; }` so we also need the `!important` here to be able to override the default hidden behavior on the sphinx rendered scikit-learn.org. See: https://github.com/scikit-learn/scikit-learn/issues/21755 */display: inline-block !important;position: relative;}#sk-container-id-2 div.sk-text-repr-fallback {display: none;}</style><div id=\"sk-container-id-2\" class=\"sk-top-container\"><div class=\"sk-text-repr-fallback\"><pre>LatentDirichletAllocation(max_iter=30, n_components=3, random_state=1,\n",
       "                          verbose=1)</pre><b>In a Jupyter environment, please rerun this cell to show the HTML representation or trust the notebook. <br />On GitHub, the HTML representation is unable to render, please try loading this page with nbviewer.org.</b></div><div class=\"sk-container\" hidden><div class=\"sk-item\"><div class=\"sk-estimator sk-toggleable\"><input class=\"sk-toggleable__control sk-hidden--visually\" id=\"sk-estimator-id-2\" type=\"checkbox\" checked><label for=\"sk-estimator-id-2\" class=\"sk-toggleable__label sk-toggleable__label-arrow\">LatentDirichletAllocation</label><div class=\"sk-toggleable__content\"><pre>LatentDirichletAllocation(max_iter=30, n_components=3, random_state=1,\n",
       "                          verbose=1)</pre></div></div></div></div></div>"
      ],
      "text/plain": [
       "LatentDirichletAllocation(max_iter=30, n_components=3, random_state=1,\n",
       "                          verbose=1)"
      ]
     },
     "execution_count": 27,
     "metadata": {},
     "output_type": "execute_result"
    }
   ],
   "source": [
    "lda_all_words = LatentDirichletAllocation(n_components=3, max_iter=30,random_state=1,verbose=1)\n",
    "lda_all_words.fit(renovation_matrix_all_words)"
   ]
  },
  {
   "cell_type": "code",
   "execution_count": 28,
   "metadata": {},
   "outputs": [
    {
     "name": "stdout",
     "output_type": "stream",
     "text": [
      "Perplexity: 272.87602897499846\n"
     ]
    }
   ],
   "source": [
    "#check perplexity\n",
    "perplexity = lda_all_words.perplexity(renovation_matrix_all_words)\n",
    "print(\"Perplexity:\", perplexity)"
   ]
  },
  {
   "attachments": {},
   "cell_type": "markdown",
   "metadata": {},
   "source": [
    "*-----------------------------------------------------------*\n",
    "### 1b. All words -- 20 topics"
   ]
  },
  {
   "cell_type": "code",
   "execution_count": 29,
   "metadata": {},
   "outputs": [
    {
     "name": "stdout",
     "output_type": "stream",
     "text": [
      "iteration: 1 of max_iter: 30\n",
      "iteration: 2 of max_iter: 30\n",
      "iteration: 3 of max_iter: 30\n",
      "iteration: 4 of max_iter: 30\n",
      "iteration: 5 of max_iter: 30\n",
      "iteration: 6 of max_iter: 30\n",
      "iteration: 7 of max_iter: 30\n",
      "iteration: 8 of max_iter: 30\n",
      "iteration: 9 of max_iter: 30\n",
      "iteration: 10 of max_iter: 30\n",
      "iteration: 11 of max_iter: 30\n",
      "iteration: 12 of max_iter: 30\n",
      "iteration: 13 of max_iter: 30\n",
      "iteration: 14 of max_iter: 30\n",
      "iteration: 15 of max_iter: 30\n",
      "iteration: 16 of max_iter: 30\n",
      "iteration: 17 of max_iter: 30\n",
      "iteration: 18 of max_iter: 30\n",
      "iteration: 19 of max_iter: 30\n",
      "iteration: 20 of max_iter: 30\n",
      "iteration: 21 of max_iter: 30\n",
      "iteration: 22 of max_iter: 30\n",
      "iteration: 23 of max_iter: 30\n",
      "iteration: 24 of max_iter: 30\n",
      "iteration: 25 of max_iter: 30\n",
      "iteration: 26 of max_iter: 30\n",
      "iteration: 27 of max_iter: 30\n",
      "iteration: 28 of max_iter: 30\n",
      "iteration: 29 of max_iter: 30\n",
      "iteration: 30 of max_iter: 30\n"
     ]
    },
    {
     "data": {
      "text/html": [
       "<style>#sk-container-id-3 {color: black;background-color: white;}#sk-container-id-3 pre{padding: 0;}#sk-container-id-3 div.sk-toggleable {background-color: white;}#sk-container-id-3 label.sk-toggleable__label {cursor: pointer;display: block;width: 100%;margin-bottom: 0;padding: 0.3em;box-sizing: border-box;text-align: center;}#sk-container-id-3 label.sk-toggleable__label-arrow:before {content: \"▸\";float: left;margin-right: 0.25em;color: #696969;}#sk-container-id-3 label.sk-toggleable__label-arrow:hover:before {color: black;}#sk-container-id-3 div.sk-estimator:hover label.sk-toggleable__label-arrow:before {color: black;}#sk-container-id-3 div.sk-toggleable__content {max-height: 0;max-width: 0;overflow: hidden;text-align: left;background-color: #f0f8ff;}#sk-container-id-3 div.sk-toggleable__content pre {margin: 0.2em;color: black;border-radius: 0.25em;background-color: #f0f8ff;}#sk-container-id-3 input.sk-toggleable__control:checked~div.sk-toggleable__content {max-height: 200px;max-width: 100%;overflow: auto;}#sk-container-id-3 input.sk-toggleable__control:checked~label.sk-toggleable__label-arrow:before {content: \"▾\";}#sk-container-id-3 div.sk-estimator input.sk-toggleable__control:checked~label.sk-toggleable__label {background-color: #d4ebff;}#sk-container-id-3 div.sk-label input.sk-toggleable__control:checked~label.sk-toggleable__label {background-color: #d4ebff;}#sk-container-id-3 input.sk-hidden--visually {border: 0;clip: rect(1px 1px 1px 1px);clip: rect(1px, 1px, 1px, 1px);height: 1px;margin: -1px;overflow: hidden;padding: 0;position: absolute;width: 1px;}#sk-container-id-3 div.sk-estimator {font-family: monospace;background-color: #f0f8ff;border: 1px dotted black;border-radius: 0.25em;box-sizing: border-box;margin-bottom: 0.5em;}#sk-container-id-3 div.sk-estimator:hover {background-color: #d4ebff;}#sk-container-id-3 div.sk-parallel-item::after {content: \"\";width: 100%;border-bottom: 1px solid gray;flex-grow: 1;}#sk-container-id-3 div.sk-label:hover label.sk-toggleable__label {background-color: #d4ebff;}#sk-container-id-3 div.sk-serial::before {content: \"\";position: absolute;border-left: 1px solid gray;box-sizing: border-box;top: 0;bottom: 0;left: 50%;z-index: 0;}#sk-container-id-3 div.sk-serial {display: flex;flex-direction: column;align-items: center;background-color: white;padding-right: 0.2em;padding-left: 0.2em;position: relative;}#sk-container-id-3 div.sk-item {position: relative;z-index: 1;}#sk-container-id-3 div.sk-parallel {display: flex;align-items: stretch;justify-content: center;background-color: white;position: relative;}#sk-container-id-3 div.sk-item::before, #sk-container-id-3 div.sk-parallel-item::before {content: \"\";position: absolute;border-left: 1px solid gray;box-sizing: border-box;top: 0;bottom: 0;left: 50%;z-index: -1;}#sk-container-id-3 div.sk-parallel-item {display: flex;flex-direction: column;z-index: 1;position: relative;background-color: white;}#sk-container-id-3 div.sk-parallel-item:first-child::after {align-self: flex-end;width: 50%;}#sk-container-id-3 div.sk-parallel-item:last-child::after {align-self: flex-start;width: 50%;}#sk-container-id-3 div.sk-parallel-item:only-child::after {width: 0;}#sk-container-id-3 div.sk-dashed-wrapped {border: 1px dashed gray;margin: 0 0.4em 0.5em 0.4em;box-sizing: border-box;padding-bottom: 0.4em;background-color: white;}#sk-container-id-3 div.sk-label label {font-family: monospace;font-weight: bold;display: inline-block;line-height: 1.2em;}#sk-container-id-3 div.sk-label-container {text-align: center;}#sk-container-id-3 div.sk-container {/* jupyter's `normalize.less` sets `[hidden] { display: none; }` but bootstrap.min.css set `[hidden] { display: none !important; }` so we also need the `!important` here to be able to override the default hidden behavior on the sphinx rendered scikit-learn.org. See: https://github.com/scikit-learn/scikit-learn/issues/21755 */display: inline-block !important;position: relative;}#sk-container-id-3 div.sk-text-repr-fallback {display: none;}</style><div id=\"sk-container-id-3\" class=\"sk-top-container\"><div class=\"sk-text-repr-fallback\"><pre>LatentDirichletAllocation(max_iter=30, n_components=20, random_state=1,\n",
       "                          verbose=1)</pre><b>In a Jupyter environment, please rerun this cell to show the HTML representation or trust the notebook. <br />On GitHub, the HTML representation is unable to render, please try loading this page with nbviewer.org.</b></div><div class=\"sk-container\" hidden><div class=\"sk-item\"><div class=\"sk-estimator sk-toggleable\"><input class=\"sk-toggleable__control sk-hidden--visually\" id=\"sk-estimator-id-3\" type=\"checkbox\" checked><label for=\"sk-estimator-id-3\" class=\"sk-toggleable__label sk-toggleable__label-arrow\">LatentDirichletAllocation</label><div class=\"sk-toggleable__content\"><pre>LatentDirichletAllocation(max_iter=30, n_components=20, random_state=1,\n",
       "                          verbose=1)</pre></div></div></div></div></div>"
      ],
      "text/plain": [
       "LatentDirichletAllocation(max_iter=30, n_components=20, random_state=1,\n",
       "                          verbose=1)"
      ]
     },
     "execution_count": 29,
     "metadata": {},
     "output_type": "execute_result"
    }
   ],
   "source": [
    "lda_all_words_20 = LatentDirichletAllocation(n_components=20, max_iter=30,random_state=1,verbose=1)\n",
    "lda_all_words_20.fit(renovation_matrix_all_words)"
   ]
  },
  {
   "cell_type": "code",
   "execution_count": 30,
   "metadata": {},
   "outputs": [
    {
     "name": "stdout",
     "output_type": "stream",
     "text": [
      "Perplexity: 463.27574552787235\n"
     ]
    }
   ],
   "source": [
    "#check perplexity\n",
    "perplexity = lda_all_words_20.perplexity(renovation_matrix_all_words)\n",
    "print(\"Perplexity:\", perplexity)"
   ]
  },
  {
   "attachments": {},
   "cell_type": "markdown",
   "metadata": {},
   "source": [
    "* The score went down when fitting on all words as opposed to only the nouns. but this was for 3 topics only, \n",
    "* let's try increasing the number of topics drastically to see what effffect it has on the perplexity score"
   ]
  },
  {
   "attachments": {},
   "cell_type": "markdown",
   "metadata": {},
   "source": [
    "---\n",
    "### 2. Hierarchical Dirichlet Process (HDP)"
   ]
  },
  {
   "attachments": {},
   "cell_type": "markdown",
   "metadata": {},
   "source": [
    "We will be using HdpModel from gensim to conduct Hierarchical Dirichlet Process (HDP).</br>\n",
    "The format to fit the model is as follows: **HdpModel(corpus, dictionary)** where:\n",
    "* The **corpus** parameter represents the bag-of-words corpus, which is a collection of documents in the form of a list of lists. \n",
    "    * Each document in the corpus is represented as a list of tuples, \n",
    "    * where **each tuple** contains **a word ID** and **its corresponding frequency** in that document. \n",
    "* The **dictionary** parameter represents the mapping between words and their unique integer IDs. \n",
    "    * It is an instance of the gensim.corpora.Dictionary class. \n",
    "    * The dictionary is used to convert words into their corresponding integer IDs and vice versa. \n",
    "    * It is necessary for training and using the HDP model because the model operates on word IDs rather than the actual words.\n"
   ]
  },
  {
   "cell_type": "code",
   "execution_count": 31,
   "metadata": {},
   "outputs": [],
   "source": [
    "#pip install gensim\n",
    "\n",
    "from gensim.models import LdaModel, LsiModel, HdpModel\n",
    "from gensim.corpora import Dictionary"
   ]
  },
  {
   "attachments": {},
   "cell_type": "markdown",
   "metadata": {},
   "source": [
    "*-----------------------------------------------------------------------------------------------*"
   ]
  },
  {
   "attachments": {},
   "cell_type": "markdown",
   "metadata": {},
   "source": [
    "\n",
    "* The corpus parameter in the HdpModel of Gensim expects a bag-of-words representation of the documents\n",
    "* Refit a count vectorizer instead of Tfidf"
   ]
  },
  {
   "cell_type": "code",
   "execution_count": 32,
   "metadata": {},
   "outputs": [],
   "source": [
    "from gensim.matutils import Sparse2Corpus\n",
    "from gensim import corpora, models\n",
    "\n",
    "# Convert the sparse matrix to a bag-of-words corpus\n",
    "corpus = Sparse2Corpus(renovation_matrix)\n",
    "\n",
    "renovation_nouns=[my_tokenizer(doc,nouns_only=True) for doc in renovation_description_series]\n",
    "dict_LoS = corpora.Dictionary(renovation_nouns)\n",
    "\n",
    "BoW_corpus = [dict_LoS.doc2bow(doc, allow_update=True) for doc in renovation_nouns]"
   ]
  },
  {
   "cell_type": "code",
   "execution_count": 33,
   "metadata": {},
   "outputs": [
    {
     "name": "stdout",
     "output_type": "stream",
     "text": [
      "Dictionary<10681 unique tokens: ['architect', 'plan', 'remodel', 'alter', 'field']...>\n",
      "{'architect': 0, 'plan': 1, 'remodel': 2, 'alter': 3, 'field': 4, 'floor': 5, 'inspect': 6, 'offic': 7, 'permit': 8, 'space': 9, 'apart': 10, 'basement': 11, 'decovert': 12, 'du': 13, 'configur': 14, 'porch': 15, 'wood': 16, 'work': 17, 'conveni': 18, 'per': 19, 'stair': 20, 'bear': 21, 'famili': 22, 'fixtur': 23, 'frame': 24, 'millwork': 25, 'nonload': 26, 'plumb': 27, 'resid': 28, 'wall': 29, 'garag': 30, 'partit': 31, 'remov': 32, 'baghous': 33, 'equip': 34, 'erect': 35, 'foot': 36, 'station': 37, 'steel': 38, 'structur': 39, 'support': 40, 'addit': 41, 'alm': 42, 'em': 43, 'fire': 44, 'loc': 45, 'maint': 46, 'req': 47, 'stori': 48, 'sy': 49, 'deconvert': 50, 'interior': 51, 'bur': 52, 'cn': 53, 'construct': 54, 'demolit': 55, 'insp': 56, 'masonri': 57, 'owner': 58, 'chang': 59, 'renov': 60, 'system': 61, 'verif': 62, 'coffe': 63, 'shop': 64, 'rear': 65, 'damag': 66, 'joist': 67, 'repair': 68, 'water': 69, 'additon': 70, 'eat': 71, 'elec': 72, 'hr': 73, 'build': 74, 'finish': 75, 'ground': 76, 'unit': 77, 'arch': 78, 'bar': 79, 'store': 80, 'deck': 81, 'door': 82, 'dormer': 83, 'front': 84, 'locat': 85, 'size': 86, 'tenant': 87, 'circuit': 88, 'facad': 89, 'instal': 90, 'light': 91, 'metal': 92, 'replac': 93, 'window': 94, 'canopi': 95, 'fenc': 96, 'iron': 97, 'kit': 98, 'sink': 99, 'hvac': 100, 'hospit': 101, 'antenna': 102, 'cabinet': 103, 'cell': 104, 'phone': 105, 'platform': 106, 'roof': 107, 'usag': 108, 'servic': 109, 'area': 110, 'breakroom': 111, 'reloc': 112, 'revis': 113, 'transport': 114, 'room': 115, 'toilet': 116, 'patio': 117, 'bldg': 118, 'confer': 119, 'paint': 120, 'tile': 121, 'base': 122, 'brick': 123, 'cbrc': 124, 'exterior': 125, 'layer': 126, 'restaur': 127, 'sc': 128, 'stone': 129, 'use': 130, 'veneer': 131, 'zone': 132, 'home': 133, 'redecor': 134, 'load': 135, 'bank': 136, 'center': 137, 'storefront': 138, 'gener': 139, 'layout': 140, 'expans': 141, 'irrig': 142, 'lanscap': 143, 'depth': 144, 'elev': 145, 'excav': 146, 'hous': 147, 'pool': 148, 'slab': 149, 'buildingb': 150, 'rehab': 151, 'heat': 152, 'refriger': 153, 'ventil': 154, 'park': 155, 'ramp': 156, 'revison': 157, 'grade': 158, 'sfr': 159, 'exhaust': 160, 'fan': 161, 'scope': 162, 'sqft': 163, 'improv': 164, 'retail': 165, 'suit': 166, 'condo': 167, 'convert': 168, 'entri': 169, 'landmark': 170, 'sf': 171, 'air': 172, 'ft': 173, 'gargar': 174, 'vent': 175, 'homeown': 176, 'side': 177, 'demo': 178, 'cornic': 179, 'detail': 180, 'extens': 181, 'lintel': 182, 'bathroom': 183, 'bedroom': 184, 'kitchen': 185, 'pipe': 186, 'storag': 187, 'nbc': 188, 'tower': 189, 'bsmt': 190, 'beam': 191, 'code': 192, 'column': 193, 'connector': 194, 'guardrail': 195, 'tread': 196, 'lan': 197, 'perp': 198, 'curb': 199, 'face': 200, 'hubbard': 201, 'infil': 202, 'line': 203, 'properti': 204, 'sidewalk': 205, 'st': 206, 'coach': 207, 'total': 208, 'buildout': 209, 'combin': 210, 'emerg': 211, 'level': 212, 'lift': 213, 'vehicl': 214, 'decor': 215, 'jewel': 216, 'osco': 217, 'non': 218, 'access': 219, 'woof': 220, 'bakeri': 221, 'condit': 222, 'steam': 223, 'corridor': 224, 'mock': 225, 'collector': 226, 'dust': 227, 'branch': 228, 'multi': 229, 'hour': 230, 'restraunt': 231, 'touhi': 232, 'classroom': 233, 'cubicl': 234, 'feet': 235, 'duct': 236, 'pet': 237, 'burnham': 238, 'foundat': 239, 'theater': 240, 'indoor': 241, 'warehous': 242, 'enclosur': 243, 'materi': 244, 'int': 245, 'drive': 246, 'street': 247, 'workpermit': 248, 'time': 249, 'portion': 250, 'stri': 251, 'draw': 252, 'drain': 253, 'outlet': 254, 'switch': 255, 'valv': 256, 'research': 257, 'order': 258, 'parapet': 259, 'stop': 260, 'tuckpoint': 261, 'exist': 262, 'furnitur': 263, 'wd': 264, 'sleep': 265, 'common': 266, 'ii': 267, 'jane': 268, 'phase': 269, 'smith': 270, 'washington': 271, 'forc': 272, 'contruct': 273, 'exhibit': 274, 'river': 275, 'walk': 276, 'gate': 277, 'pier': 278, 'shower': 279, 'flr': 280, 'engin': 281, 'struct': 282, 'laboratori': 283, 'loung': 284, 'nurs': 285, 're': 286, 'violat': 287, 'ductwork': 288, 'furnac': 289, 'busi': 290, 'showroom': 291, 'escap': 292, 'point': 293, 'step': 294, 'cotta': 295, 'etc': 296, 'fiber': 297, 'frp': 298, 'panel': 299, 'plastic': 300, 'reinforc': 301, 'restor': 302, 'terra': 303, 'shelter': 304, 'telecommun': 305, 'exit': 306, 'monopol': 307, 'pad': 308, 'issu': 309, 'lobbi': 310, 'mopd': 311, 'amend': 312, 'bay': 313, 'flatwat': 314, 'repai': 315, 'applic': 316, 'rehabilit': 317, 'peer': 318, 'review': 319, 'calumet': 320, 'car': 321, 'element': 322, 'prototyp': 323, 'residenti': 324, 'franklin': 325, 'sute': 326, 'ada': 327, 'lot': 328, 'play': 329, 'playlot': 330, 'haa': 331, 'mayfair': 332, 'kosciuzko': 333, 'furanc': 334, 'bath': 335, 'shape': 336, 'util': 337, 'salon': 338, 'separ': 339, 'subject': 340, 'jackson': 341, 'repalc': 342, 'dryvit': 343, 'adam': 344, 'board': 345, 'concess': 346, 'menu': 347, 'ga': 348, 'fl': 349, 'height': 350, 'modif': 351, 'sprinkler': 352, 'breathway': 353, 'busject': 354, 'enclousr': 355, 'modici': 356, 'open': 357, 'trash': 358, 'drywal': 359, 'closur': 360, 'wast': 361, 'citi': 362, 'correct': 363, 'count': 364, 'masterhead': 365, 'meter': 366, 'power': 367, 'alt': 368, 'basment': 369, 'prepar': 370, 'conficur': 371, 'sale': 372, 'ste': 373, 'riser': 374, 'academi': 375, 'cp': 376, 'group': 377, 'occup': 378, 'playground': 379, 'school': 380, 'spr': 381, 'surfac': 382, 'audio': 383, 'end': 384, 'vidio': 385, 'vinyl': 386, 'balconi': 387, 'assembl': 388, 'class': 389, 'standard': 390, 'accessibl': 391, 'dumbach': 392, 'hall': 393, 'shaft': 394, 'conjunct': 395, 'egress': 396, 'curtain': 397, 'reconfigur': 398, 'alarm': 399, 'ceil': 400, 'protect': 401, 'iii': 402, 'obtiva': 403, 'facil': 404, 'move': 405, 'mezzanin': 406, 'misc': 407, 'entranc': 408, 'sublevel': 409, 'vestibul': 410, 'chanel': 411, 'timber': 412, 'truss': 413, 'women': 414, 'fit': 415, 'upgrad': 416, 'den': 417, 'live': 418, 'stove': 419, 'concret': 420, 'hatch': 421, 'coin': 422, 'laundri': 423, 'cool': 424, 'hut': 425, 'kiosk': 426, 'sunglass': 427, 'chiller': 428, 'stud': 429, 'author': 430, 'health': 431, 'type': 432, 'requir': 433, 'footprint': 434, 'consist': 435, 'dr': 436, 'wacker': 437, 'food': 438, 'number': 439, 'convers': 440, 'pumb': 441, 'bca': 442, 'daniel': 443, 'data': 444, 'form': 445, 'boiler': 446, 'life': 447, 'safeti': 448, 'deconvers': 449, 'elli': 450, 'reorgan': 451, 'airport': 452, 'architectur': 453, 'duplex': 454, 'perimet': 455, 'south': 456, 'truck': 457, 'angl': 458, 'limeston': 459, 'perform': 460, 'sealant': 461, 'shelf': 462, 'hab': 463, 'rafter': 464, 'clare': 465, 'micropil': 466, 'place': 467, 'deli': 468, 'dock': 469, 'onlypermit': 470, 'buildin': 471, 'altert': 472, 'glass': 473, 'cellar': 474, 'mech': 475, 'wine': 476, 'rework': 477, 'condens': 478, 'gfi': 479, 'barb': 480, 'post': 481, 'wire': 482, 'sill': 483, 'poch': 484, 'caulk': 485, 'distribut': 486, 'fish': 487, 'firehous': 488, 'partion': 489, 'dishwash': 490, 'note': 491, 'spection': 492, 'sq': 493, 'penthous': 494, 'hgt': 495, 'reair': 496, 'cafe': 497, 'alley': 498, 'planspermit': 499, 'drug': 500, 'provid': 501, 'gourmet': 502, 'mercantil': 503, 'benefit': 504, 'program': 505, 'statu': 506, 'tier': 507, 'cert': 508, 'self': 509, 'church': 510, 'fee': 511, 'clinic': 512, 'iib': 513, 'prefab': 514, 'project': 515, 'residens': 516, 'compactor': 517, 'complianc': 518, 'pantri': 519, 'dimens': 520, 'bridg': 521, 'detect': 522, 'drainag': 523, 'rooftop': 524, 'smokestack': 525, 'telecom': 526, 'cost': 527, 'daycar': 528, 'cannot': 529, 'modernaz': 530, 'site': 531, 'sae': 532, 'shell': 533, 'blackston': 534, 'hotel': 535, 'link': 536, 'sport': 537, 'connect': 538, 'ib': 539, 'pergola': 540, 'screen': 541, 'terrac': 542, 'chairlift': 543, 'sro': 544, 'provis': 545, 'diesel': 546, 'fuel': 547, 'gallon': 548, 'tank': 549, 'carport': 550, 'bowstr': 551, 'approv': 552, 'attent': 553, 'batteri': 554, 'dept': 555, 'design': 556, 'hair': 557, 'heater': 558, 'item': 559, 'lay': 560, 'logo': 561, 'march': 562, 'schedul': 563, 'sign': 564, 'signag': 565, 'simk': 566, 'submit': 567, 'member': 568, 'rail': 569, 'reinstal': 570, 'ceremoni': 571, 'depart': 572, 'game': 573, 'stage': 574, 'close': 575, 'devic': 576, 'awn': 577, 'strobe': 578, 'men': 579, 'restroom': 580, 'enlarg': 581, 'subjet': 582, 'commun': 583, 'certif': 584, 'industri': 585, 'job': 586, 'thermal': 587, 'train': 588, 'la': 589, 'mansori': 590, 'featur': 591, 'patch': 592, 'rebuild': 593, 'administr': 594, 'cook': 595, 'counti': 596, 'court': 597, 'serveri': 598, 'insul': 599, 'rd': 600, 'header': 601, 'refram': 602, 'restaraunt': 603, 'furr': 604, 'cbc': 605, 'va': 606, 'walkway': 607, 'handler': 608, 'rebuilt': 609, 'emergrnci': 610, 'technolog': 611, 'const': 612, 'iiia': 613, 'drink': 614, 'fountain': 615, 'stairway': 616, 'altir': 617, 'porh': 618, 'guest': 619, 'develop': 620, 'lieu': 621, 'establish': 622, 'massag': 623, 'wrought': 624, 'starbuck': 625, 'banquet': 626, 'handicap': 627, 'alterarion': 628, 'cooridor': 629, 'process': 630, 'therapi': 631, 'chemic': 632, 'clean': 633, 'guard': 634, 'gym': 635, 'refrigir': 636, 'dryer': 637, 'armitag': 638, 'dzlup': 639, 'ed': 640, 'dog': 641, 'high': 642, 'hardwar': 643, 'radiat': 644, 'soffit': 645, 'barber': 646, 'reconstruct': 647, 'hc': 648, 'cement': 649, 'kind': 650, 'stucco': 651, 'sun': 652, 'exisitng': 653, 'bld': 654, 'district': 655, 'rt': 656, 'rack': 657, 'radio': 658, 'sprint': 659, 'streight': 660, 'winder': 661, 'plansno': 662, 'add': 663, 'inter': 664, 'pl': 665, 'pharmaci': 666, 'cv': 667, 'dentist': 668, 'adn': 669, 'master': 670, 'mep': 671, 'scienc': 672, 'teacher': 673, 'top': 674, 'cabl': 675, 'tele': 676, 'smoke': 677, 'stack': 678, 'coax': 679, 'bleacher': 680, 'bleaher': 681, 'iiib': 682, 'care': 683, 'day': 684, 'clearanc': 685, 'head': 686, 'pedway': 687, 'tunnel': 688, 'fer': 689, 'mainten': 690, 'membran': 691, 'hand': 692, 'grind': 693, 'address': 694, 'display': 695, 'model': 696, 'ileg': 697, 'switchgear': 698, 'imag': 699, 'oia': 700, 'chnage': 701, 'part': 702, 'snd': 703, 'mudd': 704, 'rapair': 705, 'suppress': 706, 'donut': 707, 'mart': 708, 'mobil': 709, 'confect': 710, 'labaratori': 711, 'manufactur': 712, 'cooler': 713, 'block': 714, 'cast': 715, 'split': 716, 'carpentri': 717, 'seper': 718, 'renoat': 719, 'kotra': 720, 'sideyard': 721, 'art': 722, 'studio': 723, 'michigan': 724, 'prevent': 725, 'network': 726, 'grill': 727, 'secur': 728, 'rang': 729, 'road': 730, 'cargo': 731, 'handl': 732, 'jj': 733, 'clay': 734, 'pavement': 735, 'compart': 736, 'inspector': 737, 'request': 738, 'collect': 739, 'ref': 740, 'receptacl': 741, 'mcdonald': 742, 'thru': 743, 'adit': 744, 'parit': 745, 'orient': 746, 'staition': 747, 'dumbwait': 748, 'capac': 749, 'handrail': 750, 'landscap': 751, 'cdw': 752, 'matrix': 753, 'pre': 754, 'audit': 755, 'planscondt': 756, 'array': 757, 'print': 758, 'effici': 759, 'elect': 760, 'flue': 761, 'approx': 762, 'porc': 763, 'fireplac': 764, 'yard': 765, 'apt': 766, 'core': 767, 'vacat': 768, 'volum': 769, 'cabint': 770, 'call': 771, 'pole': 772, 'control': 773, 'trap': 774, 'plansreplac': 775, 'staff': 776, 'ope': 777, 'hutch': 778, 'recreat': 779, 'west': 780, 'exg': 781, 'back': 782, 'spicket': 783, 'appart': 784, 'fireproof': 785, 'garden': 786, 'ba': 787, 'bring': 788, 'clark': 789, 'notic': 790, 'eas': 791, 'clad': 792, 'comput': 793, 'demis': 794, 'spece': 795, 'credit': 796, 'patrolmen': 797, 'union': 798, 'flor': 799, 'porchesand': 800, 'restur': 801, 'modifi': 802, 'partiit': 803, 'bi': 804, 'washroom': 805, 'mat': 806, 'minor': 807, 'breach': 808, 'condominium': 809, 'deliveri': 810, 'tube': 811, 'cabinetri': 812, 'chicago': 813, 'trelli': 814, 'stl': 815, 'beer': 816, 'breakfast': 817, 'dinner': 818, 'hood': 819, 'landlord': 820, 'lunch': 821, 'ro': 822, 'salad': 823, 'soup': 824, 'wrap': 825, 'atrium': 826, 'zella': 827, 'subway': 828, 'extend': 829, 'machin': 830, 'plumibng': 831, 'passageway': 832, 'box': 833, 'lic': 834, 'book': 835, 'closet': 836, 'baggag': 837, 'girt': 838, 'mechan': 839, 'case': 840, 'gutter': 841, 'shingl': 842, 'studd': 843, 'coutyard': 844, 'mean': 845, 'fench': 846, 'fenestr': 847, 'storti': 848, 'row': 849, 'paver': 850, 'masnri': 851, 'pluumb': 852, 'staircas': 853, 'sister': 854, 'stoop': 855, 'cicero': 856, 'rtu': 857, 'electr': 858, 'bdlg': 859, 'basketbal': 860, 'ct': 861, 'dubmpster': 862, 'oakley': 863, 'mason': 864, 'unti': 865, 'plumd': 866, 'bu': 867, 'feed': 868, 'conc': 869, 'interor': 870, 'hang': 871, 'airlin': 872, 'japan': 873, 'termin': 874, 'vip': 875, 'aprat': 876, 'buildign': 877, 'calcul': 878, 'tall': 879, 'sunroom': 880, 'land': 881, 'hazard': 882, 'workshop': 883, 'carpet': 884, 'randolph': 885, 'includedpermit': 886, 'chimney': 887, 'eav': 888, 'finial': 889, 'lab': 890, 'healthclub': 891, 'issuanc': 892, 'mix': 893, 'subjec': 894, 'fllor': 895, 'wireless': 896, 'peterson': 897, 'skylight': 898, 'onlycurr': 899, 'athor': 900, 'drop': 901, 'app': 902, 'groceri': 903, 'market': 904, 'jack': 905, 'rehead': 906, 'thermostat': 907, 'run': 908, 'adj': 909, 'partitit': 910, 'pressur': 911, 'recept': 912, 'auto': 913, 'dealership': 914, 'dispens': 915, 'gasolin': 916, 'amp': 917, 'serv': 918, 'divid': 919, 'sub': 920, 'spt': 921, 'bathtub': 922, 'lavatori': 923, 'way': 924, 'reples': 925, 'termit': 926, 'guestroom': 927, 'fininsh': 928, 'interiuor': 929, 'doctor': 930, 'new': 931, 'diplex': 932, 'mount': 933, 'rru': 934, 'convenitnt': 935, 'cap': 936, 'madison': 937, 'arm': 938, 'loction': 939, 'turnstil': 940, 'incl': 941, 'club': 942, 'booth': 943, 'spray': 944, 'nightclub': 945, 'locker': 946, 'mezzinin': 947, 'expanson': 948, 'suspensor': 949, 'counter': 950, 'return': 951, 'clearwir': 952, 'commiss': 953, 'compon': 954, 'content': 955, 'outdoor': 956, 'auditorium': 957, 'seat': 958, 'wheelcahir': 959, 'airhandl': 960, 'pump': 961, 'rerplac': 962, 'legal': 963, 'woood': 964, 'carperntri': 965, 'biii': 966, 'kva': 967, 'voltag': 968, 'merchantil': 969, 'arbor': 970, 'mud': 971, 'server': 972, 'intal': 973, 'cbot': 974, 'mdf': 975, 'storg': 976, 'marque': 977, 'existng': 978, 'midway': 979, 'packag': 980, 'infrastructur': 981, 'pavilion': 982, 'photographi': 983, 'cri': 984, 'demoliton': 985, 'pit': 986, 'ac': 987, 'expand': 988, 'plumbinga': 989, 'brickwork': 990, 'ejector': 991, 'sump': 992, 'workstat': 993, 'impact': 994, 'creat': 995, 'beauti': 996, 'parlor': 997, 'east': 998, 'age': 999, 'children': 1000, 'year': 1001, 'facia': 1002, 'plbg': 1003, 'nail': 1004, 'sheath': 1005, 'belmont': 1006, 'plywood': 1007, 'sheffield': 1008, 'univers': 1009, 'bagag': 1010, 'hold': 1011, 'whit': 1012, 'devis': 1013, 'north': 1014, 'refiger': 1015, 'meet': 1016, 'anesthesia': 1017, 'jone': 1018, 'tabern': 1019, 'enginn': 1020, 'ice': 1021, 'melter': 1022, 'faced': 1023, 'strori': 1024, 'fresco': 1025, 'pont': 1026, 'altern': 1027, 'attach': 1028, 'waiter': 1029, 'gyp': 1030, 'rec': 1031, 'cta': 1032, 'kimbal': 1033, 'statio': 1034, 'fpr': 1035, 'pemrit': 1036, 'addtion': 1037, 'entryway': 1038, 'hardscap': 1039, 'refer': 1040, 'wentworth': 1041, 'epp': 1042, 'owmer': 1043, 'suppli': 1044, 'altor': 1045, 'state': 1046, 'tuck': 1047, 'iia': 1048, 'sane': 1049, 'discript': 1050, 'patient': 1051, 'photovolta': 1052, 'slope': 1053, 'plaster': 1054, 'ivb': 1055, 'function': 1056, 'workroom': 1057, 'antenaa': 1058, 'motorolla': 1059, 'omni': 1060, 'motorola': 1061, 'lime': 1062, 'powder': 1063, 'sujbect': 1064, 'hare': 1065, 'plaza': 1066, 'altera': 1067, 'creation': 1068, 'elav': 1069, 'public': 1070, 'townhom': 1071, 'increas': 1072, 'pitch': 1073, 'reshingl': 1074, 'restructur': 1075, 'strip': 1076, 'penetr': 1077, 'port': 1078, 'proch': 1079, 'gut': 1080, 'residentail': 1081, 'dri': 1082, 'mould': 1083, 'paritit': 1084, 'sewer': 1085, 'buld': 1086, 'partial': 1087, 'washer': 1088, 'section': 1089, 'loadbear': 1090, 'tie': 1091, 'colleg': 1092, 'adjac': 1093, 'turbin': 1094, 'wind': 1095, 'tavern': 1096, 'spin': 1097, 'broadcast': 1098, 'purpos': 1099, 'barrier': 1100, 'laundrymat': 1101, 'damper': 1102, 'sensor': 1103, 'avenu': 1104, 'elston': 1105, 'ht': 1106, 'max': 1107, 'unattach': 1108, 'brows': 1109, 'theauction': 1110, 'davidstea': 1111, 'johnni': 1112, 'rocket': 1113, 'stringer': 1114, 'walmart': 1115, 'inpsect': 1116, 'disconnect': 1117, 'plant': 1118, 'dount': 1119, 'constrict': 1120, 'report': 1121, 'pak': 1122, 'rs': 1123, 'monro': 1124, 'diversey': 1125, 'supercent': 1126, 'futur': 1127, 'transact': 1128, 'remod': 1129, 'cleaner': 1130, 'granit': 1131, 'pathway': 1132, 'one': 1133, 'recori': 1134, 'classif': 1135, 'contractor': 1136, 'width': 1137, 'shoe': 1138, 'soil': 1139, 'millennium': 1140, 'cloth': 1141, 'ashpalt': 1142, 'driveway': 1143, 'enclousur': 1144, 'cx': 1145, 'firewal': 1146, 'iv': 1147, 'relief': 1148, 'sheet': 1149, 'plubm': 1150, 'alterationsreplac': 1151, 'repairnew': 1152, 'electricl': 1153, 'andcorrect': 1154, 'path': 1155, 'ddc': 1156, 'louver': 1157, 'sitework': 1158, 'subtract': 1159, 'wheelchair': 1160, 'stairwel': 1161, 'beverag': 1162, 'cashier': 1163, 'bag': 1164, 'seafood': 1165, 'illinoi': 1166, 'medicin': 1167, 'rubloff': 1168, 'cosmet': 1169, 'cedar': 1170, 'parti': 1171, 'committe': 1172, 'pair': 1173, 'passeng': 1174, 'septemb': 1175, 'test': 1176, 'threshold': 1177, 'vision': 1178, 'weatherstrip': 1179, 'builidng': 1180, 'interio': 1181, 'rm': 1182, 'label': 1183, 'blkdg': 1184, 'hesat': 1185, 'sandwich': 1186, 'chapel': 1187, 'existg': 1188, 'gerad': 1189, 'janitor': 1190, 'bottom': 1191, 'set': 1192, 'surgeri': 1193, 'treatment': 1194, 'half': 1195, 'northeast': 1196, 'trim': 1197, 'planter': 1198, 'contract': 1199, 'dine': 1200, 'stand': 1201, 'cdc': 1202, 'storm': 1203, 'ppad': 1204, 'accordion': 1205, 'wooden': 1206, 'violationsno': 1207, 'cut': 1208, 'gfci': 1209, 'roll': 1210, 'loyola': 1211, 'storey': 1212, 'drybar': 1213, 'shampoo': 1214, 'applianc': 1215, 'person': 1216, 'sanit': 1217, 'ordin': 1218, 'pd': 1219, 'stall': 1220, 'bb': 1221, 'bookstor': 1222, 'pawn': 1223, 'il': 1224, 'lake': 1225, 'shore': 1226, 'trai': 1227, 'yoga': 1228, 'suject': 1229, 'stamp': 1230, 'tenat': 1231, 'gap': 1232, 'captain': 1233, 'hook': 1234, 'approxim': 1235, 'divis': 1236, 'ave': 1237, 'galley': 1238, 'upright': 1239, 'yogurt': 1240, 'victoria': 1241, 'potomac': 1242, 'bodi': 1243, 'plumbung': 1244, 'letter': 1245, 'rise': 1246, 'stipul': 1247, 'kroc': 1248, 'plane': 1249, 'bd': 1250, 'aabnd': 1251, 'christma': 1252, 'daley': 1253, 'tree': 1254, 'altgeld': 1255, 'cha': 1256, 'homesalter': 1257, 'murray': 1258, 'plansse': 1259, 'reatail': 1260, 'bungalow': 1261, 'rockwel': 1262, 'gwb': 1263, 'evan': 1264, 'compliant': 1265, 'offfic': 1266, 'matt': 1267, 'oprn': 1268, 'htg': 1269, 'recontsruct': 1270, 'highris': 1271, 'strengthen': 1272, 'copi': 1273, 'distilleri': 1274, 'product': 1275, 'reproduct': 1276, 'dryclean': 1277, 'pick': 1278, 'chicken': 1279, 'harold': 1280, 'buil': 1281, 'earth': 1282, 'retent': 1283, 'extent': 1284, 'installion': 1285, 'ballroom': 1286, 'concours': 1287, 'cheescak': 1288, 'coachous': 1289, 'lerat': 1290, 'vental': 1291, 'dwell': 1292, 'skirt': 1293, 'crawl': 1294, 'freezer': 1295, 'luminair': 1296, 'rame': 1297, 'hookup': 1298, 'dicken': 1299, 'gf': 1300, 'mezzani': 1301, 'thwe': 1302, 'saw': 1303, 'carri': 1304, 'pizza': 1305, 'regul': 1306, 'premis': 1307, 'sushi': 1308, 'gararg': 1309, 'gargag': 1310, 'welfar': 1311, 'revers': 1312, 'barri': 1313, 'fur': 1314, 'permnit': 1315, 'danc': 1316, 'plumbong': 1317, 'blvd': 1318, 'generatror': 1319, 'cofe': 1320, 'york': 1321, 'anim': 1322, 'co': 1323, 'detector': 1324, 'crack': 1325, 'supporton': 1326, 'leas': 1327, 'vacant': 1328, 'luminari': 1329, 'fom': 1330, 'basmt': 1331, 'peopl': 1332, 'societi': 1333, 'david': 1334, 'tea': 1335, 'wal': 1336, 'resist': 1337, 'hoxton': 1338, 'furnanc': 1339, 'therapist': 1340, 'sevic': 1341, 'liquid': 1342, 'lion': 1343, 'burn': 1344, 'fid': 1345, 'flight': 1346, 'inform': 1347, 'monitor': 1348, 'ticket': 1349, 'vct': 1350, 'prorch': 1351, 'additio': 1352, 'adult': 1353, 'workpatch': 1354, 'junction': 1355, 'plate': 1356, 'bureau': 1357, 'tyco': 1358, 'ledg': 1359, 'dumpster': 1360, 'track': 1361, 'fabric': 1362, 'recep': 1363, 'acc': 1364, 'transform': 1365, 'satellit': 1366, 'stor': 1367, 'pedest': 1368, 'swatch': 1369, 'survey': 1370, 'plam': 1371, 'joint': 1372, 'baseboard': 1373, 'penthouseexist': 1374, 'convent': 1375, 'second': 1376, 'floorplan': 1377, 'bronz': 1378, 'fp': 1379, 'complaint': 1380, 'addison': 1381, 'sourc': 1382, 'worka': 1383, 'commerc': 1384, 'oocup': 1385, 'dx': 1386, 'riverwalk': 1387, 'comnvert': 1388, 'cross': 1389, 'stealth': 1390, 'diffus': 1391, 'casework': 1392, 'argyl': 1393, 'career': 1394, 'br': 1395, 'hardwood': 1396, 'rais': 1397, 'flouresc': 1398, 'remodl': 1399, 'rebuid': 1400, 'up': 1401, 'rennov': 1402, 'swing': 1403, 'currenc': 1404, 'exchang': 1405, 'sam': 1406, 'bench': 1407, 'dialysi': 1408, 'rearwood': 1409, 'greenhous': 1410, 'mortar': 1411, 'washout': 1412, 'oper': 1413, 'loft': 1414, 'paramount': 1415, 'hvc': 1416, 'tiolet': 1417, 'estat': 1418, 'autom': 1419, 'introduc': 1420, 'speed': 1421, 'vaniti': 1422, 'hanger': 1423, 'weld': 1424, 'comm': 1425, 'corner': 1426, 'pour': 1427, 'pu': 1428, 'fume': 1429, 'hi': 1430, 'lo': 1431, 'pe': 1432, 'bracket': 1433, 'ofan': 1434, 'blockbust': 1435, 'john': 1436, 'papa': 1437, 'video': 1438, 'sidr': 1439, 'conveyor': 1440, 'honor': 1441, 'compli': 1442, 'pp': 1443, 'racin': 1444, 'pc': 1445, 'merchandis': 1446, 'hoistway': 1447, 'vanilla': 1448, 'regenc': 1449, 'man': 1450, 'bennett': 1451, 'cpvc': 1452, 'appt': 1453, 'brief': 1454, 'client': 1455, 'present': 1456, 'entrenc': 1457, 'kictchen': 1458, 'nerderi': 1459, 'well': 1460, 'buildng': 1461, 'harvest': 1462, 'rainwat': 1463, 'gypsum': 1464, 'atm': 1465, 'swo': 1466, 'widen': 1467, 'pictur': 1468, 'season': 1469, 'fame': 1470, 'havc': 1471, 'dish': 1472, 'liberti': 1473, 'tax': 1474, 'confernc': 1475, 'turn': 1476, 'bond': 1477, 'onwer': 1478, 'buid': 1479, 'coachhous': 1480, 'col': 1481, 'redo': 1482, 'transit': 1483, 'karaok': 1484, 'lumber': 1485, 'baement': 1486, 'townhous': 1487, 'carwash': 1488, 'web': 1489, 'broadway': 1490, 'persh': 1491, 'pompei': 1492, 'aw': 1493, 'inspecit': 1494, 'vilat': 1495, 'relac': 1496, 'associ': 1497, 'steven': 1498, 'summon': 1499, 'psychiatri': 1500, 'maintain': 1501, 'basementa': 1502, 'chute': 1503, 'derat': 1504, 'barnett': 1505, 'ofnon': 1506, 'sit': 1507, 'woodlawn': 1508, 'exstg': 1509, 'kennel': 1510, 'dearborn': 1511, 'edit': 1512, 'riversid': 1513, 'kidney': 1514, 'rate': 1515, 'interiot': 1516, 'buiild': 1517, 'demolt': 1518, 'perrmit': 1519, 'stabil': 1520, 'buildingremodel': 1521, 'placeunivers': 1522, 'rera': 1523, 'account': 1524, 'budget': 1525, 'furnish': 1526, 'gsb': 1527, 'hyde': 1528, 'clair': 1529, 'enhanc': 1530, 'popcorn': 1531, 'respons': 1532, 'boy': 1533, 'girl': 1534, 'natatorium': 1535, 'entranceway': 1536, 'viiolat': 1537, 'consult': 1538, 'dd': 1539, 'globetrott': 1540, 'shack': 1541, 'sundri': 1542, 'conting': 1543, 'cmu': 1544, 'ext': 1545, 'substitut': 1546, 'stiffen': 1547, 'modfic': 1548, 'circul': 1549, 'orang': 1550, 'theori': 1551, 'dbl': 1552, 'hung': 1553, 'transmitt': 1554, 'tv': 1555, 'plansself': 1556, 'iva': 1557, 'compass': 1558, 'skin': 1559, 'ashland': 1560, 'regriger': 1561, 'foyer': 1562, 'defici': 1563, 'see': 1564, 'sheridan': 1565, 'sow': 1566, 'multipl': 1567, 'drexel': 1568, 'leclair': 1569, 'fluoresc': 1570, 'vincenn': 1571, 'sod': 1572, 'mtl': 1573, 'discoveri': 1574, 'other': 1575, 'racquetbal': 1576, 'alldoor': 1577, 'ductwoprk': 1578, 'infant': 1579, 'old': 1580, 'toddler': 1581, 'permitpermit': 1582, 'porcha': 1583, 'vinil': 1584, 'sash': 1585, 'smae': 1586, 'redesign': 1587, 'mop': 1588, 'contiguio': 1589, 'citigroup': 1590, 'file': 1591, 'mua': 1592, 'eyewar': 1593, 'vault': 1594, 'dwg': 1595, 'bollard': 1596, 'sht': 1597, 'certifc': 1598, 'flloor': 1599, 'collar': 1600, 'assoc': 1601, 'floora': 1602, 'lin': 1603, 'shear': 1604, 'rahman': 1605, 'counsel': 1606, 'adu': 1607, 'invert': 1608, 'reision': 1609, 'parapit': 1610, 'resurfac': 1611, 'chain': 1612, 'aic': 1613, 'breaker': 1614, 'dp': 1615, 'match': 1616, 'retrofit': 1617, 'aviat': 1618, 'crane': 1619, 'peiner': 1620, 'plumbingbas': 1621, 'elevatiion': 1622, 'gear': 1623, 'wolcott': 1624, 'domino': 1625, 'oven': 1626, 'prep': 1627, 'arthington': 1628, 'springfield': 1629, 'stell': 1630, 'perri': 1631, 'merril': 1632, 'bild': 1633, 'jill': 1634, 'lanudri': 1635, 'tub': 1636, 'whirlpool': 1637, 'channel': 1638, 'iq': 1639, 'complet': 1640, 'conduit': 1641, 'navi': 1642, 'refurbish': 1643, 'liquor': 1644, 'law': 1645, 'librari': 1646, 'shed': 1647, 'adjust': 1648, 'mri': 1649, 'workinclud': 1650, 'plume': 1651, 'baber': 1652, 'card': 1653, 'lee': 1654, 'plumbibg': 1655, 'wash': 1656, 'kw': 1657, 'pv': 1658, 'collin': 1659, 'georg': 1660, 'compani': 1661, 'noodl': 1662, 'uitil': 1663, 'plumbinbg': 1664, 'lath': 1665, 'rain': 1666, 'agent': 1667, 'ch': 1668, 'traffic': 1669, 'basin': 1670, 'commenc': 1671, 'pave': 1672, 'tap': 1673, 'homewon': 1674, 'aler': 1675, 'buildnig': 1676, 'anteln': 1677, 'lite': 1678, 'jardin': 1679, 'purif': 1680, 'roadway': 1681, 'toliet': 1682, 'contain': 1683, 'fill': 1684, 'usea': 1685, 'knee': 1686, 'partiton': 1687, 'statement': 1688, 'caisson': 1689, 'howard': 1690, 'bid': 1691, 'wreck': 1692, 'refrig': 1693, 'teller': 1694, 'expo': 1695, 'exposit': 1696, 'el': 1697, 'lasal': 1698, 'backyard': 1699, 'refridger': 1700, 'galleri': 1701, 'morton': 1702, 'combust': 1703, 'underpin': 1704, 'filter': 1705, 'pakr': 1706, 'overhand': 1707, 'submitt': 1708, 'workno': 1709, 'parttion': 1710, 'dorm': 1711, 'dormitori': 1712, 'extinguish': 1713, 'firecod': 1714, 'iibconstruct': 1715, 'rrh': 1716, 'redistribut': 1717, 'break': 1718, 'operatori': 1719, 'reidenc': 1720, 'installt': 1721, 'string': 1722, 'precast': 1723, 'tenent': 1724, 'sfd': 1725, 'fruit': 1726, 'platter': 1727, 'pepair': 1728, 'inspecion': 1729, 'digit': 1730, 'dwv': 1731, 'op': 1732, 'asphalt': 1733, 'fd': 1734, 'cinnabon': 1735, 'millenium': 1736, 'factori': 1737, 'doc': 1738, 'gsf': 1739, 'repiar': 1740, 'illegali': 1741, 'ecert': 1742, 'annex': 1743, 'ballust': 1744, 'flood': 1745, 'need': 1746, 'permitsubject': 1747, 'cours': 1748, 'perimt': 1749, 'pln': 1750, 'comb': 1751, 'gibson': 1752, 'warm': 1753, 'cab': 1754, 'acupunctur': 1755, 'lanlord': 1756, 'contsruct': 1757, 'replacemnet': 1758, 'pile': 1759, 'vb': 1760, 'mezannin': 1761, 'candi': 1762, 'lvl': 1763, 'conditionalpermit': 1764, 'jr': 1765, 'martin': 1766, 'ymca': 1767, 'insect': 1768, 'cat': 1769, 'demolish': 1770, 'courtyard': 1771, 'moinor': 1772, 'fact': 1773, 'locationm': 1774, 'sna': 1775, 'natalino': 1776, 'hardiplank': 1777, 'pbc': 1778, 'rjdc': 1779, 'oxygen': 1780, 'ventless': 1781, 'dtori': 1782, 'loss': 1783, 'remedi': 1784, 'cover': 1785, 'refernc': 1786, 'inteiror': 1787, 'irom': 1788, 'quantiti': 1789, 'ambulatori': 1790, 'decontamin': 1791, 'basebal': 1792, 'updat': 1793, 'aon': 1794, 'rehabil': 1795, 'encroach': 1796, 'legalis': 1797, 'min': 1798, 'stroag': 1799, 'brace': 1800, 'elimin': 1801, 'rebar': 1802, 'breezeway': 1803, 'wing': 1804, 'reploc': 1805, 'amount': 1806, 'reploac': 1807, 'ferif': 1808, 'log': 1809, 'dob': 1810, 'tripp': 1811, 'rood': 1812, 'aldin': 1813, 'guter': 1814, 'spot': 1815, 'buildinga': 1816, 'breweri': 1817, 'pmd': 1818, 'variat': 1819, 'gile': 1820, 'rowhous': 1821, 'walnut': 1822, 'escal': 1823, 'stroy': 1824, 'contrari': 1825, 'produc': 1826, 'backup': 1827, 'remolel': 1828, 'fdtn': 1829, 'frost': 1830, 'exam': 1831, 'user': 1832, 'inc': 1833, 'motor': 1834, 'siteimprov': 1835, 'renovaion': 1836, 'exisit': 1837, 'trade': 1838, 'neff': 1839, 'powerhous': 1840, 'hunt': 1841, 'appeal': 1842, 'cme': 1843, 'spc': 1844, 'radiolog': 1845, 'execut': 1846, 'picket': 1847, 'privaci': 1848, 'alterion': 1849, 'encl': 1850, 'sbc': 1851, 'masonari': 1852, 'workbas': 1853, 'str': 1854, 'cope': 1855, 'pluse': 1856, 'wok': 1857, 'asper': 1858, 'tot': 1859, 'std': 1860, 'nocahng': 1861, 'dc': 1862, 'catch': 1863, 'storfront': 1864, 'flatwork': 1865, 'stairhal': 1866, 'condimnium': 1867, 'staight': 1868, 'bdrm': 1869, 'cl': 1870, 'grey': 1871, 'pan': 1872, 'reun': 1873, 'repour': 1874, 'cashwrap': 1875, 'consign': 1876, 'decay': 1877, 'leed': 1878, 'outer': 1879, 'wyth': 1880, 'reader': 1881, 'dur': 1882, 'solarium': 1883, 'vanila': 1884, 'charter': 1885, 'aluminum': 1886, 'kinzi': 1887, 'accessori': 1888, 'optometri': 1889, 'minut': 1890, 'parklift': 1891, 'stub': 1892, 'carptentri': 1893, 'insepct': 1894, 'pickl': 1895, 'spici': 1896, 'guadrail': 1897, 'romo': 1898, 'ene': 1899, 'insult': 1900, 'reduct': 1901, 'leck': 1902, 'stadium': 1903, 'stock': 1904, 'cbcfull': 1905, 'jazz': 1906, 'showcas': 1907, 'chanc': 1908, 'mudroom': 1909, 'today': 1910, 'chimner': 1911, 'violationspermit': 1912, 'photo': 1913, 'setback': 1914, 'lafayett': 1915, 'prentic': 1916, 'structuralor': 1917, 'replacemont': 1918, 'output': 1919, 'rought': 1920, 'restuar': 1921, 'playboy': 1922, 'pay': 1923, 'coc': 1924, 'blg': 1925, 'decreas': 1926, 'countertop': 1927, 'mall': 1928, 'cure': 1929, 'enslosur': 1930, 'pemit': 1931, 'motel': 1932, 'arround': 1933, 'passag': 1934, 'tankless': 1935, 'trunk': 1936, 'woodburn': 1937, 'demag': 1938, 'lcoation': 1939, 'bed': 1940, 'lockerroom': 1941, 'sprinker': 1942, 'copper': 1943, 'mansard': 1944, 'deconverst': 1945, 'ramov': 1946, 'walgreen': 1947, 'buildi': 1948, 'collaps': 1949, 'changenew': 1950, 'condition': 1951, 'length': 1952, 'sidewal': 1953, 'plumbubg': 1954, 'verfic': 1955, 'seprat': 1956, 'brcik': 1957, 'grage': 1958, 'balust': 1959, 'bulg': 1960, 'constuct': 1961, 'gaurdrail': 1962, 'revenu': 1963, 'ad': 1964, 'delet': 1965, 'elm': 1966, 'hudson': 1967, 'cambridg': 1968, 'supplement': 1969, 'herapi': 1970, 'aattach': 1971, 'staiir': 1972, 'neighborhood': 1973, 'reus': 1974, 'baloni': 1975, 'bcbg': 1976, 'inch': 1977, 'origin': 1978, 'chair': 1979, 'polic': 1980, 'girder': 1981, 'rockefel': 1982, 'repalac': 1983, 'zba': 1984, 'integr': 1985, 'an': 1986, 'extg': 1987, 'ansul': 1988, 'ashphalt': 1989, 'proof': 1990, 'music': 1991, 'venu': 1992, 'intak': 1993, 'booster': 1994, 'underneath': 1995, 'astor': 1996, 'splice': 1997, 'right': 1998, 'lf': 1999, 'spa': 2000, 'overhang': 2001, 'maintenac': 2002, 'ia': 2003, 'hast': 2004, 'demolitona': 2005, 'dn': 2006, 'rehabilitaion': 2007, 'document': 2008, 'anaysi': 2009, 'motion': 2010, 'sidd': 2011, 'ph': 2012, 'wastewat': 2013, 'ti': 2014, 'electrc': 2015, 'student': 2016, 'furn': 2017, 'bumper': 2018, 'refregir': 2019, 'replacemen': 2020, 'brck': 2021, 'beedroom': 2022, 'oo': 2023, 'qq': 2024, 'rr': 2025, 'ss': 2026, 'tt': 2027, 'aquarium': 2028, 'breez': 2029, 'owenr': 2030, 'brd': 2031, 'boardroom': 2032, 'crawlspac': 2033, 'omplianac': 2034, 'fo': 2035, 'doorway': 2036, 'hallway': 2037, 'northwest': 2038, 'modificaiton': 2039, 'basementinclud': 2040, 'trench': 2041, 'renomv': 2042, 'psf': 2043, 'condominum': 2044, 'bread': 2045, 'panera': 2046, 'attic': 2047, 'coal': 2048, 'establih': 2049, 'que': 2050, 'stainless': 2051, 'weather': 2052, 'color': 2053, 'repoint': 2054, 'soap': 2055, 'guradrail': 2056, 'replica': 2057, 'cornelia': 2058, 'storoy': 2059, 'complex': 2060, 'moodi': 2061, 'bsement': 2062, 'sculptur': 2063, 'thoughout': 2064, 'dunkin': 2065, 'amen': 2066, 'difus': 2067, 'veific': 2068, 'fedex': 2069, 'kinko': 2070, 'apar': 2071, 'maintanc': 2072, 'date': 2073, 'flower': 2074, 'pvc': 2075, 'comfort': 2076, 'chestnut': 2077, 'mbh': 2078, 'parc': 2079, 'fascic': 2080, 'iiic': 2081, 'lightwel': 2082, 'generatior': 2083, 'coil': 2084, 'fix': 2085, 'button': 2086, 'grout': 2087, 'ladder': 2088, 'modern': 2089, 'rerout': 2090, 'frl': 2091, 'alterart': 2092, 'accesori': 2093, 'sti': 2094, 'concert': 2095, 'facacd': 2096, 'varianc': 2097, 'spcae': 2098, 'brasseri': 2099, 'ruhlmann': 2100, 'cbcremov': 2101, 'locationa': 2102, 'bon': 2103, 'newantenna': 2104, 'ww': 2105, 'subjext': 2106, 'porcelain': 2107, 'fireprotect': 2108, 'wit': 2109, 'convey': 2110, 'permmit': 2111, 'canal': 2112, 'thoma': 2113, 'plana': 2114, 'tavren': 2115, 'collis': 2116, 'catwalk': 2117, 'accupunctur': 2118, 'greyston': 2119, 'reroof': 2120, 'nd': 2121, 'dist': 2122, 'footag': 2123, 'domer': 2124, 'cantilev': 2125, 'standbi': 2126, 'resdienc': 2127, 'waterproof': 2128, 'burger': 2129, 'paper': 2130, 'shield': 2131, 'tar': 2132, 'arcthiect': 2133, 'autozon': 2134, 'cleveland': 2135, 'drier': 2136, 'firm': 2137, 'kitchenett': 2138, 'clock': 2139, 'demolist': 2140, 'rplace': 2141, 'alert': 2142, 'dominick': 2143, 'finer': 2144, 'prer': 2145, 'facead': 2146, 'swift': 2147, 'night': 2148, 'occ': 2149, 'ktichen': 2150, 'pillar': 2151, 'bitumen': 2152, 'inspecton': 2153, 'codelevel': 2154, 'rehabili': 2155, 'fascia': 2156, 'plung': 2157, 'sft': 2158, 'includ': 2159, 'butler': 2160, 'media': 2161, 'fr': 2162, 'eye': 2163, 'restaru': 2164, 'event': 2165, 'refragir': 2166, 'alum': 2167, 'whrilpool': 2168, 'addendum': 2169, 'seze': 2170, 'trump': 2171, 'maonri': 2172, 'remodeilng': 2173, 'jamba': 2174, 'juic': 2175, 'ambria': 2176, 'stratford': 2177, 'soccer': 2178, 'serivc': 2179, 'explans': 2180, 'mstr': 2181, 'make': 2182, 'oulet': 2183, 'inspectiona': 2184, 'laundryroom': 2185, 'wabash': 2186, 'notif': 2187, 'hamlin': 2188, 'interion': 2189, 'arcad': 2190, 'basementaddress': 2191, 'repir': 2192, 'svc': 2193, 'diaper': 2194, 'argo': 2195, 'aleter': 2196, 'julliett': 2197, 'flag': 2198, 'out': 2199, 'patent': 2200, 'recoveri': 2201, 'specif': 2202, 'subpanel': 2203, 'buildingpermit': 2204, 'jesuit': 2205, 'densiti': 2206, 'ton': 2207, 'carryout': 2208, 'justin': 2209, 'buffalo': 2210, 'ring': 2211, 'halway': 2212, 'rim': 2213, 'pizzeria': 2214, 'lattic': 2215, 'reloct': 2216, 'subdivis': 2217, 'wareshou': 2218, 'cabnitri': 2219, 'temp': 2220, 'museum': 2221, 'vewrif': 2222, 'revisioin': 2223, 'detial': 2224, 'damagesam': 2225, 'rsf': 2226, 'stetson': 2227, 'havac': 2228, 'radiant': 2229, 'covert': 2230, 'masonrygarag': 2231, 'masonrysingl': 2232, 'standar': 2233, 'entertain': 2234, 'meracantil': 2235, 'bedrom': 2236, 'brake': 2237, 'imit': 2238, 'renovt': 2239, 'stairssam': 2240, 'beem': 2241, 'resataunt': 2242, 'finsh': 2243, 'sfh': 2244, 'locationj': 2245, 'tech': 2246, 'towner': 2247, 'removew': 2248, 'juilett': 2249, 'interieor': 2250, 'prairi': 2251, 'ledger': 2252, 'ductowrk': 2253, 'discipl': 2254, 'carillion': 2255, 'greas': 2256, 'interceptor': 2257, 'funac': 2258, 'sperat': 2259, 'custard': 2260, 'airlock': 2261, 'balustrad': 2262, 'tru': 2263, 'modificatin': 2264, 'regist': 2265, 'basi': 2266, 'unisex': 2267, 'resraur': 2268, 'constrcut': 2269, 'town': 2270, 'triangl': 2271, 'protoyp': 2272, 'coop': 2273, 'paln': 2274, 'asbesto': 2275, 'wharehous': 2276, 'robbin': 2277, 'fascad': 2278, 'tire': 2279, 'homep': 2280, 'enclosureremov': 2281, 'rearporch': 2282, 'milwork': 2283, 'birchwood': 2284, 'bike': 2285, 'tan': 2286, 'fore': 2287, 'interoir': 2288, 'plank': 2289, 'tattoo': 2290, 'headwal': 2291, 'nurseri': 2292, 'partum': 2293, 'lookout': 2294, 'bell': 2295, 'caesar': 2296, 'perplan': 2297, 'existint': 2298, 'locationpermit': 2299, 'plz': 2300, 'grid': 2301, 'bow': 2302, 'supress': 2303, 'laflin': 2304, 'telephon': 2305, 'desk': 2306, 'lightin': 2307, 'hideout': 2308, 'tent': 2309, 'cath': 2310, 'condensor': 2311, 'modifc': 2312, 'cash': 2313, 'buidout': 2314, 'switchboard': 2315, 'interioralter': 2316, 'adbesto': 2317, 'interir': 2318, 'southeast': 2319, 'acknowledg': 2320, 'insid': 2321, 'chocol': 2322, 'agenc': 2323, 'stress': 2324, 'kenwood': 2325, 'payment': 2326, 'repar': 2327, 'colum': 2328, 'outlook': 2329, 'jimmi': 2330, 'apmt': 2331, 'façad': 2332, 'ul': 2333, 'dj': 2334, 'abd': 2335, 'baptistri': 2336, 'reaplc': 2337, 'mattress': 2338, 'posit': 2339, 'america': 2340, 'teach': 2341, 'berth': 2342, 'ornament': 2343, 'ma': 2344, 'island': 2345, 'studi': 2346, 'vendor': 2347, 'furnc': 2348, 'info': 2349, 'maintenc': 2350, 'evid': 2351, 'rei': 2352, 'existingstair': 2353, 'café': 2354, 'eri': 2355, 'cd': 2356, 'tutor': 2357, 'hen': 2358, 'chase': 2359, 'satir': 2360, 'doormer': 2361, 'infra': 2362, 'prch': 2363, 'fullerton': 2364, 'loaction': 2365, 'accent': 2366, 'scheme': 2367, 'slate': 2368, 'luggag': 2369, 'axi': 2370, 'oepn': 2371, 'piec': 2372, 'signal': 2373, 'socket': 2374, 'aver': 2375, 'take': 2376, 'spacel': 2377, 'refig': 2378, 'oct': 2379, 'villag': 2380, 'replacemeni': 2381, 'sheat': 2382, 'bolt': 2383, 'linter': 2384, 'roosevelt': 2385, 'aletr': 2386, 'aircondit': 2387, 'planpermit': 2388, 'constr': 2389, 'plansten': 2390, 'guidelin': 2391, 'prop': 2392, 'atop': 2393, 'smoothi': 2394, 'shorter': 2395, 'facd': 2396, 'that': 2397, 'modiff': 2398, 'directori': 2399, 'name': 2400, 'ship': 2401, 'chemistri': 2402, 'doa': 2403, 'tm': 2404, 'illeg': 2405, 'pew': 2406, 'pulpit': 2407, 'draywal': 2408, 'simplex': 2409, 'activ': 2410, 'licens': 2411, 'doh': 2412, 'bissel': 2413, 'sand': 2414, 'rough': 2415, 'inclus': 2416, 'panl': 2417, 'com': 2418, 'walton': 2419, 'tabl': 2420, 'ontario': 2421, 'facilti': 2422, 'constist': 2423, 'bsmnt': 2424, 'coordin': 2425, 'tp': 2426, 'employe': 2427, 'rock': 2428, 'edg': 2429, 'hoyn': 2430, 'lint': 2431, 'superstructur': 2432, 'exercis': 2433, 'legaci': 2434, 'instat': 2435, 'devon': 2436, 'isnpect': 2437, 'unitserect': 2438, 'rearrang': 2439, 'basket': 2440, 'warehoous': 2441, 'infront': 2442, 'balconey': 2443, 'dome': 2444, 'replast': 2445, 'frnot': 2446, 'cemeteri': 2447, 'graceland': 2448, 'indiana': 2449, 'masori': 2450, 'strut': 2451, 'loomi': 2452, 'homeonw': 2453, 'runoff': 2454, 'mail': 2455, 'oil': 2456, 'enteri': 2457, 'same': 2458, 'steepl': 2459, 'wack': 2460, 'glaze': 2461, 'retain': 2462, 'checkpoint': 2463, 'electricaln': 2464, 'grate': 2465, 'reno': 2466, 'dinett': 2467, 'struc': 2468, 'raceway': 2469, 'homown': 2470, 'residentila': 2471, 'gunsaulu': 2472, 'institut': 2473, 'cubilc': 2474, 'brik': 2475, 'clg': 2476, 'stick': 2477, 'atler': 2478, 'sunporch': 2479, 'par': 2480, 'reinnforc': 2481, 'sfrwith': 2482, 'wheel': 2483, 'eract': 2484, 'woodwood': 2485, 'airpo': 2486, 'cater': 2487, 'additoin': 2488, 'planscondit': 2489, 'aalter': 2490, 'jason': 2491, 'outspac': 2492, 'detach': 2493, 'electrica': 2494, 'hanrail': 2495, 'renvot': 2496, 'spec': 2497, 'dental': 2498, 'energi': 2499, 'jefferson': 2500, 'save': 2501, 'capit': 2502, 'existin': 2503, 'lamp': 2504, 'remaind': 2505, 'wrightwood': 2506, 'registr': 2507, 'planform': 2508, 'locatio': 2509, 'fiel': 2510, 'renaiss': 2511, 'underground': 2512, 'pac': 2513, 'configurant': 2514, 'gift': 2515, 'dewll': 2516, 'partiion': 2517, 'incom': 2518, 'duckwork': 2519, 'clarif': 2520, 'concordia': 2521, 'manitowoc': 2522, 'tempori': 2523, 'rthe': 2524, 'southsid': 2525, 'alteratiosn': 2526, 'shopp': 2527, 'assist': 2528, 'preper': 2529, 'visionwork': 2530, 'psychologist': 2531, 'oemc': 2532, 'restaunt': 2533, 'flournoy': 2534, 'shutter': 2535, 'repl': 2536, 'accord': 2537, 'arthur': 2538, 'melt': 2539, 'basemetn': 2540, 'multifamili': 2541, 'bicycl': 2542, 'motorcycl': 2543, 'defect': 2544, 'buildig': 2545, 'intstal': 2546, 'playgound': 2547, 'walkpath': 2548, 'francisco': 2549, 'replacesect': 2550, 'fargo': 2551, 'renforc': 2552, 'atlter': 2553, 'steelcas': 2554, 'culver': 2555, 'merg': 2556, 'triplex': 2557, 'th': 2558, 'jper': 2559, 'whippl': 2560, 'crash': 2561, 'froot': 2562, 'lawrenc': 2563, 'pulaski': 2564, 'renovaton': 2565, 'freight': 2566, 'addttion': 2567, 'leve': 2568, 'sarpino': 2569, 'evacu': 2570, 'rout': 2571, 'standpip': 2572, 'voic': 2573, 'orthodont': 2574, 'storr': 2575, 'gird': 2576, 'pack': 2577, 'drywallnew': 2578, 'tre': 2579, 'avatar': 2580, 'encas': 2581, 'oe': 2582, 'trumbul': 2583, 'sprinlker': 2584, 'adapt': 2585, 'prekindergarten': 2586, 'storyfram': 2587, 'dwellin': 2588, 'shedd': 2589, 'trailer': 2590, 'modul': 2591, 'sair': 2592, 'veggi': 2593, 'laundromat': 2594, 'scrap': 2595, 'pecco': 2596, 'maci': 2597, 'conderns': 2598, 'deonvert': 2599, 'er': 2600, 'cream': 2601, 'advertis': 2602, 'automobil': 2603, 'urin': 2604, 'milwauke': 2605, 'constructuion': 2606, 'gravel': 2607, 'comment': 2608, 'bea': 2609, 'srair': 2610, 'famli': 2611, 'enlosur': 2612, 'replacemnt': 2613, 'barthroom': 2614, 'cooki': 2615, 'marina': 2616, 'lamin': 2617, 'swithc': 2618, 'action': 2619, 'rop': 2620, 'method': 2621, 'datacent': 2622, 'construciton': 2623, 'norton': 2624, 'pin': 2625, 'plenum': 2626, 'bm': 2627, 'cda': 2628, 'holdroom': 2629, 'mechanical': 2630, 'juliett': 2631, 'videoboard': 2632, 'shade': 2633, 'oprch': 2634, 'chimmey': 2635, 'enclos': 2636, 'wescott': 2637, 'stuctur': 2638, 'furntiur': 2639, 'peform': 2640, 'aprt': 2641, 'in': 2642, 'lawyer': 2643, 'arena': 2644, 'fintel': 2645, 'ist': 2646, 'towo': 2647, 'rooflin': 2648, 'leland': 2649, 'redemis': 2650, 'maronri': 2651, 'inert': 2652, 'catheter': 2653, 'procedur': 2654, 'tw': 2655, 'gain': 2656, 'serviceman': 2657, 'excel': 2658, 'hip': 2659, 'croc': 2660, 'damen': 2661, 'detent': 2662, 'beween': 2663, 'luri': 2664, 'discuss': 2665, 'strength': 2666, 'rearyard': 2667, 'lula': 2668, 'thrue': 2669, 'restrip': 2670, 'check': 2671, 'gateway': 2672, 'newstand': 2673, 'kennedi': 2674, 'pertmit': 2675, 'cooper': 2676, 'ash': 2677, 'tuley': 2678, 'dean': 2679, 'greenwood': 2680, 'mt': 2681, 'paul': 2682, 'gladston': 2683, 'ftwood': 2684, 'rmove': 2685, 'poech': 2686, 'proto': 2687, 'damg': 2688, 'moistur': 2689, 'seal': 2690, 'seepag': 2691, 'porchm': 2692, 'claim': 2693, 'carbon': 2694, 'monoxid': 2695, 'send': 2696, 'show': 2697, 'fixtureswindow': 2698, 'coven': 2699, 'rmoval': 2700, 'geotherm': 2701, 'star': 2702, 'buildingto': 2703, 'spacea': 2704, 'checker': 2705, 'steeel': 2706, 'archbishop': 2707, 'archdioces': 2708, 'diocesan': 2709, 'quigley': 2710, 'leader': 2711, 'mitchel': 2712, 'basementg': 2713, 'inactivestorag': 2714, 'wedg': 2715, 'poc': 2716, 'fam': 2717, 'nhfc': 2718, 'apartmenthous': 2719, 'wiith': 2720, 'prche': 2721, 'bulkhead': 2722, 'deonvers': 2723, 'financ': 2724, 'aisl': 2725, 'chancel': 2726, 'mini': 2727, 'dugout': 2728, 'direct': 2729, 'draing': 2730, 'scupper': 2731, 'slide': 2732, 'westin': 2733, 'mechanicala': 2734, 'enrtranc': 2735, 'ord': 2736, 'screenwal': 2737, 'residnec': 2738, 'steo': 2739, 'woor': 2740, 'eckhart': 2741, 'sa': 2742, 'alterationof': 2743, 'hear': 2744, 'donor': 2745, 'boulder': 2746, 'brooklyn': 2747, 'particip': 2748, 'ofic': 2749, 'alteat': 2750, 'command': 2751, 'kilbourn': 2752, 'cityhal': 2753, 'newgard': 2754, 'archer': 2755, 'montros': 2756, 'scanner': 2757, 'columbia': 2758, 'adminstr': 2759, 'oceanarium': 2760, 'sawcut': 2761, 'gc': 2762, 'laneventur': 2763, 'attorney': 2764, 'labor': 2765, 'flra': 2766, 'incand': 2767, 'oec': 2768, 'recpt': 2769, 'altetr': 2770, 'mullion': 2771, 'aid': 2772, 'corn': 2773, 'mercantl': 2774, 'pop': 2775, 'drawig': 2776, 'flat': 2777, 'aptm': 2778, 'minimum': 2779, 'especif': 2780, 'conver': 2781, 'electricala': 2782, 'grab': 2783, 'microlam': 2784, 'enterpris': 2785, 'rent': 2786, 'transom': 2787, 'middl': 2788, 'speaker': 2789, 'bba': 2790, 'dike': 2791, 'catherwood': 2792, 'hartwel': 2793, 'mari': 2794, 'sheriff': 2795, 'monopl': 2796, 'occlud': 2797, 'gymnasium': 2798, 'dollar': 2799, 'conner': 2800, 'loui': 2801, 'gaurd': 2802, 'carpent': 2803, 'bulid': 2804, 'wallboard': 2805, 'plumbng': 2806, 'doublewid': 2807, 'iclud': 2808, 'marshal': 2809, 'ufood': 2810, 'custom': 2811, 'porchesexact': 2812, 'rreplac': 2813, 'extends': 2814, 'sea': 2815, 'stoarg': 2816, 'mebran': 2817, 'airprot': 2818, 'additit': 2819, 'habitat': 2820, 'otter': 2821, 'scale': 2822, 'encount': 2823, 'view': 2824, 'electricand': 2825, 'pint': 2826, 'swap': 2827, 'med': 2828, 'seminar': 2829, 'dsraw': 2830, 'colloc': 2831, 'wtih': 2832, 'rooom': 2833, 'instil': 2834, 'eexist': 2835, 'familti': 2836, 'maid': 2837, 'remold': 2838, 'alteratio': 2839, 'po': 2840, 'manag': 2841, 'realign': 2842, 'desplain': 2843, 'homepwn': 2844, 'tmo': 2845, 'feinberg': 2846, 'taylor': 2847, 'surround': 2848, 'fairfield': 2849, 'invista': 2850, 'cabintri': 2851, 'preparaion': 2852, 'alteraion': 2853, 'vio': 2854, 'locationp': 2855, 'certic': 2856, 'bishop': 2857, 'overhead': 2858, 'vacuum': 2859, 'cum': 2860, 'envelop': 2861, 'cet': 2862, 'arrang': 2863, 'band': 2864, 'cbr': 2865, 'dor': 2866, 'additiion': 2867, 'coat': 2868, 'plansnew': 2869, 'child': 2870, 'cellphon': 2871, 'accessibilti': 2872, 'comp': 2873, 'groseri': 2874, 'rrepair': 2875, 'glassblock': 2876, 'da': 2877, 'starag': 2878, 'verizon': 2879, 'elvat': 2880, 'squar': 2881, 'ridg': 2882, 'hal': 2883, 'anglesm': 2884, 'adddit': 2885, 'heavey': 2886, 'vehicular': 2887, 'porchupgrad': 2888, 'tel': 2889, 'bernard': 2890, 'ln': 2891, 'altrat': 2892, 'toiletroom': 2893, 'coloc': 2894, 'ogden': 2895, 'columnc': 2896, 'buy': 2897, 'ci': 2898, 'addtit': 2899, 'spout': 2900, 'masterbath': 2901, 'officesa': 2902, 'campbel': 2903, 'sfm': 2904, 'violatiion': 2905, 'asm': 2906, 'saiz': 2907, 'muti': 2908, 'nad': 2909, 'locatiopn': 2910, 'multistori': 2911, 'scape': 2912, 'dcam': 2913, 'ercp': 2914, 'bonu': 2915, 'household': 2916, 'sheatinga': 2917, 'replacesid': 2918, 'king': 2919, 'rmcf': 2920, 'downspout': 2921, 'pearson': 2922, 'iowa': 2923, 'delawar': 2924, 'locust': 2925, 'porchexact': 2926, 'melros': 2927, 'alteratino': 2928, 'specialti': 2929, 'additt': 2930, 'fron': 2931, 'parksid': 2932, 'wellington': 2933, 'die': 2934, 'accid': 2935, 'constrction': 2936, 'bldga': 2937, 'fdlor': 2938, 'cbcnew': 2939, 'converes': 2940, 'remediat': 2941, 'eel': 2942, 'buff': 2943, 'reinstallt': 2944, 'specilti': 2945, 'oak': 2946, 'cinema': 2947, 'noy': 2948, 'palevski': 2949, 'bulidng': 2950, 'fluoro': 2951, 'lunchroom': 2952, 'teh': 2953, 'titl': 2954, 'porchsam': 2955, 'pocket': 2956, 'dv': 2957, 'stewart': 2958, 'swith': 2959, 'theatr': 2960, 'hutchinson': 2961, 'ok': 2962, 'profession': 2963, 'bugalow': 2964, 'nooki': 2965, 'liabilti': 2966, 'limit': 2967, 'staion': 2968, 'worker': 2969, 'acopi': 2970, 'cafeteria': 2971, 'consit': 2972, 'srvice': 2973, 'error': 2974, 'sector': 2975, 'fett': 2976, 'sieben': 2977, 'flash': 2978, 'salvag': 2979, 'portico': 2980, 'alterationsrepair': 2981, 'resiz': 2982, 'remoldel': 2983, 'vesitibul': 2984, 'semi': 2985, 'eddyston': 2986, 'oncolog': 2987, 'additionn': 2988, 'exterioralter': 2989, 'plansful': 2990, 'revolv': 2991, 'educ': 2992, 'frunac': 2993, 'sacrameto': 2994, 'meatloaf': 2995, 'pergula': 2996, 'concr': 2997, 'conduct': 2998, 'reatil': 2999, 'comcast': 3000, 'textur': 3001, 'cond': 3002, 'replec': 3003, 'plumber': 3004, 'anntenna': 3005, 'reaar': 3006, 'hole': 3007, 'gang': 3008, 'prek': 3009, 'van': 3010, 'guy': 3011, 'plasn': 3012, 'shelv': 3013, 'quadrant': 3014, 'rotunda': 3015, 'termianl': 3016, 'fulton': 3017, 'llc': 3018, 'nayak': 3019, 'raghuv': 3020, 'trust': 3021, 'corridorenhanc': 3022, 'brand': 3023, 'builout': 3024, 'additioon': 3025, 'andconfigur': 3026, 'mezzanini': 3027, 'architec': 3028, 'mpe': 3029, 'basemnt': 3030, 'balonci': 3031, 'precat': 3032, 'apron': 3033, 'outlot': 3034, 'drawn': 3035, 'buckingham': 3036, 'mid': 3037, 'mecha': 3038, 'repac': 3039, 'sundeck': 3040, 'permiti': 3041, 'consrtuct': 3042, 'month': 3043, 'exiditng': 3044, 'gardent': 3045, 'playfield': 3046, 'replacemenet': 3047, 'sound': 3048, 'antnenna': 3049, 'enertain': 3050, 'befroom': 3051, 'dormor': 3052, 'csc': 3053, 'foster': 3054, 'audienc': 3055, 'gleacher': 3056, 'lectur': 3057, 'marriott': 3058, 'ziggurat': 3059, 'inst': 3060, 'grass': 3061, 'turf': 3062, 'mechanica': 3063, 'dooor': 3064, 'sprnkler': 3065, 'rooflinepermit': 3066, 'aaa': 3067, 'diconvert': 3068, 'includesremov': 3069, 'lifesafeti': 3070, 'footbal': 3071, 'tenni': 3072, 'plansof': 3073, 'reinstat': 3074, 'oc': 3075, 'jonquil': 3076, 'breezway': 3077, 'wod': 3078, 'reson': 3079, 'famil': 3080, 'share': 3081, 'dimmer': 3082, 'wc': 3083, 'mill': 3084, 'cleanout': 3085, 'liu': 3086, 'rehb': 3087, 'silver': 3088, 'greenview': 3089, 'strorefront': 3090, 'continuousinsul': 3091, 'butcher': 3092, 'dconvers': 3093, 'profil': 3094, 'patchback': 3095, 'budhist': 3096, 'templ': 3097, 'loan': 3098, 'brickresid': 3099, 'bare': 3100, 'altreat': 3101, 'bathroo': 3102, 'remplac': 3103, 'revov': 3104, 'frommasonri': 3105, 'bui': 3106, 'nov': 3107, 'lp': 3108, 'pnl': 3109, 'san': 3110, 'sear': 3111, 'stari': 3112, 'pedicur': 3113, 'seccond': 3114, 'erectporch': 3115, 'sotri': 3116, 'lightn': 3117, 'butter': 3118, 'mother': 3119, 'plantar': 3120, 'tray': 3121, 'poll': 3122, 'travel': 3123, 'scrape': 3124, 'huron': 3125, 'none': 3126, 'rewir': 3127, 'splt': 3128, 'rfriger': 3129, 'cboe': 3130, 'ann': 3131, 'aunti': 3132, 'pretzel': 3133, 'reinforcemtnt': 3134, 'carveri': 3135, 'host': 3136, 'worship': 3137, 'concet': 3138, 'hight': 3139, 'son': 3140, 'outet': 3141, 'dress': 3142, 'reg': 3143, 'workfram': 3144, 'classic': 3145, 'woodporch': 3146, 'airporth': 3147, 'watertow': 3148, 'sprfront': 3149, 'inclub': 3150, 'ventur': 3151, 'incub': 3152, 'porchto': 3153, 'substat': 3154, 'ar': 3155, 'hv': 3156, 'reapair': 3157, 'resturaunt': 3158, 'chicagoland': 3159, 'memeb': 3160, 'vitamin': 3161, 'reserv': 3162, 'defecticv': 3163, 'anchorag': 3164, 'sewag': 3165, 'background': 3166, 'gi': 3167, 'exteriod': 3168, 'builtout': 3169, 'fod': 3170, 'rake': 3171, 'southwest': 3172, 'coffey': 3173, 'glenlak': 3174, 'winthrop': 3175, 'blgd': 3176, 'improvemnet': 3177, 'pavillion': 3178, 'sd': 3179, 'sprinkl': 3180, 'dermatologist': 3181, 'tierod': 3182, 'dig': 3183, 'salt': 3184, 'submiss': 3185, 'inn': 3186, 'berwyn': 3187, 'permanenet': 3188, 'gaug': 3189, 'buildinig': 3190, 'cartveyor': 3191, 'sawtooth': 3192, 'reaer': 3193, 'filtrat': 3194, 'problem': 3195, 'storefont': 3196, 'batheroom': 3197, 'homerown': 3198, 'woo': 3199, 'bathrrom': 3200, 'replca': 3201, 'rsitanc': 3202, 'magnet': 3203, 'forch': 3204, 'span': 3205, 'residencea': 3206, 'diamet': 3207, 'sequenc': 3208, 'stru': 3209, 'refrigar': 3210, 'porchand': 3211, 'observ': 3212, 'docket': 3213, 'fullert': 3214, 'summari': 3215, 'ele': 3216, 'mfr': 3217, 'reivis': 3218, 'aand': 3219, 'areawel': 3220, 'relat': 3221, 'bowl': 3222, 'shead': 3223, 'receipt': 3224, 'plumbingupgrad': 3225, 'mundelein': 3226, 'redevelop': 3227, 'columbu': 3228, 'mpea': 3229, 'built': 3230, 'hwh': 3231, 'stormwat': 3232, 'changew': 3233, 'renev': 3234, 'worknew': 3235, 'mors': 3236, 'opera': 3237, 'merc': 3238, 'buidl': 3239, 'cbrb': 3240, 'bryn': 3241, 'mawr': 3242, 'parcel': 3243, 'draperi': 3244, 'flame': 3245, 'winyl': 3246, 'restauran': 3247, 'suppres': 3248, 'reviis': 3249, 'treatement': 3250, 'secord': 3251, 'macro': 3252, 'southport': 3253, 'eleven': 3254, 'hollywood': 3255, 'target': 3256, 'buildingw': 3257, 'paulina': 3258, 'calul': 3259, 'relpac': 3260, 'leaf': 3261, 'lock': 3262, 'dehumidifi': 3263, 'ccu': 3264, 'alterter': 3265, 'tractel': 3266, 'feeder': 3267, 'byremov': 3268, 'reason': 3269, 'sstairwel': 3270, 'lu': 3271, 'campu': 3272, 'eleav': 3273, 'hawar': 3274, 'sychron': 3275, 'convienc': 3276, 'matter': 3277, 'remodelong': 3278, 'crc': 3279, 'mailroom': 3280, 'ranch': 3281, 'recplac': 3282, 'apc': 3283, 'sankofa': 3284, 'windturbin': 3285, 'eyeglass': 3286, 'furmac': 3287, 'kichen': 3288, 'evalu': 3289, 'openwood': 3290, 'falcon': 3291, 'thereaft': 3292, 'childhood': 3293, 'vesibul': 3294, 'result': 3295, 'tto': 3296, 'conrad': 3297, 'rush': 3298, 'plumbingund': 3299, 'recal': 3300, 'partment': 3301, 'stockroom': 3302, 'ater': 3303, 'mold': 3304, 'rotten': 3305, 'locaton': 3306, 'basem': 3307, 'suunnysid': 3308, 'corpor': 3309, 'electricalor': 3310, 'pation': 3311, 'soac': 3312, 'footer': 3313, 'exi': 3314, 'rebal': 3315, 'brew': 3316, 'equp': 3317, 'sherwin': 3318, 'william': 3319, 'algonquin': 3320, 'cpd': 3321, 'derrick': 3322, 'stiffleg': 3323, 'thirti': 3324, 'supera': 3325, 'gage': 3326, 'juli': 3327, 'mariano': 3328, 'hk': 3329, 'crerar': 3330, 'fund': 3331, 'gov': 3332, 'onlyrevis': 3333, 'buis': 3334, 'harri': 3335, 'msi': 3336, 'potter': 3337, 'follow': 3338, 'duti': 3339, 'concierg': 3340, 'version': 3341, 'outsid': 3342, 'porchwith': 3343, 'dickenson': 3344, 'rosedal': 3345, 'spraypool': 3346, 'skinner': 3347, 'printer': 3348, 'fin': 3349, 'mcr': 3350, 'mezzanninn': 3351, 'exteriot': 3352, 'ethan': 3353, 'raffaello': 3354, 'conform': 3355, 'refinish': 3356, 'vapor': 3357, 'harlem': 3358, 'romev': 3359, 'clinton': 3360, 'choic': 3361, 'platinum': 3362, 'sketch': 3363, 'caught': 3364, 'turret': 3365, 'itm': 3366, 'diner': 3367, 'irvington': 3368, 'pane': 3369, 'violaton': 3370, 'drwa': 3371, 'dark': 3372, 'anna': 3373, 'fashion': 3374, 'exst': 3375, 'revit': 3376, 'aqua': 3377, 'cct': 3378, 'hub': 3379, 'maker': 3380, 'soda': 3381, 'classificationremodel': 3382, 'ten': 3383, 'busin': 3384, 'bulk': 3385, 'medit': 3386, 'truth': 3387, 'ouc': 3388, 'decovers': 3389, 'dormmer': 3390, 'conserv': 3391, 'amphitheat': 3392, 'arrup': 3393, 'monestari': 3394, 'waiver': 3395, 'redirect': 3396, 'grandstand': 3397, 'rockn': 3398, 'sidelit': 3399, 'bsment': 3400, 'spacv': 3401, 'resourc': 3402, 'est': 3403, 'commerti': 3404, 'cox': 3405, 'bayless': 3406, 'highremodel': 3407, 'roomno': 3408, 'prject': 3409, 'barricad': 3410, 'ingress': 3411, 'mezzainin': 3412, 'al': 3413, 'beef': 3414, 'appvl': 3415, 'sidelight': 3416, 'arter': 3417, 'masoni': 3418, 'fundat': 3419, 'identif': 3420, 'wet': 3421, 'idf': 3422, 'curi': 3423, 'metro': 3424, 'watt': 3425, 'sqf': 3426, 'siingl': 3427, 'style': 3428, 'brickpav': 3429, 'grant': 3430, 'medallion': 3431, 'declin': 3432, 'sime': 3433, 'siza': 3434, 'foolr': 3435, 'snigl': 3436, 'gamestop': 3437, 'protion': 3438, 'roomsno': 3439, 'inspectin': 3440, 'sky': 3441, 'select': 3442, 'railroad': 3443, 'hydron': 3444, 'disciplin': 3445, 'plumbingreplac': 3446, 'clapboard': 3447, 'exposur': 3448, 'resindec': 3449, 'fold': 3450, 'gabl': 3451, 'receptical': 3452, 'décor': 3453, 'legend': 3454, 'shrink': 3455, 'metropoli': 3456, 'sme': 3457, 'saam': 3458, 'unitdeconvert': 3459, 'rest': 3460, 'hvacpermit': 3461, 'no': 3462, 'repaint': 3463, 'roofdeck': 3464, 'kitch': 3465, 'programn': 3466, 'bathrm': 3467, 'movi': 3468, 'hda': 3469, 'holddown': 3470, 'simpson': 3471, 'twelv': 3472, 'kedzi': 3473, 'extsg': 3474, 'fastfood': 3475, 'withdoh': 3476, 'yqrd': 3477, 'transfer': 3478, 'silo': 3479, 'renav': 3480, 'baethk': 3481, 'conservatori': 3482, 'gid': 3483, 'cjamg': 3484, 'construc': 3485, 'driveal': 3486, 'aldi': 3487, 'reach': 3488, 'apex': 3489, 'underpen': 3490, 'weight': 3491, 'pdrche': 3492, 'sation': 3493, 'porck': 3494, 'repav': 3495, 'firelit': 3496, 'facebrick': 3497, 'blue': 3498, 'ppartiali': 3499, 'consul': 3500, 'outpati': 3501, 'banquest': 3502, 'popey': 3503, 'resr': 3504, 'chesney': 3505, 'pass': 3506, 'insam': 3507, 'compris': 3508, 'garga': 3509, 'subect': 3510, 'entail': 3511, 'plumbimg': 3512, 'architectru': 3513, 'gen': 3514, 'mudjack': 3515, 'major': 3516, 'subterranean': 3517, 'grammar': 3518, 'alteraiton': 3519, 'sag': 3520, 'masoneri': 3521, 'perch': 3522, 'porchj': 3523, 'remodelig': 3524, 'casement': 3525, 'wondow': 3526, 'conveini': 3527, 'abat': 3528, 'env': 3529, 'barn': 3530, 'eddi': 3531, 'lav': 3532, 'buildingsuit': 3533, 'mortat': 3534, 'knife': 3535, 'lbp': 3536, 'censu': 3537, 'garbag': 3538, 'accibl': 3539, 'lincoln': 3540, 'paddleboat': 3541, 'zoo': 3542, 'alteratt': 3543, 'excavt': 3544, 'wendi': 3545, 'sinlg': 3546, 'rung': 3547, 'wider': 3548, 'elton': 3549, 'resteraunt': 3550, 'equioment': 3551, 'lightpol': 3552, 'rubber': 3553, 'deconerion': 3554, 'patholog': 3555, 'columu': 3556, 'plb': 3557, 'pla': 3558, 'din': 3559, 'sestem': 3560, 'correcto': 3561, 'noew': 3562, 'organ': 3563, 'profit': 3564, 'potteri': 3565, 'fruanc': 3566, 'harrison': 3567, 'linen': 3568, 'crah': 3569, 'reart': 3570, 'sizeand': 3571, 'shleter': 3572, 'hw': 3573, 'leg': 3574, 'finishesreplac': 3575, 'replic': 3576, 'exhanst': 3577, 'shorelin': 3578, 'rumc': 3579, 'planssq': 3580, 'reistanc': 3581, 'collpas': 3582, 'citat': 3583, 'constructino': 3584, 'mia': 3585, 'reopen': 3586, 'entrac': 3587, 'headquart': 3588, 'mau': 3589, 'demoliot': 3590, 'fixtuir': 3591, 'outtlet': 3592, 'hotdog': 3593, 'lid': 3594, 'chest': 3595, 'parap': 3596, 'deconves': 3597, 'hvca': 3598, 'addtiion': 3599, 'bib': 3600, 'carver': 3601, 'taco': 3602, 'meat': 3603, 'comvert': 3604, 'thick': 3605, 'periodontist': 3606, 'insepctionhomeown': 3607, 'closer': 3608, 'pegola': 3609, 'asif': 3610, 'blemker': 3611, 'replacemet': 3612, 'andfinish': 3613, 'renovationof': 3614, 'amd': 3615, 'eand': 3616, 'refirger': 3617, 'squash': 3618, 'penthouus': 3619, 'similiar': 3620, 'certifi': 3621, 'bit': 3622, 'senior': 3623, 'shipsladd': 3624, 'anderson': 3625, 'aor': 3626, 'marc': 3627, 'neeed': 3628, 'spact': 3629, 'clerestori': 3630, 'valu': 3631, 'tom': 3632, 'fast': 3633, 'ford': 3634, 'harbor': 3635, 'thorndal': 3636, 'corbel': 3637, 'violatioin': 3638, 'contstruct': 3639, 'poultri': 3640, 'lewi': 3641, 'alcov': 3642, 'fluoroscopi': 3643, 'radiographi': 3644, 'auditoreum': 3645, 'brook': 3646, 'gwendolyn': 3647, 'preparatori': 3648, 'pilast': 3649, 'toaster': 3650, 'dwele': 3651, 'alrer': 3652, 'infiltr': 3653, 'farm': 3654, 'sex': 3655, 'protyp': 3656, 'supportequip': 3657, 'jewelri': 3658, 'constrct': 3659, 'tokyo': 3660, 'cooker': 3661, 'focu': 3662, 'elecxt': 3663, 'stripe': 3664, 'intieror': 3665, 'ahu': 3666, 'contour': 3667, 'pond': 3668, 'wetland': 3669, 'familyresid': 3670, 'remmov': 3671, 'kfc': 3672, 'frombusi': 3673, 'foor': 3674, 'partiali': 3675, 'sliver': 3676, 'albani': 3677, 'diagram': 3678, 'deux': 3679, 'ware': 3680, 'sax': 3681, 'mcc': 3682, 'shutoff': 3683, 'bussi': 3684, 'ofc': 3685, 'podium': 3686, 'hadrail': 3687, 'yd': 3688, 'stain': 3689, 'locatin': 3690, 'cupola': 3691, 'eif': 3692, 'pastri': 3693, 'blueshield': 3694, 'lawn': 3695, 'mark': 3696, 'obelisk': 3697, 'gangway': 3698, 'matress': 3699, 'mansonri': 3700, 'iic': 3701, 'permitreplac': 3702, 'cb': 3703, 'ugrad': 3704, 'pellet': 3705, 'adler': 3706, 'planetarium': 3707, 'asn': 3708, 'mezz': 3709, 'peplac': 3710, 'jst': 3711, 'plansrevis': 3712, 'toom': 3713, 'strand': 3714, 'tension': 3715, 'areasexist': 3716, 'lterat': 3717, 'orch': 3718, 'precipit': 3719, 'reflect': 3720, 'exsitng': 3721, 'hamilton': 3722, 'sami': 3723, 'drawng': 3724, 'tennant': 3725, 'boat': 3726, 'cricket': 3727, 'headroom': 3728, 'workexist': 3729, 'chiropractor': 3730, 'burlington': 3731, 'mandoor': 3732, 'restrom': 3733, 'irv': 3734, 'con': 3735, 'num': 3736, 'reomv': 3737, 'kenmor': 3738, 'subsoil': 3739, 'eastsid': 3740, 'decemb': 3741, 'august': 3742, 'mirror': 3743, 'scopr': 3744, 'mann': 3745, 'palmer': 3746, 'vittum': 3747, 'avalon': 3748, 'scoreboard': 3749, 'samw': 3750, 'grnd': 3751, 'sheil': 3752, 'thee': 3753, 'cg': 3754, 'laod': 3755, 'steal': 3756, 'orlean': 3757, 'lotu': 3758, 'respect': 3759, 'sensori': 3760, 'christiana': 3761, 'abercrombi': 3762, 'fitch': 3763, 'exter': 3764, 'dens': 3765, 'maxx': 3766, 'tj': 3767, 'pantir': 3768, 'voilat': 3769, 'wnew': 3770, 'jarvi': 3771, 'loos': 3772, 'dect': 3773, 'ex': 3774, 'zise': 3775, 'burr': 3776, 'elementari': 3777, 'deckand': 3778, 'jaccuzi': 3779, 'chiro': 3780, 'wodd': 3781, 'winter': 3782, 'plaumb': 3783, 'metra': 3784, 'accessibbl': 3785, 'preserv': 3786, 'sampl': 3787, 'reduccion': 3788, 'rase': 3789, 'settlement': 3790, 'venner': 3791, 'violatin': 3792, 'quaniti': 3793, 'railng': 3794, 'corect': 3795, 'low': 3796, 'caretak': 3797, 'rutherford': 3798, 'sayr': 3799, 'basememt': 3800, 'cumin': 3801, 'artist': 3802, 'skyfold': 3803, 'goldblatt': 3804, 'violatio': 3805, 'richmond': 3806, 'od': 3807, 'rebuilf': 3808, 'eff': 3809, 'fixur': 3810, 'uiliti': 3811, 'fram': 3812, 'forg': 3813, 'comdominium': 3814, 'balanc': 3815, 'collumn': 3816, 'omit': 3817, 'occuap': 3818, 'contol': 3819, 'openporch': 3820, 'mepfp': 3821, 'practic': 3822, 'primari': 3823, 'bedrrom': 3824, 'chw': 3825, 'rebuil': 3826, 'skycam': 3827, 'slip': 3828, 'bessi': 3829, 'coleman': 3830, 'storga': 3831, 'antennna': 3832, 'revsion': 3833, 'diaz': 3834, 'kreme': 3835, 'mr': 3836, 'subdivid': 3837, 'spirit': 3838, 'parkng': 3839, 'artifact': 3840, 'mammographi': 3841, 'constructt': 3842, 'plasma': 3843, 'bleach': 3844, 'facto': 3845, 'cage': 3846, 'fimens': 3847, 'photostudio': 3848, 'enclosd': 3849, 'bathrom': 3850, 'tyep': 3851, 'alln': 3852, 'le': 3853, 'recondit': 3854, 'sog': 3855, 'duxplex': 3856, 'bin': 3857, 'compressor': 3858, 'pacif': 3859, 'autism': 3860, 'northcommun': 3861, 'floorsremodel': 3862, 'lobbyremodel': 3863, 'crbc': 3864, 'humidifi': 3865, 'rascher': 3866, 'doghous': 3867, 'tcf': 3868, 'bedrroom': 3869, 'residenc': 3870, 'reconfigru': 3871, 'lever': 3872, 'rincon': 3873, 'barbershop': 3874, 'coverag': 3875, 'hotwat': 3876, 'tuckppint': 3877, 'reafter': 3878, 'merhcantil': 3879, 'patrial': 3880, 'acamedi': 3881, 'rescu': 3882, 'receiv': 3883, 'patron': 3884, 'juiceri': 3885, 'renvoat': 3886, 'layaway': 3887, 'mofif': 3888, 'lv': 3889, 'villat': 3890, 'styem': 3891, 'sauganash': 3892, 'ovp': 3893, 'blow': 3894, 'tma': 3895, 'retrun': 3896, 'ridgeway': 3897, 'siz': 3898, 'storybuild': 3899, 'pr': 3900, 'fla': 3901, 'effect': 3902, 'plansrepair': 3903, 'nonbear': 3904, 'platfomr': 3905, 'modiciact': 3906, 'horner': 3907, 'mcguan': 3908, 'kosciuszko': 3909, 'flooor': 3910, 'colect': 3911, 'habdrail': 3912, 'au': 3913, 'vin': 3914, 'watercloset': 3915, 'munster': 3916, 'wilson': 3917, 'somkestack': 3918, 'cuisin': 3919, 'instruct': 3920, 'valueclick': 3921, 'crbcalter': 3922, 'eugen': 3923, 'griffin': 3924, 'configr': 3925, 'decknew': 3926, 'finishesnew': 3927, 'acar': 3928, 'remodei': 3929, 'aiello': 3930, 'augusta': 3931, 'greywat': 3932, 'toal': 3933, 'autopart': 3934, 'triplxer': 3935, 'vsk': 3936, 'pain': 3937, 'prtition': 3938, 'crossov': 3939, 'groundwork': 3940, 'prk': 3941, 'vzwsmart': 3942, 'reset': 3943, 'freestand': 3944, 'willi': 3945, 'ype': 3946, 'galter': 3947, 'spiral': 3948, 'root': 3949, 'signl': 3950, 'plansbas': 3951, 'locatt': 3952, 'modificaton': 3953, 'facet': 3954, 'love': 3955, 'seido': 3956, 'addn': 3957, 'valley': 3958, 'fixt': 3959, 'buildl': 3960, 'heliport': 3961, 'rplan': 3962, 'continu': 3963, 'outrigg': 3964, 'tieback': 3965, 'recircuit': 3966, 'approach': 3967, 'spectat': 3968, 'demilit': 3969, 'liner': 3970, 'composit': 3971, 'pomeroy': 3972, 'faamili': 3973, 'gp': 3974, 'platoform': 3975, 'residend': 3976, 'drg': 3977, 'idph': 3978, 'sprkinler': 3979, 'faculti': 3980, 'interview': 3981, 'temperatur': 3982, 'cassava': 3983, 'smooti': 3984, 'checkout': 3985, 'good': 3986, 'plump': 3987, 'bricksingl': 3988, 'northsid': 3989, 'mfg': 3990, 'wwod': 3991, 'offstreet': 3992, 'fellowship': 3993, 'chick': 3994, 'eagl': 3995, 'june': 3996, 'sprkler': 3997, 'famliy': 3998, 'ultilti': 3999, 'renow': 4000, 'buildingconvert': 4001, 'wosk': 4002, 'wddo': 4003, 'cm': 4004, 'sm': 4005, 'humboldt': 4006, 'epr': 4007, 'archplan': 4008, 'equipmentremov': 4009, 'parker': 4010, 'homepown': 4011, 'gold': 4012, 'buss': 4013, 'remadi': 4014, 'nwe': 4015, 'remodelingfor': 4016, 'porchesp': 4017, 'ingelsid': 4018, 'dataconnect': 4019, 'installten': 4020, 'inclosur': 4021, 'everyth': 4022, 'mi': 4023, 'subjevt': 4024, 'keyless': 4025, 'hairpin': 4026, 'cortland': 4027, 'shoppimg': 4028, 'lightfixtur': 4029, 'perimit': 4030, 'barrel': 4031, 'imporv': 4032, 'clybourn': 4033, 'drake': 4034, 'wolfram': 4035, 'consolid': 4036, 'skycap': 4037, 'homeowenr': 4038, 'medic': 4039, 'homeowen': 4040, 'manor': 4041, 'tenanat': 4042, 'faucet': 4043, 'strainer': 4044, 'liquir': 4045, 'restaurantin': 4046, 'interiior': 4047, 'jovi': 4048, 'pavment': 4049, 'roughin': 4050, 'requiredto': 4051, 'porcher': 4052, 'leavitt': 4053, 'addbeick': 4054, 'televis': 4055, 'bake': 4056, 'mahon': 4057, 'poag': 4058, 'leak': 4059, 'fare': 4060, 'kitchenand': 4061, 'margarita': 4062, 'quickservic': 4063, 'thatwil': 4064, 'tworestroom': 4065, 'cake': 4066, 'consumpt': 4067, 'uniit': 4068, 'wabansia': 4069, 'refg': 4070, 'builid': 4071, 'ereci': 4072, 'plunb': 4073, 'mult': 4074, 'bevrag': 4075, 'coalit': 4076, 'certifitc': 4077, 'placement': 4078, 'wicker': 4079, 'umbrella': 4080, 'basemsnt': 4081, 'communicaiton': 4082, 'kilwin': 4083, 'glenwood': 4084, 'residentialno': 4085, 'homemad': 4086, 'wirless': 4087, 'lien': 4088, 'arh': 4089, 'prev': 4090, 'summer': 4091, 'bradwel': 4092, 'myra': 4093, 'repari': 4094, 'restaurnat': 4095, 'palm': 4096, 'fi': 4097, 'anteanna': 4098, 'metl': 4099, 'insspect': 4100, 'casimir': 4101, 'wrigleyvil': 4102, 'lidens': 4103, 'curti': 4104, 'dowel': 4105, 'unt': 4106, 'comun': 4107, 'edroom': 4108, 'dia': 4109, 'consess': 4110, 'express': 4111, 'foodservic': 4112, 'manni': 4113, 'mango': 4114, 'spklr': 4115, 'mac': 4116, 'citizenship': 4117, 'remoav': 4118, 'gutt': 4119, 'fourseason': 4120, 'sing': 4121, 'reonfigur': 4122, 'hot': 4123, 'waitress': 4124, 'acceler': 4125, 'roomsin': 4126, 'vfront': 4127, 'knewal': 4128, 'deepen': 4129, 'renovat': 4130, 'fixut': 4131, 'garland': 4132, 'pf': 4133, 'consum': 4134, 'czo': 4135, 'residcen': 4136, 'warhous': 4137, 'retailstor': 4138, 'perit': 4139, 'facitl': 4140, 'magna': 4141, 'lightinginstal': 4142, 'beamd': 4143, 'cdx': 4144, 'thk': 4145, 'compound': 4146, 'coupl': 4147, 'hilliard': 4148, 'swin': 4149, 'flagship': 4150, 'adequ': 4151, 'bdld': 4152, 'farragut': 4153, 'hs': 4154, 'parkway': 4155, 'waveland': 4156, 'reapir': 4157, 'fixter': 4158, 'repaiir': 4159, 'stairsfront': 4160, 'wrigley': 4161, 'cmokestack': 4162, 'sterl': 4163, 'prvate': 4164, 'certi': 4165, 'read': 4166, 'porchnew': 4167, 'consol': 4168, 'entireti': 4169, 'banist': 4170, 'marshfield': 4171, 'equipmentand': 4172, 'valet': 4173, 'tinm': 4174, 'cont': 4175, 'remot': 4176, 'areaof': 4177, 'constructionto': 4178, 'restaurantof': 4179, 'dave': 4180, 'matthew': 4181, 'suana': 4182, 'balord': 4183, 'tin': 4184, 'psychiatr': 4185, 'iiii': 4186, 'aluminium': 4187, 'antnena': 4188, 'thermopan': 4189, 'plumbinng': 4190, 'balloon': 4191, 'equipmat': 4192, 'chagn': 4193, 'distanc': 4194, 'plansremov': 4195, 'backfil': 4196, 'inder': 4197, 'winchest': 4198, 'permitt': 4199, 'sandingand': 4200, 'tape': 4201, 'telecommnun': 4202, 'boutiqu': 4203, 'tori': 4204, 'record': 4205, 'dawg': 4206, 'fat': 4207, 'lower': 4208, 'histor': 4209, 'elevationa': 4210, 'prior': 4211, 'combo': 4212, 'worksurfac': 4213, 'hugh': 4214, 'plum': 4215, 'peach': 4216, 'cabinett': 4217, 'petenhous': 4218, 'siiz': 4219, 'existingporch': 4220, 'pporch': 4221, 'partis': 4222, 'porchfor': 4223, 'entanc': 4224, 'framingcurr': 4225, 'providebathroom': 4226, 'repllac': 4227, 'guardhous': 4228, 'demoliion': 4229, 'independ': 4230, 'aubon': 4231, 'alcohol': 4232, 'wholesal': 4233, 'demetrio': 4234, 'supermarket': 4235, 'join': 4236, 'evel': 4237, 'asexist': 4238, 'kid': 4239, 'mardi': 4240, 'disord': 4241, 'burnettsuit': 4242, 'leo': 4243, 'porchesa': 4244, 'renovationpartit': 4245, 'corr': 4246, 'fireprf': 4247, 'gl': 4248, 'interlock': 4249, 'sl': 4250, 'vest': 4251, 'detct': 4252, 'smk': 4253, 'egresspath': 4254, 'counterbal': 4255, 'ofrfic': 4256, 'originalst': 4257, 'holder': 4258, 'synagogu': 4259, 'ram': 4260, 'handycap': 4261, 'revios': 4262, 'ispect': 4263, 'bagel': 4264, 'einstein': 4265, 'malta': 4266, 'pilat': 4267, 'roofotp': 4268, 'cermak': 4269, 'addisiton': 4270, 'cistern': 4271, 'flyer': 4272, 'cinstruct': 4273, 'locationreplac': 4274, 'ink': 4275, 'contigur': 4276, 'spacesuit': 4277, 'newsteel': 4278, 'firedamag': 4279, 'kolmar': 4280, 'marquett': 4281, 'allow': 4282, 'catchbasin': 4283, 'alluminum': 4284, 'sturctur': 4285, 'sunshad': 4286, 'hardwir': 4287, 'porlch': 4288, 'sbif': 4289, 'deplex': 4290, 'boulevard': 4291, 'comer': 4292, 'subjectt': 4293, 'pot': 4294, 'vrick': 4295, 'juliet': 4296, 'liqour': 4297, 'california': 4298, 'rosco': 4299, 'dioxid': 4300, 'coast': 4301, 'java': 4302, 'liebert': 4303, 'paparpet': 4304, 'accomod': 4305, 'andloc': 4306, 'plansapprov': 4307, 'list': 4308, 'geo': 4309, 'gfa': 4310, 'cone': 4311, 'appear': 4312, 'pine': 4313, 'lead': 4314, 'caryy': 4315, 'chiropract': 4316, 'analysi': 4317, 'highwood': 4318, 'descript': 4319, 'exsitgin': 4320, 'riverview': 4321, 'exsit': 4322, 'resatur': 4323, 'sak': 4324, 'reconnect': 4325, 'twenti': 4326, 'andwal': 4327, 'syori': 4328, 'anchor': 4329, 'replacementa': 4330, 'resdenc': 4331, 'installaton': 4332, 'lockeroom': 4333, 'jomi': 4334, 'entertin': 4335, 'pursuant': 4336, 'demolitiond': 4337, 'kitchenhood': 4338, 'replacem': 4339, 'relaoc': 4340, 'bathroomo': 4341, 'wright': 4342, 'larami': 4343, 'lane': 4344, 'trial': 4345, 'dealer': 4346, 'caviti': 4347, 'spike': 4348, 'ofplumb': 4349, 'mcl': 4350, 'duck': 4351, 'england': 4352, 'bro': 4353, 'surgeon': 4354, 'debri': 4355, 'underlay': 4356, 'speciman': 4357, 'remogel': 4358, 'theme': 4359, 'condominimum': 4360, 'lengthen': 4361, 'accessibi': 4362, 'mass': 4363, 'catherin': 4364, 'pari': 4365, 'rafer': 4366, 'vintag': 4367, 'biolog': 4368, 'physic': 4369, 'subfloor': 4370, 'dream': 4371, 'fieldhous': 4372, 'includednew': 4373, 'approvalno': 4374, 'miss': 4375, 'contribut': 4376, 'estructur': 4377, 'ds': 4378, 'pilot': 4379, 'prototy': 4380, 'lakeview': 4381, 'norwood': 4382, 'systemapprov': 4383, 'mechantil': 4384, 'barnard': 4385, 'format': 4386, 'comansa': 4387, 'ambul': 4388, 'dispatch': 4389, 'buildingus': 4390, 'kershaw': 4391, 'assessori': 4392, 'founat': 4393, 'nic': 4394, 'sire': 4395, 'joe': 4396, 'trader': 4397, 'qa': 4398, 'hendrick': 4399, 'fairbank': 4400, 'modificayt': 4401, 'tolet': 4402, 'guag': 4403, 'stopwork': 4404, 'usf': 4405, 'through': 4406, 'centr': 4407, 'retur': 4408, 'doesnot': 4409, 'carpot': 4410, 'patrick': 4411, 'press': 4412, 'sytem': 4413, 'revisiion': 4414, 'apartmnet': 4415, 'modyf': 4416, 'ammend': 4417, 'addidion': 4418, 'rpace': 4419, 'familyl': 4420, 'gather': 4421, 'intermiss': 4422, 'symposium': 4423, 'shheet': 4424, 'ent': 4425, 'flush': 4426, 'cardio': 4427, 'finishesno': 4428, 'morril': 4429, 'garagea': 4430, 'ot': 4431, 'basemen': 4432, 'trail': 4433, 'senpion': 4434, 'sixth': 4435, 'hala': 4436, 'playgrond': 4437, 'cdm': 4438, 'virgin': 4439, 'atupward': 4440, 'backsid': 4441, 'buildingand': 4442, 'jamb': 4443, 'thesearea': 4444, 'protein': 4445, 'muffler': 4446, 'elemin': 4447, 'permi': 4448, 'levelland': 4449, 'plansrais': 4450, 'existingapart': 4451, 'harvard': 4452, 'abta': 4453, 'aplan': 4454, 'structrul': 4455, 'basementto': 4456, 'housedeconvert': 4457, 'peel': 4458, 'takeout': 4459, 'calc': 4460, 'downgrad': 4461, 'southunit': 4462, 'sg': 4463, 'inground': 4464, 'waterfeatur': 4465, 'coke': 4466, 'fiit': 4467, 'basementnew': 4468, 'throughoutupgrad': 4469, 'drummond': 4470, 'repplac': 4471, 'replacementof': 4472, 'stem': 4473, 'toiletsroom': 4474, 'signband': 4475, 'tofu': 4476, 'wildberri': 4477, 'alderman': 4478, 'deconstruct': 4479, 'accessibleand': 4480, 'firer': 4481, 'buildingreplac': 4482, 'residec': 4483, 'ambassador': 4484, 'convebi': 4485, 'racquet': 4486, 'incident': 4487, 'upgrqd': 4488, 'bathromm': 4489, 'winnemac': 4490, 'coordior': 4491, 'pratit': 4492, 'chapter': 4493, 'strunctur': 4494, 'thrid': 4495, 'desert': 4496, 'elementri': 4497, 'radiati': 4498, 'airway': 4499, 'jet': 4500, 'cbre': 4501, 'concept': 4502, 'immacul': 4503, 'banner': 4504, 'istal': 4505, 'planm': 4506, 'wirel': 4507, 'clement': 4508, 'chesa': 4509, 'hilton': 4510, 'grace': 4511, 'alteri': 4512, 'ladi': 4513, 'victori': 4514, 'watcher': 4515, 'covers': 4516, 'learn': 4517, 'plumbu': 4518, 'beach': 4519, 'maniitowoc': 4520, 'garfield': 4521, 'follett': 4522, 'chimmeni': 4523, 'pkan': 4524, 'piper': 4525, 'vaneer': 4526, 'monasteri': 4527, 'sandblast': 4528, 'grauduat': 4529, 'roor': 4530, 'stairwat': 4531, 'dutchman': 4532, 'pasteur': 4533, 'cornel': 4534, 'conf': 4535, 'glzd': 4536, 'ltg': 4537, 'trex': 4538, 'dehimidifi': 4539, 'hope': 4540, 'telepres': 4541, 'linepermit': 4542, 'movement': 4543, 'grain': 4544, 'vpl': 4545, 'concreat': 4546, 'aveneu': 4547, 'bosworth': 4548, 'ravenswood': 4549, 'vav': 4550, 'mediterranean': 4551, 'hollow': 4552, 'whitney': 4553, 'refrgir': 4554, 'countschang': 4555, 'cinder': 4556, 'dairi': 4557, 'rool': 4558, 'altrer': 4559, 'undersid': 4560, 'witch': 4561, 'chassi': 4562, 'magnolia': 4563, 'overlay': 4564, 'afterfir': 4565, 'brother': 4566, 'pano': 4567, 'onstruct': 4568, 'phn': 4569, 'cupcak': 4570, 'patit': 4571, 'encolsur': 4572, 'aiport': 4573, 'wi': 4574, 'utilti': 4575, 'cart': 4576, 'lator': 4577, 'craft': 4578, 'taproom': 4579, 'alterc': 4580, 'driveup': 4581, 'attenna': 4582, 'atenna': 4583, 'ceilng': 4584, 'gase': 4585, 'handwash': 4586, 'enter': 4587, 'sec': 4588, 'globe': 4589, 'realti': 4590, 'confrenc': 4591, 'trialgraphix': 4592, 'distress': 4593, 'lowel': 4594, 'devicesprovid': 4595, 'fiberglass': 4596, 'meatl': 4597, 'renovatio': 4598, 'storiesexist': 4599, 'duto': 4600, 'bronco': 4601, 'capabl': 4602, 'mountain': 4603, 'obstacl': 4604, 'seconvers': 4605, 'ramo': 4606, 'push': 4607, 'commerciq': 4608, 'lawndal': 4609, 'repapir': 4610, 'bio': 4611, 'refac': 4612, 'taqueria': 4613, 'skill': 4614, 'exteiror': 4615, 'itnerior': 4616, 'gomper': 4617, 'ronald': 4618, 'ana': 4619, 'roqu': 4620, 'smoker': 4621, 'steuben': 4622, 'von': 4623, 'stanislau': 4624, 'pritzker': 4625, 'attenu': 4626, 'fint': 4627, 'lakewood': 4628, 'reisdenc': 4629, 'sippag': 4630, 'rehabilt': 4631, 'triag': 4632, 'mar': 4633, 'portotyp': 4634, 'bao': 4635, 'wow': 4636, 'resolut': 4637, 'regard': 4638, 'purlin': 4639, 'plans_togeth': 4640, 'cmc': 4641, 'tdm': 4642, 'cfm': 4643, 'cascad': 4644, 'nut': 4645, 'mccartney': 4646, 'belt': 4647, 'nesh': 4648, 'jewerlri': 4649, 'inpseciton': 4650, 'jacob': 4651, 'kaufman': 4652, 'rainscreen': 4653, 'mortgag': 4654, 'fab': 4655, 'frameri': 4656, 'pod': 4657, 'mob': 4658, 'electron': 4659, 'hhgregg': 4660, 'propos': 4661, 'partner': 4662, 'tast': 4663, 'railinga': 4664, 'anxieti': 4665, 'creperi': 4666, 'precook': 4667, 'monaco': 4668, 'secret': 4669, 'vitoria': 4670, 'disabl': 4671, 'gelato': 4672, 'distribuion': 4673, 'framporch': 4674, 'hangar': 4675, 'corp': 4676, 'kammad': 4677, 'newsstand': 4678, 'fll': 4679, 'brethren': 4680, 'gazebo': 4681, 'franci': 4682, 'msnri': 4683, 'loop': 4684, 'recoonfigur': 4685, 'isul': 4686, 'refinsh': 4687, 'plug': 4688, 'cbcr': 4689, 'lavatorufram': 4690, 'mcdonough': 4691, 'cabinetinstal': 4692, 'cableground': 4693, 'jumpersinstal': 4694, 'mountinstal': 4695, 'ppc': 4696, 'telco': 4697, 'price': 4698, 'mutli': 4699, 'framw': 4700, 'rkon': 4701, 'humid': 4702, 'andada': 4703, 'hdcp': 4704, 'jp': 4705, 'univ': 4706, 'cbcreplac': 4707, 'rehabit': 4708, 'kahn': 4709, 'outdor': 4710, 'laport': 4711, 'bee': 4712, 'baskin': 4713, 'markerboard': 4714, 'preschool': 4715, 'ericsson': 4716, 'dehumidif': 4717, 'lesli': 4718, 'corrtect': 4719, 'locqat': 4720, 'eclosur': 4721, 'equipm': 4722, 'buren': 4723, 'corepow': 4724, 'pnc': 4725, 'marren': 4726, 'archtitect': 4727, 'dwellingb': 4728, 'enclous': 4729, 'planbuild': 4730, 'quarter': 4731, 'coresit': 4732, 'carrier': 4733, 'homer': 4734, 'blommer': 4735, 'safeway': 4736, 'herein': 4737, 'proeprti': 4738, 'plat': 4739, 'rootop': 4740, 'kaplan': 4741, 'dragnet': 4742, 'speyer': 4743, 'topper': 4744, 'heaterw': 4745, 'zenithoptimedia': 4746, 'irin': 4747, 'appprov': 4748, 'siena': 4749, 'heath': 4750, 'insur': 4751, 'chiney': 4752, 'sud': 4753, 'lenscraft': 4754, 'dearbourn': 4755, 'invest': 4756, 'telx': 4757, 'cng': 4758, 'roodtop': 4759, 'vein': 4760, 'bateman': 4761, 'newton': 4762, 'andegress': 4763, 'kasia': 4764, 'horizon': 4765, 'spoil': 4766, 'merci': 4767, 'planscurr': 4768, 'option': 4769, 'electrci': 4770, 'maryland': 4771, 'draintil': 4772, 'stuffer': 4773, 'micro': 4774, 'stabilaz': 4775, 'maudel': 4776, 'savo': 4777, 'stay': 4778, 'floorconvert': 4779, 'sytstem': 4780, 'id': 4781, 'exp': 4782, 'baker': 4783, 'rooftp': 4784, 'homeow': 4785, 'lintelsand': 4786, 'fa': 4787, 'alpha': 4788, 'beta': 4789, 'male': 4790, 'richardson': 4791, 'plain': 4792, 'glycol': 4793, 'upgrd': 4794, 'therear': 4795, 'anrtenna': 4796, 'kimbark': 4797, 'buldg': 4798, 'unistrut': 4799, 'demarc': 4800, 'fuzziwig': 4801, 'armori': 4802, 'xisitng': 4803, 'exict': 4804, 'sullivan': 4805, 'lt': 4806, 'mw': 4807, 'carter': 4808, 'eixsitng': 4809, 'meal': 4810, 'bmo': 4811, 'ghz': 4812, 'mimo': 4813, 'samsung': 4814, 'hfc': 4815, 'mast': 4816, 'vr': 4817, 'machineri': 4818, 'woodland': 4819, 'piccolo': 4820, 'sogno': 4821, 'rermodel': 4822, 'antennasreplac': 4823, 'newlintel': 4824, 'soy': 4825, 'xien': 4826, 'crandon': 4827, 'advoc': 4828, 'hansen': 4829, 'alumni': 4830, 'sizeappl': 4831, 'repla': 4832, 'penthpus': 4833, 'opn': 4834, 'masonr': 4835, 'rerair': 4836, 'drawign': 4837, 'highway': 4838, 'conditio': 4839, 'jail': 4840, 'visitor': 4841, 'altar': 4842, 'convector': 4843, 'patt': 4844, 'de': 4845, 'discharg': 4846, 'propert': 4847, 'messeng': 4848, 'ibm': 4849, 'inprepar': 4850, 'proposedus': 4851, 'elavt': 4852, 'cancer': 4853, 'cyberknif': 4854, 'poster': 4855, 'storybldg': 4856, 'modifyingbas': 4857, 'foodeas': 4858, 'familiy': 4859, 'dessert': 4860, 'bedroomsa': 4861, 'hopmeown': 4862, 'tyo': 4863, 'ross': 4864, 'ceilinginstal': 4865, 'floresc': 4866, 'spacescop': 4867, 'doll': 4868, 'coutur': 4869, 'republ': 4870, 'avneu': 4871, 'systemaddit': 4872, 'bathhous': 4873, 'raililng': 4874, 'wayn': 4875, 'joseph': 4876, 'seminari': 4877, 'colunm': 4878, 'autopsi': 4879, 'bill': 4880, 'toth': 4881, 'buildingnew': 4882, 'primecar': 4883, 'buildingwith': 4884, 'corret': 4885, 'genoa': 4886, 'porchpermit': 4887, 'peemir': 4888, 'bebe': 4889, 'tripl': 4890, 'doorin': 4891, 'onplan': 4892, 'ownership': 4893, 'subjwct': 4894, 'replaceexist': 4895, 'austin': 4896, 'tribun': 4897, 'seller': 4898, 'mckinlock': 4899, 'doti': 4900, 'durat': 4901, 'period': 4902, 'pullman': 4903, 'nailsalon': 4904, 'tumi': 4905, 'chop': 4906, 'suey': 4907, 'partitioin': 4908, 'alteraton': 4909, 'wroght': 4910, 'kingsburi': 4911, 'justic': 4912, 'peremit': 4913, 'pllan': 4914, 'perhomeown': 4915, 'uniform': 4916, 'roomfram': 4917, 'electrif': 4918, 'coyot': 4919, 'logisit': 4920, 'storefornt': 4921, 'aream': 4922, 'braintre': 4923, 'fthe': 4924, 'ppm': 4925, 'crosbi': 4926, 'rahab': 4927, 'propertylin': 4928, 'forklift': 4929, 'denconvert': 4930, 'burk': 4931, 'mattersight': 4932, 'sheraton': 4933, 'screw': 4934, 'repolac': 4935, 'structurea': 4936, 'toadd': 4937, 'masnori': 4938, 'simul': 4939, 'timberland': 4940, 'precis': 4941, 'skincar': 4942, 'rental': 4943, 'refrigr': 4944, 'milk': 4945, 'faux': 4946, 'softwar': 4947, 'scott': 4948, 'recturi': 4949, 'rainforest': 4950, 'doorsam': 4951, 'bmst': 4952, 'opendeck': 4953, 'downlink': 4954, 'helicopt': 4955, 'gaulter': 4956, 'reglaz': 4957, 'avison': 4958, 'cbcrepair': 4959, 'frankel': 4960, 'hematolog': 4961, 'westwood': 4962, 'modular': 4963, 'krispi': 4964, 'krunchi': 4965, 'clasif': 4966, 'pkwi': 4967, 'crescent': 4968, 'siaz': 4969, 'lte': 4970, 'roooftop': 4971, 'camera': 4972, 'constructionrevis': 4973, 'januari': 4974, 'buildingse': 4975, 'gelatto': 4976, 'mcclurg': 4977, 'frot': 4978, 'locaiton': 4979, 'cannabi': 4980, 'supersed': 4981, 'wooddeck': 4982, 'crank': 4983, 'phoeb': 4984, 'leav': 4985, 'spindl': 4986, 'gnc': 4987, 'herman': 4988, 'miller': 4989, 'ltd': 4990, 'hoffman': 4991, 'sanchez': 4992, 'batroom': 4993, 'esquir': 4994, 'rehabilitationin': 4995, 'unchangedaddit': 4996, 'capx': 4997, 'rebrick': 4998, 'venitl': 4999, 'backstair': 5000, 'devault': 5001, 'krieg': 5002, 'ep': 5003, 'equiti': 5004, 'classsroom': 5005, 'effic': 5006, 'pea': 5007, 'payless': 5008, 'fenceat': 5009, 'curent': 5010, 'inspet': 5011, 'restaurantarea': 5012, 'solut': 5013, 'dev': 5014, 'rada': 5015, 'armani': 5016, 'emporio': 5017, 'belconi': 5018, 'hose': 5019, 'del': 5020, 'prodo': 5021, 'indicatedrepair': 5022, 'remdodel': 5023, 'surgi': 5024, 'seeley': 5025, 'border': 5026, 'nordex': 5027, 'hieght': 5028, 'tilton': 5029, 'haul': 5030, 'edward': 5031, 'naf': 5032, 'oh': 5033, 'tam': 5034, 'compput': 5035, 'galileo': 5036, 'rev': 5037, 'barbara': 5038, 'sculleri': 5039, 'checkstand': 5040, 'volleybal': 5041, 'cenacl': 5042, 'retreat': 5043, 'vestabul': 5044, 'rvisiont': 5045, 'elevis': 5046, 'nsp': 5047, 'nois': 5048, 'quench': 5049, 'existig': 5050, 'interiorpartit': 5051, 'consturct': 5052, 'i_c': 5053, 'plqan': 5054, 'jacuzzi': 5055, 'rehabilait': 5056, 'equpi': 5057, 'fight': 5058, 'foundatt': 5059, 'enri': 5060, 'bartlett': 5061, 'proertylin': 5062, 'chees': 5063, 'residentialwood': 5064, 'risk': 5065, 'feb': 5066, 'rv': 5067, 'fratern': 5068, 'puls': 5069, 'carhartt': 5070, 'locksmith': 5071, 'pepsi': 5072, 'replacemenrt': 5073, 'subcontractor': 5074, 'pysch': 5075, 'slurri': 5076, 'construt': 5077, 'compartment': 5078, 'perman': 5079, 'constructioninclud': 5080, 'configuratioon': 5081, 'grinder': 5082, 'morgan': 5083, 'forrevis': 5084, 'delership': 5085, 'fiat': 5086, 'dolan': 5087, 'mc': 5088, 'roger': 5089, 'villa': 5090, 'occupani': 5091, 'artwork': 5092, 'lamon': 5093, 'gender': 5094, 'metail': 5095, 'amc': 5096, 'cullom': 5097, 'intercom': 5098, 'stimulu': 5099, 'cpmpli': 5100, 'harde': 5101, 'except': 5102, 'byron': 5103, 'barfront': 5104, 'bean': 5105, 'phoenix': 5106, 'woman': 5107, 'mead': 5108, 'congress': 5109, 'rebalanc': 5110, 'commercialspac': 5111, 'drill': 5112, 'monument': 5113, 'announc': 5114, 'claremont': 5115, 'oasi': 5116, 'michigan_randolph': 5117, 'roofoptop': 5118, 'manulif': 5119, 'accessis': 5120, 'emereg': 5121, 'porter': 5122, 'vinegar': 5123, 'cgh': 5124, 'iileg': 5125, 'siegel': 5126, 'stuart': 5127, 'workscop': 5128, 'juarez': 5129, 'redid': 5130, 'pride': 5131, 'festiv': 5132, 'cosmotolog': 5133, 'simeon': 5134, 'richard': 5135, 'cloud': 5136, 'delta': 5137, 'plg': 5138, 'strucutur': 5139, 'consruct': 5140, 'parallel': 5141, 'rea': 5142, 'coonley': 5143, 'fifteenth': 5144, 'homewom': 5145, 'labaguett': 5146, 'dior': 5147, 'singl': 5148, 'chgo': 5149, 'heuer': 5150, 'renoiv': 5151, 'charl': 5152, 'braker': 5153, 'cabnet': 5154, 'partialr': 5155, 'schiller': 5156, 'bamsent': 5157, 'prayer': 5158, 'webster': 5159, 'winodw': 5160, 'andrepair': 5161, 'fnd': 5162, 'samll': 5163, 'llb': 5164, 'certself': 5165, 'merchant': 5166, 'jti': 5167, 'amec': 5168, 'backwat': 5169, 'plumbingrear': 5170, 'chamber': 5171, 'heart': 5172, 'monoplac': 5173, 'wound': 5174, 'brooder': 5175, 'penguin': 5176, 'worldwid': 5177, 'carrol': 5178, 'smyser': 5179, 'greensfeld': 5180, 'refrenc': 5181, 'phillip': 5182, 'question': 5183, 'workley': 5184, 'df': 5185, 'bosley': 5186, 'diageo': 5187, 'jersey': 5188, 'mike': 5189, 'wayfind': 5190, 'kingston': 5191, 'foootin': 5192, 'flip': 5193, 'mani': 5194, 'padi': 5195, 'roofop': 5196, 'porcjh': 5197, 'psych': 5198, 'rplacement': 5199, 'sprinkel': 5200, 'yogurtland': 5201, 'consuct': 5202, 'curch': 5203, 'subdivs': 5204, 'porhc': 5205, 'fixtru': 5206, 'bdo': 5207, 'llp': 5208, 'werc': 5209, 'bruce': 5210, 'springsteen': 5211, 'masonori': 5212, 'refrigert': 5213, 'ward': 5214, 'replaca': 5215, 'boundari': 5216, 'rookeri': 5217, 'blackbox': 5218, 'mayfield': 5219, 'planswork': 5220, 'cooklin': 5221, 'conniv': 5222, 'achitect': 5223, 'govern': 5224, 'sysem': 5225, 'rehablit': 5226, 'clip': 5227, 'adm': 5228, 'appl': 5229, 'berdoom': 5230, 'tooccup': 5231, 'rhode': 5232, 'projectkitchen': 5233, 'ptp': 5234, 'baptist': 5235, 'stairwll': 5236, 'accesbl': 5237, 'maplewood': 5238, 'dispciplin': 5239, 'polit': 5240, 'employ': 5241, 'maravilla': 5242, 'kindreplac': 5243, 'exemptnumb': 5244, 'inbas': 5245, 'ofexist': 5246, 'orsiz': 5247, 'curcuit': 5248, 'paster': 5249, 'roomup': 5250, 'kwh': 5251, 'forrestvil': 5252, 'mozart': 5253, 'therapeut': 5254, 'talk': 5255, 'childcar': 5256, 'mlk': 5257, 'harper': 5258, 'occpuanc': 5259, 'pigeon': 5260, 'herbalf': 5261, 'herbalif': 5262, 'kilowatt': 5263, 'centuri': 5264, 'servis': 5265, 'ebanista': 5266, 'googl': 5267, 'dessin': 5268, 'fournir': 5269, 'certifictaion': 5270, 'sole': 5271, 'tobas': 5272, 'enphas': 5273, 'world': 5274, 'instrument': 5275, 'gastroenterolog': 5276, 'onlin': 5277, 'allstat': 5278, 'remodelof': 5279, 'mechancail': 5280, 'frameporch': 5281, 'switchback': 5282, 'angel': 5283, 'submniss': 5284, 'math': 5285, 'vgb': 5286, 'steril': 5287, 'habilt': 5288, 'cbiz': 5289, 'lenght': 5290, 'sutherland': 5291, 'hvacupgrag': 5292, 'revisionsnew': 5293, 'handsink': 5294, 'lifesourc': 5295, 'multius': 5296, 'jump': 5297, 'replc': 5298, 'hdf': 5299, 'fanni': 5300, 'acccess': 5301, 'mutlius': 5302, 'hvacsystem': 5303, 'ah': 5304, 'expeditor': 5305, 'perfum': 5306, 'larchmont': 5307, 'rectif': 5308, 'porchr': 5309, 'lunt': 5310, 'plean': 5311, 'cullen': 5312, 'partitiion': 5313, 'cardboard': 5314, 'includind': 5315, 'refresh': 5316, 'downconvers': 5317, 'kane': 5318, 'mckenna': 5319, 'ge': 5320, 'monogram': 5321, 'alterst': 5322, 'albion': 5323, 'programrepair': 5324, 'fist': 5325, 'hogar': 5326, 'ceritf': 5327, 'armi': 5328, 'salvat': 5329, 'intelligentsia': 5330, 'install': 5331, 'rider': 5332, 'reviewrenov': 5333, 'marchfield': 5334, 'apcr': 5335, 'plansextend': 5336, 'gyromena': 5337, 'equiment': 5338, 'reactiv': 5339, 'servicv': 5340, 'memori': 5341, 'll': 5342, 'thirdf': 5343, 'neil': 5344, 'woodfloor': 5345, 'qti': 5346, 'pdm': 5347, 'palor': 5348, 'storyporch': 5349, 'pediatr': 5350, 'weissbluth': 5351, 'groom': 5352, 'spire': 5353, 'wpvn': 5354, 'cliffdwel': 5355, 'allur': 5356, 'brk': 5357, 'hse': 5358, 'finishesupgrad': 5359, 'wallrepair': 5360, 'pocrh': 5361, 'pirch': 5362, 'mad': 5363, 'rothestein': 5364, 'ruth': 5365, 'edison': 5366, 'cbrd': 5367, 'grp': 5368, 'rod': 5369, 'pyro': 5370, 'batch': 5371, 'elmdal': 5372, 'firt': 5373, 'earthwork': 5374, 'monror': 5375, 'grk': 5376, 'hosptial': 5377, 'demonstr': 5378, 'andreplac': 5379, 'experi': 5380, 'arechitect': 5381, 'berger': 5382, 'roland': 5383, 'main': 5384, 'inlcud': 5385, 'cerif': 5386, 'se': 5387, 'gibbon': 5388, 'steger': 5389, 'firebox': 5390, 'determin': 5391, 'michael': 5392, 'rvision': 5393, 'plansnumb': 5394, 'reconvert': 5395, 'stingray': 5396, 'margaritavil': 5397, 'synegogu': 5398, 'penney': 5399, 'garagewith': 5400, 'treasur': 5401, 'healthcar': 5402, 'maxwel': 5403, 'replacefront': 5404, 'annunci': 5405, 'screend': 5406, 'octagon': 5407, 'sper': 5408, 'cottag': 5409, 'grove': 5410, 'doughnut': 5411, 'sapc': 5412, 'anddeconvers': 5413, 'spcace': 5414, 'tpo': 5415, 'wolford': 5416, 'are': 5417, 'corrrect': 5418, 'realoc': 5419, 'inspectio': 5420, 'saftey': 5421, 'zacataco': 5422, 'huddl': 5423, 'led': 5424, 'team': 5425, 'vacanc': 5426, 'mz': 5427, 'medium': 5428, 'pprz': 5429, 'assit': 5430, 'un': 5431, 'certifici': 5432, 'delano': 5433, 'destin': 5434, 'xl': 5435, 'stopi': 5436, 'facilt': 5437, 'modifict': 5438, 'aditt': 5439, 'levelrenov': 5440, 'slef': 5441, 'stree': 5442, 'petco': 5443, 'sde': 5444, 'omiss': 5445, 'frme': 5446, 'airpot': 5447, 'turaround': 5448, 'petsmart': 5449, 'blast': 5450, 'trolley': 5451, 'commission': 5452, 'basememnt': 5453, 'sturgeon': 5454, 'guid': 5455, 'contigu': 5456, 'sprinklersand': 5457, 'reviewremodel': 5458, 'roomper': 5459, 'dwellig': 5460, 'anthoni': 5461, 'saint': 5462, 'mckinley': 5463, 'cofer': 5464, 'taver': 5465, 'devri': 5466, 'piano': 5467, 'deploy': 5468, 'ion': 5469, 'reha': 5470, 'traction': 5471, 'permitinspector': 5472, 'certificaton': 5473, 'shabbona': 5474, 'splash': 5475, 'wock': 5476, 'alterationsto': 5477, 'deconvertto': 5478, 'hvacself': 5479, 'paratpet': 5480, 'porchesbuild': 5481, 'fleet': 5482, 'lifestyl': 5483, 'cysto': 5484, 'rmg': 5485, 'dorchest': 5486, 'aparmt': 5487, 'be': 5488, 'bowen': 5489, 'bankstandard': 5490, 'plansbldg': 5491, 'hwi': 5492, 'vaccum': 5493, 'enclosu': 5494, 'pernit': 5495, 'ventilaion': 5496, 'joc': 5497, 'stroger': 5498, 'hertz': 5499, 'renew': 5500, 'grayston': 5501, 'vfd': 5502, 'oorch': 5503, 'do': 5504, 'gordo': 5505, 'buse': 5506, 'gamma': 5507, 'protector': 5508, 'quintel': 5509, 'raycap': 5510, 'surg': 5511, 'compit': 5512, 'addis': 5513, 'swim': 5514, 'outpost': 5515, 'thirtenn': 5516, 'windscreen': 5517, 'cuadra': 5518, 'leather': 5519, 'enclusur': 5520, 'swithback': 5521, 'resubmitt': 5522, 'hancock': 5523, 'worught': 5524, 'deloit': 5525, 'ddb': 5526, 'playroom': 5527, 'permti': 5528, 'portal': 5529, 'bstm': 5530, 'yeard': 5531, 'suitsuppli': 5532, 'brunello': 5533, 'cucinelli': 5534, 'laurent': 5535, 'rebiuld': 5536, 'pickup': 5537, 'officesuit': 5538, 'institu': 5539, 'ddor': 5540, 'finishesfront': 5541, 'deconverion': 5542, 'resod': 5543, 'compos': 5544, 'mayonnais': 5545, 'packer': 5546, 'pi': 5547, 'railcar': 5548, 'varieti': 5549, 'converison': 5550, 'act': 5551, 'retard': 5552, 'selfcert': 5553, 'upgrade': 5554, 'repleac': 5555, 'dick': 5556, 'golf': 5557, 'jollibe': 5558, 'pakistani': 5559, 'tran': 5560, 'mcgaw': 5561, 'rehad': 5562, 'therestor': 5563, 'towardsth': 5564, 'frotn': 5565, 'aboveground': 5566, 'ast': 5567, 'partiot': 5568, 'dulcelandia': 5569, 'alexand': 5570, 'additionful': 5571, 'flang': 5572, 'moran': 5573, 'walkout': 5574, 'attinc': 5575, 'deckupgrad': 5576, 'dplumber': 5577, 'storymasonri': 5578, 'wfld': 5579, 'reahab': 5580, 'garageful': 5581, 'ssubject': 5582, 'additionupgrad': 5583, 'chainlink': 5584, 'wgbo': 5585, 'rx': 5586, 'transpor': 5587, 'changealter': 5588, 'affectedbranch': 5589, 'floodgat': 5590, 'rwar': 5591, 'ericson': 5592, 'haymarket': 5593, 'commerci': 5594, 'measur': 5595, 'volt': 5596, 'icecream': 5597, 'pavilioin': 5598, 'storytwo': 5599, 'refreger': 5600, 'buidlout': 5601, 'windown': 5602, 'karat': 5603, 'reidanc': 5604, 'iinstal': 5605, 'exercisestudio': 5606, 'newfinish': 5607, 'vertic': 5608, 'bathroon': 5609, 'nike': 5610, 'foundationalter': 5611, 'yate': 5612, 'ballast': 5613, 'couchhous': 5614, 'renovationsrenov': 5615, 'edck': 5616, 'barg': 5617, 'unload': 5618, 'architectect': 5619, 'alterationt': 5620, 'modifaict': 5621, 'walker': 5622, 'cfd': 5623, 'distric': 5624, 'pdc': 5625, 'cpa': 5626, 'mechanicalupgrad': 5627, 'cci': 5628, 'modifiact': 5629, 'ductless': 5630, 'fri': 5631, 'hamburg': 5632, 'eras': 5633, 'goggl': 5634, 'replacementin': 5635, 'wax': 5636, 'violaion': 5637, 'incorpor': 5638, 'chiminey': 5639, 'decka': 5640, 'gordi': 5641, 'disored': 5642, 'gondola': 5643, 'rebabilit': 5644, 'violaiton': 5645, 'pediment': 5646, 'cahterin': 5647, 'buena': 5648, 'mixed_us': 5649, 'octob': 5650, 'two_stori': 5651, 'goudi': 5652, 'dispos': 5653, 'coffeeshop': 5654, 'blaze': 5655, 'conditiona': 5656, 'repel': 5657, 'princip': 5658, 'principl': 5659, 'cigar': 5660, 'rta': 5661, 'fitout': 5662, 'concentr': 5663, 'newconfer': 5664, 'couter': 5665, 'deconert': 5666, 'jam': 5667, 'pearl': 5668, 'interiorreplac': 5669, 'porchessam': 5670, 'fye': 5671, 'outreach': 5672, 'marker': 5673, 'week': 5674, 'huse': 5675, 'counterpoint': 5676, 'mitig': 5677, 'buuild': 5678, 'deeper': 5679, 'pep': 5680, 'thai': 5681, 'includign': 5682, 'satisfact': 5683, 'upfit': 5684, 'alterer': 5685, 'baseement': 5686, 'kriser': 5687, 'camlin': 5688, 'repaac': 5689, 'golder': 5690, 'rectori': 5691, 'philanthrop': 5692, 'habilit': 5693, 'selfcertif': 5694, 'stairwork': 5695, 'repip': 5696, 'bathrroom': 5697, 'freez': 5698, 'thaw': 5699, 'bassement': 5700, 'beubien': 5701, 'remodil': 5702, 'gearag': 5703, 'inciner': 5704, 'sportclip': 5705, 'srf': 5706, 'assur': 5707, 'qualiti': 5708, 'lenghtf': 5709, 'narragansett': 5710, 'feedwat': 5711, 'mo': 5712, 'parnel': 5713, 'rosenwald': 5714, 'abandon': 5715, 'insinker': 5716, 'levat': 5717, 'lover': 5718, 'restauraunt': 5719, 'alterast': 5720, 'remodelreplac': 5721, 'convet': 5722, 'deckwith': 5723, 'tji': 5724, 'tweenti': 5725, 'hepa': 5726, 'beneath': 5727, 'efficic': 5728, 'residencep': 5729, 'workand': 5730, 'ha': 5731, 'wokd': 5732, 'veranda': 5733, 'storefrontnew': 5734, 'tractor': 5735, 'hybrid': 5736, 'tavernand': 5737, 'veloc': 5738, 'kildar': 5739, 'void': 5740, 'wic': 5741, 'map': 5742, 'plaln': 5743, 'westport': 5744, 'vari': 5745, 'cosistign': 5746, 'batt': 5747, 'brunham': 5748, 'promontori': 5749, 'salonremov': 5750, 'antena': 5751, 'soley': 5752, 'psi': 5753, 'sef': 5754, 'import': 5755, 'cabt': 5756, 'danger': 5757, 'platground': 5758, 'hockey': 5759, 'rink': 5760, 'dout': 5761, 'housereplac': 5762, 'antennasreloc': 5763, 'scopearea': 5764, 'sfwork': 5765, 'resaid': 5766, 'buildingmen': 5767, 'constructin': 5768, 'bistro': 5769, 'china': 5770, 'thalia': 5771, 'consistign': 5772, 'reoof': 5773, 'lufthansa': 5774, 'rn': 5775, 'cop': 5776, 'mono': 5777, 'multiunit': 5778, 'elain': 5779, 'calssif': 5780, 'crossroad': 5781, 'cosist': 5782, 'dipper': 5783, 'scoop': 5784, 'fbi': 5785, 'violationsinstal': 5786, 'amtrak': 5787, 'hydrant': 5788, 'javorka': 5789, 'pplan': 5790, 'reeplac': 5791, 'solar': 5792, 'cctv': 5793, 'addititon': 5794, 'firestop': 5795, 'drum': 5796, 'storar': 5797, 'kentucki': 5798, 'anntena': 5799, 'rooftoop': 5800, 'flitch': 5801, 'replacementupgrad': 5802, 'restauranthotdogland': 5803, 'bucovina': 5804, 'pga': 5805, 'tenantspac': 5806, 'circl': 5807, 'berteau': 5808, 'upgard': 5809, 'harvey': 5810, 'loacat': 5811, 'dstrict': 5812, 'dermatolog': 5813, 'icu': 5814, 'westy': 5815, 'humidor': 5816, 'astronomi': 5817, 'astrophys': 5818, 'headhous': 5819, 'cbcconvert': 5820, 'granvil': 5821, 'internet': 5822, 'anatomi': 5823, 'sysytem': 5824, 'canopyp': 5825, 'efp': 5826, 'interfac': 5827, 'paritt': 5828, 'consistng': 5829, 'convis': 5830, 'porchelimin': 5831, 'permitwork': 5832, 'quarri': 5833, 'satc': 5834, 'warren': 5835, 'lok': 5836, 'versa': 5837, 'alteratin': 5838, 'porchinstal': 5839, 'sportsbar': 5840, 'unitreplac': 5841, 'juliu': 5842, 'meinl': 5843, 'newplumb': 5844, 'hd': 5845, 'resin': 5846, 'iin': 5847, 'porvch': 5848, 'stoni': 5849, 'luxuri': 5850, 'watch': 5851, 'apartemnt': 5852, 'arturo': 5853, 'velasquez': 5854, 'stinger': 5855, 'dounut': 5856, 'spac': 5857, 'babi': 5858, 'healthwork': 5859, 'duchossi': 5860, 'infus': 5861, 'eyecar': 5862, 'kraft': 5863, 'resurrect': 5864, 'retir': 5865, 'usabl': 5866, 'quotidien': 5867, 'tavorn': 5868, 'masorni': 5869, 'sel': 5870, 'kersten': 5871, 'advocaci': 5872, 'drip': 5873, 'plymouth': 5874, 'wingstop': 5875, 'decomvert': 5876, 'icpa': 5877, 'viynl': 5878, 'holiday': 5879, 'cold': 5880, 'cr': 5881, 'inland': 5882, 'barr': 5883, 'ifl': 5884, 'duchossoi': 5885, 'underpass': 5886, 'cver': 5887, 'rj': 5888, 'rf': 5889, 'investig': 5890, 'reahb': 5891, 'buffet': 5892, 'sepc': 5893, 'appurten': 5894, 'garaga': 5895, 'cnvert': 5896, 'inspec': 5897, 'mathnasium': 5898, 'lathrop': 5899, 'at': 5900, 'chatham': 5901, 'intumesc': 5902, 'modifiedhvac': 5903, 'maiteen': 5904, 'bearingto': 5905, 'kor': 5906, 'dk': 5907, 'recess': 5908, 'revolut': 5909, 'applinc': 5910, 'authoritybus': 5911, 'planet': 5912, 'describ': 5913, 'reconfiger': 5914, 'demoloit': 5915, 'plumbingand': 5916, 'grillag': 5917, 'pointinglintel': 5918, 'subsurfac': 5919, 'coachousr': 5920, 'kindergarten': 5921, 'ampmet': 5922, 'newconduit': 5923, 'amenitii': 5924, 'bunker': 5925, 'basmenet': 5926, 'birck': 5927, 'munchroom': 5928, 'storagg': 5929, 'corber': 5930, 'aimmc': 5931, 'ir': 5932, 'dirt': 5933, 'av': 5934, 'garrett': 5935, 'trixi': 5936, 'armour': 5937, 'revon': 5938, 'grarag': 5939, 'hillshir': 5940, 'exploratori': 5941, 'telemetri': 5942, 'sstori': 5943, 'klein': 5944, 'convini': 5945, 'framework': 5946, 'maki': 5947, 'hydrat': 5948, 'ff': 5949, 'aspect': 5950, 'menchi': 5951, 'caray': 5952, 'inning': 5953, 'stretch': 5954, 'andrew': 5955, 'hex': 5956, 'seond': 5957, 'reengin': 5958, 'duplezx': 5959, 'rosin': 5960, 'reintstat': 5961, 'bale': 5962, 'configuir': 5963, 'tcbi': 5964, 'absorpt': 5965, 'centrifug': 5966, 'talman': 5967, 'snack': 5968, 'ibc': 5969, 'dett': 5970, 'jenner': 5971, 'occupaci': 5972, 'selft': 5973, 'diesal': 5974, 'odel': 5975, 'afterschool': 5976, 'pull': 5977, 'gci': 5978, 'gordon': 5979, 'laser': 5980, 'find': 5981, 'desktop': 5982, 'repaair': 5983, 'standalon': 5984, 'histori': 5985, 'clubroom': 5986, 'atc': 5987, 'certificast': 5988, 'lockwood': 5989, 'deal': 5990, 'snapper': 5991, 'propoerti': 5992, 'insatal': 5993, 'rodger': 5994, 'monixid': 5995, 'pure': 5996, 'coner': 5997, 'concurr': 5998, 'crop': 5999, 'egre': 6000, 'billiard': 6001, 'bullet': 6002, 'magnetomet': 6003, 'mila': 6004, 'kwik': 6005, 'sharespear': 6006, 'configu': 6007, 'kithcen': 6008, 'existingconfigur': 6009, 'bbq': 6010, 'toinclud': 6011, 'howe': 6012, 'existingon': 6013, 'onpremis': 6014, 'observatori': 6015, 'telescop': 6016, 'sidinga': 6017, 'curtainwal': 6018, 'ai': 6019, 'hm': 6020, 'wardrob': 6021, 'diaphragm': 6022, 'knox': 6023, 'mechanci': 6024, 'damageat': 6025, 'acadami': 6026, 'storeag': 6027, 'conret': 6028, 'utili': 6029, 'vice': 6030, 'appx': 6031, 'hard': 6032, 'aprox': 6033, 'jan': 6034, 'blacki': 6035, 'boston': 6036, 'divisor': 6037, 'leverl': 6038, 'officespac': 6039, 'ambulantori': 6040, 'categori': 6041, 'reload': 6042, 'sort': 6043, 'snow': 6044, 'tool': 6045, 'growth': 6046, 'rcp': 6047, 'replacemi': 6048, 'implement': 6049, 'restautr': 6050, 'mcclellan': 6051, 'kithen': 6052, 'xavier': 6053, 'emt': 6054, 'culbertson': 6055, 'caper': 6056, 'jiffi': 6057, 'lube': 6058, 'hoist': 6059, 'conruct': 6060, 'connector_': 6061, 'twisted_joist': 6062, 'frool': 6063, 'davit': 6064, 'uniti': 6065, 'sefl': 6066, 'midspan': 6067, 'affect': 6068, 'alterationss': 6069, 'sazerac': 6070, 'planso': 6071, 'vant': 6072, 'repaid': 6073, 'violacion': 6074, 'renovationreplac': 6075, 'prism': 6076, 'cycl': 6077, 'framingwork': 6078, 'nook': 6079, 'basil': 6080, 'complianttoilet': 6081, 'kurtzen': 6082, 'tear': 6083, 'rad': 6084, 'cba': 6085, 'font': 6086, 'scissor': 6087, 'cbcinstal': 6088, 'electricalin': 6089, 'kindbathroom': 6090, 'demol': 6091, 'workspac': 6092, 'remain': 6093, 'palsc': 6094, 'levela': 6095, 'insert': 6096, 'apartm': 6097, 'pendant': 6098, 'converet': 6099, 'sauna': 6100, 'wm': 6101, 'cabaret': 6102, 'green': 6103, 'rebrand': 6104, 'atart': 6105, 'convein': 6106, 'alucobond': 6107, 'padimat': 6108, 'tred': 6109, 'recov': 6110, 'pub': 6111, 'dont': 6112, 'speedi': 6113, 'decector': 6114, 'excavatio': 6115, 'opng': 6116, 'bingo': 6117, 'fro': 6118, 'realtor': 6119, 'schubert': 6120, 'ainsl': 6121, 'moro': 6122, 'brookston': 6123, 'twin': 6124, 'banquett': 6125, 'sawyer': 6126, 'nenov': 6127, 'carmen': 6128, 'decorvers': 6129, 'inspecrt': 6130, 'schelter': 6131, 'baler': 6132, 'mdp': 6133, 'portioon': 6134, 'submet': 6135, 'cylind': 6136, 'brichacek': 6137, 'glenn': 6138, 'offset': 6139, 'deconcert': 6140, 'plansspac': 6141, 'refus': 6142, 'flynn': 6143, 'rb': 6144, 'blake': 6145, 'shelton': 6146, 'mendel': 6147, 'sled': 6148, 'carpenti': 6149, 'turnov': 6150, 'microwav': 6151, 'cullerton': 6152, 'communit': 6153, 'tobacco': 6154, 'sconc': 6155, 'substituit': 6156, 'frequenc': 6157, 'iitri': 6158, 'mwood': 6159, 'pli': 6160, 'cabin': 6161, 'equestr': 6162, 'othp': 6163, 'foundationrepair': 6164, 'congest': 6165, 'fault': 6166, 'payton': 6167, 'walter': 6168, 'mehcan': 6169, 'page': 6170, 'roob': 6171, 'allter': 6172, 'cetif': 6173, 'clerk': 6174, 'brunschwig': 6175, 'jofa': 6176, 'benfit': 6177, 'viceroy': 6178, 'chef': 6179, 'decinvers': 6180, 'staur': 6181, 'graci': 6182, 'exteror': 6183, 'loclit': 6184, 'cameron': 6185, 'dunbar': 6186, 'roomreloc': 6187, 'beyonc': 6188, 'jayz': 6189, 'teo': 6190, 'cu': 6191, 'coper': 6192, 'bric': 6193, 'evolut': 6194, 'term': 6195, 'keycard': 6196, 'strike': 6197, 'maximum': 6198, 'shash': 6199, 'srori': 6200, 'buildingthi': 6201, 'elevaton': 6202, 'valor': 6203, 'cbrcconvert': 6204, 'pinstrip': 6205, 'shute': 6206, 'tour': 6207, 'bump': 6208, 'sah': 6209, 'sheetrock': 6210, 'wth': 6211, 'upgread': 6212, 'fresha': 6213, 'kedval': 6214, 'parent': 6215, 'stockton': 6216, 'sip': 6217, 'shuter': 6218, 'mhz': 6219, 'purcel': 6220, 'ne': 6221, 'typ': 6222, 'actuat': 6223, 'sealcoat': 6224, 'restraur': 6225, 'hargrov': 6226, 'scaffold': 6227, 'rtesid': 6228, 'diann': 6229, 'lacertosa': 6230, 'plax': 6231, 'tami': 6232, 'valentin': 6233, 'barupgrad': 6234, 'plaform': 6235, 'keybank': 6236, 'radient': 6237, 'modififac': 6238, 'canin': 6239, 'treadmil': 6240, 'subdividivion': 6241, 'zac': 6242, 'storyt': 6243, 'shift': 6244, 'lill': 6245, 'brivk': 6246, 'dwelll': 6247, 'fun': 6248, 'renopv': 6249, 'aka': 6250, 'sedgwick': 6251, 'distributor': 6252, 'personnel': 6253, 'evergreen': 6254, 'carib': 6255, 'sofit': 6256, 'giordano': 6257, 'disturb': 6258, 'inspectionw': 6259, 'scketch': 6260, 'ocean': 6261, 'clubhous': 6262, 'player': 6263, 'storywood': 6264, 'wallreplac': 6265, 'handail': 6266, 'rhab': 6267, 'hydrotherapi': 6268, 'sox': 6269, 'spaceupgrad': 6270, 'alternateion': 6271, 'reconfigu': 6272, 'installast': 6273, 'ohio': 6274, 'long': 6275, 'lue': 6276, 'basemeni': 6277, 'planss': 6278, 'lou': 6279, 'attn': 6280, 'doherti': 6281, 'hospitatl': 6282, 'regu': 6283, 'permut': 6284, 'plansatt': 6285, 'horticultur': 6286, 'companion': 6287, 'projectthi': 6288, 'oleand': 6289, 'peet': 6290, 'landmak': 6291, 'bp': 6292, 'athlet': 6293, 'balustradefield': 6294, 'repairsfield': 6295, 'spandrel': 6296, 'totat': 6297, 'greenleaf': 6298, 'wabasha': 6299, 'weed': 6300, 'ofp': 6301, 'deckp': 6302, 'eberhart': 6303, 'rainbow': 6304, 'henderson': 6305, 'ballpark': 6306, 'alteart': 6307, 'sandston': 6308, 'citgo': 6309, 'parch': 6310, 'simgl': 6311, 'config': 6312, 'kenneth': 6313, 'illnoi': 6314, 'wardrop': 6315, 'attrium': 6316, 'rehaba': 6317, 'bethel': 6318, 'currentor': 6319, 'oceanproject': 6320, 'rooftopat': 6321, 'symbol': 6322, 'applicationrevis': 6323, 'panama': 6324, 'reenforc': 6325, 'midland': 6326, 'marin': 6327, 'housetyp': 6328, 'colummn': 6329, 'staorag': 6330, 'thompson': 6331, 'manger': 6332, 'pret': 6333, 'inspsction': 6334, 'homan': 6335, 'ab': 6336, 'cortez': 6337, 'tishman': 6338, 'commer': 6339, 'aprtment': 6340, 'enclosedwood': 6341, 'novemb': 6342, 'occu': 6343, 'goeth': 6344, 'hva': 6345, 'mp': 6346, 'fronbt': 6347, 'windowsand': 6348, 'comml': 6349, 'norht': 6350, 'digout': 6351, 'thing': 6352, 'omc': 6353, 'stutz': 6354, 'wigwam': 6355, 'oakdal': 6356, 'certfict': 6357, 'restoom': 6358, 'mankato': 6359, 'vend': 6360, 'mountmodif': 6361, 'leamington': 6362, 'dmage': 6363, 'walden': 6364, 'roofno': 6365, 'geometri': 6366, 'somrwat': 6367, 'kostner': 6368, 'mod': 6369, 'langley': 6370, 'vernon': 6371, 'greewood': 6372, 'bradley': 6373, 'uhaul': 6374, 'lavergn': 6375, 'fibertrunk': 6376, 'film': 6377, 'eve': 6378, 'samp': 6379, 'residenceand': 6380, 'altewr': 6381, 'facebook': 6382, 'frameat': 6383, 'clyde': 6384, 'wifi': 6385, 'es': 6386, 'newport': 6387, 'framegarag': 6388, 'reinforec': 6389, 'vaninlla': 6390, 'outfield': 6391, 'enov': 6392, 'warner': 6393, 'attachedto': 6394, 'ceilinig': 6395, 'demolitioin': 6396, 'carlson': 6397, 'assess': 6398, 'wiindow': 6399, 'psycholog': 6400, 'benfield': 6401, 'businessus': 6402, 'telcom': 6403, 'woodfram': 6404, 'caldwel': 6405, 'interiornon': 6406, 'outletsa': 6407, 'certifctaion': 6408, 'self_certif': 6409, 'washtub': 6410, 'finsih': 6411, 'ap': 6412, 'loadfram': 6413, 'gu': 6414, 'kettl': 6415, 'replat': 6416, 'endzon': 6417, 'ammonia': 6418, 'floorerect': 6419, 'inventori': 6420, 'toprepar': 6421, 'ribbon': 6422, 'residnc': 6423, 'osceola': 6424, 'detachd': 6425, 'pkg': 6426, 'western': 6427, 'degre': 6428, 'ceilingsreus': 6429, 'upgradesad': 6430, 'ata': 6431, 'bldgvariat': 6432, 'vandal': 6433, 'dump': 6434, 'extenst': 6435, 'planssit': 6436, 'elctric': 6437, 'sleev': 6438, 'publish': 6439, 'ecolog': 6440, 'environ': 6441, 'bothspac': 6442, 'existingsepar': 6443, 'handicamp': 6444, 'deckrefer': 6445, 'relocatedbathroom': 6446, 'wait': 6447, 'bvlgari': 6448, 'veget': 6449, 'canva': 6450, 'addr': 6451, 'partyka': 6452, 'startbuck': 6453, 'pyrophor': 6454, 'artisan': 6455, 'optim': 6456, 'deflect': 6457, 'carniv': 6458, 'architetc': 6459, 'wieland': 6460, 'westsid': 6461, 'swelf': 6462, 'equal': 6463, 'wel': 6464, 'ppermit': 6465, 'aaron': 6466, 'cbcinterior': 6467, 'constuect': 6468, 'nmg': 6469, 'agatit': 6470, 'setup': 6471, 'squid': 6472, 'interact': 6473, 'hg': 6474, 'windo': 6475, 'rey': 6476, 'crawford': 6477, 'news': 6478, 'locaion': 6479, 'essex': 6480, 'downtown': 6481, 'pedi': 6482, 'metropc': 6483, 'subeject': 6484, 'directrelac': 6485, 'pipin': 6486, 'familyproject': 6487, 'farwel': 6488, 'corliss': 6489, 'honey': 6490, 'guarnte': 6491, 'interiro': 6492, 'pressura': 6493, 'deomolit': 6494, 'dmk': 6495, 'projector': 6496, 'accommod': 6497, 'bathhroom': 6498, 'afro': 6499, 'camp': 6500, 'dan': 6501, 'mmb': 6502, 'cablesit': 6503, 'stait': 6504, 'prada': 6505, 'residentialgarag': 6506, 'rehabilat': 6507, 'exisintg': 6508, 'isssu': 6509, 'ridenc': 6510, 'growthcabin': 6511, 'stairsexact': 6512, 'eastwood': 6513, 'previousapp': 6514, 'leagu': 6515, 'rfevis': 6516, 'cz': 6517, 'chage': 6518, 'waitng': 6519, 'doomer': 6520, 'elf': 6521, 'flow': 6522, 'obstetr': 6523, 'brickyard': 6524, 'premiss': 6525, 'rpai': 6526, 'zon': 6527, 'fixturescurr': 6528, 'rsidenti': 6529, 'duin': 6530, 'permitcor': 6531, 'polym': 6532, 'vasement': 6533, 'medil': 6534, 'florock': 6535, 'toi': 6536, 'stiar': 6537, 'fooprint': 6538, 'conferenc': 6539, 'write': 6540, 'reisid': 6541, 'pmp': 6542, 'chimey': 6543, 'conceal': 6544, 'transpar': 6545, 'fifth': 6546, 'accentur': 6547, 'converion': 6548, 'barsement': 6549, 'mansur': 6550, 'agreement': 6551, 'blond': 6552, 'couner': 6553, 'junk': 6554, 'existingspac': 6555, 'xfiniti': 6556, 'correspond': 6557, 'porkchop': 6558, 'audubon': 6559, 'igig': 6560, 'picnic': 6561, 'sunnysid': 6562, 'planno': 6563, 'concord': 6564, 'grd': 6565, 'marketplac': 6566, 'trass': 6567, 'martini': 6568, 'apartmetn': 6569, 'rsidenc': 6570, 'officefacil': 6571, 'alf': 6572, 'renoc': 6573, 'officenew': 6574, 'hydro': 6575, 'solarworld': 6576, 'climat': 6577, 'cs': 6578, 'draft': 6579, 'pioneer': 6580, 'caster': 6581, 'wgn': 6582, 'wineroom': 6583, 'sittingroom': 6584, 'laps': 6585, 'speech': 6586, 'progrogram': 6587, 'aircraft': 6588, 'certiiftc': 6589, 'skim': 6590, 'spprinkler': 6591, 'fed': 6592, 'extrior': 6593, 'effort': 6594, 'altertaion': 6595, 'permiit': 6596, 'weatherproof': 6597, 'pg': 6598, 'fie': 6599, 'melvina': 6600, 'christ': 6601, 'adaptor': 6602, 'bilt': 6603, 'lacat': 6604, 'tn': 6605, 'worn': 6606, 'decommiss': 6607, 'admiss': 6608, 'disposit': 6609, 'stationhous': 6610, 'wook': 6611, 'cvoip': 6612, 'familoy': 6613, 'burton': 6614, 'judson': 6615, 'backhaul': 6616, 'ssq': 6617, 'homewown': 6618, 'rash': 6619, 'entiti': 6620, 'groung': 6621, 'kayak': 6622, 'blind': 6623, 'lighthous': 6624, 'fouth': 6625, 'inspeciton': 6626, 'exterion': 6627, 'circa': 6628, 'occupancyto': 6629, 'ceck': 6630, 'replacr': 6631, 'ess': 6632, 'beignet': 6633, 'ulil': 6634, 'greeter': 6635, 'officesscop': 6636, 'inlin': 6637, 'alltoilet': 6638, 'lasalleaddress': 6639, 'remodelsheet': 6640, 'requirementssheet': 6641, 'spertu': 6642, 'faulti': 6643, 'ccd': 6644, 'medsurg': 6645, 'reel': 6646, 'rerar': 6647, 'ray': 6648, 'subten': 6649, 'differ': 6650, 'laurin': 6651, 'resubmit': 6652, 'manicur': 6653, 'botox': 6654, 'privateoffic': 6655, 'henkel': 6656, 'marietta': 6657, 'isol': 6658, 'orthoped': 6659, 'mercanitl': 6660, 'dormirori': 6661, 'sum': 6662, 'convalesc': 6663, 'languag': 6664, 'resaur': 6665, 'stairsystem': 6666, 'cole': 6667, 'corkeri': 6668, 'seward': 6669, 'zapata': 6670, 'andparapet': 6671, 'packageunit': 6672, 'additioin': 6673, 'playhous': 6674, 'round': 6675, 'wrtightwood': 6676, 'antiqu': 6677, 'demot': 6678, 'rowhom': 6679, 'structurecurr': 6680, 'infrastuctur': 6681, 'plansper': 6682, 'basementresolv': 6683, 'meterd': 6684, 'storageremov': 6685, 'sori': 6686, 'ringsteel': 6687, 'ghang': 6688, 'deckto': 6689, 'disapprov': 6690, 'correctviol': 6691, 'terrazzo': 6692, 'pensacola': 6693, 'crew': 6694, 'rearinclud': 6695, 'waher': 6696, 'dormitiori': 6697, 'kprep': 6698, 'alteratoin': 6699, 'skyight': 6700, 'incud': 6701, 'patrtion': 6702, 'gyn': 6703, 'ob': 6704, 'polk': 6705, 'sede': 6706, 'shophous': 6707, 'jelk': 6708, 'jumper': 6709, 'installa': 6710, 'plumbin': 6711, 'buildinglabor': 6712, 'fender': 6713, 'separatlti': 6714, 'lenet': 6715, 'saloon': 6716, 'comedi': 6717, 'firstfloor': 6718, 'hygien': 6719, 'heatingsystem': 6720, 'plumbinglin': 6721, 'icn': 6722, 'offc': 6723, 'enclsour': 6724, 'nextel': 6725, 'billard': 6726, 'hallcurr': 6727, 'centerlin': 6728, 'helth': 6729, 'educt': 6730, 'gazibo': 6731, 'easement': 6732, 'inspaect': 6733, 'shakespear': 6734, 'enclosurea': 6735, 'mwh': 6736, 'buisi': 6737, 'basementrevis': 6738, 'chiimney': 6739, 'diswash': 6740, 'snell': 6741, 'atori': 6742, 'maxim': 6743, 'groupshal': 6744, 'persio': 6745, 'vinc': 6746, 'certifit': 6747, 'parapat': 6748, 'straight': 6749, 'stf': 6750, 'kuse': 6751, 'constructiondemolit': 6752, 'quater': 6753, 'recommend': 6754, 'occpanc': 6755, 'lese': 6756, 'roofrefac': 6757, 'lesse': 6758, 'buildibg': 6759, 'doorexist': 6760, 'blackhawk': 6761, 'coff': 6762, 'softscap': 6763, 'uprgrad': 6764, 'bhf': 6765, 'cod': 6766, 'remodelin': 6767, 'collabor': 6768, 'infield': 6769, 'paxton': 6770, 'officeus': 6771, 'sacramento': 6772, 'storyy': 6773, 'carlton': 6774, 'ritz': 6775, 'eyelin': 6776, 'lam': 6777, 'inpect': 6778, 'duc': 6779, 'twork': 6780, 'vac': 6781, 'circut': 6782, 'backroom': 6783, 'moosejaw': 6784, 'makeup': 6785, 'planssquar': 6786, 'introduct': 6787, 'asement': 6788, 'nfpa': 6789, 'syatem': 6790, 'pediatri': 6791, 'mecantil': 6792, 'enclodur': 6793, 'larrabe': 6794, 'homedu': 6795, 'spall': 6796, 'multifam': 6797, 'sprikler': 6798, 'requst': 6799, 'comcheck': 6800, 'woodwork': 6801, 'callebaut': 6802, 'unitaddit': 6803, 'judd': 6804, 'consider': 6805, 'sall': 6806, 'cabinetsand': 6807, 'wahtenaw': 6808, 'electricalequip': 6809, 'youth': 6810, 'entitl': 6811, 'cw': 6812, 'conditionsto': 6813, 'cube': 6814, 'gsm': 6815, 'jager': 6816, 'plinth': 6817, 'sar': 6818, 'suitcas': 6819, 'addion': 6820, 'azek': 6821, 'geefit': 6822, 'spat': 6823, 'armor': 6824, 'mediev': 6825, 'isntatl': 6826, 'att': 6827, 'leakag': 6828, 'lit': 6829, 'reshap': 6830, 'applicationconvers': 6831, 'backporch': 6832, 'lush': 6833, 'habit': 6834, 'presenc': 6835, 'gound': 6836, 'framingchang': 6837, 'ilu': 6838, 'ashburn': 6839, 'archtect': 6840, 'servicereplac': 6841, 'friend': 6842, 'balconhi': 6843, 'chitown': 6844, 'residentialreplac': 6845, 'castl': 6846, 'bulletin': 6847, 'workout': 6848, 'tick': 6849, 'gfc': 6850, 'turnkey': 6851, 'interpret': 6852, 'ahima': 6853, 'sba': 6854, 'parrapet': 6855, 'churro': 6856, 'assest': 6857, 'dut': 6858, 'laudri': 6859, 'prefabr': 6860, 'speedpro': 6861, 'depot': 6862, 'staoir': 6863, 'chiya': 6864, 'prodigi': 6865, 'admin': 6866, 'schoool': 6867, 'ophthalmolog': 6868, 'pariit': 6869, 'syst': 6870, 'spent': 6871, 'reastuar': 6872, 'choo': 6873, 'spaceand': 6874, 'multimedia': 6875, 'woodson': 6876, 'diconvers': 6877, 'physician': 6878, 'antnna': 6879, 'baffl': 6880, 'sitethi': 6881, 'crain': 6882, 'tpn': 6883, 'rig': 6884, 'elca': 6885, 'gannett': 6886, 'marijuana': 6887, 'matrjkup': 6888, 'renovatoin': 6889, 'oakwood': 6890, 'neck': 6891, 'recruit': 6892, 'lexington': 6893, 'plce': 6894, 'locationsq': 6895, 'terat': 6896, 'cincinnati': 6897, 'conferenceroom': 6898, 'transmiss': 6899, 'quickserv': 6900, 'smallsupport': 6901, 'construcion': 6902, 'cutter': 6903, 'dispali': 6904, 'ps': 6905, 'nw': 6906, 'sprinter': 6907, 'aprtit': 6908, 'addiiton': 6909, 'gladi': 6910, 'dougla': 6911, 'dwellingunit': 6912, 'baja': 6913, 'haba': 6914, 'nero': 6915, 'microprocessor': 6916, 'deep': 6917, 'labl': 6918, 'robert': 6919, 'suti': 6920, 'plumbind': 6921, 'carriag': 6922, 'arc': 6923, 'teryx': 6924, 'evis': 6925, 'conagra': 6926, 'sanctuari': 6927, 'hvacc': 6928, 'weav': 6929, 'panda': 6930, 'ratio': 6931, 'towerat': 6932, 'avealt': 6933, 'resir': 6934, 'mosqu': 6935, 'keeler': 6936, 'hawthorn': 6937, 'duglass': 6938, 'projectremov': 6939, 'migrat': 6940, 'sibject': 6941, 'commscop': 6942, 'xmu': 6943, 'projectdox': 6944, 'allsaint': 6945, 'sleeper': 6946, 'basemrnt': 6947, 'downsiz': 6948, 'planslandmark': 6949, 'ferri': 6950, 'korn': 6951, 'ridgeland': 6952, 'rosemont': 6953, 'elizabeth': 6954, 'folder': 6955, 'advisor': 6956, 'hewin': 6957, 'hvacnew': 6958, 'installationpartit': 6959, 'dauphin': 6960, 'buildingal': 6961, 'lse': 6962, 'pratt': 6963, 'dwyer': 6964, 'fowler': 6965, 'hihg': 6966, 'lcc': 6967, 'levitt': 6968, 'closest': 6969, 'illumin': 6970, 'percod': 6971, 'eqpt': 6972, 'stairswork': 6973, 'lamb': 6974, 'cerf': 6975, 'stoy': 6976, 'servicecount': 6977, 'woord': 6978, 'occuapnci': 6979, 'theaterinstal': 6980, 'wor': 6981, 'agrag': 6982, 'horizont': 6983, 'refixtur': 6984, 'retil': 6985, 'graviti': 6986, 'concuss': 6987, 'relibiu': 6988, 'photograph': 6989, 'donat': 6990, 'mtd': 6991, 'monocrystallin': 6992, 'mgmt': 6993, 'midris': 6994, 'restauarnt': 6995, 'gagar': 6996, 'mausoleum': 6997, 'delicatessen': 6998, 'tapwork': 6999, 'dim': 7000, 'cargil': 7001, 'countri': 7002, 'segment': 7003, 'flanner': 7004, 'forum': 7005, 'floorchang': 7006, 'searl': 7007, 'roti': 7008, 'resdienti': 7009, 'lmotel': 7010, 'pup': 7011, 'zara': 7012, 'homeownersw': 7013, 'revel': 7014, 'fir': 7015, 'certifict': 7016, 'facliti': 7017, 'opaqu': 7018, 'key': 7019, 'refug': 7020, 'spaceal': 7021, 'proper': 7022, 'univeristi': 7023, 'mechanicanl': 7024, 'chart': 7025, 'reservoir': 7026, 'eng': 7027, 'electrophysiolog': 7028, 'stool': 7029, 'tact': 7030, 'scrubber': 7031, 'reggio': 7032, 'resotr': 7033, 'classifci': 7034, 'systemsreplac': 7035, 'gla': 7036, 'typo': 7037, 'flexicor': 7038, 'centimet': 7039, 'flux': 7040, 'index': 7041, 'roch': 7042, 'configuart': 7043, 'parqu': 7044, 'rmt': 7045, 'dinnett': 7046, 'vzw': 7047, 'vestibuleremov': 7048, 'erec': 7049, 'refider': 7050, 'cyclotron': 7051, 'sfentir': 7052, 'installcarbon': 7053, 'sup': 7054, 'photolab': 7055, 'intitut': 7056, 'accessibiilti': 7057, 'laboraori': 7058, 'trellis': 7059, 'basementand': 7060, 'thelot': 7061, 'certificaiton': 7062, 'deposit': 7063, 'trauma': 7064, 'dir': 7065, 'accessibiliuti': 7066, 'vestibl': 7067, 'irepair': 7068, 'residenceclassif': 7069, 'kediz': 7070, 'echo': 7071, 'emov': 7072, 'potion': 7073, 'mobli': 7074, 'anteroom': 7075, 'morgu': 7076, 'chalkboard': 7077, 'wap': 7078, 'certififc': 7079, 'db': 7080, 'xxxxxxxxxxxxx': 7081, 'onlyon': 7082, 'sparkl': 7083, 'bockwinkel': 7084, 'cove': 7085, 'btw': 7086, 'spring': 7087, 'inetrior': 7088, 'enlcosur': 7089, 'gantri': 7090, 'injector': 7091, 'shedr': 7092, 'fhfb': 7093, 'holland': 7094, 'winow': 7095, 'highbay': 7096, 'relax': 7097, 'pita': 7098, 'teamster': 7099, 'eatali': 7100, 'homereinforc': 7101, 'alterant': 7102, 'februari': 7103, 'apllic': 7104, 'champlain': 7105, 'examin': 7106, 'clear': 7107, 'nce': 7108, 'infect': 7109, 'bycycl': 7110, 'admir': 7111, 'cdot': 7112, 'pwder': 7113, 'rrom': 7114, 'capentri': 7115, 'playroominclud': 7116, 'rnew': 7117, 'ass': 7118, 'brewhous': 7119, 'dart': 7120, 'wichest': 7121, 'applicationreplac': 7122, 'primet': 7123, 'monoixid': 7124, 'retaur': 7125, 'apparel': 7126, 'cleanup': 7127, 'recalul': 7128, 'regenstein': 7129, 'yale': 7130, 'bakeshop': 7131, 'mohawk': 7132, 'look': 7133, 'saloncurr': 7134, 'familymasonri': 7135, 'bsm': 7136, 'mercanitil': 7137, 'inlclud': 7138, 'reatur': 7139, 'fxfc': 7140, 'popup': 7141, 'familycoach': 7142, 'alteretaion': 7143, 'exis': 7144, 'systm': 7145, 'teagschwendn': 7146, 'carshop': 7147, 'bard': 7148, 'epair': 7149, 'ceilingadd': 7150, 'syppli': 7151, 'tia': 7152, 'wig': 7153, 'demolitlion': 7154, 'sie': 7155, 'cherri': 7156, 'oai': 7157, 'finn': 7158, 'huck': 7159, 'ue': 7160, 'sunris': 7161, 'bottl': 7162, 'filler': 7163, 'trace': 7164, 'converst': 7165, 'schwab': 7166, 'tuckpo': 7167, 'fastener': 7168, 'guardian': 7169, 'dispensari': 7170, 'replcement': 7171, 'condiion': 7172, 'fresid': 7173, 'subbiect': 7174, 'pleas': 7175, 'powderroom': 7176, 'wt': 7177, 'congreg': 7178, 'waster': 7179, 'fluor': 7180, 'walla': 7181, 'ralli': 7182, 'canada': 7183, 'goos': 7184, 'revisión': 7185, 'rectifi': 7186, 'splitter': 7187, 'vertiv': 7188, 'inscop': 7189, 'belden': 7190, 'caission': 7191, 'fnet': 7192, 'bristol': 7193, 'cablingon': 7194, 'electricalpermit': 7195, 'groound': 7196, 'sprreplac': 7197, 'fitn': 7198, 'aps': 7199, 'basmsent': 7200, 'fidel': 7201, 'brifck': 7202, 'rermit': 7203, 'wothout': 7204, 'stir': 7205, 'plot': 7206, 'masterbedroom': 7207, 'mechanicalcod': 7208, 'later': 7209, 'buildingfor': 7210, 'chinatown': 7211, 'continent': 7212, 'footlock': 7213, 'revies': 7214, 'fertil': 7215, 'mesh': 7216, 'blood': 7217, 'lag': 7218, 'stairshang': 7219, 'pace': 7220, 'concous': 7221, 'pedestrain': 7222, 'pat': 7223, 'joistscurr': 7224, 'highland': 7225, 'onthi': 7226, 'scenario': 7227, 'mercantilenew': 7228, 'cleaver': 7229, 'longwood': 7230, 'wildwood': 7231, 'writer': 7232, 'panelboard': 7233, 'interiornot': 7234, 'reciev': 7235, 'remodelingnew': 7236, 'linstel': 7237, 'apartmen': 7238, 'dtlr': 7239, 'correspnd': 7240, 'flores': 7241, 'rebuildporch': 7242, 'celluar': 7243, 'clinc': 7244, 'studebak': 7245, 'thread': 7246, 'stevenson': 7247, 'thought': 7248, 'blower': 7249, 'toielt': 7250, 'doorscurr': 7251, 'brownston': 7252, 'buffer': 7253, 'erv': 7254, 'evapor': 7255, 'sigfox': 7256, 'districut': 7257, 'eprmit': 7258, 'ramen': 7259, 'officesless': 7260, 'sore': 7261, 'wintergarden': 7262, 'areaway': 7263, 'shase': 7264, 'inclu': 7265, 'veirif': 7266, 'dya': 7267, 'fornew': 7268, 'vehecl': 7269, 'engen': 7270, 'wallac': 7271, 'murphi': 7272, 'spread': 7273, 'antennainstau': 7274, 'flber': 7275, 'instau': 7276, 'jumpersinstau': 7277, 'mountinstau': 7278, 'pialform': 7279, 'rrua': 7280, 'unitinstau': 7281, 'porton': 7282, 'lllb': 7283, 'daebak': 7284, 'oriol': 7285, 'supersturctur': 7286, 'seric': 7287, 'desck': 7288, 'mountingequip': 7289, 'cutteri': 7290, 'astoria': 7291, 'waldorf': 7292, 'ductworknew': 7293, 'macdonald': 7294, 'mott': 7295, 'crown': 7296, 'violationdeconvert': 7297, 'floo': 7298, 'meadow': 7299, 'delug': 7300, 'karlov': 7301, 'amazon': 7302, 'vender': 7303, 'placehold': 7304, 'ric': 7305, 'fenct': 7306, 'snapchat': 7307, 'fractur': 7308, 'sofitel': 7309, 'neighbor': 7310, 'percent': 7311, 'coffeehous': 7312, 'habitalb': 7313, 'guestrm': 7314, 'dishwasherthird': 7315, 'sk': 7316, 'frio': 7317, 'oat': 7318, 'hss': 7319, 'wf': 7320, 'nella': 7321, 'repairsself': 7322, 'assembley': 7323, 'noth': 7324, 'ssprint': 7325, 'repeat': 7326, 'modificationnew': 7327, 'wendel': 7328, 'firealarm': 7329, 'therework': 7330, 'preapar': 7331, 'rewordk': 7332, 'gretail': 7333, 'citibank': 7334, 'archi': 7335, 'even': 7336, 'porcelana': 7337, 'eatsa': 7338, 'garagein': 7339, 'ftrepair': 7340, 'guardraid': 7341, 'plimb': 7342, 'kate': 7343, 'deckat': 7344, 'existingfront': 7345, 'grenshaw': 7346, 'bick': 7347, 'thre': 7348, 'pylon': 7349, 'shark': 7350, 'burch': 7351, 'basmement': 7352, 'muscl': 7353, 'codesnew': 7354, 'spacerework': 7355, 'groverland': 7356, 'terac': 7357, 'whitebox': 7358, 'toupdat': 7359, 'reardeck': 7360, 'dismantl': 7361, 'scab': 7362, 'fdn': 7363, 'boh': 7364, 'emphasi': 7365, 'implic': 7366, 'kingspan': 7367, 'drawingstrash': 7368, 'applicablerenov': 7369, 'abia': 7370, 'abil': 7371, 'amia': 7372, 'asib': 7373, 'asik': 7374, 'ciena': 7375, 'esmc': 7376, 'fsmf': 7377, 'fxfb': 7378, 'gpsantenna': 7379, 'hp': 7380, 'slider': 7381, 'troy': 7382, 'ark': 7383, 'certificationrevis': 7384, 'rrussprint': 7385, 'homea': 7386, 'keyston': 7387, 'plummb': 7388, 'intent': 7389, 'montana': 7390, 'layoutand': 7391, 'jame': 7392, 'monticello': 7393, 'posst': 7394, 'awningscurr': 7395, 'desc': 7396, 'walway': 7397, 'downlight': 7398, 'sfoccup': 7399, 'assessor': 7400, 'norman': 7401, 'cele': 7402, 'bbu': 7403, 'conect': 7404, 'permitrestor': 7405, 'enc': 7406, 'confin': 7407, 'sprinklerwork': 7408, 'overhung': 7409, 'latrob': 7410, 'convercion': 7411, 'planst': 7412, 'subsequ': 7413, 'lumen': 7414, 'masterbathroom': 7415, 'hmeowner': 7416, 'thid': 7417, 'roo': 7418, 'wallcurr': 7419, 'tanker': 7420, 'illioni': 7421, 'appr': 7422, 'corver': 7423, 'artisit': 7424, 'berkeley': 7425, 'piston': 7426, 'phvac': 7427, 'maniste': 7428, 'forti': 7429, 'interiorrenov': 7430, 'thiswork': 7431, 'rule': 7432, 'zumiez': 7433, 'bullpen': 7434, 'newland': 7435, 'freshii': 7436, 'pasta': 7437, 'cvca': 7438, 'hew': 7439, 'certificationreplac': 7440, 'adress': 7441, 'changereplac': 7442, 'bluemercuri': 7443, 'recid': 7444, 'plansl': 7445, 'mcovert': 7446, 'cyclon': 7447, 'cbrcb': 7448, 'frnce': 7449, 'basmeent': 7450, 'columg': 7451, 'herat': 7452, 'nordstrom': 7453, 'rmau': 7454, 'residentc': 7455, 'equipmentsprint': 7456, 'decom': 7457, 'electri': 7458, 'batter': 7459, 'pipemount': 7460, 'includingremplac': 7461, 'elem': 7462, 'sch': 7463, 'brandon': 7464, 'siteat': 7465, 'parsonag': 7466, 'crystal': 7467, 'washtenaw': 7468, 'sword': 7469, 'cbrcreplac': 7470, 'finishi': 7471, 'ever': 7472, 'facilityzon': 7473, 'powerpl': 7474, 'typeiii': 7475, 'oder': 7476, 'releas': 7477, 'emerson': 7478, 'symphoni': 7479, 'schoop': 7480, 'upgradesretail': 7481, 'sizesam': 7482, 'complianceupgrad': 7483, 'finishesmasonri': 7484, 'usearea': 7485, 'sotrefront': 7486, 'heung': 7487, 'yee': 7488, 'celf': 7489, 'adjec': 7490, 'mediat': 7491, 'banker': 7492, 'coldwel': 7493, 'spacespac': 7494, 'regrout': 7495, 'stairscas': 7496, 'humidif': 7497, 'reaplac': 7498, 'reck': 7499, 'ampservic': 7500, 'funrac': 7501, 'plumn': 7502, 'wohout': 7503, 'overspac': 7504, 'removel': 7505, 'buildingten': 7506, 'ohar': 7507, 'higgen': 7508, 'trianl': 7509, 'nclude': 7510, 'basemet': 7511, 'sectorswith': 7512, 'communicaton': 7513, 'chord': 7514, 'residencealter': 7515, 'teardown': 7516, 'pattern': 7517, 'requiredcurr': 7518, 'resisd': 7519, 'orstructur': 7520, 'lack': 7521, 'familyremodel': 7522, 'skydeck': 7523, 'stopord': 7524, 'gasket': 7525, 'asa': 7526, 'newfixtur': 7527, 'sffloor': 7528, 'foundationsstrengthen': 7529, 'eastman': 7530, 'bldng': 7531, 'porchreplac': 7532, 'archietct': 7533, 'navig': 7534, 'bastement': 7535, 'balconya': 7536, 'floorsq': 7537, 'carmel': 7538, 'facili': 7539, 'cinespac': 7540, 'trlli': 7541, 'keep': 7542, 'flagpol': 7543, 'confectioneri': 7544, 'quadplex': 7545, 'quinci': 7546, 'cllyde': 7547, 'restauar': 7548, 'alater': 7549, 'homeupgrad': 7550, 'lb': 7551, 'thrust': 7552, 'storybrick': 7553, 'cftria': 7554, 'eqpmnt': 7555, 'ktchn': 7556, 'rotat': 7557, 'mailbox': 7558, 'lso': 7559, 'siteid': 7560, 'flt': 7561, 'adida': 7562, 'forinstal': 7563, 'roaster': 7564, 'reclad': 7565, 'sprklr': 7566, 'jerri': 7567, 'summerdal': 7568, 'royc': 7569, 'coulmn': 7570, 'extr': 7571, 'fallow': 7572, 'oliph': 7573, 'kingdom': 7574, 'limestonemotif': 7575, 'bore': 7576, 'anticipatori': 7577, 'hanson': 7578, 'southgat': 7579, 'reconfigurationsecond': 7580, 'rollup': 7581, 'sumner': 7582, 'homeowm': 7583, 'kk': 7584, 'drywall': 7585, 'familycondominium': 7586, 'commercialkitchen': 7587, 'ivi': 7588, 'depositor': 7589, 'patchwork': 7590, 'parg': 7591, 'residencereplac': 7592, 'imp': 7593, 'rovement': 7594, 'tesla': 7595, 'revealedaft': 7596, 'costum': 7597, 'hingeway': 7598, 'forcapac': 7599, 'downt': 7600, 'sfdfull': 7601, 'plumbingsq': 7602, 'bussinet': 7603, 'ocup': 7604, 'frisco': 7605, 'mikkey': 7606, 'locatrion': 7607, 'communitc': 7608, 'cosnt': 7609, 'ben': 7610, 'cohen': 7611, 'dorthi': 7612, 'pavlov': 7613, 'stanko': 7614, 'wulf': 7615, 'cbp': 7616, 'tl': 7617, 'replacementsam': 7618, 'sfarea': 7619, 'usescop': 7620, 'vol': 7621, 'resolv': 7622, 'gara': 7623, 'discount': 7624, 'upss': 7625, 'venneer': 7626, 'rice': 7627, 'libbi': 7628, 'inmprov': 7629, 'redlin': 7630, 'hardieboard': 7631, 'dif': 7632, 'locrepair': 7633, 'acessibl': 7634, 'glassbox': 7635, 'interchang': 7636, 'peoria': 7637, 'strucutr': 7638, 'bst': 7639, 'intall': 7640, 'upstair': 7641, 'bildg': 7642, 'groveland': 7643, 'chi': 7644, 'sid': 7645, 'gloor': 7646, 'shool': 7647, 'cumberland': 7648, 'ceilingtreat': 7649, 'placewest': 7650, 'storeroom': 7651, 'gti': 7652, 'particion': 7653, 'wingwal': 7654, 'mccormick': 7655, 'newdoor': 7656, 'champagn': 7657, 'lash': 7658, 'preplac': 7659, 'renovationsto': 7660, 'crate': 7661, 'ament': 7662, 'ball': 7663, 'bocc': 7664, 'symmetri': 7665, 'existign': 7666, 'augment': 7667, 'dawson': 7668, 'inoccup': 7669, 'billboard': 7670, 'odu': 7671, 'narraganett': 7672, 'constructioncurr': 7673, 'retai': 7674, 'veneet': 7675, 'thisto': 7676, 'buildingmansonri': 7677, 'fbbc': 7678, 'fru': 7679, 'frij': 7680, 'glu': 7681, 'covp': 7682, 'ssc': 7683, 'bt': 7684, 'grde': 7685, 'servicei': 7686, 'spacearea': 7687, 'nochang': 7688, 'applicationdoctor': 7689, 'existingfacil': 7690, 'newradio': 7691, 'breakekr': 7692, 'sfp': 7693, 'scoep': 7694, 'headend': 7695, 'fail': 7696, 'roomi': 7697, 'siriu': 7698, 'xm': 7699, 'buildingremov': 7700, 'aconstruct': 7701, 'cane': 7702, 'mutiroom': 7703, 'spaced': 7704, 'goodwil': 7705, 'upgradeconstruct': 7706, 'pink': 7707, 'squirrel': 7708, 'drawingg': 7709, 'pittsburgh': 7710, 'serf': 7711, 'remodelon': 7712, 'cmd': 7713, 'pipefitt': 7714, 'lentel': 7715, 'sftotal': 7716, 'twostori': 7717, 'solidcor': 7718, 'net': 7719, 'conplaint': 7720, 'farmer': 7721, 'fridg': 7722, 'inteior': 7723, 'changer': 7724, 'hybriflexc': 7725, 'equipmet': 7726, 'ccc': 7727, 'sapphir': 7728, 'pertin': 7729, 'inconsist': 7730, 'equipt': 7731, 'currect': 7732, 'prefunct': 7733, 'sameloc': 7734, 'damagedmasonri': 7735, 'nufsm': 7736, 'haussen': 7737, 'stap': 7738, 'ito': 7739, 'ic': 7740, 'altaer': 7741, 'accces': 7742, 'fall': 7743, 'hahn': 7744, 'shoulder': 7745, 'bozii': 7746, 'excercis': 7747, 'patrol': 7748, 'instalatt': 7749, 'pirer': 7750, 'tr': 7751, 'asecond': 7752, 'floorexist': 7753, 'certroof': 7754, 'jk': 7755, 'ihop': 7756, 'hvacwork': 7757, 'clein': 7758, 'qed': 7759, 'supercharg': 7760, 'mkt': 7761, 'broker': 7762, 'ocupp': 7763, 'ra': 7764, 'possess': 7765, 'includespartit': 7766, 'specificbusi': 7767, 'lux': 7768, 'dobson': 7769, 'resienc': 7770, 'reovat': 7771, 'existingand': 7772, 'partitionconstruct': 7773, 'newten': 7774, 'toaccommod': 7775, 'dwellingno': 7776, 'locationcurr': 7777, 'burl': 7778, 'cbclintel': 7779, 'graphic': 7780, 'pm': 7781, 'raic': 7782, 'residentisl': 7783, 'sim': 7784, 'plumbingfixtur': 7785, 'newpartit': 7786, 'squarefeet': 7787, 'messag': 7788, 'bartholomew': 7789, 'electricalwork': 7790, 'hermitag': 7791, 'osk': 7792, 'driehau': 7793, 'align': 7794, 'perenni': 7795, 'shrub': 7796, 'speci': 7797, 'resis': 7798, 'probat': 7799, 'terranc': 7800, 'lovett': 7801, 'buildoutof': 7802, 'familyaddress': 7803, 'violationsrepair': 7804, 'llintel': 7805, 'terrrac': 7806, 'deckssam': 7807, 'autotransform': 7808, 'charger': 7809, 'switchegeat': 7810, 'fil': 7811, 'addiit': 7812, 'stoti': 7813, 'balenciaga': 7814, 'manuf': 7815, 'mint': 7816, 'elk': 7817, 'nstallat': 7818, 'sameconstruct': 7819, 'hazel': 7820, 'involv': 7821, 'vi': 7822, 'gcolumn': 7823, 'rof': 7824, 'olympia': 7825, 'multipurpos': 7826, 'nozzl': 7827, 'projact': 7828, 'useac': 7829, 'mepwork': 7830, 'deolit': 7831, 'cile': 7832, 'rehang': 7833, 'reveis': 7834, 'kindto': 7835, 'fiixtur': 7836, 'lighten': 7837, 'clicklist': 7838, 'microllam': 7839, 'signang': 7840, 'railway': 7841, 'buildingdeconvert': 7842, 'strorag': 7843, 'uint': 7844, 'outfight': 7845, 'reapplic': 7846, 'classifc': 7847, 'csm': 7848, 'arrest': 7849, 'beltcours': 7850, 'cota': 7851, 'terri': 7852, 'modifact': 7853, 'tri': 7854, 'offend': 7855, 'combustiblescreen': 7856, 'wallsa': 7857, 'hardward': 7858, 'saereplac': 7859, 'platfom': 7860, 'ocurr': 7861, 'bung': 7862, 'confectionari': 7863, 'toffe': 7864, 'wimax': 7865, 'lentil': 7866, 'mhx': 7867, 'abbott': 7868, 'vista': 7869, 'galv': 7870, 'ftreplac': 7871, 'zero': 7872, 'detailssq': 7873, 'commercia': 7874, 'throughou': 7875, 'fpb': 7876, 'switzerland': 7877, 'teuscher': 7878, 'submittt': 7879, 'poke': 7880, 'monterey': 7881, 'businessrenov': 7882, 'etop': 7883, 'task': 7884, 'eboni': 7885, 'johnson': 7886, 'configurt': 7887, 'rot': 7888, 'bittersweet': 7889, 'mortuari': 7890, 'barista': 7891, 'fooda': 7892, 'businessscop': 7893, 'abut': 7894, 'insustri': 7895, 'requiredoccup': 7896, 'sprink': 7897, 'ceasar': 7898, 'floorand': 7899, 'thorek': 7900, 'feder': 7901, 'planand': 7902, 'boyer': 7903, 'statham': 7904, 'arear': 7905, 'configuar': 7906, 'updgrad': 7907, 'recontruct': 7908, 'maximu': 7909, 'axe': 7910, 'hospic': 7911, 'lesson': 7912, 'verifi': 7913, 'tarmac': 7914, 'canfield': 7915, 'talcott': 7916, 'wp': 7917, 'secuirti': 7918, 'violationsd': 7919, 'convoc': 7920, 'demon': 7921, 'quad': 7922, 'frank': 7923, 'plansfront': 7924, 'conrol': 7925, 'delin': 7926, 'premium': 7927, 'seervic': 7928, 'converson': 7929, 'sham': 7930, 'ftdemo': 7931, 'bathroomno': 7932, 'firepl': 7933, 'electricalalso': 7934, 'homeo': 7935, 'hardi': 7936, 'wiyh': 7937, 'tavernno': 7938, 'secondfloor': 7939, 'toconvert': 7940, 'legisl': 7941, 'diconnect': 7942, 'driver': 7943, 'trough': 7944, 'bombay': 7945, 'plexiglass': 7946, 'ommis': 7947, 'recongifur': 7948, 'electriccurr': 7949, 'repairin': 7950, 'plumbingwork': 7951, 'know': 7952, 'olcott': 7953, 'steback': 7954, 'electricalp': 7955, 'aggreg': 7956, 'foodcourt': 7957, 'olin': 7958, 'tendon': 7959, 'frontremov': 7960, 'ldri': 7961, 'frbg': 7962, 'residenac': 7963, 'doggon': 7964, 'goat': 7965, 'kohler': 7966, 'sprintfacil': 7967, 'websit': 7968, 'cer': 7969, 'clergi': 7970, 'cultur': 7971, 'tissu': 7972, 'dsconvert': 7973, 'roofto': 7974, 'aa': 7975, 'bildout': 7976, 'constraint': 7977, 'deviat': 7978, 'protiv': 7979, 'restauranta': 7980, 'rabida': 7981, 'alteratopm': 7982, 'underpinn': 7983, 'gregori': 7984, 'inglesid': 7985, 'darw': 7986, 'pirod': 7987, 'attend': 7988, 'init': 7989, 'sidelin': 7990, 'programcurr': 7991, 'plansnot': 7992, 'portch': 7993, 'spinkler': 7994, 'elelctrc': 7995, 'residenceno': 7996, 'withdetail': 7997, 'tripod': 7998, 'basementp': 7999, 'acessori': 8000, 'winni': 8001, 'firplac': 8002, 'aac': 8003, 'emgenc': 8004, 'hazzard': 8005, 'warp': 8006, 'stairsrepair': 8007, 'porchper': 8008, 'dwellingcbc': 8009, 'gaf': 8010, 'modificatoin': 8011, 'occupanic': 8012, 'areinvest': 8013, 'baywindow': 8014, 'realiti': 8015, 'lightingchang': 8016, 'concern': 8017, 'possibl': 8018, 'tyvek': 8019, 'founder': 8020, 'buiidlng': 8021, 'costmet': 8022, 'streetscap': 8023, 'shuttl': 8024, 'samartano': 8025, 'coridoor': 8026, 'crrc': 8027, 'schoolsmorril': 8028, 'schoolsshield': 8029, 'schoolsev': 8030, 'schoolsstevenson': 8031, 'prospect': 8032, 'euclid': 8033, 'burley': 8034, 'schoolsclay': 8035, 'dant': 8036, 'protectin': 8037, 'inprov': 8038, 'cavati': 8039, 'conductor': 8040, 'hewitt': 8041, 'withoutpermit': 8042, 'innclud': 8043, 'quinn': 8044, 'apartmenst': 8045, 'immers': 8046, 'occur': 8047, 'pert': 8048, 'cask': 8049, 'turner': 8050, 'quantum': 8051, 'heal': 8052, 'northshor': 8053, 'partia': 8054, 'occupancycup': 8055, 'witn': 8056, 'vs': 8057, 'flatrenov': 8058, 'inspeat': 8059, 'individu': 8060, 'noroccup': 8061, 'woodgrain': 8062, 'arami': 8063, 'departa': 8064, 'stattion': 8065, 'suter': 8066, 'zhou': 8067, 'columnst': 8068, 'ciel': 8069, 'newaddit': 8070, 'blockag': 8071, 'champion': 8072, 'bathrooom': 8073, 'captur': 8074, 'devlop': 8075, 'guardail': 8076, 'mediuim': 8077, 'shaht': 8078, 'pavor': 8079, 'toro': 8080, 'accedss': 8081, 'lyon': 8082, 'homwon': 8083, 'blueprint': 8084, 'plube': 8085, 'hte': 8086, 'allen': 8087, 'chimeni': 8088, 'masonrybuild': 8089, 'prime': 8090, 'hopleaf': 8091, 'thaisun': 8092, 'vuitton': 8093, 'reswid': 8094, 'resiid': 8095, 'violationsbas': 8096, 'sinka': 8097, 'gress': 8098, 'intermix': 8099, 'operationsarea': 8100, 'fluesconstruct': 8101, 'roomaddit': 8102, 'roomsremov': 8103, 'roomsrenov': 8104, 'disrepair': 8105, 'fafter': 8106, 'modernizt': 8107, 'terrazo': 8108, 'evac': 8109, 'ferment': 8110, 'mor': 8111, 'swamp': 8112, 'louboutin': 8113, 'altitud': 8114, 'trampolin': 8115, 'merch': 8116, 'slabreinforc': 8117, 'tensioningtendon': 8118, 'fluid': 8119, 'boilet': 8120, 'eqpmt': 8121, 'cideri': 8122, 'consistingn': 8123, 'vrf': 8124, 'start': 8125, 'desmis': 8126, 'drugroom': 8127, 'tow': 8128, 'steppenwolf': 8129, 'electricalviol': 8130, 'residencev': 8131, 'futuresubmitt': 8132, 'mercantilelandlord': 8133, 'sugar': 8134, 'windshield': 8135, 'framebuild': 8136, 'chipotl': 8137, 'ofradio': 8138, 'visibl': 8139, 'replacementon': 8140, 'recoat': 8141, 'induct': 8142, 'wh': 8143, 'otherwis': 8144, 'ordianc': 8145, 'duplexisng': 8146, 'tail': 8147, 'coloni': 8148, 'fenceand': 8149, 'acuiti': 8150, 'restaurantcurr': 8151, 'ambra': 8152, 'thisproject': 8153, 'ketel': 8154, 'sitewalk': 8155, 'sw': 8156, 'headach': 8157, 'cubbi': 8158, 'schoolsth': 8159, 'tack': 8160, 'useoccup': 8161, 'fromsecond': 8162, 'structuralfram': 8163, 'establsih': 8164, 'nod': 8165, 'md': 8166, 'demoit': 8167, 'spce': 8168, 'davidson': 8169, 'harley': 8170, 'juilet': 8171, 'rendolph': 8172, 'sbmt': 8173, 'rw': 8174, 'donald': 8175, 'hay': 8176, 'dceck': 8177, 'andalter': 8178, 'relook': 8179, 'masonrytwo': 8180, 'bylin': 8181, 'commerciala': 8182, 'bolcani': 8183, 'occupancyreplac': 8184, 'moder': 8185, 'stoag': 8186, 'stairsand': 8187, 'skecher': 8188, 'skybridg': 8189, 'backwal': 8190, 'kip': 8191, 'ksf': 8192, 'median': 8193, 'doorremov': 8194, 'oneresid': 8195, 'mixedus': 8196, 'plansoccup': 8197, 'stagelin': 8198, 'iiiaa': 8199, 'annd': 8200, 'strucur': 8201, 'ballet': 8202, 'cryo': 8203, 'scrub': 8204, 'kellogg': 8205, 'ligatur': 8206, 'bowman': 8207, 'johnston': 8208, 'unitrenov': 8209, 'podiatri': 8210, 'interi': 8211, 'sorbet': 8212, 'hemotolog': 8213, 'newtaco': 8214, 'stairwellwal': 8215, 'curbcut': 8216, 'bridal': 8217, 'phc': 8218, 'additino': 8219, 'cassett': 8220, 'multisplit': 8221, 'assn': 8222, 'andoutlet': 8223, 'stonework': 8224, 'outrenov': 8225, 'jewleri': 8226, 'kwp': 8227, 'pvmodul': 8228, 'antennasaddit': 8229, 'antennasremov': 8230, 'cabinetsprint': 8231, 'rrusaddit': 8232, 'consistin': 8233, 'cabinetequip': 8234, 'homwown': 8235, 'advantag': 8236, 'sixt': 8237, 'bathyroom': 8238, 'backflow': 8239, 'waterlin': 8240, 'currentus': 8241, 'nit': 8242, 'juvenil': 8243, 'roofstructur': 8244, 'andcombin': 8245, 'hennessi': 8246, 'vvt': 8247, 'bob': 8248, 'charcoal': 8249, 'jefferi': 8250, 'vet': 8251, 'ms': 8252, 'witin': 8253, 'commercila': 8254, 'plano': 8255, 'recirc': 8256, 'manhol': 8257, 'rearv': 8258, 'sixti': 8259, 'situat': 8260, 'includearchitectur': 8261, 'parkig': 8262, 'floorplumb': 8263, 'worksq': 8264, 'stpri': 8265, 'berenic': 8266, 'blo': 8267, 'buildingrtu': 8268, 'jonathan': 8269, 'rita': 8270, 'detectorti': 8271, 'keypad': 8272, 'pendent': 8273, 'rug': 8274, 'deleop': 8275, 'nc': 8276, 'gambrel': 8277, 'reskin': 8278, 'uplift': 8279, 'foam': 8280, 'ret': 8281, 'dox': 8282, 'alarmcurr': 8283, 'dsi': 8284, 'structuralpartit': 8285, 'brentano': 8286, 'ptlc': 8287, 'desciplin': 8288, 'buildingg': 8289, 'newel': 8290, 'feeta': 8291, 'withbas': 8292, 'citicorp': 8293, 'pepsico': 8294, 'sustain': 8295, 'dconstruct': 8296, 'plansdeconvert': 8297, 'eqress': 8298, 'brownel': 8299, 'conni': 8300, 'chane': 8301, 'andaddit': 8302, 'oto': 8303, 'verticalexit': 8304, 'changef': 8305, 'sephora': 8306, 'ouput': 8307, 'lintl': 8308, 'restraint': 8309, 'cpu': 8310, 'swa': 8311, 'muilti': 8312, 'additionalunit': 8313, 'envoy': 8314, 'brighton': 8315, 'chri': 8316, 'deg': 8317, 'propylen': 8318, 'getaway': 8319, 'salesroom': 8320, 'mktg': 8321, 'enrol': 8322, 'dupex': 8323, 'fudg': 8324, 'fedexoffic': 8325, 'divrsi': 8326, 'foresit': 8327, 'rienzi': 8328, 'furi': 8329, 'innspect': 8330, 'reconvers': 8331, 'len': 8332, 'harlan': 8333, 'wendella': 8334, 'embed': 8335, 'purpl': 8336, 'tongu': 8337, 'replaicng': 8338, 'demand': 8339, 'restaurantnew': 8340, 'onsecond': 8341, 'storysingl': 8342, 'communicatyion': 8343, 'aux': 8344, 'third': 8345, 'april': 8346, 'obstruct': 8347, 'occupancycurr': 8348, 'auxiliari': 8349, 'bat': 8350, 'torrenc': 8351, 'conopi': 8352, 'converis': 8353, 'remodelinginclud': 8354, 'bronchoscopi': 8355, 'kohl': 8356, 'reqd': 8357, 'mot': 8358, 'eu': 8359, 'umt': 8360, 'restoratin': 8361, 'accerrori': 8362, 'wekka': 8363, 'iiibaddit': 8364, 'lowerlevel': 8365, 'protectionsprinkl': 8366, 'recapit': 8367, 'bathoom': 8368, 'frontier': 8369, 'wallcov': 8370, 'fdp': 8371, 'mmp': 8372, 'pwer': 8373, 'rnovat': 8374, 'stairsa': 8375, 'residen': 8376, 'storat': 8377, 'reviw': 8378, 'io': 8379, 'useplan': 8380, 'mwbe': 8381, 'typr': 8382, 'fireno': 8383, 'biuldout': 8384, 'stairwella': 8385, 'provent': 8386, 'dxeck': 8387, 'classificationwork': 8388, 'fixturesreplac': 8389, 'ddsl': 8390, 'amnd': 8391, 'mockup': 8392, 'rgound': 8393, 'eir': 8394, 'massonri': 8395, 'mayer': 8396, 'spacw': 8397, 'ccomment': 8398, 'resdeic': 8399, 'colt': 8400, 'higgin': 8401, 'bustl': 8402, 'withfutur': 8403, 'willioam': 8404, 'nbome': 8405, 'plumbingsystem': 8406, 'scada': 8407, 'housekeep': 8408, 'cartag': 8409, 'generatorwith': 8410, 'wareh': 8411, 'rocketmil': 8412, 'memo': 8413, 'porchremov': 8414, 'hybri': 8415, 'changessq': 8416, 'saieh': 8417, 'collapesd': 8418, 'terracotta': 8419, 'breakthrough': 8420, 'solr': 8421, 'cow': 8422, 'tobe': 8423, 'cpl': 8424, 'airprort': 8425, 'lcd': 8426, 'bulb': 8427, 'vestbul': 8428, 'joffco': 8429, 'ducktwork': 8430, 'plansselect': 8431, 'trainingkitchen': 8432, 'choir': 8433, 'jab': 8434, 'innerduct': 8435, 'handhol': 8436, 'warwick': 8437, 'subleas': 8438, 'overlook': 8439, 'rii': 8440, 'powerc': 8441, 'grond': 8442, 'psyci': 8443, 'ara': 8444, 'pk': 8445, 'chopin': 8446, 'cabinetinstail': 8447, 'instail': 8448, 'jumpersinstail': 8449, 'shali': 8450, 'unitinstail': 8451, 'superstor': 8452, 'bhp': 8453, 'deaerat': 8454, 'soften': 8455, 'plansoffic': 8456, 'edu': 8457, 'stallspac': 8458, 'ecab': 8459, 'ml': 8460, 'bo': 8461, 'condur': 8462, 'jumpep': 8463, 'mco': 8464, 'moun': 8465, 'platfopm': 8466, 'sectop': 8467, 'sock': 8468, 'eden': 8469, 'partiiton': 8470, 'stan': 8471, 'forcor': 8472, 'multilevel': 8473, 'commuic': 8474, 'inzon': 8475, 'withwood': 8476, 'fasten': 8477, 'planswith': 8478, 'enclosedporch': 8479, 'wework': 8480, 'municipl': 8481, 'pertain': 8482, 'horiz': 8483, 'kiln': 8484, 'reodel': 8485, 'frezzer': 8486, 'userepair': 8487, 'mif': 8488, 'mission': 8489, 'jlo': 8490, 'deckremov': 8491, 'rar': 8492, 'curblin': 8493, 'colm': 8494, 'changeself': 8495, 'projectten': 8496, 'physiotherapi': 8497, 'blk': 8498, 'seft': 8499, 'ucpd': 8500, 'betw': 8501, 'ftscope': 8502, 'partitionsbstm': 8503, 'selt': 8504, 'oakstreet': 8505, 'sola': 8506, 'skrutland': 8507, 'kurt': 8508, 'lemarco': 8509, 'replacerear': 8510, 'snowmelt': 8511, 'systempermit': 8512, 'sqbrc': 8513, 'upgad': 8514, 'imax': 8515, 'robot': 8516, 'kindercar': 8517, 'tag': 8518, 'cbd': 8519, 'starri': 8520, 'attachedf': 8521, 'mvr': 8522, 'typeiib': 8523, 'scratch': 8524, 'igu': 8525, 'ductwok': 8526, 'shut': 8527, 'ortiz': 8528, 'pkc': 8529, 'dull': 8530, 'martha': 8531, 'ruggl': 8532, 'henri': 8533, 'tanner': 8534, 'plansus': 8535, 'spri': 8536, 'penilti': 8537, 'improvementsa': 8538, 'remova': 8539, 'alll': 8540, 'dryyal': 8541, 'basemnet': 8542, 'refter': 8543, 'juicer': 8544, 'revew': 8545, 'god': 8546, 'veer': 8547, 'lon': 8548, 'multifloor': 8549, 'gino': 8550, 'disney': 8551, 'ppg': 8552, 'rabi': 8553, 'emmiss': 8554, 'oxid': 8555, 'pollut': 8556, 'rto': 8557, 'scfm': 8558, 'disign': 8559, 'biologylab': 8560, 'renovv': 8561, 'sfrper': 8562, 'porchus': 8563, 'permiet': 8564, 'scar': 8565, 'bidet': 8566, 'residenceat': 8567, 'buildt': 8568, 'rsp': 8569, 'preview': 8570, 'pierc': 8571, 'desir': 8572, 'bearingel': 8573, 'tanan': 8574, 'generac': 8575, 'iit': 8576, 'agarag': 8577, 'builder': 8578, 'hyundai': 8579, 'carson': 8580, 'rachel': 8581, 'piri': 8582, 'alessandro': 8583, 'volta': 8584, 'gwith': 8585, 'ru': 8586, 'granada': 8587, 'mcdade': 8588, 'hosu': 8589, 'poe': 8590, 'flywheel': 8591, 'fendc': 8592, 'moldi': 8593, 'cetner': 8594, 'spacecurr': 8595, 'garg': 8596, 'antennasinstal': 8597, 'cableinstal': 8598, 'fbbaremov': 8599, 'frbgsinstal': 8600, 'fxfbremov': 8601, 'rrhsinstal': 8602, 'tmasinstal': 8603, 'rrusinstal': 8604, 'rrusremov': 8605, 'rrhsremov': 8606, 'tmasremov': 8607, 'ygc': 8608, 'penhtous': 8609, 'abiasinstal': 8610, 'asikinstal': 8611, 'covpinstal': 8612, 'covpremov': 8613, 'asibsinstal': 8614, 'cableremov': 8615, 'covpsinstal': 8616, 'fsmfinstal': 8617, 'cabinetinstau': 8618, 'api': 8619, 'flexibl': 8620, 'wb': 8621, 'holm': 8622, 'solor': 8623, 'southernmost': 8624, 'explos': 8625, 'realloc': 8626, 'tug': 8627, 'floorarea': 8628, 'pro': 8629, 'amiasinstal': 8630, 'fbbainstal': 8631, 'pendantreloc': 8632, 'levelreplac': 8633, 'replacementbrick': 8634, 'replacementlintel': 8635, 'additionalchang': 8636, 'neenah': 8637, 'bearingmodif': 8638, 'css': 8639, 'cabinetnew': 8640, 'rft': 8641, 'panelclaw': 8642, 'improvementsand': 8643, 'trilog': 8644, 'ev': 8645, 'serviceinstal': 8646, 'towerinstal': 8647, 'chappel': 8648, 'plansprovid': 8649, 'unint': 8650, 'purg': 8651, 'porchno': 8652, 'contamin': 8653, 'bc': 8654, 'temporay': 8655, 'judg': 8656, 'slater': 8657, 'heigth': 8658, 'cooperconduit': 8659, 'rope': 8660, 'vetnsl': 8661, 'andsouth': 8662, 'immc': 8663, 'crib': 8664, 'adalet': 8665, 'lanc': 8666, 'cohn': 8667, 'rezon': 8668, 'leveln': 8669, 'reheat': 8670, 'vef': 8671, 'holtel': 8672, 'minni': 8673, 'riperton': 8674, 'througout': 8675, 'grime': 8676, 'calcuat': 8677, 'friction': 8678, 'rehabitil': 8679, 'unitsand': 8680, 'intcom': 8681, 'unitsreplac': 8682, 'lacross': 8683, 'tortazo': 8684, 'grndohio_hd': 8685, 'telecomun': 8686, 'mixus': 8687, 'planscorrect': 8688, 'chalk': 8689, 'valenc': 8690, 'cablesground': 8691, 'mmu': 8692, 'fiberc': 8693, 'mobileantenna': 8694, 'cableingnew': 8695, 'marcu': 8696, 'tpg': 8697, 'eltek': 8698, 'antennad': 8699, 'cbcrear': 8700, 'reahbilit': 8701, 'chimneystack': 8702, 'stairswith': 8703, 'parkinglayout': 8704, 'degree': 8705, 'rater': 8706, 'microwaveantenna': 8707, 'burham': 8708, 'hydraul': 8709, 'fisher': 8710, 'fatso': 8711, 'ella': 8712, 'flagg': 8713, 'winnebago': 8714, 'hoover': 8715, 'rg': 8716, 'spark': 8717, 'managementfirm': 8718, 'onfloor': 8719, 'wealth': 8720, 'burst': 8721, 'vortex': 8722, 'mushroom': 8723, 'hollowcor': 8724, 'storefronta': 8725, 'travertin': 8726, 'breakout': 8727, 'remvo': 8728, 'fbba': 8729, 'fsfm': 8730, 'frie': 8731, 'halyard': 8732, 'rrusground': 8733, 'amob': 8734, 'remo': 8735, 'buildpout': 8736, 'harmoni': 8737, 'bott': 8738, 'ew': 8739, 'esmond': 8740, 'amick': 8741, 'lengthnew': 8742, 'lyft': 8743, 'ride': 8744, 'asia': 8745, 'esmb': 8746, 'commut': 8747, 'bra': 8748, 'diagon': 8749, 'equipmentto': 8750, 'skewsector': 8751, 'toward': 8752, 'wallreinforc': 8753, 'buiuld': 8754, 'ogilvienorth': 8755, 'tod': 8756, 'fmil': 8757, 'microscopi': 8758, 'silk': 8759, 'tratment': 8760, 'aker': 8761, 'bmt': 8762, 'nitrogen': 8763, 'subgrad': 8764, 'lockset': 8765, 'climber': 8766, 'inslud': 8767, 'sb': 8768, 'masonjri': 8769, 'reivew': 8770, 'exclud': 8771, 'descrit': 8772, 'dennison': 8773, 'concrt': 8774, 'postmast': 8775, 'rehabilitatiion': 8776, 'vautrav': 8777, 'aber': 8778, 'prolect': 8779, 'sockei': 8780, 'riverfront': 8781, 'onlya': 8782, 'kre': 8783, 'doorb': 8784, 'doorc': 8785, 'euipment': 8786, 'violation': 8787, 'frig': 8788, 'princeton': 8789, 'cardiolog': 8790, 'beverageconcess': 8791, 'gene': 8792, 'tc': 8793, 'clementin': 8794, 'jackstand': 8795, 'tester': 8796, 'forthcom': 8797, 'trucker': 8798, 'charg': 8799, 'duel': 8800, 'addiditon': 8801, 'hansberri': 8802, 'lorrain': 8803, 'iren': 8804, 'mccoy': 8805, 'withbathroom': 8806, 'balconett': 8807, 'resdinc': 8808, 'comdo': 8809, 'violationspermti': 8810, 'configurational': 8811, 'secod': 8812, 'bowtruss': 8813, 'littler': 8814, 'mendelson': 8815, 'continust': 8816, 'wallpap': 8817, 'addat': 8818, 'descent': 8819, 'replalc': 8820, 'combustil': 8821, 'bere': 8822, 'mulit': 8823, 'anf': 8824, 'bioswal': 8825, 'nokia': 8826, 'israel': 8827, 'courthous': 8828, 'leighton': 8829, 'pagala': 8830, 'retailand': 8831, 'pt': 8832, 'constructionof': 8833, 'inexist': 8834, 'dayton': 8835, 'esq': 8836, 'basm': 8837, 'ererct': 8838, 'locationrepair': 8839, 'ato': 8840, 'linac': 8841, 'taxi': 8842, 'morri': 8843, 'aca': 8844, 'ofwork': 8845, 'dwellng': 8846, 'alteratrion': 8847, 'decant': 8848, 'coffeest': 8849, 'extnes': 8850, 'sqaur': 8851, 'teir': 8852, 'unitand': 8853, 'medicalclin': 8854, 'legler': 8855, 'stuff': 8856, 'patchng': 8857, 'stairsreplac': 8858, 'rremodel': 8859, 'renoov': 8860, 'jeni': 8861, 'splendid': 8862, 'explor': 8863, 'bev': 8864, 'decorv': 8865, 'undo': 8866, 'friez': 8867, 'partat': 8868, 'spice': 8869, 'help': 8870, 'theranost': 8871, 'uptak': 8872, 'electricalground': 8873, 'minotti': 8874, 'pucinska': 8875, 'orm': 8876, 'celler': 8877, 'relamp': 8878, 'cup': 8879, 'accesibl': 8880, 'footrpint': 8881, 'breakway': 8882, 'attaqch': 8883, 'pegala': 8884, 'carnibal': 8885, 'azimuth': 8886, 'pa': 8887, 'debt': 8888, 'seri': 8889, 'cband': 8890, 'js': 8891, 'jsa': 8892, 'radremov': 8893, 'sbnhh': 8894, 'enclo': 8895, 'everett': 8896, 'unavail': 8897, 'cammon': 8898, 'fenger': 8899, 'boba': 8900, 'minimart': 8901, 'priest': 8902, 'complain': 8903, 'pipelin': 8904, 'homereplac': 8905, 'sublect': 8906, 'fens': 8907, 'mannheim': 8908, 'zemk': 8909, 'christoph': 8910, 'maxmara': 8911, 'bathroomsaddress': 8912, 'hvacmodif': 8913, 'spacein': 8914, 'plansr': 8915, 'htta': 8916, 'equipmentcabinet': 8917, 'reara': 8918, 'newfurnac': 8919, 'mercantilereplac': 8920, 'northpoint': 8921, 'gai': 8922, 'dubject': 8923, 'mfp': 8924, 'changeexist': 8925, 'autobodi': 8926, 'shubert': 8927, 'dw': 8928, 'merrimac': 8929, 'columnsand': 8930, 'ripen': 8931, 'aduit': 8932, 'florist': 8933, 'additionp': 8934, 'fourti': 8935, 'remodelind': 8936, 'bedrm': 8937, 'themerchandis': 8938, 'lithium': 8939, 'residentnc': 8940, 'prod': 8941, 'isl': 8942, 'sterilizationroom': 8943, 'samd': 8944, 'atach': 8945, 'roseland': 8946, 'beveraga': 8947, 'tenan': 8948, 'convieni': 8949, 'groud': 8950, 'awash': 8951, 'ethiopia': 8952, 'addditon': 8953, 'greenwal': 8954, 'residencebas': 8955, 'toentir': 8956, 'northend': 8957, 'wineri': 8958, 'curren': 8959, 'newsroom': 8960, 'landscapecurr': 8961, 'residencegarag': 8962, 'jamg': 8963, 'cj': 8964, 'tequila': 8965, 'worj': 8966, 'levelâ': 8967, 'winona': 8968, 'dropoff': 8969, 'carr': 8970, 'gse': 8971, 'tco': 8972, 'moe': 8973, 'rediant': 8974, 'spave': 8975, 'witj': 8976, 'residencecurr': 8977, 'reesid': 8978, 'greatroom': 8979, 'llv': 8980, 'esid': 8981, 'suder': 8982, 'sxhool': 8983, 'christa': 8984, 'mcauliff': 8985, 'sharon': 8986, 'supercut': 8987, 'quesadilla': 8988, 'sur': 8989, 'floordrain': 8990, 'certfic': 8991, 'madam': 8992, 'dirti': 8993, 'cantina': 8994, 'mondelez': 8995, 'spoon': 8996, 'jci': 8997, 'atticspac': 8998, 'chicagoth': 8999, 'scooter': 9000, 'cul': 9001, 'hibbard': 9002, 'sac': 9003, 'weekend': 9004, 'dresser': 9005, 'grubhub': 9006, 'metalwork': 9007, 'buildingtwo': 9008, 'parik': 9009, 'davi': 9010, 'jay': 9011, 'mercantilephas': 9012, 'thank': 9013, 'plubminb': 9014, 'withroof': 9015, 'extencion': 9016, 'bella': 9017, 'bianca': 9018, 'spline': 9019, 'suspens': 9020, 'fiberconduit': 9021, 'wirelesscommun': 9022, 'cour': 9023, 'frt': 9024, 'mepâ': 9025, 'mario': 9026, 'stapl': 9027, 'storyoffic': 9028, 'strp': 9029, 'restrooom': 9030, 'rofpross': 9031, 'duâ': 9032, 'dimo': 9033, 'birch': 9034, 'alteer': 9035, 'pip': 9036, 'systemnew': 9037, 'courtroom': 9038, 'chapl': 9039, 'portillo': 9040, 'six': 9041, 'woód': 9042, 'vivarium': 9043, 'carportat': 9044, 'cutleri': 9045, 'fuse': 9046, 'certrenov': 9047, 'storiesbrick': 9048, 'forward': 9049, 'conflict': 9050, 'platfrom': 9051, 'leadership': 9052, 'pipi': 9053, 'cei': 9054, 'wihtin': 9055, 'dwellingthird': 9056, 'mepco': 9057, 'sterilz': 9058, 'exibit': 9059, 'perfor': 9060, 'hydropon': 9061, 'tackboard': 9062, 'bernhard': 9063, 'moo': 9064, 'placerevis': 9065, 'ooc': 9066, 'dgh': 9067, 'floorsaft': 9068, 'residenceself': 9069, 'komenski': 9070, 'miami': 9071, 'glove': 9072, 'bahama': 9073, 'tommi': 9074, 'trimwork': 9075, 'spaceelectr': 9076, 'additoplumb': 9077, 'cuff': 9078, 'icr': 9079, 'shoop': 9080, 'ne_loop': 9081, 'sames': 9082, 'rosehil': 9083, 'macgowan': 9084, 'journel': 9085, 'rejuven': 9086, 'yurman': 9087, 'passiv': 9088, 'basementreplac': 9089, 'idl': 9090, 'nr': 9091, 'yr': 9092, 'rooftoiop': 9093, 'aubert': 9094, 'pagano': 9095, 'ortho': 9096, 'pella': 9097, 'natur': 9098, 'fremont': 9099, 'permitconstruct': 9100, 'sail': 9101, 'familytownhous': 9102, 'restaurantbuild': 9103, 'renovi': 9104, 'fax': 9105, 'ventialt': 9106, 'wiringa': 9107, 'sonabeam': 9108, 'congsruciton': 9109, 'clamp': 9110, 'ophthalmologist': 9111, 'lutheran': 9112, 'kicker': 9113, 'restar': 9114, 'buildingfacad': 9115, 'hoodsmep': 9116, 'powertemperatur': 9117, 'repairmep': 9118, 'wallal': 9119, 'narr': 9120, 'depend': 9121, 'settl': 9122, 'clairmont': 9123, 'changeto': 9124, 'existingcabinet': 9125, 'roasteri': 9126, 'conduitfrom': 9127, 'additiongut': 9128, 'drywallreplac': 9129, 'aparta': 9130, 'existingrestaur': 9131, 'meember': 9132, 'permitalter': 9133, 'interiorremodel': 9134, 'newlight': 9135, 'convect': 9136, 'rosebud': 9137, 'bygener': 9138, 'wirelessantenna': 9139, 'rosado': 9140, 'fulfil': 9141, 'inconjunct': 9142, 'prove': 9143, 'redund': 9144, 'exgress': 9145, 'liquornew': 9146, 'cowork': 9147, 'comerci': 9148, 'remodeledlaundri': 9149, 'roast': 9150, 'solo': 9151, 'heartland': 9152, 'super': 9153, 'levelinstail': 9154, 'indic': 9155, 'powerlift': 9156, 'iiibconstruct': 9157, 'unil': 9158, 'overrun': 9159, 'plansinclud': 9160, 'dipplex': 9161, 'telepod': 9162, 'toilrt': 9163, 'approvedplan': 9164, 'layoutto': 9165, 'roller': 9166, 'definit': 9167, 'efi': 9168, 'nippon': 9169, 'fenceexist': 9170, 'cesar': 9171, 'santoy': 9172, 'goup': 9173, 'descart': 9174, 'nitrogren': 9175, 'permimet': 9176, 'elc': 9177, 'deckboard': 9178, 'spaceno': 9179, 'groundequip': 9180, 'wiht': 9181, 'deconversiondeconvert': 9182, 'crck': 9183, 'gatesremodel': 9184, 'restroomsremodel': 9185, 'sfadd': 9186, 'laundrokmat': 9187, 'damad': 9188, 'impvmnt': 9189, 'lineup': 9190, 'photometr': 9191, 'planthi': 9192, 'associatedhvac': 9193, 'complaintdeconvert': 9194, 'lemon': 9195, 'recap': 9196, 'rust': 9197, 'kass': 9198, 'relo': 9199, 'fixturesand': 9200, 'sfrevis': 9201, 'storerevis': 9202, 'antennasand': 9203, 'recidenti': 9204, 'commissari': 9205, 'proejct': 9206, 'dent': 9207, 'wciu': 9208, 'cooktop': 9209, 'elkec': 9210, 'voltaic': 9211, 'cdrc': 9212, 'hma': 9213, 'mezanin': 9214, 'plansthi': 9215, 'newwood': 9216, 'edgewat': 9217, 'plmg': 9218, 'dispers': 9219, 'royal': 9220, 'occupnay': 9221, 'permitremov': 9222, 'firepit': 9223, 'plmbing': 9224, 'revert': 9225, 'heati': 9226, 'cbcexist': 9227, 'carrum': 9228, 'cinderblock': 9229, 'layoutgroup': 9230, 'bride': 9231, 'rovat': 9232, 'rehanb': 9233, 'occcup': 9234, 'begin': 9235, 'crac': 9236, 'baer': 9237, 'meand': 9238, 'porchin': 9239, 'acondicionado': 9240, 'calefaccion': 9241, 'cortina': 9242, 'vestibulereloc': 9243, 'southelev': 9244, 'westelev': 9245, 'workremov': 9246, 'ibeam': 9247, 'suitesself': 9248, 'existingr': 9249, 'repurpos': 9250, 'reposit': 9251, 'typi': 9252, 'parki': 9253, 'lavin': 9254, 'drwg': 9255, 'janssen': 9256, 'supplier': 9257, 'gnerat': 9258, 'rehabiitalt': 9259, 'ductextens': 9260, 'econom': 9261, 'remodelreloc': 9262, 'asp': 9263, 'beamnew': 9264, 'drieway': 9265, 'horn': 9266, 'slot': 9267, 'creameri': 9268, 'current': 9269, 'disicplin': 9270, 'birth': 9271, 'appvd': 9272, 'frontand': 9273, 'craigin': 9274, 'cbrcerect': 9275, 'barc': 9276, 'locationand': 9277, 'hightris': 9278, 'devonvers': 9279, 'amigo': 9280, 'loretta': 9281, 'recycl': 9282, 'jose': 9283, 'systemsin': 9284, 'andsteep': 9285, 'replacmenet': 9286, 'slf': 9287, 'readi': 9288, 'charcuteri': 9289, 'chirpractor': 9290, 'bulthaup': 9291, 'existingwireless': 9292, 'resenc': 9293, 'jackierobinsonpk': 9294, 'businessoffic': 9295, 'existingoccup': 9296, 'addi': 9297, 'rebarand': 9298, 'relay': 9299, 'multunit': 9300, 'renocv': 9301, 'basament': 9302, 'cbcrehab': 9303, 'revistionto': 9304, 'blaconi': 9305, 'geobroadcast': 9306, 'diamond': 9307, 'deckin': 9308, 'carecent': 9309, 'garageto': 9310, 'theground': 9311, 'email': 9312, 'sepat': 9313, 'zonig': 9314, 'sprinklerpip': 9315, 'opend': 9316, 'flavor': 9317, 'locationnew': 9318, 'tsa': 9319, 'lvt': 9320, 'compnent': 9321, 'townhouseblock': 9322, 'makeupair': 9323, 'veener': 9324, 'commercail': 9325, 'replaqc': 9326, 'dufri': 9327, 'ferragamo': 9328, 'inspections_': 9329, 'denial': 9330, 'baseband': 9331, 'outdoorinstal': 9332, 'minerva': 9333, 'correcton': 9334, 'ts': 9335, 'sfupdat': 9336, 'qatar': 9337, 'swissport': 9338, 'burak': 9339, 'fent': 9340, 'amus': 9341, 'exhaus': 9342, 'ecam': 9343, 'eq': 9344, 'cchh': 9345, 'plansclassif': 9346, 'alteratiion': 9347, 'douwnspot': 9348, 'brekfast': 9349, 'fac': 9350, 'cpc': 9351, 'bam': 9352, 'ls': 9353, 'discontinu': 9354, 'trhoughout': 9355, 'yearup': 9356, 'bvasement': 9357, 'leveal': 9358, 'treliss': 9359, 'eggleston': 9360, 'gybrid': 9361, 'typer': 9362, 'mountsremov': 9363, 'constructon': 9364, 'sfrtype': 9365, 'diffussur': 9366, 'beardin': 9367, 'branck': 9368, 'planswcw': 9369, 'mechanicl': 9370, 'partitiond': 9371, 'fullheight': 9372, 'processinterior': 9373, 'elkevc': 9374, 'depaul': 9375, 'brickbuild': 9376, 'unitsresid': 9377, 'encloswd': 9378, 'parpet': 9379, 'franchis': 9380, 'robin': 9381, 'agl': 9382, 'residentialwith': 9383, 'vioation': 9384, 'exhasut': 9385, 'singel': 9386, 'loot': 9387, 'tyre': 9388, 'businessr': 9389, 'ill': 9390, 'mechnic': 9391, 'cocktail': 9392, 'cbccorrect': 9393, 'includingreplac': 9394, 'groundskeep': 9395, 'climb': 9396, 'purchas': 9397, 'deconverison': 9398, 'kmart': 9399, 'anenna': 9400, 'electricalupgrad': 9401, 'pluimb': 9402, 'genera': 9403, 'receptor': 9404, 'constructcion': 9405, 'garagepermit': 9406, 'spacesa': 9407, 'eleb': 9408, 'mechanich': 9409, 'turrett': 9410, 'cuh': 9411, 'backdraft': 9412, 'connstruct': 9413, 'odf': 9414, 'prr': 9415, 'comunitycent': 9416, 'pupm': 9417, 'streetsid': 9418, 'maypol': 9419, 'topo': 9420, 'repait': 9421, 'malden': 9422, 'wallen': 9423, 'explicit': 9424, 'trellu': 9425, 'clifton': 9426, 'serpar': 9427, 'vadal': 9428, 'wolf': 9429, 'interiir': 9430, 'bulidout': 9431, 'psycho': 9432, 'facadeinstal': 9433, 'facadereplac': 9434, 'occupancxi': 9435, 'rebat': 9436, 'occupancygroup': 9437, 'feck': 9438, 'wrouht': 9439, 'willow': 9440, 'qualifi': 9441, 'tta': 9442, 'builc': 9443, 'outl': 9444, 'supplementaryequip': 9445, 'radat': 9446, 'eleavtor': 9447, 'benton': 9448, 'certiff': 9449, 'westshor': 9450, 'resupport': 9451, 'occupi': 9452, 'stariway': 9453, 'come': 9454, 'ace': 9455, 'ergess': 9456, 'pilipina': 9457, 'lakeshor': 9458, 'wanda': 9459, 'stairsway': 9460, 'mode': 9461, 'architech': 9462, 'inapect': 9463, 'homewn': 9464, 'deconversiion': 9465, 'strom': 9466, 'enclosurep': 9467, 'relatedequip': 9468, 'relatedsupport': 9469, 'ya': 9470, 'awg': 9471, 'fryer': 9472, 'bloomingdal': 9473, 'mezzaninin': 9474, 'geneva': 9475, 'ter': 9476, 'satorag': 9477, 'codeinterior': 9478, 'replanc': 9479, 'boss': 9480, 'perpetr': 9481, 'previoui': 9482, 'neutral': 9483, 'classrepair': 9484, 'meterdisconnect': 9485, 'tiger': 9486, 'spd': 9487, 'contact': 9488, 'structuresr': 9489, 'te': 9490, 'occupnaci': 9491, 'kithcn': 9492, 'tailor': 9493, 'lll': 9494, 'zzanin': 9495, 'stabilizt': 9496, 'consgtruct': 9497, 'toloc': 9498, 'limmit': 9499, 'tei': 9500, 'bridgc': 9501, 'casi': 9502, 'casin': 9503, 'dsh': 9504, 'jma': 9505, 'lelco': 9506, 'pialfopm': 9507, 'prolectlon': 9508, 'safet': 9509, 'masonryapart': 9510, 'apparatu': 9511, 'storaf': 9512, 'nid': 9513, 'briog': 9514, 'condui': 9515, 'equival': 9516, 'alzheim': 9517, 'metlif': 9518, 'eject': 9519, 'motil': 9520, 'benitor': 9521, 'catalpa': 9522, 'distribuiton': 9523, 'ventialtor': 9524, 'nforth': 9525, 'engag': 9526, 'heinz': 9527, 'circuitri': 9528, 'exihbtor': 9529, 'ppa': 9530, 'bamda': 9531, 'benmaier': 9532, 'soshea': 9533, 'jeremiasduct': 9534, 'tabul': 9535, 'carag': 9536, 'reorient': 9537, 'corral': 9538, 'finishesfrom': 9539, 'cbrcrehabilit': 9540, 'cbcself': 9541, 'newback': 9542, 'typeiibconstruct': 9543, 'buildoutexist': 9544, 'muskegon': 9545, '___': 9546, '____': 9547, 'rresid': 9548, 'residentialrestor': 9549, 'malnati': 9550, 'lap': 9551, 'rectangular': 9552, 'woodstair': 9553, 'improvemnt': 9554, 'plumbingm': 9555, 'cultiv': 9556, 'commerici': 9557, 'duplexng': 9558, 'ddoor': 9559, 'caucu': 9560, 'pent': 9561, 'sheve': 9562, 'sufac': 9563, 'phlebotomi': 9564, 'ftnew': 9565, 'bellevu': 9566, 'bedrooom': 9567, 'ointerior': 9568, 'balast': 9569, 'draiwng': 9570, 'criteria': 9571, 'valenziano': 9572, 'herm': 9573, 'bulgari': 9574, 'goal': 9575, 'left': 9576, 'unrest': 9577, 'orangetheori': 9578, 'spreyer': 9579, 'plansin': 9580, 'spe': 9581, 'toll': 9582, 'lod': 9583, 'areanew': 9584, 'renovationremov': 9585, 'mew': 9586, 'nichola': 9587, 'aiphon': 9588, 'kg': 9589, 'aerob': 9590, 'robeson': 9591, 'safe': 9592, 'cornerston': 9593, 'popul': 9594, 'classsif': 9595, 'meetingroom': 9596, 'pig': 9597, 'sweetgreen': 9598, 'alba': 9599, 'oscar': 9600, 'businessconstruct': 9601, 'andcompon': 9602, 'inspectino': 9603, 'ammen': 9604, 'baselin': 9605, 'wave': 9606, 'coincid': 9607, 'systeam': 9608, 'hoag': 9609, 'primera': 9610, 'wager': 9611, 'floorunit': 9612, 'allsignag': 9613, 'hoop': 9614, 'os': 9615, 'rrame': 9616, 'work_remov': 9617, 'intsal': 9618, 'bathroomsremov': 9619, 'plumbingexist': 9620, 'vaspr': 9621, 'poarch': 9622, 'koler': 9623, 'wuc': 9624, 'eastlak': 9625, 'brg': 9626, 'administeredbi': 9627, 'portfolio': 9628, 'dom': 9629, 'limitedscop': 9630, 'dropdemolit': 9631, 'repairreplac': 9632, 'porchesupgrad': 9633, 'ovpground': 9634, 'storyback': 9635, 'accept': 9636, 'rahabilit': 9637, 'aao': 9638, 'springhil': 9639, 'alongsid': 9640, 'comedil': 9641, 'ctl': 9642, 'brightlight': 9643, 'structru': 9644, 'amenti': 9645, 'reconfuigur': 9646, 'reasid': 9647, 'meercantil': 9648, 'deco': 9649, 'preaction': 9650, 'personel': 9651, 'reconfig': 9652, 'aprella': 9653, 'aprellajohnson': 9654, 'cityofchicago': 9655, 'org': 9656, 'rook': 9657, 'intervent': 9658, 'freelanc': 9659, 'wrestl': 9660, 'sp': 9661, 'prompt': 9662, 'beecher': 9663, 'sangamon': 9664, 'existingbas': 9665, 'inforc': 9666, 'carolin': 9667, 'hedger': 9668, 'castleman': 9669, 'hors': 9670, 'mahalia': 9671, 'choru': 9672, 'conat': 9673, 'vtr': 9674, 'vincenneshansen': 9675, 'zoningaddress': 9676, 'garagenew': 9677, 'garageresolv': 9678, 'archictectur': 9679, 'housea': 9680, 'newdorm': 9681, 'phi': 9682, 'meterbank': 9683, 'electricaland': 9684, 'reetail': 9685, 'commin': 9686, 'era': 9687, 'shot': 9688, 'theraphi': 9689, 'cbcrevis': 9690, 'amelia': 9691, 'blockett': 9692, 'alterationsdeconvert': 9693, 'alteralt': 9694, 'psl': 9695, 'llocat': 9696, 'cabinerti': 9697, 'supp': 9698, 'paretit': 9699, 'rehers': 9700, 'chuck': 9701, 'sidetwo': 9702, 'hale': 9703, 'gorund': 9704, 'thye': 9705, 'bronzevil': 9706, 'spanc': 9707, 'blade': 9708, 'mxed': 9709, 'chicagorestaur': 9710, 'vrc': 9711, 'indu': 9712, 'masonryresid': 9713, 'wlk': 9714, 'occuoanc': 9715, 'maintan': 9716, 'gypsumboard': 9717, 'houston': 9718, 'basemetnt': 9719, 'sbject': 9720, 'nutrion': 9721, 'disciipln': 9722, 'mecahna': 9723, 'stretchlab': 9724, 'borehol': 9725, 'existingwat': 9726, 'cardena': 9727, 'beamsk': 9728, 'violationdept': 9729, 'wooda': 9730, 'basmenta': 9731, 'porchesremov': 9732, 'exteriorwork': 9733, 'pekek': 9734, 'bibb': 9735, 'deomoliton': 9736, 'ofsprinkl': 9737, 'permitfound': 9738, 'like': 9739, 'conversoin': 9740, 'splace': 9741, 'rooftopnew': 9742, 'ktchen': 9743, 'storyremov': 9744, 'campero': 9745, 'pollo': 9746, 'pickard': 9747, 'correctioin': 9748, 'calend': 9749, 'imperi': 9750, 'areassuit': 9751, 'expansionn': 9752, 'excess': 9753, 'ing': 9754, 'warefous': 9755, 'reoval': 9756, 'ftexist': 9757, 'personssq': 9758, 'shopclass': 9759, 'spacenew': 9760, 'heght': 9761, 'partioin': 9762, 'combain': 9763, 'improvemet': 9764, 'waffl': 9765, 'businessoccup': 9766, 'suitei': 9767, 'arson': 9768, 'memorabilia': 9769, 'lineset': 9770, 'balconyth': 9771, 'refreiger': 9772, 'raisedroof': 9773, 'demolot': 9774, 'basmen': 9775, 'conbust': 9776, 'franc': 9777, 'installalt': 9778, 'fox': 9779, 'qta': 9780, 'thrift': 9781, 'processemerg': 9782, 'classificaton': 9783, 'apon': 9784, 'atfront': 9785, 'mollison': 9786, 'stream': 9787, 'pharapet': 9788, 'sealer': 9789, 'bodega': 9790, 'bacp': 9791, 'privileg': 9792, 'broiler': 9793, 'teant': 9794, 'conditino': 9795, 'temamt': 9796, 'insureon': 9797, 'plumbinh': 9798, 'ralph': 9799, 'bolton': 9800, 'wollenski': 9801, 'panti': 9802, 'volunt': 9803, 'trend': 9804, 'jerk': 9805, 'fdacad': 9806, 'altearion': 9807, 'paperwork': 9808, 'buyer': 9809, 'consut': 9810, 'bldout': 9811, 'edmond': 9812, 'ujnit': 9813, 'slant': 9814, 'baterri': 9815, 'csr': 9816, 'ixr': 9817, 'shaftextens': 9818, 'slaband': 9819, 'olit': 9820, 'regrad': 9821, 'allport': 9822, 'frent': 9823, 'papapet': 9824, 'ererg': 9825, 'chickifil': 9826, 'rrear': 9827, 'willam': 9828, 'parkingspac': 9829, 'storesfront': 9830, 'corridorsaccess': 9831, 'nordica': 9832, 'dinninig': 9833, 'cabana': 9834, 'miracl': 9835, 'gymnast': 9836, 'reqt': 9837, 'drywalla': 9838, 'sitet': 9839, 'sawn': 9840, 'fornt': 9841, 'bite': 9842, 'boil': 9843, 'occupancor': 9844, 'gagrag': 9845, 'sfroccup': 9846, 'packtow': 9847, 'outgroup': 9848, 'installaion': 9849, 'radiosupgrad': 9850, 'interconnect': 9851, 'airfield': 9852, 'listen': 9853, 'demolitiom': 9854, 'deisel': 9855, 'thorp': 9856, 'ststem': 9857, 'floorto': 9858, 'airportpermit': 9859, 'ywca': 9860, 'flubm': 9861, 'nru': 9862, 'cbt': 9863, 'hass': 9864, 'groun': 9865, 'areplac': 9866, 'apheresi': 9867, 'addotopm': 9868, 'ppr': 9869, 'coupon': 9870, 'installaiton': 9871, 'miscel': 9872, 'mutlistori': 9873, 'propserti': 9874, 'brewpub': 9875, 'banana': 9876, 'biger': 9877, 'hanraild': 9878, 'articl': 9879, 'joachim': 9880, 'classrm': 9881, 'olson': 9882, 'inclidng': 9883, 'paropet': 9884, 'encapsul': 9885, 'progress': 9886, 'weisman': 9887, 'rsd': 9888, 'conves': 9889, 'resident': 9890, 'sioz': 9891, 'aper': 9892, 'tio': 9893, 'salazar': 9894, 'factor': 9895, 'byp': 9896, 'analyt': 9897, 'logic': 9898, 'margarin': 9899, 'stairsaddit': 9900, 'bedroo': 9901, 'houseaft': 9902, 'confirur': 9903, 'reconfiguraion': 9904, 'buildinconvert': 9905, 'residencewith': 9906, 'joel': 9907, 'panal': 9908, 'planner': 9909, 'deconversionn': 9910, 'stein': 9911, 'parish': 9912, 'archaeolog': 9913, 'madis': 9914, 'patioon': 9915, 'plumbingchang': 9916, 'stationsin': 9917, 'lightingto': 9918, 'perm': 9919, 'connexion': 9920, 'dunnhumbi': 9921, 'optometrist': 9922, 'ig': 9923, 'tether': 9924, 'pedestrian': 9925, 'itemswork': 9926, 'resuc': 9927, 'conduminium': 9928, 'balconiesa': 9929, 'leagal': 9930, 'basementrenov': 9931, 'housenew': 9932, 'stoney': 9933, 'bradi': 9934, 'columnsin': 9935, 'microbreweri': 9936, 'stabal': 9937, 'thruogh': 9938, 'walkup': 9939, 'dreamdri': 9940, 'mirai': 9941, 'deficit': 9942, 'proce': 9943, 'stepsto': 9944, 'inspectipon': 9945, 'growthcabinet': 9946, 'hvacremov': 9947, 'reflexolog': 9948, 'ashburi': 9949, 'ipe': 9950, 'homegood': 9951, 'levelplatform': 9952, 'council': 9953, 'newspap': 9954, 'asset': 9955, 'hirsch': 9956, 'palett': 9957, 'pinot': 9958, 'strutur': 9959, 'phalanx': 9960, 'principla': 9961, 'snicker': 9962, 'drywaii': 9963, 'residecn': 9964, 'classificationfront': 9965, 'configurationupgrad': 9966, 'nee': 9967, 'xox': 9968, 'teavana': 9969, 'retailcurr': 9970, 'garment': 9971, 'porchcurr': 9972, 'porchesrepair': 9973, 'bush': 9974, 'distibut': 9975, 'magnific': 9976, 'mile': 9977, 'brain': 9978, 'xray': 9979, 'applicationcurr': 9980, 'nagl': 9981, 'diplxer': 9982, 'numer': 9983, 'previu': 9984, 'pershingsq': 9985, 'heightinstal': 9986, 'violationsfor': 9987, 'residendc': 9988, 'overheaddoor': 9989, 'postel': 9990, 'rappaport': 9991, 'hinkley': 9992, 'stiff': 9993, 'refrger': 9994, 'kernel': 9995, 'honda': 9996, 'mcgrath': 9997, 'dlr': 9998, 'brdige': 9999, 'aletarion': 10000, 'lg': 10001, 'resdiecn': 10002, 'plansprotect': 10003, 'exterio': 10004, 'lla': 10005, 'garagereplac': 10006, 'frront': 10007, 'storefrontspac': 10008, 'storedemolish': 10009, 'ffice': 10010, 'lightfoot': 10011, 'remoddel': 10012, 'treli': 10013, 'archview': 10014, 'trejo': 10015, 'doemer': 10016, 'thirteenth': 10017, 'wellpoint': 10018, 'mercnatil': 10019, 'andfixtur': 10020, 'wiringand': 10021, 'fuxtur': 10022, 'menard': 10023, 'dehumif': 10024, 'permt': 10025, 'ork': 10026, 'widow': 10027, 'alaska': 10028, 'jetblu': 10029, 'bowmanvil': 10030, 'immedi': 10031, 'sue': 10032, 'vibrat': 10033, 'repackag': 10034, 'mmbt': 10035, 'rer': 10036, 'openingin': 10037, 'condominiumno': 10038, 'froma': 10039, 'violion': 10040, 'facadé': 10041, 'levelcda': 10042, 'formwork': 10043, 'greensid': 10044, 'smashburg': 10045, 'violait': 10046, 'yogourt': 10047, 'strap': 10048, 'childern': 10049, 'boost': 10050, 'alonzo': 10051, 'schoolsamo': 10052, 'stagg': 10053, 'automobli': 10054, 'residentti': 10055, 'fc': 10056, 'anddoor': 10057, 'counterflash': 10058, 'insonri': 10059, 'linel': 10060, 'ftg': 10061, 'reov': 10062, 'nint': 10063, 'froom': 10064, 'rtesdienc': 10065, 'communicationa': 10066, 'famiy': 10067, 'ferrara': 10068, 'recepticl': 10069, 'avg': 10070, 'relocaton': 10071, 'dumper': 10072, 'pachuca': 10073, 'reapiar': 10074, 'stome': 10075, 'plaqn': 10076, 'perdraw': 10077, 'planssepar': 10078, 'ventiatlion': 10079, 'documenttaion': 10080, 'plbng': 10081, 'paisan': 10082, 'wallscurr': 10083, 'dentistri': 10084, 'emtranc': 10085, 'cli': 10086, 'infrastruct': 10087, 'marp': 10088, 'kabab': 10089, 'noon': 10090, 'workoccup': 10091, 'deckig': 10092, 'subsil': 10093, 'cionveni': 10094, 'floorself': 10095, 'pallet': 10096, 'oniii': 10097, 'unita': 10098, 'familynew': 10099, 'conditionscurr': 10100, 'notat': 10101, 'barand': 10102, 'btu': 10103, 'replacewindow': 10104, 'familybrick': 10105, 'chemotherapi': 10106, 'inord': 10107, 'elecl': 10108, 'mechl': 10109, 'plansto': 10110, 'cabel': 10111, 'boradband': 10112, 'cabinetinst': 10113, 'jumpersinst': 10114, 'mountinst': 10115, 'cabinetinstalj': 10116, 'instalj': 10117, 'jumpersinstalj': 10118, 'unitinstalj': 10119, 'proposedtelco': 10120, 'mouw': 10121, 'boxinstal': 10122, 'biorepositori': 10123, 'basementreinforc': 10124, 'rainbarrel': 10125, 'bretzel': 10126, 'hannah': 10127, 'iecc': 10128, 'montauk': 10129, 'parttit': 10130, 'existingfloor': 10131, 'includesdemolit': 10132, 'seftcert': 10133, 'coch': 10134, 'handicapt': 10135, 'strcutur': 10136, 'kangaroo': 10137, 'labrenov': 10138, 'schoolsrenov': 10139, 'layoutcurr': 10140, 'suitesno': 10141, 'bx': 10142, 'businessinterior': 10143, 'officesaugust': 10144, 'palyground': 10145, 'flrsuit': 10146, 'vca': 10147, 'falla': 10148, 'plansfound': 10149, 'madewel': 10150, 'alterationsar': 10151, 'formerf': 10152, 'managementag': 10153, 'medicalservic': 10154, 'replacingfinish': 10155, 'steelfram': 10156, 'westerm': 10157, 'peter': 10158, 'rubi': 10159, 'workto': 10160, 'homebas': 10161, 'ciondominuim': 10162, 'ductbank': 10163, 'manufacur': 10164, 'raer': 10165, 'clissold': 10166, 'playspac': 10167, 'pacu': 10168, 'alterationcurr': 10169, 'kitchenno': 10170, 'radiatior': 10171, 'jb': 10172, 'faciltiy': 10173, 'salesfixtur': 10174, 'replacemetn': 10175, 'kirchen': 10176, 'cbcstrengthen': 10177, 'reiforc': 10178, 'excis': 10179, 'udergrad': 10180, 'ceconvert': 10181, 'avondal': 10182, 'opriv': 10183, 'setack': 10184, 'alleyin': 10185, 'gaterepair': 10186, 'requireda': 10187, 'frontag': 10188, 'pizano': 10189, 'insomnia': 10190, 'parenthood': 10191, 'poverti': 10192, 'sargent': 10193, 'metalporch': 10194, 'fndn': 10195, 'fistur': 10196, 'tacombi': 10197, 'grotto': 10198, 'cosmetolog': 10199, 'culinari': 10200, 'haddon': 10201, 'proposed': 10202, 'insal': 10203, 'sexton': 10204, 'patterson': 10205, 'dehimidif': 10206, 'recommis': 10207, 'mccauley': 10208, 'martinez': 10209, 'firat': 10210, 'iro': 10211, 'downzon': 10212, 'warn': 10213, 'basementscop': 10214, 'sitesit': 10215, 'aisg': 10216, 'litaraci': 10217, 'ralter': 10218, 'contactless': 10219, 'wetbar': 10220, 'sinl': 10221, 'plansfor': 10222, 'pland': 10223, 'consultatrion': 10224, 'fllore': 10225, 'blair': 10226, 'sepaer': 10227, 'bn': 10228, 'apartmentadd': 10229, 'rosa': 10230, 'remodelingrevis': 10231, 'tucpoint': 10232, 'charact': 10233, 'renovationinterior': 10234, 'flooraddit': 10235, 'ipd': 10236, 'cbrcdeconvert': 10237, 'represent': 10238, 'cnc': 10239, 'osmosi': 10240, 'restaunr': 10241, 'dwellint': 10242, 'equipmnet': 10243, 'edb': 10244, 'hcu': 10245, 'existinbg': 10246, 'sportsclip': 10247, 'permiy': 10248, 'inspsect': 10249, 'renovationto': 10250, 'suir': 10251, 'recheck': 10252, 'foundaat': 10253, 'compliment': 10254, 'iepa': 10255, 'stopper': 10256, 'chlorin': 10257, 'civic': 10258, 'ahfig': 10259, 'kimley': 10260, 'coaxcabl': 10261, 'diplexr': 10262, 'modificationexist': 10263, 'dm': 10264, 'duai': 10265, 'jahh': 10266, 'remount': 10267, 'squi': 10268, 'bnd': 10269, 'cabinei': 10270, 'raocat': 10271, 'amma': 10272, 'antienna': 10273, 'buu': 10274, 'hpa': 10275, 'lpha': 10276, 'pelocati': 10277, 'rcconnect': 10278, 'reconncct': 10279, 'reconnfct': 10280, 'rem': 10281, 'qua': 10282, 'rruw': 10283, 'bsa': 10284, 'antennainstal': 10285, 'trunksinstal': 10286, 'patiodoor': 10287, 'renpvat': 10288, 'imagin': 10289, 'deterior': 10290, 'genar': 10291, 'absorbt': 10292, 'boxtrash': 10293, 'remodelemerg': 10294, 'pipint': 10295, 'chairway': 10296, 'asperplan': 10297, 'sectorfram': 10298, 'alterationsinclud': 10299, 'improvelevel': 10300, 'intro': 10301, 'frncing': 10302, 'numbersrenov': 10303, 'joistsat': 10304, 'iinspect': 10305, 'lituanica': 10306, 'fnish': 10307, 'newmount': 10308, 'mechin': 10309, 'mcm': 10310, 'storenew': 10311, 'incid': 10312, 'utilit': 10313, 'aft': 10314, 'duth': 10315, 'porcg': 10316, 'characterist': 10317, 'inset': 10318, 'existinfg': 10319, 'ixist': 10320, 'dough': 10321, 'funnel': 10322, 'propertyoccup': 10323, 'dosplay': 10324, 'constructioon': 10325, 'beck': 10326, 'multiunut': 10327, 'fencec': 10328, 'andan': 10329, 'pbb': 10330, 'medspa': 10331, 'prioror': 10332, 'demoltiion': 10333, 'exteriorstorefront': 10334, 'footwar': 10335, 'cbcviolat': 10336, 'substructur': 10337, 'tpmb': 10338, 'ee': 10339, 'kp': 10340, 'on': 10341, 'installatioin': 10342, 'attract': 10343, 'keller': 10344, 'scif': 10345, 'placard': 10346, 'basementat': 10347, 'microinvert': 10348, 'convyer': 10349, 'sppace': 10350, 'kaff': 10351, 'willett': 10352, 'sept': 10353, 'alterationn': 10354, 'rrusprint': 10355, 'frontfacad': 10356, 'cablingnew': 10357, 'kmw': 10358, 'hybridc': 10359, 'mimoantenna': 10360, 'stroefront': 10361, 'buniess': 10362, 'configut': 10363, 'dedic': 10364, 'kenni': 10365, 'kevin': 10366, 'vero': 10367, 'restorationto': 10368, 'tofir': 10369, 'firecondit': 10370, 'casegood': 10371, 'softgood': 10372, 'buildchicago': 10373, 'replacementreplac': 10374, 'replacesam': 10375, 'servcic': 10376, 'duplexpermit': 10377, 'refrgrtn': 10378, 'singlfam': 10379, 'withdrywal': 10380, 'mechanicalwork': 10381, 'reinf': 10382, 'dwelin': 10383, 'concretefound': 10384, 'newfram': 10385, 'replacemt': 10386, 'inject': 10387, 'ocuup': 10388, 'analyz': 10389, 'floorper': 10390, 'kneewal': 10391, 'basementmix': 10392, 'interiorbuildout': 10393, 'vioaltion': 10394, 'gb': 10395, 'petshop': 10396, 'homeownersd': 10397, 'stroller': 10398, 'storeforen': 10399, 'stanchion': 10400, 'kitchencabinet': 10401, 'upgradew': 10402, 'xx': 10403, 'lanscraft': 10404, 'merantil': 10405, 'typeiiib': 10406, 'configuratin': 10407, 'replacemtn': 10408, 'cancel': 10409, 'prologu': 10410, 'mortor': 10411, 'workund': 10412, 'recroom': 10413, 'openng': 10414, 'configer': 10415, 'ingl': 10416, 'tortilleria': 10417, 'ermit': 10418, 'plumnb': 10419, 'satisfi': 10420, 'ty': 10421, 'classrooma': 10422, 'rpoom': 10423, 'sinag': 10424, 'copernicu': 10425, 'aroom': 10426, 'fundament': 10427, 'schoolcurr': 10428, 'mcnair': 10429, 'accessbil': 10430, 'accessbl': 10431, 'proivd': 10432, 'toil': 10433, 'troom': 10434, 'orsepar': 10435, 'componet': 10436, 'toiler': 10437, 'clasroom': 10438, 'renovaiton': 10439, 'remodeliong': 10440, 'harvestim': 10441, 'tilt': 10442, 'mixer': 10443, 'decksect': 10444, 'frane': 10445, 'celi': 10446, 'kithchen': 10447, 'occpuc': 10448, 'withinbas': 10449, 'adaag': 10450, 'foss': 10451, 'hvrc': 10452, 'balocni': 10453, 'consutrct': 10454, 'andductwork': 10455, 'hacc': 10456, 'oa': 10457, 'oakenwald': 10458, 'plazaten': 10459, 'crv': 10460, 'buildoout': 10461, 'subjcet': 10462, 'alterationsm': 10463, 'jim': 10464, 'veerif': 10465, 'estim': 10466, 'verifr': 10467, 'restroomsand': 10468, 'enviro': 10469, 'windbreak': 10470, 'goodsmith': 10471, 'gregg': 10472, 'alouf': 10473, 'wallner': 10474, 'hagen': 10475, 'hospiti': 10476, 'opthamolog': 10477, 'existitng': 10478, 'handbag': 10479, 'leveland': 10480, 'certifac': 10481, 'veltil': 10482, 'squre': 10483, 'cacciator': 10484, 'pressbox': 10485, 'cantor': 10486, 'fitzgerald': 10487, 'jmc': 10488, 'raymond': 10489, 'quislex': 10490, 'kcura': 10491, 'singh': 10492, 'realtick': 10493, 'mercuria': 10494, 'logan': 10495, 'reva': 10496, 'lumberyard': 10497, 'coderequir': 10498, 'conveniencereceptacl': 10499, 'mcgowan': 10500, 'dorr': 10501, 'fieldwork': 10502, 'newoffic': 10503, 'buiness': 10504, 'holeless': 10505, 'daikin': 10506, 'tenantscop': 10507, 'bankscop': 10508, 'laundg': 10509, 'alterl': 10510, 'applicationrenov': 10511, 'amenn': 10512, 'pllumb': 10513, 'publicrestroom': 10514, 'occupancyclassif': 10515, 'dopk': 10516, 'alterationsrenov': 10517, 'crosswalk': 10518, 'morph': 10519, 'cartier': 10520, 'previus': 10521, 'drugstor': 10522, 'retro': 10523, 'waterfal': 10524, 'mercantilecurr': 10525, 'prot': 10526, 'neoconcurr': 10527, 'busniess': 10528, 'stratif': 10529, 'alterationswith': 10530, 'typeva': 10531, 'petwash': 10532, 'lochner': 10533, 'groupu': 10534, 'sidwalk': 10535, 'scp': 10536, 'dec': 10537, 'revsis': 10538, 'greyhound': 10539, 'dt': 10540, 'oplan': 10541, 'demisin': 10542, 'udit': 10543, 'frameless': 10544, 'kiehl': 10545, 'fcgwb': 10546, 'renam': 10547, 'andrestroom': 10548, 'nespresso': 10549, 'bearingpartit': 10550, 'floatat': 10551, 'businesss': 10552, 'sprinlkler': 10553, 'occp': 10554, 'deffici': 10555, 'structr': 10556, 'workmanship': 10557, 'converserion': 10558, 'hopsit': 10559, 'systemno': 10560, 'gypboard': 10561, 'acces': 10562, 'andrefinish': 10563, 'buiildout': 10564, 'cbrcremov': 10565, 'aff': 10566, 'burner': 10567, 'changein': 10568, 'first': 10569, 'occoup': 10570, 'bedoom': 10571, 'interiror': 10572, 'vine': 10573, 'rneovat': 10574, 'condt': 10575, 'costruct': 10576, 'chandeli': 10577, 'mcdondld': 10578, 'pdox': 10579, 'flyover': 10580, 'cbrcinstal': 10581, 'sidetuckoint': 10582, 'squarefootag': 10583, 'puma': 10584, 'dxl': 10585, 'subjrct': 10586, 'forth': 10587, 'strategi': 10588, 'strack': 10589, 'parkt': 10590, 'schneider': 10591, 'storystucco': 10592, 'basementupgrad': 10593, 'cara': 10594, 'fogon': 10595, 'floorsexact': 10596, 'bus': 10597, 'portoin': 10598, 'grad': 10599, 'constructiontyp': 10600, 'phosphat': 10601, 'baltimor': 10602, 'monger': 10603, 'existingoffic': 10604, 'scop': 10605, 'coo': 10606, 'hire': 10607, 'nanci': 10608, 'di': 10609, 'kilpatrick': 10610, 'ration': 10611, 'crbr': 10612, 'fondat': 10613, 'surf': 10614, 'demoltit': 10615, 'sunvault': 10616, 'foundaton': 10617, 'basthroom': 10618, 'cbrcnew': 10619, 'recald': 10620, 'airplan': 10621, 'inspction': 10622, 'groupon': 10623, 'zize': 10624, 'certiifc': 10625, 'insatl': 10626, 'fitne': 10627, 'ror': 10628, 'reduc': 10629, 'structurq': 10630, 'donoghu': 10631, 'michioacana': 10632, 'removeal': 10633, 'floot': 10634, 'olli': 10635, 'cozi': 10636, 'permot': 10637, 'marianao': 10638, 'metaldeck': 10639, 'nutrit': 10640, 'apartmentbuild': 10641, 'woodprivaci': 10642, 'homenew': 10643, 'replan': 10644, 'tinder': 10645, 'mckay': 10646, 'marori': 10647, 'decktyp': 10648, 'allwork': 10649, 'ocunpaci': 10650, 'englewood': 10651, 'gallistel': 10652, 'deckreplac': 10653, 'cbrcinterior': 10654, 'propoesd': 10655, 'campaign': 10656, 'ant': 10657, 'costco': 10658, 'bird': 10659, 'mechahn': 10660, 'forconvers': 10661, 'tosecond': 10662, 'digdown': 10663, 'holodeck': 10664, 'demoerg': 10665, 'ec': 10666, 'blackwood': 10667, 'electricalcalcul': 10668, 'servicefrom': 10669, 'blain': 10670, 'polycarbon': 10671, 'behavior': 10672, 'exacv': 10673, 'sprinklder': 10674, 'esp': 10675, 'hauser': 10676, 'alteratuin': 10677, 'buildingfinish': 10678, 'aphon': 10679, 'buildingfinishesminor': 10680}\n",
      "[(0, 1), (1, 1), (2, 1)]\n"
     ]
    }
   ],
   "source": [
    "print(dict_LoS)\n",
    "print(dict_LoS.token2id)\n",
    "\n",
    "print(BoW_corpus[0])"
   ]
  },
  {
   "cell_type": "code",
   "execution_count": 34,
   "metadata": {},
   "outputs": [
    {
     "name": "stdout",
     "output_type": "stream",
     "text": [
      "(44, '0.242*\"damag\" + 0.206*\"repair\" + 0.184*\"sink\" + 0.117*\"joist\" + 0.095*\"floor\" + 0.043*\"plan\" + 0.020*\"shingl\" + 0.020*\"case\" + 0.020*\"rafter\" + 0.017*\"gutter\"')\n",
      "(86, '0.308*\"tower\" + 0.186*\"homeown\" + 0.164*\"cell\" + 0.146*\"pad\" + 0.069*\"plan\" + 0.039*\"monopol\" + 0.032*\"shelter\" + 0.019*\"antenna\" + 0.000*\"stori\" + 0.000*\"floor\"')\n",
      "(32, '0.736*\"school\" + 0.089*\"vestibul\" + 0.055*\"conveni\" + 0.052*\"pavement\" + 0.015*\"stori\" + 0.009*\"plansno\" + 0.008*\"franklin\" + 0.005*\"plan\" + 0.004*\"clay\" + 0.002*\"floor\"')\n",
      "(30, '0.615*\"frame\" + 0.170*\"stori\" + 0.097*\"garag\" + 0.042*\"plan\" + 0.038*\"ductwork\" + 0.026*\"porch\" + 0.005*\"alter\" + 0.002*\"floor\" + 0.000*\"addit\" + 0.000*\"wood\"')\n",
      "(12, '0.468*\"buildout\" + 0.307*\"sf\" + 0.094*\"duct\" + 0.040*\"floor\" + 0.031*\"plan\" + 0.022*\"skylight\" + 0.014*\"stori\" + 0.005*\"decor\" + 0.004*\"awn\" + 0.000*\"build\"')\n",
      "(90, '0.849*\"use\" + 0.080*\"storag\" + 0.038*\"stori\" + 0.012*\"garden\" + 0.009*\"floor\" + 0.003*\"plan\" + 0.002*\"alter\" + 0.002*\"build\" + 0.001*\"appart\" + 0.000*\"work\"')\n",
      "(28, '0.421*\"offic\" + 0.202*\"suit\" + 0.113*\"use\" + 0.086*\"floor\" + 0.047*\"demolit\" + 0.043*\"space\" + 0.028*\"rework\" + 0.028*\"plumb\" + 0.020*\"prepar\" + 0.005*\"alter\"')\n",
      "(49, '0.226*\"support\" + 0.171*\"rru\" + 0.135*\"mount\" + 0.124*\"grade\" + 0.122*\"wire\" + 0.062*\"diplex\" + 0.062*\"post\" + 0.027*\"wireless\" + 0.022*\"vehicl\" + 0.022*\"combin\"')\n",
      "(89, '0.476*\"finish\" + 0.449*\"partit\" + 0.022*\"loung\" + 0.016*\"rtu\" + 0.014*\"floor\" + 0.009*\"shower\" + 0.006*\"lieu\" + 0.000*\"plan\" + 0.000*\"permit\" + 0.000*\"field\"')\n",
      "(92, '0.706*\"masonri\" + 0.126*\"lintel\" + 0.063*\"facad\" + 0.031*\"wall\" + 0.019*\"plan\" + 0.017*\"reconstruct\" + 0.013*\"detail\" + 0.008*\"oia\" + 0.006*\"train\" + 0.004*\"cornic\"')\n"
     ]
    }
   ],
   "source": [
    "# Create an LDA model\n",
    "lda_model = models.LdaModel(BoW_corpus, id2word=dict_LoS)\n",
    "\n",
    "# Explore the topics\n",
    "topics = lda_model.show_topics()\n",
    "\n",
    "for topic in topics:\n",
    "    print(topic)"
   ]
  },
  {
   "cell_type": "code",
   "execution_count": 35,
   "metadata": {},
   "outputs": [
    {
     "name": "stdout",
     "output_type": "stream",
     "text": [
      "Coherence Score: 0.3430438330205731\n"
     ]
    }
   ],
   "source": [
    "from gensim.models import CoherenceModel\n",
    "\n",
    "# Compute coherence score\n",
    "coherence_model = CoherenceModel(model=lda_model, texts=renovation_nouns, dictionary=dict_LoS, coherence='c_v')\n",
    "coherence_score = coherence_model.get_coherence()\n",
    "\n",
    "print(\"Coherence Score:\", coherence_score)"
   ]
  },
  {
   "cell_type": "code",
   "execution_count": 36,
   "metadata": {},
   "outputs": [
    {
     "name": "stdout",
     "output_type": "stream",
     "text": [
      "(0, '0.058*plan + 0.034*floor + 0.033*stori + 0.028*porch + 0.024*alter + 0.022*build + 0.021*permit + 0.020*work + 0.020*wood + 0.019*unit + 0.016*space + 0.016*offic + 0.016*field + 0.015*inspect + 0.015*renov + 0.013*famili + 0.013*addit + 0.013*use + 0.013*basement + 0.012*self')\n",
      "(1, '0.030*plan + 0.017*floor + 0.016*stori + 0.014*porch + 0.013*alter + 0.010*build + 0.010*wood + 0.009*work + 0.009*permit + 0.009*unit + 0.008*addit + 0.008*famili + 0.007*space + 0.007*field + 0.007*offic + 0.006*inspect + 0.006*renov + 0.006*resid + 0.006*basement + 0.005*use')\n",
      "(2, '0.030*plan + 0.019*porch + 0.017*stori + 0.014*floor + 0.013*wood + 0.011*alter + 0.010*build + 0.009*permit + 0.009*work + 0.009*unit + 0.007*space + 0.007*field + 0.006*offic + 0.006*inspect + 0.006*stair + 0.006*renov + 0.006*repair + 0.006*addit + 0.006*famili + 0.006*basement')\n",
      "(3, '0.026*plan + 0.013*floor + 0.013*stori + 0.013*porch + 0.010*alter + 0.009*wood + 0.009*build + 0.009*unit + 0.009*work + 0.008*permit + 0.007*space + 0.006*offic + 0.006*field + 0.006*inspect + 0.006*instal + 0.006*renov + 0.006*famili + 0.005*addit + 0.005*self + 0.005*repair')\n",
      "(4, '0.028*plan + 0.014*porch + 0.014*stori + 0.014*floor + 0.011*alter + 0.010*wood + 0.009*build + 0.009*permit + 0.009*work + 0.008*unit + 0.007*space + 0.007*offic + 0.007*field + 0.006*inspect + 0.006*renov + 0.006*addit + 0.006*famili + 0.005*stair + 0.005*use + 0.005*self')\n",
      "(5, '0.027*plan + 0.014*stori + 0.014*floor + 0.014*porch + 0.011*alter + 0.010*wood + 0.009*build + 0.009*permit + 0.008*work + 0.008*unit + 0.007*space + 0.007*offic + 0.006*field + 0.006*renov + 0.006*inspect + 0.006*addit + 0.006*famili + 0.005*basement + 0.005*use + 0.005*repair')\n",
      "(6, '0.027*plan + 0.014*floor + 0.014*stori + 0.013*porch + 0.011*alter + 0.010*build + 0.009*wood + 0.009*work + 0.008*permit + 0.008*unit + 0.007*space + 0.007*offic + 0.006*field + 0.006*renov + 0.006*inspect + 0.005*famili + 0.005*use + 0.005*self + 0.005*addit + 0.005*basement')\n",
      "(7, '0.027*plan + 0.014*floor + 0.014*stori + 0.013*porch + 0.011*alter + 0.010*build + 0.009*wood + 0.009*work + 0.008*permit + 0.008*unit + 0.007*space + 0.007*offic + 0.006*field + 0.006*renov + 0.006*inspect + 0.005*famili + 0.005*use + 0.005*addit + 0.005*self + 0.005*basement')\n",
      "(8, '0.027*plan + 0.014*floor + 0.014*stori + 0.013*porch + 0.011*alter + 0.009*build + 0.009*wood + 0.009*work + 0.008*permit + 0.008*unit + 0.007*space + 0.007*offic + 0.006*field + 0.006*renov + 0.006*inspect + 0.005*famili + 0.005*self + 0.005*addit + 0.005*use + 0.005*basement')\n",
      "(9, '0.027*plan + 0.014*floor + 0.014*stori + 0.014*porch + 0.011*alter + 0.009*build + 0.009*wood + 0.009*work + 0.008*permit + 0.008*unit + 0.007*space + 0.007*offic + 0.006*field + 0.006*renov + 0.006*inspect + 0.006*famili + 0.005*addit + 0.005*use + 0.005*self + 0.005*basement')\n",
      "(10, '0.027*plan + 0.014*stori + 0.014*floor + 0.013*porch + 0.011*alter + 0.009*wood + 0.009*build + 0.008*permit + 0.008*work + 0.008*unit + 0.007*space + 0.007*offic + 0.006*field + 0.006*renov + 0.006*inspect + 0.006*famili + 0.005*addit + 0.005*use + 0.005*basement + 0.005*self')\n",
      "(11, '0.026*plan + 0.013*floor + 0.013*stori + 0.013*porch + 0.010*alter + 0.009*build + 0.009*wood + 0.008*work + 0.008*permit + 0.007*unit + 0.007*space + 0.006*offic + 0.006*field + 0.006*renov + 0.006*inspect + 0.005*famili + 0.005*addit + 0.005*use + 0.005*self + 0.005*stair')\n",
      "(12, '0.027*plan + 0.014*stori + 0.014*floor + 0.014*porch + 0.011*alter + 0.010*build + 0.009*wood + 0.008*permit + 0.008*work + 0.008*unit + 0.007*space + 0.007*offic + 0.006*field + 0.006*renov + 0.006*inspect + 0.006*famili + 0.006*addit + 0.005*repair + 0.005*basement + 0.005*self')\n",
      "(13, '0.027*plan + 0.014*floor + 0.014*stori + 0.013*porch + 0.011*alter + 0.009*build + 0.009*wood + 0.008*permit + 0.008*work + 0.008*unit + 0.007*space + 0.007*offic + 0.006*field + 0.006*renov + 0.006*inspect + 0.005*famili + 0.005*addit + 0.005*use + 0.005*basement + 0.005*self')\n",
      "(14, '0.027*plan + 0.013*floor + 0.013*stori + 0.013*porch + 0.011*alter + 0.009*build + 0.009*wood + 0.009*permit + 0.008*work + 0.008*unit + 0.007*space + 0.006*offic + 0.006*field + 0.006*renov + 0.006*inspect + 0.005*famili + 0.005*addit + 0.005*basement + 0.005*use + 0.005*self')\n",
      "(15, '0.027*plan + 0.014*floor + 0.014*stori + 0.014*porch + 0.011*alter + 0.009*wood + 0.009*build + 0.008*work + 0.008*permit + 0.008*unit + 0.007*space + 0.007*offic + 0.006*field + 0.006*renov + 0.006*inspect + 0.006*famili + 0.006*addit + 0.005*use + 0.005*self + 0.005*stair')\n",
      "(16, '0.027*plan + 0.014*floor + 0.014*stori + 0.014*porch + 0.011*alter + 0.009*wood + 0.009*build + 0.008*permit + 0.008*work + 0.008*unit + 0.007*space + 0.006*offic + 0.006*field + 0.006*inspect + 0.006*renov + 0.006*famili + 0.005*addit + 0.005*use + 0.005*self + 0.005*repair')\n",
      "(17, '0.026*plan + 0.014*floor + 0.014*stori + 0.013*porch + 0.011*alter + 0.009*wood + 0.009*build + 0.008*permit + 0.008*work + 0.008*unit + 0.007*space + 0.007*offic + 0.006*field + 0.006*renov + 0.006*inspect + 0.005*famili + 0.005*addit + 0.005*use + 0.005*basement + 0.005*self')\n",
      "(18, '0.026*plan + 0.014*floor + 0.013*stori + 0.013*porch + 0.010*alter + 0.009*build + 0.009*wood + 0.008*work + 0.008*permit + 0.008*unit + 0.007*space + 0.007*offic + 0.006*field + 0.006*renov + 0.006*inspect + 0.005*repair + 0.005*famili + 0.005*addit + 0.005*self + 0.005*use')\n",
      "(19, '0.027*plan + 0.014*stori + 0.014*floor + 0.013*porch + 0.011*alter + 0.009*build + 0.009*wood + 0.008*permit + 0.008*work + 0.008*unit + 0.007*space + 0.007*offic + 0.006*field + 0.006*inspect + 0.006*renov + 0.006*famili + 0.005*addit + 0.005*self + 0.005*use + 0.005*basement')\n"
     ]
    }
   ],
   "source": [
    "from gensim.models import HdpModel\n",
    "\n",
    "# Assuming you have BoW_corpus and dict_LoS already defined...\n",
    "\n",
    "# Create an HDP model\n",
    "hdp_model = HdpModel(BoW_corpus, id2word=dict_LoS)\n",
    "\n",
    "# Explore the topics\n",
    "topics = hdp_model.show_topics()\n",
    "\n",
    "for topic in topics:\n",
    "    print(topic)"
   ]
  },
  {
   "cell_type": "code",
   "execution_count": 37,
   "metadata": {},
   "outputs": [
    {
     "name": "stdout",
     "output_type": "stream",
     "text": [
      "Coherence Score: 0.32898946240735827\n"
     ]
    }
   ],
   "source": [
    "# Compute coherence score\n",
    "coherence_model = CoherenceModel(model=hdp_model, texts=renovation_nouns, dictionary=dict_LoS)\n",
    "coherence_score = coherence_model.get_coherence()\n",
    "\n",
    "print(\"Coherence Score:\", coherence_score)"
   ]
  },
  {
   "cell_type": "markdown",
   "metadata": {},
   "source": [
    "* HdpModel is not yet performing as expected\n",
    "* Let's stick with LDA for now"
   ]
  },
  {
   "attachments": {},
   "cell_type": "markdown",
   "metadata": {},
   "source": [
    "---"
   ]
  },
  {
   "cell_type": "code",
   "execution_count": 38,
   "metadata": {},
   "outputs": [
    {
     "name": "stdout",
     "output_type": "stream",
     "text": [
      "(0, '0.086*\"stori\" + 0.065*\"plan\" + 0.057*\"unit\" + 0.041*\"basement\" + 0.040*\"famili\" + 0.039*\"build\" + 0.036*\"addit\" + 0.034*\"floor\" + 0.030*\"resid\" + 0.026*\"alter\"')\n",
      "(1, '0.046*\"floor\" + 0.037*\"plan\" + 0.036*\"offic\" + 0.035*\"space\" + 0.032*\"alter\" + 0.030*\"permit\" + 0.029*\"self\" + 0.029*\"use\" + 0.027*\"work\" + 0.025*\"field\"')\n",
      "(2, '0.148*\"porch\" + 0.107*\"wood\" + 0.089*\"plan\" + 0.062*\"stair\" + 0.049*\"repair\" + 0.042*\"locat\" + 0.037*\"size\" + 0.037*\"stori\" + 0.023*\"deck\" + 0.021*\"violat\"')\n"
     ]
    }
   ],
   "source": [
    "# Create an LDA model\n",
    "lda_model = models.LdaModel(BoW_corpus,num_topics=3,id2word=dict_LoS)\n",
    "\n",
    "# Explore the topics\n",
    "topics = lda_model.show_topics()\n",
    "\n",
    "for topic in topics:\n",
    "    print(topic)"
   ]
  },
  {
   "cell_type": "code",
   "execution_count": 39,
   "metadata": {},
   "outputs": [
    {
     "name": "stdout",
     "output_type": "stream",
     "text": [
      "Coherence Score: 0.5386100218289125\n"
     ]
    }
   ],
   "source": [
    "# Compute coherence score\n",
    "coherence_model = CoherenceModel(model=lda_model, texts=renovation_nouns, dictionary=dict_LoS, coherence='c_v')\n",
    "coherence_score = coherence_model.get_coherence()\n",
    "\n",
    "print(\"Coherence Score:\", coherence_score)"
   ]
  },
  {
   "attachments": {},
   "cell_type": "markdown",
   "metadata": {},
   "source": [
    "* Changing the number of topics from 10 to 3 has increased the coherency score from 0.34 to 0.54"
   ]
  },
  {
   "cell_type": "code",
   "execution_count": 46,
   "metadata": {},
   "outputs": [
    {
     "data": {
      "text/plain": [
       "<gensim.interfaces.TransformedCorpus at 0x17810aec0>"
      ]
     },
     "execution_count": 46,
     "metadata": {},
     "output_type": "execute_result"
    }
   ],
   "source": [
    "topic_predictions = lda_model.get_document_topics(BoW_corpus)\n",
    "topic_predictions"
   ]
  },
  {
   "cell_type": "markdown",
   "metadata": {},
   "source": [
    "**sorted(doc_topics, key=lambda x: x[1], reverse=True)** would return an output such as **[(1, 0.8486103), (0, 0.124885045), (2, 0.026504716)]**"
   ]
  },
  {
   "cell_type": "code",
   "execution_count": 58,
   "metadata": {},
   "outputs": [],
   "source": [
    "pred_df=pd.DataFrame(columns=['pred_class','probability'])\n",
    "for doc_id, doc_topics in enumerate(topic_predictions):\n",
    "    # Sort the topic distribution in descending order\n",
    "    # key=lambda x: x[1] to sort by the second [1] item from the tuple\n",
    "    sorted_topics = sorted(doc_topics, key=lambda x: x[1], reverse=True)\n",
    "    # Extract the top predicted topic and its probability\n",
    "    pred_df.loc[doc_id,:]= sorted_topics[0]"
   ]
  },
  {
   "cell_type": "code",
   "execution_count": 60,
   "metadata": {},
   "outputs": [],
   "source": [
    "class_di={0:'extension',1:'office/alteration',2:'repair/porch'}"
   ]
  },
  {
   "cell_type": "code",
   "execution_count": 66,
   "metadata": {},
   "outputs": [
    {
     "data": {
      "text/html": [
       "<div>\n",
       "<style scoped>\n",
       "    .dataframe tbody tr th:only-of-type {\n",
       "        vertical-align: middle;\n",
       "    }\n",
       "\n",
       "    .dataframe tbody tr th {\n",
       "        vertical-align: top;\n",
       "    }\n",
       "\n",
       "    .dataframe thead th {\n",
       "        text-align: right;\n",
       "    }\n",
       "</style>\n",
       "<table border=\"1\" class=\"dataframe\">\n",
       "  <thead>\n",
       "    <tr style=\"text-align: right;\">\n",
       "      <th></th>\n",
       "      <th>pred_class</th>\n",
       "      <th>probability</th>\n",
       "      <th>class_names</th>\n",
       "    </tr>\n",
       "  </thead>\n",
       "  <tbody>\n",
       "    <tr>\n",
       "      <th>0</th>\n",
       "      <td>0</td>\n",
       "      <td>0.81836</td>\n",
       "      <td>extension</td>\n",
       "    </tr>\n",
       "    <tr>\n",
       "      <th>1</th>\n",
       "      <td>1</td>\n",
       "      <td>0.91466</td>\n",
       "      <td>office/alteration</td>\n",
       "    </tr>\n",
       "    <tr>\n",
       "      <th>2</th>\n",
       "      <td>1</td>\n",
       "      <td>0.910198</td>\n",
       "      <td>office/alteration</td>\n",
       "    </tr>\n",
       "    <tr>\n",
       "      <th>3</th>\n",
       "      <td>0</td>\n",
       "      <td>0.810642</td>\n",
       "      <td>extension</td>\n",
       "    </tr>\n",
       "    <tr>\n",
       "      <th>4</th>\n",
       "      <td>2</td>\n",
       "      <td>0.713313</td>\n",
       "      <td>repair/porch</td>\n",
       "    </tr>\n",
       "    <tr>\n",
       "      <th>...</th>\n",
       "      <td>...</td>\n",
       "      <td>...</td>\n",
       "      <td>...</td>\n",
       "    </tr>\n",
       "    <tr>\n",
       "      <th>146849</th>\n",
       "      <td>0</td>\n",
       "      <td>0.91508</td>\n",
       "      <td>extension</td>\n",
       "    </tr>\n",
       "    <tr>\n",
       "      <th>146850</th>\n",
       "      <td>0</td>\n",
       "      <td>0.718805</td>\n",
       "      <td>extension</td>\n",
       "    </tr>\n",
       "    <tr>\n",
       "      <th>146851</th>\n",
       "      <td>0</td>\n",
       "      <td>0.715179</td>\n",
       "      <td>extension</td>\n",
       "    </tr>\n",
       "    <tr>\n",
       "      <th>146852</th>\n",
       "      <td>1</td>\n",
       "      <td>0.700495</td>\n",
       "      <td>office/alteration</td>\n",
       "    </tr>\n",
       "    <tr>\n",
       "      <th>146853</th>\n",
       "      <td>1</td>\n",
       "      <td>0.848624</td>\n",
       "      <td>office/alteration</td>\n",
       "    </tr>\n",
       "  </tbody>\n",
       "</table>\n",
       "<p>146854 rows × 3 columns</p>\n",
       "</div>"
      ],
      "text/plain": [
       "       pred_class probability        class_names\n",
       "0               0     0.81836          extension\n",
       "1               1     0.91466  office/alteration\n",
       "2               1    0.910198  office/alteration\n",
       "3               0    0.810642          extension\n",
       "4               2    0.713313       repair/porch\n",
       "...           ...         ...                ...\n",
       "146849          0     0.91508          extension\n",
       "146850          0    0.718805          extension\n",
       "146851          0    0.715179          extension\n",
       "146852          1    0.700495  office/alteration\n",
       "146853          1    0.848624  office/alteration\n",
       "\n",
       "[146854 rows x 3 columns]"
      ]
     },
     "execution_count": 66,
     "metadata": {},
     "output_type": "execute_result"
    }
   ],
   "source": [
    "pred_df['class_names']=[class_di[k] for k in pred_df.pred_class]\n",
    "pred_df"
   ]
  },
  {
   "cell_type": "code",
   "execution_count": 73,
   "metadata": {},
   "outputs": [
    {
     "data": {
      "text/plain": [
       "0          True\n",
       "1         False\n",
       "2         False\n",
       "3          True\n",
       "4          True\n",
       "          ...  \n",
       "730506    False\n",
       "730507    False\n",
       "730508    False\n",
       "730509    False\n",
       "730510    False\n",
       "Name: PERMIT_TYPE, Length: 730511, dtype: bool"
      ]
     },
     "execution_count": 73,
     "metadata": {},
     "output_type": "execute_result"
    }
   ],
   "source": [
    "filter=df['PERMIT_TYPE']=='RENOVATION/ALTERATION'\n",
    "filter"
   ]
  },
  {
   "cell_type": "code",
   "execution_count": 79,
   "metadata": {},
   "outputs": [],
   "source": [
    "df.loc[filter,'class_names']=pred_df['class_names']"
   ]
  },
  {
   "cell_type": "code",
   "execution_count": 82,
   "metadata": {},
   "outputs": [],
   "source": [
    "df['class_names'].fillna('not_renovation',inplace=True)"
   ]
  },
  {
   "cell_type": "code",
   "execution_count": 90,
   "metadata": {},
   "outputs": [
    {
     "name": "stdout",
     "output_type": "stream",
     "text": [
      "The dataframe shape is (730511, 16)\n"
     ]
    },
    {
     "data": {
      "text/html": [
       "<div>\n",
       "<style scoped>\n",
       "    .dataframe tbody tr th:only-of-type {\n",
       "        vertical-align: middle;\n",
       "    }\n",
       "\n",
       "    .dataframe tbody tr th {\n",
       "        vertical-align: top;\n",
       "    }\n",
       "\n",
       "    .dataframe thead th {\n",
       "        text-align: right;\n",
       "    }\n",
       "</style>\n",
       "<table border=\"1\" class=\"dataframe\">\n",
       "  <thead>\n",
       "    <tr style=\"text-align: right;\">\n",
       "      <th></th>\n",
       "      <th>Data Types</th>\n",
       "      <th>Total Null Values</th>\n",
       "      <th>Null Values Percentage</th>\n",
       "      <th>Sample Value Head</th>\n",
       "      <th>Sample Value Tail</th>\n",
       "      <th>Sample Value</th>\n",
       "    </tr>\n",
       "    <tr>\n",
       "      <th>Column_Name</th>\n",
       "      <th></th>\n",
       "      <th></th>\n",
       "      <th></th>\n",
       "      <th></th>\n",
       "      <th></th>\n",
       "      <th></th>\n",
       "    </tr>\n",
       "  </thead>\n",
       "  <tbody>\n",
       "    <tr>\n",
       "      <th>PERMIT_TYPE</th>\n",
       "      <td>object</td>\n",
       "      <td>0</td>\n",
       "      <td>0.0</td>\n",
       "      <td>RENOVATION/ALTERATION</td>\n",
       "      <td>ELECTRIC WIRING</td>\n",
       "      <td>EASY PERMIT PROCESS</td>\n",
       "    </tr>\n",
       "    <tr>\n",
       "      <th>REVIEW_TYPE</th>\n",
       "      <td>object</td>\n",
       "      <td>0</td>\n",
       "      <td>0.0</td>\n",
       "      <td>STANDARD PLAN REVIEW</td>\n",
       "      <td>EASY PERMIT WEB</td>\n",
       "      <td>EASY PERMIT</td>\n",
       "    </tr>\n",
       "    <tr>\n",
       "      <th>WORK_DESCRIPTION</th>\n",
       "      <td>object</td>\n",
       "      <td>0</td>\n",
       "      <td>0.0</td>\n",
       "      <td>INTERIOR REMODELING OF EXISTING 3 D.U. PER PLA...</td>\n",
       "      <td>REPAIR SERVICE</td>\n",
       "      <td>INSTALL INTERIOR DRAIN TILE PER CODE AND USING...</td>\n",
       "    </tr>\n",
       "    <tr>\n",
       "      <th>CONTACT_1_TYPE</th>\n",
       "      <td>object</td>\n",
       "      <td>0</td>\n",
       "      <td>0.0</td>\n",
       "      <td>OWNER AS GENERAL CONTRACTOR</td>\n",
       "      <td>CONTRACTOR-ELECTRICAL</td>\n",
       "      <td>EXPEDITOR</td>\n",
       "    </tr>\n",
       "    <tr>\n",
       "      <th>CONTACT_1_CITY</th>\n",
       "      <td>object</td>\n",
       "      <td>0</td>\n",
       "      <td>0.0</td>\n",
       "      <td>CHICAGO</td>\n",
       "      <td>CHICAGO_SUBURBS</td>\n",
       "      <td>CHICAGO</td>\n",
       "    </tr>\n",
       "    <tr>\n",
       "      <th>CONTACT_1_STATE</th>\n",
       "      <td>object</td>\n",
       "      <td>0</td>\n",
       "      <td>0.0</td>\n",
       "      <td>IL</td>\n",
       "      <td>OTHER</td>\n",
       "      <td>IL</td>\n",
       "    </tr>\n",
       "    <tr>\n",
       "      <th>CENSUS_TRACT</th>\n",
       "      <td>int64</td>\n",
       "      <td>0</td>\n",
       "      <td>0.0</td>\n",
       "      <td>220702</td>\n",
       "      <td>530503</td>\n",
       "      <td>20802</td>\n",
       "    </tr>\n",
       "    <tr>\n",
       "      <th>LOG_PROCESSING_TIME</th>\n",
       "      <td>float64</td>\n",
       "      <td>0</td>\n",
       "      <td>0.0</td>\n",
       "      <td>4.394449</td>\n",
       "      <td>-23.025851</td>\n",
       "      <td>-23.025851</td>\n",
       "    </tr>\n",
       "    <tr>\n",
       "      <th>LOG_BUILDING_FEE_PAID</th>\n",
       "      <td>float64</td>\n",
       "      <td>0</td>\n",
       "      <td>0.0</td>\n",
       "      <td>4.828314</td>\n",
       "      <td>4.317488</td>\n",
       "      <td>6.437752</td>\n",
       "    </tr>\n",
       "    <tr>\n",
       "      <th>LOG_ZONING_FEE_PAID</th>\n",
       "      <td>float64</td>\n",
       "      <td>0</td>\n",
       "      <td>0.0</td>\n",
       "      <td>4.317488</td>\n",
       "      <td>-23.025851</td>\n",
       "      <td>3.912023</td>\n",
       "    </tr>\n",
       "    <tr>\n",
       "      <th>LOG_OTHER_FEE_PAID</th>\n",
       "      <td>float64</td>\n",
       "      <td>0</td>\n",
       "      <td>0.0</td>\n",
       "      <td>-23.025851</td>\n",
       "      <td>-23.025851</td>\n",
       "      <td>-23.025851</td>\n",
       "    </tr>\n",
       "    <tr>\n",
       "      <th>LOG_SUBTOTAL_PAID</th>\n",
       "      <td>float64</td>\n",
       "      <td>0</td>\n",
       "      <td>0.0</td>\n",
       "      <td>5.298317</td>\n",
       "      <td>4.317488</td>\n",
       "      <td>6.514713</td>\n",
       "    </tr>\n",
       "    <tr>\n",
       "      <th>LOG_TOTAL_FEE</th>\n",
       "      <td>float64</td>\n",
       "      <td>0</td>\n",
       "      <td>0.0</td>\n",
       "      <td>5.298317</td>\n",
       "      <td>4.317488</td>\n",
       "      <td>6.514713</td>\n",
       "    </tr>\n",
       "    <tr>\n",
       "      <th>LOG_REPORTED_COST</th>\n",
       "      <td>float64</td>\n",
       "      <td>0</td>\n",
       "      <td>0.0</td>\n",
       "      <td>8.006368</td>\n",
       "      <td>6.214608</td>\n",
       "      <td>8.961879</td>\n",
       "    </tr>\n",
       "    <tr>\n",
       "      <th>YEAR</th>\n",
       "      <td>int64</td>\n",
       "      <td>0</td>\n",
       "      <td>0.0</td>\n",
       "      <td>2006</td>\n",
       "      <td>2023</td>\n",
       "      <td>2017</td>\n",
       "    </tr>\n",
       "    <tr>\n",
       "      <th>class_names</th>\n",
       "      <td>object</td>\n",
       "      <td>0</td>\n",
       "      <td>0.0</td>\n",
       "      <td>extension</td>\n",
       "      <td>not_renovation</td>\n",
       "      <td>not_renovation</td>\n",
       "    </tr>\n",
       "  </tbody>\n",
       "</table>\n",
       "</div>"
      ],
      "text/plain": [
       "                      Data Types  Total Null Values  Null Values Percentage  \\\n",
       "Column_Name                                                                   \n",
       "PERMIT_TYPE               object                  0                     0.0   \n",
       "REVIEW_TYPE               object                  0                     0.0   \n",
       "WORK_DESCRIPTION          object                  0                     0.0   \n",
       "CONTACT_1_TYPE            object                  0                     0.0   \n",
       "CONTACT_1_CITY            object                  0                     0.0   \n",
       "CONTACT_1_STATE           object                  0                     0.0   \n",
       "CENSUS_TRACT               int64                  0                     0.0   \n",
       "LOG_PROCESSING_TIME      float64                  0                     0.0   \n",
       "LOG_BUILDING_FEE_PAID    float64                  0                     0.0   \n",
       "LOG_ZONING_FEE_PAID      float64                  0                     0.0   \n",
       "LOG_OTHER_FEE_PAID       float64                  0                     0.0   \n",
       "LOG_SUBTOTAL_PAID        float64                  0                     0.0   \n",
       "LOG_TOTAL_FEE            float64                  0                     0.0   \n",
       "LOG_REPORTED_COST        float64                  0                     0.0   \n",
       "YEAR                       int64                  0                     0.0   \n",
       "class_names               object                  0                     0.0   \n",
       "\n",
       "                                                       Sample Value Head  \\\n",
       "Column_Name                                                                \n",
       "PERMIT_TYPE                                        RENOVATION/ALTERATION   \n",
       "REVIEW_TYPE                                         STANDARD PLAN REVIEW   \n",
       "WORK_DESCRIPTION       INTERIOR REMODELING OF EXISTING 3 D.U. PER PLA...   \n",
       "CONTACT_1_TYPE                               OWNER AS GENERAL CONTRACTOR   \n",
       "CONTACT_1_CITY                                                   CHICAGO   \n",
       "CONTACT_1_STATE                                                       IL   \n",
       "CENSUS_TRACT                                                      220702   \n",
       "LOG_PROCESSING_TIME                                             4.394449   \n",
       "LOG_BUILDING_FEE_PAID                                           4.828314   \n",
       "LOG_ZONING_FEE_PAID                                             4.317488   \n",
       "LOG_OTHER_FEE_PAID                                            -23.025851   \n",
       "LOG_SUBTOTAL_PAID                                               5.298317   \n",
       "LOG_TOTAL_FEE                                                   5.298317   \n",
       "LOG_REPORTED_COST                                               8.006368   \n",
       "YEAR                                                                2006   \n",
       "class_names                                                    extension   \n",
       "\n",
       "                           Sample Value Tail  \\\n",
       "Column_Name                                    \n",
       "PERMIT_TYPE                  ELECTRIC WIRING   \n",
       "REVIEW_TYPE                  EASY PERMIT WEB   \n",
       "WORK_DESCRIPTION              REPAIR SERVICE   \n",
       "CONTACT_1_TYPE         CONTRACTOR-ELECTRICAL   \n",
       "CONTACT_1_CITY               CHICAGO_SUBURBS   \n",
       "CONTACT_1_STATE                        OTHER   \n",
       "CENSUS_TRACT                          530503   \n",
       "LOG_PROCESSING_TIME               -23.025851   \n",
       "LOG_BUILDING_FEE_PAID               4.317488   \n",
       "LOG_ZONING_FEE_PAID               -23.025851   \n",
       "LOG_OTHER_FEE_PAID                -23.025851   \n",
       "LOG_SUBTOTAL_PAID                   4.317488   \n",
       "LOG_TOTAL_FEE                       4.317488   \n",
       "LOG_REPORTED_COST                   6.214608   \n",
       "YEAR                                    2023   \n",
       "class_names                   not_renovation   \n",
       "\n",
       "                                                            Sample Value  \n",
       "Column_Name                                                               \n",
       "PERMIT_TYPE                                          EASY PERMIT PROCESS  \n",
       "REVIEW_TYPE                                                  EASY PERMIT  \n",
       "WORK_DESCRIPTION       INSTALL INTERIOR DRAIN TILE PER CODE AND USING...  \n",
       "CONTACT_1_TYPE                                                 EXPEDITOR  \n",
       "CONTACT_1_CITY                                                   CHICAGO  \n",
       "CONTACT_1_STATE                                                       IL  \n",
       "CENSUS_TRACT                                                       20802  \n",
       "LOG_PROCESSING_TIME                                           -23.025851  \n",
       "LOG_BUILDING_FEE_PAID                                           6.437752  \n",
       "LOG_ZONING_FEE_PAID                                             3.912023  \n",
       "LOG_OTHER_FEE_PAID                                            -23.025851  \n",
       "LOG_SUBTOTAL_PAID                                               6.514713  \n",
       "LOG_TOTAL_FEE                                                   6.514713  \n",
       "LOG_REPORTED_COST                                               8.961879  \n",
       "YEAR                                                                2017  \n",
       "class_names                                               not_renovation  "
      ]
     },
     "execution_count": 90,
     "metadata": {},
     "output_type": "execute_result"
    }
   ],
   "source": [
    "overview(df)"
   ]
  },
  {
   "cell_type": "markdown",
   "metadata": {},
   "source": [
    "***\n",
    "## EXPORT CLEANED DATAFRAME"
   ]
  },
  {
   "cell_type": "code",
   "execution_count": 91,
   "metadata": {},
   "outputs": [],
   "source": [
    "df.to_csv('../data/clean/permits_cleaned.csv')"
   ]
  }
 ],
 "metadata": {
  "kernelspec": {
   "display_name": "base",
   "language": "python",
   "name": "python3"
  },
  "language_info": {
   "codemirror_mode": {
    "name": "ipython",
    "version": 3
   },
   "file_extension": ".py",
   "mimetype": "text/x-python",
   "name": "python",
   "nbconvert_exporter": "python",
   "pygments_lexer": "ipython3",
   "version": "3.10.9"
  },
  "orig_nbformat": 4
 },
 "nbformat": 4,
 "nbformat_minor": 2
}
