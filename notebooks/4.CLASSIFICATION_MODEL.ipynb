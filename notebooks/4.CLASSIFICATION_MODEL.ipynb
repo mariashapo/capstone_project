{
 "cells": [
  {
   "attachments": {},
   "cell_type": "markdown",
   "metadata": {},
   "source": [
    "# Predicting Gentrification\n",
    "*A study into planning application features that can help to signal early warnings of gentrification*\n",
    "</br></br></br></br>\n",
    "`Notebook 4: Classification Models`</br>\n",
    "Author: Mariia Shapovalova</br>\n",
    "Date: April, 2023"
   ]
  },
  {
   "attachments": {},
   "cell_type": "markdown",
   "metadata": {},
   "source": [
    "---\n",
    "## Table of Contents\n",
    "Notebook 4: Modelling\n",
    "- [0.0 Initial Models](#identifier_0)\n",
    "  - A - Model Containing all features\n",
    "  - B - Model with features that did not pass ttest in notebook 3 removed\n",
    "  - C - Model with multicollinear features removed\n",
    "  - Gridseach for model A and C\n",
    "  - Residuals viewed on the map\n",
    "- [1.0 NLP Model](#identifier_1)\n",
    "  - Initial NlP Model\n",
    "  - Gridsearch\n",
    "- [2.0 Stacked Model](#identifier_2)\n",
    "  - Optimizing the length of training and prediction windows\n",
    "  - Gridsearch\n"
   ]
  },
  {
   "attachments": {},
   "cell_type": "markdown",
   "metadata": {},
   "source": [
    "---\n",
    "<center><h2 id=\"identifier_0\">NOTEBOOK INTRODUCTION</h2><center>"
   ]
  },
  {
   "attachments": {},
   "cell_type": "markdown",
   "metadata": {},
   "source": [
    "* This notebook focuses on developing classification models based on previously defined metrics. \n",
    "* In this notebook, we will create three different model typologies:\n",
    "  * First typology: having one distinct census tract in the dataframe and predicting from a fixed year\n",
    "    * For this typology, three different set of features will be tested (all features, features that passed the statistical test and features after multicollinearity cleaning)\n",
    "  * Second typology: an NLP model to analyze the text descriptions of applications, attempting to define words that would indicate gentrification\n",
    "    * for this typology, only income and application descriptions will be used\n",
    "  * Third typology: \n",
    "    * instead of using a fixed year for prediction, looping through all possible year combinations given the input train and prediction window\n",
    "    * then stacking all the groups together to result in a larger dataset"
   ]
  },
  {
   "attachments": {},
   "cell_type": "markdown",
   "metadata": {},
   "source": [
    "***"
   ]
  },
  {
   "attachments": {},
   "cell_type": "markdown",
   "metadata": {},
   "source": [
    "* The highest test set accuracy reached is 78.17%"
   ]
  },
  {
   "attachments": {},
   "cell_type": "markdown",
   "metadata": {},
   "source": [
    "---"
   ]
  },
  {
   "cell_type": "code",
   "execution_count": 1,
   "metadata": {},
   "outputs": [],
   "source": [
    "import pandas as pd\n",
    "import numpy as np\n",
    "\n",
    "#visualisations\n",
    "import matplotlib.pyplot as plt\n",
    "import seaborn as sns\n",
    "\n",
    "import re\n",
    "import random\n",
    "import joblib\n",
    "\n",
    "from sklearn.model_selection import train_test_split\n",
    "from sklearn.preprocessing import StandardScaler\n",
    "from sklearn.preprocessing import MinMaxScaler\n",
    "from sklearn.decomposition import PCA\n",
    "\n",
    "from sklearn.linear_model import LinearRegression\n",
    "from sklearn.linear_model import LogisticRegression\n",
    "from sklearn.neighbors import KNeighborsClassifier\n",
    "from sklearn.tree import DecisionTreeClassifier\n",
    "\n",
    "from sklearn.preprocessing import OneHotEncoder\n",
    "\n",
    "# To set up a temporary directory for caching pipeline results\n",
    "from tempfile import mkdtemp\n",
    "import tempfile\n",
    "\n",
    "# To build a pipelines \n",
    "from sklearn.pipeline import Pipeline\n",
    "from sklearn.preprocessing import FunctionTransformer\n",
    "\n",
    "# To build custom column column transformers\n",
    "from sklearn.base import BaseEstimator, TransformerMixin\n",
    "from sklearn.compose import ColumnTransformer\n",
    "\n",
    "# To do a cross-validated grid search\n",
    "from sklearn.model_selection import GridSearchCV\n",
    "\n",
    "import warnings\n",
    "warnings.filterwarnings('ignore')"
   ]
  },
  {
   "cell_type": "code",
   "execution_count": 2,
   "metadata": {},
   "outputs": [],
   "source": [
    "#import custom functions\n",
    "from functions import *"
   ]
  },
  {
   "attachments": {},
   "cell_type": "markdown",
   "metadata": {},
   "source": [
    "## Load Data"
   ]
  },
  {
   "cell_type": "code",
   "execution_count": 3,
   "metadata": {},
   "outputs": [],
   "source": [
    "df=pd.read_csv('../data/clean/merged_income_df',index_col=0)"
   ]
  },
  {
   "cell_type": "code",
   "execution_count": 4,
   "metadata": {},
   "outputs": [
    {
     "name": "stdout",
     "output_type": "stream",
     "text": [
      "The dataframe shape is (724869, 29)\n"
     ]
    },
    {
     "data": {
      "text/html": [
       "<div>\n",
       "<style scoped>\n",
       "    .dataframe tbody tr th:only-of-type {\n",
       "        vertical-align: middle;\n",
       "    }\n",
       "\n",
       "    .dataframe tbody tr th {\n",
       "        vertical-align: top;\n",
       "    }\n",
       "\n",
       "    .dataframe thead th {\n",
       "        text-align: right;\n",
       "    }\n",
       "</style>\n",
       "<table border=\"1\" class=\"dataframe\">\n",
       "  <thead>\n",
       "    <tr style=\"text-align: right;\">\n",
       "      <th></th>\n",
       "      <th>Data Types</th>\n",
       "      <th>Total Null Values</th>\n",
       "      <th>Null Values Percentage</th>\n",
       "      <th>Sample Value Head</th>\n",
       "      <th>Sample Value Tail</th>\n",
       "      <th>Sample Value</th>\n",
       "    </tr>\n",
       "    <tr>\n",
       "      <th>Column_Name</th>\n",
       "      <th></th>\n",
       "      <th></th>\n",
       "      <th></th>\n",
       "      <th></th>\n",
       "      <th></th>\n",
       "      <th></th>\n",
       "    </tr>\n",
       "  </thead>\n",
       "  <tbody>\n",
       "    <tr>\n",
       "      <th>PERMIT_TYPE</th>\n",
       "      <td>object</td>\n",
       "      <td>0</td>\n",
       "      <td>0.0</td>\n",
       "      <td>RENOVATION/ALTERATION</td>\n",
       "      <td>ELECTRIC WIRING</td>\n",
       "      <td>EASY PERMIT PROCESS</td>\n",
       "    </tr>\n",
       "    <tr>\n",
       "      <th>REVIEW_TYPE</th>\n",
       "      <td>object</td>\n",
       "      <td>0</td>\n",
       "      <td>0.0</td>\n",
       "      <td>STANDARD PLAN REVIEW</td>\n",
       "      <td>EASY PERMIT WEB</td>\n",
       "      <td>EASY PERMIT</td>\n",
       "    </tr>\n",
       "    <tr>\n",
       "      <th>WORK_DESCRIPTION</th>\n",
       "      <td>object</td>\n",
       "      <td>0</td>\n",
       "      <td>0.0</td>\n",
       "      <td>INTERIOR REMODELING OF EXISTING 3 D.U. PER PLA...</td>\n",
       "      <td>INSTALLATION OF (1) 30 AMP DUAL POLE BREAKER A...</td>\n",
       "      <td>REPLACE EXISTING DAMAGED UNDERGROUND WASTE LIN...</td>\n",
       "    </tr>\n",
       "    <tr>\n",
       "      <th>CONTACT_1_TYPE</th>\n",
       "      <td>object</td>\n",
       "      <td>0</td>\n",
       "      <td>0.0</td>\n",
       "      <td>OWNER AS GENERAL CONTRACTOR</td>\n",
       "      <td>CONTRACTOR-ELECTRICAL</td>\n",
       "      <td>EXPEDITOR</td>\n",
       "    </tr>\n",
       "    <tr>\n",
       "      <th>CONTACT_1_CITY</th>\n",
       "      <td>object</td>\n",
       "      <td>0</td>\n",
       "      <td>0.0</td>\n",
       "      <td>CHICAGO</td>\n",
       "      <td>CHICAGO</td>\n",
       "      <td>OTHER</td>\n",
       "    </tr>\n",
       "    <tr>\n",
       "      <th>CONTACT_1_STATE</th>\n",
       "      <td>object</td>\n",
       "      <td>0</td>\n",
       "      <td>0.0</td>\n",
       "      <td>IL</td>\n",
       "      <td>IL</td>\n",
       "      <td>IL</td>\n",
       "    </tr>\n",
       "    <tr>\n",
       "      <th>LOG_PROCESSING_TIME</th>\n",
       "      <td>float64</td>\n",
       "      <td>0</td>\n",
       "      <td>0.0</td>\n",
       "      <td>4.394449</td>\n",
       "      <td>1.791759</td>\n",
       "      <td>-23.025851</td>\n",
       "    </tr>\n",
       "    <tr>\n",
       "      <th>LOG_BUILDING_FEE_PAID</th>\n",
       "      <td>float64</td>\n",
       "      <td>0</td>\n",
       "      <td>0.0</td>\n",
       "      <td>4.828314</td>\n",
       "      <td>3.688879</td>\n",
       "      <td>6.514713</td>\n",
       "    </tr>\n",
       "    <tr>\n",
       "      <th>LOG_ZONING_FEE_PAID</th>\n",
       "      <td>float64</td>\n",
       "      <td>0</td>\n",
       "      <td>0.0</td>\n",
       "      <td>4.317488</td>\n",
       "      <td>-23.025851</td>\n",
       "      <td>-23.025851</td>\n",
       "    </tr>\n",
       "    <tr>\n",
       "      <th>LOG_OTHER_FEE_PAID</th>\n",
       "      <td>float64</td>\n",
       "      <td>0</td>\n",
       "      <td>0.0</td>\n",
       "      <td>-23.025851</td>\n",
       "      <td>-23.025851</td>\n",
       "      <td>-23.025851</td>\n",
       "    </tr>\n",
       "    <tr>\n",
       "      <th>LOG_SUBTOTAL_PAID</th>\n",
       "      <td>float64</td>\n",
       "      <td>0</td>\n",
       "      <td>0.0</td>\n",
       "      <td>5.298317</td>\n",
       "      <td>3.688879</td>\n",
       "      <td>6.514713</td>\n",
       "    </tr>\n",
       "    <tr>\n",
       "      <th>LOG_TOTAL_FEE</th>\n",
       "      <td>float64</td>\n",
       "      <td>0</td>\n",
       "      <td>0.0</td>\n",
       "      <td>5.298317</td>\n",
       "      <td>3.688879</td>\n",
       "      <td>6.514713</td>\n",
       "    </tr>\n",
       "    <tr>\n",
       "      <th>LOG_REPORTED_COST</th>\n",
       "      <td>float64</td>\n",
       "      <td>0</td>\n",
       "      <td>0.0</td>\n",
       "      <td>8.006368</td>\n",
       "      <td>6.214608</td>\n",
       "      <td>9.862987</td>\n",
       "    </tr>\n",
       "    <tr>\n",
       "      <th>YEAR</th>\n",
       "      <td>int64</td>\n",
       "      <td>0</td>\n",
       "      <td>0.0</td>\n",
       "      <td>2006</td>\n",
       "      <td>2007</td>\n",
       "      <td>2019</td>\n",
       "    </tr>\n",
       "    <tr>\n",
       "      <th>Class_Names</th>\n",
       "      <td>object</td>\n",
       "      <td>0</td>\n",
       "      <td>0.0</td>\n",
       "      <td>repair/porch</td>\n",
       "      <td>Not_Renovation</td>\n",
       "      <td>Not_Renovation</td>\n",
       "    </tr>\n",
       "    <tr>\n",
       "      <th>Census_Tract</th>\n",
       "      <td>float64</td>\n",
       "      <td>0</td>\n",
       "      <td>0.0</td>\n",
       "      <td>220702.0</td>\n",
       "      <td>813801.0</td>\n",
       "      <td>140200.0</td>\n",
       "    </tr>\n",
       "    <tr>\n",
       "      <th>Household_Count</th>\n",
       "      <td>float64</td>\n",
       "      <td>0</td>\n",
       "      <td>0.0</td>\n",
       "      <td>1320.5</td>\n",
       "      <td>760.5</td>\n",
       "      <td>1734.0</td>\n",
       "    </tr>\n",
       "    <tr>\n",
       "      <th>Mean_Income_2010</th>\n",
       "      <td>float64</td>\n",
       "      <td>0</td>\n",
       "      <td>0.0</td>\n",
       "      <td>49437.0</td>\n",
       "      <td>55427.0</td>\n",
       "      <td>54418.0</td>\n",
       "    </tr>\n",
       "    <tr>\n",
       "      <th>Mean_Income_2011</th>\n",
       "      <td>float64</td>\n",
       "      <td>0</td>\n",
       "      <td>0.0</td>\n",
       "      <td>49646.0</td>\n",
       "      <td>53797.0</td>\n",
       "      <td>58764.0</td>\n",
       "    </tr>\n",
       "    <tr>\n",
       "      <th>Mean_Income_2012</th>\n",
       "      <td>float64</td>\n",
       "      <td>0</td>\n",
       "      <td>0.0</td>\n",
       "      <td>51154.0</td>\n",
       "      <td>46439.0</td>\n",
       "      <td>58734.0</td>\n",
       "    </tr>\n",
       "    <tr>\n",
       "      <th>Mean_Income_2013</th>\n",
       "      <td>float64</td>\n",
       "      <td>0</td>\n",
       "      <td>0.0</td>\n",
       "      <td>49622.67</td>\n",
       "      <td>49445.0</td>\n",
       "      <td>60456.33</td>\n",
       "    </tr>\n",
       "    <tr>\n",
       "      <th>Mean_Income_2014</th>\n",
       "      <td>float64</td>\n",
       "      <td>0</td>\n",
       "      <td>0.0</td>\n",
       "      <td>48883.0</td>\n",
       "      <td>47066.67</td>\n",
       "      <td>60021.0</td>\n",
       "    </tr>\n",
       "    <tr>\n",
       "      <th>Mean_Income_2015</th>\n",
       "      <td>float64</td>\n",
       "      <td>0</td>\n",
       "      <td>0.0</td>\n",
       "      <td>49255.33</td>\n",
       "      <td>47360.0</td>\n",
       "      <td>59123.0</td>\n",
       "    </tr>\n",
       "    <tr>\n",
       "      <th>Mean_Income_2016</th>\n",
       "      <td>float64</td>\n",
       "      <td>0</td>\n",
       "      <td>0.0</td>\n",
       "      <td>53106.0</td>\n",
       "      <td>48804.33</td>\n",
       "      <td>59242.33</td>\n",
       "    </tr>\n",
       "    <tr>\n",
       "      <th>Mean_Income_2017</th>\n",
       "      <td>float64</td>\n",
       "      <td>0</td>\n",
       "      <td>0.0</td>\n",
       "      <td>59723.67</td>\n",
       "      <td>50737.33</td>\n",
       "      <td>60703.0</td>\n",
       "    </tr>\n",
       "    <tr>\n",
       "      <th>Mean_Income_2018</th>\n",
       "      <td>float64</td>\n",
       "      <td>0</td>\n",
       "      <td>0.0</td>\n",
       "      <td>66311.67</td>\n",
       "      <td>53190.33</td>\n",
       "      <td>63295.0</td>\n",
       "    </tr>\n",
       "    <tr>\n",
       "      <th>Mean_Income_2019</th>\n",
       "      <td>float64</td>\n",
       "      <td>0</td>\n",
       "      <td>0.0</td>\n",
       "      <td>72489.33</td>\n",
       "      <td>55115.33</td>\n",
       "      <td>63242.67</td>\n",
       "    </tr>\n",
       "    <tr>\n",
       "      <th>Mean_Income_2020</th>\n",
       "      <td>float64</td>\n",
       "      <td>0</td>\n",
       "      <td>0.0</td>\n",
       "      <td>77939.33</td>\n",
       "      <td>55924.33</td>\n",
       "      <td>69550.33</td>\n",
       "    </tr>\n",
       "    <tr>\n",
       "      <th>Mean_Income_2021</th>\n",
       "      <td>float64</td>\n",
       "      <td>0</td>\n",
       "      <td>0.0</td>\n",
       "      <td>83103.67</td>\n",
       "      <td>56854.33</td>\n",
       "      <td>72020.33</td>\n",
       "    </tr>\n",
       "  </tbody>\n",
       "</table>\n",
       "</div>"
      ],
      "text/plain": [
       "                      Data Types  Total Null Values  Null Values Percentage  \\\n",
       "Column_Name                                                                   \n",
       "PERMIT_TYPE               object                  0                     0.0   \n",
       "REVIEW_TYPE               object                  0                     0.0   \n",
       "WORK_DESCRIPTION          object                  0                     0.0   \n",
       "CONTACT_1_TYPE            object                  0                     0.0   \n",
       "CONTACT_1_CITY            object                  0                     0.0   \n",
       "CONTACT_1_STATE           object                  0                     0.0   \n",
       "LOG_PROCESSING_TIME      float64                  0                     0.0   \n",
       "LOG_BUILDING_FEE_PAID    float64                  0                     0.0   \n",
       "LOG_ZONING_FEE_PAID      float64                  0                     0.0   \n",
       "LOG_OTHER_FEE_PAID       float64                  0                     0.0   \n",
       "LOG_SUBTOTAL_PAID        float64                  0                     0.0   \n",
       "LOG_TOTAL_FEE            float64                  0                     0.0   \n",
       "LOG_REPORTED_COST        float64                  0                     0.0   \n",
       "YEAR                       int64                  0                     0.0   \n",
       "Class_Names               object                  0                     0.0   \n",
       "Census_Tract             float64                  0                     0.0   \n",
       "Household_Count          float64                  0                     0.0   \n",
       "Mean_Income_2010         float64                  0                     0.0   \n",
       "Mean_Income_2011         float64                  0                     0.0   \n",
       "Mean_Income_2012         float64                  0                     0.0   \n",
       "Mean_Income_2013         float64                  0                     0.0   \n",
       "Mean_Income_2014         float64                  0                     0.0   \n",
       "Mean_Income_2015         float64                  0                     0.0   \n",
       "Mean_Income_2016         float64                  0                     0.0   \n",
       "Mean_Income_2017         float64                  0                     0.0   \n",
       "Mean_Income_2018         float64                  0                     0.0   \n",
       "Mean_Income_2019         float64                  0                     0.0   \n",
       "Mean_Income_2020         float64                  0                     0.0   \n",
       "Mean_Income_2021         float64                  0                     0.0   \n",
       "\n",
       "                                                       Sample Value Head  \\\n",
       "Column_Name                                                                \n",
       "PERMIT_TYPE                                        RENOVATION/ALTERATION   \n",
       "REVIEW_TYPE                                         STANDARD PLAN REVIEW   \n",
       "WORK_DESCRIPTION       INTERIOR REMODELING OF EXISTING 3 D.U. PER PLA...   \n",
       "CONTACT_1_TYPE                               OWNER AS GENERAL CONTRACTOR   \n",
       "CONTACT_1_CITY                                                   CHICAGO   \n",
       "CONTACT_1_STATE                                                       IL   \n",
       "LOG_PROCESSING_TIME                                             4.394449   \n",
       "LOG_BUILDING_FEE_PAID                                           4.828314   \n",
       "LOG_ZONING_FEE_PAID                                             4.317488   \n",
       "LOG_OTHER_FEE_PAID                                            -23.025851   \n",
       "LOG_SUBTOTAL_PAID                                               5.298317   \n",
       "LOG_TOTAL_FEE                                                   5.298317   \n",
       "LOG_REPORTED_COST                                               8.006368   \n",
       "YEAR                                                                2006   \n",
       "Class_Names                                                 repair/porch   \n",
       "Census_Tract                                                    220702.0   \n",
       "Household_Count                                                   1320.5   \n",
       "Mean_Income_2010                                                 49437.0   \n",
       "Mean_Income_2011                                                 49646.0   \n",
       "Mean_Income_2012                                                 51154.0   \n",
       "Mean_Income_2013                                                49622.67   \n",
       "Mean_Income_2014                                                 48883.0   \n",
       "Mean_Income_2015                                                49255.33   \n",
       "Mean_Income_2016                                                 53106.0   \n",
       "Mean_Income_2017                                                59723.67   \n",
       "Mean_Income_2018                                                66311.67   \n",
       "Mean_Income_2019                                                72489.33   \n",
       "Mean_Income_2020                                                77939.33   \n",
       "Mean_Income_2021                                                83103.67   \n",
       "\n",
       "                                                       Sample Value Tail  \\\n",
       "Column_Name                                                                \n",
       "PERMIT_TYPE                                              ELECTRIC WIRING   \n",
       "REVIEW_TYPE                                              EASY PERMIT WEB   \n",
       "WORK_DESCRIPTION       INSTALLATION OF (1) 30 AMP DUAL POLE BREAKER A...   \n",
       "CONTACT_1_TYPE                                     CONTRACTOR-ELECTRICAL   \n",
       "CONTACT_1_CITY                                                   CHICAGO   \n",
       "CONTACT_1_STATE                                                       IL   \n",
       "LOG_PROCESSING_TIME                                             1.791759   \n",
       "LOG_BUILDING_FEE_PAID                                           3.688879   \n",
       "LOG_ZONING_FEE_PAID                                           -23.025851   \n",
       "LOG_OTHER_FEE_PAID                                            -23.025851   \n",
       "LOG_SUBTOTAL_PAID                                               3.688879   \n",
       "LOG_TOTAL_FEE                                                   3.688879   \n",
       "LOG_REPORTED_COST                                               6.214608   \n",
       "YEAR                                                                2007   \n",
       "Class_Names                                               Not_Renovation   \n",
       "Census_Tract                                                    813801.0   \n",
       "Household_Count                                                    760.5   \n",
       "Mean_Income_2010                                                 55427.0   \n",
       "Mean_Income_2011                                                 53797.0   \n",
       "Mean_Income_2012                                                 46439.0   \n",
       "Mean_Income_2013                                                 49445.0   \n",
       "Mean_Income_2014                                                47066.67   \n",
       "Mean_Income_2015                                                 47360.0   \n",
       "Mean_Income_2016                                                48804.33   \n",
       "Mean_Income_2017                                                50737.33   \n",
       "Mean_Income_2018                                                53190.33   \n",
       "Mean_Income_2019                                                55115.33   \n",
       "Mean_Income_2020                                                55924.33   \n",
       "Mean_Income_2021                                                56854.33   \n",
       "\n",
       "                                                            Sample Value  \n",
       "Column_Name                                                               \n",
       "PERMIT_TYPE                                          EASY PERMIT PROCESS  \n",
       "REVIEW_TYPE                                                  EASY PERMIT  \n",
       "WORK_DESCRIPTION       REPLACE EXISTING DAMAGED UNDERGROUND WASTE LIN...  \n",
       "CONTACT_1_TYPE                                                 EXPEDITOR  \n",
       "CONTACT_1_CITY                                                     OTHER  \n",
       "CONTACT_1_STATE                                                       IL  \n",
       "LOG_PROCESSING_TIME                                           -23.025851  \n",
       "LOG_BUILDING_FEE_PAID                                           6.514713  \n",
       "LOG_ZONING_FEE_PAID                                           -23.025851  \n",
       "LOG_OTHER_FEE_PAID                                            -23.025851  \n",
       "LOG_SUBTOTAL_PAID                                               6.514713  \n",
       "LOG_TOTAL_FEE                                                   6.514713  \n",
       "LOG_REPORTED_COST                                               9.862987  \n",
       "YEAR                                                                2019  \n",
       "Class_Names                                               Not_Renovation  \n",
       "Census_Tract                                                    140200.0  \n",
       "Household_Count                                                   1734.0  \n",
       "Mean_Income_2010                                                 54418.0  \n",
       "Mean_Income_2011                                                 58764.0  \n",
       "Mean_Income_2012                                                 58734.0  \n",
       "Mean_Income_2013                                                60456.33  \n",
       "Mean_Income_2014                                                 60021.0  \n",
       "Mean_Income_2015                                                 59123.0  \n",
       "Mean_Income_2016                                                59242.33  \n",
       "Mean_Income_2017                                                 60703.0  \n",
       "Mean_Income_2018                                                 63295.0  \n",
       "Mean_Income_2019                                                63242.67  \n",
       "Mean_Income_2020                                                69550.33  \n",
       "Mean_Income_2021                                                72020.33  "
      ]
     },
     "execution_count": 4,
     "metadata": {},
     "output_type": "execute_result"
    }
   ],
   "source": [
    "overview (df)"
   ]
  },
  {
   "cell_type": "markdown",
   "metadata": {},
   "source": [
    "***\n",
    "<center><h2>Test/Remainder Split<center><h2>"
   ]
  },
  {
   "cell_type": "markdown",
   "metadata": {},
   "source": [
    "* Test/Validation/Train Splits will be done based on the census tracts (geographies)\n",
    "* Let's select 20% of the distinct census tracts and separate them in the test dataframe"
   ]
  },
  {
   "cell_type": "code",
   "execution_count": 5,
   "metadata": {},
   "outputs": [],
   "source": [
    "import random\n",
    "\n",
    "test_size=0.2\n",
    "\n",
    "#create a set of distinct census tracts\n",
    "geo_set=set(df['Census_Tract'])\n",
    "\n",
    "#measure its length and multiply by the specified test si\\e\n",
    "test_len=int(len(geo_set)*test_size)\n",
    "\n",
    "random.seed(42)\n",
    "#select a random subset of distinct census tract of the required size\n",
    "geo_test=random.sample(list(geo_set),k=test_len)\n",
    "\n",
    "#create test mask by testing if census tracts belong to the test subset\n",
    "test_mask=df['Census_Tract'].isin(geo_test)\n",
    "\n",
    "#apply the mask to generate the test dataset and the inverse to generate remainder dataset\n",
    "df_test=df[test_mask].reset_index(drop=True)\n",
    "df_rem=df[~test_mask].reset_index(drop=True)"
   ]
  },
  {
   "cell_type": "code",
   "execution_count": 6,
   "metadata": {},
   "outputs": [
    {
     "name": "stdout",
     "output_type": "stream",
     "text": [
      "remained df shape is  (546259, 29)\n",
      "test df shape is  (178610, 29)\n"
     ]
    }
   ],
   "source": [
    "#check the shapes\n",
    "print('remained df shape is ', df_rem.shape)\n",
    "print('test df shape is ', df_test.shape)"
   ]
  },
  {
   "attachments": {},
   "cell_type": "markdown",
   "metadata": {},
   "source": [
    "---\n",
    "<center><h2 id=\"heading_identifier_1\">INITIAL MODELS</h2>"
   ]
  },
  {
   "attachments": {},
   "cell_type": "markdown",
   "metadata": {},
   "source": [
    "\n",
    "**Preprocessing Steps**"
   ]
  },
  {
   "attachments": {},
   "cell_type": "markdown",
   "metadata": {},
   "source": [
    "* OHE:\n",
    "  * Fit & transform on train\n",
    "  * Transform only on test\n",
    "  * All columns are numeric apart from Work Description\n",
    "* Group by Census Tract & Year\n",
    "  * Average Numeric Columns\n",
    "  * Combine descriptions for Work Description Column\n",
    "* Determine intial train and prediction windows\n",
    "  * Baseline model: split at 2013\n",
    "    * training on 2006 to 2013 data\n",
    "    * predicting from 2013 to 2021\n",
    "* Split X and y"
   ]
  },
  {
   "attachments": {},
   "cell_type": "markdown",
   "metadata": {},
   "source": [
    "---\n",
    "* **OHE**"
   ]
  },
  {
   "cell_type": "code",
   "execution_count": 7,
   "metadata": {},
   "outputs": [
    {
     "data": {
      "text/plain": [
       "['PERMIT_TYPE',\n",
       " 'REVIEW_TYPE',\n",
       " 'CONTACT_1_TYPE',\n",
       " 'CONTACT_1_CITY',\n",
       " 'CONTACT_1_STATE',\n",
       " 'Class_Names']"
      ]
     },
     "execution_count": 7,
     "metadata": {},
     "output_type": "execute_result"
    }
   ],
   "source": [
    "ohe_col=list(df_rem.drop(columns='WORK_DESCRIPTION').select_dtypes(include=['object']).columns)\n",
    "ohe_col"
   ]
  },
  {
   "attachments": {},
   "cell_type": "markdown",
   "metadata": {},
   "source": [
    "* Custom Column Transformer: One Hot Encoding that returns a whole dataframe with column names and one hot encoded column dropped"
   ]
  },
  {
   "cell_type": "code",
   "execution_count": 8,
   "metadata": {},
   "outputs": [],
   "source": [
    "from functions import CustomOneHotEncoder_CT"
   ]
  },
  {
   "attachments": {},
   "cell_type": "markdown",
   "metadata": {},
   "source": [
    "* `Function Transformer 2`: Grouping by Census Tract and Year\n",
    "  * based on the year we are making the prediction from and the training length"
   ]
  },
  {
   "cell_type": "code",
   "execution_count": 9,
   "metadata": {},
   "outputs": [],
   "source": [
    "from functions import df_window_multi_type"
   ]
  },
  {
   "attachments": {},
   "cell_type": "markdown",
   "metadata": {},
   "source": [
    "* `Custom Transformer 3`: Convert income data into a Binary Target Column calculating if gentrification occured\n",
    "  * based on the year we are making the prediction from and the prediction length"
   ]
  },
  {
   "cell_type": "code",
   "execution_count": 10,
   "metadata": {},
   "outputs": [],
   "source": [
    "from functions import comb_change_calc\n",
    "#Import previously defined function to calculate the combined change metric between incomes from two years using the formula"
   ]
  },
  {
   "cell_type": "code",
   "execution_count": 11,
   "metadata": {},
   "outputs": [],
   "source": [
    "class GentrificationTarget(BaseEstimator, TransformerMixin):\n",
    "    def __init__(self,year,prediction_period,metric,perc_power,prefix='Mean_Income_'):\n",
    "        self.year=year\n",
    "        self.prediction_period=prediction_period\n",
    "        self.metric=metric\n",
    "        if metric=='power':\n",
    "            self.perc_power=perc_power\n",
    "        self.current_income_col=None\n",
    "        self.future_income_col=None\n",
    "        self.median_change=None\n",
    "        self.prefix=prefix\n",
    "\n",
    "\n",
    "    def fit(self,df,y=None):\n",
    "\n",
    "        #name of the column containing income for the current year\n",
    "        self.current_income_col=self.prefix+str(self.year)\n",
    "\n",
    "        #the year we are making the prediction for\n",
    "        prediction_year=self.year+self.prediction_period\n",
    "\n",
    "        #name of the column containing income for the year we are making the prediction for\n",
    "        self.future_income_col=self.prefix+str(prediction_year)\n",
    "\n",
    "        current_income=df[self.current_income_col]\n",
    "        future_income=df[self.future_income_col]\n",
    "\n",
    "        if self.metric=='log':\n",
    "            combined_change=[comb_change_calc(start,finish) for (start,finish) in zip(current_income,future_income)]\n",
    "        \n",
    "        elif self.metric=='power':\n",
    "            combined_change=[comb_change_calc_power(start,finish,perc_power=self.perc_power) for (start,finish) in zip(current_income,future_income)]\n",
    "\n",
    "        #fitting in our case is just finding the median change\n",
    "        self.median_change=np.median(combined_change)\n",
    "        #returning self with updated attributes that can be accessed in the transform method later\n",
    "        return self\n",
    "\n",
    "    def transform(self, df, y=None):\n",
    "        #this method transforms the existing dataframe to calculate if the change for each geography was more or less than the mean \n",
    "        #dropping all the other columns\n",
    "\n",
    "        df_temp=df.copy()\n",
    "\n",
    "        current_income=df[self.current_income_col]\n",
    "        future_income=df[self.future_income_col]\n",
    "\n",
    "        if self.metric=='log':\n",
    "            combined_change=[comb_change_calc(start,finish) for (start,finish) in zip(current_income,future_income)]\n",
    "        \n",
    "        elif self.metric=='power':\n",
    "            combined_change=[comb_change_calc_power(start,finish,perc_power=self.perc_power) for (start,finish) in zip(current_income,future_income)]\n",
    "\n",
    "        #this is y_target column as a list\n",
    "        target=[1 if i>self.median_change else 0 for i in combined_change]\n",
    "\n",
    "        y_col=[col for col in list(df_temp.columns) if bool(re.search('Mean',col))]\n",
    "        df_temp=df_temp.drop(columns=y_col)\n",
    "        df_temp['Income']=current_income\n",
    "        df_temp['Target']=target\n",
    "\n",
    "        return df_temp"
   ]
  },
  {
   "attachments": {},
   "cell_type": "markdown",
   "metadata": {},
   "source": [
    "* `Function Transformer 4`: Split X and y columns"
   ]
  },
  {
   "cell_type": "code",
   "execution_count": 12,
   "metadata": {},
   "outputs": [],
   "source": [
    "def select_columns(df):\n",
    "    X = df.drop(columns='Target')\n",
    "    y = df['Target']\n",
    "    return X, y"
   ]
  },
  {
   "attachments": {},
   "cell_type": "markdown",
   "metadata": {},
   "source": [
    "***\n",
    "# Modelling Typology 1: \n",
    "* **Dataframe Structure**: One distinct census tract in the input dataframe \n",
    "* **Input Features**: Numeric and One Hot Encoded Columns"
   ]
  },
  {
   "attachments": {},
   "cell_type": "markdown",
   "metadata": {},
   "source": [
    "Recall in Notebook2 we defined this metric\n",
    "* **Combined metric B**\n",
    "${\\text{Absolute Change}}*{\\text{Percentage Change}^n}$ </br></br>\n",
    " Let's investigate how changing the **n** parameter would impact the train/test accuracies"
   ]
  },
  {
   "cell_type": "code",
   "execution_count": 13,
   "metadata": {},
   "outputs": [],
   "source": [
    "#Define pipeline parameters that will remain constant for the loop\n",
    "year=2013\n",
    "train_period=5\n",
    "\n",
    "prediction_period=8\n",
    "metric='power'\n",
    "prefix='Mean_Income_'\n",
    "\n",
    "#Instantiate a dataframe to store results of the loop\n",
    "df_result=pd.DataFrame({'perc_power':[],'train_acc':[],'test_acc':[],'income_coef':[]})\n",
    "\n",
    "#Loop through perc_power\n",
    "for i,perc_power in enumerate(range(0,15)):\n",
    "\n",
    "    #Define a pipeline for X and y preprocessing based on the steps outlined above\n",
    "    X_y_prep_baseline = Pipeline(\n",
    "        [\n",
    "        #one hot encoding\n",
    "        ('ohe', CustomOneHotEncoder_CT()),\n",
    "        #grouping based on the year we are making the prediction from and the training length\n",
    "        ('group',FunctionTransformer(df_window_multi_type, kw_args={'year': year, 't': train_period})),\n",
    "        #convert income change into y_target based on the year we are making the prediction from and the prediction length and drop the remaining of Income columns\n",
    "        ('target',GentrificationTarget(year,prediction_period,metric,perc_power,prefix)),\n",
    "        #split into X & y\n",
    "        ('X_y_split',FunctionTransformer(select_columns))\n",
    "        ])\n",
    "\n",
    "    #Define a modelling pipeline\n",
    "    model_pipeline = Pipeline([\n",
    "        ('scaler', MinMaxScaler()),   # data normalization step\n",
    "        ('model', LogisticRegression())   # linear regression model\n",
    "    ])\n",
    "\n",
    "    #Conduct preprocessing using the first pipeline\n",
    "    X_y_prep_baseline.fit(df_rem)\n",
    "    X_rem,y_rem=X_y_prep_baseline.transform(df_rem)\n",
    "    X_test,y_test=X_y_prep_baseline.transform(df_test)\n",
    "\n",
    "    #Initial models not integrating work_desc\n",
    "    #Drop Work Description Column\n",
    "    X_rem=X_rem.drop(columns='WORK_DESCRIPTION')\n",
    "    X_test=X_test.drop(columns='WORK_DESCRIPTION')\n",
    "\n",
    "    #Fit the modelling pipeline on X_rem and y_rem\n",
    "    model_pipeline.fit(X_rem,y_rem)\n",
    "    find_metric=model_pipeline\n",
    "\n",
    "    #save train and test accuracies\n",
    "    train_acc=find_metric.score(X_rem,y_rem)\n",
    "    test_acc=find_metric.score(X_test,y_test)\n",
    "\n",
    "    #\n",
    "    df_result.loc[i,'perc_power']=perc_power\n",
    "    df_result.loc[i,'train_acc']=train_acc\n",
    "    df_result.loc[i,'test_acc']=test_acc\n",
    "\n",
    "    df_output=pipe_to_df(X_rem,find_metric)\n",
    "    inc_coef=float(df_output[df_output.feature=='Income'].loc[:,'coefficients'])\n",
    "    df_result.loc[i,'income_coef']=inc_coef"
   ]
  },
  {
   "cell_type": "code",
   "execution_count": 14,
   "metadata": {},
   "outputs": [
    {
     "data": {
      "image/png": "[encoded data removed]",
      "text/plain": [
       "<Figure size 1500x1000 with 2 Axes>"
      ]
     },
     "metadata": {},
     "output_type": "display_data"
    }
   ],
   "source": [
    "sns.set_style('whitegrid')\n",
    "\n",
    "fig, ax = plt.subplots(2,1, figsize=(15,10))\n",
    "\n",
    "plt.subplot(2,1,1)\n",
    "\n",
    "# Plot the chart\n",
    "sns.lineplot(data=df_result, x='perc_power', y='train_acc',label='train_acc')\n",
    "sns.lineplot(data=df_result, x='perc_power', y='test_acc',label='test_acc')\n",
    "plt.ylabel('Accuracy')\n",
    "#sns.lineplot(data=df_result, x='perc_power', y=abs(df_result.income_coef),label='income_coef')\n",
    "\n",
    "plt.title('The effect of changing the power coefficient of the percentage change on the model accuracy')\n",
    "plt.legend()\n",
    "\n",
    "plt.subplot(2,1,2)\n",
    "\n",
    "# Plot the chart\n",
    "sns.lineplot(data=df_result, x='perc_power', y=df_result.income_coef,label='absolute of the income_coef',color='green')\n",
    "\n",
    "plt.title('The effect of changing the power coefficient of the percentage change on the logistic classification coefficient')\n",
    "plt.ylabel('Absolute of Income Coefficient from the Logistic Model')\n",
    "\n",
    "plt.legend()\n",
    "\n",
    "plt.show()\n"
   ]
  },
  {
   "attachments": {},
   "cell_type": "markdown",
   "metadata": {},
   "source": [
    "* Need to aim for the lowest absolute value of the income optimal perc_power\n",
    "  * Optimal perc_power=5 because coefficient is approaching 1 --> less impact on the model\n",
    "  "
   ]
  },
  {
   "attachments": {},
   "cell_type": "markdown",
   "metadata": {},
   "source": [
    "---\n",
    "## **Model A**\n",
    "* First, let's fit a model with all the one hot encoded features, without conducting any further feature selection\n",
    "* `model A contains all the features without conducting any statistical tests`"
   ]
  },
  {
   "cell_type": "code",
   "execution_count": 16,
   "metadata": {},
   "outputs": [],
   "source": [
    "year=2010\n",
    "train_period=3\n",
    "prediction_period=11\n",
    "metric='power'\n",
    "perc_power=7\n",
    "\n",
    "#Define a pipeline for X and y preprocessing based on the steps outlined above\n",
    "X_y_prep_baseline = Pipeline(\n",
    "    [\n",
    "    #one hot encoding\n",
    "    ('ohe', CustomOneHotEncoder_CT()),\n",
    "    #grouping based on the year we are making the prediction from and the training length\n",
    "    ('group',FunctionTransformer(df_window_multi_type, kw_args={'year': year, 't': train_period})),\n",
    "    #convert income change into y_target based on the year we are making the prediction from and the prediction length and drop the remaining of Income columns\n",
    "    ('target',GentrificationTarget(year,prediction_period,metric,perc_power,prefix)),\n",
    "    #split into X & y\n",
    "    ('X_y_split',FunctionTransformer(select_columns))\n",
    "    ])\n",
    "\n",
    "#Define a modelling pipeline\n",
    "model_pipeline = Pipeline([\n",
    "    ('scaler', MinMaxScaler()),   # data normalization step\n",
    "    ('model', LogisticRegression())   # linear regression model\n",
    "])"
   ]
  },
  {
   "cell_type": "code",
   "execution_count": 17,
   "metadata": {},
   "outputs": [],
   "source": [
    "#Conduct preprocessing using the first pipeline\n",
    "X_y_prep_baseline.fit(df_rem)\n",
    "X_rem,y_rem=X_y_prep_baseline.transform(df_rem)\n",
    "X_test,y_test=X_y_prep_baseline.transform(df_test)\n",
    "\n",
    "#Initial models not integrating work_desc\n",
    "#Drop Work Description Column\n",
    "X_rem=X_rem.drop(columns='WORK_DESCRIPTION')\n",
    "X_test=X_test.drop(columns='WORK_DESCRIPTION')\n",
    "\n",
    "#Fit the modelling pipeline on X_rem and y_rem\n",
    "model_pipeline.fit(X_rem,y_rem)\n",
    "all_features_model=model_pipeline"
   ]
  },
  {
   "attachments": {},
   "cell_type": "markdown",
   "metadata": {},
   "source": [
    "* Print accuracy for the baseline model with all the features"
   ]
  },
  {
   "cell_type": "code",
   "execution_count": 18,
   "metadata": {},
   "outputs": [
    {
     "name": "stdout",
     "output_type": "stream",
     "text": [
      "Baseline model train accuracy is 69.58%\n",
      "Baseline model test accuracy is 60.71%\n"
     ]
    }
   ],
   "source": [
    "train_accuracy = all_features_model.score(X_rem, y_rem)\n",
    "test_accuracy = all_features_model.score(X_test, y_test)\n",
    "\n",
    "print(f'Baseline model train accuracy is {train_accuracy*100:.2f}%')\n",
    "print(f'Baseline model test accuracy is {test_accuracy*100:.2f}%')"
   ]
  },
  {
   "cell_type": "code",
   "execution_count": 19,
   "metadata": {},
   "outputs": [
    {
     "data": {
      "text/html": [
       "<div>\n",
       "<style scoped>\n",
       "    .dataframe tbody tr th:only-of-type {\n",
       "        vertical-align: middle;\n",
       "    }\n",
       "\n",
       "    .dataframe tbody tr th {\n",
       "        vertical-align: top;\n",
       "    }\n",
       "\n",
       "    .dataframe thead th {\n",
       "        text-align: right;\n",
       "    }\n",
       "</style>\n",
       "<table border=\"1\" class=\"dataframe\">\n",
       "  <thead>\n",
       "    <tr style=\"text-align: right;\">\n",
       "      <th></th>\n",
       "      <th>feature</th>\n",
       "      <th>coefficients</th>\n",
       "    </tr>\n",
       "  </thead>\n",
       "  <tbody>\n",
       "    <tr>\n",
       "      <th>18</th>\n",
       "      <td>REVIEW_TYPE_EASY PERMIT</td>\n",
       "      <td>-1.116269</td>\n",
       "    </tr>\n",
       "    <tr>\n",
       "      <th>52</th>\n",
       "      <td>CONTACT_1_CITY_CHICAGO_SUBURBS</td>\n",
       "      <td>-0.993258</td>\n",
       "    </tr>\n",
       "    <tr>\n",
       "      <th>34</th>\n",
       "      <td>CONTACT_1_TYPE_CONTRACTOR-VENTILATION</td>\n",
       "      <td>-0.822602</td>\n",
       "    </tr>\n",
       "    <tr>\n",
       "      <th>57</th>\n",
       "      <td>CONTACT_1_CITY_OTHER</td>\n",
       "      <td>-0.784204</td>\n",
       "    </tr>\n",
       "    <tr>\n",
       "      <th>28</th>\n",
       "      <td>CONTACT_1_TYPE_CONTRACTOR-ELECTRICAL</td>\n",
       "      <td>-0.698151</td>\n",
       "    </tr>\n",
       "    <tr>\n",
       "      <th>10</th>\n",
       "      <td>PERMIT_TYPE_ELECTRIC WIRING</td>\n",
       "      <td>-0.696464</td>\n",
       "    </tr>\n",
       "    <tr>\n",
       "      <th>61</th>\n",
       "      <td>CONTACT_1_STATE_TX</td>\n",
       "      <td>-0.623375</td>\n",
       "    </tr>\n",
       "    <tr>\n",
       "      <th>48</th>\n",
       "      <td>CONTACT_1_TYPE_STRUCTURAL ENGINEER</td>\n",
       "      <td>-0.544035</td>\n",
       "    </tr>\n",
       "    <tr>\n",
       "      <th>54</th>\n",
       "      <td>CONTACT_1_CITY_MINOOKA</td>\n",
       "      <td>-0.513550</td>\n",
       "    </tr>\n",
       "    <tr>\n",
       "      <th>63</th>\n",
       "      <td>Class_Names_extension</td>\n",
       "      <td>-0.488556</td>\n",
       "    </tr>\n",
       "    <tr>\n",
       "      <th>14</th>\n",
       "      <td>PERMIT_TYPE_SCAFFOLDING</td>\n",
       "      <td>-0.472362</td>\n",
       "    </tr>\n",
       "    <tr>\n",
       "      <th>65</th>\n",
       "      <td>Class_Names_repair/porch</td>\n",
       "      <td>-0.452273</td>\n",
       "    </tr>\n",
       "    <tr>\n",
       "      <th>60</th>\n",
       "      <td>CONTACT_1_STATE_OTHER</td>\n",
       "      <td>-0.368671</td>\n",
       "    </tr>\n",
       "    <tr>\n",
       "      <th>49</th>\n",
       "      <td>CONTACT_1_TYPE_TENT CONTRACTOR</td>\n",
       "      <td>-0.299024</td>\n",
       "    </tr>\n",
       "    <tr>\n",
       "      <th>42</th>\n",
       "      <td>CONTACT_1_TYPE_OWNER AS ARCHITECT &amp; CONTRACTR</td>\n",
       "      <td>-0.220480</td>\n",
       "    </tr>\n",
       "  </tbody>\n",
       "</table>\n",
       "</div>"
      ],
      "text/plain": [
       "                                          feature  coefficients\n",
       "18                        REVIEW_TYPE_EASY PERMIT     -1.116269\n",
       "52                 CONTACT_1_CITY_CHICAGO_SUBURBS     -0.993258\n",
       "34          CONTACT_1_TYPE_CONTRACTOR-VENTILATION     -0.822602\n",
       "57                           CONTACT_1_CITY_OTHER     -0.784204\n",
       "28           CONTACT_1_TYPE_CONTRACTOR-ELECTRICAL     -0.698151\n",
       "10                    PERMIT_TYPE_ELECTRIC WIRING     -0.696464\n",
       "61                             CONTACT_1_STATE_TX     -0.623375\n",
       "48             CONTACT_1_TYPE_STRUCTURAL ENGINEER     -0.544035\n",
       "54                         CONTACT_1_CITY_MINOOKA     -0.513550\n",
       "63                          Class_Names_extension     -0.488556\n",
       "14                        PERMIT_TYPE_SCAFFOLDING     -0.472362\n",
       "65                       Class_Names_repair/porch     -0.452273\n",
       "60                          CONTACT_1_STATE_OTHER     -0.368671\n",
       "49                 CONTACT_1_TYPE_TENT CONTRACTOR     -0.299024\n",
       "42  CONTACT_1_TYPE_OWNER AS ARCHITECT & CONTRACTR     -0.220480"
      ]
     },
     "execution_count": 19,
     "metadata": {},
     "output_type": "execute_result"
    }
   ],
   "source": [
    "df_output=pipe_to_df(X_rem,all_features_model)\n",
    "df_output.sort_values('coefficients')[:15]"
   ]
  },
  {
   "cell_type": "code",
   "execution_count": 20,
   "metadata": {},
   "outputs": [
    {
     "data": {
      "text/html": [
       "<div>\n",
       "<style scoped>\n",
       "    .dataframe tbody tr th:only-of-type {\n",
       "        vertical-align: middle;\n",
       "    }\n",
       "\n",
       "    .dataframe tbody tr th {\n",
       "        vertical-align: top;\n",
       "    }\n",
       "\n",
       "    .dataframe thead th {\n",
       "        text-align: right;\n",
       "    }\n",
       "</style>\n",
       "<table border=\"1\" class=\"dataframe\">\n",
       "  <thead>\n",
       "    <tr style=\"text-align: right;\">\n",
       "      <th></th>\n",
       "      <th>feature</th>\n",
       "      <th>coefficients</th>\n",
       "    </tr>\n",
       "  </thead>\n",
       "  <tbody>\n",
       "    <tr>\n",
       "      <th>56</th>\n",
       "      <td>CONTACT_1_CITY_OAK BROOK</td>\n",
       "      <td>0.508623</td>\n",
       "    </tr>\n",
       "    <tr>\n",
       "      <th>4</th>\n",
       "      <td>LOG_SUBTOTAL_PAID</td>\n",
       "      <td>0.619126</td>\n",
       "    </tr>\n",
       "    <tr>\n",
       "      <th>51</th>\n",
       "      <td>CONTACT_1_CITY_CHICAGO</td>\n",
       "      <td>0.628051</td>\n",
       "    </tr>\n",
       "    <tr>\n",
       "      <th>11</th>\n",
       "      <td>PERMIT_TYPE_NEW CONSTRUCTION</td>\n",
       "      <td>0.629133</td>\n",
       "    </tr>\n",
       "    <tr>\n",
       "      <th>58</th>\n",
       "      <td>CONTACT_1_STATE_IL</td>\n",
       "      <td>0.657236</td>\n",
       "    </tr>\n",
       "    <tr>\n",
       "      <th>53</th>\n",
       "      <td>CONTACT_1_CITY_ELK GROVE VILLAGE</td>\n",
       "      <td>0.667125</td>\n",
       "    </tr>\n",
       "    <tr>\n",
       "      <th>19</th>\n",
       "      <td>REVIEW_TYPE_EASY PERMIT WEB</td>\n",
       "      <td>0.685081</td>\n",
       "    </tr>\n",
       "    <tr>\n",
       "      <th>7</th>\n",
       "      <td>Household_Count</td>\n",
       "      <td>0.731521</td>\n",
       "    </tr>\n",
       "    <tr>\n",
       "      <th>37</th>\n",
       "      <td>CONTACT_1_TYPE_EXPEDITOR</td>\n",
       "      <td>0.764216</td>\n",
       "    </tr>\n",
       "    <tr>\n",
       "      <th>66</th>\n",
       "      <td>Income</td>\n",
       "      <td>0.906239</td>\n",
       "    </tr>\n",
       "    <tr>\n",
       "      <th>2</th>\n",
       "      <td>LOG_ZONING_FEE_PAID</td>\n",
       "      <td>0.944653</td>\n",
       "    </tr>\n",
       "    <tr>\n",
       "      <th>12</th>\n",
       "      <td>PERMIT_TYPE_REINSTATE REVOKED PMT</td>\n",
       "      <td>0.946439</td>\n",
       "    </tr>\n",
       "    <tr>\n",
       "      <th>22</th>\n",
       "      <td>REVIEW_TYPE_SELF CERT</td>\n",
       "      <td>0.976406</td>\n",
       "    </tr>\n",
       "    <tr>\n",
       "      <th>47</th>\n",
       "      <td>CONTACT_1_TYPE_SIGN CONTRACTOR</td>\n",
       "      <td>0.995715</td>\n",
       "    </tr>\n",
       "    <tr>\n",
       "      <th>50</th>\n",
       "      <td>CONTACT_1_TYPE_UNKNOWN</td>\n",
       "      <td>1.066905</td>\n",
       "    </tr>\n",
       "  </tbody>\n",
       "</table>\n",
       "</div>"
      ],
      "text/plain": [
       "                              feature  coefficients\n",
       "56           CONTACT_1_CITY_OAK BROOK      0.508623\n",
       "4                   LOG_SUBTOTAL_PAID      0.619126\n",
       "51             CONTACT_1_CITY_CHICAGO      0.628051\n",
       "11       PERMIT_TYPE_NEW CONSTRUCTION      0.629133\n",
       "58                 CONTACT_1_STATE_IL      0.657236\n",
       "53   CONTACT_1_CITY_ELK GROVE VILLAGE      0.667125\n",
       "19        REVIEW_TYPE_EASY PERMIT WEB      0.685081\n",
       "7                     Household_Count      0.731521\n",
       "37           CONTACT_1_TYPE_EXPEDITOR      0.764216\n",
       "66                             Income      0.906239\n",
       "2                 LOG_ZONING_FEE_PAID      0.944653\n",
       "12  PERMIT_TYPE_REINSTATE REVOKED PMT      0.946439\n",
       "22              REVIEW_TYPE_SELF CERT      0.976406\n",
       "47     CONTACT_1_TYPE_SIGN CONTRACTOR      0.995715\n",
       "50             CONTACT_1_TYPE_UNKNOWN      1.066905"
      ]
     },
     "execution_count": 20,
     "metadata": {},
     "output_type": "execute_result"
    }
   ],
   "source": [
    "df_output=pipe_to_df(X_rem,all_features_model)\n",
    "df_output.sort_values('coefficients')[-15:]"
   ]
  },
  {
   "attachments": {},
   "cell_type": "markdown",
   "metadata": {},
   "source": [
    "* Initial accuracy scores might appear relatively high, but it should be noted that test scores are surprisingly slighly higher than the train scores\n",
    "* Additioanlly, should be noted that the class distribution is aroudn 50/50, which means that guessing gentrified every time would give a baseline accuracy of 50 %\n",
    "* This could happen because the model is underfitting or because the pattern capturing the link between income change and building permits happened to be in the test test due to the small size of the dataset\n",
    "* A grid search will be run later on in the notebook to further evaluate the model performance"
   ]
  },
  {
   "cell_type": "code",
   "execution_count": 21,
   "metadata": {},
   "outputs": [],
   "source": [
    "#Define a function to generate confusion matrix\n",
    "from sklearn.metrics import confusion_matrix, ConfusionMatrixDisplay\n",
    "\n",
    "def conf_matrix(model,X_test):\n",
    "    y_pred = model.predict(X_test)\n",
    "    cf_matrix = confusion_matrix(y_test, y_pred)\n",
    "\n",
    "    cf_df = pd.DataFrame(\n",
    "        cf_matrix, \n",
    "        columns=[\"Predicted No-Gentrification\", \"Predicted Gentrification\"],\n",
    "        index=[\"True No-Gentrification\", \"True Gentrification\"]\n",
    "    )\n",
    "\n",
    "    display(cf_df)\n",
    "\n",
    "    tp = cf_matrix[1, 1]\n",
    "    predicted_gentrification = cf_matrix[:, 1].sum()\n",
    "    precision = tp/predicted_gentrification\n",
    "    print(f\"Precision = {tp}/{predicted_gentrification} = {round(precision*100, 2)}%\")\n",
    "\n",
    "    true_gentrification = cf_matrix[1, :].sum()\n",
    "    recall = tp/true_gentrification\n",
    "    print(f\"Recall = {tp}/{true_gentrification} = {round(recall*100, 2)}%\")\n",
    "\n",
    "    # the function expects the estimator, inputs and target as parameters\n",
    "    ConfusionMatrixDisplay.from_estimator(model, X_test, y_test);"
   ]
  },
  {
   "attachments": {},
   "cell_type": "markdown",
   "metadata": {},
   "source": [
    "`Confusion Matrix for Model A`"
   ]
  },
  {
   "cell_type": "code",
   "execution_count": 22,
   "metadata": {},
   "outputs": [
    {
     "data": {
      "text/html": [
       "<div>\n",
       "<style scoped>\n",
       "    .dataframe tbody tr th:only-of-type {\n",
       "        vertical-align: middle;\n",
       "    }\n",
       "\n",
       "    .dataframe tbody tr th {\n",
       "        vertical-align: top;\n",
       "    }\n",
       "\n",
       "    .dataframe thead th {\n",
       "        text-align: right;\n",
       "    }\n",
       "</style>\n",
       "<table border=\"1\" class=\"dataframe\">\n",
       "  <thead>\n",
       "    <tr style=\"text-align: right;\">\n",
       "      <th></th>\n",
       "      <th>Predicted No-Gentrification</th>\n",
       "      <th>Predicted Gentrification</th>\n",
       "    </tr>\n",
       "  </thead>\n",
       "  <tbody>\n",
       "    <tr>\n",
       "      <th>True No-Gentrification</th>\n",
       "      <td>40</td>\n",
       "      <td>22</td>\n",
       "    </tr>\n",
       "    <tr>\n",
       "      <th>True Gentrification</th>\n",
       "      <td>33</td>\n",
       "      <td>45</td>\n",
       "    </tr>\n",
       "  </tbody>\n",
       "</table>\n",
       "</div>"
      ],
      "text/plain": [
       "                        Predicted No-Gentrification  Predicted Gentrification\n",
       "True No-Gentrification                           40                        22\n",
       "True Gentrification                              33                        45"
      ]
     },
     "metadata": {},
     "output_type": "display_data"
    },
    {
     "name": "stdout",
     "output_type": "stream",
     "text": [
      "Precision = 45/67 = 67.16%\n",
      "Recall = 45/78 = 57.69%\n"
     ]
    },
    {
     "data": {
      "image/png": "[encoded data removed]",
      "text/plain": [
       "<Figure size 640x480 with 2 Axes>"
      ]
     },
     "metadata": {},
     "output_type": "display_data"
    }
   ],
   "source": [
    "conf_matrix(all_features_model,X_test)"
   ]
  },
  {
   "attachments": {},
   "cell_type": "markdown",
   "metadata": {},
   "source": [
    "* Out of 75 gentrified geographies, model a picked up on 46, resulting in a recall score of 61%\n",
    "* Out of 63 labelled as gentrified, 46 were labelled correcly, leading to the precision score of 73%"
   ]
  },
  {
   "attachments": {},
   "cell_type": "markdown",
   "metadata": {},
   "source": [
    "---\n",
    "To form next modelling feature sets import outcome of statistic test and multicollinearity explorations"
   ]
  },
  {
   "cell_type": "code",
   "execution_count": 23,
   "metadata": {},
   "outputs": [],
   "source": [
    "#load the columns to be dropped based on not passing the statistical t-test\n",
    "columns_to_drop=joblib.load('../data/interim/MODEL_drop_feature_ttest.pkl')\n",
    "\n",
    "#load dictionary to merge some of the categories together'\n",
    "merging_categories_di=joblib.load('../data/interim/MODEL_change_cat.pkl')\n",
    "\n",
    "#multocollinearity\n",
    "multicol=joblib.load('../data/interim/MODEL_milticol.pkl')"
   ]
  },
  {
   "attachments": {},
   "cell_type": "markdown",
   "metadata": {},
   "source": [
    "**Model B**</br>\n",
    "`Drop columns that did not pass t-test in notebook 3`"
   ]
  },
  {
   "cell_type": "code",
   "execution_count": 24,
   "metadata": {},
   "outputs": [],
   "source": [
    "#apply the dictionary from notebook 3 to clean up some of the categories\n",
    "df_rem_temp=df_rem.replace(merging_categories_di)\n",
    "df_test_temp=df_test.replace(merging_categories_di)\n",
    "\n",
    "#using the same pipeline preprocess data for modelling\n",
    "X_y_prep_baseline.fit(df_rem_temp)\n",
    "X_rem,y_rem=X_y_prep_baseline.transform(df_rem_temp)\n",
    "X_test,y_test=X_y_prep_baseline.transform(df_test_temp)\n",
    "\n",
    "X_rem=X_rem.drop(columns='WORK_DESCRIPTION')\n",
    "X_test=X_test.drop(columns='WORK_DESCRIPTION')\n",
    "\n",
    "#drop columns that did not pass t-test from the list `columns_to_drop` impored in the cell above\n",
    "X_rem_ttest=X_rem.drop(columns=columns_to_drop)\n",
    "X_test_ttest=X_test.drop(columns=columns_to_drop)\n",
    "\n",
    "#fit a logistic model using the same modelling pipeline\n",
    "model_pipeline.fit(X_rem_ttest,y_rem)\n",
    "ttest_model=model_pipeline"
   ]
  },
  {
   "cell_type": "code",
   "execution_count": 25,
   "metadata": {},
   "outputs": [
    {
     "name": "stdout",
     "output_type": "stream",
     "text": [
      "Baseline model train accuracy is 67.66%\n",
      "Baseline model test accuracy is 60.00%\n"
     ]
    }
   ],
   "source": [
    "train_accuracy = ttest_model.score(X_rem_ttest, y_rem)\n",
    "test_accuracy = ttest_model.score(X_test_ttest, y_test)\n",
    "\n",
    "print(f'Baseline model train accuracy is {train_accuracy*100:.2f}%')\n",
    "print(f'Baseline model test accuracy is {test_accuracy*100:.2f}%')"
   ]
  },
  {
   "cell_type": "code",
   "execution_count": 26,
   "metadata": {},
   "outputs": [
    {
     "data": {
      "text/html": [
       "<div>\n",
       "<style scoped>\n",
       "    .dataframe tbody tr th:only-of-type {\n",
       "        vertical-align: middle;\n",
       "    }\n",
       "\n",
       "    .dataframe tbody tr th {\n",
       "        vertical-align: top;\n",
       "    }\n",
       "\n",
       "    .dataframe thead th {\n",
       "        text-align: right;\n",
       "    }\n",
       "</style>\n",
       "<table border=\"1\" class=\"dataframe\">\n",
       "  <thead>\n",
       "    <tr style=\"text-align: right;\">\n",
       "      <th></th>\n",
       "      <th>Predicted No-Gentrification</th>\n",
       "      <th>Predicted Gentrification</th>\n",
       "    </tr>\n",
       "  </thead>\n",
       "  <tbody>\n",
       "    <tr>\n",
       "      <th>True No-Gentrification</th>\n",
       "      <td>39</td>\n",
       "      <td>23</td>\n",
       "    </tr>\n",
       "    <tr>\n",
       "      <th>True Gentrification</th>\n",
       "      <td>33</td>\n",
       "      <td>45</td>\n",
       "    </tr>\n",
       "  </tbody>\n",
       "</table>\n",
       "</div>"
      ],
      "text/plain": [
       "                        Predicted No-Gentrification  Predicted Gentrification\n",
       "True No-Gentrification                           39                        23\n",
       "True Gentrification                              33                        45"
      ]
     },
     "metadata": {},
     "output_type": "display_data"
    },
    {
     "name": "stdout",
     "output_type": "stream",
     "text": [
      "Precision = 45/68 = 66.18%\n",
      "Recall = 45/78 = 57.69%\n"
     ]
    },
    {
     "data": {
      "image/png": "[encoded data removed]",
      "text/plain": [
       "<Figure size 640x480 with 2 Axes>"
      ]
     },
     "metadata": {},
     "output_type": "display_data"
    }
   ],
   "source": [
    "conf_matrix(ttest_model,X_test_ttest)"
   ]
  },
  {
   "attachments": {},
   "cell_type": "markdown",
   "metadata": {},
   "source": [
    "* After dropping features that proved to be not statistically significant using a t-test, accuracy reduced\n",
    "* However, now we observe a more expected patter of train set having higher accuracy scores than the test set\n",
    "* Recall score dropped to less than 50%"
   ]
  },
  {
   "attachments": {},
   "cell_type": "markdown",
   "metadata": {},
   "source": [
    "**Model C**</br>\n",
    "`Drop multicollinear columns defined in notebook 3"
   ]
  },
  {
   "cell_type": "code",
   "execution_count": 27,
   "metadata": {},
   "outputs": [],
   "source": [
    "#further drop columns that were multicollinear\n",
    "X_rem_ttest_multicol=X_rem_ttest.drop(columns=multicol)\n",
    "X_test_ttest_multicol=X_test_ttest.drop(columns=multicol)\n",
    "\n",
    "model_pipeline.fit(X_rem_ttest_multicol,y_rem)\n",
    "ttest_multicol_model=model_pipeline"
   ]
  },
  {
   "cell_type": "code",
   "execution_count": 28,
   "metadata": {},
   "outputs": [
    {
     "name": "stdout",
     "output_type": "stream",
     "text": [
      "Baseline model train accuracy is 66.78%\n",
      "Baseline model test accuracy is 60.71%\n"
     ]
    }
   ],
   "source": [
    "train_accuracy = ttest_multicol_model.score(X_rem_ttest_multicol, y_rem)\n",
    "test_accuracy = ttest_multicol_model.score(X_test_ttest_multicol, y_test)\n",
    "\n",
    "print(f'Baseline model train accuracy is {train_accuracy*100:.2f}%')\n",
    "print(f'Baseline model test accuracy is {test_accuracy*100:.2f}%')"
   ]
  },
  {
   "attachments": {},
   "cell_type": "markdown",
   "metadata": {},
   "source": [
    "* Dropping multicollinear columns appears to have marginally improved accuracy scores"
   ]
  },
  {
   "cell_type": "code",
   "execution_count": 29,
   "metadata": {},
   "outputs": [
    {
     "data": {
      "text/html": [
       "<div>\n",
       "<style scoped>\n",
       "    .dataframe tbody tr th:only-of-type {\n",
       "        vertical-align: middle;\n",
       "    }\n",
       "\n",
       "    .dataframe tbody tr th {\n",
       "        vertical-align: top;\n",
       "    }\n",
       "\n",
       "    .dataframe thead th {\n",
       "        text-align: right;\n",
       "    }\n",
       "</style>\n",
       "<table border=\"1\" class=\"dataframe\">\n",
       "  <thead>\n",
       "    <tr style=\"text-align: right;\">\n",
       "      <th></th>\n",
       "      <th>Predicted No-Gentrification</th>\n",
       "      <th>Predicted Gentrification</th>\n",
       "    </tr>\n",
       "  </thead>\n",
       "  <tbody>\n",
       "    <tr>\n",
       "      <th>True No-Gentrification</th>\n",
       "      <td>38</td>\n",
       "      <td>24</td>\n",
       "    </tr>\n",
       "    <tr>\n",
       "      <th>True Gentrification</th>\n",
       "      <td>31</td>\n",
       "      <td>47</td>\n",
       "    </tr>\n",
       "  </tbody>\n",
       "</table>\n",
       "</div>"
      ],
      "text/plain": [
       "                        Predicted No-Gentrification  Predicted Gentrification\n",
       "True No-Gentrification                           38                        24\n",
       "True Gentrification                              31                        47"
      ]
     },
     "metadata": {},
     "output_type": "display_data"
    },
    {
     "name": "stdout",
     "output_type": "stream",
     "text": [
      "Precision = 47/71 = 66.2%\n",
      "Recall = 47/78 = 60.26%\n"
     ]
    },
    {
     "data": {
      "image/png": "[encoded data removed]",
      "text/plain": [
       "<Figure size 640x480 with 2 Axes>"
      ]
     },
     "metadata": {},
     "output_type": "display_data"
    }
   ],
   "source": [
    "conf_matrix(ttest_multicol_model,X_test_ttest_multicol)"
   ]
  },
  {
   "attachments": {},
   "cell_type": "markdown",
   "metadata": {},
   "source": [
    "* Similarly, after dropping multicollinear columns, recall score has increased above 50%"
   ]
  },
  {
   "attachments": {},
   "cell_type": "markdown",
   "metadata": {},
   "source": [
    "* While model A resulted in the highest scores of 65%, using model A to evaluate coefficients might give mislleading results since it contains many multicollinear features\n",
    "* Hence, let's use model C, which had multicollinear features removed, to preview model coefficients"
   ]
  },
  {
   "cell_type": "code",
   "execution_count": 30,
   "metadata": {},
   "outputs": [],
   "source": [
    "logistic_model = ttest_multicol_model.named_steps['model']\n",
    "coefficients = logistic_model.coef_[0]"
   ]
  },
  {
   "cell_type": "code",
   "execution_count": 31,
   "metadata": {},
   "outputs": [
    {
     "data": {
      "text/html": [
       "<div>\n",
       "<style scoped>\n",
       "    .dataframe tbody tr th:only-of-type {\n",
       "        vertical-align: middle;\n",
       "    }\n",
       "\n",
       "    .dataframe tbody tr th {\n",
       "        vertical-align: top;\n",
       "    }\n",
       "\n",
       "    .dataframe thead th {\n",
       "        text-align: right;\n",
       "    }\n",
       "</style>\n",
       "<table border=\"1\" class=\"dataframe\">\n",
       "  <thead>\n",
       "    <tr style=\"text-align: right;\">\n",
       "      <th></th>\n",
       "      <th>features</th>\n",
       "      <th>coef</th>\n",
       "    </tr>\n",
       "  </thead>\n",
       "  <tbody>\n",
       "    <tr>\n",
       "      <th>18</th>\n",
       "      <td>Income</td>\n",
       "      <td>1.473156</td>\n",
       "    </tr>\n",
       "    <tr>\n",
       "      <th>3</th>\n",
       "      <td>PERMIT_TYPE_NEW CONSTRUCTION</td>\n",
       "      <td>1.096706</td>\n",
       "    </tr>\n",
       "    <tr>\n",
       "      <th>4</th>\n",
       "      <td>PERMIT_TYPE_REINSTATE REVOKED PMT</td>\n",
       "      <td>0.911713</td>\n",
       "    </tr>\n",
       "    <tr>\n",
       "      <th>1</th>\n",
       "      <td>Household_Count</td>\n",
       "      <td>0.786765</td>\n",
       "    </tr>\n",
       "    <tr>\n",
       "      <th>0</th>\n",
       "      <td>LOG_PROCESSING_TIME</td>\n",
       "      <td>0.739290</td>\n",
       "    </tr>\n",
       "    <tr>\n",
       "      <th>10</th>\n",
       "      <td>CONTACT_1_TYPE_EXPEDITOR</td>\n",
       "      <td>0.679152</td>\n",
       "    </tr>\n",
       "    <tr>\n",
       "      <th>6</th>\n",
       "      <td>REVIEW_TYPE_STANDARD PLAN REVIEW</td>\n",
       "      <td>0.560796</td>\n",
       "    </tr>\n",
       "    <tr>\n",
       "      <th>12</th>\n",
       "      <td>CONTACT_1_TYPE_MASONRY CONTRACTOR</td>\n",
       "      <td>0.321207</td>\n",
       "    </tr>\n",
       "    <tr>\n",
       "      <th>2</th>\n",
       "      <td>PERMIT_TYPE_EASY PERMIT PROCESS</td>\n",
       "      <td>0.305578</td>\n",
       "    </tr>\n",
       "    <tr>\n",
       "      <th>8</th>\n",
       "      <td>CONTACT_1_TYPE_CONTRACTOR-HEATING</td>\n",
       "      <td>0.207015</td>\n",
       "    </tr>\n",
       "    <tr>\n",
       "      <th>5</th>\n",
       "      <td>REVIEW_TYPE_DIRECT DEVELOPER SERVICES</td>\n",
       "      <td>0.000000</td>\n",
       "    </tr>\n",
       "    <tr>\n",
       "      <th>13</th>\n",
       "      <td>CONTACT_1_TYPE_OWNER OCCUPIED</td>\n",
       "      <td>-0.008775</td>\n",
       "    </tr>\n",
       "    <tr>\n",
       "      <th>9</th>\n",
       "      <td>CONTACT_1_TYPE_CONTRACTOR-PLUMBER/PLUMBING</td>\n",
       "      <td>-0.089543</td>\n",
       "    </tr>\n",
       "    <tr>\n",
       "      <th>14</th>\n",
       "      <td>CONTACT_1_TYPE_PLUMBING CONTRACTOR</td>\n",
       "      <td>-0.089979</td>\n",
       "    </tr>\n",
       "    <tr>\n",
       "      <th>11</th>\n",
       "      <td>CONTACT_1_TYPE_MASON - BRICK AND CONCRETE</td>\n",
       "      <td>-0.108381</td>\n",
       "    </tr>\n",
       "    <tr>\n",
       "      <th>7</th>\n",
       "      <td>CONTACT_1_TYPE_CONTRACTOR-GENERAL CONTRACTOR</td>\n",
       "      <td>-0.231819</td>\n",
       "    </tr>\n",
       "    <tr>\n",
       "      <th>16</th>\n",
       "      <td>CONTACT_1_CITY_MINOOKA</td>\n",
       "      <td>-0.473343</td>\n",
       "    </tr>\n",
       "    <tr>\n",
       "      <th>15</th>\n",
       "      <td>CONTACT_1_TYPE_TENT CONTRACTOR</td>\n",
       "      <td>-0.500252</td>\n",
       "    </tr>\n",
       "    <tr>\n",
       "      <th>17</th>\n",
       "      <td>CONTACT_1_STATE_TX</td>\n",
       "      <td>-1.659877</td>\n",
       "    </tr>\n",
       "  </tbody>\n",
       "</table>\n",
       "</div>"
      ],
      "text/plain": [
       "                                        features      coef\n",
       "18                                        Income  1.473156\n",
       "3                   PERMIT_TYPE_NEW CONSTRUCTION  1.096706\n",
       "4              PERMIT_TYPE_REINSTATE REVOKED PMT  0.911713\n",
       "1                                Household_Count  0.786765\n",
       "0                            LOG_PROCESSING_TIME  0.739290\n",
       "10                      CONTACT_1_TYPE_EXPEDITOR  0.679152\n",
       "6               REVIEW_TYPE_STANDARD PLAN REVIEW  0.560796\n",
       "12             CONTACT_1_TYPE_MASONRY CONTRACTOR  0.321207\n",
       "2                PERMIT_TYPE_EASY PERMIT PROCESS  0.305578\n",
       "8              CONTACT_1_TYPE_CONTRACTOR-HEATING  0.207015\n",
       "5          REVIEW_TYPE_DIRECT DEVELOPER SERVICES  0.000000\n",
       "13                 CONTACT_1_TYPE_OWNER OCCUPIED -0.008775\n",
       "9     CONTACT_1_TYPE_CONTRACTOR-PLUMBER/PLUMBING -0.089543\n",
       "14            CONTACT_1_TYPE_PLUMBING CONTRACTOR -0.089979\n",
       "11     CONTACT_1_TYPE_MASON - BRICK AND CONCRETE -0.108381\n",
       "7   CONTACT_1_TYPE_CONTRACTOR-GENERAL CONTRACTOR -0.231819\n",
       "16                        CONTACT_1_CITY_MINOOKA -0.473343\n",
       "15                CONTACT_1_TYPE_TENT CONTRACTOR -0.500252\n",
       "17                            CONTACT_1_STATE_TX -1.659877"
      ]
     },
     "execution_count": 31,
     "metadata": {},
     "output_type": "execute_result"
    }
   ],
   "source": [
    "results=pd.DataFrame({'features':X_rem_ttest_multicol.columns, 'coef':coefficients})\n",
    "results.sort_values('coef',ascending=False)"
   ]
  },
  {
   "cell_type": "code",
   "execution_count": 32,
   "metadata": {},
   "outputs": [
    {
     "data": {
      "image/png": "[encoded data removed]",
      "text/plain": [
       "<Figure size 1000x1000 with 1 Axes>"
      ]
     },
     "metadata": {},
     "output_type": "display_data"
    }
   ],
   "source": [
    "# sort the dataframe by coefficients\n",
    "results_sorted = results.sort_values('coef', ascending=False)\n",
    "\n",
    "# create a horizontal bar plot\n",
    "fig=plt.subplots(figsize = (10, 10))\n",
    "\n",
    "plt.barh(results_sorted['features'], results_sorted['coef'])\n",
    "\n",
    "# set the title and labels\n",
    "plt.title('Logistic Regression Coefficients')\n",
    "plt.xlabel('Coefficients')\n",
    "plt.ylabel('Features')\n",
    "\n",
    "# show the plot\n",
    "plt.show()\n"
   ]
  },
  {
   "attachments": {},
   "cell_type": "markdown",
   "metadata": {},
   "source": [
    "**Positive Indicators**\n",
    "* New Construction Permit Types are an expected indicator of gentrification\n",
    "* Masonry Contractor as the primary project contact is a more surprising indicator of gentrification\n",
    "  * this might suggest higher-quality or more expensive construction\n",
    "* Architect being responsible for a project result in a slightly increased likelihood of gentrification\n",
    "</br></br>\n",
    "\n",
    "**Negative Indicators**\n",
    "* Primary Contact responsible for the project being a plumbing contractor or a heating contractor makes a district less likely to gentrify in the near future\n",
    "  * implies that the project may be related to maintenance or repair work, which is less likely to indicate gentrification\n",
    "* Interestingly, the model indicates that higher numbers of renovations point towards unlikely gentrification\n",
    "  * This appears counter-intuitive and suggests that the model might be finding other patterns shared between the census tracts apart from gentrification\n",
    "  * Nevertheless, it should be recalled that when conducting topic modelling on the Renovation Descriptions, a lot of them referred to maintenance work\n",
    "* 'Income' at the year of the prediction also appears to be a negative indicator of gentrification. This signifies that the metric developed for classifying census tracts into gentrified and not gentrified is skewed towards lower-income areas"
   ]
  },
  {
   "attachments": {},
   "cell_type": "markdown",
   "metadata": {},
   "source": [
    "***"
   ]
  },
  {
   "attachments": {},
   "cell_type": "markdown",
   "metadata": {},
   "source": [
    "* Let's go back to model A and preview model residuals"
   ]
  },
  {
   "cell_type": "code",
   "execution_count": 33,
   "metadata": {},
   "outputs": [
    {
     "name": "stdout",
     "output_type": "stream",
     "text": [
      "Baseline model train accuracy is 71.03%\n",
      "Baseline model test accuracy is 63.64%\n"
     ]
    }
   ],
   "source": [
    "year=2013\n",
    "train_period=5\n",
    "prediction_period=8\n",
    "metric='power'\n",
    "perc_power=4\n",
    "\n",
    "X_y_prep_baseline = Pipeline(\n",
    "    [\n",
    "    #one hot encoding\n",
    "    ('ohe', CustomOneHotEncoder_CT()),\n",
    "    #grouping based on the year we are making the prediction from and the training length\n",
    "    ('group',FunctionTransformer(df_window_multi_type, kw_args={'year': year, 't': train_period})),\n",
    "    #convert income change into y_target based on the year we are making the prediction from and the prediction length and drop the remaining of Income columns\n",
    "    ('target',GentrificationTarget(year,prediction_period,metric,perc_power)),\n",
    "    #split into X & y\n",
    "    ('X_y_split',FunctionTransformer(select_columns))\n",
    "    ])\n",
    "\n",
    "model_pipeline = Pipeline([\n",
    "    ('scaler', MinMaxScaler()),   # data normalization step\n",
    "    ('regressor', LogisticRegression())   # linear regression model\n",
    "])\n",
    "\n",
    "X_y_prep_baseline.fit(df_rem)\n",
    "X_rem,y_rem=X_y_prep_baseline.transform(df_rem)\n",
    "X_test,y_test=X_y_prep_baseline.transform(df_test)\n",
    "\n",
    "#Initial models not integrating work_desc\n",
    "X_rem=X_rem.drop(columns='WORK_DESCRIPTION')\n",
    "X_test=X_test.drop(columns='WORK_DESCRIPTION')\n",
    "\n",
    "model_pipeline.fit(X_rem,y_rem)\n",
    "all_features_model=model_pipeline\n",
    "\n",
    "train_accuracy = all_features_model.score(X_rem, y_rem)\n",
    "test_accuracy = all_features_model.score(X_test, y_test)\n",
    "\n",
    "print(f'Baseline model train accuracy is {train_accuracy*100:.2f}%')\n",
    "print(f'Baseline model test accuracy is {test_accuracy*100:.2f}%')"
   ]
  },
  {
   "cell_type": "markdown",
   "metadata": {},
   "source": [
    "* Model Residuals"
   ]
  },
  {
   "cell_type": "code",
   "execution_count": 34,
   "metadata": {},
   "outputs": [],
   "source": [
    "y_pred=all_features_model.predict(X_test)\n",
    "\n",
    "residuals_df=pd.DataFrame()\n",
    "\n",
    "#tp if y_pred is 1 and y_test is 1\n",
    "#fp if y_pred is 0 but y_test is 1\n",
    "#tn if y_pred is 0 and y_test is 0\n",
    "#fn if y_pred is 1 but y_test is 0\n",
    "\n",
    "for i in range(len(y_test)):\n",
    "    if list(y_test)[i] == 1 and y_pred[i] == 1:\n",
    "        # True positive\n",
    "        residuals_df.loc[i, 'outcome'] = 'true_positive'\n",
    "    elif list(y_test)[i] == 0 and y_pred[i] == 1:\n",
    "        # False positive\n",
    "        residuals_df.loc[i, 'outcome'] = 'false_positive'\n",
    "    elif list(y_test)[i] == 0 and y_pred[i] == 0:\n",
    "        # True negative\n",
    "        residuals_df.loc[i, 'outcome'] = 'true_negative'\n",
    "    elif list(y_test)[i] == 1 and y_pred[i] == 0:\n",
    "        # False negative\n",
    "        residuals_df.loc[i, 'outcome'] = 'false_negative'\n",
    "\n",
    "residuals_df=residuals_df.fillna(0)\n",
    "\n",
    "#add census tracts\n",
    "residuals_df['Census_Tract']=y_test.index"
   ]
  },
  {
   "cell_type": "code",
   "execution_count": 35,
   "metadata": {},
   "outputs": [],
   "source": [
    "#Load a dataframe with all the census tracts and their respective coordiantes from the current Permit Dataframe\n",
    "ct_coord=joblib.load('../data/interim/ct_coord.pkl').reset_index(drop=True)\n",
    "ct_coord=ct_coord.groupby('CENSUS_TRACT').mean().reset_index()\n",
    "\n",
    "#add coordinates\n",
    "residuals_coord_df=coord(residuals_df,ct_coord)\n",
    "\n",
    "#add 2021 income\n",
    "income_2021=df.groupby('Census_Tract')['Mean_Income_2021'].mean().reset_index()\n",
    "\n",
    "residuals_coord_df=residuals_coord_df.merge(income_2021, on='Census_Tract')"
   ]
  },
  {
   "attachments": {},
   "cell_type": "markdown",
   "metadata": {},
   "source": [
    "* Preview correctly and incorrectly classfied geographies on a map to check for geographic or income biases"
   ]
  },
  {
   "cell_type": "code",
   "execution_count": 36,
   "metadata": {},
   "outputs": [
    {
     "data": {
      "application/vnd.plotly.v1+json": {
       "config": {
        "plotlyServerURL": "https://plot.ly"
       },
       "data": [
        {
         "hovertemplate": "outcome=false_positive<br>Mean_Income_2021=%{marker.size}<br>LATITUDE=%{lat}<br>LONGITUDE=%{lon}<extra></extra>",
         "lat": [
          42.01634394081635,
          42.00938171370118,
          42.00447474406051,
          41.986611202050746,
          41.99327923872098,
          41.988380907408754,
          41.98274240271569,
          41.97282710268252,
          41.94898370103737,
          41.94228638855097,
          41.9287141538822,
          41.890802622942715,
          41.984117967014946,
          41.95563839057754,
          41.942127643992066,
          41.93495566082108,
          41.9275723268359,
          41.929898000581964,
          41.90651475060084,
          41.84751443848388,
          41.84472109763636,
          41.82606129425797,
          41.77467656161006,
          41.8415407463544,
          41.85262996872194
         ],
         "legendgroup": "false_positive",
         "lon": [
          -87.67962447775588,
          -87.66400642496745,
          -87.66303688751596,
          -87.6939859844776,
          -87.69431326849808,
          -87.65649095193065,
          -87.65813585671569,
          -87.65219193112944,
          -87.65212535793772,
          -87.65174207434623,
          -87.6395697314763,
          -87.6318340248053,
          -87.73169468365283,
          -87.7032074224492,
          -87.73028200265972,
          -87.76155268858807,
          -87.7717462972188,
          -87.7611784007295,
          -87.73173375139075,
          -87.71244132773333,
          -87.72765674680352,
          -87.69095703498115,
          -87.74042997299685,
          -87.70727063410835,
          -87.70461392430867
         ],
         "marker": {
          "color": "blue",
          "size": [
           57490,
           58023,
           55701.33,
           75833,
           72233.67,
           60682.67,
           59726.33,
           66460.67,
           129571.33000000002,
           132540,
           128717.33,
           153677,
           110041.33,
           91293.67,
           66251.67,
           71716.67,
           67453.33,
           64491.33,
           60440,
           49901.67,
           49456,
           55253.67,
           71128.83,
           51543.33,
           35084.67
          ],
          "sizemode": "area",
          "sizeref": 660.1025
         },
         "mode": "markers",
         "name": "false_positive",
         "showlegend": true,
         "subplot": "mapbox",
         "type": "scattermapbox"
        },
        {
         "hovertemplate": "outcome=true_positive<br>Mean_Income_2021=%{marker.size}<br>LATITUDE=%{lat}<br>LONGITUDE=%{lon}<extra></extra>",
         "lat": [
          42.005778305933255,
          41.96712255163672,
          41.97196248472063,
          41.96719976645355,
          41.96366063453417,
          41.957356818297136,
          41.95783208634521,
          41.94461931506747,
          41.941068315921,
          41.957481417272724,
          41.94901593587663,
          41.94129950790709,
          41.93846384887544,
          41.92949495784616,
          41.91390026633577,
          41.90185191018897,
          42.00519667265223,
          41.99482429765062,
          41.97015641821361,
          41.959513031271115,
          41.94255041552537,
          41.95754849698969,
          41.9418240998447,
          41.93450425851601,
          41.927449560231864,
          41.91939342352717,
          41.93437697302813,
          41.935289835408845,
          41.91206425831818,
          41.907062282920236,
          41.90769952147077,
          41.899541043408824,
          41.90056653344719,
          41.89295738347667,
          null,
          41.79530036659911,
          41.79042195984164,
          41.967785427833334,
          41.915128349451415,
          41.9252162310087,
          41.94642454825803,
          41.91900467045333,
          41.92222048806371,
          41.79773426118053,
          41.871508111291995,
          41.88130890576672,
          41.827414219821556,
          41.83140463004383,
          41.847030666669895,
          41.8148381955846,
          41.94447770820456
         ],
         "legendgroup": "true_positive",
         "lon": [
          -87.66746171240514,
          -87.67072757754102,
          -87.68507884495929,
          -87.68487571733789,
          -87.68397101302091,
          -87.6765704161969,
          -87.69109651816369,
          -87.6759809740771,
          -87.68068406947037,
          -87.66652912554403,
          -87.66175306672568,
          -87.66151591666384,
          -87.64106610656721,
          -87.66077686250813,
          -87.63514870967492,
          -87.62430657361509,
          -87.81289482373057,
          -87.7952602517636,
          -87.76026649207753,
          -87.75227148542011,
          -87.75481793678622,
          -87.73059849004983,
          -87.78120881580115,
          -87.78114321071939,
          -87.75138348076425,
          -87.73095167169016,
          -87.71318415467263,
          -87.69365208818662,
          -87.70433394948637,
          -87.6894174817318,
          -87.68390235426612,
          -87.67950812861662,
          -87.69438232478807,
          -87.652084910176,
          null,
          -87.79107030888927,
          -87.69931296317156,
          -87.7870889655,
          -87.67681539776802,
          -87.7982262430348,
          -87.65439871156049,
          -87.67232796206105,
          -87.66296500027052,
          -87.74631688799059,
          -87.63104057128479,
          -87.63316127736435,
          -87.64581514842128,
          -87.63875730102436,
          -87.68317918390072,
          -87.65084493538602,
          -87.68924825705969
         ],
         "marker": {
          "color": "orange",
          "size": [
           80976.33,
           116593.67,
           156200.33,
           138099.33,
           114518,
           167466.67,
           166034.67,
           186258,
           185192.33,
           177773.67,
           210514.66999999998,
           264041,
           118598.33000000002,
           241557,
           139883.67,
           263723.67,
           139525.17,
           115034,
           81786,
           100104.33,
           88086.67,
           86037.33,
           91671.67,
           86052,
           69809.33,
           79452.67,
           105862,
           108080.67000000001,
           102919.67,
           100605.33,
           139495.33,
           134821.33,
           94177,
           173026.33,
           156772.56,
           110762.33,
           64453,
           77814.33,
           207910.33,
           78777.33,
           155119,
           159287.67,
           215922.33,
           80548,
           125850,
           212839.83,
           93954.67,
           71177.17,
           78523,
           94047.33,
           202775.33
          ],
          "sizemode": "area",
          "sizeref": 660.1025
         },
         "mode": "markers",
         "name": "true_positive",
         "showlegend": true,
         "subplot": "mapbox",
         "type": "scattermapbox"
        },
        {
         "hovertemplate": "outcome=true_negative<br>Mean_Income_2021=%{marker.size}<br>LATITUDE=%{lat}<br>LONGITUDE=%{lon}<extra></extra>",
         "lat": [
          42.00934819529867,
          41.979800522,
          41.94126614790164,
          41.88359593938619,
          41.8780781179062,
          41.84081007113095,
          41.83602284256496,
          41.8195203912597,
          41.77664730056626,
          41.77114778992358,
          41.76431802162771,
          41.76037379856885,
          41.75815283036258,
          41.74467754607261,
          41.74161197460344,
          41.73551720576136,
          41.729738988235454,
          41.716327876058735,
          41.693748993986915,
          41.805549099224194,
          41.79744196864896,
          41.78113096249735,
          41.76620690100421,
          41.776504685906595,
          41.77200655168444,
          41.76901891391705,
          41.76193734109528,
          41.754786569121656,
          41.752382644619516,
          41.74453122696183,
          41.74593300886963,
          41.748158369896636,
          41.74000085437702,
          41.72521202136235,
          41.714148575208945,
          41.6958095994876,
          41.68906632428883,
          41.78972535233803,
          41.67776156014429,
          41.80211282057912
         ],
         "legendgroup": "true_negative",
         "lon": [
          -87.67286072642479,
          -87.6935447176923,
          -87.82198570201405,
          -87.74898526833077,
          -87.72336793929094,
          -87.72949353145636,
          -87.63352089367976,
          -87.61047218865373,
          -87.61113992938593,
          -87.6095432792489,
          -87.58078303343723,
          -87.57142289877201,
          -87.55593501446421,
          -87.62005226335569,
          -87.58045385734236,
          -87.57747282210984,
          -87.58765599550138,
          -87.54944843434338,
          -87.53069634258377,
          -87.66257734990036,
          -87.6719647297067,
          -87.7889975554354,
          -87.71774474486536,
          -87.66651176492033,
          -87.670571415272,
          -87.62004779362722,
          -87.61070122042275,
          -87.62014710160695,
          -87.72448478572842,
          -87.71170573976082,
          -87.69051455545423,
          -87.64883007154972,
          -87.64829154266756,
          -87.63897442851416,
          -87.6385796850104,
          -87.65159879752892,
          -87.65165333932889,
          -87.68745650645455,
          -87.56536198856482,
          -87.64337648996202
         ],
         "marker": {
          "color": "green",
          "size": [
           59385.33,
           69867,
           76283.33,
           35867.67,
           45454.5,
           50276,
           50806.33,
           52792.33,
           32899.33,
           40674.83000000001,
           38102,
           62539.33,
           44822.67,
           70674.33,
           60747.33,
           67303.33,
           65068,
           50179.67,
           89561.33,
           33595.67,
           37730.17,
           83575.67,
           64806,
           37991.67,
           40311.5,
           41558.67,
           48800,
           61670,
           79708.33,
           79646.33,
           73245.67,
           36053.33,
           56388.67,
           63730,
           68545,
           67511.33,
           62107.33,
           56189.33,
           49072.33,
           55294.33
          ],
          "sizemode": "area",
          "sizeref": 660.1025
         },
         "mode": "markers",
         "name": "true_negative",
         "showlegend": true,
         "subplot": "mapbox",
         "type": "scattermapbox"
        },
        {
         "hovertemplate": "outcome=false_negative<br>Mean_Income_2021=%{marker.size}<br>LATITUDE=%{lat}<br>LONGITUDE=%{lon}<extra></extra>",
         "lat": [
          41.98064383771111,
          41.97606950707334,
          41.943013114921825,
          41.90658504984995,
          41.90075848037112,
          42.01500788608871,
          41.94938595505152,
          41.92083978529086,
          41.93764126251663,
          41.891276792909395,
          41.883725240242505,
          41.863679670131475,
          41.870932916369036,
          41.84170635413636,
          41.842053759003676,
          41.80630834852716,
          41.801285021775726,
          41.79818285797384,
          41.783098051716756,
          41.764527397061876,
          41.81254839862297,
          41.74488623898165,
          41.68516839012869,
          41.731899407397506,
          41.787601665907395,
          41.833185242681516,
          41.864414363244705
         ],
         "legendgroup": "false_negative",
         "lon": [
          -87.65495743013332,
          -87.70083484869767,
          -87.64084914437296,
          -87.6303908799131,
          -87.62902538432999,
          -87.81336081653687,
          -87.78105696013485,
          -87.75942961672355,
          -87.71175398437029,
          -87.75182554852685,
          -87.728406835055,
          -87.65404935729481,
          -87.62498199010106,
          -87.61604968368687,
          -87.62783025326472,
          -87.6040285467324,
          -87.58758587885224,
          -87.60395098543863,
          -87.61325082614495,
          -87.57159342151697,
          -87.70930370073918,
          -87.73229991672477,
          -87.68487504491007,
          -87.55036599917112,
          -87.63491886894033,
          -87.61969697586633,
          -87.6734562150935
         ],
         "marker": {
          "color": "red",
          "size": [
           91988.33,
           104833.67,
           116162.33,
           178671,
           123267,
           130481.67,
           95232,
           58701,
           109065.67,
           52443.17,
           40498.33,
           96223,
           128585.67000000001,
           67532,
           27437.33,
           59946,
           75675.33,
           88576,
           40718.33,
           79155.67,
           67763.33,
           82587.33,
           123106,
           54396.33,
           48755,
           101717.67,
           51100
          ],
          "sizemode": "area",
          "sizeref": 660.1025
         },
         "mode": "markers",
         "name": "false_negative",
         "showlegend": true,
         "subplot": "mapbox",
         "type": "scattermapbox"
        }
       ],
       "layout": {
        "height": 1000,
        "legend": {
         "itemsizing": "constant",
         "title": {
          "text": "outcome"
         },
         "tracegroupgap": 0
        },
        "mapbox": {
         "center": {
          "lat": 41.870473219967465,
          "lon": -87.67711444920216
         },
         "domain": {
          "x": [
           0,
           1
          ],
          "y": [
           0,
           1
          ]
         },
         "style": "carto-positron",
         "zoom": 10
        },
        "margin": {
         "t": 60
        },
        "template": {
         "data": {
          "bar": [
           {
            "error_x": {
             "color": "#2a3f5f"
            },
            "error_y": {
             "color": "#2a3f5f"
            },
            "marker": {
             "line": {
              "color": "#E5ECF6",
              "width": 0.5
             },
             "pattern": {
              "fillmode": "overlay",
              "size": 10,
              "solidity": 0.2
             }
            },
            "type": "bar"
           }
          ],
          "barpolar": [
           {
            "marker": {
             "line": {
              "color": "#E5ECF6",
              "width": 0.5
             },
             "pattern": {
              "fillmode": "overlay",
              "size": 10,
              "solidity": 0.2
             }
            },
            "type": "barpolar"
           }
          ],
          "carpet": [
           {
            "aaxis": {
             "endlinecolor": "#2a3f5f",
             "gridcolor": "white",
             "linecolor": "white",
             "minorgridcolor": "white",
             "startlinecolor": "#2a3f5f"
            },
            "baxis": {
             "endlinecolor": "#2a3f5f",
             "gridcolor": "white",
             "linecolor": "white",
             "minorgridcolor": "white",
             "startlinecolor": "#2a3f5f"
            },
            "type": "carpet"
           }
          ],
          "choropleth": [
           {
            "colorbar": {
             "outlinewidth": 0,
             "ticks": ""
            },
            "type": "choropleth"
           }
          ],
          "contour": [
           {
            "colorbar": {
             "outlinewidth": 0,
             "ticks": ""
            },
            "colorscale": [
             [
              0,
              "#0d0887"
             ],
             [
              0.1111111111111111,
              "#46039f"
             ],
             [
              0.2222222222222222,
              "#7201a8"
             ],
             [
              0.3333333333333333,
              "#9c179e"
             ],
             [
              0.4444444444444444,
              "#bd3786"
             ],
             [
              0.5555555555555556,
              "#d8576b"
             ],
             [
              0.6666666666666666,
              "#ed7953"
             ],
             [
              0.7777777777777778,
              "#fb9f3a"
             ],
             [
              0.8888888888888888,
              "#fdca26"
             ],
             [
              1,
              "#f0f921"
             ]
            ],
            "type": "contour"
           }
          ],
          "contourcarpet": [
           {
            "colorbar": {
             "outlinewidth": 0,
             "ticks": ""
            },
            "type": "contourcarpet"
           }
          ],
          "heatmap": [
           {
            "colorbar": {
             "outlinewidth": 0,
             "ticks": ""
            },
            "colorscale": [
             [
              0,
              "#0d0887"
             ],
             [
              0.1111111111111111,
              "#46039f"
             ],
             [
              0.2222222222222222,
              "#7201a8"
             ],
             [
              0.3333333333333333,
              "#9c179e"
             ],
             [
              0.4444444444444444,
              "#bd3786"
             ],
             [
              0.5555555555555556,
              "#d8576b"
             ],
             [
              0.6666666666666666,
              "#ed7953"
             ],
             [
              0.7777777777777778,
              "#fb9f3a"
             ],
             [
              0.8888888888888888,
              "#fdca26"
             ],
             [
              1,
              "#f0f921"
             ]
            ],
            "type": "heatmap"
           }
          ],
          "heatmapgl": [
           {
            "colorbar": {
             "outlinewidth": 0,
             "ticks": ""
            },
            "colorscale": [
             [
              0,
              "#0d0887"
             ],
             [
              0.1111111111111111,
              "#46039f"
             ],
             [
              0.2222222222222222,
              "#7201a8"
             ],
             [
              0.3333333333333333,
              "#9c179e"
             ],
             [
              0.4444444444444444,
              "#bd3786"
             ],
             [
              0.5555555555555556,
              "#d8576b"
             ],
             [
              0.6666666666666666,
              "#ed7953"
             ],
             [
              0.7777777777777778,
              "#fb9f3a"
             ],
             [
              0.8888888888888888,
              "#fdca26"
             ],
             [
              1,
              "#f0f921"
             ]
            ],
            "type": "heatmapgl"
           }
          ],
          "histogram": [
           {
            "marker": {
             "pattern": {
              "fillmode": "overlay",
              "size": 10,
              "solidity": 0.2
             }
            },
            "type": "histogram"
           }
          ],
          "histogram2d": [
           {
            "colorbar": {
             "outlinewidth": 0,
             "ticks": ""
            },
            "colorscale": [
             [
              0,
              "#0d0887"
             ],
             [
              0.1111111111111111,
              "#46039f"
             ],
             [
              0.2222222222222222,
              "#7201a8"
             ],
             [
              0.3333333333333333,
              "#9c179e"
             ],
             [
              0.4444444444444444,
              "#bd3786"
             ],
             [
              0.5555555555555556,
              "#d8576b"
             ],
             [
              0.6666666666666666,
              "#ed7953"
             ],
             [
              0.7777777777777778,
              "#fb9f3a"
             ],
             [
              0.8888888888888888,
              "#fdca26"
             ],
             [
              1,
              "#f0f921"
             ]
            ],
            "type": "histogram2d"
           }
          ],
          "histogram2dcontour": [
           {
            "colorbar": {
             "outlinewidth": 0,
             "ticks": ""
            },
            "colorscale": [
             [
              0,
              "#0d0887"
             ],
             [
              0.1111111111111111,
              "#46039f"
             ],
             [
              0.2222222222222222,
              "#7201a8"
             ],
             [
              0.3333333333333333,
              "#9c179e"
             ],
             [
              0.4444444444444444,
              "#bd3786"
             ],
             [
              0.5555555555555556,
              "#d8576b"
             ],
             [
              0.6666666666666666,
              "#ed7953"
             ],
             [
              0.7777777777777778,
              "#fb9f3a"
             ],
             [
              0.8888888888888888,
              "#fdca26"
             ],
             [
              1,
              "#f0f921"
             ]
            ],
            "type": "histogram2dcontour"
           }
          ],
          "mesh3d": [
           {
            "colorbar": {
             "outlinewidth": 0,
             "ticks": ""
            },
            "type": "mesh3d"
           }
          ],
          "parcoords": [
           {
            "line": {
             "colorbar": {
              "outlinewidth": 0,
              "ticks": ""
             }
            },
            "type": "parcoords"
           }
          ],
          "pie": [
           {
            "automargin": true,
            "type": "pie"
           }
          ],
          "scatter": [
           {
            "fillpattern": {
             "fillmode": "overlay",
             "size": 10,
             "solidity": 0.2
            },
            "type": "scatter"
           }
          ],
          "scatter3d": [
           {
            "line": {
             "colorbar": {
              "outlinewidth": 0,
              "ticks": ""
             }
            },
            "marker": {
             "colorbar": {
              "outlinewidth": 0,
              "ticks": ""
             }
            },
            "type": "scatter3d"
           }
          ],
          "scattercarpet": [
           {
            "marker": {
             "colorbar": {
              "outlinewidth": 0,
              "ticks": ""
             }
            },
            "type": "scattercarpet"
           }
          ],
          "scattergeo": [
           {
            "marker": {
             "colorbar": {
              "outlinewidth": 0,
              "ticks": ""
             }
            },
            "type": "scattergeo"
           }
          ],
          "scattergl": [
           {
            "marker": {
             "colorbar": {
              "outlinewidth": 0,
              "ticks": ""
             }
            },
            "type": "scattergl"
           }
          ],
          "scattermapbox": [
           {
            "marker": {
             "colorbar": {
              "outlinewidth": 0,
              "ticks": ""
             }
            },
            "type": "scattermapbox"
           }
          ],
          "scatterpolar": [
           {
            "marker": {
             "colorbar": {
              "outlinewidth": 0,
              "ticks": ""
             }
            },
            "type": "scatterpolar"
           }
          ],
          "scatterpolargl": [
           {
            "marker": {
             "colorbar": {
              "outlinewidth": 0,
              "ticks": ""
             }
            },
            "type": "scatterpolargl"
           }
          ],
          "scatterternary": [
           {
            "marker": {
             "colorbar": {
              "outlinewidth": 0,
              "ticks": ""
             }
            },
            "type": "scatterternary"
           }
          ],
          "surface": [
           {
            "colorbar": {
             "outlinewidth": 0,
             "ticks": ""
            },
            "colorscale": [
             [
              0,
              "#0d0887"
             ],
             [
              0.1111111111111111,
              "#46039f"
             ],
             [
              0.2222222222222222,
              "#7201a8"
             ],
             [
              0.3333333333333333,
              "#9c179e"
             ],
             [
              0.4444444444444444,
              "#bd3786"
             ],
             [
              0.5555555555555556,
              "#d8576b"
             ],
             [
              0.6666666666666666,
              "#ed7953"
             ],
             [
              0.7777777777777778,
              "#fb9f3a"
             ],
             [
              0.8888888888888888,
              "#fdca26"
             ],
             [
              1,
              "#f0f921"
             ]
            ],
            "type": "surface"
           }
          ],
          "table": [
           {
            "cells": {
             "fill": {
              "color": "#EBF0F8"
             },
             "line": {
              "color": "white"
             }
            },
            "header": {
             "fill": {
              "color": "#C8D4E3"
             },
             "line": {
              "color": "white"
             }
            },
            "type": "table"
           }
          ]
         },
         "layout": {
          "annotationdefaults": {
           "arrowcolor": "#2a3f5f",
           "arrowhead": 0,
           "arrowwidth": 1
          },
          "autotypenumbers": "strict",
          "coloraxis": {
           "colorbar": {
            "outlinewidth": 0,
            "ticks": ""
           }
          },
          "colorscale": {
           "diverging": [
            [
             0,
             "#8e0152"
            ],
            [
             0.1,
             "#c51b7d"
            ],
            [
             0.2,
             "#de77ae"
            ],
            [
             0.3,
             "#f1b6da"
            ],
            [
             0.4,
             "#fde0ef"
            ],
            [
             0.5,
             "#f7f7f7"
            ],
            [
             0.6,
             "#e6f5d0"
            ],
            [
             0.7,
             "#b8e186"
            ],
            [
             0.8,
             "#7fbc41"
            ],
            [
             0.9,
             "#4d9221"
            ],
            [
             1,
             "#276419"
            ]
           ],
           "sequential": [
            [
             0,
             "#0d0887"
            ],
            [
             0.1111111111111111,
             "#46039f"
            ],
            [
             0.2222222222222222,
             "#7201a8"
            ],
            [
             0.3333333333333333,
             "#9c179e"
            ],
            [
             0.4444444444444444,
             "#bd3786"
            ],
            [
             0.5555555555555556,
             "#d8576b"
            ],
            [
             0.6666666666666666,
             "#ed7953"
            ],
            [
             0.7777777777777778,
             "#fb9f3a"
            ],
            [
             0.8888888888888888,
             "#fdca26"
            ],
            [
             1,
             "#f0f921"
            ]
           ],
           "sequentialminus": [
            [
             0,
             "#0d0887"
            ],
            [
             0.1111111111111111,
             "#46039f"
            ],
            [
             0.2222222222222222,
             "#7201a8"
            ],
            [
             0.3333333333333333,
             "#9c179e"
            ],
            [
             0.4444444444444444,
             "#bd3786"
            ],
            [
             0.5555555555555556,
             "#d8576b"
            ],
            [
             0.6666666666666666,
             "#ed7953"
            ],
            [
             0.7777777777777778,
             "#fb9f3a"
            ],
            [
             0.8888888888888888,
             "#fdca26"
            ],
            [
             1,
             "#f0f921"
            ]
           ]
          },
          "colorway": [
           "#636efa",
           "#EF553B",
           "#00cc96",
           "#ab63fa",
           "#FFA15A",
           "#19d3f3",
           "#FF6692",
           "#B6E880",
           "#FF97FF",
           "#FECB52"
          ],
          "font": {
           "color": "#2a3f5f"
          },
          "geo": {
           "bgcolor": "white",
           "lakecolor": "white",
           "landcolor": "#E5ECF6",
           "showlakes": true,
           "showland": true,
           "subunitcolor": "white"
          },
          "hoverlabel": {
           "align": "left"
          },
          "hovermode": "closest",
          "mapbox": {
           "style": "light"
          },
          "paper_bgcolor": "white",
          "plot_bgcolor": "#E5ECF6",
          "polar": {
           "angularaxis": {
            "gridcolor": "white",
            "linecolor": "white",
            "ticks": ""
           },
           "bgcolor": "#E5ECF6",
           "radialaxis": {
            "gridcolor": "white",
            "linecolor": "white",
            "ticks": ""
           }
          },
          "scene": {
           "xaxis": {
            "backgroundcolor": "#E5ECF6",
            "gridcolor": "white",
            "gridwidth": 2,
            "linecolor": "white",
            "showbackground": true,
            "ticks": "",
            "zerolinecolor": "white"
           },
           "yaxis": {
            "backgroundcolor": "#E5ECF6",
            "gridcolor": "white",
            "gridwidth": 2,
            "linecolor": "white",
            "showbackground": true,
            "ticks": "",
            "zerolinecolor": "white"
           },
           "zaxis": {
            "backgroundcolor": "#E5ECF6",
            "gridcolor": "white",
            "gridwidth": 2,
            "linecolor": "white",
            "showbackground": true,
            "ticks": "",
            "zerolinecolor": "white"
           }
          },
          "shapedefaults": {
           "line": {
            "color": "#2a3f5f"
           }
          },
          "ternary": {
           "aaxis": {
            "gridcolor": "white",
            "linecolor": "white",
            "ticks": ""
           },
           "baxis": {
            "gridcolor": "white",
            "linecolor": "white",
            "ticks": ""
           },
           "bgcolor": "#E5ECF6",
           "caxis": {
            "gridcolor": "white",
            "linecolor": "white",
            "ticks": ""
           }
          },
          "title": {
           "x": 0.05
          },
          "xaxis": {
           "automargin": true,
           "gridcolor": "white",
           "linecolor": "white",
           "ticks": "",
           "title": {
            "standoff": 15
           },
           "zerolinecolor": "white",
           "zerolinewidth": 2
          },
          "yaxis": {
           "automargin": true,
           "gridcolor": "white",
           "linecolor": "white",
           "ticks": "",
           "title": {
            "standoff": 15
           },
           "zerolinecolor": "white",
           "zerolinewidth": 2
          }
         }
        },
        "width": 1500
       }
      }
     },
     "metadata": {},
     "output_type": "display_data"
    }
   ],
   "source": [
    "import plotly.express as px\n",
    "\n",
    "outcome=residuals_coord_df['outcome']\n",
    "\n",
    "fig = px.scatter_mapbox(residuals_coord_df, lat=\"LATITUDE\", lon=\"LONGITUDE\", color='outcome', color_discrete_map={'true_negative': 'green', 'false_positive': 'blue', 'false_negative': 'red', 'true_positive':'orange'}, size='Mean_Income_2021',zoom=10, mapbox_style=\"carto-positron\")\n",
    "\n",
    "fig.update_layout(width=1500,height=1000)\n",
    "\n",
    "fig.show()"
   ]
  },
  {
   "attachments": {},
   "cell_type": "markdown",
   "metadata": {},
   "source": [
    "![Alt text](images/Plotly_2.png)"
   ]
  },
  {
   "attachments": {},
   "cell_type": "markdown",
   "metadata": {},
   "source": [
    "* The map displays model A predictions, with each shown in a different color. Note that the size of each marker is determined by the median income.\n",
    "* There appears to be no strong geographic bias in the model's predictions, even though predictions of gentrification appear to be more clustered around the central area than predictions of no gentrification.\n",
    "* This is surprising, given that model coefficients demonstrated that income had a negative coefficient. Hence, another feature must be inducing the geographic bias."
   ]
  },
  {
   "attachments": {},
   "cell_type": "markdown",
   "metadata": {},
   "source": [
    "---\n",
    "* Run this model with PCA to determine if 1 PC would be form a good model\n"
   ]
  },
  {
   "cell_type": "code",
   "execution_count": 37,
   "metadata": {},
   "outputs": [
    {
     "name": "stdout",
     "output_type": "stream",
     "text": [
      "Baseline model train accuracy is 57.77%\n",
      "Baseline model test accuracy is 55.94%\n"
     ]
    }
   ],
   "source": [
    "model_pipeline_pca = Pipeline([\n",
    "    ('scaler', MinMaxScaler()),\n",
    "    ('dim_reducer', PCA(n_components=1)),\n",
    "    ('regressor', LogisticRegression())   # linear regression model\n",
    "])\n",
    "\n",
    "model_pipeline_pca.fit(X_rem,y_rem)\n",
    "all_features_model=model_pipeline_pca\n",
    "\n",
    "train_accuracy = all_features_model.score(X_rem, y_rem)\n",
    "test_accuracy = all_features_model.score(X_test, y_test)\n",
    "\n",
    "print(f'Baseline model train accuracy is {train_accuracy*100:.2f}%')\n",
    "print(f'Baseline model test accuracy is {test_accuracy*100:.2f}%')"
   ]
  },
  {
   "attachments": {},
   "cell_type": "markdown",
   "metadata": {},
   "source": [
    "* Using 1 PC results in very low acucracy scores"
   ]
  },
  {
   "cell_type": "code",
   "execution_count": 38,
   "metadata": {},
   "outputs": [
    {
     "data": {
      "text/html": [
       "<div>\n",
       "<style scoped>\n",
       "    .dataframe tbody tr th:only-of-type {\n",
       "        vertical-align: middle;\n",
       "    }\n",
       "\n",
       "    .dataframe tbody tr th {\n",
       "        vertical-align: top;\n",
       "    }\n",
       "\n",
       "    .dataframe thead th {\n",
       "        text-align: right;\n",
       "    }\n",
       "</style>\n",
       "<table border=\"1\" class=\"dataframe\">\n",
       "  <thead>\n",
       "    <tr style=\"text-align: right;\">\n",
       "      <th></th>\n",
       "      <th>Predicted No-Gentrification</th>\n",
       "      <th>Predicted Gentrification</th>\n",
       "    </tr>\n",
       "  </thead>\n",
       "  <tbody>\n",
       "    <tr>\n",
       "      <th>True No-Gentrification</th>\n",
       "      <td>37</td>\n",
       "      <td>28</td>\n",
       "    </tr>\n",
       "    <tr>\n",
       "      <th>True Gentrification</th>\n",
       "      <td>35</td>\n",
       "      <td>43</td>\n",
       "    </tr>\n",
       "  </tbody>\n",
       "</table>\n",
       "</div>"
      ],
      "text/plain": [
       "                        Predicted No-Gentrification  Predicted Gentrification\n",
       "True No-Gentrification                           37                        28\n",
       "True Gentrification                              35                        43"
      ]
     },
     "metadata": {},
     "output_type": "display_data"
    },
    {
     "name": "stdout",
     "output_type": "stream",
     "text": [
      "Precision = 43/71 = 60.56%\n",
      "Recall = 43/78 = 55.13%\n"
     ]
    },
    {
     "data": {
      "image/png": "[encoded data removed]",
      "text/plain": [
       "<Figure size 640x480 with 2 Axes>"
      ]
     },
     "metadata": {},
     "output_type": "display_data"
    }
   ],
   "source": [
    "conf_matrix(model_pipeline_pca,X_test)"
   ]
  },
  {
   "attachments": {},
   "cell_type": "markdown",
   "metadata": {},
   "source": [
    "* Recall appears to be higher than for models B and C, nevertheless, the accuracy score of 53.5% suggests that 1 PC is not sufficient for a significant prediction"
   ]
  },
  {
   "attachments": {},
   "cell_type": "markdown",
   "metadata": {},
   "source": [
    "***\n",
    "### Gridsearch\n",
    "Conduct gridsearch analysis to establish the model accuracy could be improved"
   ]
  },
  {
   "cell_type": "code",
   "execution_count": 39,
   "metadata": {},
   "outputs": [],
   "source": [
    "c_values = [.00001, .0001, .001, .1, 1, 10, 100, 1000]\n",
    "\n",
    "logreg_param_grid = [\n",
    "    \n",
    "# l1\n",
    "    {'scaler': [StandardScaler(),MinMaxScaler()],\n",
    "    'dim_reducer': [PCA()],\n",
    "    'dim_reducer__n_components': [1,2,4,10,0.8,0.9,0.95,None],\n",
    "    'model': [LogisticRegression(penalty='l1',solver='saga',random_state=22,n_jobs=-1,max_iter=10000)],\n",
    "    'model__C': c_values,\n",
    "    'model__solver': ['saga']},\n",
    "    \n",
    "# l2\n",
    "    {'scaler': [StandardScaler(),MinMaxScaler()],\n",
    "    'dim_reducer': [PCA()],\n",
    "    'dim_reducer__n_components': [1,2,4,10,0.8,0.9,0.95,None],\n",
    "    'model': [LogisticRegression(penalty='l2',random_state=22,n_jobs=-1,max_iter=10000)],\n",
    "    'model__C': c_values,\n",
    "    'model__solver': ['lbfgs']}]\n",
    "    \n",
    "\n",
    "model_pipeline_pca = Pipeline([\n",
    "    ('scaler', MinMaxScaler()),\n",
    "    ('dim_reducer', PCA()),\n",
    "    ('model', LogisticRegression())   # linear regression model\n",
    "])\n",
    "\n",
    "\n",
    "# Instantiate the log reg grid search\n",
    "logreg_gs = GridSearchCV(\n",
    "    model_pipeline_pca,\n",
    "    param_grid=logreg_param_grid,\n",
    "    cv=5,\n",
    "    n_jobs=-1,verbose=1,return_train_score=True\n",
    "    )"
   ]
  },
  {
   "attachments": {},
   "cell_type": "markdown",
   "metadata": {},
   "source": [
    "`let's first test the model with all features` - **model A**"
   ]
  },
  {
   "cell_type": "code",
   "execution_count": 40,
   "metadata": {},
   "outputs": [
    {
     "name": "stdout",
     "output_type": "stream",
     "text": [
      "Fitting 5 folds for each of 256 candidates, totalling 1280 fits\n"
     ]
    },
    {
     "data": {
      "text/plain": [
       "{'dim_reducer': PCA(),\n",
       " 'dim_reducer__n_components': None,\n",
       " 'model': LogisticRegression(C=100, max_iter=10000, n_jobs=-1, random_state=22),\n",
       " 'model__C': 100,\n",
       " 'model__solver': 'lbfgs',\n",
       " 'scaler': StandardScaler()}"
      ]
     },
     "execution_count": 40,
     "metadata": {},
     "output_type": "execute_result"
    }
   ],
   "source": [
    "tuned_logreg_gs = logreg_gs.fit(X_rem, y_rem)\n",
    "\n",
    "tuned_logreg_gs.best_params_"
   ]
  },
  {
   "cell_type": "code",
   "execution_count": 41,
   "metadata": {},
   "outputs": [
    {
     "data": {
      "text/plain": [
       "0.6037986270022884"
      ]
     },
     "execution_count": 41,
     "metadata": {},
     "output_type": "execute_result"
    }
   ],
   "source": [
    "tuned_logreg_gs.best_score_"
   ]
  },
  {
   "attachments": {},
   "cell_type": "markdown",
   "metadata": {},
   "source": [
    "* cross-validation score is significantly lower than the previous test score\n",
    "* this is likely because running a cross-fold validation made the model more generalized, which is a crucial feature for a real-life model\n",
    "* random fluctuations may have influenced the previous test score in the test set \n",
    "* it's also possible that some data regions within the cross-validation gave particularly low scores, indicating that the model is not performing well on those particular data points or regions"
   ]
  },
  {
   "attachments": {},
   "cell_type": "markdown",
   "metadata": {},
   "source": [
    "***"
   ]
  },
  {
   "attachments": {},
   "cell_type": "markdown",
   "metadata": {},
   "source": [
    "* While testing model A (all features) and B on a single train-test split results in a big accuracy score difference\n",
    "* running cross-validation on these two sets of features resulted in the same accuracy scores\n",
    "  * indicating that the statistical test conducted in notebook 3 was meaningful\n"
   ]
  },
  {
   "attachments": {},
   "cell_type": "markdown",
   "metadata": {},
   "source": [
    "* Fitting logistic models above allowed extracting some valuable indicators, such as Masonry Contacts being more frequent in districts that are gentrifying, but ultimately accuracy scores remained low.\n",
    "* More data would need to be added to improve the scores"
   ]
  },
  {
   "attachments": {},
   "cell_type": "markdown",
   "metadata": {},
   "source": [
    "***\n",
    "<center><h3> NLP Model <center><h3>"
   ]
  },
  {
   "attachments": {},
   "cell_type": "markdown",
   "metadata": {},
   "source": [
    "* Let's run NLP models to see if more information could be extracted"
   ]
  },
  {
   "cell_type": "code",
   "execution_count": 43,
   "metadata": {},
   "outputs": [
    {
     "name": "stderr",
     "output_type": "stream",
     "text": [
      "[nltk_data] Downloading package stopwords to\n",
      "[nltk_data]     C:\\Users\\44742\\AppData\\Roaming\\nltk_data...\n",
      "[nltk_data]   Package stopwords is already up-to-date!\n"
     ]
    }
   ],
   "source": [
    "from sklearn.feature_extraction.text import TfidfVectorizer\n",
    "import string\n",
    "\n",
    "# import the nltk stopwords\n",
    "import nltk\n",
    "nltk.download('stopwords')\n",
    "from nltk.corpus import stopwords\n",
    "from nltk.tag import pos_tag \n",
    "from nltk.stem import PorterStemmer\n",
    "\n",
    "STOP_WORDS = stopwords.words('english')\n",
    "STOP_WORDS.append('per')\n",
    "\n",
    "def my_tokenizer(sentence):\n",
    "    # remove punctuation and set to lower case\n",
    "    for punctuation_mark in string.punctuation:\n",
    "        sentence = sentence.replace(punctuation_mark,'').lower()\n",
    "\n",
    "    # split sentence into words\n",
    "    listofwords = sentence.split(' ')\n",
    "    listof_words = []\n",
    "    \n",
    "    # remove stopwords and any tokens that are just empty strings\n",
    "    for word in listofwords:\n",
    "        if (not word in STOP_WORDS) & (len(word)>2) & (not bool(re.search('\\d', word))):\n",
    "            #stemmer = PorterStemmer()\n",
    "            #stemmed_word = stemmer.stem(word)\n",
    "            #listof_words.append(stemmed_word)\n",
    "            listof_words.append(word)\n",
    "        else:\n",
    "            continue\n",
    "\n",
    "    return listof_words"
   ]
  },
  {
   "cell_type": "code",
   "execution_count": 44,
   "metadata": {},
   "outputs": [],
   "source": [
    "from sklearn.base import BaseEstimator, TransformerMixin\n",
    "from sklearn.feature_extraction.text import TfidfVectorizer\n",
    "\n",
    "class Description_Vector(BaseEstimator, TransformerMixin):\n",
    "    def __init__(self):\n",
    "        self.vectorizer = TfidfVectorizer(tokenizer=my_tokenizer,min_df=0.05, max_df=0.8)\n",
    "        \n",
    "    def fit(self, df, y=None):\n",
    "        description=df['WORK_DESCRIPTION']\n",
    "        self.vectorizer.fit(description)\n",
    "        return self\n",
    "        \n",
    "    def transform(self, df, y=None):\n",
    "        '''\n",
    "        This methos vectorizers one columnn but returns the whole dataframe\n",
    "        '''\n",
    "        description=df['WORK_DESCRIPTION']\n",
    "        description_transformed = self.vectorizer.transform(description)\n",
    "        feature_names=self.vectorizer.get_feature_names_out()\n",
    "        df_vect=pd.DataFrame(description_transformed.toarray(), columns=feature_names)\n",
    "        df_return=pd.concat([df.reset_index(drop=True),df_vect.reset_index(drop=True)],axis=1).drop(columns='WORK_DESCRIPTION')\n",
    "        return df_return\n",
    "    \n",
    "    "
   ]
  },
  {
   "cell_type": "code",
   "execution_count": 45,
   "metadata": {},
   "outputs": [],
   "source": [
    "year=2015\n",
    "train_period=5\n",
    "prediction_period=5\n",
    "metric='power'\n",
    "perc_power=2\n",
    "\n",
    "X_y_prep_nlp = Pipeline(\n",
    "    [\n",
    "    #grouping based on the year we are making the prediction from and the training length\n",
    "    ('group',FunctionTransformer(df_window_multi_type, kw_args={'year': year, 't': train_period})),\n",
    "    #convert income change into y_target based on the year we are making the prediction from and the prediction length and drop the remaining of Income columns\n",
    "    ('target',GentrificationTarget(year,prediction_period,metric,perc_power)),\n",
    "    #split into X & y\n",
    "    ('vector',Description_Vector()),\n",
    "    ('X_y_split',FunctionTransformer(select_columns))\n",
    "    ])"
   ]
  },
  {
   "cell_type": "code",
   "execution_count": 46,
   "metadata": {},
   "outputs": [],
   "source": [
    "#select only Work Description, Year, Census_Tract columns and columns containing Mean\n",
    "df_rem_nlp=pd.concat([df_rem['WORK_DESCRIPTION'],df_rem['YEAR'],df_rem['Census_Tract'],get_columns_with_regex(df_rem,'Mean')],axis=1)\n",
    "df_test_nlp=pd.concat([df_test['WORK_DESCRIPTION'],df_test['YEAR'],df_test['Census_Tract'],get_columns_with_regex(df_test,'Mean')],axis=1)\n",
    "\n",
    "X_y_prep_nlp.fit(df_rem_nlp)\n",
    "X_rem_nlp,y_rem=X_y_prep_nlp.transform(df_rem_nlp)\n",
    "X_test_nlp,y_test=X_y_prep_nlp.transform(df_test_nlp)"
   ]
  },
  {
   "cell_type": "code",
   "execution_count": 47,
   "metadata": {},
   "outputs": [
    {
     "name": "stdout",
     "output_type": "stream",
     "text": [
      "Baseline model train accuracy is 99.82%\n",
      "Baseline model test accuracy is 72.54%\n"
     ]
    }
   ],
   "source": [
    "model_pipeline_nlp = Pipeline([\n",
    "    ('scaler', MinMaxScaler()),\n",
    "    ('regressor', LogisticRegression())   # linear regression model\n",
    "])\n",
    "\n",
    "model_pipeline_nlp.fit(X_rem_nlp,y_rem)\n",
    "nlp_model=model_pipeline_nlp\n",
    "\n",
    "train_accuracy = nlp_model.score(X_rem_nlp, y_rem)\n",
    "test_accuracy = nlp_model.score(X_test_nlp, y_test)\n",
    "\n",
    "print(f'Baseline model train accuracy is {train_accuracy*100:.2f}%')\n",
    "print(f'Baseline model test accuracy is {test_accuracy*100:.2f}%')"
   ]
  },
  {
   "cell_type": "markdown",
   "metadata": {},
   "source": [
    "* The first model iteration strongly overfits since train accuracy is significatnly higher than the test accuracy\n",
    "* Let's reduce c-hyperparameter to reduce overfitting by penalizing large weights in the model."
   ]
  },
  {
   "cell_type": "code",
   "execution_count": 48,
   "metadata": {},
   "outputs": [
    {
     "name": "stdout",
     "output_type": "stream",
     "text": [
      "Baseline model train accuracy is 76.98%\n",
      "Baseline model test accuracy is 78.17%\n"
     ]
    }
   ],
   "source": [
    "model_pipeline_nlp = Pipeline([\n",
    "    ('scaler', MinMaxScaler()),\n",
    "    ('regressor', LogisticRegression(C=0.005))   # reduce c-value to reduce overfitting\n",
    "])\n",
    "\n",
    "model_pipeline_nlp.fit(X_rem_nlp,y_rem)\n",
    "nlp_model=model_pipeline_nlp\n",
    "\n",
    "train_accuracy = nlp_model.score(X_rem_nlp, y_rem)\n",
    "test_accuracy = nlp_model.score(X_test_nlp, y_test)\n",
    "\n",
    "print(f'NLP model train accuracy is {train_accuracy*100:.2f}%')\n",
    "print(f'NLP model test accuracy is {test_accuracy*100:.2f}%')"
   ]
  },
  {
   "attachments": {},
   "cell_type": "markdown",
   "metadata": {},
   "source": [
    "* The accuracy scores have improved to **78.17%**"
   ]
  },
  {
   "cell_type": "code",
   "execution_count": 49,
   "metadata": {},
   "outputs": [],
   "source": [
    "result_coeff=pd.DataFrame({'feature':list(X_rem_nlp.columns),'coefficient':nlp_model.steps[-1][1].coef_[0]})"
   ]
  },
  {
   "cell_type": "code",
   "execution_count": 50,
   "metadata": {},
   "outputs": [],
   "source": [
    "#Sort by the largest coefficients\n",
    "top_20=result_coeff.sort_values('coefficient',ascending=False)[:21].reset_index(drop=True)\n",
    "bottom_20=result_coeff.sort_values('coefficient')[:21].reset_index(drop=True)"
   ]
  },
  {
   "cell_type": "code",
   "execution_count": 51,
   "metadata": {},
   "outputs": [
    {
     "data": {
      "image/png": "[encoded data removed]",
      "text/plain": [
       "<Figure size 1500x1500 with 2 Axes>"
      ]
     },
     "metadata": {},
     "output_type": "display_data"
    }
   ],
   "source": [
    "#Plot\n",
    "fig, axs = plt.subplots(2, 1, figsize=(15, 15))\n",
    "\n",
    "top_20.set_index('feature').plot(kind=\"bar\", rot=45, ax=axs[0], color=\"red\")\n",
    "axs[0].set_title(\"Words associated with likely gentrification\")\n",
    "axs[0].set_xlabel(\"Words from planning application descriptions\")\n",
    "axs[0].set_ylabel(\"Logistic regression coefficients\")\n",
    "\n",
    "bottom_20.set_index('feature').plot(kind=\"bar\", rot=45, ax=axs[1], color=\"green\")\n",
    "axs[1].set_title(\"Words associated with unlikely gentrification\")\n",
    "axs[1].set_xlabel(\"Words from planning application descriptions\")\n",
    "axs[1].set_ylabel(\"Logistic regression coefficients\")\n",
    "\n",
    "fig.tight_layout(pad=5.0)"
   ]
  },
  {
   "attachments": {},
   "cell_type": "markdown",
   "metadata": {},
   "source": [
    "* Some insightful words to indicate an area gentrifying are 'penthouse' - an indicator of new high-end construction,'car'- an indicator of increased economic activity\n",
    "* While 'partitions' and 'rewire' are related may be related to renovations and maintenance and,hence, to lower chances of gentrification"
   ]
  },
  {
   "attachments": {},
   "cell_type": "markdown",
   "metadata": {},
   "source": [
    "* The model can be also used to extract coefficients of specific words"
   ]
  },
  {
   "cell_type": "code",
   "execution_count": 52,
   "metadata": {},
   "outputs": [
    {
     "data": {
      "text/html": [
       "<div>\n",
       "<style scoped>\n",
       "    .dataframe tbody tr th:only-of-type {\n",
       "        vertical-align: middle;\n",
       "    }\n",
       "\n",
       "    .dataframe tbody tr th {\n",
       "        vertical-align: top;\n",
       "    }\n",
       "\n",
       "    .dataframe thead th {\n",
       "        text-align: right;\n",
       "    }\n",
       "</style>\n",
       "<table border=\"1\" class=\"dataframe\">\n",
       "  <thead>\n",
       "    <tr style=\"text-align: right;\">\n",
       "      <th></th>\n",
       "      <th>feature</th>\n",
       "      <th>coefficient</th>\n",
       "    </tr>\n",
       "  </thead>\n",
       "  <tbody>\n",
       "    <tr>\n",
       "      <th>191</th>\n",
       "      <td>cafe</td>\n",
       "      <td>0.010124</td>\n",
       "    </tr>\n",
       "  </tbody>\n",
       "</table>\n",
       "</div>"
      ],
      "text/plain": [
       "    feature  coefficient\n",
       "191    cafe     0.010124"
      ]
     },
     "execution_count": 52,
     "metadata": {},
     "output_type": "execute_result"
    }
   ],
   "source": [
    "result_coeff[result_coeff['feature']=='cafe']"
   ]
  },
  {
   "attachments": {},
   "cell_type": "markdown",
   "metadata": {},
   "source": [
    "* For example the word, cafe appears to have a small positive coefficient"
   ]
  },
  {
   "cell_type": "code",
   "execution_count": 53,
   "metadata": {},
   "outputs": [
    {
     "data": {
      "text/html": [
       "<div>\n",
       "<style scoped>\n",
       "    .dataframe tbody tr th:only-of-type {\n",
       "        vertical-align: middle;\n",
       "    }\n",
       "\n",
       "    .dataframe tbody tr th {\n",
       "        vertical-align: top;\n",
       "    }\n",
       "\n",
       "    .dataframe thead th {\n",
       "        text-align: right;\n",
       "    }\n",
       "</style>\n",
       "<table border=\"1\" class=\"dataframe\">\n",
       "  <thead>\n",
       "    <tr style=\"text-align: right;\">\n",
       "      <th></th>\n",
       "      <th>feature</th>\n",
       "      <th>coefficient</th>\n",
       "    </tr>\n",
       "  </thead>\n",
       "  <tbody>\n",
       "    <tr>\n",
       "      <th>1104</th>\n",
       "      <td>office</td>\n",
       "      <td>0.033174</td>\n",
       "    </tr>\n",
       "  </tbody>\n",
       "</table>\n",
       "</div>"
      ],
      "text/plain": [
       "     feature  coefficient\n",
       "1104  office     0.033174"
      ]
     },
     "execution_count": 53,
     "metadata": {},
     "output_type": "execute_result"
    }
   ],
   "source": [
    "result_coeff[result_coeff['feature']=='office']"
   ]
  },
  {
   "cell_type": "markdown",
   "metadata": {},
   "source": [
    "* A word office has a stronger positive coefficient, suggesting it is a better predictor of gentrification based on the current model"
   ]
  },
  {
   "attachments": {},
   "cell_type": "markdown",
   "metadata": {},
   "source": [
    "\n",
    "* Let's run a gridsearch to optimise parameters"
   ]
  },
  {
   "cell_type": "code",
   "execution_count": 54,
   "metadata": {},
   "outputs": [
    {
     "name": "stdout",
     "output_type": "stream",
     "text": [
      "Fitting 5 folds for each of 112 candidates, totalling 560 fits\n"
     ]
    },
    {
     "data": {
      "text/plain": [
       "0.7746478873239436"
      ]
     },
     "execution_count": 54,
     "metadata": {},
     "output_type": "execute_result"
    }
   ],
   "source": [
    "c_values = [.00001, .0001, .001, .1, 1, 10, 100, 1000]\n",
    "\n",
    "logreg_param_grid = [\n",
    "    \n",
    "# l1\n",
    "    {'scaler': [MinMaxScaler()],\n",
    "    'dim_reducer': [PCA()],\n",
    "    'dim_reducer__n_components': [0.2,0.4,0.6,0.8,0.9,0.95,None],\n",
    "    'model': [LogisticRegression(penalty='l1',solver='saga',random_state=22,n_jobs=-1,max_iter=10000)],\n",
    "    'model__C': c_values,\n",
    "    'model__solver': ['saga']},\n",
    "    \n",
    "# l2\n",
    "    {'scaler': [MinMaxScaler()],\n",
    "    'dim_reducer': [PCA()],\n",
    "    'dim_reducer__n_components': [0.2,0.4,0.6,0.8,0.9,0.95,None],\n",
    "    'model': [LogisticRegression(penalty='l2',random_state=22,n_jobs=-1,max_iter=10000)],\n",
    "    'model__C': c_values,\n",
    "    'model__solver': ['lbfgs']}]\n",
    "    \n",
    "\n",
    "model_pipeline_nlp_pca = Pipeline([\n",
    "    ('scaler', MinMaxScaler()),\n",
    "    ('dim_reducer', PCA()),\n",
    "    ('model', LogisticRegression())   # linear regression model\n",
    "])\n",
    "\n",
    "\n",
    "# Instantiate the log reg grid search\n",
    "logreg_gs = GridSearchCV(\n",
    "    model_pipeline_nlp_pca,\n",
    "    param_grid=logreg_param_grid,\n",
    "    cv=5,\n",
    "    n_jobs=-1,verbose=1,return_train_score=True\n",
    "    )\n",
    "\n",
    "tuned_nlp_gs = logreg_gs.fit(X_rem_nlp, y_rem)\n",
    "tuned_nlp_gs.score(X_test_nlp,y_test)"
   ]
  },
  {
   "attachments": {},
   "cell_type": "markdown",
   "metadata": {},
   "source": [
    "* Model accuracy of 77%, given that it is a 50/50 classification problem, remains low\n",
    "* Running grid searches does not appear to improve the test scores drastically\n",
    "* Apart from other possible reasons, this can also arise from the limited nature of the target variable\n",
    "  * To improve scores, better data for the target variable would need to be obtained\n",
    "  * Ultimately, relying exclusively on income data is not sufficient to evaluate gentrification\n",
    "* Nevertheless, it should also be noted that so far we have been running grid-searched on relatively small datasets\n",
    "  * consider increasing the size of the dataset by constructing stacked dataframes\n",
    "  * for exmaple, instead of predicting gentrification from 2015 to 2020 for each area,\n",
    "  * predict for each 5 year ranges in-between 2015 and 2020"
   ]
  },
  {
   "attachments": {},
   "cell_type": "markdown",
   "metadata": {},
   "source": [
    "---\n",
    "<center><h3>Model Interation: Stacked Model <center><h3>"
   ]
  },
  {
   "attachments": {},
   "cell_type": "markdown",
   "metadata": {},
   "source": [
    "This subsection will \n",
    "* Create Baseline Stacked Model\n",
    "* Looping through different combinations of train and prediciton windows to establish optimal timeframes\n",
    "* Gridsearch for stacked model"
   ]
  },
  {
   "attachments": {},
   "cell_type": "markdown",
   "metadata": {},
   "source": [
    "* Next steps: add a way to concat data given specific train and prediction periods"
   ]
  },
  {
   "cell_type": "code",
   "execution_count": 55,
   "metadata": {},
   "outputs": [],
   "source": [
    "#define a custom column transformer to stack the dataset as a part of pre-processing\n",
    "\n",
    "class GentrificationTarget_Stacked(BaseEstimator, TransformerMixin):\n",
    "    def __init__(self,training_period,prediction_period):\n",
    "        self.training_period=training_period\n",
    "        self.prediction_period=prediction_period\n",
    "        self.median_change=None\n",
    "\n",
    "        #the last year we can make the prediction from = 2021 (last year in the income dataset) - prediction windows\n",
    "        self.year_last_from=2021-self.prediction_period\n",
    "        #range of years we can predict from. +1 to be inclusive of the last year\n",
    "        self.year_from_range=range(2010,self.year_last_from+1)\n",
    "\n",
    "    def fit(self,df,y=None):\n",
    "\n",
    "        median_di={}\n",
    "\n",
    "        for year_from in self.year_from_range:\n",
    "            #only need Median and YEAR columns\n",
    "            mask=[col for col in list(df.columns) if bool(re.search(prefix,col)) or col in ['Census_Tract','YEAR']]\n",
    "            df_temp=df_window_multi_type(df[mask],year_from,self.training_period)\n",
    "\n",
    "            #name of the column containing income for the current year\n",
    "            current_income_col='Mean_Income_'+str(year_from)\n",
    "            #the year we are making the prediction for\n",
    "            prediction_year=year_from+self.prediction_period\n",
    "\n",
    "            #name of the column containing income for the year we are making the prediction for\n",
    "            future_income_col='Mean_Income_'+str(prediction_year)\n",
    "\n",
    "            current_income=df_temp[current_income_col]\n",
    "            future_income=df_temp[future_income_col]\n",
    "\n",
    "            combined_change=[comb_change_calc(start,finish) for (start,finish) in zip(current_income,future_income)]\n",
    "\n",
    "            #for each year create a key:value dictionary pair\n",
    "            median_di[year_from]=np.median(combined_change)\n",
    "\n",
    "        #fitting in our case is just finding the mean change\n",
    "        self.median_changes=median_di\n",
    "        #returning self with updated attributes that can be accessed in the transform method later\n",
    "        return self\n",
    "\n",
    "    def transform(self, df, y=None):\n",
    "        #this method transforms the existing dataframe to calculate if the change for each geography was more or less than the mean & dropping all the other columns\n",
    "\n",
    "        #instantiate an empty df for X features\n",
    "        df_result=pd.DataFrame() \n",
    "\n",
    "\n",
    "        #loop for all years less or equal to the last year we can predict from\n",
    "        for year_from in self.year_from_range:\n",
    "\n",
    "            #for each loop filter by year, average numeric columns & add concat strings for each year\n",
    "            df_temp=df_window_multi_type(df,year_from,self.training_period)\n",
    "\n",
    "            #for each loop determine the year we are predicting for\n",
    "            prediction_year=year_from+self.prediction_period\n",
    "\n",
    "            #get income for the year the prediction is made FROM\n",
    "            current_income_col='Mean_Income_'+str(year_from)\n",
    "            current_income=df_temp[current_income_col]\n",
    "\n",
    "            #get income for the year the prediction is made FOR\n",
    "            future_income=df_temp['Mean_Income_'+str(prediction_year)]\n",
    "\n",
    "            #calculate change\n",
    "            combined_change=[comb_change_calc(start,finish) for (start,finish) in zip(current_income,future_income)]\n",
    "            \n",
    "            median_temp=self.median_changes[year_from]\n",
    "            target_temp=[1 if i>median_temp else 0 for i in combined_change]\n",
    "\n",
    "            #drop all Income columns\n",
    "            y_col=[col for col in list(df_temp.columns) if bool(re.search('Mean',col))]\n",
    "            df_temp=df_temp.drop(columns=y_col)\n",
    "\n",
    "            #add current income column back but rename as Income (otherwise for each loop the name would be different)\n",
    "            df_temp['Income']=current_income\n",
    "\n",
    "            #add target column\n",
    "            df_temp['Target']=target_temp\n",
    "\n",
    "            #keep concating df_temp to df_result for each loop \n",
    "            df_result=pd.concat([df_result,df_temp])\n",
    "\n",
    "        #separate into X and y\n",
    "        X = df_result.drop(columns='Target')\n",
    "        y = df_result['Target']\n",
    "\n",
    "        return X,y"
   ]
  },
  {
   "cell_type": "code",
   "execution_count": 56,
   "metadata": {},
   "outputs": [],
   "source": [
    "#define a function to drop columns that did not pass the statistical test\n",
    "def col_drop(df):\n",
    "    #ensure the input is \n",
    "    df_temp=pd.DataFrame(df)\n",
    "    new_df=df_temp.drop(columns=columns_to_drop)\n",
    "    return new_df"
   ]
  },
  {
   "cell_type": "code",
   "execution_count": 57,
   "metadata": {},
   "outputs": [],
   "source": [
    "cachedir = mkdtemp()\n",
    "\n",
    "train_period=5\n",
    "prediction_period=5\n",
    "\n",
    "X_y_prep_stacked = Pipeline(\n",
    "    [\n",
    "    #one hot encoding\n",
    "    ('ohe', CustomOneHotEncoder_CT()),\n",
    "    #drop columns that did not pass statistical test,\n",
    "    ('col_drop',FunctionTransformer(col_drop)),\n",
    "    #convert income change into y_target based on the year we are making the prediction from and the prediction length and drop the remaining of Income columns\n",
    "    ('target',GentrificationTarget_Stacked(train_period,prediction_period))\n",
    "    ],\n",
    "    memory=cachedir)"
   ]
  },
  {
   "cell_type": "code",
   "execution_count": 58,
   "metadata": {},
   "outputs": [],
   "source": [
    "model_pipeline_stacked = Pipeline([\n",
    "    ('scaler', MinMaxScaler()),   # data normalization step\n",
    "    ('model', LogisticRegression(max_iter=1000))   # linear regression model\n",
    "])"
   ]
  },
  {
   "cell_type": "code",
   "execution_count": 59,
   "metadata": {},
   "outputs": [],
   "source": [
    "X_y_prep_stacked.fit(df_rem)\n",
    "X_rem,y_rem=X_y_prep_stacked.transform(df_rem)\n",
    "X_test,y_test=X_y_prep_stacked.transform(df_test)\n",
    "\n",
    "X_rem=X_rem.drop(columns='WORK_DESCRIPTION')\n",
    "X_test=X_test.drop(columns='WORK_DESCRIPTION')\n",
    "\n",
    "model_pipeline_stacked.fit(X_rem,y_rem)\n",
    "accuracy = model_pipeline_stacked.score(X_test, y_test)"
   ]
  },
  {
   "cell_type": "code",
   "execution_count": 62,
   "metadata": {},
   "outputs": [
    {
     "data": {
      "text/plain": [
       "0.6068845098528312"
      ]
     },
     "execution_count": 62,
     "metadata": {},
     "output_type": "execute_result"
    }
   ],
   "source": [
    "model_pipeline_stacked.score(X_rem,y_rem)"
   ]
  },
  {
   "attachments": {},
   "cell_type": "markdown",
   "metadata": {},
   "source": [
    "* Run through all possible combinations of train_period & prediction_period to determine optimal prediction and train windows"
   ]
  },
  {
   "cell_type": "markdown",
   "metadata": {},
   "source": [
    "`20+ min to run`"
   ]
  },
  {
   "cell_type": "code",
   "execution_count": 66,
   "metadata": {},
   "outputs": [],
   "source": [
    "'''#loop through each combination of train_period & prediction_period and store test accuracy\n",
    "\n",
    "#train_period should not exceed 5 years because then predictions from 2010 would not be accurate\n",
    "\n",
    "import itertools\n",
    "\n",
    "train_range = [i+1 for i in range(5)]\n",
    "prediction_range = [i+1 for i in range(11)]\n",
    "\n",
    "df_results=pd.DataFrame({'train_range':[],'prediction_range':[],'train_score':[],'test_score':[]})\n",
    "\n",
    "\n",
    "for i, pair in enumerate(itertools.product(train_range, prediction_range)):\n",
    "\n",
    "    train_period=pair[0]\n",
    "    prediction_period=pair[1]\n",
    "\n",
    "    X_y_prep_stacked = Pipeline(\n",
    "    [('ohe', CustomOneHotEncoder_CT()),\n",
    "    ('target',GentrificationTarget_Stacked(train_period,prediction_period))],\n",
    "    memory=cachedir)\n",
    "\n",
    "    X_y_prep_stacked.fit(df_rem)\n",
    "    X_rem,y_rem=X_y_prep_stacked.transform(df_rem)\n",
    "    X_test,y_test=X_y_prep_stacked.transform(df_test)\n",
    "\n",
    "    X_rem=X_rem.drop(columns='WORK_DESCRIPTION')\n",
    "    X_test=X_test.drop(columns='WORK_DESCRIPTION')\n",
    "\n",
    "    model_pipeline_stacked.fit(X_rem,y_rem)\n",
    "\n",
    "    train_accuracy=model_pipeline_stacked.score(X_rem, y_rem)\n",
    "    test_accuracy = model_pipeline_stacked.score(X_test, y_test)\n",
    "\n",
    "    df_results.loc[i] = [train_period, prediction_period, train_accuracy, test_accuracy]\n",
    "'''"
   ]
  },
  {
   "cell_type": "code",
   "execution_count": 67,
   "metadata": {},
   "outputs": [],
   "source": [
    "joblib.dump(df_results, '../data/interim/window_optimization.pkl')\n",
    "df_results=joblib.load('../data/interim/window_optimization.pkl')"
   ]
  },
  {
   "cell_type": "code",
   "execution_count": 68,
   "metadata": {},
   "outputs": [
    {
     "data": {
      "text/html": [
       "<div>\n",
       "<style scoped>\n",
       "    .dataframe tbody tr th:only-of-type {\n",
       "        vertical-align: middle;\n",
       "    }\n",
       "\n",
       "    .dataframe tbody tr th {\n",
       "        vertical-align: top;\n",
       "    }\n",
       "\n",
       "    .dataframe thead th {\n",
       "        text-align: right;\n",
       "    }\n",
       "</style>\n",
       "<table border=\"1\" class=\"dataframe\">\n",
       "  <thead>\n",
       "    <tr style=\"text-align: right;\">\n",
       "      <th></th>\n",
       "      <th>train_range</th>\n",
       "      <th>prediction_range</th>\n",
       "      <th>train_score</th>\n",
       "      <th>test_score</th>\n",
       "    </tr>\n",
       "  </thead>\n",
       "  <tbody>\n",
       "    <tr>\n",
       "      <th>53</th>\n",
       "      <td>5.0</td>\n",
       "      <td>10.0</td>\n",
       "      <td>0.668696</td>\n",
       "      <td>0.624113</td>\n",
       "    </tr>\n",
       "    <tr>\n",
       "      <th>39</th>\n",
       "      <td>4.0</td>\n",
       "      <td>7.0</td>\n",
       "      <td>0.629941</td>\n",
       "      <td>0.615819</td>\n",
       "    </tr>\n",
       "    <tr>\n",
       "      <th>42</th>\n",
       "      <td>4.0</td>\n",
       "      <td>10.0</td>\n",
       "      <td>0.673060</td>\n",
       "      <td>0.615658</td>\n",
       "    </tr>\n",
       "    <tr>\n",
       "      <th>28</th>\n",
       "      <td>3.0</td>\n",
       "      <td>7.0</td>\n",
       "      <td>0.620956</td>\n",
       "      <td>0.612766</td>\n",
       "    </tr>\n",
       "    <tr>\n",
       "      <th>15</th>\n",
       "      <td>2.0</td>\n",
       "      <td>5.0</td>\n",
       "      <td>0.602342</td>\n",
       "      <td>0.609455</td>\n",
       "    </tr>\n",
       "    <tr>\n",
       "      <th>4</th>\n",
       "      <td>1.0</td>\n",
       "      <td>5.0</td>\n",
       "      <td>0.601597</td>\n",
       "      <td>0.605016</td>\n",
       "    </tr>\n",
       "    <tr>\n",
       "      <th>41</th>\n",
       "      <td>4.0</td>\n",
       "      <td>9.0</td>\n",
       "      <td>0.656395</td>\n",
       "      <td>0.603774</td>\n",
       "    </tr>\n",
       "    <tr>\n",
       "      <th>50</th>\n",
       "      <td>5.0</td>\n",
       "      <td>7.0</td>\n",
       "      <td>0.637409</td>\n",
       "      <td>0.603376</td>\n",
       "    </tr>\n",
       "    <tr>\n",
       "      <th>47</th>\n",
       "      <td>5.0</td>\n",
       "      <td>4.0</td>\n",
       "      <td>0.609218</td>\n",
       "      <td>0.603161</td>\n",
       "    </tr>\n",
       "    <tr>\n",
       "      <th>31</th>\n",
       "      <td>3.0</td>\n",
       "      <td>10.0</td>\n",
       "      <td>0.662852</td>\n",
       "      <td>0.602151</td>\n",
       "    </tr>\n",
       "    <tr>\n",
       "      <th>26</th>\n",
       "      <td>3.0</td>\n",
       "      <td>5.0</td>\n",
       "      <td>0.610651</td>\n",
       "      <td>0.601618</td>\n",
       "    </tr>\n",
       "    <tr>\n",
       "      <th>5</th>\n",
       "      <td>1.0</td>\n",
       "      <td>6.0</td>\n",
       "      <td>0.605732</td>\n",
       "      <td>0.598773</td>\n",
       "    </tr>\n",
       "    <tr>\n",
       "      <th>16</th>\n",
       "      <td>2.0</td>\n",
       "      <td>6.0</td>\n",
       "      <td>0.613095</td>\n",
       "      <td>0.598075</td>\n",
       "    </tr>\n",
       "    <tr>\n",
       "      <th>3</th>\n",
       "      <td>1.0</td>\n",
       "      <td>4.0</td>\n",
       "      <td>0.597843</td>\n",
       "      <td>0.597816</td>\n",
       "    </tr>\n",
       "    <tr>\n",
       "      <th>25</th>\n",
       "      <td>3.0</td>\n",
       "      <td>4.0</td>\n",
       "      <td>0.608046</td>\n",
       "      <td>0.596817</td>\n",
       "    </tr>\n",
       "    <tr>\n",
       "      <th>48</th>\n",
       "      <td>5.0</td>\n",
       "      <td>5.0</td>\n",
       "      <td>0.608381</td>\n",
       "      <td>0.596386</td>\n",
       "    </tr>\n",
       "    <tr>\n",
       "      <th>52</th>\n",
       "      <td>5.0</td>\n",
       "      <td>9.0</td>\n",
       "      <td>0.650463</td>\n",
       "      <td>0.596244</td>\n",
       "    </tr>\n",
       "    <tr>\n",
       "      <th>27</th>\n",
       "      <td>3.0</td>\n",
       "      <td>6.0</td>\n",
       "      <td>0.622326</td>\n",
       "      <td>0.595041</td>\n",
       "    </tr>\n",
       "    <tr>\n",
       "      <th>17</th>\n",
       "      <td>2.0</td>\n",
       "      <td>7.0</td>\n",
       "      <td>0.618195</td>\n",
       "      <td>0.594203</td>\n",
       "    </tr>\n",
       "    <tr>\n",
       "      <th>38</th>\n",
       "      <td>4.0</td>\n",
       "      <td>6.0</td>\n",
       "      <td>0.620478</td>\n",
       "      <td>0.594118</td>\n",
       "    </tr>\n",
       "  </tbody>\n",
       "</table>\n",
       "</div>"
      ],
      "text/plain": [
       "    train_range  prediction_range  train_score  test_score\n",
       "53          5.0              10.0     0.668696    0.624113\n",
       "39          4.0               7.0     0.629941    0.615819\n",
       "42          4.0              10.0     0.673060    0.615658\n",
       "28          3.0               7.0     0.620956    0.612766\n",
       "15          2.0               5.0     0.602342    0.609455\n",
       "4           1.0               5.0     0.601597    0.605016\n",
       "41          4.0               9.0     0.656395    0.603774\n",
       "50          5.0               7.0     0.637409    0.603376\n",
       "47          5.0               4.0     0.609218    0.603161\n",
       "31          3.0              10.0     0.662852    0.602151\n",
       "26          3.0               5.0     0.610651    0.601618\n",
       "5           1.0               6.0     0.605732    0.598773\n",
       "16          2.0               6.0     0.613095    0.598075\n",
       "3           1.0               4.0     0.597843    0.597816\n",
       "25          3.0               4.0     0.608046    0.596817\n",
       "48          5.0               5.0     0.608381    0.596386\n",
       "52          5.0               9.0     0.650463    0.596244\n",
       "27          3.0               6.0     0.622326    0.595041\n",
       "17          2.0               7.0     0.618195    0.594203\n",
       "38          4.0               6.0     0.620478    0.594118"
      ]
     },
     "execution_count": 68,
     "metadata": {},
     "output_type": "execute_result"
    }
   ],
   "source": [
    "df_results.sort_values('test_score',ascending=False)[:20]"
   ]
  },
  {
   "attachments": {},
   "cell_type": "markdown",
   "metadata": {},
   "source": [
    "* The best scores are observed for longer prediction periods, this cna be explained by:\n",
    "  * 1) Volatility in the target variable\n",
    "  * 2) Gentrification being a long-term change"
   ]
  },
  {
   "attachments": {},
   "cell_type": "markdown",
   "metadata": {},
   "source": [
    "* Overall, the scores remain around 60% even when using the stacked dataframe methodology"
   ]
  },
  {
   "cell_type": "markdown",
   "metadata": {},
   "source": [
    "***"
   ]
  },
  {
   "attachments": {},
   "cell_type": "markdown",
   "metadata": {},
   "source": [
    "Summary and the main Next Steps:\n",
    "* The main next step would be to improve the accuracy of the target variable at predicting gentrification by introducing other variables, such as education or crime levels\n",
    "  * It would also be beneficial to consider adjusting the calssification threshold split and consider introdusing more classes\n",
    "  * while splitting data using media, might at first seem to be a problem simplification, in reality, might also make it more difficult to split data, since the majority if datapoints would be around the median\n",
    "* While numerical and vategorical features were explored extensively, Work Description column has potential to be investigated much further\n",
    "  * running initial topic analysis already offered interesting insights such as that many permits currenly classified as Renovation Permits, in fact, are maintenance-related\n",
    "  * further topic analysis can be helpful to have more control over the assignment of permit types"
   ]
  },
  {
   "attachments": {},
   "cell_type": "markdown",
   "metadata": {},
   "source": [
    "---"
   ]
  },
  {
   "attachments": {},
   "cell_type": "markdown",
   "metadata": {},
   "source": [
    "Next Steps:\n",
    "* Instead of aggregating the rows, .transform() instead to generate the actual class for each row\n",
    "* Test with the combined metric\n",
    "* Add more NLP features\n",
    "* Test different classification thresholds\n",
    "* Test more algorithms"
   ]
  },
  {
   "cell_type": "markdown",
   "metadata": {},
   "source": []
  }
 ],
 "metadata": {
  "kernelspec": {
   "display_name": "capstone",
   "language": "python",
   "name": "capstone"
  },
  "language_info": {
   "codemirror_mode": {
    "name": "ipython",
    "version": 3
   },
   "file_extension": ".py",
   "mimetype": "text/x-python",
   "name": "python",
   "nbconvert_exporter": "python",
   "pygments_lexer": "ipython3",
   "version": "3.9.13"
  },
  "orig_nbformat": 4
 },
 "nbformat": 4,
 "nbformat_minor": 2
}
