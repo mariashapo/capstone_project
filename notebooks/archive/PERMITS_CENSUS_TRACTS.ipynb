{
 "cells": [
  {
   "cell_type": "code",
   "execution_count": 2,
   "metadata": {},
   "outputs": [],
   "source": [
    "import pandas as pd\n",
    "import numpy as np\n",
    "import matplotlib.pyplot as plt"
   ]
  },
  {
   "attachments": {},
   "cell_type": "markdown",
   "metadata": {},
   "source": [
    "***"
   ]
  },
  {
   "attachments": {},
   "cell_type": "markdown",
   "metadata": {},
   "source": [
    "# CENSUS TRACTS"
   ]
  },
  {
   "attachments": {},
   "cell_type": "markdown",
   "metadata": {},
   "source": [
    "Aim for this notebook is to create a set of dictionaries to then remap all the census tracts to the correct ones:\n",
    "- [] Part 1: existing census tract numbers to the correct format -> {current census_tract->correct census tract} *maybe this could also be used to remap 'vintage' census tracts to the current ones\n",
    "- [] Part 2: missing Census tracts with Lon & Lat values -> {Lat&Lon Ref -> correct census tract}\n",
    "- [] Part 3: missing Census tracts with no Lon & Lat values -> {ID -> correct cencus tracts}\n",
    "- [] Plus save all the tract numbers that we need"
   ]
  },
  {
   "attachments": {},
   "cell_type": "markdown",
   "metadata": {},
   "source": [
    "***"
   ]
  },
  {
   "attachments": {},
   "cell_type": "markdown",
   "metadata": {},
   "source": [
    "**OLD DESCRIPTION**\n",
    "\n",
    "Ultimately, from this subsection we want the dataframe permits_wip to have a column with the correct Census Tract Numbers that can be used to join it with Income & Education Datasets </br>\n",
    "* Import a sample Income & Education Dataframe (let's use Income 2021 Dataframe)\n",
    "    - Save the set of the available census tracts\n",
    "* Separate the dataframe into 2 (present census tract number / NaN census tract number)</br>\n",
    "    - For present tract numbers:\n",
    "        - Create a new column 'Census_Tract_WIP' which will store the correct tract numbers\n",
    "        - Modify CT numbers from Permits to match CT numbers from Income\n",
    "        - Fill in the ones not matched using external resources\n",
    "        - Save the ID for which there were still no matches\n",
    "        - Create a dictionary from this column {'ID':'Correct Census Tract'} that can be applied onto permits_wip\n",
    "    - For NaN tract numbers:\n",
    "        - Fill in CT numbers based on Lat&Lon\n",
    "        - Reserve engineer to create a dictionary {'ID':'Correct Census Tract'}\n",
    "        - Save the ID for which there were still no matches\n",
    "    - For IDs where there are still no matches, investigate further methods:\n",
    "        - If successful, produce {'ID':'Correct Census Tract'}\n",
    "* Apply {'ID':'Census Tract'} and create a new column Census_Tract_Clean\n",
    "* Export the dataframe for EDA Analysis"
   ]
  },
  {
   "cell_type": "code",
   "execution_count": 3,
   "metadata": {},
   "outputs": [],
   "source": [
    "tracts_all=pd.read_csv('../data/interim/wip/census_tracts.csv',index_col=0)\n",
    "tracts_all.sample()"
   ]
  },
  {
   "attachments": {},
   "cell_type": "markdown",
   "metadata": {},
   "source": [
    "Census_Tract column has almost 15% of null values - this is an issue because Census_Tract number will be used to join the databsee.</br>\n",
    "Hence, it is required to fill them in."
   ]
  },
  {
   "attachments": {},
   "cell_type": "markdown",
   "metadata": {},
   "source": [
    "# **TARGET CENSUS TRACTS**"
   ]
  },
  {
   "attachments": {},
   "cell_type": "markdown",
   "metadata": {},
   "source": [
    "**Filling in census_tract null values & ensuring CENSUS_TRACT numbers from the PERMIT dataframe match INCOME & EDUCATION**"
   ]
  },
  {
   "attachments": {},
   "cell_type": "markdown",
   "metadata": {},
   "source": [
    "Import Income_2021 Dataframe"
   ]
  },
  {
   "cell_type": "code",
   "execution_count": 37,
   "metadata": {},
   "outputs": [
    {
     "data": {
      "text/plain": [
       "[10100, 10201, 10202, 10300, 10400, 10501, 10502, 10503, 10600, 10701]"
      ]
     },
     "execution_count": 37,
     "metadata": {},
     "output_type": "execute_result"
    }
   ],
   "source": [
    "edu_2021=pd.read_csv('../data/interim/wip/edu_2021.csv',index_col=0)\n",
    "edu_2021['Census_Tract']=edu_2021['Census_Tract'].apply(lambda x: x.lstrip('s'))\n",
    "\n",
    "check=[int(i) for i in edu_2021['Census_Tract'].values]\n",
    "check[:10]"
   ]
  },
  {
   "attachments": {},
   "cell_type": "markdown",
   "metadata": {},
   "source": [
    "Note, the datatype of the Census_Tract column in Income_2021 Dataframe is Object on purpose: \n",
    "* storing census tract as a string ensures no leading zeros are lost \n",
    "* makes character manipulations easier"
   ]
  },
  {
   "cell_type": "code",
   "execution_count": 7,
   "metadata": {},
   "outputs": [
    {
     "data": {
      "text/plain": [
       "0              NaN\n",
       "1              NaN\n",
       "2              NaN\n",
       "3              NaN\n",
       "4              NaN\n",
       "            ...   \n",
       "730506    650500.0\n",
       "730507    220400.0\n",
       "730508     81202.0\n",
       "730509    837300.0\n",
       "730510    530503.0\n",
       "Name: CENSUS_TRACT, Length: 730511, dtype: float64"
      ]
     },
     "execution_count": 7,
     "metadata": {},
     "output_type": "execute_result"
    }
   ],
   "source": [
    "tracts_all['CENSUS_TRACT']"
   ]
  },
  {
   "attachments": {},
   "cell_type": "markdown",
   "metadata": {},
   "source": [
    "### AIM: MATCH permits_wip['CENSUS_TRACT'] with income_2021 ['CENSUS_TRACT']"
   ]
  },
  {
   "cell_type": "markdown",
   "metadata": {},
   "source": [
    "***"
   ]
  },
  {
   "attachments": {},
   "cell_type": "markdown",
   "metadata": {},
   "source": [
    "Let's create a separate dataframe (instead of permits_wip) for the process of reassigning Census_Tract values. </br>\n",
    "The following columns can be useful : 'ID','CENSUS_TRACT','STREET_NAME','STREET_NUMBER','SUFFIX','LATITUDE','LONGITUDE'"
   ]
  },
  {
   "attachments": {},
   "cell_type": "markdown",
   "metadata": {},
   "source": [
    "Separating rows into the ones that have a value in the CENSUS_TRACT column & the ones with NaN for CENSUS_TRACT"
   ]
  },
  {
   "cell_type": "code",
   "execution_count": 8,
   "metadata": {},
   "outputs": [],
   "source": [
    "permit_tracts=tracts_all[~tracts_all['CENSUS_TRACT'].isna()]\n",
    "#df where census tract number present"
   ]
  },
  {
   "attachments": {},
   "cell_type": "markdown",
   "metadata": {},
   "source": [
    "# PART 1: PRESENT TRACT NUMBERS"
   ]
  },
  {
   "attachments": {},
   "cell_type": "markdown",
   "metadata": {},
   "source": [
    "Match the present census tract number from Building Permits dataset with the numbers from Income dataset. </br>\n",
    "**Store the correct census tract number in permit_tracts['Census_Tract_WIP']**"
   ]
  },
  {
   "cell_type": "code",
   "execution_count": 9,
   "metadata": {},
   "outputs": [],
   "source": [
    "#create a new column\n",
    "permit_tracts.insert(permit_tracts.columns.get_loc('CENSUS_TRACT'),'Census_Tract_WIP',[str(int(i)) for i in permit_tracts['CENSUS_TRACT']])"
   ]
  },
  {
   "attachments": {},
   "cell_type": "markdown",
   "metadata": {},
   "source": [
    "**Format the present tract numbers of Permits to match the format from US Census Data**"
   ]
  },
  {
   "cell_type": "code",
   "execution_count": 10,
   "metadata": {},
   "outputs": [
    {
     "name": "stderr",
     "output_type": "stream",
     "text": [
      "C:\\Users\\44742\\AppData\\Local\\Temp\\ipykernel_37180\\3484510801.py:1: SettingWithCopyWarning: \n",
      "A value is trying to be set on a copy of a slice from a DataFrame.\n",
      "Try using .loc[row_indexer,col_indexer] = value instead\n",
      "\n",
      "See the caveats in the documentation: https://pandas.pydata.org/pandas-docs/stable/user_guide/indexing.html#returning-a-view-versus-a-copy\n",
      "  permit_tracts['Census_Tract_WIP']=[(lambda x:''.join(('0',x)) if (len(x)==3) else x)(str(i)) for i in list(permit_tracts['Census_Tract_WIP'])]\n"
     ]
    }
   ],
   "source": [
    "permit_tracts['Census_Tract_WIP']=[(lambda x:''.join(('0',x)) if (len(x)==3) else x)(str(i)) for i in list(permit_tracts['Census_Tract_WIP'])]"
   ]
  },
  {
   "cell_type": "code",
   "execution_count": 11,
   "metadata": {},
   "outputs": [
    {
     "name": "stderr",
     "output_type": "stream",
     "text": [
      "C:\\Users\\44742\\AppData\\Local\\Temp\\ipykernel_37180\\3096702513.py:1: SettingWithCopyWarning: \n",
      "A value is trying to be set on a copy of a slice from a DataFrame.\n",
      "Try using .loc[row_indexer,col_indexer] = value instead\n",
      "\n",
      "See the caveats in the documentation: https://pandas.pydata.org/pandas-docs/stable/user_guide/indexing.html#returning-a-view-versus-a-copy\n",
      "  permit_tracts['Census_Tract_WIP']=[''.join((i,'0'*(6-len(i)))) for i in permit_tracts['Census_Tract_WIP']]\n"
     ]
    }
   ],
   "source": [
    "permit_tracts['Census_Tract_WIP']=[''.join((i,'0'*(6-len(i)))) for i in permit_tracts['Census_Tract_WIP']]"
   ]
  },
  {
   "cell_type": "code",
   "execution_count": 12,
   "metadata": {},
   "outputs": [],
   "source": [
    "#Now we need to find census tracts in the Permit_df for which we do not have a corresponding Census_Tract in Income_df\n",
    "missing=[i for i in set(permit_tracts['Census_Tract_WIP']) if i not in set(edu_2021['Census_Tract'])]"
   ]
  },
  {
   "cell_type": "code",
   "execution_count": 13,
   "metadata": {},
   "outputs": [
    {
     "name": "stdout",
     "output_type": "stream",
     "text": [
      "Following the formating, TC numbers from Census_Tract_WIP column can now be used to join dataframes from US Census Datasets\n",
      "751 tract numbers are now matched\n",
      "However, 454 tract numbers are still unmatched\n"
     ]
    }
   ],
   "source": [
    "print('Following the formating, TC numbers from Census_Tract_WIP column can now be used to join dataframes from US Census Datasets')\n",
    "print(f\"{len(set(permit_tracts['Census_Tract_WIP']))-len(set(missing))} tract numbers are now matched\")\n",
    "print(f'However, {len(set(missing))} tract numbers are still unmatched')"
   ]
  },
  {
   "attachments": {},
   "cell_type": "markdown",
   "metadata": {},
   "source": [
    " ********"
   ]
  },
  {
   "attachments": {},
   "cell_type": "markdown",
   "metadata": {},
   "source": [
    "**Look for alternative ways to reformat the missing tract numbers**"
   ]
  },
  {
   "cell_type": "code",
   "execution_count": 14,
   "metadata": {},
   "outputs": [
    {
     "name": "stdout",
     "output_type": "stream",
     "text": [
      "Requirement already satisfied: censusgeocode in c:\\users\\44742\\anaconda3\\lib\\site-packages (0.5.2)\n",
      "Requirement already satisfied: requests-toolbelt<1,>=0.9.0 in c:\\users\\44742\\anaconda3\\lib\\site-packages (from censusgeocode) (0.10.1)\n",
      "Requirement already satisfied: requests[security]<3,>=2.27.0 in c:\\users\\44742\\anaconda3\\lib\\site-packages (from censusgeocode) (2.28.1)\n",
      "Requirement already satisfied: certifi>=2017.4.17 in c:\\users\\44742\\anaconda3\\lib\\site-packages (from requests[security]<3,>=2.27.0->censusgeocode) (2022.9.14)\n",
      "Requirement already satisfied: urllib3<1.27,>=1.21.1 in c:\\users\\44742\\anaconda3\\lib\\site-packages (from requests[security]<3,>=2.27.0->censusgeocode) (1.26.11)\n",
      "Requirement already satisfied: idna<4,>=2.5 in c:\\users\\44742\\anaconda3\\lib\\site-packages (from requests[security]<3,>=2.27.0->censusgeocode) (3.3)\n",
      "Requirement already satisfied: charset-normalizer<3,>=2 in c:\\users\\44742\\anaconda3\\lib\\site-packages (from requests[security]<3,>=2.27.0->censusgeocode) (2.0.4)\n",
      "Note: you may need to restart the kernel to use updated packages.\n"
     ]
    }
   ],
   "source": [
    "pip install censusgeocode;"
   ]
  },
  {
   "cell_type": "code",
   "execution_count": 15,
   "metadata": {},
   "outputs": [],
   "source": [
    "import censusgeocode as cg;"
   ]
  },
  {
   "cell_type": "code",
   "execution_count": 16,
   "metadata": {},
   "outputs": [
    {
     "data": {
      "text/plain": [
       "ID                     0\n",
       "Census_Tract_WIP       0\n",
       "CENSUS_TRACT           0\n",
       "STREET_NAME            0\n",
       "STREET DIRECTION       0\n",
       "STREET_NUMBER          0\n",
       "SUFFIX              5865\n",
       "LATITUDE            1688\n",
       "LONGITUDE           1688\n",
       "dtype: int64"
      ]
     },
     "execution_count": 16,
     "metadata": {},
     "output_type": "execute_result"
    }
   ],
   "source": [
    "permit_tracts.isna().sum()"
   ]
  },
  {
   "cell_type": "code",
   "execution_count": 17,
   "metadata": {},
   "outputs": [
    {
     "data": {
      "text/plain": [
       "\"#at this stage, we want a dataframe with one census tract from 'missing' & Latitude + Longitude\\nmissing_p_tracts_coord=permit_tracts[(permit_tracts['Census_Tract_WIP'].isin(missing))&(~permit_tracts['LATITUDE'].isna())].groupby('Census_Tract_WIP').mean()[['LATITUDE','LONGITUDE']]\""
      ]
     },
     "execution_count": 17,
     "metadata": {},
     "output_type": "execute_result"
    }
   ],
   "source": [
    "'''#at this stage, we want a dataframe with one census tract from 'missing' & Latitude + Longitude\n",
    "missing_p_tracts_coord=permit_tracts[(permit_tracts['Census_Tract_WIP'].isin(missing))&(~permit_tracts['LATITUDE'].isna())].groupby('Census_Tract_WIP').mean()[['LATITUDE','LONGITUDE']]'''\n",
    "#but we can fill in for the missing lat & long from the existing ones. Mean is calculated by ignoring NaNs"
   ]
  },
  {
   "attachments": {},
   "cell_type": "markdown",
   "metadata": {},
   "source": [
    "At this stage, we want a dataframe with an umathced census tract with with the average of Latitude & Longitude values for its applications"
   ]
  },
  {
   "cell_type": "code",
   "execution_count": 18,
   "metadata": {},
   "outputs": [
    {
     "data": {
      "text/html": [
       "<div>\n",
       "<style scoped>\n",
       "    .dataframe tbody tr th:only-of-type {\n",
       "        vertical-align: middle;\n",
       "    }\n",
       "\n",
       "    .dataframe tbody tr th {\n",
       "        vertical-align: top;\n",
       "    }\n",
       "\n",
       "    .dataframe thead th {\n",
       "        text-align: right;\n",
       "    }\n",
       "</style>\n",
       "<table border=\"1\" class=\"dataframe\">\n",
       "  <thead>\n",
       "    <tr style=\"text-align: right;\">\n",
       "      <th></th>\n",
       "      <th>LATITUDE</th>\n",
       "      <th>LONGITUDE</th>\n",
       "    </tr>\n",
       "    <tr>\n",
       "      <th>Census_Tract_WIP</th>\n",
       "      <th></th>\n",
       "      <th></th>\n",
       "    </tr>\n",
       "  </thead>\n",
       "  <tbody>\n",
       "    <tr>\n",
       "      <th>701030</th>\n",
       "      <td>41.926773</td>\n",
       "      <td>-87.642288</td>\n",
       "    </tr>\n",
       "    <tr>\n",
       "      <th>303000</th>\n",
       "      <td>41.993011</td>\n",
       "      <td>-87.672826</td>\n",
       "    </tr>\n",
       "  </tbody>\n",
       "</table>\n",
       "</div>"
      ],
      "text/plain": [
       "                   LATITUDE  LONGITUDE\n",
       "Census_Tract_WIP                      \n",
       "701030            41.926773 -87.642288\n",
       "303000            41.993011 -87.672826"
      ]
     },
     "execution_count": 18,
     "metadata": {},
     "output_type": "execute_result"
    }
   ],
   "source": [
    "missing_p_tracts_coord=permit_tracts[permit_tracts['Census_Tract_WIP'].isin(missing)].groupby('Census_Tract_WIP').mean()[['LATITUDE','LONGITUDE']]\n",
    "missing_p_tracts_coord.sample(2)"
   ]
  },
  {
   "attachments": {},
   "cell_type": "markdown",
   "metadata": {},
   "source": [
    "Do we have any unmatched census tracts for which there are no Lat & Lon </br>\n",
    "#We have one unmatched adress -> let's drop it but record its ID"
   ]
  },
  {
   "cell_type": "code",
   "execution_count": 19,
   "metadata": {},
   "outputs": [
    {
     "data": {
      "text/plain": [
       "LATITUDE     1\n",
       "LONGITUDE    1\n",
       "dtype: int64"
      ]
     },
     "execution_count": 19,
     "metadata": {},
     "output_type": "execute_result"
    }
   ],
   "source": [
    "missing_p_tracts_coord.isna().sum()"
   ]
  },
  {
   "cell_type": "code",
   "execution_count": 20,
   "metadata": {},
   "outputs": [
    {
     "data": {
      "text/plain": [
       "['805000']"
      ]
     },
     "execution_count": 20,
     "metadata": {},
     "output_type": "execute_result"
    }
   ],
   "source": [
    "if missing_p_tracts_coord.isna().sum()[0]>0:\n",
    "    ct_missing_coord=list(missing_p_tracts_coord[missing_p_tracts_coord.isna().iloc[:,0]].index)\n",
    "ct_missing_coord"
   ]
  },
  {
   "attachments": {},
   "cell_type": "markdown",
   "metadata": {},
   "source": [
    "Note: ct_missing_coord - list storing application census tracts that are missing Lat & Lon values"
   ]
  },
  {
   "cell_type": "code",
   "execution_count": 21,
   "metadata": {},
   "outputs": [],
   "source": [
    "missing_p_tracts_coord=missing_p_tracts_coord.dropna(axis=0)"
   ]
  },
  {
   "cell_type": "code",
   "execution_count": 22,
   "metadata": {},
   "outputs": [
    {
     "data": {
      "text/plain": [
       "453"
      ]
     },
     "execution_count": 22,
     "metadata": {},
     "output_type": "execute_result"
    }
   ],
   "source": [
    "missing_p_tracts_coord.shape[0]"
   ]
  },
  {
   "attachments": {},
   "cell_type": "markdown",
   "metadata": {},
   "source": [
    "**Generating the new census tract numbers:**"
   ]
  },
  {
   "cell_type": "code",
   "execution_count": 23,
   "metadata": {},
   "outputs": [],
   "source": [
    "#THIS CELL TAKES 4 MIN TO RUN\n",
    "\n",
    "tracts_new=[(cg.coordinates(x=row['LONGITUDE'],y=row['LATITUDE']))['Census Tracts'][0]['TRACT'] for i,row in missing_p_tracts_coord.iterrows()]\n",
    "#this is a list with census tracts generated based on latitude & longitude for Permit Census Tracts that did not match Income Census Tracts"
   ]
  },
  {
   "cell_type": "code",
   "execution_count": 24,
   "metadata": {},
   "outputs": [
    {
     "data": {
      "text/plain": [
       "'There are now 0 unmatched census tracts for the applications that had a value for census tract and had Lat&Lon values'"
      ]
     },
     "execution_count": 24,
     "metadata": {},
     "output_type": "execute_result"
    }
   ],
   "source": [
    "#let's check if they (tracts_new) now match the income census tracts\n",
    "missing_2=[i for i in set(tracts_new) if i not in set(edu_2021['Census_Tract'])]\n",
    "(f'There are now {len(missing_2)} unmatched census tracts for the applications that had a value for census tract and had Lat&Lon values')"
   ]
  },
  {
   "attachments": {},
   "cell_type": "markdown",
   "metadata": {},
   "source": [
    "**Dictionary for the unmatched census tracts:**"
   ]
  },
  {
   "cell_type": "code",
   "execution_count": 25,
   "metadata": {},
   "outputs": [],
   "source": [
    "#dictionary with new census tracts for the previously unmatched census tracts\n",
    "missing_to_new={i[0]:i[1] for i in zip(missing_p_tracts_coord.index, tracts_new)}\n",
    "missing_to_new;"
   ]
  },
  {
   "attachments": {},
   "cell_type": "markdown",
   "metadata": {},
   "source": [
    "**Update Census_Tract_WIP using the dictionary**"
   ]
  },
  {
   "cell_type": "code",
   "execution_count": 26,
   "metadata": {},
   "outputs": [
    {
     "name": "stderr",
     "output_type": "stream",
     "text": [
      "C:\\Users\\44742\\AppData\\Local\\Temp\\ipykernel_37180\\1097574048.py:1: SettingWithCopyWarning: \n",
      "A value is trying to be set on a copy of a slice from a DataFrame\n",
      "\n",
      "See the caveats in the documentation: https://pandas.pydata.org/pandas-docs/stable/user_guide/indexing.html#returning-a-view-versus-a-copy\n",
      "  permit_tracts['Census_Tract_WIP'].replace(missing_to_new,inplace=True)\n"
     ]
    }
   ],
   "source": [
    "permit_tracts['Census_Tract_WIP'].replace(missing_to_new,inplace=True)"
   ]
  },
  {
   "cell_type": "code",
   "execution_count": 38,
   "metadata": {},
   "outputs": [
    {
     "data": {
      "text/plain": [
       "{'805000'}"
      ]
     },
     "execution_count": 38,
     "metadata": {},
     "output_type": "execute_result"
    }
   ],
   "source": [
    "set([i for i in permit_tracts['Census_Tract_WIP'] if int(i) not in check])"
   ]
  },
  {
   "attachments": {},
   "cell_type": "markdown",
   "metadata": {},
   "source": [
    "***"
   ]
  },
  {
   "attachments": {},
   "cell_type": "markdown",
   "metadata": {},
   "source": [
    "**Sanity check:**"
   ]
  },
  {
   "attachments": {},
   "cell_type": "markdown",
   "metadata": {},
   "source": [
    "Recall the dictionary 'missing_to_new' which was used to update the existing census tracts. If we look inside the dictionary, a lot of values appear very different."
   ]
  },
  {
   "cell_type": "code",
   "execution_count": 39,
   "metadata": {},
   "outputs": [
    {
     "data": {
      "text/html": [
       "<div>\n",
       "<style scoped>\n",
       "    .dataframe tbody tr th:only-of-type {\n",
       "        vertical-align: middle;\n",
       "    }\n",
       "\n",
       "    .dataframe tbody tr th {\n",
       "        vertical-align: top;\n",
       "    }\n",
       "\n",
       "    .dataframe thead th {\n",
       "        text-align: right;\n",
       "    }\n",
       "</style>\n",
       "<table border=\"1\" class=\"dataframe\">\n",
       "  <thead>\n",
       "    <tr style=\"text-align: right;\">\n",
       "      <th></th>\n",
       "      <th>ID</th>\n",
       "      <th>Census_Tract_WIP</th>\n",
       "      <th>CENSUS_TRACT</th>\n",
       "      <th>STREET_NAME</th>\n",
       "      <th>STREET DIRECTION</th>\n",
       "      <th>STREET_NUMBER</th>\n",
       "      <th>SUFFIX</th>\n",
       "      <th>LATITUDE</th>\n",
       "      <th>LONGITUDE</th>\n",
       "    </tr>\n",
       "  </thead>\n",
       "  <tbody>\n",
       "    <tr>\n",
       "      <th>402209</th>\n",
       "      <td>2787454</td>\n",
       "      <td>740400</td>\n",
       "      <td>740400.0</td>\n",
       "      <td>DRAKE</td>\n",
       "      <td>S</td>\n",
       "      <td>11215</td>\n",
       "      <td>AVE</td>\n",
       "      <td>41.689073</td>\n",
       "      <td>-87.709125</td>\n",
       "    </tr>\n",
       "  </tbody>\n",
       "</table>\n",
       "</div>"
      ],
      "text/plain": [
       "             ID Census_Tract_WIP  CENSUS_TRACT STREET_NAME STREET DIRECTION  \\\n",
       "402209  2787454           740400      740400.0       DRAKE                S   \n",
       "\n",
       "        STREET_NUMBER SUFFIX   LATITUDE  LONGITUDE  \n",
       "402209          11215    AVE  41.689073 -87.709125  "
      ]
     },
     "execution_count": 39,
     "metadata": {},
     "output_type": "execute_result"
    }
   ],
   "source": [
    "permit_tracts.sample()"
   ]
  },
  {
   "cell_type": "code",
   "execution_count": 40,
   "metadata": {},
   "outputs": [
    {
     "data": {
      "text/plain": [
       "LATITUDE     0\n",
       "LONGITUDE    0\n",
       "dtype: int64"
      ]
     },
     "execution_count": 40,
     "metadata": {},
     "output_type": "execute_result"
    }
   ],
   "source": [
    "p_tracts_check=permit_tracts[~permit_tracts['Census_Tract_WIP'].isin(missing)].groupby('Census_Tract_WIP').mean()[['LATITUDE','LONGITUDE']]\n",
    "\n",
    "p_tracts_check.isna().sum()"
   ]
  },
  {
   "cell_type": "code",
   "execution_count": 41,
   "metadata": {},
   "outputs": [
    {
     "data": {
      "text/html": [
       "<div>\n",
       "<style scoped>\n",
       "    .dataframe tbody tr th:only-of-type {\n",
       "        vertical-align: middle;\n",
       "    }\n",
       "\n",
       "    .dataframe tbody tr th {\n",
       "        vertical-align: top;\n",
       "    }\n",
       "\n",
       "    .dataframe thead th {\n",
       "        text-align: right;\n",
       "    }\n",
       "</style>\n",
       "<table border=\"1\" class=\"dataframe\">\n",
       "  <thead>\n",
       "    <tr style=\"text-align: right;\">\n",
       "      <th></th>\n",
       "      <th>LATITUDE</th>\n",
       "      <th>LONGITUDE</th>\n",
       "    </tr>\n",
       "    <tr>\n",
       "      <th>Census_Tract_WIP</th>\n",
       "      <th></th>\n",
       "      <th></th>\n",
       "    </tr>\n",
       "  </thead>\n",
       "  <tbody>\n",
       "    <tr>\n",
       "      <th>090300</th>\n",
       "      <td>41.999205</td>\n",
       "      <td>-87.816643</td>\n",
       "    </tr>\n",
       "    <tr>\n",
       "      <th>301200</th>\n",
       "      <td>41.849229</td>\n",
       "      <td>-87.691815</td>\n",
       "    </tr>\n",
       "  </tbody>\n",
       "</table>\n",
       "</div>"
      ],
      "text/plain": [
       "                   LATITUDE  LONGITUDE\n",
       "Census_Tract_WIP                      \n",
       "090300            41.999205 -87.816643\n",
       "301200            41.849229 -87.691815"
      ]
     },
     "execution_count": 41,
     "metadata": {},
     "output_type": "execute_result"
    }
   ],
   "source": [
    "p_tracts_check.sample(2)"
   ]
  },
  {
   "cell_type": "code",
   "execution_count": 42,
   "metadata": {},
   "outputs": [],
   "source": [
    "p_tracts_check_di={i:(cg.coordinates(x=row['LONGITUDE'],y=row['LATITUDE']))['Census Tracts'][0]['TRACT'] for i,row in p_tracts_check.iterrows()}\n",
    "#key = existing, value = generated"
   ]
  },
  {
   "cell_type": "code",
   "execution_count": 43,
   "metadata": {},
   "outputs": [],
   "source": [
    "incorrect=[(key,p_tracts_check_di[key]) for key in p_tracts_check_di if key!=p_tracts_check_di[key]]"
   ]
  },
  {
   "cell_type": "code",
   "execution_count": 44,
   "metadata": {},
   "outputs": [],
   "source": [
    "incorrect={key:p_tracts_check_di[key] for key in p_tracts_check_di if key!=p_tracts_check_di[key]}"
   ]
  },
  {
   "cell_type": "code",
   "execution_count": 45,
   "metadata": {},
   "outputs": [
    {
     "name": "stdout",
     "output_type": "stream",
     "text": [
      "19 census tracts were matched incorrectly\n"
     ]
    }
   ],
   "source": [
    "print(len(incorrect),'census tracts were matched incorrectly')"
   ]
  },
  {
   "cell_type": "code",
   "execution_count": 46,
   "metadata": {},
   "outputs": [
    {
     "name": "stderr",
     "output_type": "stream",
     "text": [
      "C:\\Users\\44742\\AppData\\Local\\Temp\\ipykernel_37180\\1842584012.py:1: SettingWithCopyWarning: \n",
      "A value is trying to be set on a copy of a slice from a DataFrame.\n",
      "Try using .loc[row_indexer,col_indexer] = value instead\n",
      "\n",
      "See the caveats in the documentation: https://pandas.pydata.org/pandas-docs/stable/user_guide/indexing.html#returning-a-view-versus-a-copy\n",
      "  permit_tracts['Census_Tract_WIP']=permit_tracts['Census_Tract_WIP'].replace(incorrect)\n"
     ]
    }
   ],
   "source": [
    "permit_tracts['Census_Tract_WIP']=permit_tracts['Census_Tract_WIP'].replace(incorrect)"
   ]
  },
  {
   "cell_type": "code",
   "execution_count": 47,
   "metadata": {},
   "outputs": [
    {
     "name": "stdout",
     "output_type": "stream",
     "text": [
      "['805000'] - census tract number(s) still unmatched\n"
     ]
    }
   ],
   "source": [
    "print(f'{ct_missing_coord} - census tract number(s) still unmatched')"
   ]
  },
  {
   "cell_type": "code",
   "execution_count": 48,
   "metadata": {},
   "outputs": [
    {
     "data": {
      "text/html": [
       "<div>\n",
       "<style scoped>\n",
       "    .dataframe tbody tr th:only-of-type {\n",
       "        vertical-align: middle;\n",
       "    }\n",
       "\n",
       "    .dataframe tbody tr th {\n",
       "        vertical-align: top;\n",
       "    }\n",
       "\n",
       "    .dataframe thead th {\n",
       "        text-align: right;\n",
       "    }\n",
       "</style>\n",
       "<table border=\"1\" class=\"dataframe\">\n",
       "  <thead>\n",
       "    <tr style=\"text-align: right;\">\n",
       "      <th></th>\n",
       "      <th>ID</th>\n",
       "      <th>Census_Tract_WIP</th>\n",
       "      <th>CENSUS_TRACT</th>\n",
       "      <th>STREET_NAME</th>\n",
       "      <th>STREET DIRECTION</th>\n",
       "      <th>STREET_NUMBER</th>\n",
       "      <th>SUFFIX</th>\n",
       "      <th>LATITUDE</th>\n",
       "      <th>LONGITUDE</th>\n",
       "    </tr>\n",
       "  </thead>\n",
       "  <tbody>\n",
       "    <tr>\n",
       "      <th>32</th>\n",
       "      <td>3201678</td>\n",
       "      <td>611900</td>\n",
       "      <td>611900.0</td>\n",
       "      <td>51ST</td>\n",
       "      <td>W</td>\n",
       "      <td>1339</td>\n",
       "      <td>ST</td>\n",
       "      <td>41.801286</td>\n",
       "      <td>-87.659013</td>\n",
       "    </tr>\n",
       "    <tr>\n",
       "      <th>33</th>\n",
       "      <td>2694469</td>\n",
       "      <td>830600</td>\n",
       "      <td>830600.0</td>\n",
       "      <td>GREENVIEW</td>\n",
       "      <td>N</td>\n",
       "      <td>6538</td>\n",
       "      <td>AVE</td>\n",
       "      <td>42.001103</td>\n",
       "      <td>-87.668190</td>\n",
       "    </tr>\n",
       "    <tr>\n",
       "      <th>34</th>\n",
       "      <td>2694826</td>\n",
       "      <td>170600</td>\n",
       "      <td>170600.0</td>\n",
       "      <td>PLAINFIELD</td>\n",
       "      <td>N</td>\n",
       "      <td>3522</td>\n",
       "      <td>AVE</td>\n",
       "      <td>41.943635</td>\n",
       "      <td>-87.834024</td>\n",
       "    </tr>\n",
       "    <tr>\n",
       "      <th>46</th>\n",
       "      <td>2699488</td>\n",
       "      <td>100500</td>\n",
       "      <td>100500.0</td>\n",
       "      <td>ORIOLE</td>\n",
       "      <td>N</td>\n",
       "      <td>5500</td>\n",
       "      <td>AVE</td>\n",
       "      <td>41.979777</td>\n",
       "      <td>-87.817015</td>\n",
       "    </tr>\n",
       "    <tr>\n",
       "      <th>47</th>\n",
       "      <td>2700325</td>\n",
       "      <td>292500</td>\n",
       "      <td>292500.0</td>\n",
       "      <td>CERMAK</td>\n",
       "      <td>W</td>\n",
       "      <td>4044</td>\n",
       "      <td>RD</td>\n",
       "      <td>41.851631</td>\n",
       "      <td>-87.726538</td>\n",
       "    </tr>\n",
       "    <tr>\n",
       "      <th>...</th>\n",
       "      <td>...</td>\n",
       "      <td>...</td>\n",
       "      <td>...</td>\n",
       "      <td>...</td>\n",
       "      <td>...</td>\n",
       "      <td>...</td>\n",
       "      <td>...</td>\n",
       "      <td>...</td>\n",
       "      <td>...</td>\n",
       "    </tr>\n",
       "    <tr>\n",
       "      <th>730506</th>\n",
       "      <td>3307044</td>\n",
       "      <td>650500</td>\n",
       "      <td>650500.0</td>\n",
       "      <td>KARLOV</td>\n",
       "      <td>S</td>\n",
       "      <td>6926</td>\n",
       "      <td>AVE</td>\n",
       "      <td>41.766834</td>\n",
       "      <td>-87.725048</td>\n",
       "    </tr>\n",
       "    <tr>\n",
       "      <th>730507</th>\n",
       "      <td>3308612</td>\n",
       "      <td>220400</td>\n",
       "      <td>220400.0</td>\n",
       "      <td>RICHMOND</td>\n",
       "      <td>N</td>\n",
       "      <td>2529</td>\n",
       "      <td>ST</td>\n",
       "      <td>41.927464</td>\n",
       "      <td>-87.701016</td>\n",
       "    </tr>\n",
       "    <tr>\n",
       "      <th>730508</th>\n",
       "      <td>3308742</td>\n",
       "      <td>081202</td>\n",
       "      <td>81202.0</td>\n",
       "      <td>STATE</td>\n",
       "      <td>N</td>\n",
       "      <td>1125</td>\n",
       "      <td>ST</td>\n",
       "      <td>41.902604</td>\n",
       "      <td>-87.628254</td>\n",
       "    </tr>\n",
       "    <tr>\n",
       "      <th>730509</th>\n",
       "      <td>3308572</td>\n",
       "      <td>837300</td>\n",
       "      <td>837300.0</td>\n",
       "      <td>LEXINGTON</td>\n",
       "      <td>W</td>\n",
       "      <td>3328</td>\n",
       "      <td>ST</td>\n",
       "      <td>41.871944</td>\n",
       "      <td>-87.709470</td>\n",
       "    </tr>\n",
       "    <tr>\n",
       "      <th>730510</th>\n",
       "      <td>3308675</td>\n",
       "      <td>530503</td>\n",
       "      <td>530503.0</td>\n",
       "      <td>LOWE</td>\n",
       "      <td>S</td>\n",
       "      <td>12423</td>\n",
       "      <td>AVE</td>\n",
       "      <td>41.668048</td>\n",
       "      <td>-87.637825</td>\n",
       "    </tr>\n",
       "  </tbody>\n",
       "</table>\n",
       "<p>621462 rows × 9 columns</p>\n",
       "</div>"
      ],
      "text/plain": [
       "             ID Census_Tract_WIP  CENSUS_TRACT STREET_NAME STREET DIRECTION  \\\n",
       "32      3201678           611900      611900.0        51ST                W   \n",
       "33      2694469           830600      830600.0   GREENVIEW                N   \n",
       "34      2694826           170600      170600.0  PLAINFIELD                N   \n",
       "46      2699488           100500      100500.0      ORIOLE                N   \n",
       "47      2700325           292500      292500.0      CERMAK                W   \n",
       "...         ...              ...           ...         ...              ...   \n",
       "730506  3307044           650500      650500.0      KARLOV                S   \n",
       "730507  3308612           220400      220400.0    RICHMOND                N   \n",
       "730508  3308742           081202       81202.0       STATE                N   \n",
       "730509  3308572           837300      837300.0   LEXINGTON                W   \n",
       "730510  3308675           530503      530503.0        LOWE                S   \n",
       "\n",
       "        STREET_NUMBER SUFFIX   LATITUDE  LONGITUDE  \n",
       "32               1339     ST  41.801286 -87.659013  \n",
       "33               6538    AVE  42.001103 -87.668190  \n",
       "34               3522    AVE  41.943635 -87.834024  \n",
       "46               5500    AVE  41.979777 -87.817015  \n",
       "47               4044     RD  41.851631 -87.726538  \n",
       "...               ...    ...        ...        ...  \n",
       "730506           6926    AVE  41.766834 -87.725048  \n",
       "730507           2529     ST  41.927464 -87.701016  \n",
       "730508           1125     ST  41.902604 -87.628254  \n",
       "730509           3328     ST  41.871944 -87.709470  \n",
       "730510          12423    AVE  41.668048 -87.637825  \n",
       "\n",
       "[621462 rows x 9 columns]"
      ]
     },
     "execution_count": 48,
     "metadata": {},
     "output_type": "execute_result"
    }
   ],
   "source": [
    "permit_tracts"
   ]
  },
  {
   "cell_type": "code",
   "execution_count": 49,
   "metadata": {},
   "outputs": [],
   "source": [
    "for ct in ct_missing_coord:\n",
    "    permit_coord_missing=permit_tracts[permit_tracts['Census_Tract_WIP']==ct]"
   ]
  },
  {
   "cell_type": "code",
   "execution_count": 50,
   "metadata": {},
   "outputs": [
    {
     "data": {
      "text/html": [
       "<div>\n",
       "<style scoped>\n",
       "    .dataframe tbody tr th:only-of-type {\n",
       "        vertical-align: middle;\n",
       "    }\n",
       "\n",
       "    .dataframe tbody tr th {\n",
       "        vertical-align: top;\n",
       "    }\n",
       "\n",
       "    .dataframe thead th {\n",
       "        text-align: right;\n",
       "    }\n",
       "</style>\n",
       "<table border=\"1\" class=\"dataframe\">\n",
       "  <thead>\n",
       "    <tr style=\"text-align: right;\">\n",
       "      <th></th>\n",
       "      <th>ID</th>\n",
       "      <th>Census_Tract_WIP</th>\n",
       "      <th>CENSUS_TRACT</th>\n",
       "      <th>STREET_NAME</th>\n",
       "      <th>STREET DIRECTION</th>\n",
       "      <th>STREET_NUMBER</th>\n",
       "      <th>SUFFIX</th>\n",
       "      <th>LATITUDE</th>\n",
       "      <th>LONGITUDE</th>\n",
       "    </tr>\n",
       "  </thead>\n",
       "  <tbody>\n",
       "    <tr>\n",
       "      <th>61121</th>\n",
       "      <td>3243454</td>\n",
       "      <td>805000</td>\n",
       "      <td>80500.0</td>\n",
       "      <td>SCHILLER</td>\n",
       "      <td>W</td>\n",
       "      <td>749</td>\n",
       "      <td>ST</td>\n",
       "      <td>NaN</td>\n",
       "      <td>NaN</td>\n",
       "    </tr>\n",
       "    <tr>\n",
       "      <th>334619</th>\n",
       "      <td>3179764</td>\n",
       "      <td>805000</td>\n",
       "      <td>80500.0</td>\n",
       "      <td>SCHILLER</td>\n",
       "      <td>W</td>\n",
       "      <td>749</td>\n",
       "      <td>ST</td>\n",
       "      <td>NaN</td>\n",
       "      <td>NaN</td>\n",
       "    </tr>\n",
       "    <tr>\n",
       "      <th>438192</th>\n",
       "      <td>3170470</td>\n",
       "      <td>805000</td>\n",
       "      <td>80500.0</td>\n",
       "      <td>SCHILLER</td>\n",
       "      <td>W</td>\n",
       "      <td>749</td>\n",
       "      <td>ST</td>\n",
       "      <td>NaN</td>\n",
       "      <td>NaN</td>\n",
       "    </tr>\n",
       "    <tr>\n",
       "      <th>520483</th>\n",
       "      <td>3144794</td>\n",
       "      <td>805000</td>\n",
       "      <td>80500.0</td>\n",
       "      <td>SCHILLER</td>\n",
       "      <td>W</td>\n",
       "      <td>749</td>\n",
       "      <td>ST</td>\n",
       "      <td>NaN</td>\n",
       "      <td>NaN</td>\n",
       "    </tr>\n",
       "  </tbody>\n",
       "</table>\n",
       "</div>"
      ],
      "text/plain": [
       "             ID Census_Tract_WIP  CENSUS_TRACT STREET_NAME STREET DIRECTION  \\\n",
       "61121   3243454           805000       80500.0    SCHILLER                W   \n",
       "334619  3179764           805000       80500.0    SCHILLER                W   \n",
       "438192  3170470           805000       80500.0    SCHILLER                W   \n",
       "520483  3144794           805000       80500.0    SCHILLER                W   \n",
       "\n",
       "        STREET_NUMBER SUFFIX  LATITUDE  LONGITUDE  \n",
       "61121             749     ST       NaN        NaN  \n",
       "334619            749     ST       NaN        NaN  \n",
       "438192            749     ST       NaN        NaN  \n",
       "520483            749     ST       NaN        NaN  "
      ]
     },
     "execution_count": 50,
     "metadata": {},
     "output_type": "execute_result"
    }
   ],
   "source": [
    "permit_coord_missing"
   ]
  },
  {
   "cell_type": "code",
   "execution_count": 51,
   "metadata": {},
   "outputs": [
    {
     "name": "stdout",
     "output_type": "stream",
     "text": [
      "[]\n"
     ]
    }
   ],
   "source": [
    "result=cg.address('749 W Schiller Street', city='Chicago', state='IL')\n",
    "print(result)"
   ]
  },
  {
   "attachments": {},
   "cell_type": "markdown",
   "metadata": {},
   "source": [
    "Let's manually finds the coordinates and follow the same appriach as before"
   ]
  },
  {
   "cell_type": "code",
   "execution_count": 52,
   "metadata": {},
   "outputs": [],
   "source": [
    "update={'805000':cg.coordinates(x=-87.64779131343974,y=41.907408400875006)['Census Tracts'][0]['TRACT']}"
   ]
  },
  {
   "cell_type": "code",
   "execution_count": 53,
   "metadata": {},
   "outputs": [
    {
     "name": "stderr",
     "output_type": "stream",
     "text": [
      "C:\\Users\\44742\\AppData\\Local\\Temp\\ipykernel_37180\\4020965048.py:1: SettingWithCopyWarning: \n",
      "A value is trying to be set on a copy of a slice from a DataFrame.\n",
      "Try using .loc[row_indexer,col_indexer] = value instead\n",
      "\n",
      "See the caveats in the documentation: https://pandas.pydata.org/pandas-docs/stable/user_guide/indexing.html#returning-a-view-versus-a-copy\n",
      "  permit_tracts['Census_Tract_WIP']=permit_tracts['Census_Tract_WIP'].replace(update)\n"
     ]
    }
   ],
   "source": [
    "permit_tracts['Census_Tract_WIP']=permit_tracts['Census_Tract_WIP'].replace(update)"
   ]
  },
  {
   "cell_type": "code",
   "execution_count": 54,
   "metadata": {},
   "outputs": [
    {
     "data": {
      "text/html": [
       "<div>\n",
       "<style scoped>\n",
       "    .dataframe tbody tr th:only-of-type {\n",
       "        vertical-align: middle;\n",
       "    }\n",
       "\n",
       "    .dataframe tbody tr th {\n",
       "        vertical-align: top;\n",
       "    }\n",
       "\n",
       "    .dataframe thead th {\n",
       "        text-align: right;\n",
       "    }\n",
       "</style>\n",
       "<table border=\"1\" class=\"dataframe\">\n",
       "  <thead>\n",
       "    <tr style=\"text-align: right;\">\n",
       "      <th></th>\n",
       "      <th>ID</th>\n",
       "      <th>Census_Tract_WIP</th>\n",
       "      <th>CENSUS_TRACT</th>\n",
       "      <th>STREET_NAME</th>\n",
       "      <th>STREET DIRECTION</th>\n",
       "      <th>STREET_NUMBER</th>\n",
       "      <th>SUFFIX</th>\n",
       "      <th>LATITUDE</th>\n",
       "      <th>LONGITUDE</th>\n",
       "    </tr>\n",
       "  </thead>\n",
       "  <tbody>\n",
       "    <tr>\n",
       "      <th>32</th>\n",
       "      <td>3201678</td>\n",
       "      <td>611900</td>\n",
       "      <td>611900.0</td>\n",
       "      <td>51ST</td>\n",
       "      <td>W</td>\n",
       "      <td>1339</td>\n",
       "      <td>ST</td>\n",
       "      <td>41.801286</td>\n",
       "      <td>-87.659013</td>\n",
       "    </tr>\n",
       "    <tr>\n",
       "      <th>33</th>\n",
       "      <td>2694469</td>\n",
       "      <td>830600</td>\n",
       "      <td>830600.0</td>\n",
       "      <td>GREENVIEW</td>\n",
       "      <td>N</td>\n",
       "      <td>6538</td>\n",
       "      <td>AVE</td>\n",
       "      <td>42.001103</td>\n",
       "      <td>-87.668190</td>\n",
       "    </tr>\n",
       "  </tbody>\n",
       "</table>\n",
       "</div>"
      ],
      "text/plain": [
       "         ID Census_Tract_WIP  CENSUS_TRACT STREET_NAME STREET DIRECTION  \\\n",
       "32  3201678           611900      611900.0        51ST                W   \n",
       "33  2694469           830600      830600.0   GREENVIEW                N   \n",
       "\n",
       "    STREET_NUMBER SUFFIX   LATITUDE  LONGITUDE  \n",
       "32           1339     ST  41.801286 -87.659013  \n",
       "33           6538    AVE  42.001103 -87.668190  "
      ]
     },
     "execution_count": 54,
     "metadata": {},
     "output_type": "execute_result"
    }
   ],
   "source": [
    "permit_tracts.head(2)"
   ]
  },
  {
   "cell_type": "code",
   "execution_count": 55,
   "metadata": {},
   "outputs": [],
   "source": [
    "permit_tracts_part1_di={row['CENSUS_TRACT']:row['Census_Tract_WIP'] for i,row in permit_tracts.iterrows()}"
   ]
  },
  {
   "cell_type": "code",
   "execution_count": 56,
   "metadata": {},
   "outputs": [],
   "source": [
    "# load csv module\n",
    "import csv\n",
    "\n",
    "# open file for writing, \"w\" is writing\n",
    "w = csv.writer(open(\"../data/interim/di_part1.csv\", \"w\"))\n",
    "w.writerow(['REF', 'Census_Tract_Match'])\n",
    "\n",
    "# loop over dictionary keys and values\n",
    "for key, val in permit_tracts_part1_di.items():\n",
    "    # write every key and value to file\n",
    "    w.writerow([key, val])"
   ]
  },
  {
   "cell_type": "code",
   "execution_count": 57,
   "metadata": {},
   "outputs": [],
   "source": [
    "check_part1=pd.read_csv(\"../data/interim/di_part1.csv\")"
   ]
  },
  {
   "cell_type": "code",
   "execution_count": 58,
   "metadata": {},
   "outputs": [
    {
     "data": {
      "text/html": [
       "<div>\n",
       "<style scoped>\n",
       "    .dataframe tbody tr th:only-of-type {\n",
       "        vertical-align: middle;\n",
       "    }\n",
       "\n",
       "    .dataframe tbody tr th {\n",
       "        vertical-align: top;\n",
       "    }\n",
       "\n",
       "    .dataframe thead th {\n",
       "        text-align: right;\n",
       "    }\n",
       "</style>\n",
       "<table border=\"1\" class=\"dataframe\">\n",
       "  <thead>\n",
       "    <tr style=\"text-align: right;\">\n",
       "      <th></th>\n",
       "      <th>REF</th>\n",
       "      <th>Census_Tract_Match</th>\n",
       "    </tr>\n",
       "  </thead>\n",
       "  <tbody>\n",
       "    <tr>\n",
       "      <th>665</th>\n",
       "      <td>837800.0</td>\n",
       "      <td>837800</td>\n",
       "    </tr>\n",
       "  </tbody>\n",
       "</table>\n",
       "</div>"
      ],
      "text/plain": [
       "          REF  Census_Tract_Match\n",
       "665  837800.0              837800"
      ]
     },
     "execution_count": 58,
     "metadata": {},
     "output_type": "execute_result"
    }
   ],
   "source": [
    "check_part1.sample()"
   ]
  },
  {
   "cell_type": "code",
   "execution_count": 59,
   "metadata": {},
   "outputs": [
    {
     "data": {
      "text/plain": [
       "[]"
      ]
     },
     "execution_count": 59,
     "metadata": {},
     "output_type": "execute_result"
    }
   ],
   "source": [
    "[i for i in check_part1['Census_Tract_Match'] if int(i) not in check]"
   ]
  },
  {
   "cell_type": "code",
   "execution_count": 60,
   "metadata": {},
   "outputs": [
    {
     "data": {
      "text/plain": [
       "'There are now 0 unmatched census tracts for the applications that had a value for census tract and had Lat&Lon values'"
      ]
     },
     "execution_count": 60,
     "metadata": {},
     "output_type": "execute_result"
    }
   ],
   "source": [
    "#let's check if they (tracts_new) now match the income census tracts\n",
    "missing_2=[i for i in set(tracts_new) if i not in set(edu_2021['Census_Tract'])]\n",
    "(f'There are now {len(missing_2)} unmatched census tracts for the applications that had a value for census tract and had Lat&Lon values')"
   ]
  },
  {
   "attachments": {},
   "cell_type": "markdown",
   "metadata": {},
   "source": [
    "**'permit_tracts_part1_di' is the dictionary that will be used to update the Permit Dataframe before joining it the US Census Data**"
   ]
  },
  {
   "cell_type": "markdown",
   "metadata": {},
   "source": [
    "***"
   ]
  },
  {
   "attachments": {},
   "cell_type": "markdown",
   "metadata": {},
   "source": [
    "**#RUN THE SCRAPING METHOD ON ALL OF THE PERMIT_TRACTS FOR CONSISTENCY WHEN CLEANING THE NOTEBOOK NEXT**"
   ]
  },
  {
   "attachments": {},
   "cell_type": "markdown",
   "metadata": {},
   "source": [
    "***\n",
    "***"
   ]
  },
  {
   "attachments": {},
   "cell_type": "markdown",
   "metadata": {},
   "source": [
    "# **PART 2**"
   ]
  },
  {
   "attachments": {},
   "cell_type": "markdown",
   "metadata": {},
   "source": [
    "#### We still need to fill in the missing tract numbers for application that had the census tract number missing (permit_tracts_missing):"
   ]
  },
  {
   "attachments": {},
   "cell_type": "markdown",
   "metadata": {},
   "source": [
    "**Where possible, let's fill in using the latitude & longitude:**"
   ]
  },
  {
   "cell_type": "code",
   "execution_count": 61,
   "metadata": {},
   "outputs": [],
   "source": [
    "#Create the new dataframe permit_tracts_missing by filtering 'permits_wip' on 'CENSUS_TRACT'==NaN\n",
    "permit_tracts_missing=tracts_all[tracts_all['CENSUS_TRACT'].isna()]"
   ]
  },
  {
   "cell_type": "code",
   "execution_count": 62,
   "metadata": {},
   "outputs": [],
   "source": [
    "permit_tracts_missing=permit_tracts_missing.reset_index(drop=True)"
   ]
  },
  {
   "cell_type": "code",
   "execution_count": 63,
   "metadata": {},
   "outputs": [
    {
     "data": {
      "text/html": [
       "<div>\n",
       "<style scoped>\n",
       "    .dataframe tbody tr th:only-of-type {\n",
       "        vertical-align: middle;\n",
       "    }\n",
       "\n",
       "    .dataframe tbody tr th {\n",
       "        vertical-align: top;\n",
       "    }\n",
       "\n",
       "    .dataframe thead th {\n",
       "        text-align: right;\n",
       "    }\n",
       "</style>\n",
       "<table border=\"1\" class=\"dataframe\">\n",
       "  <thead>\n",
       "    <tr style=\"text-align: right;\">\n",
       "      <th></th>\n",
       "      <th>ID</th>\n",
       "      <th>CENSUS_TRACT</th>\n",
       "      <th>STREET_NAME</th>\n",
       "      <th>STREET DIRECTION</th>\n",
       "      <th>STREET_NUMBER</th>\n",
       "      <th>SUFFIX</th>\n",
       "      <th>LATITUDE</th>\n",
       "      <th>LONGITUDE</th>\n",
       "    </tr>\n",
       "  </thead>\n",
       "  <tbody>\n",
       "    <tr>\n",
       "      <th>16443</th>\n",
       "      <td>1739070</td>\n",
       "      <td>NaN</td>\n",
       "      <td>GRANVILLE</td>\n",
       "      <td>W</td>\n",
       "      <td>1543</td>\n",
       "      <td>AVE</td>\n",
       "      <td>41.994336</td>\n",
       "      <td>-87.669425</td>\n",
       "    </tr>\n",
       "  </tbody>\n",
       "</table>\n",
       "</div>"
      ],
      "text/plain": [
       "            ID  CENSUS_TRACT STREET_NAME STREET DIRECTION  STREET_NUMBER  \\\n",
       "16443  1739070           NaN   GRANVILLE                W           1543   \n",
       "\n",
       "      SUFFIX   LATITUDE  LONGITUDE  \n",
       "16443    AVE  41.994336 -87.669425  "
      ]
     },
     "execution_count": 63,
     "metadata": {},
     "output_type": "execute_result"
    }
   ],
   "source": [
    "permit_tracts_missing.sample()"
   ]
  },
  {
   "cell_type": "code",
   "execution_count": 64,
   "metadata": {},
   "outputs": [
    {
     "name": "stdout",
     "output_type": "stream",
     "text": [
      "Currently there are 59751 rows(applications) that do not have a value for Census_tract. This is too many to query census_tract using the geocoder\n"
     ]
    }
   ],
   "source": [
    "print(f\"Currently there are {permit_tracts_missing.groupby(['LATITUDE','LONGITUDE']).size().shape[0]} rows(applications) that do not have a value for Census_tract. This is too many to query census_tract using the geocoder\")"
   ]
  },
  {
   "cell_type": "code",
   "execution_count": 65,
   "metadata": {},
   "outputs": [],
   "source": [
    "permit_tracts_missing[['LATITUDE_REF','LONGITUDE_REF']]=permit_tracts_missing[['LATITUDE','LONGITUDE']].apply(lambda x: round(x,3))"
   ]
  },
  {
   "cell_type": "code",
   "execution_count": 66,
   "metadata": {},
   "outputs": [
    {
     "name": "stdout",
     "output_type": "stream",
     "text": [
      "Rounding to 3 decimal points still leaves us with 29164 rows(applications)\n"
     ]
    }
   ],
   "source": [
    "print(f\"Rounding to 3 decimal points still leaves us with {permit_tracts_missing.groupby(['LATITUDE_REF','LONGITUDE_REF']).size().shape[0]} rows(applications)\")"
   ]
  },
  {
   "cell_type": "code",
   "execution_count": 67,
   "metadata": {},
   "outputs": [],
   "source": [
    "missing_ID=[]"
   ]
  },
  {
   "cell_type": "code",
   "execution_count": 68,
   "metadata": {},
   "outputs": [],
   "source": [
    "[missing_ID.append(i) for i in set(permit_tracts_missing[permit_tracts_missing['LATITUDE'].isna()]['ID'])];"
   ]
  },
  {
   "cell_type": "code",
   "execution_count": 69,
   "metadata": {},
   "outputs": [],
   "source": [
    "#before running the query we need to drop the missing values & let's only select the columns that we actually need\n",
    "permit_tracts_missing_coord=permit_tracts_missing[~permit_tracts_missing['LATITUDE'].isna()][['ID','LATITUDE','LONGITUDE','LATITUDE_REF','LONGITUDE_REF']]"
   ]
  },
  {
   "cell_type": "code",
   "execution_count": 70,
   "metadata": {},
   "outputs": [
    {
     "data": {
      "text/html": [
       "<div>\n",
       "<style scoped>\n",
       "    .dataframe tbody tr th:only-of-type {\n",
       "        vertical-align: middle;\n",
       "    }\n",
       "\n",
       "    .dataframe tbody tr th {\n",
       "        vertical-align: top;\n",
       "    }\n",
       "\n",
       "    .dataframe thead th {\n",
       "        text-align: right;\n",
       "    }\n",
       "</style>\n",
       "<table border=\"1\" class=\"dataframe\">\n",
       "  <thead>\n",
       "    <tr style=\"text-align: right;\">\n",
       "      <th></th>\n",
       "      <th>ID</th>\n",
       "      <th>LATITUDE</th>\n",
       "      <th>LONGITUDE</th>\n",
       "      <th>LATITUDE_REF</th>\n",
       "      <th>LONGITUDE_REF</th>\n",
       "    </tr>\n",
       "  </thead>\n",
       "  <tbody>\n",
       "    <tr>\n",
       "      <th>77319</th>\n",
       "      <td>1657002</td>\n",
       "      <td>41.98418</td>\n",
       "      <td>-87.781791</td>\n",
       "      <td>41.984</td>\n",
       "      <td>-87.782</td>\n",
       "    </tr>\n",
       "  </tbody>\n",
       "</table>\n",
       "</div>"
      ],
      "text/plain": [
       "            ID  LATITUDE  LONGITUDE  LATITUDE_REF  LONGITUDE_REF\n",
       "77319  1657002  41.98418 -87.781791        41.984        -87.782"
      ]
     },
     "execution_count": 70,
     "metadata": {},
     "output_type": "execute_result"
    }
   ],
   "source": [
    "permit_tracts_missing_coord.sample()"
   ]
  },
  {
   "cell_type": "code",
   "execution_count": 71,
   "metadata": {},
   "outputs": [
    {
     "data": {
      "text/plain": [
       "\"tracts_missing_new=[(cg.coordinates(x=row['LONGITUDE_RND'],y=row['LATITUDE_RND']))['Census Tracts'][0]['TRACT'] for i,row in permit_tracts_missing_coord[:100].iterrows()]\""
      ]
     },
     "execution_count": 71,
     "metadata": {},
     "output_type": "execute_result"
    }
   ],
   "source": [
    "'''tracts_missing_new=[(cg.coordinates(x=row['LONGITUDE_RND'],y=row['LATITUDE_RND']))['Census Tracts'][0]['TRACT'] for i,row in permit_tracts_missing_coord[:100].iterrows()]'''"
   ]
  },
  {
   "cell_type": "code",
   "execution_count": 72,
   "metadata": {},
   "outputs": [],
   "source": [
    "#filling in the missing values for 100 rows took 1 min. Hence, we need to reduce the number of rows. Currently, the query would take 29164/100 -> 291 minutes"
   ]
  },
  {
   "cell_type": "code",
   "execution_count": 73,
   "metadata": {},
   "outputs": [
    {
     "data": {
      "text/plain": [
       "(3530,)"
      ]
     },
     "execution_count": 73,
     "metadata": {},
     "output_type": "execute_result"
    }
   ],
   "source": [
    "permit_tracts_missing_coord[['LATITUDE_REF','LONGITUDE_REF']]=permit_tracts_missing_coord[['LATITUDE','LONGITUDE']].apply(lambda x: round(x/4,3))\n",
    "permit_tracts_missing_coord.groupby(['LATITUDE_REF','LONGITUDE_REF']).size().shape"
   ]
  },
  {
   "cell_type": "code",
   "execution_count": 74,
   "metadata": {},
   "outputs": [
    {
     "data": {
      "text/html": [
       "<div>\n",
       "<style scoped>\n",
       "    .dataframe tbody tr th:only-of-type {\n",
       "        vertical-align: middle;\n",
       "    }\n",
       "\n",
       "    .dataframe tbody tr th {\n",
       "        vertical-align: top;\n",
       "    }\n",
       "\n",
       "    .dataframe thead th {\n",
       "        text-align: right;\n",
       "    }\n",
       "</style>\n",
       "<table border=\"1\" class=\"dataframe\">\n",
       "  <thead>\n",
       "    <tr style=\"text-align: right;\">\n",
       "      <th></th>\n",
       "      <th>LATITUDE_REF</th>\n",
       "      <th>LONGITUDE_REF</th>\n",
       "      <th>LATITUDE</th>\n",
       "      <th>LONGITUDE</th>\n",
       "    </tr>\n",
       "  </thead>\n",
       "  <tbody>\n",
       "    <tr>\n",
       "      <th>1502</th>\n",
       "      <td>10.452</td>\n",
       "      <td>-21.913</td>\n",
       "      <td>41.807127</td>\n",
       "      <td>-87.651822</td>\n",
       "    </tr>\n",
       "    <tr>\n",
       "      <th>2086</th>\n",
       "      <td>10.470</td>\n",
       "      <td>-21.933</td>\n",
       "      <td>41.879811</td>\n",
       "      <td>-87.732038</td>\n",
       "    </tr>\n",
       "  </tbody>\n",
       "</table>\n",
       "</div>"
      ],
      "text/plain": [
       "      LATITUDE_REF  LONGITUDE_REF   LATITUDE  LONGITUDE\n",
       "1502        10.452        -21.913  41.807127 -87.651822\n",
       "2086        10.470        -21.933  41.879811 -87.732038"
      ]
     },
     "execution_count": 74,
     "metadata": {},
     "output_type": "execute_result"
    }
   ],
   "source": [
    "coord_pairs=permit_tracts_missing_coord.groupby(['LATITUDE_REF','LONGITUDE_REF']).mean().reset_index().drop(columns='ID')\n",
    "coord_pairs.sample(2)"
   ]
  },
  {
   "cell_type": "code",
   "execution_count": 75,
   "metadata": {},
   "outputs": [
    {
     "data": {
      "text/html": [
       "<div>\n",
       "<style scoped>\n",
       "    .dataframe tbody tr th:only-of-type {\n",
       "        vertical-align: middle;\n",
       "    }\n",
       "\n",
       "    .dataframe tbody tr th {\n",
       "        vertical-align: top;\n",
       "    }\n",
       "\n",
       "    .dataframe thead th {\n",
       "        text-align: right;\n",
       "    }\n",
       "</style>\n",
       "<table border=\"1\" class=\"dataframe\">\n",
       "  <thead>\n",
       "    <tr style=\"text-align: right;\">\n",
       "      <th></th>\n",
       "      <th>LATITUDE_REF</th>\n",
       "      <th>LONGITUDE_REF</th>\n",
       "      <th>LATITUDE</th>\n",
       "      <th>LONGITUDE</th>\n",
       "    </tr>\n",
       "  </thead>\n",
       "  <tbody>\n",
       "    <tr>\n",
       "      <th>1908</th>\n",
       "      <td>10.465</td>\n",
       "      <td>-21.914</td>\n",
       "      <td>41.859880</td>\n",
       "      <td>-87.655852</td>\n",
       "    </tr>\n",
       "    <tr>\n",
       "      <th>1484</th>\n",
       "      <td>10.452</td>\n",
       "      <td>-21.932</td>\n",
       "      <td>41.807937</td>\n",
       "      <td>-87.728074</td>\n",
       "    </tr>\n",
       "  </tbody>\n",
       "</table>\n",
       "</div>"
      ],
      "text/plain": [
       "      LATITUDE_REF  LONGITUDE_REF   LATITUDE  LONGITUDE\n",
       "1908        10.465        -21.914  41.859880 -87.655852\n",
       "1484        10.452        -21.932  41.807937 -87.728074"
      ]
     },
     "execution_count": 75,
     "metadata": {},
     "output_type": "execute_result"
    }
   ],
   "source": [
    "coord_pairs.sample(2)"
   ]
  },
  {
   "cell_type": "code",
   "execution_count": 76,
   "metadata": {},
   "outputs": [],
   "source": [
    "coord_pairs['REF']= [str(row['LATITUDE_REF'])+', '+str(row['LONGITUDE_REF'])for i,row in coord_pairs.iterrows()]"
   ]
  },
  {
   "cell_type": "code",
   "execution_count": 77,
   "metadata": {},
   "outputs": [
    {
     "data": {
      "text/html": [
       "<div>\n",
       "<style scoped>\n",
       "    .dataframe tbody tr th:only-of-type {\n",
       "        vertical-align: middle;\n",
       "    }\n",
       "\n",
       "    .dataframe tbody tr th {\n",
       "        vertical-align: top;\n",
       "    }\n",
       "\n",
       "    .dataframe thead th {\n",
       "        text-align: right;\n",
       "    }\n",
       "</style>\n",
       "<table border=\"1\" class=\"dataframe\">\n",
       "  <thead>\n",
       "    <tr style=\"text-align: right;\">\n",
       "      <th></th>\n",
       "      <th>LATITUDE_REF</th>\n",
       "      <th>LONGITUDE_REF</th>\n",
       "      <th>LATITUDE</th>\n",
       "      <th>LONGITUDE</th>\n",
       "      <th>REF</th>\n",
       "    </tr>\n",
       "  </thead>\n",
       "  <tbody>\n",
       "    <tr>\n",
       "      <th>3525</th>\n",
       "      <td>10.505</td>\n",
       "      <td>-21.916</td>\n",
       "      <td>42.018751</td>\n",
       "      <td>-87.665456</td>\n",
       "      <td>10.505, -21.916</td>\n",
       "    </tr>\n",
       "    <tr>\n",
       "      <th>3526</th>\n",
       "      <td>10.506</td>\n",
       "      <td>-21.919</td>\n",
       "      <td>42.022447</td>\n",
       "      <td>-87.674689</td>\n",
       "      <td>10.506, -21.919</td>\n",
       "    </tr>\n",
       "    <tr>\n",
       "      <th>3527</th>\n",
       "      <td>10.506</td>\n",
       "      <td>-21.918</td>\n",
       "      <td>42.022516</td>\n",
       "      <td>-87.671990</td>\n",
       "      <td>10.506, -21.918</td>\n",
       "    </tr>\n",
       "    <tr>\n",
       "      <th>3528</th>\n",
       "      <td>10.506</td>\n",
       "      <td>-21.917</td>\n",
       "      <td>42.022256</td>\n",
       "      <td>-87.668178</td>\n",
       "      <td>10.506, -21.917</td>\n",
       "    </tr>\n",
       "    <tr>\n",
       "      <th>3529</th>\n",
       "      <td>10.506</td>\n",
       "      <td>-21.916</td>\n",
       "      <td>42.022286</td>\n",
       "      <td>-87.665795</td>\n",
       "      <td>10.506, -21.916</td>\n",
       "    </tr>\n",
       "  </tbody>\n",
       "</table>\n",
       "</div>"
      ],
      "text/plain": [
       "      LATITUDE_REF  LONGITUDE_REF   LATITUDE  LONGITUDE              REF\n",
       "3525        10.505        -21.916  42.018751 -87.665456  10.505, -21.916\n",
       "3526        10.506        -21.919  42.022447 -87.674689  10.506, -21.919\n",
       "3527        10.506        -21.918  42.022516 -87.671990  10.506, -21.918\n",
       "3528        10.506        -21.917  42.022256 -87.668178  10.506, -21.917\n",
       "3529        10.506        -21.916  42.022286 -87.665795  10.506, -21.916"
      ]
     },
     "execution_count": 77,
     "metadata": {},
     "output_type": "execute_result"
    }
   ],
   "source": [
    "coord_pairs.tail()"
   ]
  },
  {
   "attachments": {},
   "cell_type": "markdown",
   "metadata": {},
   "source": [
    "Creating a dictionary with REF: correct census tract"
   ]
  },
  {
   "cell_type": "code",
   "execution_count": 78,
   "metadata": {},
   "outputs": [],
   "source": [
    "'''tracts_missing_coord_pairs={row['REF']:(cg.coordinates(x=row['LONGITUDE'],y=row['LATITUDE']))['Census Tracts'][0]['TRACT'] for i,row in coord_pairs.iterrows()}''';\n",
    "#this cell takes 31m to run the output was saved and can be downloaded directly;"
   ]
  },
  {
   "cell_type": "code",
   "execution_count": 79,
   "metadata": {},
   "outputs": [],
   "source": [
    "def coord_ref(lat,lon):\n",
    "    coord_ref_li=[]\n",
    "    for (j,i) in zip(lat,lon):\n",
    "        ref=str(round(lat/4,3))+', '+str(round(lon/4,3))\n",
    "        coord_ref_li.append(ref)"
   ]
  },
  {
   "cell_type": "code",
   "execution_count": 80,
   "metadata": {},
   "outputs": [
    {
     "data": {
      "text/plain": [
       "'# load csv module\\nimport csv\\n\\n# open file for writing, \"w\" is writing\\nw = csv.writer(open(\"../data/interim/di_part2.csv\", \"w\"))\\nw.writerow([\\'REF\\', \\'Census_Tract_Match\\'])\\n\\n# loop over dictionary keys and values\\nfor key, val in tracts_missing_coord_pairs.items():\\n    # write every key and value to file\\n    w.writerow([key, val])'"
      ]
     },
     "execution_count": 80,
     "metadata": {},
     "output_type": "execute_result"
    }
   ],
   "source": [
    "'''# load csv module\n",
    "import csv\n",
    "\n",
    "# open file for writing, \"w\" is writing\n",
    "w = csv.writer(open(\"../data/interim/di_part2.csv\", \"w\"))\n",
    "w.writerow(['REF', 'Census_Tract_Match'])\n",
    "\n",
    "# loop over dictionary keys and values\n",
    "for key, val in tracts_missing_coord_pairs.items():\n",
    "    # write every key and value to file\n",
    "    w.writerow([key, val])'''"
   ]
  },
  {
   "cell_type": "code",
   "execution_count": 81,
   "metadata": {},
   "outputs": [],
   "source": [
    "tracts_missing_coord_pairs=pd.read_csv('../data/interim/di_part2.csv')"
   ]
  },
  {
   "cell_type": "code",
   "execution_count": 82,
   "metadata": {},
   "outputs": [
    {
     "data": {
      "text/plain": [
       "[]"
      ]
     },
     "execution_count": 82,
     "metadata": {},
     "output_type": "execute_result"
    }
   ],
   "source": [
    "[i for i in list(tracts_missing_coord_pairs['Census_Tract_Match']) if int(i) not in check]"
   ]
  },
  {
   "attachments": {},
   "cell_type": "markdown",
   "metadata": {},
   "source": [
    "# **PART 3**"
   ]
  },
  {
   "cell_type": "code",
   "execution_count": 83,
   "metadata": {},
   "outputs": [
    {
     "data": {
      "text/html": [
       "<div>\n",
       "<style scoped>\n",
       "    .dataframe tbody tr th:only-of-type {\n",
       "        vertical-align: middle;\n",
       "    }\n",
       "\n",
       "    .dataframe tbody tr th {\n",
       "        vertical-align: top;\n",
       "    }\n",
       "\n",
       "    .dataframe thead th {\n",
       "        text-align: right;\n",
       "    }\n",
       "</style>\n",
       "<table border=\"1\" class=\"dataframe\">\n",
       "  <thead>\n",
       "    <tr style=\"text-align: right;\">\n",
       "      <th></th>\n",
       "      <th>STREET_NAME</th>\n",
       "      <th>SUFFIX</th>\n",
       "      <th>STREET DIRECTION</th>\n",
       "      <th>STREET_NUMBER</th>\n",
       "    </tr>\n",
       "  </thead>\n",
       "  <tbody>\n",
       "    <tr>\n",
       "      <th>20</th>\n",
       "      <td>COTTAGE GROVE</td>\n",
       "      <td>AVE</td>\n",
       "      <td>S</td>\n",
       "      <td>6349</td>\n",
       "    </tr>\n",
       "    <tr>\n",
       "      <th>325</th>\n",
       "      <td>BESSIE COLEMAN</td>\n",
       "      <td>DR</td>\n",
       "      <td>N</td>\n",
       "      <td>10000</td>\n",
       "    </tr>\n",
       "    <tr>\n",
       "      <th>399</th>\n",
       "      <td>HERMITAGE</td>\n",
       "      <td>AVE</td>\n",
       "      <td>N</td>\n",
       "      <td>7535</td>\n",
       "    </tr>\n",
       "    <tr>\n",
       "      <th>9048</th>\n",
       "      <td>CULLERTON</td>\n",
       "      <td>ST</td>\n",
       "      <td>W</td>\n",
       "      <td>248</td>\n",
       "    </tr>\n",
       "    <tr>\n",
       "      <th>31494</th>\n",
       "      <td>SACRAMENTO</td>\n",
       "      <td>AVE</td>\n",
       "      <td>S</td>\n",
       "      <td>1901</td>\n",
       "    </tr>\n",
       "    <tr>\n",
       "      <th>...</th>\n",
       "      <td>...</td>\n",
       "      <td>...</td>\n",
       "      <td>...</td>\n",
       "      <td>...</td>\n",
       "    </tr>\n",
       "    <tr>\n",
       "      <th>108567</th>\n",
       "      <td>BESSIE COLEMAN</td>\n",
       "      <td>DR</td>\n",
       "      <td>N</td>\n",
       "      <td>10000</td>\n",
       "    </tr>\n",
       "    <tr>\n",
       "      <th>108579</th>\n",
       "      <td>CHESTNUT</td>\n",
       "      <td>ST</td>\n",
       "      <td>W</td>\n",
       "      <td>1223</td>\n",
       "    </tr>\n",
       "    <tr>\n",
       "      <th>108706</th>\n",
       "      <td>BESSIE COLEMAN</td>\n",
       "      <td>DR</td>\n",
       "      <td>N</td>\n",
       "      <td>10000</td>\n",
       "    </tr>\n",
       "    <tr>\n",
       "      <th>108955</th>\n",
       "      <td>BESSIE COLEMAN</td>\n",
       "      <td>DR</td>\n",
       "      <td>N</td>\n",
       "      <td>10000</td>\n",
       "    </tr>\n",
       "    <tr>\n",
       "      <th>108991</th>\n",
       "      <td>BESSIE COLEMAN</td>\n",
       "      <td>DR</td>\n",
       "      <td>N</td>\n",
       "      <td>10000</td>\n",
       "    </tr>\n",
       "  </tbody>\n",
       "</table>\n",
       "<p>566 rows × 4 columns</p>\n",
       "</div>"
      ],
      "text/plain": [
       "           STREET_NAME SUFFIX STREET DIRECTION  STREET_NUMBER\n",
       "20       COTTAGE GROVE    AVE                S           6349\n",
       "325     BESSIE COLEMAN     DR                N          10000\n",
       "399          HERMITAGE    AVE                N           7535\n",
       "9048         CULLERTON     ST                W            248\n",
       "31494       SACRAMENTO    AVE                S           1901\n",
       "...                ...    ...              ...            ...\n",
       "108567  BESSIE COLEMAN     DR                N          10000\n",
       "108579        CHESTNUT     ST                W           1223\n",
       "108706  BESSIE COLEMAN     DR                N          10000\n",
       "108955  BESSIE COLEMAN     DR                N          10000\n",
       "108991  BESSIE COLEMAN     DR                N          10000\n",
       "\n",
       "[566 rows x 4 columns]"
      ]
     },
     "execution_count": 83,
     "metadata": {},
     "output_type": "execute_result"
    }
   ],
   "source": [
    "permit_tracts_missing_no_cord=permit_tracts_missing[permit_tracts_missing['LATITUDE'].isna()][['STREET_NAME','SUFFIX','STREET DIRECTION','STREET_NUMBER']]\n",
    "permit_tracts_missing_no_cord"
   ]
  },
  {
   "attachments": {},
   "cell_type": "markdown",
   "metadata": {},
   "source": [
    "566 rows are missing Census Tract Numbers as well as Lat & Lon Values"
   ]
  },
  {
   "cell_type": "code",
   "execution_count": 84,
   "metadata": {},
   "outputs": [
    {
     "name": "stdout",
     "output_type": "stream",
     "text": [
      "353\n"
     ]
    }
   ],
   "source": [
    "print(permit_tracts_missing_no_cord.duplicated().sum())\n",
    "permit_tracts_missing_no_cord=permit_tracts_missing_no_cord.drop_duplicates()"
   ]
  },
  {
   "attachments": {},
   "cell_type": "markdown",
   "metadata": {},
   "source": [
    "Out of 566 rows, 353 are duplicates"
   ]
  },
  {
   "cell_type": "code",
   "execution_count": 85,
   "metadata": {},
   "outputs": [],
   "source": [
    "permit_tracts_missing_no_cord=permit_tracts_missing_no_cord.drop_duplicates()"
   ]
  },
  {
   "cell_type": "code",
   "execution_count": 86,
   "metadata": {},
   "outputs": [
    {
     "data": {
      "text/plain": [
       "213"
      ]
     },
     "execution_count": 86,
     "metadata": {},
     "output_type": "execute_result"
    }
   ],
   "source": [
    "len(permit_tracts_missing_no_cord)"
   ]
  },
  {
   "attachments": {},
   "cell_type": "markdown",
   "metadata": {},
   "source": [
    "213 are unique and these are the address combinations that we want to find the census tracts for"
   ]
  },
  {
   "cell_type": "code",
   "execution_count": 87,
   "metadata": {},
   "outputs": [],
   "source": [
    "#How to reform the columns for the geocoder imput\n",
    "permit_tracts_missing_no_cord['ADDRESS_REF']=permit_tracts_missing_no_cord['STREET_NUMBER'].astype('str')+' '+permit_tracts_missing_no_cord['STREET DIRECTION'].astype('str')+' '+\\\n",
    "    permit_tracts_missing_no_cord['STREET_NAME'].astype('str')+' '+permit_tracts_missing_no_cord['SUFFIX'].astype('str')"
   ]
  },
  {
   "cell_type": "code",
   "execution_count": 88,
   "metadata": {},
   "outputs": [
    {
     "data": {
      "text/html": [
       "<div>\n",
       "<style scoped>\n",
       "    .dataframe tbody tr th:only-of-type {\n",
       "        vertical-align: middle;\n",
       "    }\n",
       "\n",
       "    .dataframe tbody tr th {\n",
       "        vertical-align: top;\n",
       "    }\n",
       "\n",
       "    .dataframe thead th {\n",
       "        text-align: right;\n",
       "    }\n",
       "</style>\n",
       "<table border=\"1\" class=\"dataframe\">\n",
       "  <thead>\n",
       "    <tr style=\"text-align: right;\">\n",
       "      <th></th>\n",
       "      <th>STREET_NAME</th>\n",
       "      <th>SUFFIX</th>\n",
       "      <th>STREET DIRECTION</th>\n",
       "      <th>STREET_NUMBER</th>\n",
       "      <th>ADDRESS_REF</th>\n",
       "    </tr>\n",
       "  </thead>\n",
       "  <tbody>\n",
       "    <tr>\n",
       "      <th>103017</th>\n",
       "      <td>66TH</td>\n",
       "      <td>PL</td>\n",
       "      <td>W</td>\n",
       "      <td>6216</td>\n",
       "      <td>6216 W 66TH PL</td>\n",
       "    </tr>\n",
       "  </tbody>\n",
       "</table>\n",
       "</div>"
      ],
      "text/plain": [
       "       STREET_NAME SUFFIX STREET DIRECTION  STREET_NUMBER     ADDRESS_REF\n",
       "103017        66TH     PL                W           6216  6216 W 66TH PL"
      ]
     },
     "execution_count": 88,
     "metadata": {},
     "output_type": "execute_result"
    }
   ],
   "source": [
    "permit_tracts_missing_no_cord.sample()"
   ]
  },
  {
   "cell_type": "code",
   "execution_count": 89,
   "metadata": {},
   "outputs": [],
   "source": [
    "census_tracts_part3={}\n",
    "missing_addresses={}\n",
    "for address in permit_tracts_missing_no_cord['ADDRESS_REF']:\n",
    "    t=cg.address(address, city='Chicago', state='IL')\n",
    "    if t:\n",
    "        census_tracts_part3[address]=t[0]['geographies']['Census Tracts'][0]['TRACT']\n",
    "    else:\n",
    "        missing_addresses[address]=t"
   ]
  },
  {
   "cell_type": "code",
   "execution_count": null,
   "metadata": {},
   "outputs": [],
   "source": [
    "'''cg.address('1550 S THROOP ST', city='Chicago', state='IL')[0]['geographies']['Census Tracts'][0]['TRACT']''';"
   ]
  },
  {
   "cell_type": "code",
   "execution_count": null,
   "metadata": {},
   "outputs": [],
   "source": [
    "'''location=cg.address('1550 S THROOP ST', city='Chicago', state='IL',returntype='locations')\n",
    "cg.coordinates(x=location[0]['coordinates']['x'],y=location[0]['coordinates']['y'])['Census Tracts'][0]['TRACT']''';"
   ]
  },
  {
   "cell_type": "code",
   "execution_count": 91,
   "metadata": {},
   "outputs": [],
   "source": [
    "missing=[i for i in list(census_tracts_part3.values()) if int(i) not in check]\n",
    "missing\n",
    "#this is because 862901 is outside of Cook County\n",
    "#https://censusreporter.org/profiles/14000US17097862901-census-tract-862901-lake-il/;"
   ]
  },
  {
   "cell_type": "code",
   "execution_count": 93,
   "metadata": {},
   "outputs": [
    {
     "data": {
      "text/plain": [
       "'1215 W SHERIDAN RD'"
      ]
     },
     "execution_count": 93,
     "metadata": {},
     "output_type": "execute_result"
    }
   ],
   "source": [
    "wrong_address=[key for key in census_tracts_part3 if census_tracts_part3[key]=='862901'][len(missing)-1]\n",
    "wrong_address"
   ]
  },
  {
   "cell_type": "code",
   "execution_count": 94,
   "metadata": {},
   "outputs": [],
   "source": [
    "del census_tracts_part3[wrong_address]\n",
    "len(census_tracts_part3)"
   ]
  },
  {
   "cell_type": "code",
   "execution_count": 103,
   "metadata": {},
   "outputs": [],
   "source": [
    "part3_add_di={'10000 N BESSIE COLEMAN DR': [41.9744188,-87.892622],\n",
    " '1901 S SACRAMENTO AVE': [41.8554961,-87.6992071],\n",
    " '2324 N FREMONT ST': [41.9244996,-87.6534804],\n",
    " '12900 S METRON DR': [41.6625611,-87.5883168],\n",
    " '6500 S MICHIGAN AVE': [41.774537,-87.6252669],\n",
    " '1223 W CHESTNUT ST': [41.8979353,-87.6606072],\n",
    " '404 W MERCHANDISE MART PLZ': [41.8879948,-87.6385347],\n",
    " '10000 W OHARE ST': [41.9790169,-87.9087582],\n",
    " '444 W MERCHANDISE MART PLZ': [41.8879948,-87.6385347],\n",
    " '5400 S DR MARTIN L KING JR DR': [41.7963736,-87.6185842],\n",
    " '1902 S SACRAMENTO AVE': [41.8516478,-87.7026112],\n",
    " '222 N RIVERSIDE PLZ': [41.8848886,-87.6398917],\n",
    " '11061 W TOUHY AVE': [42.0113822,-87.8221779],\n",
    " '10700 S OGLESBY AVE': [41.7018567,-87.5678331],\n",
    " '9525 W BRYN MAWR AVE': [41.9804602,-87.8600796],\n",
    " '4100 W 71ST ST': [41.751877,-87.6725605],\n",
    " '1160 W TOUHY AVE': [42.0083279,-87.9415539],\n",
    " '3232 E CHELTENHAM DR': [41.7540108,-87.5509272],\n",
    " '1048 W MERCHANDISE MART PLZ': [41.8879882,-87.6374229],\n",
    " '200 N WACKER DR': [41.8856911,-87.6398546],\n",
    " '600 W MONTROSE HARBOR DR': [41.9628527,-87.6365966],\n",
    " '820 W POLK ST': [41.8719809,-87.6491222],\n",
    " '300 N RIVERSIDE PLZ': [41.8854109,-87.6410865],\n",
    " '9929 S AVENUE N nan': [41.7182278,-87.5410035],\n",
    " '1400 W 32ND ST': [41.836034,-87.6636717],\n",
    " '4401 N LAKE SHORE DR': [41.9546256,-87.6474362],\n",
    " '111601 W TOUHY AVE': [42.0116941,-87.8046477],\n",
    " '400 E WALDRON DR': [41.8603206,-87.6195214],\n",
    " '9177 W CHICAGO AVE': [41.8945072,-87.777267],\n",
    " '1440 N SACRAMENTO AVE': [41.8964216,-87.7015229],\n",
    " '8600 S GREEN BAY AVE': [41.7047451,-87.5397905],\n",
    " '1215 W SHERIDAN RD':[41.9982024,-87.6626523]}"
   ]
  },
  {
   "cell_type": "code",
   "execution_count": 104,
   "metadata": {},
   "outputs": [],
   "source": [
    "part3_add2_di={k:(cg.coordinates(x=v[1],y=v[0]))['Census Tracts'][0]['TRACT'] for (k,v) in part3_add_di.items()}\n",
    "#this is a list with census tracts generated based on latitude & longitude for Permit Census Tracts that did not match Income Census Tracts"
   ]
  },
  {
   "cell_type": "code",
   "execution_count": 105,
   "metadata": {},
   "outputs": [],
   "source": [
    "census_tracts_part3.update(part3_add2_di)"
   ]
  },
  {
   "cell_type": "code",
   "execution_count": 106,
   "metadata": {},
   "outputs": [
    {
     "data": {
      "text/plain": [
       "213"
      ]
     },
     "execution_count": 106,
     "metadata": {},
     "output_type": "execute_result"
    }
   ],
   "source": [
    "len(census_tracts_part3)"
   ]
  },
  {
   "cell_type": "code",
   "execution_count": 107,
   "metadata": {},
   "outputs": [
    {
     "data": {
      "text/plain": [
       "[]"
      ]
     },
     "execution_count": 107,
     "metadata": {},
     "output_type": "execute_result"
    }
   ],
   "source": [
    "[i for i in census_tracts_part3.values() if int(i) not in check]"
   ]
  },
  {
   "cell_type": "code",
   "execution_count": 115,
   "metadata": {},
   "outputs": [],
   "source": [
    "# load csv module\n",
    "import csv\n",
    "\n",
    "# open file for writing, \"w\" is writing\n",
    "w = csv.writer(open(\"../data/interim/di_part3.csv\", \"w\"))\n",
    "w.writerow(['Adress', 'Census_Tract_Match'])\n",
    "\n",
    "# loop over dictionary keys and values\n",
    "for key, val in census_tracts_part3.items():\n",
    "    # write every key and value to file\n",
    "    w.writerow([key, val])"
   ]
  },
  {
   "attachments": {},
   "cell_type": "markdown",
   "metadata": {},
   "source": [
    "****"
   ]
  },
  {
   "cell_type": "code",
   "execution_count": 109,
   "metadata": {},
   "outputs": [],
   "source": [
    "part1_df=pd.read_csv('../data/interim/di_part1.csv')"
   ]
  },
  {
   "cell_type": "code",
   "execution_count": 110,
   "metadata": {},
   "outputs": [
    {
     "data": {
      "text/html": [
       "<div>\n",
       "<style scoped>\n",
       "    .dataframe tbody tr th:only-of-type {\n",
       "        vertical-align: middle;\n",
       "    }\n",
       "\n",
       "    .dataframe tbody tr th {\n",
       "        vertical-align: top;\n",
       "    }\n",
       "\n",
       "    .dataframe thead th {\n",
       "        text-align: right;\n",
       "    }\n",
       "</style>\n",
       "<table border=\"1\" class=\"dataframe\">\n",
       "  <thead>\n",
       "    <tr style=\"text-align: right;\">\n",
       "      <th></th>\n",
       "      <th>REF</th>\n",
       "      <th>Census_Tract_Match</th>\n",
       "    </tr>\n",
       "  </thead>\n",
       "  <tbody>\n",
       "    <tr>\n",
       "      <th>90</th>\n",
       "      <td>1404.0</td>\n",
       "      <td>140400</td>\n",
       "    </tr>\n",
       "  </tbody>\n",
       "</table>\n",
       "</div>"
      ],
      "text/plain": [
       "       REF  Census_Tract_Match\n",
       "90  1404.0              140400"
      ]
     },
     "execution_count": 110,
     "metadata": {},
     "output_type": "execute_result"
    }
   ],
   "source": [
    "part1_df.sample()"
   ]
  },
  {
   "cell_type": "code",
   "execution_count": 111,
   "metadata": {},
   "outputs": [],
   "source": [
    "part2_df=pd.read_csv('../data/interim/di_part2.csv')"
   ]
  },
  {
   "cell_type": "code",
   "execution_count": 112,
   "metadata": {},
   "outputs": [
    {
     "data": {
      "text/html": [
       "<div>\n",
       "<style scoped>\n",
       "    .dataframe tbody tr th:only-of-type {\n",
       "        vertical-align: middle;\n",
       "    }\n",
       "\n",
       "    .dataframe tbody tr th {\n",
       "        vertical-align: top;\n",
       "    }\n",
       "\n",
       "    .dataframe thead th {\n",
       "        text-align: right;\n",
       "    }\n",
       "</style>\n",
       "<table border=\"1\" class=\"dataframe\">\n",
       "  <thead>\n",
       "    <tr style=\"text-align: right;\">\n",
       "      <th></th>\n",
       "      <th>REF</th>\n",
       "      <th>Census_Tract_Match</th>\n",
       "    </tr>\n",
       "  </thead>\n",
       "  <tbody>\n",
       "    <tr>\n",
       "      <th>1914</th>\n",
       "      <td>10.465, -21.908</td>\n",
       "      <td>330200</td>\n",
       "    </tr>\n",
       "  </tbody>\n",
       "</table>\n",
       "</div>"
      ],
      "text/plain": [
       "                  REF  Census_Tract_Match\n",
       "1914  10.465, -21.908              330200"
      ]
     },
     "execution_count": 112,
     "metadata": {},
     "output_type": "execute_result"
    }
   ],
   "source": [
    "part2_df.sample()"
   ]
  },
  {
   "cell_type": "code",
   "execution_count": 116,
   "metadata": {},
   "outputs": [],
   "source": [
    "part3_df=pd.read_csv('../data/interim/di_part3.csv')"
   ]
  },
  {
   "cell_type": "code",
   "execution_count": 117,
   "metadata": {},
   "outputs": [
    {
     "data": {
      "text/html": [
       "<div>\n",
       "<style scoped>\n",
       "    .dataframe tbody tr th:only-of-type {\n",
       "        vertical-align: middle;\n",
       "    }\n",
       "\n",
       "    .dataframe tbody tr th {\n",
       "        vertical-align: top;\n",
       "    }\n",
       "\n",
       "    .dataframe thead th {\n",
       "        text-align: right;\n",
       "    }\n",
       "</style>\n",
       "<table border=\"1\" class=\"dataframe\">\n",
       "  <thead>\n",
       "    <tr style=\"text-align: right;\">\n",
       "      <th></th>\n",
       "      <th>Adress</th>\n",
       "      <th>Census_Tract_Match</th>\n",
       "    </tr>\n",
       "  </thead>\n",
       "  <tbody>\n",
       "    <tr>\n",
       "      <th>106</th>\n",
       "      <td>2533 S CALIFORNIA AVE</td>\n",
       "      <td>301100</td>\n",
       "    </tr>\n",
       "  </tbody>\n",
       "</table>\n",
       "</div>"
      ],
      "text/plain": [
       "                    Adress  Census_Tract_Match\n",
       "106  2533 S CALIFORNIA AVE              301100"
      ]
     },
     "execution_count": 117,
     "metadata": {},
     "output_type": "execute_result"
    }
   ],
   "source": [
    "part3_df.sample()"
   ]
  },
  {
   "cell_type": "code",
   "execution_count": 120,
   "metadata": {},
   "outputs": [
    {
     "data": {
      "text/plain": [
       "1671"
      ]
     },
     "execution_count": 120,
     "metadata": {},
     "output_type": "execute_result"
    }
   ],
   "source": [
    "len(part1_df)"
   ]
  },
  {
   "cell_type": "code",
   "execution_count": 121,
   "metadata": {},
   "outputs": [
    {
     "data": {
      "text/plain": [
       "[]"
      ]
     },
     "execution_count": 121,
     "metadata": {},
     "output_type": "execute_result"
    }
   ],
   "source": [
    "[i for i in part1_df['Census_Tract_Match'] if int(i) not in check]"
   ]
  },
  {
   "cell_type": "code",
   "execution_count": 122,
   "metadata": {},
   "outputs": [
    {
     "data": {
      "text/plain": [
       "[]"
      ]
     },
     "execution_count": 122,
     "metadata": {},
     "output_type": "execute_result"
    }
   ],
   "source": [
    "[i for i in part2_df['Census_Tract_Match'] if int(i) not in check]"
   ]
  },
  {
   "cell_type": "code",
   "execution_count": 123,
   "metadata": {},
   "outputs": [
    {
     "data": {
      "text/plain": [
       "[]"
      ]
     },
     "execution_count": 123,
     "metadata": {},
     "output_type": "execute_result"
    }
   ],
   "source": [
    "[i for i in part3_df['Census_Tract_Match'] if int(i) not in check]"
   ]
  },
  {
   "cell_type": "code",
   "execution_count": 124,
   "metadata": {},
   "outputs": [],
   "source": [
    "tract_li=[]\n",
    "for df in [part1_df,part2_df,part3_df]:\n",
    "    for i in df['Census_Tract_Match']:\n",
    "        tract_li.append(i)\n",
    "tract_li=list(set(tract_li))"
   ]
  },
  {
   "cell_type": "code",
   "execution_count": 125,
   "metadata": {},
   "outputs": [
    {
     "data": {
      "text/plain": [
       "809"
      ]
     },
     "execution_count": 125,
     "metadata": {},
     "output_type": "execute_result"
    }
   ],
   "source": [
    "len(tract_li)"
   ]
  },
  {
   "cell_type": "code",
   "execution_count": 126,
   "metadata": {},
   "outputs": [
    {
     "data": {
      "text/plain": [
       "[]"
      ]
     },
     "execution_count": 126,
     "metadata": {},
     "output_type": "execute_result"
    }
   ],
   "source": [
    "[i for i in tract_li if int(i) not in check]"
   ]
  },
  {
   "cell_type": "code",
   "execution_count": 128,
   "metadata": {},
   "outputs": [],
   "source": [
    "np.savetxt('../data/interim/list.csv', tract_li, delimiter=',', fmt='%s')"
   ]
  },
  {
   "cell_type": "markdown",
   "metadata": {},
   "source": [
    "***"
   ]
  }
 ],
 "metadata": {
  "kernelspec": {
   "display_name": "capstone",
   "language": "python",
   "name": "capstone"
  },
  "language_info": {
   "codemirror_mode": {
    "name": "ipython",
    "version": 3
   },
   "file_extension": ".py",
   "mimetype": "text/x-python",
   "name": "python",
   "nbconvert_exporter": "python",
   "pygments_lexer": "ipython3",
   "version": "3.9.13"
  },
  "orig_nbformat": 4,
  "vscode": {
   "interpreter": {
    "hash": "a4ccad7f4245b41ef23b14c32aed64178d0c17e4b57b15c0d4f0def3d96d0932"
   }
  }
 },
 "nbformat": 4,
 "nbformat_minor": 2
}
