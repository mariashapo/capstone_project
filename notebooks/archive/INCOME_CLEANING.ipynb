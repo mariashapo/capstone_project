{
 "cells": [
  {
   "cell_type": "code",
   "execution_count": 425,
   "metadata": {},
   "outputs": [],
   "source": [
    "import pandas as pd\n",
    "import numpy as np\n",
    "import matplotlib.pyplot as plt"
   ]
  },
  {
   "attachments": {},
   "cell_type": "markdown",
   "metadata": {},
   "source": [
    "# Income 2021 \n",
    "### 5 Years Averge (2017,18,19,20,21)"
   ]
  },
  {
   "attachments": {},
   "cell_type": "markdown",
   "metadata": {},
   "source": [
    "***"
   ]
  },
  {
   "attachments": {},
   "cell_type": "markdown",
   "metadata": {},
   "source": [
    "**ACSST5Y2021.S1901**"
   ]
  },
  {
   "cell_type": "code",
   "execution_count": 426,
   "metadata": {},
   "outputs": [
    {
     "data": {
      "text/plain": [
       "(1333, 259)"
      ]
     },
     "execution_count": 426,
     "metadata": {},
     "output_type": "execute_result"
    }
   ],
   "source": [
    "income_2021_raw=pd.read_csv('../data/raw/ACSST5Y2021.S1901-Data.csv')\n",
    "income_2021_raw.shape"
   ]
  },
  {
   "cell_type": "code",
   "execution_count": 427,
   "metadata": {},
   "outputs": [
    {
     "data": {
      "text/html": [
       "<div>\n",
       "<style scoped>\n",
       "    .dataframe tbody tr th:only-of-type {\n",
       "        vertical-align: middle;\n",
       "    }\n",
       "\n",
       "    .dataframe tbody tr th {\n",
       "        vertical-align: top;\n",
       "    }\n",
       "\n",
       "    .dataframe thead th {\n",
       "        text-align: right;\n",
       "    }\n",
       "</style>\n",
       "<table border=\"1\" class=\"dataframe\">\n",
       "  <thead>\n",
       "    <tr style=\"text-align: right;\">\n",
       "      <th></th>\n",
       "      <th>GEO_ID</th>\n",
       "      <th>NAME</th>\n",
       "      <th>S1901_C01_001E</th>\n",
       "      <th>S1901_C01_001M</th>\n",
       "      <th>S1901_C01_001MA</th>\n",
       "      <th>S1901_C01_001EA</th>\n",
       "      <th>S1901_C01_002E</th>\n",
       "      <th>S1901_C01_002M</th>\n",
       "      <th>S1901_C01_002MA</th>\n",
       "      <th>S1901_C01_002EA</th>\n",
       "      <th>...</th>\n",
       "      <th>S1901_C04_014EA</th>\n",
       "      <th>S1901_C04_015E</th>\n",
       "      <th>S1901_C04_015M</th>\n",
       "      <th>S1901_C04_015MA</th>\n",
       "      <th>S1901_C04_015EA</th>\n",
       "      <th>S1901_C04_016E</th>\n",
       "      <th>S1901_C04_016EA</th>\n",
       "      <th>S1901_C04_016M</th>\n",
       "      <th>S1901_C04_016MA</th>\n",
       "      <th>Unnamed: 258</th>\n",
       "    </tr>\n",
       "  </thead>\n",
       "  <tbody>\n",
       "    <tr>\n",
       "      <th>0</th>\n",
       "      <td>Geography</td>\n",
       "      <td>Geographic Area Name</td>\n",
       "      <td>Estimate!!Households!!Total</td>\n",
       "      <td>Margin of Error!!Households!!Total</td>\n",
       "      <td>Annotation of Margin of Error!!Households!!Total</td>\n",
       "      <td>Annotation of Estimate!!Households!!Total</td>\n",
       "      <td>Estimate!!Households!!Total!!Less than $10,000</td>\n",
       "      <td>Margin of Error!!Households!!Total!!Less than ...</td>\n",
       "      <td>Annotation of Margin of Error!!Households!!Tot...</td>\n",
       "      <td>Annotation of Estimate!!Households!!Total!!Les...</td>\n",
       "      <td>...</td>\n",
       "      <td>Annotation of Estimate!!Nonfamily households!!...</td>\n",
       "      <td>Estimate!!Nonfamily households!!PERCENT ALLOCA...</td>\n",
       "      <td>Margin of Error!!Nonfamily households!!PERCENT...</td>\n",
       "      <td>Annotation of Margin of Error!!Nonfamily house...</td>\n",
       "      <td>Annotation of Estimate!!Nonfamily households!!...</td>\n",
       "      <td>Estimate!!Nonfamily households!!PERCENT ALLOCA...</td>\n",
       "      <td>Annotation of Estimate!!Nonfamily households!!...</td>\n",
       "      <td>Margin of Error!!Nonfamily households!!PERCENT...</td>\n",
       "      <td>Annotation of Margin of Error!!Nonfamily house...</td>\n",
       "      <td>NaN</td>\n",
       "    </tr>\n",
       "    <tr>\n",
       "      <th>1</th>\n",
       "      <td>1400000US17031010100</td>\n",
       "      <td>Census Tract 101, Cook County, Illinois</td>\n",
       "      <td>2411</td>\n",
       "      <td>306</td>\n",
       "      <td>NaN</td>\n",
       "      <td>NaN</td>\n",
       "      <td>14.8</td>\n",
       "      <td>6.9</td>\n",
       "      <td>NaN</td>\n",
       "      <td>NaN</td>\n",
       "      <td>...</td>\n",
       "      <td>(X)</td>\n",
       "      <td>(X)</td>\n",
       "      <td>(X)</td>\n",
       "      <td>(X)</td>\n",
       "      <td>(X)</td>\n",
       "      <td>26.0</td>\n",
       "      <td>NaN</td>\n",
       "      <td>(X)</td>\n",
       "      <td>(X)</td>\n",
       "      <td>NaN</td>\n",
       "    </tr>\n",
       "  </tbody>\n",
       "</table>\n",
       "<p>2 rows × 259 columns</p>\n",
       "</div>"
      ],
      "text/plain": [
       "                 GEO_ID                                     NAME  \\\n",
       "0             Geography                     Geographic Area Name   \n",
       "1  1400000US17031010100  Census Tract 101, Cook County, Illinois   \n",
       "\n",
       "                S1901_C01_001E                      S1901_C01_001M  \\\n",
       "0  Estimate!!Households!!Total  Margin of Error!!Households!!Total   \n",
       "1                         2411                                 306   \n",
       "\n",
       "                                    S1901_C01_001MA  \\\n",
       "0  Annotation of Margin of Error!!Households!!Total   \n",
       "1                                               NaN   \n",
       "\n",
       "                             S1901_C01_001EA  \\\n",
       "0  Annotation of Estimate!!Households!!Total   \n",
       "1                                        NaN   \n",
       "\n",
       "                                   S1901_C01_002E  \\\n",
       "0  Estimate!!Households!!Total!!Less than $10,000   \n",
       "1                                            14.8   \n",
       "\n",
       "                                      S1901_C01_002M  \\\n",
       "0  Margin of Error!!Households!!Total!!Less than ...   \n",
       "1                                                6.9   \n",
       "\n",
       "                                     S1901_C01_002MA  \\\n",
       "0  Annotation of Margin of Error!!Households!!Tot...   \n",
       "1                                                NaN   \n",
       "\n",
       "                                     S1901_C01_002EA  ...  \\\n",
       "0  Annotation of Estimate!!Households!!Total!!Les...  ...   \n",
       "1                                                NaN  ...   \n",
       "\n",
       "                                     S1901_C04_014EA  \\\n",
       "0  Annotation of Estimate!!Nonfamily households!!...   \n",
       "1                                                (X)   \n",
       "\n",
       "                                      S1901_C04_015E  \\\n",
       "0  Estimate!!Nonfamily households!!PERCENT ALLOCA...   \n",
       "1                                                (X)   \n",
       "\n",
       "                                      S1901_C04_015M  \\\n",
       "0  Margin of Error!!Nonfamily households!!PERCENT...   \n",
       "1                                                (X)   \n",
       "\n",
       "                                     S1901_C04_015MA  \\\n",
       "0  Annotation of Margin of Error!!Nonfamily house...   \n",
       "1                                                (X)   \n",
       "\n",
       "                                     S1901_C04_015EA  \\\n",
       "0  Annotation of Estimate!!Nonfamily households!!...   \n",
       "1                                                (X)   \n",
       "\n",
       "                                      S1901_C04_016E  \\\n",
       "0  Estimate!!Nonfamily households!!PERCENT ALLOCA...   \n",
       "1                                               26.0   \n",
       "\n",
       "                                     S1901_C04_016EA  \\\n",
       "0  Annotation of Estimate!!Nonfamily households!!...   \n",
       "1                                                NaN   \n",
       "\n",
       "                                      S1901_C04_016M  \\\n",
       "0  Margin of Error!!Nonfamily households!!PERCENT...   \n",
       "1                                                (X)   \n",
       "\n",
       "                                     S1901_C04_016MA Unnamed: 258  \n",
       "0  Annotation of Margin of Error!!Nonfamily house...          NaN  \n",
       "1                                                (X)          NaN  \n",
       "\n",
       "[2 rows x 259 columns]"
      ]
     },
     "execution_count": 427,
     "metadata": {},
     "output_type": "execute_result"
    }
   ],
   "source": [
    "income_2021_raw.head(2)"
   ]
  },
  {
   "attachments": {},
   "cell_type": "markdown",
   "metadata": {},
   "source": [
    "***"
   ]
  },
  {
   "attachments": {},
   "cell_type": "markdown",
   "metadata": {},
   "source": [
    "#### 1. Select and clean up the columns"
   ]
  },
  {
   "attachments": {},
   "cell_type": "markdown",
   "metadata": {},
   "source": [
    "#Which columns are useful? This is being determined by referring to the dataset metadata file </br>\n",
    "'S1901_C01_013E':'Mean_House_Income'</br>\n",
    "'S1901_C01_014E': 'Percent Allocation from the past 12 months'</br>\n",
    "'S1901_C01_012E':'Median_House_Income'</br>\n"
   ]
  },
  {
   "cell_type": "code",
   "execution_count": 428,
   "metadata": {},
   "outputs": [],
   "source": [
    "#the list of meaningful columns within Income Dataframe\n",
    "income_col={'GEO_ID':'GEO_ID','NAME':'NAME','S1901_C01_013E':'Mean_House_Income','S1901_C01_012E':'Median_House_Income',}"
   ]
  },
  {
   "cell_type": "code",
   "execution_count": 429,
   "metadata": {},
   "outputs": [
    {
     "name": "stderr",
     "output_type": "stream",
     "text": [
      "C:\\Users\\44742\\AppData\\Local\\Temp\\ipykernel_2628\\2024131606.py:2: SettingWithCopyWarning: \n",
      "A value is trying to be set on a copy of a slice from a DataFrame\n",
      "\n",
      "See the caveats in the documentation: https://pandas.pydata.org/pandas-docs/stable/user_guide/indexing.html#returning-a-view-versus-a-copy\n",
      "  income_2021_wip.rename(columns=income_col,inplace=True)\n"
     ]
    }
   ],
   "source": [
    "income_2021_wip=income_2021_raw[list(income_col.keys())]\n",
    "income_2021_wip.rename(columns=income_col,inplace=True)"
   ]
  },
  {
   "cell_type": "code",
   "execution_count": 430,
   "metadata": {},
   "outputs": [
    {
     "data": {
      "text/html": [
       "<div>\n",
       "<style scoped>\n",
       "    .dataframe tbody tr th:only-of-type {\n",
       "        vertical-align: middle;\n",
       "    }\n",
       "\n",
       "    .dataframe tbody tr th {\n",
       "        vertical-align: top;\n",
       "    }\n",
       "\n",
       "    .dataframe thead th {\n",
       "        text-align: right;\n",
       "    }\n",
       "</style>\n",
       "<table border=\"1\" class=\"dataframe\">\n",
       "  <thead>\n",
       "    <tr style=\"text-align: right;\">\n",
       "      <th></th>\n",
       "      <th>GEO_ID</th>\n",
       "      <th>NAME</th>\n",
       "      <th>Mean_House_Income</th>\n",
       "      <th>Median_House_Income</th>\n",
       "    </tr>\n",
       "  </thead>\n",
       "  <tbody>\n",
       "    <tr>\n",
       "      <th>0</th>\n",
       "      <td>Geography</td>\n",
       "      <td>Geographic Area Name</td>\n",
       "      <td>Estimate!!Households!!Mean income (dollars)</td>\n",
       "      <td>Estimate!!Households!!Median income (dollars)</td>\n",
       "    </tr>\n",
       "    <tr>\n",
       "      <th>1</th>\n",
       "      <td>1400000US17031010100</td>\n",
       "      <td>Census Tract 101, Cook County, Illinois</td>\n",
       "      <td>69746</td>\n",
       "      <td>60316</td>\n",
       "    </tr>\n",
       "    <tr>\n",
       "      <th>2</th>\n",
       "      <td>1400000US17031010201</td>\n",
       "      <td>Census Tract 102.01, Cook County, Illinois</td>\n",
       "      <td>62192</td>\n",
       "      <td>43750</td>\n",
       "    </tr>\n",
       "    <tr>\n",
       "      <th>3</th>\n",
       "      <td>1400000US17031010202</td>\n",
       "      <td>Census Tract 102.02, Cook County, Illinois</td>\n",
       "      <td>58572</td>\n",
       "      <td>45096</td>\n",
       "    </tr>\n",
       "    <tr>\n",
       "      <th>4</th>\n",
       "      <td>1400000US17031010300</td>\n",
       "      <td>Census Tract 103, Cook County, Illinois</td>\n",
       "      <td>71497</td>\n",
       "      <td>60846</td>\n",
       "    </tr>\n",
       "  </tbody>\n",
       "</table>\n",
       "</div>"
      ],
      "text/plain": [
       "                 GEO_ID                                        NAME  \\\n",
       "0             Geography                        Geographic Area Name   \n",
       "1  1400000US17031010100     Census Tract 101, Cook County, Illinois   \n",
       "2  1400000US17031010201  Census Tract 102.01, Cook County, Illinois   \n",
       "3  1400000US17031010202  Census Tract 102.02, Cook County, Illinois   \n",
       "4  1400000US17031010300     Census Tract 103, Cook County, Illinois   \n",
       "\n",
       "                             Mean_House_Income  \\\n",
       "0  Estimate!!Households!!Mean income (dollars)   \n",
       "1                                        69746   \n",
       "2                                        62192   \n",
       "3                                        58572   \n",
       "4                                        71497   \n",
       "\n",
       "                             Median_House_Income  \n",
       "0  Estimate!!Households!!Median income (dollars)  \n",
       "1                                          60316  \n",
       "2                                          43750  \n",
       "3                                          45096  \n",
       "4                                          60846  "
      ]
     },
     "execution_count": 430,
     "metadata": {},
     "output_type": "execute_result"
    }
   ],
   "source": [
    "income_2021_wip.head(5)"
   ]
  },
  {
   "cell_type": "code",
   "execution_count": 431,
   "metadata": {},
   "outputs": [
    {
     "data": {
      "text/plain": [
       "GEO_ID                 0\n",
       "NAME                   0\n",
       "Mean_House_Income      0\n",
       "Median_House_Income    0\n",
       "dtype: int64"
      ]
     },
     "execution_count": 431,
     "metadata": {},
     "output_type": "execute_result"
    }
   ],
   "source": [
    "income_2021_wip.isna().sum()"
   ]
  },
  {
   "cell_type": "code",
   "execution_count": 432,
   "metadata": {},
   "outputs": [
    {
     "data": {
      "text/plain": [
       "0"
      ]
     },
     "execution_count": 432,
     "metadata": {},
     "output_type": "execute_result"
    }
   ],
   "source": [
    "income_2021_wip.duplicated().sum()"
   ]
  },
  {
   "attachments": {},
   "cell_type": "markdown",
   "metadata": {},
   "source": [
    "### No nulls or duplicates"
   ]
  },
  {
   "cell_type": "code",
   "execution_count": 433,
   "metadata": {},
   "outputs": [],
   "source": [
    "income_2021_wip=income_2021_wip.iloc[1:,:]"
   ]
  },
  {
   "cell_type": "code",
   "execution_count": 434,
   "metadata": {},
   "outputs": [],
   "source": [
    "income_2021_wip['Census_Tract']=income_2021_wip.loc[:,'GEO_ID'].apply(lambda x: x[-6:]);"
   ]
  },
  {
   "cell_type": "code",
   "execution_count": 435,
   "metadata": {},
   "outputs": [
    {
     "data": {
      "text/html": [
       "<div>\n",
       "<style scoped>\n",
       "    .dataframe tbody tr th:only-of-type {\n",
       "        vertical-align: middle;\n",
       "    }\n",
       "\n",
       "    .dataframe tbody tr th {\n",
       "        vertical-align: top;\n",
       "    }\n",
       "\n",
       "    .dataframe thead th {\n",
       "        text-align: right;\n",
       "    }\n",
       "</style>\n",
       "<table border=\"1\" class=\"dataframe\">\n",
       "  <thead>\n",
       "    <tr style=\"text-align: right;\">\n",
       "      <th></th>\n",
       "      <th>GEO_ID</th>\n",
       "      <th>NAME</th>\n",
       "      <th>Mean_House_Income</th>\n",
       "      <th>Median_House_Income</th>\n",
       "      <th>Census_Tract</th>\n",
       "    </tr>\n",
       "  </thead>\n",
       "  <tbody>\n",
       "    <tr>\n",
       "      <th>1</th>\n",
       "      <td>1400000US17031010100</td>\n",
       "      <td>Census Tract 101, Cook County, Illinois</td>\n",
       "      <td>69746</td>\n",
       "      <td>60316</td>\n",
       "      <td>010100</td>\n",
       "    </tr>\n",
       "    <tr>\n",
       "      <th>2</th>\n",
       "      <td>1400000US17031010201</td>\n",
       "      <td>Census Tract 102.01, Cook County, Illinois</td>\n",
       "      <td>62192</td>\n",
       "      <td>43750</td>\n",
       "      <td>010201</td>\n",
       "    </tr>\n",
       "    <tr>\n",
       "      <th>3</th>\n",
       "      <td>1400000US17031010202</td>\n",
       "      <td>Census Tract 102.02, Cook County, Illinois</td>\n",
       "      <td>58572</td>\n",
       "      <td>45096</td>\n",
       "      <td>010202</td>\n",
       "    </tr>\n",
       "    <tr>\n",
       "      <th>4</th>\n",
       "      <td>1400000US17031010300</td>\n",
       "      <td>Census Tract 103, Cook County, Illinois</td>\n",
       "      <td>71497</td>\n",
       "      <td>60846</td>\n",
       "      <td>010300</td>\n",
       "    </tr>\n",
       "    <tr>\n",
       "      <th>5</th>\n",
       "      <td>1400000US17031010400</td>\n",
       "      <td>Census Tract 104, Cook County, Illinois</td>\n",
       "      <td>58464</td>\n",
       "      <td>43024</td>\n",
       "      <td>010400</td>\n",
       "    </tr>\n",
       "  </tbody>\n",
       "</table>\n",
       "</div>"
      ],
      "text/plain": [
       "                 GEO_ID                                        NAME  \\\n",
       "1  1400000US17031010100     Census Tract 101, Cook County, Illinois   \n",
       "2  1400000US17031010201  Census Tract 102.01, Cook County, Illinois   \n",
       "3  1400000US17031010202  Census Tract 102.02, Cook County, Illinois   \n",
       "4  1400000US17031010300     Census Tract 103, Cook County, Illinois   \n",
       "5  1400000US17031010400     Census Tract 104, Cook County, Illinois   \n",
       "\n",
       "  Mean_House_Income Median_House_Income Census_Tract  \n",
       "1             69746               60316       010100  \n",
       "2             62192               43750       010201  \n",
       "3             58572               45096       010202  \n",
       "4             71497               60846       010300  \n",
       "5             58464               43024       010400  "
      ]
     },
     "execution_count": 435,
     "metadata": {},
     "output_type": "execute_result"
    }
   ],
   "source": [
    "income_2021_wip.head()"
   ]
  },
  {
   "cell_type": "code",
   "execution_count": 436,
   "metadata": {},
   "outputs": [],
   "source": [
    "income_2021_temp=income_2021_wip.copy()\n",
    "income_2021_temp['Census_Tract']=income_2021_temp['Census_Tract'].apply(lambda x: 's'+x)\n",
    "#adding a latter to Census_tract so it does not get converted into a numeric data type & have leading zeroes removed"
   ]
  },
  {
   "cell_type": "code",
   "execution_count": 437,
   "metadata": {},
   "outputs": [
    {
     "data": {
      "text/html": [
       "<div>\n",
       "<style scoped>\n",
       "    .dataframe tbody tr th:only-of-type {\n",
       "        vertical-align: middle;\n",
       "    }\n",
       "\n",
       "    .dataframe tbody tr th {\n",
       "        vertical-align: top;\n",
       "    }\n",
       "\n",
       "    .dataframe thead th {\n",
       "        text-align: right;\n",
       "    }\n",
       "</style>\n",
       "<table border=\"1\" class=\"dataframe\">\n",
       "  <thead>\n",
       "    <tr style=\"text-align: right;\">\n",
       "      <th></th>\n",
       "      <th>GEO_ID</th>\n",
       "      <th>NAME</th>\n",
       "      <th>Mean_House_Income</th>\n",
       "      <th>Median_House_Income</th>\n",
       "      <th>Census_Tract</th>\n",
       "    </tr>\n",
       "  </thead>\n",
       "  <tbody>\n",
       "    <tr>\n",
       "      <th>92</th>\n",
       "      <td>1400000US17031062100</td>\n",
       "      <td>Census Tract 621, Cook County, Illinois</td>\n",
       "      <td>137661</td>\n",
       "      <td>96510</td>\n",
       "      <td>s062100</td>\n",
       "    </tr>\n",
       "  </tbody>\n",
       "</table>\n",
       "</div>"
      ],
      "text/plain": [
       "                  GEO_ID                                     NAME  \\\n",
       "92  1400000US17031062100  Census Tract 621, Cook County, Illinois   \n",
       "\n",
       "   Mean_House_Income Median_House_Income Census_Tract  \n",
       "92            137661               96510      s062100  "
      ]
     },
     "execution_count": 437,
     "metadata": {},
     "output_type": "execute_result"
    }
   ],
   "source": [
    "income_2021_temp.sample()"
   ]
  },
  {
   "cell_type": "code",
   "execution_count": 438,
   "metadata": {},
   "outputs": [],
   "source": [
    "income_2021_temp.to_csv('../data/interim/income_2021.csv')\n",
    "#export"
   ]
  }
 ],
 "metadata": {
  "kernelspec": {
   "display_name": "Python 3",
   "language": "python",
   "name": "python3"
  },
  "language_info": {
   "codemirror_mode": {
    "name": "ipython",
    "version": 3
   },
   "file_extension": ".py",
   "mimetype": "text/x-python",
   "name": "python",
   "nbconvert_exporter": "python",
   "pygments_lexer": "ipython3",
   "version": "3.10.4"
  },
  "orig_nbformat": 4,
  "vscode": {
   "interpreter": {
    "hash": "53cd0a9adbdceaa0a5bb24f13c9600f8e4649ceab1a846de2531b30739ce7a93"
   }
  }
 },
 "nbformat": 4,
 "nbformat_minor": 2
}
