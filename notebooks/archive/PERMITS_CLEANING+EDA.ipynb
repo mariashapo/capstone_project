{
 "cells": [
  {
   "cell_type": "markdown",
   "metadata": {},
   "source": []
  },
  {
   "attachments": {},
   "cell_type": "markdown",
   "metadata": {},
   "source": [
    "# Predicting Gentrification\n",
    "*A study into planning application features that can help to signal early warnings of gentrification*\n",
    "</br></br></br></br>\n",
    "Author: Mariia Shapovalova</br>\n",
    "Date: April, 2023"
   ]
  },
  {
   "attachments": {},
   "cell_type": "markdown",
   "metadata": {},
   "source": [
    "---\n",
    "## Table of Contents\n",
    "Chicago Planning Application Dataset\n",
    "- 0.0 Introduction\n",
    "- 1.0 Initial Exploration\n",
    "- 2.0 Initial Cleaning\n",
    "- 3.0 Infer Missing Census Tracts\n"
   ]
  },
  {
   "attachments": {},
   "cell_type": "markdown",
   "metadata": {},
   "source": [
    "---\n",
    "*<center><h2> Introduction <center><h2>*"
   ]
  },
  {
   "attachments": {},
   "cell_type": "markdown",
   "metadata": {},
   "source": [
    "### Introduction to The Project\n"
   ]
  },
  {
   "attachments": {},
   "cell_type": "markdown",
   "metadata": {},
   "source": [
    "\n",
    "My goal is to 123\n"
   ]
  },
  {
   "attachments": {},
   "cell_type": "markdown",
   "metadata": {},
   "source": [
    "\n",
    "### Introduction to this Notebook \n",
    "\n",
    "\n",
    "The purpose of this notebook is to understand, clean and conduct initial EDA of Chicago Planning Application Dataset. </br>\n",
    "The dataset was downloaded from Chicago Data Portal, which can be accessed using the following link [Planning Applications Link](https://data.cityofchicago.org/Buildings/Building-Permits/ydr8-5enu)."
   ]
  },
  {
   "attachments": {},
   "cell_type": "markdown",
   "metadata": {},
   "source": [
    "---\n",
    "*<center><h2> Initial Exploration<center><h2>*"
   ]
  },
  {
   "cell_type": "code",
   "execution_count": 321,
   "metadata": {},
   "outputs": [],
   "source": [
    "def get_columns_with_regex(df,reg_exp=None):\n",
    "    '''\n",
    "    Use:\n",
    "        Returns a filtered dataframe that contains columns with names that match the given regular expression.\n",
    "    Input:\n",
    "        df (pandas.core.frame.DataFrame): The dataframe to be filtered.\n",
    "        reg_exp (str): The regular expression to match against column names. Default is None\n",
    "    Return:\n",
    "        pandas.core.frame.DataFrame: A new dataframe containing only columns that match the regular expression.\n",
    "    \n",
    "    '''\n",
    "    try:\n",
    "        if reg_exp is None:\n",
    "            return df\n",
    "        else:\n",
    "            filtered_df = df.loc[:, [bool(re.search(reg_exp, col)) for col in df.columns]]\n",
    "            return filtered_df\n",
    "\n",
    "    except re.error:\n",
    "        raise ValueError(f\"{reg_exp} is not a valid regular expression\")\n",
    "\n",
    "#This function will be placed in the functions.py file to be accessed in the other notebooks\n",
    "#import re"
   ]
  },
  {
   "cell_type": "code",
   "execution_count": 314,
   "metadata": {},
   "outputs": [],
   "source": [
    "def overview (df):\n",
    "    '''\n",
    "    Use:\n",
    "        Provides a high-level overview of the input dataframe.\n",
    "    Input:\n",
    "        df [pandas.core.frame.DataFrame] : df to be analysed\n",
    "    Return:\n",
    "        - Print the shape of the input dataframe\n",
    "        - pandas.core.frame.DataFrame : df containing overview of the column data types, null values, and sample rows\n",
    "\n",
    "    '''\n",
    "    #print df shape\n",
    "    print(f'The dataframe shape is {df.shape}')\n",
    "    # Create new dataframe with data types, null values, and sample row information\n",
    "    preview_df=pd.DataFrame({\n",
    "        #data types for each columns\n",
    "        'Data Types':df.dtypes,\\\n",
    "        #absolute number of null values in each column\n",
    "        'Total Null Values':df.isna().sum(), \\\n",
    "        #percentage number of null values in each column\n",
    "        'Null Values Percentage':df.isna().sum()*100/df.shape[0],\\\n",
    "        #first row\n",
    "        'Sample Value Head':df.head(1).T.iloc[:,0],\\\n",
    "        #last row\n",
    "        'Sample Value Tail':df.tail(1).T.iloc[:,0],\\\n",
    "        #random sample row\n",
    "        'Sample Value':df.sample().T.iloc[:,0]})\n",
    "\n",
    "    # Rename index axis\n",
    "    preview_df.rename_axis('Column_Name',inplace=True)\n",
    "    return preview_df"
   ]
  },
  {
   "cell_type": "code",
   "execution_count": 748,
   "metadata": {},
   "outputs": [],
   "source": [
    "#import relevant packages\n",
    "import numpy as np\n",
    "import pandas as pd\n",
    "\n",
    "import joblib\n",
    "import re\n",
    "\n",
    "import seaborn as sns\n",
    "import matplotlib.pyplot as plt\n",
    "\n",
    "import warnings\n",
    "warnings.filterwarnings('ignore')\n",
    "\n",
    "#requires pip install censusgeocode\n",
    "import censusgeocode as cg\n",
    "\n",
    "#from functions import *"
   ]
  },
  {
   "attachments": {},
   "cell_type": "markdown",
   "metadata": {},
   "source": [
    "### 1.1 Importing Data"
   ]
  },
  {
   "cell_type": "code",
   "execution_count": 332,
   "metadata": {},
   "outputs": [],
   "source": [
    "#load data\n",
    "permits_raw=pd.read_csv('../src/data/Building_Permits.csv')"
   ]
  },
  {
   "attachments": {},
   "cell_type": "markdown",
   "metadata": {},
   "source": [
    "* Check that data was imported correctly"
   ]
  },
  {
   "cell_type": "code",
   "execution_count": 346,
   "metadata": {},
   "outputs": [
    {
     "data": {
      "text/html": [
       "<div>\n",
       "<style scoped>\n",
       "    .dataframe tbody tr th:only-of-type {\n",
       "        vertical-align: middle;\n",
       "    }\n",
       "\n",
       "    .dataframe tbody tr th {\n",
       "        vertical-align: top;\n",
       "    }\n",
       "\n",
       "    .dataframe thead th {\n",
       "        text-align: right;\n",
       "    }\n",
       "</style>\n",
       "<table border=\"1\" class=\"dataframe\">\n",
       "  <thead>\n",
       "    <tr style=\"text-align: right;\">\n",
       "      <th></th>\n",
       "      <th>ID</th>\n",
       "      <th>PERMIT#</th>\n",
       "      <th>PERMIT_TYPE</th>\n",
       "      <th>REVIEW_TYPE</th>\n",
       "      <th>APPLICATION_START_DATE</th>\n",
       "      <th>ISSUE_DATE</th>\n",
       "      <th>PROCESSING_TIME</th>\n",
       "      <th>STREET_NUMBER</th>\n",
       "      <th>STREET DIRECTION</th>\n",
       "      <th>STREET_NAME</th>\n",
       "      <th>...</th>\n",
       "      <th>PIN9</th>\n",
       "      <th>PIN10</th>\n",
       "      <th>COMMUNITY_AREA</th>\n",
       "      <th>CENSUS_TRACT</th>\n",
       "      <th>WARD</th>\n",
       "      <th>XCOORDINATE</th>\n",
       "      <th>YCOORDINATE</th>\n",
       "      <th>LATITUDE</th>\n",
       "      <th>LONGITUDE</th>\n",
       "      <th>LOCATION</th>\n",
       "    </tr>\n",
       "  </thead>\n",
       "  <tbody>\n",
       "    <tr>\n",
       "      <th>0</th>\n",
       "      <td>1614287</td>\n",
       "      <td>100072880</td>\n",
       "      <td>PERMIT - RENOVATION/ALTERATION</td>\n",
       "      <td>STANDARD PLAN REVIEW</td>\n",
       "      <td>10/14/2005</td>\n",
       "      <td>01/03/2006</td>\n",
       "      <td>81.0</td>\n",
       "      <td>2728</td>\n",
       "      <td>N</td>\n",
       "      <td>MONTICELLO</td>\n",
       "      <td>...</td>\n",
       "      <td>NaN</td>\n",
       "      <td>NaN</td>\n",
       "      <td>NaN</td>\n",
       "      <td>NaN</td>\n",
       "      <td>NaN</td>\n",
       "      <td>1.151539e+06</td>\n",
       "      <td>1.918031e+06</td>\n",
       "      <td>41.930957</td>\n",
       "      <td>-87.718543</td>\n",
       "      <td>POINT (-87.718542820893 41.930957454144)</td>\n",
       "    </tr>\n",
       "    <tr>\n",
       "      <th>1</th>\n",
       "      <td>1614342</td>\n",
       "      <td>100072909</td>\n",
       "      <td>PERMIT - NEW CONSTRUCTION</td>\n",
       "      <td>STANDARD PLAN REVIEW</td>\n",
       "      <td>12/05/2005</td>\n",
       "      <td>03/29/2006</td>\n",
       "      <td>114.0</td>\n",
       "      <td>1409</td>\n",
       "      <td>S</td>\n",
       "      <td>KEDVALE</td>\n",
       "      <td>...</td>\n",
       "      <td>NaN</td>\n",
       "      <td>NaN</td>\n",
       "      <td>NaN</td>\n",
       "      <td>NaN</td>\n",
       "      <td>NaN</td>\n",
       "      <td>1.148986e+06</td>\n",
       "      <td>1.892939e+06</td>\n",
       "      <td>41.862155</td>\n",
       "      <td>-87.728575</td>\n",
       "      <td>POINT (-87.728575200899 41.862154886848)</td>\n",
       "    </tr>\n",
       "    <tr>\n",
       "      <th>2</th>\n",
       "      <td>1614371</td>\n",
       "      <td>100072936</td>\n",
       "      <td>PERMIT - SIGNS</td>\n",
       "      <td>SIGN PERMIT</td>\n",
       "      <td>10/17/2005</td>\n",
       "      <td>01/12/2006</td>\n",
       "      <td>87.0</td>\n",
       "      <td>120</td>\n",
       "      <td>S</td>\n",
       "      <td>LA SALLE</td>\n",
       "      <td>...</td>\n",
       "      <td>NaN</td>\n",
       "      <td>NaN</td>\n",
       "      <td>NaN</td>\n",
       "      <td>NaN</td>\n",
       "      <td>NaN</td>\n",
       "      <td>1.175112e+06</td>\n",
       "      <td>1.899771e+06</td>\n",
       "      <td>41.880356</td>\n",
       "      <td>-87.632466</td>\n",
       "      <td>POINT (-87.632466106592 41.880356217665)</td>\n",
       "    </tr>\n",
       "    <tr>\n",
       "      <th>3</th>\n",
       "      <td>1637148</td>\n",
       "      <td>100086388</td>\n",
       "      <td>PERMIT - RENOVATION/ALTERATION</td>\n",
       "      <td>SELF CERT</td>\n",
       "      <td>01/25/2006</td>\n",
       "      <td>01/26/2006</td>\n",
       "      <td>1.0</td>\n",
       "      <td>71</td>\n",
       "      <td>S</td>\n",
       "      <td>WACKER</td>\n",
       "      <td>...</td>\n",
       "      <td>NaN</td>\n",
       "      <td>NaN</td>\n",
       "      <td>NaN</td>\n",
       "      <td>NaN</td>\n",
       "      <td>NaN</td>\n",
       "      <td>1.173988e+06</td>\n",
       "      <td>1.899894e+06</td>\n",
       "      <td>41.880718</td>\n",
       "      <td>-87.636589</td>\n",
       "      <td>POINT (-87.636589107372 41.880717575265)</td>\n",
       "    </tr>\n",
       "    <tr>\n",
       "      <th>4</th>\n",
       "      <td>1637165</td>\n",
       "      <td>100086395</td>\n",
       "      <td>PERMIT - RENOVATION/ALTERATION</td>\n",
       "      <td>SELF CERT</td>\n",
       "      <td>01/21/2006</td>\n",
       "      <td>01/21/2006</td>\n",
       "      <td>0.0</td>\n",
       "      <td>4901</td>\n",
       "      <td>S</td>\n",
       "      <td>CICERO</td>\n",
       "      <td>...</td>\n",
       "      <td>NaN</td>\n",
       "      <td>NaN</td>\n",
       "      <td>NaN</td>\n",
       "      <td>NaN</td>\n",
       "      <td>NaN</td>\n",
       "      <td>1.145226e+06</td>\n",
       "      <td>1.871678e+06</td>\n",
       "      <td>41.803882</td>\n",
       "      <td>-87.742911</td>\n",
       "      <td>POINT (-87.742911007932 41.80388237071)</td>\n",
       "    </tr>\n",
       "  </tbody>\n",
       "</table>\n",
       "<p>5 rows × 119 columns</p>\n",
       "</div>"
      ],
      "text/plain": [
       "        ID    PERMIT#                     PERMIT_TYPE           REVIEW_TYPE  \\\n",
       "0  1614287  100072880  PERMIT - RENOVATION/ALTERATION  STANDARD PLAN REVIEW   \n",
       "1  1614342  100072909       PERMIT - NEW CONSTRUCTION  STANDARD PLAN REVIEW   \n",
       "2  1614371  100072936                  PERMIT - SIGNS           SIGN PERMIT   \n",
       "3  1637148  100086388  PERMIT - RENOVATION/ALTERATION             SELF CERT   \n",
       "4  1637165  100086395  PERMIT - RENOVATION/ALTERATION             SELF CERT   \n",
       "\n",
       "  APPLICATION_START_DATE  ISSUE_DATE  PROCESSING_TIME  STREET_NUMBER  \\\n",
       "0             10/14/2005  01/03/2006             81.0           2728   \n",
       "1             12/05/2005  03/29/2006            114.0           1409   \n",
       "2             10/17/2005  01/12/2006             87.0            120   \n",
       "3             01/25/2006  01/26/2006              1.0             71   \n",
       "4             01/21/2006  01/21/2006              0.0           4901   \n",
       "\n",
       "  STREET DIRECTION STREET_NAME  ... PIN9 PIN10  COMMUNITY_AREA  CENSUS_TRACT  \\\n",
       "0                N  MONTICELLO  ...  NaN   NaN             NaN           NaN   \n",
       "1                S     KEDVALE  ...  NaN   NaN             NaN           NaN   \n",
       "2                S    LA SALLE  ...  NaN   NaN             NaN           NaN   \n",
       "3                S      WACKER  ...  NaN   NaN             NaN           NaN   \n",
       "4                S      CICERO  ...  NaN   NaN             NaN           NaN   \n",
       "\n",
       "   WARD   XCOORDINATE   YCOORDINATE   LATITUDE  LONGITUDE  \\\n",
       "0   NaN  1.151539e+06  1.918031e+06  41.930957 -87.718543   \n",
       "1   NaN  1.148986e+06  1.892939e+06  41.862155 -87.728575   \n",
       "2   NaN  1.175112e+06  1.899771e+06  41.880356 -87.632466   \n",
       "3   NaN  1.173988e+06  1.899894e+06  41.880718 -87.636589   \n",
       "4   NaN  1.145226e+06  1.871678e+06  41.803882 -87.742911   \n",
       "\n",
       "                                   LOCATION  \n",
       "0  POINT (-87.718542820893 41.930957454144)  \n",
       "1  POINT (-87.728575200899 41.862154886848)  \n",
       "2  POINT (-87.632466106592 41.880356217665)  \n",
       "3  POINT (-87.636589107372 41.880717575265)  \n",
       "4   POINT (-87.742911007932 41.80388237071)  \n",
       "\n",
       "[5 rows x 119 columns]"
      ]
     },
     "execution_count": 346,
     "metadata": {},
     "output_type": "execute_result"
    }
   ],
   "source": [
    "#preview top 5 rows\n",
    "permits_raw.head()"
   ]
  },
  {
   "attachments": {},
   "cell_type": "markdown",
   "metadata": {},
   "source": [
    "***What is the shape of the dataset and what columns are included?***"
   ]
  },
  {
   "cell_type": "code",
   "execution_count": 330,
   "metadata": {},
   "outputs": [
    {
     "name": "stdout",
     "output_type": "stream",
     "text": [
      "The dataframe shape is (730511, 119)\n"
     ]
    },
    {
     "data": {
      "text/html": [
       "<div>\n",
       "<style scoped>\n",
       "    .dataframe tbody tr th:only-of-type {\n",
       "        vertical-align: middle;\n",
       "    }\n",
       "\n",
       "    .dataframe tbody tr th {\n",
       "        vertical-align: top;\n",
       "    }\n",
       "\n",
       "    .dataframe thead th {\n",
       "        text-align: right;\n",
       "    }\n",
       "</style>\n",
       "<table border=\"1\" class=\"dataframe\">\n",
       "  <thead>\n",
       "    <tr style=\"text-align: right;\">\n",
       "      <th></th>\n",
       "      <th>Data Types</th>\n",
       "      <th>Total Null Values</th>\n",
       "      <th>Null Values Percentage</th>\n",
       "      <th>Sample Value Head</th>\n",
       "      <th>Sample Value Tail</th>\n",
       "      <th>Sample Value</th>\n",
       "    </tr>\n",
       "    <tr>\n",
       "      <th>Column_Name</th>\n",
       "      <th></th>\n",
       "      <th></th>\n",
       "      <th></th>\n",
       "      <th></th>\n",
       "      <th></th>\n",
       "      <th></th>\n",
       "    </tr>\n",
       "  </thead>\n",
       "  <tbody>\n",
       "    <tr>\n",
       "      <th>ID</th>\n",
       "      <td>int64</td>\n",
       "      <td>0</td>\n",
       "      <td>0.000000</td>\n",
       "      <td>1614287</td>\n",
       "      <td>3308675</td>\n",
       "      <td>2642790</td>\n",
       "    </tr>\n",
       "    <tr>\n",
       "      <th>PERMIT#</th>\n",
       "      <td>object</td>\n",
       "      <td>0</td>\n",
       "      <td>0.000000</td>\n",
       "      <td>100072880</td>\n",
       "      <td>101006675</td>\n",
       "      <td>100586681</td>\n",
       "    </tr>\n",
       "    <tr>\n",
       "      <th>PERMIT_TYPE</th>\n",
       "      <td>object</td>\n",
       "      <td>0</td>\n",
       "      <td>0.000000</td>\n",
       "      <td>PERMIT - RENOVATION/ALTERATION</td>\n",
       "      <td>PERMIT - ELECTRIC WIRING</td>\n",
       "      <td>PERMIT - ELECTRIC WIRING</td>\n",
       "    </tr>\n",
       "    <tr>\n",
       "      <th>REVIEW_TYPE</th>\n",
       "      <td>object</td>\n",
       "      <td>7</td>\n",
       "      <td>0.000958</td>\n",
       "      <td>STANDARD PLAN REVIEW</td>\n",
       "      <td>EASY PERMIT WEB</td>\n",
       "      <td>EASY PERMIT WEB</td>\n",
       "    </tr>\n",
       "    <tr>\n",
       "      <th>APPLICATION_START_DATE</th>\n",
       "      <td>object</td>\n",
       "      <td>522</td>\n",
       "      <td>0.071457</td>\n",
       "      <td>10/14/2005</td>\n",
       "      <td>02/24/2023</td>\n",
       "      <td>03/23/2015</td>\n",
       "    </tr>\n",
       "    <tr>\n",
       "      <th>...</th>\n",
       "      <td>...</td>\n",
       "      <td>...</td>\n",
       "      <td>...</td>\n",
       "      <td>...</td>\n",
       "      <td>...</td>\n",
       "      <td>...</td>\n",
       "    </tr>\n",
       "    <tr>\n",
       "      <th>XCOORDINATE</th>\n",
       "      <td>float64</td>\n",
       "      <td>1352</td>\n",
       "      <td>0.185076</td>\n",
       "      <td>1151538.764988</td>\n",
       "      <td>1174277.877745</td>\n",
       "      <td>1167243.097321</td>\n",
       "    </tr>\n",
       "    <tr>\n",
       "      <th>YCOORDINATE</th>\n",
       "      <td>float64</td>\n",
       "      <td>1352</td>\n",
       "      <td>0.185076</td>\n",
       "      <td>1918030.52352</td>\n",
       "      <td>1822395.541195</td>\n",
       "      <td>1831030.327887</td>\n",
       "    </tr>\n",
       "    <tr>\n",
       "      <th>LATITUDE</th>\n",
       "      <td>float64</td>\n",
       "      <td>2254</td>\n",
       "      <td>0.308551</td>\n",
       "      <td>41.930957</td>\n",
       "      <td>41.668048</td>\n",
       "      <td>41.691896</td>\n",
       "    </tr>\n",
       "    <tr>\n",
       "      <th>LONGITUDE</th>\n",
       "      <td>float64</td>\n",
       "      <td>2254</td>\n",
       "      <td>0.308551</td>\n",
       "      <td>-87.718543</td>\n",
       "      <td>-87.637825</td>\n",
       "      <td>-87.663325</td>\n",
       "    </tr>\n",
       "    <tr>\n",
       "      <th>LOCATION</th>\n",
       "      <td>object</td>\n",
       "      <td>2254</td>\n",
       "      <td>0.308551</td>\n",
       "      <td>POINT (-87.718542820893 41.930957454144)</td>\n",
       "      <td>POINT (-87.63782516755 41.668047559861)</td>\n",
       "      <td>POINT (-87.663325217596 41.69189582977)</td>\n",
       "    </tr>\n",
       "  </tbody>\n",
       "</table>\n",
       "<p>119 rows × 6 columns</p>\n",
       "</div>"
      ],
      "text/plain": [
       "                       Data Types  Total Null Values  Null Values Percentage  \\\n",
       "Column_Name                                                                    \n",
       "ID                          int64                  0                0.000000   \n",
       "PERMIT#                    object                  0                0.000000   \n",
       "PERMIT_TYPE                object                  0                0.000000   \n",
       "REVIEW_TYPE                object                  7                0.000958   \n",
       "APPLICATION_START_DATE     object                522                0.071457   \n",
       "...                           ...                ...                     ...   \n",
       "XCOORDINATE               float64               1352                0.185076   \n",
       "YCOORDINATE               float64               1352                0.185076   \n",
       "LATITUDE                  float64               2254                0.308551   \n",
       "LONGITUDE                 float64               2254                0.308551   \n",
       "LOCATION                   object               2254                0.308551   \n",
       "\n",
       "                                               Sample Value Head  \\\n",
       "Column_Name                                                        \n",
       "ID                                                       1614287   \n",
       "PERMIT#                                                100072880   \n",
       "PERMIT_TYPE                       PERMIT - RENOVATION/ALTERATION   \n",
       "REVIEW_TYPE                                 STANDARD PLAN REVIEW   \n",
       "APPLICATION_START_DATE                                10/14/2005   \n",
       "...                                                          ...   \n",
       "XCOORDINATE                                       1151538.764988   \n",
       "YCOORDINATE                                        1918030.52352   \n",
       "LATITUDE                                               41.930957   \n",
       "LONGITUDE                                             -87.718543   \n",
       "LOCATION                POINT (-87.718542820893 41.930957454144)   \n",
       "\n",
       "                                              Sample Value Tail  \\\n",
       "Column_Name                                                       \n",
       "ID                                                      3308675   \n",
       "PERMIT#                                               101006675   \n",
       "PERMIT_TYPE                            PERMIT - ELECTRIC WIRING   \n",
       "REVIEW_TYPE                                     EASY PERMIT WEB   \n",
       "APPLICATION_START_DATE                               02/24/2023   \n",
       "...                                                         ...   \n",
       "XCOORDINATE                                      1174277.877745   \n",
       "YCOORDINATE                                      1822395.541195   \n",
       "LATITUDE                                              41.668048   \n",
       "LONGITUDE                                            -87.637825   \n",
       "LOCATION                POINT (-87.63782516755 41.668047559861)   \n",
       "\n",
       "                                                   Sample Value  \n",
       "Column_Name                                                      \n",
       "ID                                                      2642790  \n",
       "PERMIT#                                               100586681  \n",
       "PERMIT_TYPE                            PERMIT - ELECTRIC WIRING  \n",
       "REVIEW_TYPE                                     EASY PERMIT WEB  \n",
       "APPLICATION_START_DATE                               03/23/2015  \n",
       "...                                                         ...  \n",
       "XCOORDINATE                                      1167243.097321  \n",
       "YCOORDINATE                                      1831030.327887  \n",
       "LATITUDE                                              41.691896  \n",
       "LONGITUDE                                            -87.663325  \n",
       "LOCATION                POINT (-87.663325217596 41.69189582977)  \n",
       "\n",
       "[119 rows x 6 columns]"
      ]
     },
     "execution_count": 330,
     "metadata": {},
     "output_type": "execute_result"
    }
   ],
   "source": [
    "#apply a custom function 'overview' to create a dataframe 'raw_overview' that provides a high level summary of each column\n",
    "raw_overview=overview(permits_raw)"
   ]
  },
  {
   "attachments": {},
   "cell_type": "markdown",
   "metadata": {},
   "source": [
    "* The raw planning application dataset contains `730511` rows and `119` columns. The next subsection 1.2 will aim to establish which features out of the 119 can be useful for the project"
   ]
  },
  {
   "attachments": {},
   "cell_type": "markdown",
   "metadata": {},
   "source": [
    "The dataset contains too many columns to be previewed at once\n",
    "* Preview the first 10 columns\n"
   ]
  },
  {
   "cell_type": "code",
   "execution_count": 348,
   "metadata": {},
   "outputs": [
    {
     "data": {
      "text/html": [
       "<div>\n",
       "<style scoped>\n",
       "    .dataframe tbody tr th:only-of-type {\n",
       "        vertical-align: middle;\n",
       "    }\n",
       "\n",
       "    .dataframe tbody tr th {\n",
       "        vertical-align: top;\n",
       "    }\n",
       "\n",
       "    .dataframe thead th {\n",
       "        text-align: right;\n",
       "    }\n",
       "</style>\n",
       "<table border=\"1\" class=\"dataframe\">\n",
       "  <thead>\n",
       "    <tr style=\"text-align: right;\">\n",
       "      <th></th>\n",
       "      <th>Data Types</th>\n",
       "      <th>Total Null Values</th>\n",
       "      <th>Null Values Percentage</th>\n",
       "      <th>Sample Value Head</th>\n",
       "      <th>Sample Value Tail</th>\n",
       "      <th>Sample Value</th>\n",
       "    </tr>\n",
       "    <tr>\n",
       "      <th>Column_Name</th>\n",
       "      <th></th>\n",
       "      <th></th>\n",
       "      <th></th>\n",
       "      <th></th>\n",
       "      <th></th>\n",
       "      <th></th>\n",
       "    </tr>\n",
       "  </thead>\n",
       "  <tbody>\n",
       "    <tr>\n",
       "      <th>ID</th>\n",
       "      <td>int64</td>\n",
       "      <td>0</td>\n",
       "      <td>0.000000</td>\n",
       "      <td>1614287</td>\n",
       "      <td>3308675</td>\n",
       "      <td>2642790</td>\n",
       "    </tr>\n",
       "    <tr>\n",
       "      <th>PERMIT#</th>\n",
       "      <td>object</td>\n",
       "      <td>0</td>\n",
       "      <td>0.000000</td>\n",
       "      <td>100072880</td>\n",
       "      <td>101006675</td>\n",
       "      <td>100586681</td>\n",
       "    </tr>\n",
       "    <tr>\n",
       "      <th>PERMIT_TYPE</th>\n",
       "      <td>object</td>\n",
       "      <td>0</td>\n",
       "      <td>0.000000</td>\n",
       "      <td>PERMIT - RENOVATION/ALTERATION</td>\n",
       "      <td>PERMIT - ELECTRIC WIRING</td>\n",
       "      <td>PERMIT - ELECTRIC WIRING</td>\n",
       "    </tr>\n",
       "    <tr>\n",
       "      <th>REVIEW_TYPE</th>\n",
       "      <td>object</td>\n",
       "      <td>7</td>\n",
       "      <td>0.000958</td>\n",
       "      <td>STANDARD PLAN REVIEW</td>\n",
       "      <td>EASY PERMIT WEB</td>\n",
       "      <td>EASY PERMIT WEB</td>\n",
       "    </tr>\n",
       "    <tr>\n",
       "      <th>APPLICATION_START_DATE</th>\n",
       "      <td>object</td>\n",
       "      <td>522</td>\n",
       "      <td>0.071457</td>\n",
       "      <td>10/14/2005</td>\n",
       "      <td>02/24/2023</td>\n",
       "      <td>03/23/2015</td>\n",
       "    </tr>\n",
       "    <tr>\n",
       "      <th>ISSUE_DATE</th>\n",
       "      <td>object</td>\n",
       "      <td>0</td>\n",
       "      <td>0.000000</td>\n",
       "      <td>01/03/2006</td>\n",
       "      <td>02/24/2023</td>\n",
       "      <td>03/23/2015</td>\n",
       "    </tr>\n",
       "    <tr>\n",
       "      <th>PROCESSING_TIME</th>\n",
       "      <td>float64</td>\n",
       "      <td>522</td>\n",
       "      <td>0.071457</td>\n",
       "      <td>81.0</td>\n",
       "      <td>0.0</td>\n",
       "      <td>0.0</td>\n",
       "    </tr>\n",
       "    <tr>\n",
       "      <th>STREET_NUMBER</th>\n",
       "      <td>int64</td>\n",
       "      <td>0</td>\n",
       "      <td>0.000000</td>\n",
       "      <td>2728</td>\n",
       "      <td>12423</td>\n",
       "      <td>11107</td>\n",
       "    </tr>\n",
       "    <tr>\n",
       "      <th>STREET DIRECTION</th>\n",
       "      <td>object</td>\n",
       "      <td>0</td>\n",
       "      <td>0.000000</td>\n",
       "      <td>N</td>\n",
       "      <td>S</td>\n",
       "      <td>S</td>\n",
       "    </tr>\n",
       "    <tr>\n",
       "      <th>STREET_NAME</th>\n",
       "      <td>object</td>\n",
       "      <td>0</td>\n",
       "      <td>0.000000</td>\n",
       "      <td>MONTICELLO</td>\n",
       "      <td>LOWE</td>\n",
       "      <td>VINCENNES</td>\n",
       "    </tr>\n",
       "  </tbody>\n",
       "</table>\n",
       "</div>"
      ],
      "text/plain": [
       "                       Data Types  Total Null Values  Null Values Percentage  \\\n",
       "Column_Name                                                                    \n",
       "ID                          int64                  0                0.000000   \n",
       "PERMIT#                    object                  0                0.000000   \n",
       "PERMIT_TYPE                object                  0                0.000000   \n",
       "REVIEW_TYPE                object                  7                0.000958   \n",
       "APPLICATION_START_DATE     object                522                0.071457   \n",
       "ISSUE_DATE                 object                  0                0.000000   \n",
       "PROCESSING_TIME           float64                522                0.071457   \n",
       "STREET_NUMBER               int64                  0                0.000000   \n",
       "STREET DIRECTION           object                  0                0.000000   \n",
       "STREET_NAME                object                  0                0.000000   \n",
       "\n",
       "                                     Sample Value Head  \\\n",
       "Column_Name                                              \n",
       "ID                                             1614287   \n",
       "PERMIT#                                      100072880   \n",
       "PERMIT_TYPE             PERMIT - RENOVATION/ALTERATION   \n",
       "REVIEW_TYPE                       STANDARD PLAN REVIEW   \n",
       "APPLICATION_START_DATE                      10/14/2005   \n",
       "ISSUE_DATE                                  01/03/2006   \n",
       "PROCESSING_TIME                                   81.0   \n",
       "STREET_NUMBER                                     2728   \n",
       "STREET DIRECTION                                     N   \n",
       "STREET_NAME                                 MONTICELLO   \n",
       "\n",
       "                               Sample Value Tail              Sample Value  \n",
       "Column_Name                                                                 \n",
       "ID                                       3308675                   2642790  \n",
       "PERMIT#                                101006675                 100586681  \n",
       "PERMIT_TYPE             PERMIT - ELECTRIC WIRING  PERMIT - ELECTRIC WIRING  \n",
       "REVIEW_TYPE                      EASY PERMIT WEB           EASY PERMIT WEB  \n",
       "APPLICATION_START_DATE                02/24/2023                03/23/2015  \n",
       "ISSUE_DATE                            02/24/2023                03/23/2015  \n",
       "PROCESSING_TIME                              0.0                       0.0  \n",
       "STREET_NUMBER                              12423                     11107  \n",
       "STREET DIRECTION                               S                         S  \n",
       "STREET_NAME                                 LOWE                 VINCENNES  "
      ]
     },
     "execution_count": 348,
     "metadata": {},
     "output_type": "execute_result"
    }
   ],
   "source": [
    "raw_overview[:10]"
   ]
  },
  {
   "attachments": {},
   "cell_type": "markdown",
   "metadata": {},
   "source": [
    "* Preview the last 10 columns"
   ]
  },
  {
   "cell_type": "code",
   "execution_count": 356,
   "metadata": {},
   "outputs": [
    {
     "data": {
      "text/html": [
       "<div>\n",
       "<style scoped>\n",
       "    .dataframe tbody tr th:only-of-type {\n",
       "        vertical-align: middle;\n",
       "    }\n",
       "\n",
       "    .dataframe tbody tr th {\n",
       "        vertical-align: top;\n",
       "    }\n",
       "\n",
       "    .dataframe thead th {\n",
       "        text-align: right;\n",
       "    }\n",
       "</style>\n",
       "<table border=\"1\" class=\"dataframe\">\n",
       "  <thead>\n",
       "    <tr style=\"text-align: right;\">\n",
       "      <th></th>\n",
       "      <th>Data Types</th>\n",
       "      <th>Total Null Values</th>\n",
       "      <th>Null Values Percentage</th>\n",
       "      <th>Sample Value Head</th>\n",
       "      <th>Sample Value Tail</th>\n",
       "      <th>Sample Value</th>\n",
       "    </tr>\n",
       "    <tr>\n",
       "      <th>Column_Name</th>\n",
       "      <th></th>\n",
       "      <th></th>\n",
       "      <th></th>\n",
       "      <th></th>\n",
       "      <th></th>\n",
       "      <th></th>\n",
       "    </tr>\n",
       "  </thead>\n",
       "  <tbody>\n",
       "    <tr>\n",
       "      <th>PIN9</th>\n",
       "      <td>object</td>\n",
       "      <td>726951</td>\n",
       "      <td>99.512670</td>\n",
       "      <td>NaN</td>\n",
       "      <td>NaN</td>\n",
       "      <td>NaN</td>\n",
       "    </tr>\n",
       "    <tr>\n",
       "      <th>PIN10</th>\n",
       "      <td>object</td>\n",
       "      <td>727438</td>\n",
       "      <td>99.579336</td>\n",
       "      <td>NaN</td>\n",
       "      <td>NaN</td>\n",
       "      <td>NaN</td>\n",
       "    </tr>\n",
       "    <tr>\n",
       "      <th>COMMUNITY_AREA</th>\n",
       "      <td>float64</td>\n",
       "      <td>104841</td>\n",
       "      <td>14.351735</td>\n",
       "      <td>NaN</td>\n",
       "      <td>53.0</td>\n",
       "      <td>75.0</td>\n",
       "    </tr>\n",
       "    <tr>\n",
       "      <th>CENSUS_TRACT</th>\n",
       "      <td>float64</td>\n",
       "      <td>109049</td>\n",
       "      <td>14.927770</td>\n",
       "      <td>NaN</td>\n",
       "      <td>530503.0</td>\n",
       "      <td>750500.0</td>\n",
       "    </tr>\n",
       "    <tr>\n",
       "      <th>WARD</th>\n",
       "      <td>float64</td>\n",
       "      <td>105051</td>\n",
       "      <td>14.380482</td>\n",
       "      <td>NaN</td>\n",
       "      <td>34.0</td>\n",
       "      <td>34.0</td>\n",
       "    </tr>\n",
       "    <tr>\n",
       "      <th>XCOORDINATE</th>\n",
       "      <td>float64</td>\n",
       "      <td>1352</td>\n",
       "      <td>0.185076</td>\n",
       "      <td>1151538.764988</td>\n",
       "      <td>1174277.877745</td>\n",
       "      <td>1167243.097321</td>\n",
       "    </tr>\n",
       "    <tr>\n",
       "      <th>YCOORDINATE</th>\n",
       "      <td>float64</td>\n",
       "      <td>1352</td>\n",
       "      <td>0.185076</td>\n",
       "      <td>1918030.52352</td>\n",
       "      <td>1822395.541195</td>\n",
       "      <td>1831030.327887</td>\n",
       "    </tr>\n",
       "    <tr>\n",
       "      <th>LATITUDE</th>\n",
       "      <td>float64</td>\n",
       "      <td>2254</td>\n",
       "      <td>0.308551</td>\n",
       "      <td>41.930957</td>\n",
       "      <td>41.668048</td>\n",
       "      <td>41.691896</td>\n",
       "    </tr>\n",
       "    <tr>\n",
       "      <th>LONGITUDE</th>\n",
       "      <td>float64</td>\n",
       "      <td>2254</td>\n",
       "      <td>0.308551</td>\n",
       "      <td>-87.718543</td>\n",
       "      <td>-87.637825</td>\n",
       "      <td>-87.663325</td>\n",
       "    </tr>\n",
       "    <tr>\n",
       "      <th>LOCATION</th>\n",
       "      <td>object</td>\n",
       "      <td>2254</td>\n",
       "      <td>0.308551</td>\n",
       "      <td>POINT (-87.718542820893 41.930957454144)</td>\n",
       "      <td>POINT (-87.63782516755 41.668047559861)</td>\n",
       "      <td>POINT (-87.663325217596 41.69189582977)</td>\n",
       "    </tr>\n",
       "  </tbody>\n",
       "</table>\n",
       "</div>"
      ],
      "text/plain": [
       "               Data Types  Total Null Values  Null Values Percentage  \\\n",
       "Column_Name                                                            \n",
       "PIN9               object             726951               99.512670   \n",
       "PIN10              object             727438               99.579336   \n",
       "COMMUNITY_AREA    float64             104841               14.351735   \n",
       "CENSUS_TRACT      float64             109049               14.927770   \n",
       "WARD              float64             105051               14.380482   \n",
       "XCOORDINATE       float64               1352                0.185076   \n",
       "YCOORDINATE       float64               1352                0.185076   \n",
       "LATITUDE          float64               2254                0.308551   \n",
       "LONGITUDE         float64               2254                0.308551   \n",
       "LOCATION           object               2254                0.308551   \n",
       "\n",
       "                                       Sample Value Head  \\\n",
       "Column_Name                                                \n",
       "PIN9                                                 NaN   \n",
       "PIN10                                                NaN   \n",
       "COMMUNITY_AREA                                       NaN   \n",
       "CENSUS_TRACT                                         NaN   \n",
       "WARD                                                 NaN   \n",
       "XCOORDINATE                               1151538.764988   \n",
       "YCOORDINATE                                1918030.52352   \n",
       "LATITUDE                                       41.930957   \n",
       "LONGITUDE                                     -87.718543   \n",
       "LOCATION        POINT (-87.718542820893 41.930957454144)   \n",
       "\n",
       "                                      Sample Value Tail  \\\n",
       "Column_Name                                               \n",
       "PIN9                                                NaN   \n",
       "PIN10                                               NaN   \n",
       "COMMUNITY_AREA                                     53.0   \n",
       "CENSUS_TRACT                                   530503.0   \n",
       "WARD                                               34.0   \n",
       "XCOORDINATE                              1174277.877745   \n",
       "YCOORDINATE                              1822395.541195   \n",
       "LATITUDE                                      41.668048   \n",
       "LONGITUDE                                    -87.637825   \n",
       "LOCATION        POINT (-87.63782516755 41.668047559861)   \n",
       "\n",
       "                                           Sample Value  \n",
       "Column_Name                                              \n",
       "PIN9                                                NaN  \n",
       "PIN10                                               NaN  \n",
       "COMMUNITY_AREA                                     75.0  \n",
       "CENSUS_TRACT                                   750500.0  \n",
       "WARD                                               34.0  \n",
       "XCOORDINATE                              1167243.097321  \n",
       "YCOORDINATE                              1831030.327887  \n",
       "LATITUDE                                      41.691896  \n",
       "LONGITUDE                                    -87.663325  \n",
       "LOCATION        POINT (-87.663325217596 41.69189582977)  "
      ]
     },
     "execution_count": 356,
     "metadata": {},
     "output_type": "execute_result"
    }
   ],
   "source": [
    "raw_overview[-10:]"
   ]
  },
  {
   "attachments": {},
   "cell_type": "markdown",
   "metadata": {},
   "source": [
    "***What is the timeframe of the planning application included in the dataset?***"
   ]
  },
  {
   "cell_type": "code",
   "execution_count": 354,
   "metadata": {},
   "outputs": [],
   "source": [
    "#The timeframe can be determined using APPLICATION_START_DATE & ISSUE_DATE columns\n",
    "fisrt_start_date=min(permits_raw['APPLICATION_START_DATE'].astype('datetime64'))\n",
    "fisrt_issue_date=min(permits_raw['ISSUE_DATE'].astype('datetime64'))\n",
    "last_start_date=max(permits_raw['APPLICATION_START_DATE'].astype('datetime64'))\n",
    "last_issue_date=max(permits_raw['ISSUE_DATE'].astype('datetime64'))"
   ]
  },
  {
   "cell_type": "code",
   "execution_count": 355,
   "metadata": {},
   "outputs": [
    {
     "name": "stdout",
     "output_type": "stream",
     "text": [
      "The timeframe of applicatation START dates are between 2001-07-25 00:00:00 and 2023-02-24 00:00:00\n",
      "The timeframe of applicatation ISSUE dates are between 2006-01-03 00:00:00 and 2023-02-24 00:00:00\n"
     ]
    }
   ],
   "source": [
    "print(f'The timeframe of applicatation START dates are between {fisrt_start_date} and {last_start_date}')\n",
    "print(f'The timeframe of applicatation ISSUE dates are between {fisrt_issue_date} and {last_issue_date}')"
   ]
  },
  {
   "attachments": {},
   "cell_type": "markdown",
   "metadata": {},
   "source": [
    "* The dataset was downloaded on the 16th of February 2023, which explained why the last START and ISSUE dates are 2023-02-24\n",
    "* According to Chicago Data Portal, the dataset is being updated daily"
   ]
  },
  {
   "attachments": {},
   "cell_type": "markdown",
   "metadata": {},
   "source": [
    "</br>"
   ]
  },
  {
   "attachments": {},
   "cell_type": "markdown",
   "metadata": {},
   "source": [
    "## Understanding Data\n",
    "To evaluate the usability/quality of the data, let's first look at the number of nulls in each column"
   ]
  },
  {
   "attachments": {},
   "cell_type": "markdown",
   "metadata": {},
   "source": [
    "* Preview 10 columns with the least null values"
   ]
  },
  {
   "cell_type": "code",
   "execution_count": 335,
   "metadata": {},
   "outputs": [
    {
     "data": {
      "text/html": [
       "<div>\n",
       "<style scoped>\n",
       "    .dataframe tbody tr th:only-of-type {\n",
       "        vertical-align: middle;\n",
       "    }\n",
       "\n",
       "    .dataframe tbody tr th {\n",
       "        vertical-align: top;\n",
       "    }\n",
       "\n",
       "    .dataframe thead th {\n",
       "        text-align: right;\n",
       "    }\n",
       "</style>\n",
       "<table border=\"1\" class=\"dataframe\">\n",
       "  <thead>\n",
       "    <tr style=\"text-align: right;\">\n",
       "      <th></th>\n",
       "      <th>Data Types</th>\n",
       "      <th>Total Null Values</th>\n",
       "      <th>Null Values Percentage</th>\n",
       "      <th>Sample Value Head</th>\n",
       "      <th>Sample Value Tail</th>\n",
       "      <th>Sample Value</th>\n",
       "    </tr>\n",
       "    <tr>\n",
       "      <th>Column_Name</th>\n",
       "      <th></th>\n",
       "      <th></th>\n",
       "      <th></th>\n",
       "      <th></th>\n",
       "      <th></th>\n",
       "      <th></th>\n",
       "    </tr>\n",
       "  </thead>\n",
       "  <tbody>\n",
       "    <tr>\n",
       "      <th>ID</th>\n",
       "      <td>int64</td>\n",
       "      <td>0</td>\n",
       "      <td>0.0</td>\n",
       "      <td>1614287</td>\n",
       "      <td>3308675</td>\n",
       "      <td>2642790</td>\n",
       "    </tr>\n",
       "    <tr>\n",
       "      <th>TOTAL_FEE</th>\n",
       "      <td>float64</td>\n",
       "      <td>0</td>\n",
       "      <td>0.0</td>\n",
       "      <td>200.0</td>\n",
       "      <td>75.0</td>\n",
       "      <td>200.0</td>\n",
       "    </tr>\n",
       "    <tr>\n",
       "      <th>SUBTOTAL_WAIVED</th>\n",
       "      <td>float64</td>\n",
       "      <td>0</td>\n",
       "      <td>0.0</td>\n",
       "      <td>0.0</td>\n",
       "      <td>0.0</td>\n",
       "      <td>0.0</td>\n",
       "    </tr>\n",
       "    <tr>\n",
       "      <th>OTHER_FEE_WAIVED</th>\n",
       "      <td>float64</td>\n",
       "      <td>0</td>\n",
       "      <td>0.0</td>\n",
       "      <td>0.0</td>\n",
       "      <td>0.0</td>\n",
       "      <td>0.0</td>\n",
       "    </tr>\n",
       "    <tr>\n",
       "      <th>ZONING_FEE_WAIVED</th>\n",
       "      <td>float64</td>\n",
       "      <td>0</td>\n",
       "      <td>0.0</td>\n",
       "      <td>0.0</td>\n",
       "      <td>0.0</td>\n",
       "      <td>0.0</td>\n",
       "    </tr>\n",
       "    <tr>\n",
       "      <th>BUILDING_FEE_WAIVED</th>\n",
       "      <td>float64</td>\n",
       "      <td>0</td>\n",
       "      <td>0.0</td>\n",
       "      <td>0.0</td>\n",
       "      <td>0.0</td>\n",
       "      <td>0.0</td>\n",
       "    </tr>\n",
       "    <tr>\n",
       "      <th>SUBTOTAL_UNPAID</th>\n",
       "      <td>float64</td>\n",
       "      <td>0</td>\n",
       "      <td>0.0</td>\n",
       "      <td>0.0</td>\n",
       "      <td>0.0</td>\n",
       "      <td>0.0</td>\n",
       "    </tr>\n",
       "    <tr>\n",
       "      <th>OTHER_FEE_UNPAID</th>\n",
       "      <td>float64</td>\n",
       "      <td>0</td>\n",
       "      <td>0.0</td>\n",
       "      <td>0.0</td>\n",
       "      <td>0.0</td>\n",
       "      <td>0.0</td>\n",
       "    </tr>\n",
       "    <tr>\n",
       "      <th>ZONING_FEE_UNPAID</th>\n",
       "      <td>float64</td>\n",
       "      <td>0</td>\n",
       "      <td>0.0</td>\n",
       "      <td>0.0</td>\n",
       "      <td>0.0</td>\n",
       "      <td>0.0</td>\n",
       "    </tr>\n",
       "    <tr>\n",
       "      <th>BUILDING_FEE_UNPAID</th>\n",
       "      <td>float64</td>\n",
       "      <td>0</td>\n",
       "      <td>0.0</td>\n",
       "      <td>0.0</td>\n",
       "      <td>0.0</td>\n",
       "      <td>0.0</td>\n",
       "    </tr>\n",
       "  </tbody>\n",
       "</table>\n",
       "</div>"
      ],
      "text/plain": [
       "                    Data Types  Total Null Values  Null Values Percentage  \\\n",
       "Column_Name                                                                 \n",
       "ID                       int64                  0                     0.0   \n",
       "TOTAL_FEE              float64                  0                     0.0   \n",
       "SUBTOTAL_WAIVED        float64                  0                     0.0   \n",
       "OTHER_FEE_WAIVED       float64                  0                     0.0   \n",
       "ZONING_FEE_WAIVED      float64                  0                     0.0   \n",
       "BUILDING_FEE_WAIVED    float64                  0                     0.0   \n",
       "SUBTOTAL_UNPAID        float64                  0                     0.0   \n",
       "OTHER_FEE_UNPAID       float64                  0                     0.0   \n",
       "ZONING_FEE_UNPAID      float64                  0                     0.0   \n",
       "BUILDING_FEE_UNPAID    float64                  0                     0.0   \n",
       "\n",
       "                    Sample Value Head Sample Value Tail Sample Value  \n",
       "Column_Name                                                           \n",
       "ID                            1614287           3308675      2642790  \n",
       "TOTAL_FEE                       200.0              75.0        200.0  \n",
       "SUBTOTAL_WAIVED                   0.0               0.0          0.0  \n",
       "OTHER_FEE_WAIVED                  0.0               0.0          0.0  \n",
       "ZONING_FEE_WAIVED                 0.0               0.0          0.0  \n",
       "BUILDING_FEE_WAIVED               0.0               0.0          0.0  \n",
       "SUBTOTAL_UNPAID                   0.0               0.0          0.0  \n",
       "OTHER_FEE_UNPAID                  0.0               0.0          0.0  \n",
       "ZONING_FEE_UNPAID                 0.0               0.0          0.0  \n",
       "BUILDING_FEE_UNPAID               0.0               0.0          0.0  "
      ]
     },
     "execution_count": 335,
     "metadata": {},
     "output_type": "execute_result"
    }
   ],
   "source": [
    "#preview top 10 columns with the least null values\n",
    "raw_overview.sort_values('Total Null Values').head(10)"
   ]
  },
  {
   "attachments": {},
   "cell_type": "markdown",
   "metadata": {},
   "source": [
    "* Preview 10 columns with the most null values"
   ]
  },
  {
   "cell_type": "code",
   "execution_count": 334,
   "metadata": {},
   "outputs": [
    {
     "data": {
      "text/html": [
       "<div>\n",
       "<style scoped>\n",
       "    .dataframe tbody tr th:only-of-type {\n",
       "        vertical-align: middle;\n",
       "    }\n",
       "\n",
       "    .dataframe tbody tr th {\n",
       "        vertical-align: top;\n",
       "    }\n",
       "\n",
       "    .dataframe thead th {\n",
       "        text-align: right;\n",
       "    }\n",
       "</style>\n",
       "<table border=\"1\" class=\"dataframe\">\n",
       "  <thead>\n",
       "    <tr style=\"text-align: right;\">\n",
       "      <th></th>\n",
       "      <th>Data Types</th>\n",
       "      <th>Total Null Values</th>\n",
       "      <th>Null Values Percentage</th>\n",
       "      <th>Sample Value Head</th>\n",
       "      <th>Sample Value Tail</th>\n",
       "      <th>Sample Value</th>\n",
       "    </tr>\n",
       "    <tr>\n",
       "      <th>Column_Name</th>\n",
       "      <th></th>\n",
       "      <th></th>\n",
       "      <th></th>\n",
       "      <th></th>\n",
       "      <th></th>\n",
       "      <th></th>\n",
       "    </tr>\n",
       "  </thead>\n",
       "  <tbody>\n",
       "    <tr>\n",
       "      <th>CONTACT_15_ZIPCODE</th>\n",
       "      <td>float64</td>\n",
       "      <td>730506</td>\n",
       "      <td>99.999316</td>\n",
       "      <td>NaN</td>\n",
       "      <td>NaN</td>\n",
       "      <td>NaN</td>\n",
       "    </tr>\n",
       "    <tr>\n",
       "      <th>CONTACT_15_TYPE</th>\n",
       "      <td>object</td>\n",
       "      <td>730506</td>\n",
       "      <td>99.999316</td>\n",
       "      <td>NaN</td>\n",
       "      <td>NaN</td>\n",
       "      <td>NaN</td>\n",
       "    </tr>\n",
       "    <tr>\n",
       "      <th>CONTACT_15_NAME</th>\n",
       "      <td>object</td>\n",
       "      <td>730506</td>\n",
       "      <td>99.999316</td>\n",
       "      <td>NaN</td>\n",
       "      <td>NaN</td>\n",
       "      <td>NaN</td>\n",
       "    </tr>\n",
       "    <tr>\n",
       "      <th>CONTACT_15_CITY</th>\n",
       "      <td>object</td>\n",
       "      <td>730506</td>\n",
       "      <td>99.999316</td>\n",
       "      <td>NaN</td>\n",
       "      <td>NaN</td>\n",
       "      <td>NaN</td>\n",
       "    </tr>\n",
       "    <tr>\n",
       "      <th>CONTACT_15_STATE</th>\n",
       "      <td>object</td>\n",
       "      <td>730506</td>\n",
       "      <td>99.999316</td>\n",
       "      <td>NaN</td>\n",
       "      <td>NaN</td>\n",
       "      <td>NaN</td>\n",
       "    </tr>\n",
       "    <tr>\n",
       "      <th>CONTACT_14_TYPE</th>\n",
       "      <td>object</td>\n",
       "      <td>730483</td>\n",
       "      <td>99.996167</td>\n",
       "      <td>NaN</td>\n",
       "      <td>NaN</td>\n",
       "      <td>NaN</td>\n",
       "    </tr>\n",
       "    <tr>\n",
       "      <th>CONTACT_14_NAME</th>\n",
       "      <td>object</td>\n",
       "      <td>730483</td>\n",
       "      <td>99.996167</td>\n",
       "      <td>NaN</td>\n",
       "      <td>NaN</td>\n",
       "      <td>NaN</td>\n",
       "    </tr>\n",
       "    <tr>\n",
       "      <th>CONTACT_14_CITY</th>\n",
       "      <td>object</td>\n",
       "      <td>730483</td>\n",
       "      <td>99.996167</td>\n",
       "      <td>NaN</td>\n",
       "      <td>NaN</td>\n",
       "      <td>NaN</td>\n",
       "    </tr>\n",
       "    <tr>\n",
       "      <th>CONTACT_14_ZIPCODE</th>\n",
       "      <td>object</td>\n",
       "      <td>730483</td>\n",
       "      <td>99.996167</td>\n",
       "      <td>NaN</td>\n",
       "      <td>NaN</td>\n",
       "      <td>NaN</td>\n",
       "    </tr>\n",
       "    <tr>\n",
       "      <th>CONTACT_14_STATE</th>\n",
       "      <td>object</td>\n",
       "      <td>730483</td>\n",
       "      <td>99.996167</td>\n",
       "      <td>NaN</td>\n",
       "      <td>NaN</td>\n",
       "      <td>NaN</td>\n",
       "    </tr>\n",
       "  </tbody>\n",
       "</table>\n",
       "</div>"
      ],
      "text/plain": [
       "                   Data Types  Total Null Values  Null Values Percentage  \\\n",
       "Column_Name                                                                \n",
       "CONTACT_15_ZIPCODE    float64             730506               99.999316   \n",
       "CONTACT_15_TYPE        object             730506               99.999316   \n",
       "CONTACT_15_NAME        object             730506               99.999316   \n",
       "CONTACT_15_CITY        object             730506               99.999316   \n",
       "CONTACT_15_STATE       object             730506               99.999316   \n",
       "CONTACT_14_TYPE        object             730483               99.996167   \n",
       "CONTACT_14_NAME        object             730483               99.996167   \n",
       "CONTACT_14_CITY        object             730483               99.996167   \n",
       "CONTACT_14_ZIPCODE     object             730483               99.996167   \n",
       "CONTACT_14_STATE       object             730483               99.996167   \n",
       "\n",
       "                   Sample Value Head Sample Value Tail Sample Value  \n",
       "Column_Name                                                          \n",
       "CONTACT_15_ZIPCODE               NaN               NaN          NaN  \n",
       "CONTACT_15_TYPE                  NaN               NaN          NaN  \n",
       "CONTACT_15_NAME                  NaN               NaN          NaN  \n",
       "CONTACT_15_CITY                  NaN               NaN          NaN  \n",
       "CONTACT_15_STATE                 NaN               NaN          NaN  \n",
       "CONTACT_14_TYPE                  NaN               NaN          NaN  \n",
       "CONTACT_14_NAME                  NaN               NaN          NaN  \n",
       "CONTACT_14_CITY                  NaN               NaN          NaN  \n",
       "CONTACT_14_ZIPCODE               NaN               NaN          NaN  \n",
       "CONTACT_14_STATE                 NaN               NaN          NaN  "
      ]
     },
     "execution_count": 334,
     "metadata": {},
     "output_type": "execute_result"
    }
   ],
   "source": [
    "#preview top 10 columns with the most null values\n",
    "raw_overview.sort_values('Total Null Values',ascending=False).head(10)"
   ]
  },
  {
   "attachments": {},
   "cell_type": "markdown",
   "metadata": {},
   "source": [
    "* While there are 119 columns (potential features) in the dataset. However, some columns contain almost exclusively null values "
   ]
  },
  {
   "attachments": {},
   "cell_type": "markdown",
   "metadata": {},
   "source": [
    "**What is inside the data?**"
   ]
  },
  {
   "attachments": {},
   "cell_type": "markdown",
   "metadata": {},
   "source": [
    "To better understand different types of columns in the dataset select columns cointaining different words such as 'FEE', 'TYPE', 'CONTACT'"
   ]
  },
  {
   "cell_type": "code",
   "execution_count": 344,
   "metadata": {},
   "outputs": [
    {
     "data": {
      "text/html": [
       "<div>\n",
       "<style scoped>\n",
       "    .dataframe tbody tr th:only-of-type {\n",
       "        vertical-align: middle;\n",
       "    }\n",
       "\n",
       "    .dataframe tbody tr th {\n",
       "        vertical-align: top;\n",
       "    }\n",
       "\n",
       "    .dataframe thead th {\n",
       "        text-align: right;\n",
       "    }\n",
       "</style>\n",
       "<table border=\"1\" class=\"dataframe\">\n",
       "  <thead>\n",
       "    <tr style=\"text-align: right;\">\n",
       "      <th></th>\n",
       "      <th>BUILDING_FEE_PAID</th>\n",
       "      <th>ZONING_FEE_PAID</th>\n",
       "      <th>OTHER_FEE_PAID</th>\n",
       "      <th>BUILDING_FEE_UNPAID</th>\n",
       "      <th>ZONING_FEE_UNPAID</th>\n",
       "      <th>OTHER_FEE_UNPAID</th>\n",
       "      <th>BUILDING_FEE_WAIVED</th>\n",
       "      <th>ZONING_FEE_WAIVED</th>\n",
       "      <th>OTHER_FEE_WAIVED</th>\n",
       "      <th>TOTAL_FEE</th>\n",
       "    </tr>\n",
       "  </thead>\n",
       "  <tbody>\n",
       "    <tr>\n",
       "      <th>511583</th>\n",
       "      <td>225.0</td>\n",
       "      <td>50.0</td>\n",
       "      <td>0.0</td>\n",
       "      <td>0.0</td>\n",
       "      <td>0.0</td>\n",
       "      <td>0.0</td>\n",
       "      <td>0.0</td>\n",
       "      <td>0.0</td>\n",
       "      <td>0.0</td>\n",
       "      <td>275.0</td>\n",
       "    </tr>\n",
       "  </tbody>\n",
       "</table>\n",
       "</div>"
      ],
      "text/plain": [
       "        BUILDING_FEE_PAID  ZONING_FEE_PAID  OTHER_FEE_PAID  \\\n",
       "511583              225.0             50.0             0.0   \n",
       "\n",
       "        BUILDING_FEE_UNPAID  ZONING_FEE_UNPAID  OTHER_FEE_UNPAID  \\\n",
       "511583                  0.0                0.0               0.0   \n",
       "\n",
       "        BUILDING_FEE_WAIVED  ZONING_FEE_WAIVED  OTHER_FEE_WAIVED  TOTAL_FEE  \n",
       "511583                  0.0                0.0               0.0      275.0  "
      ]
     },
     "execution_count": 344,
     "metadata": {},
     "output_type": "execute_result"
    }
   ],
   "source": [
    "#Using a custom function defined in functions.py select columns containing 'FEE' in its name \n",
    "get_columns_with_regex(permits_raw,'FEE').sample()"
   ]
  },
  {
   "attachments": {},
   "cell_type": "markdown",
   "metadata": {},
   "source": [
    "* Each row has data for different type of Fees Paid for each application\n",
    "* Fees paid depend on the type of application and, hence, contain information about the type of application. \n",
    "* `Link to the sources`"
   ]
  },
  {
   "cell_type": "code",
   "execution_count": 345,
   "metadata": {},
   "outputs": [
    {
     "data": {
      "text/html": [
       "<div>\n",
       "<style scoped>\n",
       "    .dataframe tbody tr th:only-of-type {\n",
       "        vertical-align: middle;\n",
       "    }\n",
       "\n",
       "    .dataframe tbody tr th {\n",
       "        vertical-align: top;\n",
       "    }\n",
       "\n",
       "    .dataframe thead th {\n",
       "        text-align: right;\n",
       "    }\n",
       "</style>\n",
       "<table border=\"1\" class=\"dataframe\">\n",
       "  <thead>\n",
       "    <tr style=\"text-align: right;\">\n",
       "      <th></th>\n",
       "      <th>PERMIT_TYPE</th>\n",
       "      <th>REVIEW_TYPE</th>\n",
       "      <th>CONTACT_1_TYPE</th>\n",
       "      <th>CONTACT_2_TYPE</th>\n",
       "      <th>CONTACT_3_TYPE</th>\n",
       "      <th>CONTACT_4_TYPE</th>\n",
       "      <th>CONTACT_5_TYPE</th>\n",
       "      <th>CONTACT_6_TYPE</th>\n",
       "      <th>CONTACT_7_TYPE</th>\n",
       "      <th>CONTACT_8_TYPE</th>\n",
       "      <th>CONTACT_9_TYPE</th>\n",
       "      <th>CONTACT_10_TYPE</th>\n",
       "      <th>CONTACT_11_TYPE</th>\n",
       "      <th>CONTACT_12_TYPE</th>\n",
       "      <th>CONTACT_13_TYPE</th>\n",
       "      <th>CONTACT_14_TYPE</th>\n",
       "      <th>CONTACT_15_TYPE</th>\n",
       "    </tr>\n",
       "  </thead>\n",
       "  <tbody>\n",
       "    <tr>\n",
       "      <th>182045</th>\n",
       "      <td>PERMIT - ELECTRIC WIRING</td>\n",
       "      <td>EASY PERMIT WEB</td>\n",
       "      <td>CONTRACTOR-ELECTRICAL</td>\n",
       "      <td>NaN</td>\n",
       "      <td>NaN</td>\n",
       "      <td>NaN</td>\n",
       "      <td>NaN</td>\n",
       "      <td>NaN</td>\n",
       "      <td>NaN</td>\n",
       "      <td>NaN</td>\n",
       "      <td>NaN</td>\n",
       "      <td>NaN</td>\n",
       "      <td>NaN</td>\n",
       "      <td>NaN</td>\n",
       "      <td>NaN</td>\n",
       "      <td>NaN</td>\n",
       "      <td>NaN</td>\n",
       "    </tr>\n",
       "  </tbody>\n",
       "</table>\n",
       "</div>"
      ],
      "text/plain": [
       "                     PERMIT_TYPE      REVIEW_TYPE         CONTACT_1_TYPE  \\\n",
       "182045  PERMIT - ELECTRIC WIRING  EASY PERMIT WEB  CONTRACTOR-ELECTRICAL   \n",
       "\n",
       "       CONTACT_2_TYPE CONTACT_3_TYPE CONTACT_4_TYPE CONTACT_5_TYPE  \\\n",
       "182045            NaN            NaN            NaN            NaN   \n",
       "\n",
       "       CONTACT_6_TYPE CONTACT_7_TYPE CONTACT_8_TYPE CONTACT_9_TYPE  \\\n",
       "182045            NaN            NaN            NaN            NaN   \n",
       "\n",
       "       CONTACT_10_TYPE CONTACT_11_TYPE CONTACT_12_TYPE CONTACT_13_TYPE  \\\n",
       "182045             NaN             NaN             NaN             NaN   \n",
       "\n",
       "       CONTACT_14_TYPE CONTACT_15_TYPE  \n",
       "182045             NaN             NaN  "
      ]
     },
     "execution_count": 345,
     "metadata": {},
     "output_type": "execute_result"
    }
   ],
   "source": [
    "#Select columns containing 'TYPE' in their names\n",
    "get_columns_with_regex(permits_raw,'TYPE').sample()"
   ]
  },
  {
   "attachments": {},
   "cell_type": "markdown",
   "metadata": {},
   "source": [
    "* Different Permit, Review and Contact Types\n",
    "* Each Application contains information about up to 15 contacts responsible for the project"
   ]
  },
  {
   "cell_type": "code",
   "execution_count": 342,
   "metadata": {},
   "outputs": [
    {
     "data": {
      "text/html": [
       "<div>\n",
       "<style scoped>\n",
       "    .dataframe tbody tr th:only-of-type {\n",
       "        vertical-align: middle;\n",
       "    }\n",
       "\n",
       "    .dataframe tbody tr th {\n",
       "        vertical-align: top;\n",
       "    }\n",
       "\n",
       "    .dataframe thead th {\n",
       "        text-align: right;\n",
       "    }\n",
       "</style>\n",
       "<table border=\"1\" class=\"dataframe\">\n",
       "  <thead>\n",
       "    <tr style=\"text-align: right;\">\n",
       "      <th></th>\n",
       "      <th>CONTACT_1_TYPE</th>\n",
       "      <th>CONTACT_1_NAME</th>\n",
       "      <th>CONTACT_1_CITY</th>\n",
       "      <th>CONTACT_1_STATE</th>\n",
       "      <th>CONTACT_1_ZIPCODE</th>\n",
       "    </tr>\n",
       "  </thead>\n",
       "  <tbody>\n",
       "    <tr>\n",
       "      <th>649160</th>\n",
       "      <td>EXPEDITOR</td>\n",
       "      <td>GC CONSULTING LLC</td>\n",
       "      <td>CHICAGO</td>\n",
       "      <td>IL</td>\n",
       "      <td>60602-</td>\n",
       "    </tr>\n",
       "  </tbody>\n",
       "</table>\n",
       "</div>"
      ],
      "text/plain": [
       "       CONTACT_1_TYPE     CONTACT_1_NAME CONTACT_1_CITY CONTACT_1_STATE  \\\n",
       "649160      EXPEDITOR  GC CONSULTING LLC        CHICAGO              IL   \n",
       "\n",
       "       CONTACT_1_ZIPCODE  \n",
       "649160            60602-  "
      ]
     },
     "execution_count": 342,
     "metadata": {},
     "output_type": "execute_result"
    }
   ],
   "source": [
    "#Select columns containing 'CONTACT_1' in their names to understand what type of information is provided for each contact\n",
    "get_columns_with_regex(permits_raw,'CONTACT_1_').sample()"
   ]
  },
  {
   "attachments": {},
   "cell_type": "markdown",
   "metadata": {},
   "source": [
    "* Each Contact contains its Type (such as Architect, Contractor, Owner), Name and Contact's Local Address (City, State and Zipcode)"
   ]
  },
  {
   "attachments": {},
   "cell_type": "markdown",
   "metadata": {},
   "source": [
    "***"
   ]
  },
  {
   "attachments": {},
   "cell_type": "markdown",
   "metadata": {},
   "source": [
    "**<center><h2> INITIAL FEATURE SELECTION <center><h2>**"
   ]
  },
  {
   "attachments": {},
   "cell_type": "markdown",
   "metadata": {},
   "source": [
    "### Null Values and Inital Feature Selection"
   ]
  },
  {
   "attachments": {},
   "cell_type": "markdown",
   "metadata": {},
   "source": [
    "Let's drop columns where the number of nulls is 15% or more"
   ]
  },
  {
   "cell_type": "code",
   "execution_count": 375,
   "metadata": {},
   "outputs": [
    {
     "data": {
      "text/html": [
       "<div>\n",
       "<style scoped>\n",
       "    .dataframe tbody tr th:only-of-type {\n",
       "        vertical-align: middle;\n",
       "    }\n",
       "\n",
       "    .dataframe tbody tr th {\n",
       "        vertical-align: top;\n",
       "    }\n",
       "\n",
       "    .dataframe thead th {\n",
       "        text-align: right;\n",
       "    }\n",
       "</style>\n",
       "<table border=\"1\" class=\"dataframe\">\n",
       "  <thead>\n",
       "    <tr style=\"text-align: right;\">\n",
       "      <th></th>\n",
       "      <th>Data Types</th>\n",
       "      <th>Total Null Values</th>\n",
       "      <th>Null Values Percentage</th>\n",
       "      <th>Sample Value Head</th>\n",
       "      <th>Sample Value Tail</th>\n",
       "      <th>Sample Value</th>\n",
       "    </tr>\n",
       "    <tr>\n",
       "      <th>Column_Name</th>\n",
       "      <th></th>\n",
       "      <th></th>\n",
       "      <th></th>\n",
       "      <th></th>\n",
       "      <th></th>\n",
       "      <th></th>\n",
       "    </tr>\n",
       "  </thead>\n",
       "  <tbody>\n",
       "    <tr>\n",
       "      <th>CONTACT_2_TYPE</th>\n",
       "      <td>object</td>\n",
       "      <td>277310</td>\n",
       "      <td>37.961098</td>\n",
       "      <td>ARCHITECT</td>\n",
       "      <td>NaN</td>\n",
       "      <td>NaN</td>\n",
       "    </tr>\n",
       "    <tr>\n",
       "      <th>CONTACT_2_NAME</th>\n",
       "      <td>object</td>\n",
       "      <td>277310</td>\n",
       "      <td>37.961098</td>\n",
       "      <td>IURO ANTHONY J</td>\n",
       "      <td>NaN</td>\n",
       "      <td>NaN</td>\n",
       "    </tr>\n",
       "    <tr>\n",
       "      <th>CONTACT_2_CITY</th>\n",
       "      <td>object</td>\n",
       "      <td>278918</td>\n",
       "      <td>38.181218</td>\n",
       "      <td>CHICAGO</td>\n",
       "      <td>NaN</td>\n",
       "      <td>NaN</td>\n",
       "    </tr>\n",
       "    <tr>\n",
       "      <th>CONTACT_2_STATE</th>\n",
       "      <td>object</td>\n",
       "      <td>279326</td>\n",
       "      <td>38.237070</td>\n",
       "      <td>IL</td>\n",
       "      <td>NaN</td>\n",
       "      <td>NaN</td>\n",
       "    </tr>\n",
       "    <tr>\n",
       "      <th>CONTACT_2_ZIPCODE</th>\n",
       "      <td>object</td>\n",
       "      <td>290681</td>\n",
       "      <td>39.791461</td>\n",
       "      <td>60602-</td>\n",
       "      <td>NaN</td>\n",
       "      <td>NaN</td>\n",
       "    </tr>\n",
       "    <tr>\n",
       "      <th>...</th>\n",
       "      <td>...</td>\n",
       "      <td>...</td>\n",
       "      <td>...</td>\n",
       "      <td>...</td>\n",
       "      <td>...</td>\n",
       "      <td>...</td>\n",
       "    </tr>\n",
       "    <tr>\n",
       "      <th>PIN6</th>\n",
       "      <td>object</td>\n",
       "      <td>722630</td>\n",
       "      <td>98.921166</td>\n",
       "      <td>NaN</td>\n",
       "      <td>NaN</td>\n",
       "      <td>NaN</td>\n",
       "    </tr>\n",
       "    <tr>\n",
       "      <th>PIN7</th>\n",
       "      <td>object</td>\n",
       "      <td>725029</td>\n",
       "      <td>99.249566</td>\n",
       "      <td>NaN</td>\n",
       "      <td>NaN</td>\n",
       "      <td>NaN</td>\n",
       "    </tr>\n",
       "    <tr>\n",
       "      <th>PIN8</th>\n",
       "      <td>object</td>\n",
       "      <td>726086</td>\n",
       "      <td>99.394260</td>\n",
       "      <td>NaN</td>\n",
       "      <td>NaN</td>\n",
       "      <td>NaN</td>\n",
       "    </tr>\n",
       "    <tr>\n",
       "      <th>PIN9</th>\n",
       "      <td>object</td>\n",
       "      <td>726951</td>\n",
       "      <td>99.512670</td>\n",
       "      <td>NaN</td>\n",
       "      <td>NaN</td>\n",
       "      <td>NaN</td>\n",
       "    </tr>\n",
       "    <tr>\n",
       "      <th>PIN10</th>\n",
       "      <td>object</td>\n",
       "      <td>727438</td>\n",
       "      <td>99.579336</td>\n",
       "      <td>NaN</td>\n",
       "      <td>NaN</td>\n",
       "      <td>NaN</td>\n",
       "    </tr>\n",
       "  </tbody>\n",
       "</table>\n",
       "<p>79 rows × 6 columns</p>\n",
       "</div>"
      ],
      "text/plain": [
       "                  Data Types  Total Null Values  Null Values Percentage  \\\n",
       "Column_Name                                                               \n",
       "CONTACT_2_TYPE        object             277310               37.961098   \n",
       "CONTACT_2_NAME        object             277310               37.961098   \n",
       "CONTACT_2_CITY        object             278918               38.181218   \n",
       "CONTACT_2_STATE       object             279326               38.237070   \n",
       "CONTACT_2_ZIPCODE     object             290681               39.791461   \n",
       "...                      ...                ...                     ...   \n",
       "PIN6                  object             722630               98.921166   \n",
       "PIN7                  object             725029               99.249566   \n",
       "PIN8                  object             726086               99.394260   \n",
       "PIN9                  object             726951               99.512670   \n",
       "PIN10                 object             727438               99.579336   \n",
       "\n",
       "                  Sample Value Head Sample Value Tail Sample Value  \n",
       "Column_Name                                                         \n",
       "CONTACT_2_TYPE            ARCHITECT               NaN          NaN  \n",
       "CONTACT_2_NAME       IURO ANTHONY J               NaN          NaN  \n",
       "CONTACT_2_CITY              CHICAGO               NaN          NaN  \n",
       "CONTACT_2_STATE                  IL               NaN          NaN  \n",
       "CONTACT_2_ZIPCODE            60602-               NaN          NaN  \n",
       "...                             ...               ...          ...  \n",
       "PIN6                            NaN               NaN          NaN  \n",
       "PIN7                            NaN               NaN          NaN  \n",
       "PIN8                            NaN               NaN          NaN  \n",
       "PIN9                            NaN               NaN          NaN  \n",
       "PIN10                           NaN               NaN          NaN  \n",
       "\n",
       "[79 rows x 6 columns]"
      ]
     },
     "execution_count": 375,
     "metadata": {},
     "output_type": "execute_result"
    }
   ],
   "source": [
    "raw_overview[raw_overview['Null Values Percentage']>=15]"
   ]
  },
  {
   "cell_type": "code",
   "execution_count": 377,
   "metadata": {},
   "outputs": [],
   "source": [
    "#Calculate the percentage of null rows for each column\n",
    "col_non_valid=raw_overview[raw_overview['Null Values Percentage']>=15].index\n",
    "\n",
    "#Valid columns (where the number of nulls is less than 15%)\n",
    "col_valid=[col for col in permits_raw.columns if col not in col_non_valid]"
   ]
  },
  {
   "cell_type": "code",
   "execution_count": 391,
   "metadata": {},
   "outputs": [],
   "source": [
    "#Drop non-valid columns\n",
    "permits_wip_1=permits_raw.drop(columns=col_non_valid)"
   ]
  },
  {
   "cell_type": "code",
   "execution_count": 392,
   "metadata": {},
   "outputs": [
    {
     "name": "stdout",
     "output_type": "stream",
     "text": [
      "The dataframe shape is (730511, 40)\n"
     ]
    },
    {
     "data": {
      "text/html": [
       "<div>\n",
       "<style scoped>\n",
       "    .dataframe tbody tr th:only-of-type {\n",
       "        vertical-align: middle;\n",
       "    }\n",
       "\n",
       "    .dataframe tbody tr th {\n",
       "        vertical-align: top;\n",
       "    }\n",
       "\n",
       "    .dataframe thead th {\n",
       "        text-align: right;\n",
       "    }\n",
       "</style>\n",
       "<table border=\"1\" class=\"dataframe\">\n",
       "  <thead>\n",
       "    <tr style=\"text-align: right;\">\n",
       "      <th></th>\n",
       "      <th>Data Types</th>\n",
       "      <th>Total Null Values</th>\n",
       "      <th>Null Values Percentage</th>\n",
       "      <th>Sample Value Head</th>\n",
       "      <th>Sample Value Tail</th>\n",
       "      <th>Sample Value</th>\n",
       "    </tr>\n",
       "    <tr>\n",
       "      <th>Column_Name</th>\n",
       "      <th></th>\n",
       "      <th></th>\n",
       "      <th></th>\n",
       "      <th></th>\n",
       "      <th></th>\n",
       "      <th></th>\n",
       "    </tr>\n",
       "  </thead>\n",
       "  <tbody>\n",
       "    <tr>\n",
       "      <th>ID</th>\n",
       "      <td>int64</td>\n",
       "      <td>0</td>\n",
       "      <td>0.000000</td>\n",
       "      <td>1614287</td>\n",
       "      <td>3308675</td>\n",
       "      <td>2944966</td>\n",
       "    </tr>\n",
       "    <tr>\n",
       "      <th>PERMIT#</th>\n",
       "      <td>object</td>\n",
       "      <td>0</td>\n",
       "      <td>0.000000</td>\n",
       "      <td>100072880</td>\n",
       "      <td>101006675</td>\n",
       "      <td>100764248</td>\n",
       "    </tr>\n",
       "    <tr>\n",
       "      <th>PERMIT_TYPE</th>\n",
       "      <td>object</td>\n",
       "      <td>0</td>\n",
       "      <td>0.000000</td>\n",
       "      <td>PERMIT - RENOVATION/ALTERATION</td>\n",
       "      <td>PERMIT - ELECTRIC WIRING</td>\n",
       "      <td>PERMIT - EASY PERMIT PROCESS</td>\n",
       "    </tr>\n",
       "    <tr>\n",
       "      <th>REVIEW_TYPE</th>\n",
       "      <td>object</td>\n",
       "      <td>7</td>\n",
       "      <td>0.000958</td>\n",
       "      <td>STANDARD PLAN REVIEW</td>\n",
       "      <td>EASY PERMIT WEB</td>\n",
       "      <td>EASY PERMIT</td>\n",
       "    </tr>\n",
       "    <tr>\n",
       "      <th>APPLICATION_START_DATE</th>\n",
       "      <td>object</td>\n",
       "      <td>522</td>\n",
       "      <td>0.071457</td>\n",
       "      <td>10/14/2005</td>\n",
       "      <td>02/24/2023</td>\n",
       "      <td>05/29/2018</td>\n",
       "    </tr>\n",
       "    <tr>\n",
       "      <th>ISSUE_DATE</th>\n",
       "      <td>object</td>\n",
       "      <td>0</td>\n",
       "      <td>0.000000</td>\n",
       "      <td>01/03/2006</td>\n",
       "      <td>02/24/2023</td>\n",
       "      <td>06/05/2018</td>\n",
       "    </tr>\n",
       "    <tr>\n",
       "      <th>PROCESSING_TIME</th>\n",
       "      <td>float64</td>\n",
       "      <td>522</td>\n",
       "      <td>0.071457</td>\n",
       "      <td>81.0</td>\n",
       "      <td>0.0</td>\n",
       "      <td>7.0</td>\n",
       "    </tr>\n",
       "    <tr>\n",
       "      <th>STREET_NUMBER</th>\n",
       "      <td>int64</td>\n",
       "      <td>0</td>\n",
       "      <td>0.000000</td>\n",
       "      <td>2728</td>\n",
       "      <td>12423</td>\n",
       "      <td>3151</td>\n",
       "    </tr>\n",
       "    <tr>\n",
       "      <th>STREET DIRECTION</th>\n",
       "      <td>object</td>\n",
       "      <td>0</td>\n",
       "      <td>0.000000</td>\n",
       "      <td>N</td>\n",
       "      <td>S</td>\n",
       "      <td>N</td>\n",
       "    </tr>\n",
       "    <tr>\n",
       "      <th>STREET_NAME</th>\n",
       "      <td>object</td>\n",
       "      <td>0</td>\n",
       "      <td>0.000000</td>\n",
       "      <td>MONTICELLO</td>\n",
       "      <td>LOWE</td>\n",
       "      <td>LINCOLN</td>\n",
       "    </tr>\n",
       "    <tr>\n",
       "      <th>SUFFIX</th>\n",
       "      <td>object</td>\n",
       "      <td>6762</td>\n",
       "      <td>0.925653</td>\n",
       "      <td>AVE</td>\n",
       "      <td>AVE</td>\n",
       "      <td>AVE</td>\n",
       "    </tr>\n",
       "    <tr>\n",
       "      <th>WORK_DESCRIPTION</th>\n",
       "      <td>object</td>\n",
       "      <td>53</td>\n",
       "      <td>0.007255</td>\n",
       "      <td>INTERIOR REMODELING OF EXISTING 3 D.U. PER PLA...</td>\n",
       "      <td>REPAIR SERVICE</td>\n",
       "      <td>REPLACE (4) GARAGE EXHAUST FANS.</td>\n",
       "    </tr>\n",
       "    <tr>\n",
       "      <th>BUILDING_FEE_PAID</th>\n",
       "      <td>float64</td>\n",
       "      <td>0</td>\n",
       "      <td>0.000000</td>\n",
       "      <td>125.0</td>\n",
       "      <td>75.0</td>\n",
       "      <td>375.0</td>\n",
       "    </tr>\n",
       "    <tr>\n",
       "      <th>ZONING_FEE_PAID</th>\n",
       "      <td>float64</td>\n",
       "      <td>0</td>\n",
       "      <td>0.000000</td>\n",
       "      <td>75.0</td>\n",
       "      <td>0.0</td>\n",
       "      <td>0.0</td>\n",
       "    </tr>\n",
       "    <tr>\n",
       "      <th>OTHER_FEE_PAID</th>\n",
       "      <td>float64</td>\n",
       "      <td>0</td>\n",
       "      <td>0.000000</td>\n",
       "      <td>0.0</td>\n",
       "      <td>0.0</td>\n",
       "      <td>0.0</td>\n",
       "    </tr>\n",
       "    <tr>\n",
       "      <th>SUBTOTAL_PAID</th>\n",
       "      <td>float64</td>\n",
       "      <td>0</td>\n",
       "      <td>0.000000</td>\n",
       "      <td>200.0</td>\n",
       "      <td>75.0</td>\n",
       "      <td>375.0</td>\n",
       "    </tr>\n",
       "    <tr>\n",
       "      <th>BUILDING_FEE_UNPAID</th>\n",
       "      <td>float64</td>\n",
       "      <td>0</td>\n",
       "      <td>0.000000</td>\n",
       "      <td>0.0</td>\n",
       "      <td>0.0</td>\n",
       "      <td>0.0</td>\n",
       "    </tr>\n",
       "    <tr>\n",
       "      <th>ZONING_FEE_UNPAID</th>\n",
       "      <td>float64</td>\n",
       "      <td>0</td>\n",
       "      <td>0.000000</td>\n",
       "      <td>0.0</td>\n",
       "      <td>0.0</td>\n",
       "      <td>0.0</td>\n",
       "    </tr>\n",
       "    <tr>\n",
       "      <th>OTHER_FEE_UNPAID</th>\n",
       "      <td>float64</td>\n",
       "      <td>0</td>\n",
       "      <td>0.000000</td>\n",
       "      <td>0.0</td>\n",
       "      <td>0.0</td>\n",
       "      <td>0.0</td>\n",
       "    </tr>\n",
       "    <tr>\n",
       "      <th>SUBTOTAL_UNPAID</th>\n",
       "      <td>float64</td>\n",
       "      <td>0</td>\n",
       "      <td>0.000000</td>\n",
       "      <td>0.0</td>\n",
       "      <td>0.0</td>\n",
       "      <td>0.0</td>\n",
       "    </tr>\n",
       "    <tr>\n",
       "      <th>BUILDING_FEE_WAIVED</th>\n",
       "      <td>float64</td>\n",
       "      <td>0</td>\n",
       "      <td>0.000000</td>\n",
       "      <td>0.0</td>\n",
       "      <td>0.0</td>\n",
       "      <td>0.0</td>\n",
       "    </tr>\n",
       "    <tr>\n",
       "      <th>ZONING_FEE_WAIVED</th>\n",
       "      <td>float64</td>\n",
       "      <td>0</td>\n",
       "      <td>0.000000</td>\n",
       "      <td>0.0</td>\n",
       "      <td>0.0</td>\n",
       "      <td>0.0</td>\n",
       "    </tr>\n",
       "    <tr>\n",
       "      <th>OTHER_FEE_WAIVED</th>\n",
       "      <td>float64</td>\n",
       "      <td>0</td>\n",
       "      <td>0.000000</td>\n",
       "      <td>0.0</td>\n",
       "      <td>0.0</td>\n",
       "      <td>0.0</td>\n",
       "    </tr>\n",
       "    <tr>\n",
       "      <th>SUBTOTAL_WAIVED</th>\n",
       "      <td>float64</td>\n",
       "      <td>0</td>\n",
       "      <td>0.000000</td>\n",
       "      <td>0.0</td>\n",
       "      <td>0.0</td>\n",
       "      <td>0.0</td>\n",
       "    </tr>\n",
       "    <tr>\n",
       "      <th>TOTAL_FEE</th>\n",
       "      <td>float64</td>\n",
       "      <td>0</td>\n",
       "      <td>0.000000</td>\n",
       "      <td>200.0</td>\n",
       "      <td>75.0</td>\n",
       "      <td>375.0</td>\n",
       "    </tr>\n",
       "    <tr>\n",
       "      <th>CONTACT_1_TYPE</th>\n",
       "      <td>object</td>\n",
       "      <td>4773</td>\n",
       "      <td>0.653378</td>\n",
       "      <td>OWNER AS GENERAL CONTRACTOR</td>\n",
       "      <td>CONTRACTOR-ELECTRICAL</td>\n",
       "      <td>CONTRACTOR-VENTILATION</td>\n",
       "    </tr>\n",
       "    <tr>\n",
       "      <th>CONTACT_1_NAME</th>\n",
       "      <td>object</td>\n",
       "      <td>4773</td>\n",
       "      <td>0.653378</td>\n",
       "      <td>MARIA AND GABRIEL BAILON</td>\n",
       "      <td>SUNRUN INSTALLATION SERVICES</td>\n",
       "      <td>HILL MECHANICAL</td>\n",
       "    </tr>\n",
       "    <tr>\n",
       "      <th>CONTACT_1_CITY</th>\n",
       "      <td>object</td>\n",
       "      <td>10305</td>\n",
       "      <td>1.410656</td>\n",
       "      <td>CHICAGO</td>\n",
       "      <td>SOMERSET</td>\n",
       "      <td>FRANKLIN PARK</td>\n",
       "    </tr>\n",
       "    <tr>\n",
       "      <th>CONTACT_1_STATE</th>\n",
       "      <td>object</td>\n",
       "      <td>6903</td>\n",
       "      <td>0.944955</td>\n",
       "      <td>IL</td>\n",
       "      <td>NJ</td>\n",
       "      <td>IL</td>\n",
       "    </tr>\n",
       "    <tr>\n",
       "      <th>CONTACT_1_ZIPCODE</th>\n",
       "      <td>object</td>\n",
       "      <td>13043</td>\n",
       "      <td>1.785463</td>\n",
       "      <td>60647</td>\n",
       "      <td>08873</td>\n",
       "      <td>60621-</td>\n",
       "    </tr>\n",
       "    <tr>\n",
       "      <th>REPORTED_COST</th>\n",
       "      <td>float64</td>\n",
       "      <td>373</td>\n",
       "      <td>0.051060</td>\n",
       "      <td>3000.0</td>\n",
       "      <td>500.0</td>\n",
       "      <td>0.0</td>\n",
       "    </tr>\n",
       "    <tr>\n",
       "      <th>PIN1</th>\n",
       "      <td>object</td>\n",
       "      <td>94775</td>\n",
       "      <td>12.973795</td>\n",
       "      <td>13-26-305-033</td>\n",
       "      <td>25-28-311-049</td>\n",
       "      <td>14-29-100-040-0000</td>\n",
       "    </tr>\n",
       "    <tr>\n",
       "      <th>COMMUNITY_AREA</th>\n",
       "      <td>float64</td>\n",
       "      <td>104841</td>\n",
       "      <td>14.351735</td>\n",
       "      <td>NaN</td>\n",
       "      <td>53.0</td>\n",
       "      <td>6.0</td>\n",
       "    </tr>\n",
       "    <tr>\n",
       "      <th>CENSUS_TRACT</th>\n",
       "      <td>float64</td>\n",
       "      <td>109049</td>\n",
       "      <td>14.927770</td>\n",
       "      <td>NaN</td>\n",
       "      <td>530503.0</td>\n",
       "      <td>62700.0</td>\n",
       "    </tr>\n",
       "    <tr>\n",
       "      <th>WARD</th>\n",
       "      <td>float64</td>\n",
       "      <td>105051</td>\n",
       "      <td>14.380482</td>\n",
       "      <td>NaN</td>\n",
       "      <td>34.0</td>\n",
       "      <td>32.0</td>\n",
       "    </tr>\n",
       "    <tr>\n",
       "      <th>XCOORDINATE</th>\n",
       "      <td>float64</td>\n",
       "      <td>1352</td>\n",
       "      <td>0.185076</td>\n",
       "      <td>1151538.764988</td>\n",
       "      <td>1174277.877745</td>\n",
       "      <td>1165364.928025</td>\n",
       "    </tr>\n",
       "    <tr>\n",
       "      <th>YCOORDINATE</th>\n",
       "      <td>float64</td>\n",
       "      <td>1352</td>\n",
       "      <td>0.185076</td>\n",
       "      <td>1918030.52352</td>\n",
       "      <td>1822395.541195</td>\n",
       "      <td>1921098.838648</td>\n",
       "    </tr>\n",
       "    <tr>\n",
       "      <th>LATITUDE</th>\n",
       "      <td>float64</td>\n",
       "      <td>2254</td>\n",
       "      <td>0.308551</td>\n",
       "      <td>41.930957</td>\n",
       "      <td>41.668048</td>\n",
       "      <td>41.939094</td>\n",
       "    </tr>\n",
       "    <tr>\n",
       "      <th>LONGITUDE</th>\n",
       "      <td>float64</td>\n",
       "      <td>2254</td>\n",
       "      <td>0.308551</td>\n",
       "      <td>-87.718543</td>\n",
       "      <td>-87.637825</td>\n",
       "      <td>-87.667647</td>\n",
       "    </tr>\n",
       "    <tr>\n",
       "      <th>LOCATION</th>\n",
       "      <td>object</td>\n",
       "      <td>2254</td>\n",
       "      <td>0.308551</td>\n",
       "      <td>POINT (-87.718542820893 41.930957454144)</td>\n",
       "      <td>POINT (-87.63782516755 41.668047559861)</td>\n",
       "      <td>POINT (-87.667646950421 41.939093785852)</td>\n",
       "    </tr>\n",
       "  </tbody>\n",
       "</table>\n",
       "</div>"
      ],
      "text/plain": [
       "                       Data Types  Total Null Values  Null Values Percentage  \\\n",
       "Column_Name                                                                    \n",
       "ID                          int64                  0                0.000000   \n",
       "PERMIT#                    object                  0                0.000000   \n",
       "PERMIT_TYPE                object                  0                0.000000   \n",
       "REVIEW_TYPE                object                  7                0.000958   \n",
       "APPLICATION_START_DATE     object                522                0.071457   \n",
       "ISSUE_DATE                 object                  0                0.000000   \n",
       "PROCESSING_TIME           float64                522                0.071457   \n",
       "STREET_NUMBER               int64                  0                0.000000   \n",
       "STREET DIRECTION           object                  0                0.000000   \n",
       "STREET_NAME                object                  0                0.000000   \n",
       "SUFFIX                     object               6762                0.925653   \n",
       "WORK_DESCRIPTION           object                 53                0.007255   \n",
       "BUILDING_FEE_PAID         float64                  0                0.000000   \n",
       "ZONING_FEE_PAID           float64                  0                0.000000   \n",
       "OTHER_FEE_PAID            float64                  0                0.000000   \n",
       "SUBTOTAL_PAID             float64                  0                0.000000   \n",
       "BUILDING_FEE_UNPAID       float64                  0                0.000000   \n",
       "ZONING_FEE_UNPAID         float64                  0                0.000000   \n",
       "OTHER_FEE_UNPAID          float64                  0                0.000000   \n",
       "SUBTOTAL_UNPAID           float64                  0                0.000000   \n",
       "BUILDING_FEE_WAIVED       float64                  0                0.000000   \n",
       "ZONING_FEE_WAIVED         float64                  0                0.000000   \n",
       "OTHER_FEE_WAIVED          float64                  0                0.000000   \n",
       "SUBTOTAL_WAIVED           float64                  0                0.000000   \n",
       "TOTAL_FEE                 float64                  0                0.000000   \n",
       "CONTACT_1_TYPE             object               4773                0.653378   \n",
       "CONTACT_1_NAME             object               4773                0.653378   \n",
       "CONTACT_1_CITY             object              10305                1.410656   \n",
       "CONTACT_1_STATE            object               6903                0.944955   \n",
       "CONTACT_1_ZIPCODE          object              13043                1.785463   \n",
       "REPORTED_COST             float64                373                0.051060   \n",
       "PIN1                       object              94775               12.973795   \n",
       "COMMUNITY_AREA            float64             104841               14.351735   \n",
       "CENSUS_TRACT              float64             109049               14.927770   \n",
       "WARD                      float64             105051               14.380482   \n",
       "XCOORDINATE               float64               1352                0.185076   \n",
       "YCOORDINATE               float64               1352                0.185076   \n",
       "LATITUDE                  float64               2254                0.308551   \n",
       "LONGITUDE                 float64               2254                0.308551   \n",
       "LOCATION                   object               2254                0.308551   \n",
       "\n",
       "                                                        Sample Value Head  \\\n",
       "Column_Name                                                                 \n",
       "ID                                                                1614287   \n",
       "PERMIT#                                                         100072880   \n",
       "PERMIT_TYPE                                PERMIT - RENOVATION/ALTERATION   \n",
       "REVIEW_TYPE                                          STANDARD PLAN REVIEW   \n",
       "APPLICATION_START_DATE                                         10/14/2005   \n",
       "ISSUE_DATE                                                     01/03/2006   \n",
       "PROCESSING_TIME                                                      81.0   \n",
       "STREET_NUMBER                                                        2728   \n",
       "STREET DIRECTION                                                        N   \n",
       "STREET_NAME                                                    MONTICELLO   \n",
       "SUFFIX                                                                AVE   \n",
       "WORK_DESCRIPTION        INTERIOR REMODELING OF EXISTING 3 D.U. PER PLA...   \n",
       "BUILDING_FEE_PAID                                                   125.0   \n",
       "ZONING_FEE_PAID                                                      75.0   \n",
       "OTHER_FEE_PAID                                                        0.0   \n",
       "SUBTOTAL_PAID                                                       200.0   \n",
       "BUILDING_FEE_UNPAID                                                   0.0   \n",
       "ZONING_FEE_UNPAID                                                     0.0   \n",
       "OTHER_FEE_UNPAID                                                      0.0   \n",
       "SUBTOTAL_UNPAID                                                       0.0   \n",
       "BUILDING_FEE_WAIVED                                                   0.0   \n",
       "ZONING_FEE_WAIVED                                                     0.0   \n",
       "OTHER_FEE_WAIVED                                                      0.0   \n",
       "SUBTOTAL_WAIVED                                                       0.0   \n",
       "TOTAL_FEE                                                           200.0   \n",
       "CONTACT_1_TYPE                                OWNER AS GENERAL CONTRACTOR   \n",
       "CONTACT_1_NAME                                   MARIA AND GABRIEL BAILON   \n",
       "CONTACT_1_CITY                                                    CHICAGO   \n",
       "CONTACT_1_STATE                                                        IL   \n",
       "CONTACT_1_ZIPCODE                                                   60647   \n",
       "REPORTED_COST                                                      3000.0   \n",
       "PIN1                                                        13-26-305-033   \n",
       "COMMUNITY_AREA                                                        NaN   \n",
       "CENSUS_TRACT                                                          NaN   \n",
       "WARD                                                                  NaN   \n",
       "XCOORDINATE                                                1151538.764988   \n",
       "YCOORDINATE                                                 1918030.52352   \n",
       "LATITUDE                                                        41.930957   \n",
       "LONGITUDE                                                      -87.718543   \n",
       "LOCATION                         POINT (-87.718542820893 41.930957454144)   \n",
       "\n",
       "                                              Sample Value Tail  \\\n",
       "Column_Name                                                       \n",
       "ID                                                      3308675   \n",
       "PERMIT#                                               101006675   \n",
       "PERMIT_TYPE                            PERMIT - ELECTRIC WIRING   \n",
       "REVIEW_TYPE                                     EASY PERMIT WEB   \n",
       "APPLICATION_START_DATE                               02/24/2023   \n",
       "ISSUE_DATE                                           02/24/2023   \n",
       "PROCESSING_TIME                                             0.0   \n",
       "STREET_NUMBER                                             12423   \n",
       "STREET DIRECTION                                              S   \n",
       "STREET_NAME                                                LOWE   \n",
       "SUFFIX                                                      AVE   \n",
       "WORK_DESCRIPTION                                 REPAIR SERVICE   \n",
       "BUILDING_FEE_PAID                                          75.0   \n",
       "ZONING_FEE_PAID                                             0.0   \n",
       "OTHER_FEE_PAID                                              0.0   \n",
       "SUBTOTAL_PAID                                              75.0   \n",
       "BUILDING_FEE_UNPAID                                         0.0   \n",
       "ZONING_FEE_UNPAID                                           0.0   \n",
       "OTHER_FEE_UNPAID                                            0.0   \n",
       "SUBTOTAL_UNPAID                                             0.0   \n",
       "BUILDING_FEE_WAIVED                                         0.0   \n",
       "ZONING_FEE_WAIVED                                           0.0   \n",
       "OTHER_FEE_WAIVED                                            0.0   \n",
       "SUBTOTAL_WAIVED                                             0.0   \n",
       "TOTAL_FEE                                                  75.0   \n",
       "CONTACT_1_TYPE                            CONTRACTOR-ELECTRICAL   \n",
       "CONTACT_1_NAME                     SUNRUN INSTALLATION SERVICES   \n",
       "CONTACT_1_CITY                                         SOMERSET   \n",
       "CONTACT_1_STATE                                              NJ   \n",
       "CONTACT_1_ZIPCODE                                         08873   \n",
       "REPORTED_COST                                             500.0   \n",
       "PIN1                                              25-28-311-049   \n",
       "COMMUNITY_AREA                                             53.0   \n",
       "CENSUS_TRACT                                           530503.0   \n",
       "WARD                                                       34.0   \n",
       "XCOORDINATE                                      1174277.877745   \n",
       "YCOORDINATE                                      1822395.541195   \n",
       "LATITUDE                                              41.668048   \n",
       "LONGITUDE                                            -87.637825   \n",
       "LOCATION                POINT (-87.63782516755 41.668047559861)   \n",
       "\n",
       "                                                    Sample Value  \n",
       "Column_Name                                                       \n",
       "ID                                                       2944966  \n",
       "PERMIT#                                                100764248  \n",
       "PERMIT_TYPE                         PERMIT - EASY PERMIT PROCESS  \n",
       "REVIEW_TYPE                                          EASY PERMIT  \n",
       "APPLICATION_START_DATE                                05/29/2018  \n",
       "ISSUE_DATE                                            06/05/2018  \n",
       "PROCESSING_TIME                                              7.0  \n",
       "STREET_NUMBER                                               3151  \n",
       "STREET DIRECTION                                               N  \n",
       "STREET_NAME                                              LINCOLN  \n",
       "SUFFIX                                                       AVE  \n",
       "WORK_DESCRIPTION                REPLACE (4) GARAGE EXHAUST FANS.  \n",
       "BUILDING_FEE_PAID                                          375.0  \n",
       "ZONING_FEE_PAID                                              0.0  \n",
       "OTHER_FEE_PAID                                               0.0  \n",
       "SUBTOTAL_PAID                                              375.0  \n",
       "BUILDING_FEE_UNPAID                                          0.0  \n",
       "ZONING_FEE_UNPAID                                            0.0  \n",
       "OTHER_FEE_UNPAID                                             0.0  \n",
       "SUBTOTAL_UNPAID                                              0.0  \n",
       "BUILDING_FEE_WAIVED                                          0.0  \n",
       "ZONING_FEE_WAIVED                                            0.0  \n",
       "OTHER_FEE_WAIVED                                             0.0  \n",
       "SUBTOTAL_WAIVED                                              0.0  \n",
       "TOTAL_FEE                                                  375.0  \n",
       "CONTACT_1_TYPE                            CONTRACTOR-VENTILATION  \n",
       "CONTACT_1_NAME                                   HILL MECHANICAL  \n",
       "CONTACT_1_CITY                                     FRANKLIN PARK  \n",
       "CONTACT_1_STATE                                               IL  \n",
       "CONTACT_1_ZIPCODE                                         60621-  \n",
       "REPORTED_COST                                                0.0  \n",
       "PIN1                                          14-29-100-040-0000  \n",
       "COMMUNITY_AREA                                               6.0  \n",
       "CENSUS_TRACT                                             62700.0  \n",
       "WARD                                                        32.0  \n",
       "XCOORDINATE                                       1165364.928025  \n",
       "YCOORDINATE                                       1921098.838648  \n",
       "LATITUDE                                               41.939094  \n",
       "LONGITUDE                                             -87.667647  \n",
       "LOCATION                POINT (-87.667646950421 41.939093785852)  "
      ]
     },
     "execution_count": 392,
     "metadata": {},
     "output_type": "execute_result"
    }
   ],
   "source": [
    "overview(permits_wip_1)"
   ]
  },
  {
   "attachments": {},
   "cell_type": "markdown",
   "metadata": {},
   "source": [
    "Drop  Remaining Columns not relevant for the project"
   ]
  },
  {
   "cell_type": "code",
   "execution_count": 393,
   "metadata": {},
   "outputs": [],
   "source": [
    "col_drop=['PERMIT#','WARD','COMMUNITY_AREA','PIN1','CONTACT_1_NAME','CONTACT_1_ZIPCODE','XCOORDINATE','YCOORDINATE']\n",
    "permits_wip_2=permits_wip_1.drop(columns=col_drop)"
   ]
  },
  {
   "attachments": {},
   "cell_type": "markdown",
   "metadata": {},
   "source": [
    "### Duplicates "
   ]
  },
  {
   "cell_type": "code",
   "execution_count": 394,
   "metadata": {},
   "outputs": [
    {
     "name": "stdout",
     "output_type": "stream",
     "text": [
      "There are 0 duplicate rows\n"
     ]
    }
   ],
   "source": [
    "print(f\"There are {permits_wip_2.duplicated().sum()} duplicate rows\")"
   ]
  },
  {
   "attachments": {},
   "cell_type": "markdown",
   "metadata": {},
   "source": [
    "Currently no duplicates but this would need to be checked again as we refine the columns being used."
   ]
  },
  {
   "attachments": {},
   "cell_type": "markdown",
   "metadata": {},
   "source": [
    "***"
   ]
  },
  {
   "attachments": {},
   "cell_type": "markdown",
   "metadata": {},
   "source": [
    "**<center><h2> CENSUS TRACTS CLEANING <center><h2>**"
   ]
  },
  {
   "attachments": {},
   "cell_type": "markdown",
   "metadata": {},
   "source": [
    "## Introduction to Census Tract Cleaning"
   ]
  },
  {
   "attachments": {},
   "cell_type": "markdown",
   "metadata": {},
   "source": [
    "* Census Tract Codes are key to the project as they form the link between different datasets.\n",
    "* However, currently almost 15% of datapoints are missing a census tract number\n",
    "* Moreover, currently provided census tracts are not all in a correct format and there might be differences in the census tract notation between the years"
   ]
  },
  {
   "cell_type": "code",
   "execution_count": 747,
   "metadata": {},
   "outputs": [
    {
     "data": {
      "text/plain": [
       "'Currently 14.93% of datapoints have census tracts missing'"
      ]
     },
     "execution_count": 747,
     "metadata": {},
     "output_type": "execute_result"
    }
   ],
   "source": [
    "(f\"Currently {permits_wip_2['CENSUS_TRACT'].isna().sum()*100/permits_wip_2.shape[0]:.2f}% of datapoints have census tracts missing\")"
   ]
  },
  {
   "attachments": {},
   "cell_type": "markdown",
   "metadata": {},
   "source": [
    "* Let's check if there are any patterns between the data of permit and its corresponding missing census_tracts"
   ]
  },
  {
   "cell_type": "code",
   "execution_count": 396,
   "metadata": {},
   "outputs": [
    {
     "data": {
      "text/plain": [
       "ISSUE_DATE\n",
       "2006    42.95\n",
       "2007    43.82\n",
       "2008     6.04\n",
       "2009     0.26\n",
       "2010     0.30\n",
       "2011     0.29\n",
       "2012     0.24\n",
       "2013     0.33\n",
       "2014     0.32\n",
       "2015     0.31\n",
       "2016     0.35\n",
       "2017     0.32\n",
       "2018     0.43\n",
       "2019     0.45\n",
       "2020     0.53\n",
       "2021     1.40\n",
       "2022     1.42\n",
       "2023     0.22\n",
       "dtype: float64"
      ]
     },
     "execution_count": 396,
     "metadata": {},
     "output_type": "execute_result"
    }
   ],
   "source": [
    "permits_census_nulls=permits_wip_2[permits_wip_2['CENSUS_TRACT'].isna()]\n",
    "round(permits_census_nulls.groupby(permits_census_nulls['ISSUE_DATE'].astype('datetime64').dt.year).size()*100/permits_census_nulls.shape[0],2)"
   ]
  },
  {
   "attachments": {},
   "cell_type": "markdown",
   "metadata": {},
   "source": [
    "* Most nulls in the CENSUS_TRACT column are coming from the data in 2006 & 2007. Dropping the null rows would, hence, result in loosing almost half of the data for 2006 & 2007"
   ]
  },
  {
   "attachments": {},
   "cell_type": "markdown",
   "metadata": {},
   "source": [
    "</br>"
   ]
  },
  {
   "attachments": {},
   "cell_type": "markdown",
   "metadata": {},
   "source": [
    "## Infer Census Tracts using `censusgeocode`"
   ]
  },
  {
   "attachments": {},
   "cell_type": "markdown",
   "metadata": {},
   "source": [
    "* Aim of this subsection is to create a dictionary `{each ID: correct census tract number}`"
   ]
  },
  {
   "attachments": {},
   "cell_type": "markdown",
   "metadata": {},
   "source": [
    "***Census Tract Code Notation***\n",
    "* Census Tracts encompass small geographical subdivisions of a county used for statistical research\n",
    "* Generally, census tracts have between 2,500 and 8,000 residents. However, as a part of this reseach it was discovered that many census tracts in Chicago contained less than 600 residents.\n",
    "* Full Census Tract Code (inside one County) should contain 6 digits in total :\n",
    "  *  4-digit base code (randing from 0 to 9999) \n",
    "  *  2-digit suffix (00,01,02 etc) added when the base geography is being split futher\n",
    "* Census Tract Codes were updated between 2019 and 2020, with some geographies having suffixes 00 split into 01 and 02 and others having 01, 02 suffixes merged into 00\n",
    "* This happens when\n",
    "* Further documentation about census tract notation can be downloaded [here](https://www2.census.gov/geo/pdfs/reference/GARM/Ch10GARM.pdf)\n",
    "</br>\n",
    "</br>\n",
    "**Previous Approach**\n",
    "* Initially it was attempted to reformat existing cenusus tract number using the following logic:\n",
    "  * Convert all codes to strings, to ensure leading zeros are not misisng\n",
    "  * Add 0s at the beginning of codes until all codes have at least 4 digits (assuming that zeros were previously lost due to conversion to numbers. eg. 101 and 0101)\n",
    "  * For codes that had less than 6 digits, add 0s to the end, assuming that the suffix of 00 was dropped\n",
    "* This approach allowed to match most census tracts to the other datasets, but some were still miss-matching. Likely due to the fact that notation would change between the years\n",
    "* Overall, this approach wasn't very robust as it relied on a number of assumptions for formatting. Additionally, it was only allowing to use datapoint where census tracts were already present\n",
    "</br>\n",
    "</br>\n",
    "**Current Approach**\n",
    "* ***censusgeocode*** can be used to infer census tracts based on \n",
    "  * a) coordinates (longitude and latitude)\n",
    "  * b) address (street name, street number, city, state, zipcode)\n",
    "* While there are addresses for all rows, it would take a very long time to run the geocoder on the whole dataset (more than 100 hours)\n",
    "  * Additionally, method since out dataset does not have zipcodes, running the geocoder on addresses doesn't gurantee that matches will be found\n",
    "* To reduce the runtime datapoints from same census tracts can be grouped together\n",
    "  * geocoder will run on the groups and then its output mapped onto the whole dataframe using dictionaries "
   ]
  },
  {
   "cell_type": "code",
   "execution_count": 398,
   "metadata": {},
   "outputs": [
    {
     "data": {
      "text/plain": [
       "ID                       0\n",
       "CENSUS_TRACT        109049\n",
       "STREET_NAME              0\n",
       "STREET DIRECTION         0\n",
       "STREET_NUMBER            0\n",
       "SUFFIX                6762\n",
       "LATITUDE              2254\n",
       "LONGITUDE             2254\n",
       "dtype: int64"
      ]
     },
     "execution_count": 398,
     "metadata": {},
     "output_type": "execute_result"
    }
   ],
   "source": [
    "#check missing values for the columns that can be helpful to infer misisng census tract numbers\n",
    "permits_wip_2[['ID','CENSUS_TRACT','STREET_NAME', 'STREET DIRECTION','STREET_NUMBER','SUFFIX','LATITUDE','LONGITUDE']].isna().sum()"
   ]
  },
  {
   "cell_type": "code",
   "execution_count": null,
   "metadata": {},
   "outputs": [],
   "source": [
    "#Create a mask to filter rows that DO NOT contain null values for the Census Tract\n",
    "tract_present_mask=~permits_wip_2[['CENSUS_TRACT']].isna().any(axis=1)\n",
    "#create another mask to filter rows that DO NOT contain null values lat&lon coordinates\n",
    "coord_present_mask=~permits_wip_2[['LATITUDE','LONGITUDE']].isna().any(axis=1)"
   ]
  },
  {
   "attachments": {},
   "cell_type": "markdown",
   "metadata": {},
   "source": [
    "Proposed Data Groupings to reduce the geocoder runtime:\n",
    "* Group 1: existing census tracts with known coordinates\n",
    "  * **groupby:** existing census tracts\n",
    "  * **infer using:** coordinates\n",
    "  * [Note]: transfer existing census tracts that do not have coordinates defined anywhere in the dataset to group 3, will be defined as `missing_li`\n",
    "* Group 2: NO existing census tract BUT coordinates present\n",
    "  * **groupby:** rounded coordinates\n",
    "  * **infer using:** coordinates\n",
    "* Group 3: NO existing census tract and NO coordinates present + missing_li\n",
    "  * **groupby:** addresses\n",
    "  * **infer using:** addresses"
   ]
  },
  {
   "attachments": {},
   "cell_type": "markdown",
   "metadata": {},
   "source": [
    "</br>"
   ]
  },
  {
   "attachments": {},
   "cell_type": "markdown",
   "metadata": {},
   "source": [
    "### A) Datapoints with census tracts present\n",
    "* **Groupby**: existing Census Tract\n",
    "* **Geocoder Input**: coordinates (Latitude & Longitude)"
   ]
  },
  {
   "cell_type": "code",
   "execution_count": 579,
   "metadata": {},
   "outputs": [
    {
     "data": {
      "text/plain": [
       "LATITUDE     1688\n",
       "LONGITUDE    1688\n",
       "dtype: int64"
      ]
     },
     "execution_count": 579,
     "metadata": {},
     "output_type": "execute_result"
    }
   ],
   "source": [
    "#it was noticed that some census tracts were recorded as 0, which does not exist. replace 0 values to be nan\n",
    "permits_wip_2['CENSUS_TRACT']=permits_wip_2['CENSUS_TRACT'].replace({0.0:np.nan})\n",
    "\n",
    "#For this method to work both census tracts and coordinates have to be present: create according\n",
    "\n",
    "#out of the ones that contain nulls for census_tract, do any contain nulls for latitude and longitude\n",
    "permits_wip_2[tract_present_mask][['LATITUDE','LONGITUDE']].isna().sum()"
   ]
  },
  {
   "attachments": {},
   "cell_type": "markdown",
   "metadata": {},
   "source": [
    "* 1688 rows contain census tracts but not lat&lon coordinates\n",
    "* Determine how many census tracts do not have lat&lon coordinates in any of the rows\n",
    "  * if census tracts are missing lat&lon coordinates in some rows but have them in other, this method will still work\n",
    "  * census tracts that do not contain lat&lon coordinates in any of the tracts should be noted and a different method to convert them into the correct format should be developed"
   ]
  },
  {
   "cell_type": "code",
   "execution_count": 580,
   "metadata": {},
   "outputs": [
    {
     "data": {
      "text/plain": [
       "{8422.0, 80500.0}"
      ]
     },
     "execution_count": 580,
     "metadata": {},
     "output_type": "execute_result"
    }
   ],
   "source": [
    "#census tracts that do not cointain coordinates \n",
    "tract_no_coord=set(permits_wip_2[tract_present_mask&(~coord_present_mask)]['CENSUS_TRACT'])\n",
    "#census tracts that cointain coordinates \n",
    "tract_yes_coord=set(permits_wip_2[tract_present_mask&coord_present_mask]['CENSUS_TRACT'])\n",
    "\n",
    "#find tract that are in 'tract_no_coord' but not in 'tract_yes_coord' - in other words, census tracts with no coordinates in the whole dataset\n",
    "tract_no_coord.difference(tract_yes_coord)"
   ]
  },
  {
   "attachments": {},
   "cell_type": "markdown",
   "metadata": {},
   "source": [
    "* 8422.0, 80500.0 - census tracts do not have coordinates in the whole dataset\n",
    "* let's make a note and place them into a list `missing_li`"
   ]
  },
  {
   "cell_type": "code",
   "execution_count": 581,
   "metadata": {},
   "outputs": [],
   "source": [
    "missing_li=[i for i in tract_no_coord.difference(tract_yes_coord)]"
   ]
  },
  {
   "cell_type": "code",
   "execution_count": 586,
   "metadata": {},
   "outputs": [
    {
     "data": {
      "text/html": [
       "<div>\n",
       "<style scoped>\n",
       "    .dataframe tbody tr th:only-of-type {\n",
       "        vertical-align: middle;\n",
       "    }\n",
       "\n",
       "    .dataframe tbody tr th {\n",
       "        vertical-align: top;\n",
       "    }\n",
       "\n",
       "    .dataframe thead th {\n",
       "        text-align: right;\n",
       "    }\n",
       "</style>\n",
       "<table border=\"1\" class=\"dataframe\">\n",
       "  <thead>\n",
       "    <tr style=\"text-align: right;\">\n",
       "      <th></th>\n",
       "      <th>CENSUS_TRACT</th>\n",
       "      <th>LATITUDE</th>\n",
       "      <th>LONGITUDE</th>\n",
       "    </tr>\n",
       "  </thead>\n",
       "  <tbody>\n",
       "    <tr>\n",
       "      <th>0</th>\n",
       "      <td>101.0</td>\n",
       "      <td>42.020935</td>\n",
       "      <td>-87.669553</td>\n",
       "    </tr>\n",
       "    <tr>\n",
       "      <th>1</th>\n",
       "      <td>102.0</td>\n",
       "      <td>42.016663</td>\n",
       "      <td>-87.677855</td>\n",
       "    </tr>\n",
       "    <tr>\n",
       "      <th>2</th>\n",
       "      <td>103.0</td>\n",
       "      <td>42.016214</td>\n",
       "      <td>-87.666772</td>\n",
       "    </tr>\n",
       "    <tr>\n",
       "      <th>3</th>\n",
       "      <td>104.0</td>\n",
       "      <td>42.001777</td>\n",
       "      <td>-87.659380</td>\n",
       "    </tr>\n",
       "    <tr>\n",
       "      <th>4</th>\n",
       "      <td>105.0</td>\n",
       "      <td>42.004434</td>\n",
       "      <td>-87.663043</td>\n",
       "    </tr>\n",
       "    <tr>\n",
       "      <th>...</th>\n",
       "      <td>...</td>\n",
       "      <td>...</td>\n",
       "      <td>...</td>\n",
       "    </tr>\n",
       "    <tr>\n",
       "      <th>1663</th>\n",
       "      <td>843700.0</td>\n",
       "      <td>41.944811</td>\n",
       "      <td>-87.689361</td>\n",
       "    </tr>\n",
       "    <tr>\n",
       "      <th>1664</th>\n",
       "      <td>843800.0</td>\n",
       "      <td>41.802130</td>\n",
       "      <td>-87.643563</td>\n",
       "    </tr>\n",
       "    <tr>\n",
       "      <th>1665</th>\n",
       "      <td>843900.0</td>\n",
       "      <td>41.774747</td>\n",
       "      <td>-87.580143</td>\n",
       "    </tr>\n",
       "    <tr>\n",
       "      <th>1666</th>\n",
       "      <td>980000.0</td>\n",
       "      <td>41.979005</td>\n",
       "      <td>-87.896878</td>\n",
       "    </tr>\n",
       "    <tr>\n",
       "      <th>1667</th>\n",
       "      <td>980100.0</td>\n",
       "      <td>41.789123</td>\n",
       "      <td>-87.742034</td>\n",
       "    </tr>\n",
       "  </tbody>\n",
       "</table>\n",
       "<p>1668 rows × 3 columns</p>\n",
       "</div>"
      ],
      "text/plain": [
       "      CENSUS_TRACT   LATITUDE  LONGITUDE\n",
       "0            101.0  42.020935 -87.669553\n",
       "1            102.0  42.016663 -87.677855\n",
       "2            103.0  42.016214 -87.666772\n",
       "3            104.0  42.001777 -87.659380\n",
       "4            105.0  42.004434 -87.663043\n",
       "...            ...        ...        ...\n",
       "1663      843700.0  41.944811 -87.689361\n",
       "1664      843800.0  41.802130 -87.643563\n",
       "1665      843900.0  41.774747 -87.580143\n",
       "1666      980000.0  41.979005 -87.896878\n",
       "1667      980100.0  41.789123 -87.742034\n",
       "\n",
       "[1668 rows x 3 columns]"
      ]
     },
     "execution_count": 586,
     "metadata": {},
     "output_type": "execute_result"
    }
   ],
   "source": [
    "#apply the masks to only have the rows with ct and coordiantes present\n",
    "masks_combined=(tract_present_mask&coord_present_mask)\n",
    "df_temp=permits_wip_2[masks_combined]\n",
    "\n",
    "#GROUPBY census tract to reduce the runtime of the geocoder\n",
    "census_tracts_coord=df_temp.groupby('CENSUS_TRACT')[['LATITUDE','LONGITUDE']].mean().reset_index()\n",
    "census_tracts_coord"
   ]
  },
  {
   "cell_type": "code",
   "execution_count": 587,
   "metadata": {},
   "outputs": [
    {
     "data": {
      "text/plain": [
       "CENSUS_TRACT    0\n",
       "LATITUDE        0\n",
       "LONGITUDE       0\n",
       "dtype: int64"
      ]
     },
     "execution_count": 587,
     "metadata": {},
     "output_type": "execute_result"
    }
   ],
   "source": [
    "census_tracts_coord.isna().sum()"
   ]
  },
  {
   "attachments": {},
   "cell_type": "markdown",
   "metadata": {},
   "source": [
    "* ***RUN THE GEOCODER***"
   ]
  },
  {
   "attachments": {},
   "cell_type": "markdown",
   "metadata": {},
   "source": [
    "`The code below takes 15 minutes to run`</br>"
   ]
  },
  {
   "cell_type": "code",
   "execution_count": 589,
   "metadata": {},
   "outputs": [],
   "source": [
    "#cg.coordinates takes x and y arguments, where x is longitude and y is latitude\n",
    "di_1={row['CENSUS_TRACT']:(cg.coordinates(x=row['LONGITUDE'],y=row['LATITUDE']))['Census Tracts'][0]['TRACT'] for i,row in census_tracts_coord.iterrows()}\n",
    "#Note: geocoder returns an nested dictionary : sequence ['Census Tracts'][0]['TRACT'] is used to access to access census tract number"
   ]
  },
  {
   "attachments": {},
   "cell_type": "markdown",
   "metadata": {},
   "source": [
    "* **Note**: It took `15 minutes` to obtain census tracts for 1668 rows. Running this code on the whole dataframe (700,000 rows) would take 109 hours"
   ]
  },
  {
   "cell_type": "code",
   "execution_count": 488,
   "metadata": {},
   "outputs": [
    {
     "name": "stdout",
     "output_type": "stream",
     "text": [
      "0.54 seconds per row\n",
      "109 hours to run on the whole dataset - 730511 rows \n"
     ]
    }
   ],
   "source": [
    "#divide the full dataset length by the number of census tracts to calculate how long it would take to geocode all datapoints\n",
    "per_row=15*60/census_tracts_coord.shape[0]\n",
    "print(f'{per_row:.2f} seconds per row')\n",
    "print(f'{((permits_wip_2.shape[0]/census_tracts_coord.shape[0])*15)/60:.0f} hours to run on the whole dataset - {permits_wip_2.shape[0]} rows ')"
   ]
  },
  {
   "cell_type": "code",
   "execution_count": 591,
   "metadata": {},
   "outputs": [],
   "source": [
    "#Dump output\n",
    "#joblib.dump(di_1,'../data/interim/di_1.pkl')\n",
    "\n",
    "#Load back\n",
    "di_1=joblib.load('../data/interim/di_1.pkl')"
   ]
  },
  {
   "cell_type": "code",
   "execution_count": 592,
   "metadata": {},
   "outputs": [
    {
     "data": {
      "text/plain": [
       "793"
      ]
     },
     "execution_count": 592,
     "metadata": {},
     "output_type": "execute_result"
    }
   ],
   "source": [
    "#note: now 793 unique census tracts\n",
    "len(set(di_1.values()))"
   ]
  },
  {
   "attachments": {},
   "cell_type": "markdown",
   "metadata": {},
   "source": [
    "* di_1 is a dictionary that can be used to map `existing` census tract codes to `correct` census tract codes\n",
    "  * keys - existing census tract codes\n",
    "  * values - correct census tract codes"
   ]
  },
  {
   "cell_type": "code",
   "execution_count": 704,
   "metadata": {},
   "outputs": [],
   "source": [
    "#create a dictionary where each ID (key) is matched with a correct census tract (obtained from di_1)\n",
    "\n",
    "#mask for census tract not in missing_li (missing_li - list of ct numbers that do not have coordinates)\n",
    "extra_mask=~permits_wip_2['CENSUS_TRACT'].isin(missing_li)\n",
    "\n",
    "df_temp_1=permits_wip_2[tract_present_mask&extra_mask&extra_mask]\n",
    "\n",
    "id_to_tract_group_1={row['ID']:di_1[row['CENSUS_TRACT']] for i,row in df_temp_1.iterrows()}\n",
    "#row['CENSUS_TRACT'] - existing census tract number (in the wrong format)"
   ]
  },
  {
   "attachments": {},
   "cell_type": "markdown",
   "metadata": {},
   "source": [
    "### 3.2 Datapoints with NO census tracts BUT coordinates present\n",
    "* **Groupby**: coordinates\n",
    "* **Geocoder Input**: coordinates (Latitude & Longitude)"
   ]
  },
  {
   "attachments": {},
   "cell_type": "markdown",
   "metadata": {},
   "source": [
    "* Determine the shape of the dataframe where rows have census tracts missing but coordiantes (lat&lon) present"
   ]
  },
  {
   "cell_type": "code",
   "execution_count": 608,
   "metadata": {},
   "outputs": [
    {
     "name": "stdout",
     "output_type": "stream",
     "text": [
      "108529 rows have coordinate values but no census tracts\n"
     ]
    }
   ],
   "source": [
    "#apply mask 1 (coordinates present) and the INVERSE of mask 2 (tract present) to obtain df where rows have census tracts missing but coordiantes (lat&lon) present\n",
    "print(f'{permits_wip_2[coord_present_mask&(~tract_present_mask)].shape[0]} rows have coordinate values but no census tracts')\n",
    "\n",
    "#create a temporary df for this section\n",
    "df_temp=permits_wip_2[coord_present_mask&(~tract_present_mask)][['ID','LATITUDE','LONGITUDE']]"
   ]
  },
  {
   "attachments": {},
   "cell_type": "markdown",
   "metadata": {},
   "source": [
    "* Determine how long it would take to geoencode each pair of latitude and longitude"
   ]
  },
  {
   "cell_type": "code",
   "execution_count": 609,
   "metadata": {},
   "outputs": [
    {
     "name": "stdout",
     "output_type": "stream",
     "text": [
      "Running on the whole dataset would take 16.25 hours\n"
     ]
    }
   ],
   "source": [
    "print(f'Running on the whole dataset would take {(permits_wip_2[coord_present_mask&(~tract_present_mask)].shape[0]*per_row)/3600:.2f} hours')"
   ]
  },
  {
   "attachments": {},
   "cell_type": "markdown",
   "metadata": {},
   "source": [
    "* Let's aim to reduce the runtime by reducing the number of decimal points in latitude and longitude to combine datapoints into geographical groups"
   ]
  },
  {
   "cell_type": "code",
   "execution_count": 611,
   "metadata": {},
   "outputs": [
    {
     "name": "stdout",
     "output_type": "stream",
     "text": [
      "Currently there are 59754 unique lat&long pairs\n"
     ]
    }
   ],
   "source": [
    "print(f\"Currently there are {len(df_temp.groupby(['LATITUDE','LONGITUDE']).size())} unique lat&long pairs\")"
   ]
  },
  {
   "attachments": {},
   "cell_type": "markdown",
   "metadata": {},
   "source": [
    "* First, it was attempted to round lat & long to 3 decimal points, which resulted in `42758` number of unique pairs\n",
    "  * This would take around 4.5 hours to run\n",
    "  * There are only around 866 census tracts in Chicago [ref link](https://guides.lib.uchicago.edu/c.php?g=633403&p=4428901#:~:text=Census%20areas%20%26%20geography,-The%20U.S.%20Census&text=Census%20tracts%20are%20small%20areas,for%20the%20tracts%20has%20changed.), which suggests that rouding to 3 decimal points still results in a unecessarily dense grouping\n",
    "* However, rouding to 2 decimal points, resulted in 697 unique pairs, which suggests that the grouping is not dense enough\n",
    "* To come up with a way to group somewhere in-between 2 and 3 decimal points, it was decided to first divide lat and long by 4 and then round to 3 decimal points\n",
    "  * this resuls in 3676 unique lat & long pairs which is 4 times more than the number of ct in Chicago\n",
    "  * having more groupings that ct protects from misclassifying census tracts\n",
    "  \n",
    "[Note] : this process is only to come up with groupings, the geocoder will be fed averages of latitude and longitude for each group"
   ]
  },
  {
   "cell_type": "code",
   "execution_count": 612,
   "metadata": {},
   "outputs": [
    {
     "name": "stdout",
     "output_type": "stream",
     "text": [
      "After roudning to 3 decimal points there are 3530 unique lat&long pairs\n",
      "Running on the whole dataset would take 0.53 hours\n"
     ]
    }
   ],
   "source": [
    "#round to 3 decimal points and create new columns to record the new values\n",
    "df_temp[['LATITUDE_REF','LONGITUDE_REF']]=df_temp[['LATITUDE','LONGITUDE']].apply(lambda x: round(x/4,3))\n",
    "\n",
    "print(f\"After roudning to 3 decimal points there are {len(df_temp.groupby(['LATITUDE_REF','LONGITUDE_REF']).size())} unique lat&long pairs\")\n",
    "\n",
    "print(f'Running on the whole dataset would take {(3530*per_row)/3600:.2f} hours')"
   ]
  },
  {
   "cell_type": "code",
   "execution_count": 613,
   "metadata": {},
   "outputs": [
    {
     "data": {
      "text/plain": [
       "(3530, 3)"
      ]
     },
     "execution_count": 613,
     "metadata": {},
     "output_type": "execute_result"
    }
   ],
   "source": [
    "#create REF column to act as an identifier for a unique pait of long and lat\n",
    "df_temp['REF']=[str(row['LATITUDE_REF'])+','+str(row['LONGITUDE_REF'])for i,row in df_temp.iterrows()]\n",
    "\n",
    "#create second temporary df which groups rows by REF and takes averages of lon and lat for each REF group\n",
    "df_temp_2=df_temp.groupby('REF')[['LONGITUDE','LATITUDE']].mean().reset_index()\n",
    "df_temp_2.shape"
   ]
  },
  {
   "cell_type": "code",
   "execution_count": 604,
   "metadata": {},
   "outputs": [
    {
     "data": {
      "text/plain": [
       "REF          0\n",
       "LONGITUDE    0\n",
       "LATITUDE     0\n",
       "dtype: int64"
      ]
     },
     "execution_count": 604,
     "metadata": {},
     "output_type": "execute_result"
    }
   ],
   "source": [
    "#check there are no nan values: geocoder aborts if there are any nan values\n",
    "df_temp_2.isna().sum()"
   ]
  },
  {
   "attachments": {},
   "cell_type": "markdown",
   "metadata": {},
   "source": [
    "* ***RUN THE GEOCODER***"
   ]
  },
  {
   "attachments": {},
   "cell_type": "markdown",
   "metadata": {},
   "source": [
    "`This cell takes more than 30 minutes to run`"
   ]
  },
  {
   "cell_type": "code",
   "execution_count": 550,
   "metadata": {},
   "outputs": [],
   "source": [
    "'''di_2={row['REF']:(cg.coordinates(x=row['LONGITUDE'],y=row['LATITUDE']))['Census Tracts'][0]['TRACT'] for i,row in df_temp_2.iterrows()}'''"
   ]
  },
  {
   "cell_type": "code",
   "execution_count": 554,
   "metadata": {},
   "outputs": [],
   "source": [
    "#Dump output\n",
    "#joblib.dump(di_2,'../data/interim/di_2.pkl')\n",
    "\n",
    "#Load back\n",
    "di_2=joblib.load('../data/interim/di_2.pkl')"
   ]
  },
  {
   "attachments": {},
   "cell_type": "markdown",
   "metadata": {},
   "source": [
    "* di_2 can be explaied as {'REF':'ID'}\n",
    "* need to conver di_2 into the format of {'ID':'correct ct number'}"
   ]
  },
  {
   "cell_type": "code",
   "execution_count": 615,
   "metadata": {},
   "outputs": [
    {
     "data": {
      "text/html": [
       "<div>\n",
       "<style scoped>\n",
       "    .dataframe tbody tr th:only-of-type {\n",
       "        vertical-align: middle;\n",
       "    }\n",
       "\n",
       "    .dataframe tbody tr th {\n",
       "        vertical-align: top;\n",
       "    }\n",
       "\n",
       "    .dataframe thead th {\n",
       "        text-align: right;\n",
       "    }\n",
       "</style>\n",
       "<table border=\"1\" class=\"dataframe\">\n",
       "  <thead>\n",
       "    <tr style=\"text-align: right;\">\n",
       "      <th></th>\n",
       "      <th>ID</th>\n",
       "      <th>REF</th>\n",
       "    </tr>\n",
       "  </thead>\n",
       "  <tbody>\n",
       "    <tr>\n",
       "      <th>0</th>\n",
       "      <td>1614287</td>\n",
       "      <td>10.483,-21.93</td>\n",
       "    </tr>\n",
       "    <tr>\n",
       "      <th>1</th>\n",
       "      <td>1614342</td>\n",
       "      <td>10.466,-21.932</td>\n",
       "    </tr>\n",
       "    <tr>\n",
       "      <th>2</th>\n",
       "      <td>1614371</td>\n",
       "      <td>10.47,-21.908</td>\n",
       "    </tr>\n",
       "    <tr>\n",
       "      <th>3</th>\n",
       "      <td>1637148</td>\n",
       "      <td>10.47,-21.909</td>\n",
       "    </tr>\n",
       "    <tr>\n",
       "      <th>4</th>\n",
       "      <td>1637165</td>\n",
       "      <td>10.451,-21.936</td>\n",
       "    </tr>\n",
       "    <tr>\n",
       "      <th>...</th>\n",
       "      <td>...</td>\n",
       "      <td>...</td>\n",
       "    </tr>\n",
       "    <tr>\n",
       "      <th>730282</th>\n",
       "      <td>3308544</td>\n",
       "      <td>10.502,-21.979</td>\n",
       "    </tr>\n",
       "    <tr>\n",
       "      <th>730332</th>\n",
       "      <td>3308395</td>\n",
       "      <td>10.467,-21.914</td>\n",
       "    </tr>\n",
       "    <tr>\n",
       "      <th>730421</th>\n",
       "      <td>3308476</td>\n",
       "      <td>10.426,-21.904</td>\n",
       "    </tr>\n",
       "    <tr>\n",
       "      <th>730467</th>\n",
       "      <td>3308622</td>\n",
       "      <td>10.434,-21.916</td>\n",
       "    </tr>\n",
       "    <tr>\n",
       "      <th>730478</th>\n",
       "      <td>3307589</td>\n",
       "      <td>10.471,-21.909</td>\n",
       "    </tr>\n",
       "  </tbody>\n",
       "</table>\n",
       "<p>108529 rows × 2 columns</p>\n",
       "</div>"
      ],
      "text/plain": [
       "             ID             REF\n",
       "0       1614287   10.483,-21.93\n",
       "1       1614342  10.466,-21.932\n",
       "2       1614371   10.47,-21.908\n",
       "3       1637148   10.47,-21.909\n",
       "4       1637165  10.451,-21.936\n",
       "...         ...             ...\n",
       "730282  3308544  10.502,-21.979\n",
       "730332  3308395  10.467,-21.914\n",
       "730421  3308476  10.426,-21.904\n",
       "730467  3308622  10.434,-21.916\n",
       "730478  3307589  10.471,-21.909\n",
       "\n",
       "[108529 rows x 2 columns]"
      ]
     },
     "execution_count": 615,
     "metadata": {},
     "output_type": "execute_result"
    }
   ],
   "source": [
    "#extract the link between each relevant ID and its REF from df_temp\n",
    "id_to_ref=df_temp[['ID','REF']]\n",
    "id_to_ref"
   ]
  },
  {
   "cell_type": "code",
   "execution_count": 616,
   "metadata": {},
   "outputs": [],
   "source": [
    "#for each row in id_to_ref set 'ID' as key and use 'REF' to extract the correct ct number from di_2\n",
    "id_to_tract_group_2={row['ID']:di_2[row['REF']] for i,row in id_to_ref.iterrows()}"
   ]
  },
  {
   "cell_type": "code",
   "execution_count": null,
   "metadata": {},
   "outputs": [],
   "source": [
    "#need to conver di_2 into the format of {'ID':'correct ct'}\n",
    "\n",
    "df_temp_2=permits_wip_2[(~tract_present_mask)&coord_present_mask]\n",
    "\n",
    "id_to_tract_group_2={row['ID']:di_2[row['CENSUS_TRACT']] for i,row in df_temp.iterrows()}\n",
    "#row['CENSUS_TRACT'] - existing census tract number (in the wrong format)"
   ]
  },
  {
   "attachments": {},
   "cell_type": "markdown",
   "metadata": {},
   "source": [
    "### 3.3 Datapoints with NO census tracts, NO coordinates present BUT only addresses\n",
    "* **Groupby**: ADDRESS\n",
    "* **Geocoder Input**: ADDRESS ('STREET_NAME','SUFFIX','STREET DIRECTION','STREET_NUMBER')"
   ]
  },
  {
   "cell_type": "code",
   "execution_count": 652,
   "metadata": {},
   "outputs": [],
   "source": [
    "#select inverse of both masks and select only relevant columns for group 3 encoding\n",
    "relevant_col=['ID','STREET_NUMBER','STREET DIRECTION','STREET_NAME','SUFFIX']\n",
    "\n",
    "#inverse of any rows with present ct number or coord\n",
    "no_ct_no_coord=~(tract_present_mask|coord_present_mask)\n",
    "\n",
    "#recall that there was also a list `missing_li` with ct that had no coordinates, so could not be encoded\n",
    "#mask for rows containing those ct number\n",
    "missing_tract=permits_wip_2['CENSUS_TRACT'].isin(missing_li)\n",
    "\n",
    "#mask that satisfies one of the above\n",
    "mask=no_ct_no_coord|missing_tract\n",
    "\n",
    "#apply the mask and select relevant columns\n",
    "df_temp_3=permits_wip_2[mask][relevant_col]"
   ]
  },
  {
   "attachments": {},
   "cell_type": "markdown",
   "metadata": {},
   "source": [
    "* The format in which the geocoder accepts the address is STREET_NUMBER, STREET DIRECTION, STREET_NAME, SUFFIX\n",
    "* for example, '1550 S THROOP ST'"
   ]
  },
  {
   "cell_type": "code",
   "execution_count": 660,
   "metadata": {},
   "outputs": [
    {
     "name": "stdout",
     "output_type": "stream",
     "text": [
      "There are 215 unique addresses missing ct number\n"
     ]
    },
    {
     "ename": "KeyError",
     "evalue": "\"['ID'] not in index\"",
     "output_type": "error",
     "traceback": [
      "\u001b[1;31m---------------------------------------------------------------------------\u001b[0m",
      "\u001b[1;31mKeyError\u001b[0m                                  Traceback (most recent call last)",
      "\u001b[1;32m~\\AppData\\Local\\Temp\\ipykernel_163084\\1605488745.py\u001b[0m in \u001b[0;36m<module>\u001b[1;34m\u001b[0m\n\u001b[0;32m      5\u001b[0m \u001b[1;33m\u001b[0m\u001b[0m\n\u001b[0;32m      6\u001b[0m \u001b[1;31m#save the link between ID and address_ref\u001b[0m\u001b[1;33m\u001b[0m\u001b[1;33m\u001b[0m\u001b[0m\n\u001b[1;32m----> 7\u001b[1;33m \u001b[0mid_address_ref\u001b[0m\u001b[1;33m=\u001b[0m\u001b[0mdf_temp_3\u001b[0m\u001b[1;33m[\u001b[0m\u001b[1;33m[\u001b[0m\u001b[1;34m'ID'\u001b[0m\u001b[1;33m,\u001b[0m\u001b[1;34m'ADDRESS_REF'\u001b[0m\u001b[1;33m]\u001b[0m\u001b[1;33m]\u001b[0m\u001b[1;33m\u001b[0m\u001b[1;33m\u001b[0m\u001b[0m\n\u001b[0m\u001b[0;32m      8\u001b[0m \u001b[1;33m\u001b[0m\u001b[0m\n\u001b[0;32m      9\u001b[0m \u001b[1;31m#drop ID and select only unique ADDRESS_REF to minimize the geocoder runtime\u001b[0m\u001b[1;33m\u001b[0m\u001b[1;33m\u001b[0m\u001b[0m\n",
      "\u001b[1;32mc:\\Users\\44742\\anaconda3\\lib\\site-packages\\pandas\\core\\frame.py\u001b[0m in \u001b[0;36m__getitem__\u001b[1;34m(self, key)\u001b[0m\n\u001b[0;32m   3509\u001b[0m             \u001b[1;32mif\u001b[0m \u001b[0mis_iterator\u001b[0m\u001b[1;33m(\u001b[0m\u001b[0mkey\u001b[0m\u001b[1;33m)\u001b[0m\u001b[1;33m:\u001b[0m\u001b[1;33m\u001b[0m\u001b[1;33m\u001b[0m\u001b[0m\n\u001b[0;32m   3510\u001b[0m                 \u001b[0mkey\u001b[0m \u001b[1;33m=\u001b[0m \u001b[0mlist\u001b[0m\u001b[1;33m(\u001b[0m\u001b[0mkey\u001b[0m\u001b[1;33m)\u001b[0m\u001b[1;33m\u001b[0m\u001b[1;33m\u001b[0m\u001b[0m\n\u001b[1;32m-> 3511\u001b[1;33m             \u001b[0mindexer\u001b[0m \u001b[1;33m=\u001b[0m \u001b[0mself\u001b[0m\u001b[1;33m.\u001b[0m\u001b[0mcolumns\u001b[0m\u001b[1;33m.\u001b[0m\u001b[0m_get_indexer_strict\u001b[0m\u001b[1;33m(\u001b[0m\u001b[0mkey\u001b[0m\u001b[1;33m,\u001b[0m \u001b[1;34m\"columns\"\u001b[0m\u001b[1;33m)\u001b[0m\u001b[1;33m[\u001b[0m\u001b[1;36m1\u001b[0m\u001b[1;33m]\u001b[0m\u001b[1;33m\u001b[0m\u001b[1;33m\u001b[0m\u001b[0m\n\u001b[0m\u001b[0;32m   3512\u001b[0m \u001b[1;33m\u001b[0m\u001b[0m\n\u001b[0;32m   3513\u001b[0m         \u001b[1;31m# take() does not accept boolean indexers\u001b[0m\u001b[1;33m\u001b[0m\u001b[1;33m\u001b[0m\u001b[0m\n",
      "\u001b[1;32mc:\\Users\\44742\\anaconda3\\lib\\site-packages\\pandas\\core\\indexes\\base.py\u001b[0m in \u001b[0;36m_get_indexer_strict\u001b[1;34m(self, key, axis_name)\u001b[0m\n\u001b[0;32m   5794\u001b[0m             \u001b[0mkeyarr\u001b[0m\u001b[1;33m,\u001b[0m \u001b[0mindexer\u001b[0m\u001b[1;33m,\u001b[0m \u001b[0mnew_indexer\u001b[0m \u001b[1;33m=\u001b[0m \u001b[0mself\u001b[0m\u001b[1;33m.\u001b[0m\u001b[0m_reindex_non_unique\u001b[0m\u001b[1;33m(\u001b[0m\u001b[0mkeyarr\u001b[0m\u001b[1;33m)\u001b[0m\u001b[1;33m\u001b[0m\u001b[1;33m\u001b[0m\u001b[0m\n\u001b[0;32m   5795\u001b[0m \u001b[1;33m\u001b[0m\u001b[0m\n\u001b[1;32m-> 5796\u001b[1;33m         \u001b[0mself\u001b[0m\u001b[1;33m.\u001b[0m\u001b[0m_raise_if_missing\u001b[0m\u001b[1;33m(\u001b[0m\u001b[0mkeyarr\u001b[0m\u001b[1;33m,\u001b[0m \u001b[0mindexer\u001b[0m\u001b[1;33m,\u001b[0m \u001b[0maxis_name\u001b[0m\u001b[1;33m)\u001b[0m\u001b[1;33m\u001b[0m\u001b[1;33m\u001b[0m\u001b[0m\n\u001b[0m\u001b[0;32m   5797\u001b[0m \u001b[1;33m\u001b[0m\u001b[0m\n\u001b[0;32m   5798\u001b[0m         \u001b[0mkeyarr\u001b[0m \u001b[1;33m=\u001b[0m \u001b[0mself\u001b[0m\u001b[1;33m.\u001b[0m\u001b[0mtake\u001b[0m\u001b[1;33m(\u001b[0m\u001b[0mindexer\u001b[0m\u001b[1;33m)\u001b[0m\u001b[1;33m\u001b[0m\u001b[1;33m\u001b[0m\u001b[0m\n",
      "\u001b[1;32mc:\\Users\\44742\\anaconda3\\lib\\site-packages\\pandas\\core\\indexes\\base.py\u001b[0m in \u001b[0;36m_raise_if_missing\u001b[1;34m(self, key, indexer, axis_name)\u001b[0m\n\u001b[0;32m   5857\u001b[0m \u001b[1;33m\u001b[0m\u001b[0m\n\u001b[0;32m   5858\u001b[0m             \u001b[0mnot_found\u001b[0m \u001b[1;33m=\u001b[0m \u001b[0mlist\u001b[0m\u001b[1;33m(\u001b[0m\u001b[0mensure_index\u001b[0m\u001b[1;33m(\u001b[0m\u001b[0mkey\u001b[0m\u001b[1;33m)\u001b[0m\u001b[1;33m[\u001b[0m\u001b[0mmissing_mask\u001b[0m\u001b[1;33m.\u001b[0m\u001b[0mnonzero\u001b[0m\u001b[1;33m(\u001b[0m\u001b[1;33m)\u001b[0m\u001b[1;33m[\u001b[0m\u001b[1;36m0\u001b[0m\u001b[1;33m]\u001b[0m\u001b[1;33m]\u001b[0m\u001b[1;33m.\u001b[0m\u001b[0munique\u001b[0m\u001b[1;33m(\u001b[0m\u001b[1;33m)\u001b[0m\u001b[1;33m)\u001b[0m\u001b[1;33m\u001b[0m\u001b[1;33m\u001b[0m\u001b[0m\n\u001b[1;32m-> 5859\u001b[1;33m             \u001b[1;32mraise\u001b[0m \u001b[0mKeyError\u001b[0m\u001b[1;33m(\u001b[0m\u001b[1;34mf\"{not_found} not in index\"\u001b[0m\u001b[1;33m)\u001b[0m\u001b[1;33m\u001b[0m\u001b[1;33m\u001b[0m\u001b[0m\n\u001b[0m\u001b[0;32m   5860\u001b[0m \u001b[1;33m\u001b[0m\u001b[0m\n\u001b[0;32m   5861\u001b[0m     \u001b[1;33m@\u001b[0m\u001b[0moverload\u001b[0m\u001b[1;33m\u001b[0m\u001b[1;33m\u001b[0m\u001b[0m\n",
      "\u001b[1;31mKeyError\u001b[0m: \"['ID'] not in index\""
     ]
    }
   ],
   "source": [
    "#Crate ADDRESS_REF column that is in the correct format for the geocoder\n",
    "df_temp_3['ADDRESS_REF']=df_temp_3['STREET_NUMBER'].astype('str')+' '+df_temp_3['STREET DIRECTION'].astype('str')+' '+df_temp_3['STREET_NAME'].astype('str')+' '+df_temp_3['SUFFIX'].astype('str')\n",
    "\n",
    "print(f\"There are {len(set(df_temp_3['ADDRESS_REF']))} unique addresses missing ct number\")\n",
    "\n",
    "#save the link between ID and address_ref\n",
    "id_address_ref=df_temp_3[['ID','ADDRESS_REF']]\n",
    "\n",
    "#drop ID and select only unique ADDRESS_REF to minimize the geocoder runtime\n",
    "df_temp_3=df_temp_3.drop(columns='ID').drop_duplicates()\n",
    "df_temp_3.shape"
   ]
  },
  {
   "attachments": {},
   "cell_type": "markdown",
   "metadata": {},
   "source": [
    "* Normally the geocoder also expect a zipcode, in our dataset zip code is missing \n",
    "  * Hence, the geocoder might not match all the addresses with census tract number\n",
    "* Let's find census tracts for as many addresses as possible and fill in the rest manually"
   ]
  },
  {
   "cell_type": "code",
   "execution_count": 661,
   "metadata": {},
   "outputs": [],
   "source": [
    "#instantiate an empty dictionary \n",
    "di_3={}\n",
    "missing_addresses={}\n",
    "for address in df_temp_3['ADDRESS_REF']:\n",
    "    t=cg.address(address, city='Chicago', state='IL')\n",
    "    #if t exists\n",
    "    if t:\n",
    "        di_3[address]=t[0]['geographies']['Census Tracts'][0]['TRACT']\n",
    "    else:\n",
    "        missing_addresses[address]=t"
   ]
  },
  {
   "cell_type": "code",
   "execution_count": 664,
   "metadata": {},
   "outputs": [
    {
     "name": "stdout",
     "output_type": "stream",
     "text": [
      "182 were matched\n",
      "33 still missing\n"
     ]
    }
   ],
   "source": [
    "print(f\"{len(di_3)} were matched\")\n",
    "print(f\"{len(missing_addresses)} still missing\")"
   ]
  },
  {
   "attachments": {},
   "cell_type": "markdown",
   "metadata": {},
   "source": [
    "* Manually input coordinates for all the addresses that geocoder did not find matches for"
   ]
  },
  {
   "cell_type": "code",
   "execution_count": 729,
   "metadata": {},
   "outputs": [
    {
     "data": {
      "text/plain": [
       "set()"
      ]
     },
     "execution_count": 729,
     "metadata": {},
     "output_type": "execute_result"
    }
   ],
   "source": [
    "#create a dictionary with all the unmatched addresses and manually input their coordinates\n",
    "part3_add_di={'10000 N BESSIE COLEMAN DR': [41.9744188,-87.892622],\n",
    " '1901 S SACRAMENTO AVE': [41.8554961,-87.6992071],\n",
    " '2324 N FREMONT ST': [41.9244996,-87.6534804],\n",
    " '12900 S METRON DR': [41.6625611,-87.5883168],\n",
    " '6500 S MICHIGAN AVE': [41.774537,-87.6252669],\n",
    " '1223 W CHESTNUT ST': [41.8979353,-87.6606072],\n",
    " '404 W MERCHANDISE MART PLZ': [41.8879948,-87.6385347],\n",
    " '10000 W OHARE ST': [41.9790169,-87.9087582],\n",
    " '444 W MERCHANDISE MART PLZ': [41.8879948,-87.6385347],\n",
    " '5400 S DR MARTIN L KING JR DR': [41.7963736,-87.6185842],\n",
    " '1902 S SACRAMENTO AVE': [41.8516478,-87.7026112],\n",
    " '222 N RIVERSIDE PLZ': [41.8848886,-87.6398917],\n",
    " '11061 W TOUHY AVE': [42.0113822,-87.8221779],\n",
    " '10700 S OGLESBY AVE': [41.7018567,-87.5678331],\n",
    " '9525 W BRYN MAWR AVE': [41.9804602,-87.8600796],\n",
    " '4100 W 71ST ST': [41.751877,-87.6725605],\n",
    " '1160 W TOUHY AVE': [42.0083279,-87.9415539],\n",
    " '3232 E CHELTENHAM DR': [41.7540108,-87.5509272],\n",
    " '1048 W MERCHANDISE MART PLZ': [41.8879882,-87.6374229],\n",
    " '200 N WACKER DR': [41.8856911,-87.6398546],\n",
    " '600 W MONTROSE HARBOR DR': [41.9628527,-87.6365966],\n",
    " '820 W POLK ST': [41.8719809,-87.6491222],\n",
    " '300 N RIVERSIDE PLZ': [41.8854109,-87.6410865],\n",
    " '9929 S AVENUE N nan': [41.7182278,-87.5410035],\n",
    " '1400 W 32ND ST': [41.836034,-87.6636717],\n",
    " '4401 N LAKE SHORE DR': [41.9546256,-87.6474362],\n",
    " '111601 W TOUHY AVE': [42.0116941,-87.8046477],\n",
    " '400 E WALDRON DR': [41.8603206,-87.6195214],\n",
    " '9177 W CHICAGO AVE': [41.8945072,-87.777267],\n",
    " '1440 N SACRAMENTO AVE': [41.8964216,-87.7015229],\n",
    " '8600 S GREEN BAY AVE': [41.7047451,-87.5397905],\n",
    " '1215 W SHERIDAN RD':[41.9982024,-87.6626523],\n",
    " '749 W SCHILLER ST':[41.9073046,-87.6500122],\n",
    " '905 W EASTMAN ST':[41.9066614,-87.653422]}\n",
    "\n",
    "#check that all missing addresses were added\n",
    "set(missing_addresses.keys()).difference(set(part3_add_di.keys()))"
   ]
  },
  {
   "attachments": {},
   "cell_type": "markdown",
   "metadata": {},
   "source": [
    "* run the geocoder again to find census tracts for the last missing addresses"
   ]
  },
  {
   "cell_type": "code",
   "execution_count": 730,
   "metadata": {},
   "outputs": [],
   "source": [
    "#x takes longitude and y takes latitude input - in our dictionary longitude is the second [1] item in the list and latitude is the first [0] item\n",
    "di_3_extra={k:(cg.coordinates(x=v[1],y=v[0]))['Census Tracts'][0]['TRACT'] for (k,v) in part3_add_di.items()}"
   ]
  },
  {
   "attachments": {},
   "cell_type": "markdown",
   "metadata": {},
   "source": [
    "* di_3 and di_3_extra can be explained as `{ADDRESS REF:correct ct number}`\n",
    "* add di_3_extra to di_3"
   ]
  },
  {
   "cell_type": "code",
   "execution_count": 731,
   "metadata": {},
   "outputs": [],
   "source": [
    "#add di_3_extra to di_3\n",
    "di_3.update(di_3_extra)"
   ]
  },
  {
   "attachments": {},
   "cell_type": "markdown",
   "metadata": {},
   "source": [
    "* convert di_3 into the format {ID: correct ct number}\n",
    "* remember the link between ADDRESS REF and ID was stored in df `id_address_ref`"
   ]
  },
  {
   "cell_type": "code",
   "execution_count": 732,
   "metadata": {},
   "outputs": [
    {
     "data": {
      "text/plain": [
       "Index(['ID', 'ADDRESS_REF'], dtype='object')"
      ]
     },
     "execution_count": 732,
     "metadata": {},
     "output_type": "execute_result"
    }
   ],
   "source": [
    "#recall columns in id_address_ref\n",
    "id_address_ref.columns"
   ]
  },
  {
   "cell_type": "code",
   "execution_count": 733,
   "metadata": {},
   "outputs": [],
   "source": [
    "#loop through each row in id_address_ref and for each ADDRESS_REF access di_3 to extract the correct ct number\n",
    "id_to_tract_group_3={row['ID']:di_3[row['ADDRESS_REF']] for i,row in id_address_ref.iterrows()}"
   ]
  },
  {
   "attachments": {},
   "cell_type": "markdown",
   "metadata": {},
   "source": [
    "* now we have 3 dictionaries : id_to_tract_group_1, id_to_tract_group_2 and id_to_tract_group_3\n",
    "* all dictionaries are in the format `{ID: correct ct number}`\n",
    "* let's merge all the dictionaries"
   ]
  },
  {
   "cell_type": "code",
   "execution_count": 734,
   "metadata": {},
   "outputs": [],
   "source": [
    "merged_dict = {}\n",
    "#there should be no overlapds between the dictionaries\n",
    "for d in (id_to_tract_group_3, id_to_tract_group_2, id_to_tract_group_1):\n",
    "    merged_dict.update(d)"
   ]
  },
  {
   "attachments": {},
   "cell_type": "markdown",
   "metadata": {},
   "source": [
    "* Check that dictionary length is the same as row number"
   ]
  },
  {
   "cell_type": "code",
   "execution_count": 735,
   "metadata": {},
   "outputs": [
    {
     "name": "stdout",
     "output_type": "stream",
     "text": [
      "dictionary length is 730511\n",
      "dataframe row number if 730511\n"
     ]
    }
   ],
   "source": [
    "print(f\"dictionary length is {len(merged_dict)}\")\n",
    "print(f\"dataframe row number if {permits_wip_2.shape[0]}\")"
   ]
  },
  {
   "attachments": {},
   "cell_type": "markdown",
   "metadata": {},
   "source": [
    "* Given that lengths match, proceed with mapping\n",
    "* Aim is to map dictionary `{ID: correct census tract}` to update columns `CENSUS_TRACT` in the dataframe `permits_wip_2`\n",
    "* The mapping has to be done on `ID` column as it is linked to the dictionary keys"
   ]
  },
  {
   "cell_type": "code",
   "execution_count": 736,
   "metadata": {},
   "outputs": [],
   "source": [
    "#let's copy the dataframe\n",
    "permits_wip_3=permits_wip_2.copy()\n",
    "\n",
    "#conduct mapping on ID column but reassign CENSUS_TRACT column\n",
    "permits_wip_3['CENSUS_TRACT']=permits_wip_3['ID'].map(merged_dict)"
   ]
  },
  {
   "attachments": {},
   "cell_type": "markdown",
   "metadata": {},
   "source": [
    "* Check that the mapping was done correctly and change datetype to integer"
   ]
  },
  {
   "cell_type": "code",
   "execution_count": 737,
   "metadata": {},
   "outputs": [],
   "source": [
    "permits_wip_3['CENSUS_TRACT']=permits_wip_3['CENSUS_TRACT'].astype('int')"
   ]
  },
  {
   "attachments": {},
   "cell_type": "markdown",
   "metadata": {},
   "source": [
    "* Now **permits_wip_3** has updated and cleaned census tract numbers\n",
    "* Export these census tract numbers alongside their coordinates to be accessed in the other notebooks"
   ]
  },
  {
   "cell_type": "code",
   "execution_count": 738,
   "metadata": {},
   "outputs": [
    {
     "data": {
      "text/plain": [
       "['../data/interim/ct_coord.pkl']"
      ]
     },
     "execution_count": 738,
     "metadata": {},
     "output_type": "execute_result"
    }
   ],
   "source": [
    "#create a df with ct numbers, latitude and longitude\n",
    "ct_coord=permits_wip_3[['CENSUS_TRACT','LATITUDE','LONGITUDE']]\n",
    "\n",
    "#save to be accessed in other notebooks\n",
    "joblib.dump(ct_coord,'../data/interim/ct_coord.pkl')"
   ]
  },
  {
   "attachments": {},
   "cell_type": "markdown",
   "metadata": {},
   "source": [
    "</br>"
   ]
  },
  {
   "attachments": {},
   "cell_type": "markdown",
   "metadata": {},
   "source": [
    "### 3.4 Replacements (based on the changes made in the Income Cleaning Notebook)"
   ]
  },
  {
   "attachments": {},
   "cell_type": "markdown",
   "metadata": {},
   "source": [
    "* Based on the EDA done in the EDA of Income Dataset, futher changes had to be made to ct numbers\n",
    "  * 1) census tract boundaries changed between the years: some were merged and some split\n",
    "    * some census tracts had to be updated to ensure they are standardized between different years \n",
    "  * 2) for the purpose of this project, tracts with less than 600 households were grouped together \n",
    "* The dictionaries below encompass all the changes made in the Income Dataset Notebook"
   ]
  },
  {
   "cell_type": "code",
   "execution_count": 742,
   "metadata": {},
   "outputs": [],
   "source": [
    "#load dictionaries encompassing changes made in the Income Dataset notebook\n",
    "\n",
    "#dictionary 1: changes to census tracts between the years\n",
    "tract_changes=joblib.load('../data/interim/tract_changes.pkl')\n",
    "\n",
    "#dictionary 2: merging small census tracts together\n",
    "small_merger=joblib.load('../data/interim/wip/tract_merger.pkl')\n",
    "\n",
    "#apply the replacement 1\n",
    "permits_wip_3['CENSUS_TRACT']=permits_wip_3['CENSUS_TRACT'].replace(tract_changes)\n",
    "\n",
    "#apply the replacement 2\n",
    "permits_wip_3['CENSUS_TRACT']=permits_wip_3['CENSUS_TRACT'].replace(small_merger)"
   ]
  },
  {
   "cell_type": "code",
   "execution_count": 751,
   "metadata": {},
   "outputs": [
    {
     "data": {
      "text/plain": [
       "CENSUS_TRACT    0\n",
       "dtype: int64"
      ]
     },
     "execution_count": 751,
     "metadata": {},
     "output_type": "execute_result"
    }
   ],
   "source": [
    "#SECTION OUTPUT\n",
    "permits_wip_3[['CENSUS_TRACT']].isna().sum()"
   ]
  },
  {
   "attachments": {},
   "cell_type": "markdown",
   "metadata": {},
   "source": [
    "---\n",
    "**<center><h2 id=\"heading_identifier_4\">CLEANING</h2>**"
   ]
  },
  {
   "attachments": {},
   "cell_type": "markdown",
   "metadata": {},
   "source": [
    "## Drop unnecesasry columns"
   ]
  },
  {
   "attachments": {},
   "cell_type": "markdown",
   "metadata": {},
   "source": [
    "* print existing columns"
   ]
  },
  {
   "cell_type": "code",
   "execution_count": 755,
   "metadata": {},
   "outputs": [
    {
     "name": "stdout",
     "output_type": "stream",
     "text": [
      "Index(['ID', 'PERMIT_TYPE', 'REVIEW_TYPE', 'APPLICATION_START_DATE',\n",
      "       'ISSUE_DATE', 'PROCESSING_TIME', 'STREET_NUMBER', 'STREET DIRECTION',\n",
      "       'STREET_NAME', 'SUFFIX', 'WORK_DESCRIPTION', 'BUILDING_FEE_PAID',\n",
      "       'ZONING_FEE_PAID', 'OTHER_FEE_PAID', 'SUBTOTAL_PAID',\n",
      "       'BUILDING_FEE_UNPAID', 'ZONING_FEE_UNPAID', 'OTHER_FEE_UNPAID',\n",
      "       'SUBTOTAL_UNPAID', 'BUILDING_FEE_WAIVED', 'ZONING_FEE_WAIVED',\n",
      "       'OTHER_FEE_WAIVED', 'SUBTOTAL_WAIVED', 'TOTAL_FEE', 'CONTACT_1_TYPE',\n",
      "       'CONTACT_1_CITY', 'CONTACT_1_STATE', 'REPORTED_COST', 'CENSUS_TRACT',\n",
      "       'LATITUDE', 'LONGITUDE', 'LOCATION'],\n",
      "      dtype='object')\n"
     ]
    }
   ],
   "source": [
    "print(permits_wip_3.columns)"
   ]
  },
  {
   "attachments": {},
   "cell_type": "markdown",
   "metadata": {},
   "source": [
    "* Drop columns no longer needed"
   ]
  },
  {
   "cell_type": "code",
   "execution_count": 758,
   "metadata": {},
   "outputs": [],
   "source": [
    "col_drop=['ID',  #carries no information about the application\n",
    "#since all census tracts were inferred, all columns referencing geography of the proposal can be dropped\n",
    "'STREET_NUMBER','STREET DIRECTION','STREET_NAME','SUFFIX','LATITUDE','LONGITUDE']\n",
    "\n",
    "#drop columns and create new dataframe\n",
    "permits_wip_4=permits_wip_3.drop(columns=col_drop)"
   ]
  },
  {
   "attachments": {},
   "cell_type": "markdown",
   "metadata": {},
   "source": [
    "## Null Values"
   ]
  },
  {
   "attachments": {},
   "cell_type": "markdown",
   "metadata": {},
   "source": [
    "* Check which columns still have null values"
   ]
  },
  {
   "cell_type": "code",
   "execution_count": 760,
   "metadata": {},
   "outputs": [
    {
     "name": "stdout",
     "output_type": "stream",
     "text": [
      "The dataframe shape is (730511, 9)\n"
     ]
    },
    {
     "data": {
      "text/html": [
       "<div>\n",
       "<style scoped>\n",
       "    .dataframe tbody tr th:only-of-type {\n",
       "        vertical-align: middle;\n",
       "    }\n",
       "\n",
       "    .dataframe tbody tr th {\n",
       "        vertical-align: top;\n",
       "    }\n",
       "\n",
       "    .dataframe thead th {\n",
       "        text-align: right;\n",
       "    }\n",
       "</style>\n",
       "<table border=\"1\" class=\"dataframe\">\n",
       "  <thead>\n",
       "    <tr style=\"text-align: right;\">\n",
       "      <th></th>\n",
       "      <th>Data Types</th>\n",
       "      <th>Total Null Values</th>\n",
       "      <th>Null Values Percentage</th>\n",
       "      <th>Sample Value Head</th>\n",
       "      <th>Sample Value Tail</th>\n",
       "      <th>Sample Value</th>\n",
       "    </tr>\n",
       "    <tr>\n",
       "      <th>Column_Name</th>\n",
       "      <th></th>\n",
       "      <th></th>\n",
       "      <th></th>\n",
       "      <th></th>\n",
       "      <th></th>\n",
       "      <th></th>\n",
       "    </tr>\n",
       "  </thead>\n",
       "  <tbody>\n",
       "    <tr>\n",
       "      <th>REVIEW_TYPE</th>\n",
       "      <td>object</td>\n",
       "      <td>7</td>\n",
       "      <td>0.000958</td>\n",
       "      <td>STANDARD PLAN REVIEW</td>\n",
       "      <td>EASY PERMIT WEB</td>\n",
       "      <td>STANDARD PLAN REVIEW</td>\n",
       "    </tr>\n",
       "    <tr>\n",
       "      <th>APPLICATION_START_DATE</th>\n",
       "      <td>object</td>\n",
       "      <td>522</td>\n",
       "      <td>0.071457</td>\n",
       "      <td>10/14/2005</td>\n",
       "      <td>02/24/2023</td>\n",
       "      <td>01/14/2021</td>\n",
       "    </tr>\n",
       "    <tr>\n",
       "      <th>PROCESSING_TIME</th>\n",
       "      <td>float64</td>\n",
       "      <td>522</td>\n",
       "      <td>0.071457</td>\n",
       "      <td>81.0</td>\n",
       "      <td>0.0</td>\n",
       "      <td>120.0</td>\n",
       "    </tr>\n",
       "    <tr>\n",
       "      <th>WORK_DESCRIPTION</th>\n",
       "      <td>object</td>\n",
       "      <td>53</td>\n",
       "      <td>0.007255</td>\n",
       "      <td>INTERIOR REMODELING OF EXISTING 3 D.U. PER PLA...</td>\n",
       "      <td>REPAIR SERVICE</td>\n",
       "      <td>SPR 2019 CBC. EXISTING TWO STORY SINGLE FAMILY...</td>\n",
       "    </tr>\n",
       "    <tr>\n",
       "      <th>CONTACT_1_TYPE</th>\n",
       "      <td>object</td>\n",
       "      <td>4773</td>\n",
       "      <td>0.653378</td>\n",
       "      <td>OWNER AS GENERAL CONTRACTOR</td>\n",
       "      <td>CONTRACTOR-ELECTRICAL</td>\n",
       "      <td>OWNER AS GENERAL CONTRACTOR</td>\n",
       "    </tr>\n",
       "    <tr>\n",
       "      <th>CONTACT_1_CITY</th>\n",
       "      <td>object</td>\n",
       "      <td>10305</td>\n",
       "      <td>1.410656</td>\n",
       "      <td>CHICAGO</td>\n",
       "      <td>SOMERSET</td>\n",
       "      <td>CHICAGO</td>\n",
       "    </tr>\n",
       "    <tr>\n",
       "      <th>CONTACT_1_STATE</th>\n",
       "      <td>object</td>\n",
       "      <td>6903</td>\n",
       "      <td>0.944955</td>\n",
       "      <td>IL</td>\n",
       "      <td>NJ</td>\n",
       "      <td>IL</td>\n",
       "    </tr>\n",
       "    <tr>\n",
       "      <th>REPORTED_COST</th>\n",
       "      <td>float64</td>\n",
       "      <td>373</td>\n",
       "      <td>0.051060</td>\n",
       "      <td>3000.0</td>\n",
       "      <td>500.0</td>\n",
       "      <td>30000.0</td>\n",
       "    </tr>\n",
       "    <tr>\n",
       "      <th>LOCATION</th>\n",
       "      <td>object</td>\n",
       "      <td>2254</td>\n",
       "      <td>0.308551</td>\n",
       "      <td>POINT (-87.718542820893 41.930957454144)</td>\n",
       "      <td>POINT (-87.63782516755 41.668047559861)</td>\n",
       "      <td>POINT (-87.775504785294 41.980954384955)</td>\n",
       "    </tr>\n",
       "  </tbody>\n",
       "</table>\n",
       "</div>"
      ],
      "text/plain": [
       "                       Data Types  Total Null Values  Null Values Percentage  \\\n",
       "Column_Name                                                                    \n",
       "REVIEW_TYPE                object                  7                0.000958   \n",
       "APPLICATION_START_DATE     object                522                0.071457   \n",
       "PROCESSING_TIME           float64                522                0.071457   \n",
       "WORK_DESCRIPTION           object                 53                0.007255   \n",
       "CONTACT_1_TYPE             object               4773                0.653378   \n",
       "CONTACT_1_CITY             object              10305                1.410656   \n",
       "CONTACT_1_STATE            object               6903                0.944955   \n",
       "REPORTED_COST             float64                373                0.051060   \n",
       "LOCATION                   object               2254                0.308551   \n",
       "\n",
       "                                                        Sample Value Head  \\\n",
       "Column_Name                                                                 \n",
       "REVIEW_TYPE                                          STANDARD PLAN REVIEW   \n",
       "APPLICATION_START_DATE                                         10/14/2005   \n",
       "PROCESSING_TIME                                                      81.0   \n",
       "WORK_DESCRIPTION        INTERIOR REMODELING OF EXISTING 3 D.U. PER PLA...   \n",
       "CONTACT_1_TYPE                                OWNER AS GENERAL CONTRACTOR   \n",
       "CONTACT_1_CITY                                                    CHICAGO   \n",
       "CONTACT_1_STATE                                                        IL   \n",
       "REPORTED_COST                                                      3000.0   \n",
       "LOCATION                         POINT (-87.718542820893 41.930957454144)   \n",
       "\n",
       "                                              Sample Value Tail  \\\n",
       "Column_Name                                                       \n",
       "REVIEW_TYPE                                     EASY PERMIT WEB   \n",
       "APPLICATION_START_DATE                               02/24/2023   \n",
       "PROCESSING_TIME                                             0.0   \n",
       "WORK_DESCRIPTION                                 REPAIR SERVICE   \n",
       "CONTACT_1_TYPE                            CONTRACTOR-ELECTRICAL   \n",
       "CONTACT_1_CITY                                         SOMERSET   \n",
       "CONTACT_1_STATE                                              NJ   \n",
       "REPORTED_COST                                             500.0   \n",
       "LOCATION                POINT (-87.63782516755 41.668047559861)   \n",
       "\n",
       "                                                             Sample Value  \n",
       "Column_Name                                                                \n",
       "REVIEW_TYPE                                          STANDARD PLAN REVIEW  \n",
       "APPLICATION_START_DATE                                         01/14/2021  \n",
       "PROCESSING_TIME                                                     120.0  \n",
       "WORK_DESCRIPTION        SPR 2019 CBC. EXISTING TWO STORY SINGLE FAMILY...  \n",
       "CONTACT_1_TYPE                                OWNER AS GENERAL CONTRACTOR  \n",
       "CONTACT_1_CITY                                                    CHICAGO  \n",
       "CONTACT_1_STATE                                                        IL  \n",
       "REPORTED_COST                                                     30000.0  \n",
       "LOCATION                         POINT (-87.775504785294 41.980954384955)  "
      ]
     },
     "execution_count": 760,
     "metadata": {},
     "output_type": "execute_result"
    }
   ],
   "source": [
    "mask_still_null=list(permits_wip_4.columns[permits_wip_4.isnull().any()])\n",
    "\n",
    "overview(permits_wip_4[mask_still_null])"
   ]
  },
  {
   "attachments": {},
   "cell_type": "markdown",
   "metadata": {},
   "source": [
    "---\n",
    "* [X] Fill in `'WORK_DESCRIPTION','CONTACT_1_TYPE','CONTACT_1_CITY','CONTACT_1_STATE'` with a string **'UNKNOWN'**\n",
    "  * Given that these columns are qualitative or categorical, there is no way to infer data otherwise\n"
   ]
  },
  {
   "cell_type": "code",
   "execution_count": 761,
   "metadata": {},
   "outputs": [],
   "source": [
    "permits_wip_4.loc[:,['WORK_DESCRIPTION','CONTACT_1_TYPE','CONTACT_1_CITY','CONTACT_1_STATE']]=permits_wip_4.loc[:,['WORK_DESCRIPTION','CONTACT_1_TYPE','CONTACT_1_CITY','CONTACT_1_STATE']].fillna('UNKNOWN')"
   ]
  },
  {
   "attachments": {},
   "cell_type": "markdown",
   "metadata": {},
   "source": [
    "---\n",
    "* [X] Fill in `'REPORTED_COST'` and `'PROCESSING_TIME'` based on the **mean** for its corresponding **'PERMIT_TYPE'**"
   ]
  },
  {
   "cell_type": "code",
   "execution_count": 762,
   "metadata": {},
   "outputs": [
    {
     "data": {
      "text/html": [
       "<div>\n",
       "<style scoped>\n",
       "    .dataframe tbody tr th:only-of-type {\n",
       "        vertical-align: middle;\n",
       "    }\n",
       "\n",
       "    .dataframe tbody tr th {\n",
       "        vertical-align: top;\n",
       "    }\n",
       "\n",
       "    .dataframe thead th {\n",
       "        text-align: right;\n",
       "    }\n",
       "</style>\n",
       "<table border=\"1\" class=\"dataframe\">\n",
       "  <thead>\n",
       "    <tr style=\"text-align: right;\">\n",
       "      <th></th>\n",
       "      <th>PERMIT_TYPE</th>\n",
       "      <th>REPORTED_COST</th>\n",
       "      <th>PROCESSING_TIME</th>\n",
       "    </tr>\n",
       "  </thead>\n",
       "  <tbody>\n",
       "    <tr>\n",
       "      <th>0</th>\n",
       "      <td>PERMIT - EASY PERMIT PROCESS</td>\n",
       "      <td>5.902866e+04</td>\n",
       "      <td>1.536409</td>\n",
       "    </tr>\n",
       "    <tr>\n",
       "      <th>1</th>\n",
       "      <td>PERMIT - ELECTRIC WIRING</td>\n",
       "      <td>5.293427e+04</td>\n",
       "      <td>21.677212</td>\n",
       "    </tr>\n",
       "    <tr>\n",
       "      <th>2</th>\n",
       "      <td>PERMIT - ELEVATOR EQUIPMENT</td>\n",
       "      <td>1.829954e+05</td>\n",
       "      <td>1.822388</td>\n",
       "    </tr>\n",
       "    <tr>\n",
       "      <th>3</th>\n",
       "      <td>PERMIT - FOR EXTENSION OF PMT</td>\n",
       "      <td>5.943578e+05</td>\n",
       "      <td>2.103448</td>\n",
       "    </tr>\n",
       "    <tr>\n",
       "      <th>4</th>\n",
       "      <td>PERMIT - NEW CONSTRUCTION</td>\n",
       "      <td>2.060421e+06</td>\n",
       "      <td>40.644073</td>\n",
       "    </tr>\n",
       "    <tr>\n",
       "      <th>5</th>\n",
       "      <td>PERMIT - PORCH CONSTRUCTION</td>\n",
       "      <td>1.165803e+04</td>\n",
       "      <td>20.439922</td>\n",
       "    </tr>\n",
       "    <tr>\n",
       "      <th>6</th>\n",
       "      <td>PERMIT - REINSTATE REVOKED PMT</td>\n",
       "      <td>4.794679e+03</td>\n",
       "      <td>2.421702</td>\n",
       "    </tr>\n",
       "    <tr>\n",
       "      <th>7</th>\n",
       "      <td>PERMIT - RENOVATION/ALTERATION</td>\n",
       "      <td>5.059490e+05</td>\n",
       "      <td>34.207817</td>\n",
       "    </tr>\n",
       "    <tr>\n",
       "      <th>8</th>\n",
       "      <td>PERMIT - SCAFFOLDING</td>\n",
       "      <td>6.274428e+01</td>\n",
       "      <td>0.290323</td>\n",
       "    </tr>\n",
       "    <tr>\n",
       "      <th>9</th>\n",
       "      <td>PERMIT - SIGNS</td>\n",
       "      <td>5.717740e+03</td>\n",
       "      <td>79.895947</td>\n",
       "    </tr>\n",
       "    <tr>\n",
       "      <th>10</th>\n",
       "      <td>PERMIT - WRECKING/DEMOLITION</td>\n",
       "      <td>9.764292e+03</td>\n",
       "      <td>36.100710</td>\n",
       "    </tr>\n",
       "  </tbody>\n",
       "</table>\n",
       "</div>"
      ],
      "text/plain": [
       "                       PERMIT_TYPE  REPORTED_COST  PROCESSING_TIME\n",
       "0     PERMIT - EASY PERMIT PROCESS   5.902866e+04         1.536409\n",
       "1         PERMIT - ELECTRIC WIRING   5.293427e+04        21.677212\n",
       "2      PERMIT - ELEVATOR EQUIPMENT   1.829954e+05         1.822388\n",
       "3    PERMIT - FOR EXTENSION OF PMT   5.943578e+05         2.103448\n",
       "4        PERMIT - NEW CONSTRUCTION   2.060421e+06        40.644073\n",
       "5      PERMIT - PORCH CONSTRUCTION   1.165803e+04        20.439922\n",
       "6   PERMIT - REINSTATE REVOKED PMT   4.794679e+03         2.421702\n",
       "7   PERMIT - RENOVATION/ALTERATION   5.059490e+05        34.207817\n",
       "8             PERMIT - SCAFFOLDING   6.274428e+01         0.290323\n",
       "9                   PERMIT - SIGNS   5.717740e+03        79.895947\n",
       "10    PERMIT - WRECKING/DEMOLITION   9.764292e+03        36.100710"
      ]
     },
     "execution_count": 762,
     "metadata": {},
     "output_type": "execute_result"
    }
   ],
   "source": [
    "#create a temporary dataframe with the mean reported cost and processing time for each permit type\n",
    "df_temp=permits_wip_4.groupby('PERMIT_TYPE').mean()[['REPORTED_COST','PROCESSING_TIME']].reset_index()\n",
    "df_temp"
   ]
  },
  {
   "cell_type": "code",
   "execution_count": 31,
   "metadata": {},
   "outputs": [],
   "source": [
    "#Fill in null values based on the mean from the corresponding permit type\n",
    "\n",
    "#loop through each row in permits_wip_4 and is REPORTED_COST is nan, infer value from df_temp for the same PERMIT_TYPE\n",
    "permits_clean['REPORTED_COST']=[df_temp[df_temp['PERMIT_TYPE']==row['PERMIT_TYPE']]['PROCESSING_TIME'] if np.isnan(row['REPORTED_COST']) else row['REPORTED_COST'] for i,row in permits_wip_4.iterrows()]\n",
    "\n",
    "#repeat for PROCESSING_TIME\n",
    "permits_clean['PROCESSING_TIME']=[df_temp[df_temp['PERMIT_TYPE']==row['PERMIT_TYPE']]['PROCESSING_TIME'] if np.isnan(row['PROCESSING_TIME']) else row['PROCESSING_TIME'] for i,row in permits_wip_4.iterrows()]"
   ]
  },
  {
   "cell_type": "code",
   "execution_count": 32,
   "metadata": {},
   "outputs": [
    {
     "name": "stdout",
     "output_type": "stream",
     "text": [
      "0\n",
      "0\n"
     ]
    }
   ],
   "source": [
    "print(permits_clean['PROCESSING_TIME'].isna().sum())\n",
    "print(permits_clean['REPORTED_COST'].isna().sum())"
   ]
  },
  {
   "cell_type": "code",
   "execution_count": 33,
   "metadata": {},
   "outputs": [],
   "source": [
    "permits_clean['REPORTED_COST']=permits_clean['REPORTED_COST'].astype('float')\n",
    "permits_clean['PROCESSING_TIME']=permits_clean['PROCESSING_TIME'].astype('float')"
   ]
  },
  {
   "cell_type": "code",
   "execution_count": 34,
   "metadata": {},
   "outputs": [],
   "source": [
    "#Remove PERMIT prefix from the PERMIT_TYPE column\n",
    "permits_clean['PERMIT_TYPE']=permits_clean['PERMIT_TYPE'].apply(lambda x: x.split(' - ')[1])"
   ]
  },
  {
   "cell_type": "code",
   "execution_count": 35,
   "metadata": {},
   "outputs": [
    {
     "data": {
      "text/html": [
       "<div>\n",
       "<style scoped>\n",
       "    .dataframe tbody tr th:only-of-type {\n",
       "        vertical-align: middle;\n",
       "    }\n",
       "\n",
       "    .dataframe tbody tr th {\n",
       "        vertical-align: top;\n",
       "    }\n",
       "\n",
       "    .dataframe thead th {\n",
       "        text-align: right;\n",
       "    }\n",
       "</style>\n",
       "<table border=\"1\" class=\"dataframe\">\n",
       "  <thead>\n",
       "    <tr style=\"text-align: right;\">\n",
       "      <th></th>\n",
       "      <th>ID</th>\n",
       "      <th>PERMIT_TYPE</th>\n",
       "      <th>REVIEW_TYPE</th>\n",
       "      <th>ISSUE_DATE</th>\n",
       "      <th>PROCESSING_TIME</th>\n",
       "      <th>WORK_DESCRIPTION</th>\n",
       "      <th>BUILDING_FEE_PAID</th>\n",
       "      <th>ZONING_FEE_PAID</th>\n",
       "      <th>OTHER_FEE_PAID</th>\n",
       "      <th>SUBTOTAL_PAID</th>\n",
       "      <th>...</th>\n",
       "      <th>BUILDING_FEE_WAIVED</th>\n",
       "      <th>ZONING_FEE_WAIVED</th>\n",
       "      <th>OTHER_FEE_WAIVED</th>\n",
       "      <th>SUBTOTAL_WAIVED</th>\n",
       "      <th>TOTAL_FEE</th>\n",
       "      <th>CONTACT_1_TYPE</th>\n",
       "      <th>CONTACT_1_CITY</th>\n",
       "      <th>CONTACT_1_STATE</th>\n",
       "      <th>REPORTED_COST</th>\n",
       "      <th>CENSUS_TRACT</th>\n",
       "    </tr>\n",
       "  </thead>\n",
       "  <tbody>\n",
       "    <tr>\n",
       "      <th>78463</th>\n",
       "      <td>1926725</td>\n",
       "      <td>RENOVATION/ALTERATION</td>\n",
       "      <td>NaN</td>\n",
       "      <td>12/31/2008</td>\n",
       "      <td>23.000000</td>\n",
       "      <td>INTERIOR ALTERATIONS TO EXISTING THREE STORY M...</td>\n",
       "      <td>2014.13</td>\n",
       "      <td>50.0</td>\n",
       "      <td>0.0</td>\n",
       "      <td>2064.13</td>\n",
       "      <td>...</td>\n",
       "      <td>0.0</td>\n",
       "      <td>0.0</td>\n",
       "      <td>0.0</td>\n",
       "      <td>0.0</td>\n",
       "      <td>2064.13</td>\n",
       "      <td>CONTRACTOR-ELECTRICAL</td>\n",
       "      <td>CHICAGO</td>\n",
       "      <td>IL</td>\n",
       "      <td>62000.0</td>\n",
       "      <td>833300</td>\n",
       "    </tr>\n",
       "    <tr>\n",
       "      <th>174057</th>\n",
       "      <td>2232047</td>\n",
       "      <td>RENOVATION/ALTERATION</td>\n",
       "      <td>NaN</td>\n",
       "      <td>01/14/2011</td>\n",
       "      <td>1.000000</td>\n",
       "      <td>LIMITED INTERIOR RENOVATION OF 23,204 SQ. FT. ...</td>\n",
       "      <td>7077.32</td>\n",
       "      <td>75.0</td>\n",
       "      <td>0.0</td>\n",
       "      <td>7152.32</td>\n",
       "      <td>...</td>\n",
       "      <td>0.0</td>\n",
       "      <td>0.0</td>\n",
       "      <td>0.0</td>\n",
       "      <td>0.0</td>\n",
       "      <td>7152.32</td>\n",
       "      <td>OWNER OCCUPIED</td>\n",
       "      <td>CHICAGO</td>\n",
       "      <td>IL</td>\n",
       "      <td>464080.0</td>\n",
       "      <td>839100</td>\n",
       "    </tr>\n",
       "    <tr>\n",
       "      <th>186007</th>\n",
       "      <td>2269704</td>\n",
       "      <td>RENOVATION/ALTERATION</td>\n",
       "      <td>NaN</td>\n",
       "      <td>04/29/2011</td>\n",
       "      <td>34.207817</td>\n",
       "      <td>INSTALL THREE (3) NEW FOOTINGS UNDER EXISTING ...</td>\n",
       "      <td>200.00</td>\n",
       "      <td>75.0</td>\n",
       "      <td>0.0</td>\n",
       "      <td>275.00</td>\n",
       "      <td>...</td>\n",
       "      <td>0.0</td>\n",
       "      <td>0.0</td>\n",
       "      <td>0.0</td>\n",
       "      <td>0.0</td>\n",
       "      <td>275.00</td>\n",
       "      <td>ARCHITECT</td>\n",
       "      <td>HOFFMAN ESTATES X</td>\n",
       "      <td>IL</td>\n",
       "      <td>2400.0</td>\n",
       "      <td>832100</td>\n",
       "    </tr>\n",
       "    <tr>\n",
       "      <th>294217</th>\n",
       "      <td>2554950</td>\n",
       "      <td>RENOVATION/ALTERATION</td>\n",
       "      <td>NaN</td>\n",
       "      <td>04/22/2014</td>\n",
       "      <td>34.207817</td>\n",
       "      <td>REVISION TO PERMIT 100431819 TO REDUCE OVERALL...</td>\n",
       "      <td>300.00</td>\n",
       "      <td>75.0</td>\n",
       "      <td>0.0</td>\n",
       "      <td>375.00</td>\n",
       "      <td>...</td>\n",
       "      <td>0.0</td>\n",
       "      <td>0.0</td>\n",
       "      <td>0.0</td>\n",
       "      <td>0.0</td>\n",
       "      <td>375.00</td>\n",
       "      <td>OWNER AS GENERAL CONTRACTOR</td>\n",
       "      <td>CHICAGO</td>\n",
       "      <td>IL</td>\n",
       "      <td>0.0</td>\n",
       "      <td>160200</td>\n",
       "    </tr>\n",
       "    <tr>\n",
       "      <th>525877</th>\n",
       "      <td>3043218</td>\n",
       "      <td>RENOVATION/ALTERATION</td>\n",
       "      <td>NaN</td>\n",
       "      <td>06/10/2019</td>\n",
       "      <td>34.207817</td>\n",
       "      <td>ERECT REAR DECK TO A SINGLE FAMILY RESIDENCE.</td>\n",
       "      <td>200.00</td>\n",
       "      <td>75.0</td>\n",
       "      <td>0.0</td>\n",
       "      <td>275.00</td>\n",
       "      <td>...</td>\n",
       "      <td>0.0</td>\n",
       "      <td>0.0</td>\n",
       "      <td>0.0</td>\n",
       "      <td>0.0</td>\n",
       "      <td>275.00</td>\n",
       "      <td>OWNER AS GENERAL CONTRACTOR</td>\n",
       "      <td>CHICAGO</td>\n",
       "      <td>IL</td>\n",
       "      <td>0.0</td>\n",
       "      <td>20702</td>\n",
       "    </tr>\n",
       "    <tr>\n",
       "      <th>689292</th>\n",
       "      <td>3044287</td>\n",
       "      <td>RENOVATION/ALTERATION</td>\n",
       "      <td>NaN</td>\n",
       "      <td>06/13/2019</td>\n",
       "      <td>34.207817</td>\n",
       "      <td>*** STOP WORK ORDER *** STOP WORK ORDER *** ST...</td>\n",
       "      <td>0.00</td>\n",
       "      <td>0.0</td>\n",
       "      <td>0.0</td>\n",
       "      <td>0.00</td>\n",
       "      <td>...</td>\n",
       "      <td>100.0</td>\n",
       "      <td>0.0</td>\n",
       "      <td>0.0</td>\n",
       "      <td>100.0</td>\n",
       "      <td>100.00</td>\n",
       "      <td>OWNER AS GENERAL CONTRACTOR</td>\n",
       "      <td>CHICAGO</td>\n",
       "      <td>IL</td>\n",
       "      <td>0.0</td>\n",
       "      <td>351400</td>\n",
       "    </tr>\n",
       "    <tr>\n",
       "      <th>709925</th>\n",
       "      <td>3294829</td>\n",
       "      <td>RENOVATION/ALTERATION</td>\n",
       "      <td>NaN</td>\n",
       "      <td>11/30/2022</td>\n",
       "      <td>34.207817</td>\n",
       "      <td>THIS PERMIT GOES INTO EFFECT DECEMBER 30, 2022...</td>\n",
       "      <td>0.00</td>\n",
       "      <td>0.0</td>\n",
       "      <td>0.0</td>\n",
       "      <td>0.00</td>\n",
       "      <td>...</td>\n",
       "      <td>1000000.0</td>\n",
       "      <td>0.0</td>\n",
       "      <td>0.0</td>\n",
       "      <td>1000000.0</td>\n",
       "      <td>1000000.00</td>\n",
       "      <td>OWNER AS GENERAL CONTRACTOR</td>\n",
       "      <td>CHICAGO</td>\n",
       "      <td>IL</td>\n",
       "      <td>0.0</td>\n",
       "      <td>740400</td>\n",
       "    </tr>\n",
       "  </tbody>\n",
       "</table>\n",
       "<p>7 rows × 24 columns</p>\n",
       "</div>"
      ],
      "text/plain": [
       "             ID            PERMIT_TYPE REVIEW_TYPE  ISSUE_DATE  \\\n",
       "78463   1926725  RENOVATION/ALTERATION         NaN  12/31/2008   \n",
       "174057  2232047  RENOVATION/ALTERATION         NaN  01/14/2011   \n",
       "186007  2269704  RENOVATION/ALTERATION         NaN  04/29/2011   \n",
       "294217  2554950  RENOVATION/ALTERATION         NaN  04/22/2014   \n",
       "525877  3043218  RENOVATION/ALTERATION         NaN  06/10/2019   \n",
       "689292  3044287  RENOVATION/ALTERATION         NaN  06/13/2019   \n",
       "709925  3294829  RENOVATION/ALTERATION         NaN  11/30/2022   \n",
       "\n",
       "        PROCESSING_TIME                                   WORK_DESCRIPTION  \\\n",
       "78463         23.000000  INTERIOR ALTERATIONS TO EXISTING THREE STORY M...   \n",
       "174057         1.000000  LIMITED INTERIOR RENOVATION OF 23,204 SQ. FT. ...   \n",
       "186007        34.207817  INSTALL THREE (3) NEW FOOTINGS UNDER EXISTING ...   \n",
       "294217        34.207817  REVISION TO PERMIT 100431819 TO REDUCE OVERALL...   \n",
       "525877        34.207817      ERECT REAR DECK TO A SINGLE FAMILY RESIDENCE.   \n",
       "689292        34.207817  *** STOP WORK ORDER *** STOP WORK ORDER *** ST...   \n",
       "709925        34.207817  THIS PERMIT GOES INTO EFFECT DECEMBER 30, 2022...   \n",
       "\n",
       "        BUILDING_FEE_PAID  ZONING_FEE_PAID  OTHER_FEE_PAID  SUBTOTAL_PAID  \\\n",
       "78463             2014.13             50.0             0.0        2064.13   \n",
       "174057            7077.32             75.0             0.0        7152.32   \n",
       "186007             200.00             75.0             0.0         275.00   \n",
       "294217             300.00             75.0             0.0         375.00   \n",
       "525877             200.00             75.0             0.0         275.00   \n",
       "689292               0.00              0.0             0.0           0.00   \n",
       "709925               0.00              0.0             0.0           0.00   \n",
       "\n",
       "        ...  BUILDING_FEE_WAIVED  ZONING_FEE_WAIVED  OTHER_FEE_WAIVED  \\\n",
       "78463   ...                  0.0                0.0               0.0   \n",
       "174057  ...                  0.0                0.0               0.0   \n",
       "186007  ...                  0.0                0.0               0.0   \n",
       "294217  ...                  0.0                0.0               0.0   \n",
       "525877  ...                  0.0                0.0               0.0   \n",
       "689292  ...                100.0                0.0               0.0   \n",
       "709925  ...            1000000.0                0.0               0.0   \n",
       "\n",
       "        SUBTOTAL_WAIVED   TOTAL_FEE               CONTACT_1_TYPE  \\\n",
       "78463               0.0     2064.13        CONTRACTOR-ELECTRICAL   \n",
       "174057              0.0     7152.32               OWNER OCCUPIED   \n",
       "186007              0.0      275.00                    ARCHITECT   \n",
       "294217              0.0      375.00  OWNER AS GENERAL CONTRACTOR   \n",
       "525877              0.0      275.00  OWNER AS GENERAL CONTRACTOR   \n",
       "689292            100.0      100.00  OWNER AS GENERAL CONTRACTOR   \n",
       "709925        1000000.0  1000000.00  OWNER AS GENERAL CONTRACTOR   \n",
       "\n",
       "           CONTACT_1_CITY  CONTACT_1_STATE  REPORTED_COST CENSUS_TRACT  \n",
       "78463             CHICAGO               IL        62000.0       833300  \n",
       "174057            CHICAGO               IL       464080.0       839100  \n",
       "186007  HOFFMAN ESTATES X               IL         2400.0       832100  \n",
       "294217            CHICAGO               IL            0.0       160200  \n",
       "525877            CHICAGO               IL            0.0        20702  \n",
       "689292            CHICAGO               IL            0.0       351400  \n",
       "709925            CHICAGO               IL            0.0       740400  \n",
       "\n",
       "[7 rows x 24 columns]"
      ]
     },
     "execution_count": 35,
     "metadata": {},
     "output_type": "execute_result"
    }
   ],
   "source": [
    "permits_clean[permits_clean['REVIEW_TYPE'].isna()]"
   ]
  },
  {
   "cell_type": "code",
   "execution_count": 36,
   "metadata": {},
   "outputs": [],
   "source": [
    "permits_clean['REVIEW_TYPE']=permits_clean['REVIEW_TYPE'].fillna('STANDARD PLAN REVIEW')"
   ]
  },
  {
   "attachments": {},
   "cell_type": "markdown",
   "metadata": {},
   "source": [
    "***\n",
    "*<center><h2>Basic EDA/ Developing an understanding of the dataset<center><h2>*"
   ]
  },
  {
   "cell_type": "code",
   "execution_count": 37,
   "metadata": {},
   "outputs": [],
   "source": [
    "#Split into numeric and object columns to assist exploration\n",
    "df_num=permits_clean.select_dtypes(include=\"number\").drop(columns='ID')\n",
    "#df_num=permits_clean.select_dtypes(include=[\"number\",'datetime64'])\n",
    "df_obj=permits_clean.select_dtypes(include=[\"object\",'datetime64'])"
   ]
  },
  {
   "attachments": {},
   "cell_type": "markdown",
   "metadata": {},
   "source": [
    "*<center><h3>Numeric Columns<center><h3>*"
   ]
  },
  {
   "cell_type": "code",
   "execution_count": 38,
   "metadata": {},
   "outputs": [
    {
     "name": "stdout",
     "output_type": "stream",
     "text": [
      "The dataframe shape is (730511, 16)\n"
     ]
    },
    {
     "data": {
      "text/html": [
       "<div>\n",
       "<style scoped>\n",
       "    .dataframe tbody tr th:only-of-type {\n",
       "        vertical-align: middle;\n",
       "    }\n",
       "\n",
       "    .dataframe tbody tr th {\n",
       "        vertical-align: top;\n",
       "    }\n",
       "\n",
       "    .dataframe thead th {\n",
       "        text-align: right;\n",
       "    }\n",
       "</style>\n",
       "<table border=\"1\" class=\"dataframe\">\n",
       "  <thead>\n",
       "    <tr style=\"text-align: right;\">\n",
       "      <th></th>\n",
       "      <th>Data Types</th>\n",
       "      <th>Total Null Values</th>\n",
       "      <th>Null Values Percentage</th>\n",
       "      <th>Sample Value</th>\n",
       "    </tr>\n",
       "  </thead>\n",
       "  <tbody>\n",
       "    <tr>\n",
       "      <th>PROCESSING_TIME</th>\n",
       "      <td>float64</td>\n",
       "      <td>0</td>\n",
       "      <td>0.0</td>\n",
       "      <td>0.0</td>\n",
       "    </tr>\n",
       "    <tr>\n",
       "      <th>BUILDING_FEE_PAID</th>\n",
       "      <td>float64</td>\n",
       "      <td>0</td>\n",
       "      <td>0.0</td>\n",
       "      <td>500.0</td>\n",
       "    </tr>\n",
       "    <tr>\n",
       "      <th>ZONING_FEE_PAID</th>\n",
       "      <td>float64</td>\n",
       "      <td>0</td>\n",
       "      <td>0.0</td>\n",
       "      <td>50.0</td>\n",
       "    </tr>\n",
       "    <tr>\n",
       "      <th>OTHER_FEE_PAID</th>\n",
       "      <td>float64</td>\n",
       "      <td>0</td>\n",
       "      <td>0.0</td>\n",
       "      <td>0.0</td>\n",
       "    </tr>\n",
       "    <tr>\n",
       "      <th>SUBTOTAL_PAID</th>\n",
       "      <td>float64</td>\n",
       "      <td>0</td>\n",
       "      <td>0.0</td>\n",
       "      <td>550.0</td>\n",
       "    </tr>\n",
       "    <tr>\n",
       "      <th>BUILDING_FEE_UNPAID</th>\n",
       "      <td>float64</td>\n",
       "      <td>0</td>\n",
       "      <td>0.0</td>\n",
       "      <td>0.0</td>\n",
       "    </tr>\n",
       "    <tr>\n",
       "      <th>ZONING_FEE_UNPAID</th>\n",
       "      <td>float64</td>\n",
       "      <td>0</td>\n",
       "      <td>0.0</td>\n",
       "      <td>0.0</td>\n",
       "    </tr>\n",
       "    <tr>\n",
       "      <th>OTHER_FEE_UNPAID</th>\n",
       "      <td>float64</td>\n",
       "      <td>0</td>\n",
       "      <td>0.0</td>\n",
       "      <td>0.0</td>\n",
       "    </tr>\n",
       "    <tr>\n",
       "      <th>SUBTOTAL_UNPAID</th>\n",
       "      <td>float64</td>\n",
       "      <td>0</td>\n",
       "      <td>0.0</td>\n",
       "      <td>0.0</td>\n",
       "    </tr>\n",
       "    <tr>\n",
       "      <th>BUILDING_FEE_WAIVED</th>\n",
       "      <td>float64</td>\n",
       "      <td>0</td>\n",
       "      <td>0.0</td>\n",
       "      <td>0.0</td>\n",
       "    </tr>\n",
       "    <tr>\n",
       "      <th>ZONING_FEE_WAIVED</th>\n",
       "      <td>float64</td>\n",
       "      <td>0</td>\n",
       "      <td>0.0</td>\n",
       "      <td>0.0</td>\n",
       "    </tr>\n",
       "    <tr>\n",
       "      <th>OTHER_FEE_WAIVED</th>\n",
       "      <td>float64</td>\n",
       "      <td>0</td>\n",
       "      <td>0.0</td>\n",
       "      <td>0.0</td>\n",
       "    </tr>\n",
       "    <tr>\n",
       "      <th>SUBTOTAL_WAIVED</th>\n",
       "      <td>float64</td>\n",
       "      <td>0</td>\n",
       "      <td>0.0</td>\n",
       "      <td>0.0</td>\n",
       "    </tr>\n",
       "    <tr>\n",
       "      <th>TOTAL_FEE</th>\n",
       "      <td>float64</td>\n",
       "      <td>0</td>\n",
       "      <td>0.0</td>\n",
       "      <td>550.0</td>\n",
       "    </tr>\n",
       "    <tr>\n",
       "      <th>REPORTED_COST</th>\n",
       "      <td>float64</td>\n",
       "      <td>0</td>\n",
       "      <td>0.0</td>\n",
       "      <td>15000.0</td>\n",
       "    </tr>\n",
       "    <tr>\n",
       "      <th>CENSUS_TRACT</th>\n",
       "      <td>int64</td>\n",
       "      <td>0</td>\n",
       "      <td>0.0</td>\n",
       "      <td>640600.0</td>\n",
       "    </tr>\n",
       "  </tbody>\n",
       "</table>\n",
       "</div>"
      ],
      "text/plain": [
       "                    Data Types  Total Null Values  Null Values Percentage  \\\n",
       "PROCESSING_TIME        float64                  0                     0.0   \n",
       "BUILDING_FEE_PAID      float64                  0                     0.0   \n",
       "ZONING_FEE_PAID        float64                  0                     0.0   \n",
       "OTHER_FEE_PAID         float64                  0                     0.0   \n",
       "SUBTOTAL_PAID          float64                  0                     0.0   \n",
       "BUILDING_FEE_UNPAID    float64                  0                     0.0   \n",
       "ZONING_FEE_UNPAID      float64                  0                     0.0   \n",
       "OTHER_FEE_UNPAID       float64                  0                     0.0   \n",
       "SUBTOTAL_UNPAID        float64                  0                     0.0   \n",
       "BUILDING_FEE_WAIVED    float64                  0                     0.0   \n",
       "ZONING_FEE_WAIVED      float64                  0                     0.0   \n",
       "OTHER_FEE_WAIVED       float64                  0                     0.0   \n",
       "SUBTOTAL_WAIVED        float64                  0                     0.0   \n",
       "TOTAL_FEE              float64                  0                     0.0   \n",
       "REPORTED_COST          float64                  0                     0.0   \n",
       "CENSUS_TRACT             int64                  0                     0.0   \n",
       "\n",
       "                     Sample Value  \n",
       "PROCESSING_TIME               0.0  \n",
       "BUILDING_FEE_PAID           500.0  \n",
       "ZONING_FEE_PAID              50.0  \n",
       "OTHER_FEE_PAID                0.0  \n",
       "SUBTOTAL_PAID               550.0  \n",
       "BUILDING_FEE_UNPAID           0.0  \n",
       "ZONING_FEE_UNPAID             0.0  \n",
       "OTHER_FEE_UNPAID              0.0  \n",
       "SUBTOTAL_UNPAID               0.0  \n",
       "BUILDING_FEE_WAIVED           0.0  \n",
       "ZONING_FEE_WAIVED             0.0  \n",
       "OTHER_FEE_WAIVED              0.0  \n",
       "SUBTOTAL_WAIVED               0.0  \n",
       "TOTAL_FEE                   550.0  \n",
       "REPORTED_COST             15000.0  \n",
       "CENSUS_TRACT             640600.0  "
      ]
     },
     "execution_count": 38,
     "metadata": {},
     "output_type": "execute_result"
    }
   ],
   "source": [
    "preview(df_num)"
   ]
  },
  {
   "cell_type": "code",
   "execution_count": 39,
   "metadata": {},
   "outputs": [
    {
     "data": {
      "text/html": [
       "<div>\n",
       "<style scoped>\n",
       "    .dataframe tbody tr th:only-of-type {\n",
       "        vertical-align: middle;\n",
       "    }\n",
       "\n",
       "    .dataframe tbody tr th {\n",
       "        vertical-align: top;\n",
       "    }\n",
       "\n",
       "    .dataframe thead th {\n",
       "        text-align: right;\n",
       "    }\n",
       "</style>\n",
       "<table border=\"1\" class=\"dataframe\">\n",
       "  <thead>\n",
       "    <tr style=\"text-align: right;\">\n",
       "      <th></th>\n",
       "      <th>PROCESSING_TIME</th>\n",
       "      <th>BUILDING_FEE_PAID</th>\n",
       "      <th>ZONING_FEE_PAID</th>\n",
       "      <th>OTHER_FEE_PAID</th>\n",
       "      <th>SUBTOTAL_PAID</th>\n",
       "      <th>BUILDING_FEE_UNPAID</th>\n",
       "      <th>ZONING_FEE_UNPAID</th>\n",
       "      <th>OTHER_FEE_UNPAID</th>\n",
       "      <th>SUBTOTAL_UNPAID</th>\n",
       "      <th>BUILDING_FEE_WAIVED</th>\n",
       "      <th>ZONING_FEE_WAIVED</th>\n",
       "      <th>OTHER_FEE_WAIVED</th>\n",
       "      <th>SUBTOTAL_WAIVED</th>\n",
       "      <th>TOTAL_FEE</th>\n",
       "      <th>REPORTED_COST</th>\n",
       "      <th>CENSUS_TRACT</th>\n",
       "    </tr>\n",
       "  </thead>\n",
       "  <tbody>\n",
       "    <tr>\n",
       "      <th>count</th>\n",
       "      <td>730511.000000</td>\n",
       "      <td>730511.000000</td>\n",
       "      <td>730511.000000</td>\n",
       "      <td>730511.000000</td>\n",
       "      <td>730511.000000</td>\n",
       "      <td>7.305110e+05</td>\n",
       "      <td>730511.000000</td>\n",
       "      <td>730511.000000</td>\n",
       "      <td>7.305110e+05</td>\n",
       "      <td>7.305110e+05</td>\n",
       "      <td>730511.000000</td>\n",
       "      <td>730511.000000</td>\n",
       "      <td>7.305110e+05</td>\n",
       "      <td>7.305110e+05</td>\n",
       "      <td>7.305110e+05</td>\n",
       "      <td>730511.000000</td>\n",
       "    </tr>\n",
       "    <tr>\n",
       "      <th>mean</th>\n",
       "      <td>22.627990</td>\n",
       "      <td>675.572852</td>\n",
       "      <td>53.037871</td>\n",
       "      <td>79.834060</td>\n",
       "      <td>808.444783</td>\n",
       "      <td>1.171336e+01</td>\n",
       "      <td>4.096355</td>\n",
       "      <td>1.259488</td>\n",
       "      <td>1.706921e+01</td>\n",
       "      <td>1.128250e+02</td>\n",
       "      <td>1.817716</td>\n",
       "      <td>7.721152</td>\n",
       "      <td>1.223638e+02</td>\n",
       "      <td>9.478778e+02</td>\n",
       "      <td>2.178716e+05</td>\n",
       "      <td>422994.237635</td>\n",
       "    </tr>\n",
       "    <tr>\n",
       "      <th>std</th>\n",
       "      <td>105.646171</td>\n",
       "      <td>5775.639286</td>\n",
       "      <td>228.538985</td>\n",
       "      <td>1915.561999</td>\n",
       "      <td>6944.309270</td>\n",
       "      <td>2.510429e+03</td>\n",
       "      <td>1456.754165</td>\n",
       "      <td>218.959719</td>\n",
       "      <td>2.928526e+03</td>\n",
       "      <td>8.533371e+03</td>\n",
       "      <td>135.210814</td>\n",
       "      <td>1021.261718</td>\n",
       "      <td>8.644256e+03</td>\n",
       "      <td>1.157143e+04</td>\n",
       "      <td>1.836277e+07</td>\n",
       "      <td>302606.645490</td>\n",
       "    </tr>\n",
       "    <tr>\n",
       "      <th>min</th>\n",
       "      <td>-2876.000000</td>\n",
       "      <td>0.000000</td>\n",
       "      <td>0.000000</td>\n",
       "      <td>0.000000</td>\n",
       "      <td>0.000000</td>\n",
       "      <td>-1.440000e+04</td>\n",
       "      <td>-225.000000</td>\n",
       "      <td>0.000000</td>\n",
       "      <td>-1.440000e+04</td>\n",
       "      <td>0.000000e+00</td>\n",
       "      <td>0.000000</td>\n",
       "      <td>0.000000</td>\n",
       "      <td>0.000000e+00</td>\n",
       "      <td>-1.152747e+04</td>\n",
       "      <td>-1.000000e+03</td>\n",
       "      <td>10100.000000</td>\n",
       "    </tr>\n",
       "    <tr>\n",
       "      <th>25%</th>\n",
       "      <td>0.000000</td>\n",
       "      <td>58.000000</td>\n",
       "      <td>0.000000</td>\n",
       "      <td>0.000000</td>\n",
       "      <td>75.000000</td>\n",
       "      <td>0.000000e+00</td>\n",
       "      <td>0.000000</td>\n",
       "      <td>0.000000</td>\n",
       "      <td>0.000000e+00</td>\n",
       "      <td>0.000000e+00</td>\n",
       "      <td>0.000000</td>\n",
       "      <td>0.000000</td>\n",
       "      <td>0.000000e+00</td>\n",
       "      <td>7.500000e+01</td>\n",
       "      <td>5.000000e+02</td>\n",
       "      <td>140400.000000</td>\n",
       "    </tr>\n",
       "    <tr>\n",
       "      <th>50%</th>\n",
       "      <td>0.000000</td>\n",
       "      <td>150.000000</td>\n",
       "      <td>0.000000</td>\n",
       "      <td>0.000000</td>\n",
       "      <td>200.000000</td>\n",
       "      <td>0.000000e+00</td>\n",
       "      <td>0.000000</td>\n",
       "      <td>0.000000</td>\n",
       "      <td>0.000000e+00</td>\n",
       "      <td>0.000000e+00</td>\n",
       "      <td>0.000000</td>\n",
       "      <td>0.000000</td>\n",
       "      <td>0.000000e+00</td>\n",
       "      <td>2.250000e+02</td>\n",
       "      <td>4.480000e+03</td>\n",
       "      <td>330100.000000</td>\n",
       "    </tr>\n",
       "    <tr>\n",
       "      <th>75%</th>\n",
       "      <td>8.000000</td>\n",
       "      <td>400.000000</td>\n",
       "      <td>75.000000</td>\n",
       "      <td>0.000000</td>\n",
       "      <td>450.000000</td>\n",
       "      <td>0.000000e+00</td>\n",
       "      <td>0.000000</td>\n",
       "      <td>0.000000</td>\n",
       "      <td>0.000000e+00</td>\n",
       "      <td>0.000000e+00</td>\n",
       "      <td>0.000000</td>\n",
       "      <td>0.000000</td>\n",
       "      <td>0.000000e+00</td>\n",
       "      <td>5.000000e+02</td>\n",
       "      <td>2.000000e+04</td>\n",
       "      <td>730700.000000</td>\n",
       "    </tr>\n",
       "    <tr>\n",
       "      <th>max</th>\n",
       "      <td>5699.000000</td>\n",
       "      <td>882191.200000</td>\n",
       "      <td>42123.420000</td>\n",
       "      <td>363413.000000</td>\n",
       "      <td>999683.920000</td>\n",
       "      <td>1.944425e+06</td>\n",
       "      <td>555550.000000</td>\n",
       "      <td>156532.000000</td>\n",
       "      <td>1.944425e+06</td>\n",
       "      <td>5.772017e+06</td>\n",
       "      <td>102250.000000</td>\n",
       "      <td>263020.000000</td>\n",
       "      <td>5.772092e+06</td>\n",
       "      <td>5.772092e+06</td>\n",
       "      <td>1.000000e+10</td>\n",
       "      <td>980100.000000</td>\n",
       "    </tr>\n",
       "  </tbody>\n",
       "</table>\n",
       "</div>"
      ],
      "text/plain": [
       "       PROCESSING_TIME  BUILDING_FEE_PAID  ZONING_FEE_PAID  OTHER_FEE_PAID  \\\n",
       "count    730511.000000      730511.000000    730511.000000   730511.000000   \n",
       "mean         22.627990         675.572852        53.037871       79.834060   \n",
       "std         105.646171        5775.639286       228.538985     1915.561999   \n",
       "min       -2876.000000           0.000000         0.000000        0.000000   \n",
       "25%           0.000000          58.000000         0.000000        0.000000   \n",
       "50%           0.000000         150.000000         0.000000        0.000000   \n",
       "75%           8.000000         400.000000        75.000000        0.000000   \n",
       "max        5699.000000      882191.200000     42123.420000   363413.000000   \n",
       "\n",
       "       SUBTOTAL_PAID  BUILDING_FEE_UNPAID  ZONING_FEE_UNPAID  \\\n",
       "count  730511.000000         7.305110e+05      730511.000000   \n",
       "mean      808.444783         1.171336e+01           4.096355   \n",
       "std      6944.309270         2.510429e+03        1456.754165   \n",
       "min         0.000000        -1.440000e+04        -225.000000   \n",
       "25%        75.000000         0.000000e+00           0.000000   \n",
       "50%       200.000000         0.000000e+00           0.000000   \n",
       "75%       450.000000         0.000000e+00           0.000000   \n",
       "max    999683.920000         1.944425e+06      555550.000000   \n",
       "\n",
       "       OTHER_FEE_UNPAID  SUBTOTAL_UNPAID  BUILDING_FEE_WAIVED  \\\n",
       "count     730511.000000     7.305110e+05         7.305110e+05   \n",
       "mean           1.259488     1.706921e+01         1.128250e+02   \n",
       "std          218.959719     2.928526e+03         8.533371e+03   \n",
       "min            0.000000    -1.440000e+04         0.000000e+00   \n",
       "25%            0.000000     0.000000e+00         0.000000e+00   \n",
       "50%            0.000000     0.000000e+00         0.000000e+00   \n",
       "75%            0.000000     0.000000e+00         0.000000e+00   \n",
       "max       156532.000000     1.944425e+06         5.772017e+06   \n",
       "\n",
       "       ZONING_FEE_WAIVED  OTHER_FEE_WAIVED  SUBTOTAL_WAIVED     TOTAL_FEE  \\\n",
       "count      730511.000000     730511.000000     7.305110e+05  7.305110e+05   \n",
       "mean            1.817716          7.721152     1.223638e+02  9.478778e+02   \n",
       "std           135.210814       1021.261718     8.644256e+03  1.157143e+04   \n",
       "min             0.000000          0.000000     0.000000e+00 -1.152747e+04   \n",
       "25%             0.000000          0.000000     0.000000e+00  7.500000e+01   \n",
       "50%             0.000000          0.000000     0.000000e+00  2.250000e+02   \n",
       "75%             0.000000          0.000000     0.000000e+00  5.000000e+02   \n",
       "max        102250.000000     263020.000000     5.772092e+06  5.772092e+06   \n",
       "\n",
       "       REPORTED_COST   CENSUS_TRACT  \n",
       "count   7.305110e+05  730511.000000  \n",
       "mean    2.178716e+05  422994.237635  \n",
       "std     1.836277e+07  302606.645490  \n",
       "min    -1.000000e+03   10100.000000  \n",
       "25%     5.000000e+02  140400.000000  \n",
       "50%     4.480000e+03  330100.000000  \n",
       "75%     2.000000e+04  730700.000000  \n",
       "max     1.000000e+10  980100.000000  "
      ]
     },
     "execution_count": 39,
     "metadata": {},
     "output_type": "execute_result"
    }
   ],
   "source": [
    "df_num.describe()"
   ]
  },
  {
   "attachments": {},
   "cell_type": "markdown",
   "metadata": {},
   "source": [
    "* Plotting all 700,000 rows takes too long\n",
    "    * Solution A: Take a sample\n",
    "    * Solution B: Group by Census Tract (and Year?)"
   ]
  },
  {
   "attachments": {},
   "cell_type": "markdown",
   "metadata": {},
   "source": [
    "* Taking the median reduces data granularity??\n",
    "* Still a lot of outliers\n",
    "* Let's compare to taking the mean"
   ]
  },
  {
   "cell_type": "code",
   "execution_count": 40,
   "metadata": {},
   "outputs": [
    {
     "data": {
      "image/png": "[encoded data removed]",
      "text/plain": [
       "<Figure size 2500x2000 with 16 Axes>"
      ]
     },
     "metadata": {},
     "output_type": "display_data"
    }
   ],
   "source": [
    "#MEAN\n",
    "df_num_exploration_mean=df_num.groupby('CENSUS_TRACT').mean().applymap(lambda x: round(x,2))\n",
    "\n",
    "plt.subplots(4, 4, figsize = (25, 20))\n",
    "i = 1\n",
    "for column in df_num_exploration_mean.columns:\n",
    "    plt.subplot(4, 4, i)\n",
    "    sns.histplot(data = df_num_exploration_mean[column].reset_index(drop=True))\n",
    "    i += 1"
   ]
  },
  {
   "attachments": {},
   "cell_type": "markdown",
   "metadata": {},
   "source": [
    "* Even more outliers\n",
    "    * Remove where possible\n",
    "* Are there are any columns that carry no statistically significant information?"
   ]
  },
  {
   "cell_type": "code",
   "execution_count": 41,
   "metadata": {},
   "outputs": [
    {
     "data": {
      "text/plain": [
       "Index(['PROCESSING_TIME', 'BUILDING_FEE_PAID', 'ZONING_FEE_PAID',\n",
       "       'OTHER_FEE_PAID', 'SUBTOTAL_PAID', 'BUILDING_FEE_UNPAID',\n",
       "       'ZONING_FEE_UNPAID', 'OTHER_FEE_UNPAID', 'SUBTOTAL_UNPAID',\n",
       "       'BUILDING_FEE_WAIVED', 'ZONING_FEE_WAIVED', 'OTHER_FEE_WAIVED',\n",
       "       'SUBTOTAL_WAIVED', 'TOTAL_FEE', 'REPORTED_COST', 'CENSUS_TRACT'],\n",
       "      dtype='object')"
      ]
     },
     "execution_count": 41,
     "metadata": {},
     "output_type": "execute_result"
    }
   ],
   "source": [
    "df_num.columns"
   ]
  },
  {
   "cell_type": "code",
   "execution_count": 42,
   "metadata": {},
   "outputs": [],
   "source": [
    "thresholds = {}\n",
    "\n",
    "for col in df_num.drop(columns='CENSUS_TRACT').columns:\n",
    "   IQR = np.percentile(df_num[col], 75) - np.percentile(df_num[col], 25)\n",
    "   threshold = 1.5 * IQR + np.percentile(df_num[col], 95)\n",
    "   thresholds[col]=threshold"
   ]
  },
  {
   "cell_type": "code",
   "execution_count": 43,
   "metadata": {},
   "outputs": [
    {
     "data": {
      "text/plain": [
       "{'PROCESSING_TIME': 115.0,\n",
       " 'BUILDING_FEE_PAID': 2506.525,\n",
       " 'ZONING_FEE_PAID': 312.5,\n",
       " 'OTHER_FEE_PAID': 75.0,\n",
       " 'SUBTOTAL_PAID': 2949.56,\n",
       " 'BUILDING_FEE_UNPAID': 0.0,\n",
       " 'ZONING_FEE_UNPAID': 0.0,\n",
       " 'OTHER_FEE_UNPAID': 0.0,\n",
       " 'SUBTOTAL_UNPAID': 0.0,\n",
       " 'BUILDING_FEE_WAIVED': 0.0,\n",
       " 'ZONING_FEE_WAIVED': 0.0,\n",
       " 'OTHER_FEE_WAIVED': 0.0,\n",
       " 'SUBTOTAL_WAIVED': 0.0,\n",
       " 'TOTAL_FEE': 3212.5,\n",
       " 'REPORTED_COST': 349250.0}"
      ]
     },
     "execution_count": 43,
     "metadata": {},
     "output_type": "execute_result"
    }
   ],
   "source": [
    "thresholds"
   ]
  },
  {
   "attachments": {},
   "cell_type": "markdown",
   "metadata": {},
   "source": [
    "* Drop Columns where threshold is 0\n",
    "* The columns in the main dataframe will be dropped in the end of the section\n",
    "    * Create a list `to_drop` to keep track of the columns that will have to be dropped"
   ]
  },
  {
   "cell_type": "code",
   "execution_count": 44,
   "metadata": {},
   "outputs": [],
   "source": [
    "df_test=pd.DataFrame()\n",
    "df_test['CENSUS_TRACT']=df_num['CENSUS_TRACT'].copy()\n",
    "col_drop=[]\n",
    "col_valid=[]\n",
    "for col, threshold in thresholds.items():\n",
    "    if threshold >0:\n",
    "        df_test[col]=[i if i<threshold else threshold for i in df_num[col]]\n",
    "        col_valid.append(col)\n",
    "    else:\n",
    "        col_drop.append(col)"
   ]
  },
  {
   "cell_type": "code",
   "execution_count": 45,
   "metadata": {},
   "outputs": [
    {
     "data": {
      "text/plain": [
       "'#select keys where value of the dictionary is 0\\n#save in a list which can be used in the end of this subsection to drop the unnecessary columns\\nto_drop=[k for k,v in thresholds.items() if v==0.0]\\nto_drop\\n\\n#df_num=df_num.drop(columns=to_drop)'"
      ]
     },
     "execution_count": 45,
     "metadata": {},
     "output_type": "execute_result"
    }
   ],
   "source": [
    "'''#select keys where value of the dictionary is 0\n",
    "#save in a list which can be used in the end of this subsection to drop the unnecessary columns\n",
    "to_drop=[k for k,v in thresholds.items() if v==0.0]\n",
    "to_drop\n",
    "\n",
    "#df_num=df_num.drop(columns=to_drop)'''"
   ]
  },
  {
   "cell_type": "code",
   "execution_count": 46,
   "metadata": {},
   "outputs": [
    {
     "data": {
      "image/png": "[encoded data removed]",
      "text/plain": [
       "<Figure size 2500x2000 with 9 Axes>"
      ]
     },
     "metadata": {},
     "output_type": "display_data"
    }
   ],
   "source": [
    "#MEAN\n",
    "df_num_test_mean=df_test.groupby('CENSUS_TRACT').mean().applymap(lambda x: round(x,2))\n",
    "\n",
    "plt.subplots(3, 3, figsize = (25, 20))\n",
    "i = 1\n",
    "for column in df_num_test_mean.columns:\n",
    "    plt.subplot(3, 3, i)\n",
    "    sns.histplot(data = df_num_test_mean[column].reset_index(drop=True))\n",
    "    i += 1"
   ]
  },
  {
   "cell_type": "code",
   "execution_count": 47,
   "metadata": {},
   "outputs": [
    {
     "data": {
      "text/plain": [
       "['PROCESSING_TIME',\n",
       " 'BUILDING_FEE_PAID',\n",
       " 'ZONING_FEE_PAID',\n",
       " 'OTHER_FEE_PAID',\n",
       " 'SUBTOTAL_PAID',\n",
       " 'TOTAL_FEE',\n",
       " 'REPORTED_COST']"
      ]
     },
     "execution_count": 47,
     "metadata": {},
     "output_type": "execute_result"
    }
   ],
   "source": [
    "col_valid"
   ]
  },
  {
   "cell_type": "code",
   "execution_count": 48,
   "metadata": {},
   "outputs": [],
   "source": [
    "def num_col_cleaning(df,thresholds_di):\n",
    "    df_new=df.copy()\n",
    "    '''This function cleans up numeric columns based on the previously established threshold'''\n",
    "    for col, threshold in thresholds_di.items():\n",
    "        if threshold >0:\n",
    "            df_new[col]=[i if i<threshold else threshold for i in df[col]]\n",
    "        else:\n",
    "            df_new=df_new.drop(columns=col)\n",
    "    return df_new"
   ]
  },
  {
   "cell_type": "code",
   "execution_count": 168,
   "metadata": {},
   "outputs": [],
   "source": [
    "permits_scaled=num_col_cleaning(permits_clean,thresholds)"
   ]
  },
  {
   "attachments": {},
   "cell_type": "markdown",
   "metadata": {},
   "source": [
    "---\n",
    "*<center><h3>Categorical Columns<center><h3>*"
   ]
  },
  {
   "cell_type": "code",
   "execution_count": 169,
   "metadata": {},
   "outputs": [
    {
     "data": {
      "text/html": [
       "<div>\n",
       "<style scoped>\n",
       "    .dataframe tbody tr th:only-of-type {\n",
       "        vertical-align: middle;\n",
       "    }\n",
       "\n",
       "    .dataframe tbody tr th {\n",
       "        vertical-align: top;\n",
       "    }\n",
       "\n",
       "    .dataframe thead th {\n",
       "        text-align: right;\n",
       "    }\n",
       "</style>\n",
       "<table border=\"1\" class=\"dataframe\">\n",
       "  <thead>\n",
       "    <tr style=\"text-align: right;\">\n",
       "      <th></th>\n",
       "      <th>PERMIT_TYPE</th>\n",
       "      <th>REVIEW_TYPE</th>\n",
       "      <th>ISSUE_DATE</th>\n",
       "      <th>WORK_DESCRIPTION</th>\n",
       "      <th>CONTACT_1_TYPE</th>\n",
       "      <th>CONTACT_1_CITY</th>\n",
       "      <th>CONTACT_1_STATE</th>\n",
       "    </tr>\n",
       "  </thead>\n",
       "  <tbody>\n",
       "    <tr>\n",
       "      <th>0</th>\n",
       "      <td>RENOVATION/ALTERATION</td>\n",
       "      <td>STANDARD PLAN REVIEW</td>\n",
       "      <td>2006-01-03</td>\n",
       "      <td>INTERIOR REMODELING OF EXISTING 3 D.U. PER PLA...</td>\n",
       "      <td>OWNER AS GENERAL CONTRACTOR</td>\n",
       "      <td>CHICAGO</td>\n",
       "      <td>IL</td>\n",
       "    </tr>\n",
       "    <tr>\n",
       "      <th>1</th>\n",
       "      <td>NEW CONSTRUCTION</td>\n",
       "      <td>STANDARD PLAN REVIEW</td>\n",
       "      <td>2006-03-29</td>\n",
       "      <td>new construction, erect 3 story slab on grade ...</td>\n",
       "      <td>ARCHITECT</td>\n",
       "      <td>CHICAGO X</td>\n",
       "      <td>IL</td>\n",
       "    </tr>\n",
       "    <tr>\n",
       "      <th>2</th>\n",
       "      <td>SIGNS</td>\n",
       "      <td>SIGN PERMIT</td>\n",
       "      <td>2006-01-12</td>\n",
       "      <td>north elevation 386431</td>\n",
       "      <td>CONTRACTOR-ELECTRICAL</td>\n",
       "      <td>ROLLING MEADOWS</td>\n",
       "      <td>IL</td>\n",
       "    </tr>\n",
       "    <tr>\n",
       "      <th>3</th>\n",
       "      <td>RENOVATION/ALTERATION</td>\n",
       "      <td>SELF CERT</td>\n",
       "      <td>2006-01-26</td>\n",
       "      <td>Interior alteration of existing partial 34th f...</td>\n",
       "      <td>SELF CERT ARCHITECT</td>\n",
       "      <td>CHICAGO X</td>\n",
       "      <td>IL</td>\n",
       "    </tr>\n",
       "    <tr>\n",
       "      <th>4</th>\n",
       "      <td>RENOVATION/ALTERATION</td>\n",
       "      <td>SELF CERT</td>\n",
       "      <td>2006-01-21</td>\n",
       "      <td>Interior alterations to the retail space on th...</td>\n",
       "      <td>SELF CERT ARCHITECT</td>\n",
       "      <td>DEERFIELD X</td>\n",
       "      <td>IL</td>\n",
       "    </tr>\n",
       "    <tr>\n",
       "      <th>...</th>\n",
       "      <td>...</td>\n",
       "      <td>...</td>\n",
       "      <td>...</td>\n",
       "      <td>...</td>\n",
       "      <td>...</td>\n",
       "      <td>...</td>\n",
       "      <td>...</td>\n",
       "    </tr>\n",
       "    <tr>\n",
       "      <th>730506</th>\n",
       "      <td>EASY PERMIT PROCESS</td>\n",
       "      <td>EASY PERMIT</td>\n",
       "      <td>2023-02-24</td>\n",
       "      <td>SOLAR PANEL PERMIT.  ERECT A PHOTOVOLTAIC ARRA...</td>\n",
       "      <td>STRUCTURAL ENGINEER</td>\n",
       "      <td>HOUSTON</td>\n",
       "      <td>TX</td>\n",
       "    </tr>\n",
       "    <tr>\n",
       "      <th>730507</th>\n",
       "      <td>EASY PERMIT PROCESS</td>\n",
       "      <td>EASY PERMIT WEB</td>\n",
       "      <td>2023-02-24</td>\n",
       "      <td>FENCES: 165FT 0IN X 6FT 0IN: QTY 1 (not to be ...</td>\n",
       "      <td>OWNER AS GENERAL CONTRACTOR</td>\n",
       "      <td>CHICAGO</td>\n",
       "      <td>IL</td>\n",
       "    </tr>\n",
       "    <tr>\n",
       "      <th>730508</th>\n",
       "      <td>ELECTRIC WIRING</td>\n",
       "      <td>EASY PERMIT WEB</td>\n",
       "      <td>2023-02-24</td>\n",
       "      <td>TECH WILL PULL 100 CAT-6 CABLES, TERMINATE, AN...</td>\n",
       "      <td>CONTRACTOR-ELECTRICAL</td>\n",
       "      <td>LENEXA</td>\n",
       "      <td>KS</td>\n",
       "    </tr>\n",
       "    <tr>\n",
       "      <th>730509</th>\n",
       "      <td>EASY PERMIT PROCESS</td>\n",
       "      <td>EASY PERMIT</td>\n",
       "      <td>2023-02-24</td>\n",
       "      <td>REVISION TO PERMIT NO 100988130 TO CHANGE ELEC...</td>\n",
       "      <td>CONTRACTOR-ELECTRICAL</td>\n",
       "      <td>CHICAGO</td>\n",
       "      <td>IL</td>\n",
       "    </tr>\n",
       "    <tr>\n",
       "      <th>730510</th>\n",
       "      <td>ELECTRIC WIRING</td>\n",
       "      <td>EASY PERMIT WEB</td>\n",
       "      <td>2023-02-24</td>\n",
       "      <td>REPAIR SERVICE</td>\n",
       "      <td>CONTRACTOR-ELECTRICAL</td>\n",
       "      <td>SOMERSET</td>\n",
       "      <td>NJ</td>\n",
       "    </tr>\n",
       "  </tbody>\n",
       "</table>\n",
       "<p>730511 rows × 7 columns</p>\n",
       "</div>"
      ],
      "text/plain": [
       "                  PERMIT_TYPE           REVIEW_TYPE ISSUE_DATE  \\\n",
       "0       RENOVATION/ALTERATION  STANDARD PLAN REVIEW 2006-01-03   \n",
       "1            NEW CONSTRUCTION  STANDARD PLAN REVIEW 2006-03-29   \n",
       "2                       SIGNS           SIGN PERMIT 2006-01-12   \n",
       "3       RENOVATION/ALTERATION             SELF CERT 2006-01-26   \n",
       "4       RENOVATION/ALTERATION             SELF CERT 2006-01-21   \n",
       "...                       ...                   ...        ...   \n",
       "730506    EASY PERMIT PROCESS           EASY PERMIT 2023-02-24   \n",
       "730507    EASY PERMIT PROCESS       EASY PERMIT WEB 2023-02-24   \n",
       "730508        ELECTRIC WIRING       EASY PERMIT WEB 2023-02-24   \n",
       "730509    EASY PERMIT PROCESS           EASY PERMIT 2023-02-24   \n",
       "730510        ELECTRIC WIRING       EASY PERMIT WEB 2023-02-24   \n",
       "\n",
       "                                         WORK_DESCRIPTION  \\\n",
       "0       INTERIOR REMODELING OF EXISTING 3 D.U. PER PLA...   \n",
       "1       new construction, erect 3 story slab on grade ...   \n",
       "2                                  north elevation 386431   \n",
       "3       Interior alteration of existing partial 34th f...   \n",
       "4       Interior alterations to the retail space on th...   \n",
       "...                                                   ...   \n",
       "730506  SOLAR PANEL PERMIT.  ERECT A PHOTOVOLTAIC ARRA...   \n",
       "730507  FENCES: 165FT 0IN X 6FT 0IN: QTY 1 (not to be ...   \n",
       "730508  TECH WILL PULL 100 CAT-6 CABLES, TERMINATE, AN...   \n",
       "730509  REVISION TO PERMIT NO 100988130 TO CHANGE ELEC...   \n",
       "730510                                     REPAIR SERVICE   \n",
       "\n",
       "                     CONTACT_1_TYPE   CONTACT_1_CITY CONTACT_1_STATE  \n",
       "0       OWNER AS GENERAL CONTRACTOR          CHICAGO              IL  \n",
       "1                         ARCHITECT        CHICAGO X              IL  \n",
       "2             CONTRACTOR-ELECTRICAL  ROLLING MEADOWS              IL  \n",
       "3               SELF CERT ARCHITECT        CHICAGO X              IL  \n",
       "4               SELF CERT ARCHITECT      DEERFIELD X              IL  \n",
       "...                             ...              ...             ...  \n",
       "730506          STRUCTURAL ENGINEER          HOUSTON              TX  \n",
       "730507  OWNER AS GENERAL CONTRACTOR          CHICAGO              IL  \n",
       "730508        CONTRACTOR-ELECTRICAL           LENEXA              KS  \n",
       "730509        CONTRACTOR-ELECTRICAL          CHICAGO              IL  \n",
       "730510        CONTRACTOR-ELECTRICAL         SOMERSET              NJ  \n",
       "\n",
       "[730511 rows x 7 columns]"
      ]
     },
     "execution_count": 169,
     "metadata": {},
     "output_type": "execute_result"
    }
   ],
   "source": [
    "df_obj"
   ]
  },
  {
   "attachments": {},
   "cell_type": "markdown",
   "metadata": {},
   "source": [
    "* Preview the number of unique categories within categorical columns over the years"
   ]
  },
  {
   "cell_type": "code",
   "execution_count": 170,
   "metadata": {},
   "outputs": [
    {
     "data": {
      "text/html": [
       "<div>\n",
       "<style scoped>\n",
       "    .dataframe tbody tr th:only-of-type {\n",
       "        vertical-align: middle;\n",
       "    }\n",
       "\n",
       "    .dataframe tbody tr th {\n",
       "        vertical-align: top;\n",
       "    }\n",
       "\n",
       "    .dataframe thead th {\n",
       "        text-align: right;\n",
       "    }\n",
       "</style>\n",
       "<table border=\"1\" class=\"dataframe\">\n",
       "  <thead>\n",
       "    <tr style=\"text-align: right;\">\n",
       "      <th></th>\n",
       "      <th>PERMIT_TYPE</th>\n",
       "      <th>REVIEW_TYPE</th>\n",
       "      <th>WORK_DESCRIPTION</th>\n",
       "      <th>CONTACT_1_TYPE</th>\n",
       "      <th>CONTACT_1_CITY</th>\n",
       "      <th>CONTACT_1_STATE</th>\n",
       "    </tr>\n",
       "    <tr>\n",
       "      <th>ISSUE_DATE</th>\n",
       "      <th></th>\n",
       "      <th></th>\n",
       "      <th></th>\n",
       "      <th></th>\n",
       "      <th></th>\n",
       "      <th></th>\n",
       "    </tr>\n",
       "  </thead>\n",
       "  <tbody>\n",
       "    <tr>\n",
       "      <th>2006</th>\n",
       "      <td>11</td>\n",
       "      <td>10</td>\n",
       "      <td>37483</td>\n",
       "      <td>26</td>\n",
       "      <td>680</td>\n",
       "      <td>79</td>\n",
       "    </tr>\n",
       "    <tr>\n",
       "      <th>2007</th>\n",
       "      <td>11</td>\n",
       "      <td>10</td>\n",
       "      <td>36499</td>\n",
       "      <td>26</td>\n",
       "      <td>635</td>\n",
       "      <td>72</td>\n",
       "    </tr>\n",
       "    <tr>\n",
       "      <th>2008</th>\n",
       "      <td>11</td>\n",
       "      <td>10</td>\n",
       "      <td>31280</td>\n",
       "      <td>26</td>\n",
       "      <td>612</td>\n",
       "      <td>72</td>\n",
       "    </tr>\n",
       "    <tr>\n",
       "      <th>2009</th>\n",
       "      <td>10</td>\n",
       "      <td>10</td>\n",
       "      <td>30485</td>\n",
       "      <td>26</td>\n",
       "      <td>627</td>\n",
       "      <td>66</td>\n",
       "    </tr>\n",
       "    <tr>\n",
       "      <th>2010</th>\n",
       "      <td>9</td>\n",
       "      <td>10</td>\n",
       "      <td>30315</td>\n",
       "      <td>23</td>\n",
       "      <td>617</td>\n",
       "      <td>69</td>\n",
       "    </tr>\n",
       "    <tr>\n",
       "      <th>2011</th>\n",
       "      <td>9</td>\n",
       "      <td>10</td>\n",
       "      <td>30362</td>\n",
       "      <td>22</td>\n",
       "      <td>643</td>\n",
       "      <td>47</td>\n",
       "    </tr>\n",
       "    <tr>\n",
       "      <th>2012</th>\n",
       "      <td>9</td>\n",
       "      <td>10</td>\n",
       "      <td>31787</td>\n",
       "      <td>21</td>\n",
       "      <td>652</td>\n",
       "      <td>58</td>\n",
       "    </tr>\n",
       "    <tr>\n",
       "      <th>2013</th>\n",
       "      <td>9</td>\n",
       "      <td>10</td>\n",
       "      <td>33989</td>\n",
       "      <td>22</td>\n",
       "      <td>679</td>\n",
       "      <td>66</td>\n",
       "    </tr>\n",
       "    <tr>\n",
       "      <th>2014</th>\n",
       "      <td>9</td>\n",
       "      <td>10</td>\n",
       "      <td>37332</td>\n",
       "      <td>22</td>\n",
       "      <td>702</td>\n",
       "      <td>62</td>\n",
       "    </tr>\n",
       "    <tr>\n",
       "      <th>2015</th>\n",
       "      <td>9</td>\n",
       "      <td>11</td>\n",
       "      <td>37238</td>\n",
       "      <td>21</td>\n",
       "      <td>695</td>\n",
       "      <td>56</td>\n",
       "    </tr>\n",
       "    <tr>\n",
       "      <th>2016</th>\n",
       "      <td>9</td>\n",
       "      <td>11</td>\n",
       "      <td>38688</td>\n",
       "      <td>22</td>\n",
       "      <td>670</td>\n",
       "      <td>69</td>\n",
       "    </tr>\n",
       "    <tr>\n",
       "      <th>2017</th>\n",
       "      <td>9</td>\n",
       "      <td>11</td>\n",
       "      <td>39428</td>\n",
       "      <td>21</td>\n",
       "      <td>724</td>\n",
       "      <td>69</td>\n",
       "    </tr>\n",
       "    <tr>\n",
       "      <th>2018</th>\n",
       "      <td>9</td>\n",
       "      <td>11</td>\n",
       "      <td>38972</td>\n",
       "      <td>22</td>\n",
       "      <td>717</td>\n",
       "      <td>68</td>\n",
       "    </tr>\n",
       "    <tr>\n",
       "      <th>2019</th>\n",
       "      <td>9</td>\n",
       "      <td>11</td>\n",
       "      <td>39928</td>\n",
       "      <td>22</td>\n",
       "      <td>683</td>\n",
       "      <td>58</td>\n",
       "    </tr>\n",
       "    <tr>\n",
       "      <th>2020</th>\n",
       "      <td>9</td>\n",
       "      <td>11</td>\n",
       "      <td>30388</td>\n",
       "      <td>22</td>\n",
       "      <td>646</td>\n",
       "      <td>51</td>\n",
       "    </tr>\n",
       "    <tr>\n",
       "      <th>2021</th>\n",
       "      <td>9</td>\n",
       "      <td>11</td>\n",
       "      <td>30367</td>\n",
       "      <td>22</td>\n",
       "      <td>659</td>\n",
       "      <td>54</td>\n",
       "    </tr>\n",
       "    <tr>\n",
       "      <th>2022</th>\n",
       "      <td>9</td>\n",
       "      <td>11</td>\n",
       "      <td>29737</td>\n",
       "      <td>21</td>\n",
       "      <td>644</td>\n",
       "      <td>52</td>\n",
       "    </tr>\n",
       "    <tr>\n",
       "      <th>2023</th>\n",
       "      <td>9</td>\n",
       "      <td>11</td>\n",
       "      <td>3965</td>\n",
       "      <td>19</td>\n",
       "      <td>299</td>\n",
       "      <td>35</td>\n",
       "    </tr>\n",
       "  </tbody>\n",
       "</table>\n",
       "</div>"
      ],
      "text/plain": [
       "            PERMIT_TYPE  REVIEW_TYPE  WORK_DESCRIPTION  CONTACT_1_TYPE  \\\n",
       "ISSUE_DATE                                                               \n",
       "2006                 11           10             37483              26   \n",
       "2007                 11           10             36499              26   \n",
       "2008                 11           10             31280              26   \n",
       "2009                 10           10             30485              26   \n",
       "2010                  9           10             30315              23   \n",
       "2011                  9           10             30362              22   \n",
       "2012                  9           10             31787              21   \n",
       "2013                  9           10             33989              22   \n",
       "2014                  9           10             37332              22   \n",
       "2015                  9           11             37238              21   \n",
       "2016                  9           11             38688              22   \n",
       "2017                  9           11             39428              21   \n",
       "2018                  9           11             38972              22   \n",
       "2019                  9           11             39928              22   \n",
       "2020                  9           11             30388              22   \n",
       "2021                  9           11             30367              22   \n",
       "2022                  9           11             29737              21   \n",
       "2023                  9           11              3965              19   \n",
       "\n",
       "            CONTACT_1_CITY  CONTACT_1_STATE  \n",
       "ISSUE_DATE                                   \n",
       "2006                   680               79  \n",
       "2007                   635               72  \n",
       "2008                   612               72  \n",
       "2009                   627               66  \n",
       "2010                   617               69  \n",
       "2011                   643               47  \n",
       "2012                   652               58  \n",
       "2013                   679               66  \n",
       "2014                   702               62  \n",
       "2015                   695               56  \n",
       "2016                   670               69  \n",
       "2017                   724               69  \n",
       "2018                   717               68  \n",
       "2019                   683               58  \n",
       "2020                   646               51  \n",
       "2021                   659               54  \n",
       "2022                   644               52  \n",
       "2023                   299               35  "
      ]
     },
     "execution_count": 170,
     "metadata": {},
     "output_type": "execute_result"
    }
   ],
   "source": [
    "#Ensure ISSUE_DATE format is datetime\n",
    "df_obj['ISSUE_DATE']=df_obj['ISSUE_DATE'].astype('datetime64')\n",
    "\n",
    "unique_yearly=df_obj.groupby(df_obj['ISSUE_DATE'].dt.year).nunique().drop(columns='ISSUE_DATE')\n",
    "unique_yearly"
   ]
  },
  {
   "attachments": {},
   "cell_type": "markdown",
   "metadata": {},
   "source": [
    "* Number of unique permit types decreased from 11 in 2006 to 9 in 2023\n",
    "  * Meaning that the use of some permit types was discontinued"
   ]
  },
  {
   "attachments": {},
   "cell_type": "markdown",
   "metadata": {},
   "source": [
    "***\n",
    "**Permit Type**"
   ]
  },
  {
   "attachments": {},
   "cell_type": "markdown",
   "metadata": {},
   "source": [
    "* Let's preview the distribution of different permit types\n",
    "* Start by previewing the number of planning applications for each permit type"
   ]
  },
  {
   "cell_type": "code",
   "execution_count": 171,
   "metadata": {},
   "outputs": [
    {
     "data": {
      "image/png": "[encoded data removed]",
      "text/plain": [
       "<Figure size 1500x1000 with 1 Axes>"
      ]
     },
     "metadata": {},
     "output_type": "display_data"
    }
   ],
   "source": [
    "plt.figure(figsize=(15,10))\n",
    "ax=sns.countplot(data=df_obj,y='PERMIT_TYPE',color='seagreen')\n",
    "ax.set_title('Number of Permits by Type', fontsize=16, pad=20)\n",
    "plt.xticks(rotation=45, ha='right', fontsize=12)\n",
    "plt.ylabel('Permit Type', fontsize=12)\n",
    "plt.xlabel('Application Count', fontsize=12)\n",
    "plt.show()"
   ]
  },
  {
   "attachments": {},
   "cell_type": "markdown",
   "metadata": {},
   "source": [
    "* Preview the absolute counts for each permit type"
   ]
  },
  {
   "cell_type": "code",
   "execution_count": 172,
   "metadata": {},
   "outputs": [
    {
     "data": {
      "text/plain": [
       "ELECTRIC WIRING          256012\n",
       "EASY PERMIT PROCESS      199935\n",
       "RENOVATION/ALTERATION    146854\n",
       "SIGNS                     46707\n",
       "NEW CONSTRUCTION          26974\n",
       "WRECKING/DEMOLITION       19730\n",
       "ELEVATOR EQUIPMENT        18456\n",
       "SCAFFOLDING                8649\n",
       "REINSTATE REVOKED PMT      4040\n",
       "PORCH CONSTRUCTION         3096\n",
       "FOR EXTENSION OF PMT         58\n",
       "Name: PERMIT_TYPE, dtype: int64"
      ]
     },
     "execution_count": 172,
     "metadata": {},
     "output_type": "execute_result"
    }
   ],
   "source": [
    "df_obj['PERMIT_TYPE'].value_counts()"
   ]
  },
  {
   "attachments": {},
   "cell_type": "markdown",
   "metadata": {},
   "source": [
    "*'FOR EXTENSION OF PMT' was only in 58 planning permits. Consider whether it is a special type of application which would be statistiaclly relevant or whether its use was discontinued instead*"
   ]
  },
  {
   "attachments": {},
   "cell_type": "markdown",
   "metadata": {},
   "source": [
    "* Check the differnce between the distinct permit types in 2006 and 2022"
   ]
  },
  {
   "cell_type": "code",
   "execution_count": 173,
   "metadata": {},
   "outputs": [
    {
     "data": {
      "text/plain": [
       "ISSUE_DATE\n",
       "2006    11\n",
       "2007    11\n",
       "2008    11\n",
       "2009    10\n",
       "2010     9\n",
       "2011     9\n",
       "2012     9\n",
       "2013     9\n",
       "2014     9\n",
       "2015     9\n",
       "2016     9\n",
       "2017     9\n",
       "2018     9\n",
       "2019     9\n",
       "2020     9\n",
       "2021     9\n",
       "2022     9\n",
       "2023     9\n",
       "Name: PERMIT_TYPE, dtype: int64"
      ]
     },
     "execution_count": 173,
     "metadata": {},
     "output_type": "execute_result"
    }
   ],
   "source": [
    "unique_yearly['PERMIT_TYPE']"
   ]
  },
  {
   "cell_type": "code",
   "execution_count": 174,
   "metadata": {},
   "outputs": [
    {
     "data": {
      "text/plain": [
       "{'FOR EXTENSION OF PMT', 'PORCH CONSTRUCTION'}"
      ]
     },
     "execution_count": 174,
     "metadata": {},
     "output_type": "execute_result"
    }
   ],
   "source": [
    "distict_permit_types_2006=set(df_obj[df_obj['ISSUE_DATE'].dt.year==2006]['PERMIT_TYPE'].unique())\n",
    "distict_permit_types_2022=set(df_obj[df_obj['ISSUE_DATE'].dt.year==2022]['PERMIT_TYPE'].unique())\n",
    "distict_permit_types_2006.symmetric_difference(distict_permit_types_2022)"
   ]
  },
  {
   "attachments": {},
   "cell_type": "markdown",
   "metadata": {},
   "source": [
    "* 'FOR EXTENSION OF PMT', 'PORCH CONSTRUCTION' were permit types in 2006 but were discontinued by 2022. Hence, using them for future predictions will not be useful\n",
    "* Rename 'FOR EXTENSION OF PMT', 'PORCH CONSTRUCTION' to 'DROP'\n",
    "* Remember to drop `'PERMIT_TYPE_DROP'` before modelling"
   ]
  },
  {
   "cell_type": "code",
   "execution_count": 175,
   "metadata": {},
   "outputs": [],
   "source": [
    "permits_scaled['PERMIT_TYPE']=permits_scaled['PERMIT_TYPE'].replace({'FOR EXTENSION OF PMT':'DROP','PORCH CONSTRUCTION':'DROP'})"
   ]
  },
  {
   "cell_type": "code",
   "execution_count": 176,
   "metadata": {},
   "outputs": [
    {
     "data": {
      "text/plain": [
       "PERMIT_TYPE\n",
       "DROP                      14157.760675\n",
       "EASY PERMIT PROCESS       19543.316834\n",
       "ELECTRIC WIRING            8020.178047\n",
       "ELEVATOR EQUIPMENT        80833.635328\n",
       "NEW CONSTRUCTION         205926.590728\n",
       "REINSTATE REVOKED PMT      3968.379795\n",
       "RENOVATION/ALTERATION     99441.110747\n",
       "SCAFFOLDING                  62.744276\n",
       "SIGNS                      4271.306490\n",
       "WRECKING/DEMOLITION        7542.140506\n",
       "Name: REPORTED_COST, dtype: float64"
      ]
     },
     "execution_count": 176,
     "metadata": {},
     "output_type": "execute_result"
    }
   ],
   "source": [
    "permits_scaled.groupby('PERMIT_TYPE')['REPORTED_COST'].mean()"
   ]
  },
  {
   "attachments": {},
   "cell_type": "markdown",
   "metadata": {},
   "source": [
    "* Consider reported cost, as more investment into a neighbourhood, the more likely it is is to gentrify"
   ]
  },
  {
   "cell_type": "code",
   "execution_count": 177,
   "metadata": {},
   "outputs": [
    {
     "data": {
      "image/png": "[encoded data removed]",
      "text/plain": [
       "<Figure size 2000x1000 with 1 Axes>"
      ]
     },
     "metadata": {},
     "output_type": "display_data"
    }
   ],
   "source": [
    "fig, ax = plt.subplots(figsize=(20,10))\n",
    "\n",
    "sns.boxplot(data=permits_scaled, x='PERMIT_TYPE', y='REPORTED_COST', palette=sns.color_palette('Dark2'))\n",
    "\n",
    "plt.xticks(rotation=45);"
   ]
  },
  {
   "attachments": {},
   "cell_type": "markdown",
   "metadata": {},
   "source": [
    "* Let's attempt to categorise Permit Type by the expected length of construction (in other words, expected time lag between the urban fabric change and its impact on the census tract demographics)"
   ]
  },
  {
   "attachments": {},
   "cell_type": "markdown",
   "metadata": {},
   "source": [
    "***\n",
    "* ***What is the relationship between Permit Type and Review Type?***"
   ]
  },
  {
   "cell_type": "code",
   "execution_count": 178,
   "metadata": {},
   "outputs": [
    {
     "data": {
      "text/html": [
       "<div>\n",
       "<style scoped>\n",
       "    .dataframe tbody tr th:only-of-type {\n",
       "        vertical-align: middle;\n",
       "    }\n",
       "\n",
       "    .dataframe tbody tr th {\n",
       "        vertical-align: top;\n",
       "    }\n",
       "\n",
       "    .dataframe thead th {\n",
       "        text-align: right;\n",
       "    }\n",
       "</style>\n",
       "<table border=\"1\" class=\"dataframe\">\n",
       "  <thead>\n",
       "    <tr style=\"text-align: right;\">\n",
       "      <th></th>\n",
       "      <th>REVIEW_TYPE</th>\n",
       "      <th>PERMIT_TYPE</th>\n",
       "    </tr>\n",
       "  </thead>\n",
       "  <tbody>\n",
       "    <tr>\n",
       "      <th>0</th>\n",
       "      <td>CONVEYANCE DEVICE PERMIT</td>\n",
       "      <td>ELEVATOR EQUIPMENT</td>\n",
       "    </tr>\n",
       "    <tr>\n",
       "      <th>1</th>\n",
       "      <td>DEMOLITION PERMIT</td>\n",
       "      <td>WRECKING/DEMOLITION</td>\n",
       "    </tr>\n",
       "    <tr>\n",
       "      <th>2</th>\n",
       "      <td>DIRECT DEVELOPER SERVICES</td>\n",
       "      <td>NEW CONSTRUCTION</td>\n",
       "    </tr>\n",
       "    <tr>\n",
       "      <th>3</th>\n",
       "      <td>DIRECT DEVELOPER SERVICES</td>\n",
       "      <td>RENOVATION/ALTERATION</td>\n",
       "    </tr>\n",
       "    <tr>\n",
       "      <th>4</th>\n",
       "      <td>EASY PERMIT</td>\n",
       "      <td>DROP</td>\n",
       "    </tr>\n",
       "    <tr>\n",
       "      <th>5</th>\n",
       "      <td>EASY PERMIT</td>\n",
       "      <td>EASY PERMIT PROCESS</td>\n",
       "    </tr>\n",
       "    <tr>\n",
       "      <th>6</th>\n",
       "      <td>EASY PERMIT</td>\n",
       "      <td>NEW CONSTRUCTION</td>\n",
       "    </tr>\n",
       "    <tr>\n",
       "      <th>7</th>\n",
       "      <td>EASY PERMIT</td>\n",
       "      <td>REINSTATE REVOKED PMT</td>\n",
       "    </tr>\n",
       "    <tr>\n",
       "      <th>8</th>\n",
       "      <td>EASY PERMIT</td>\n",
       "      <td>RENOVATION/ALTERATION</td>\n",
       "    </tr>\n",
       "    <tr>\n",
       "      <th>9</th>\n",
       "      <td>EASY PERMIT</td>\n",
       "      <td>SCAFFOLDING</td>\n",
       "    </tr>\n",
       "    <tr>\n",
       "      <th>10</th>\n",
       "      <td>EASY PERMIT WEB</td>\n",
       "      <td>EASY PERMIT PROCESS</td>\n",
       "    </tr>\n",
       "    <tr>\n",
       "      <th>11</th>\n",
       "      <td>EASY PERMIT WEB</td>\n",
       "      <td>ELECTRIC WIRING</td>\n",
       "    </tr>\n",
       "    <tr>\n",
       "      <th>12</th>\n",
       "      <td>ELECTRICAL PLAN REVIEW</td>\n",
       "      <td>ELECTRIC WIRING</td>\n",
       "    </tr>\n",
       "    <tr>\n",
       "      <th>13</th>\n",
       "      <td>FIRE PROTECTION SYSTEM</td>\n",
       "      <td>ELECTRIC WIRING</td>\n",
       "    </tr>\n",
       "    <tr>\n",
       "      <th>14</th>\n",
       "      <td>SELF CERT</td>\n",
       "      <td>NEW CONSTRUCTION</td>\n",
       "    </tr>\n",
       "    <tr>\n",
       "      <th>15</th>\n",
       "      <td>SELF CERT</td>\n",
       "      <td>RENOVATION/ALTERATION</td>\n",
       "    </tr>\n",
       "    <tr>\n",
       "      <th>16</th>\n",
       "      <td>SIGN PERMIT</td>\n",
       "      <td>SIGNS</td>\n",
       "    </tr>\n",
       "    <tr>\n",
       "      <th>17</th>\n",
       "      <td>STANDARD PLAN REVIEW</td>\n",
       "      <td>DROP</td>\n",
       "    </tr>\n",
       "    <tr>\n",
       "      <th>18</th>\n",
       "      <td>STANDARD PLAN REVIEW</td>\n",
       "      <td>NEW CONSTRUCTION</td>\n",
       "    </tr>\n",
       "    <tr>\n",
       "      <th>19</th>\n",
       "      <td>STANDARD PLAN REVIEW</td>\n",
       "      <td>RENOVATION/ALTERATION</td>\n",
       "    </tr>\n",
       "    <tr>\n",
       "      <th>20</th>\n",
       "      <td>TRADITIONAL DEVELOPER SERVICES</td>\n",
       "      <td>NEW CONSTRUCTION</td>\n",
       "    </tr>\n",
       "    <tr>\n",
       "      <th>21</th>\n",
       "      <td>TRADITIONAL DEVELOPER SERVICES</td>\n",
       "      <td>RENOVATION/ALTERATION</td>\n",
       "    </tr>\n",
       "  </tbody>\n",
       "</table>\n",
       "</div>"
      ],
      "text/plain": [
       "                       REVIEW_TYPE            PERMIT_TYPE\n",
       "0         CONVEYANCE DEVICE PERMIT     ELEVATOR EQUIPMENT\n",
       "1                DEMOLITION PERMIT    WRECKING/DEMOLITION\n",
       "2        DIRECT DEVELOPER SERVICES       NEW CONSTRUCTION\n",
       "3        DIRECT DEVELOPER SERVICES  RENOVATION/ALTERATION\n",
       "4                      EASY PERMIT                   DROP\n",
       "5                      EASY PERMIT    EASY PERMIT PROCESS\n",
       "6                      EASY PERMIT       NEW CONSTRUCTION\n",
       "7                      EASY PERMIT  REINSTATE REVOKED PMT\n",
       "8                      EASY PERMIT  RENOVATION/ALTERATION\n",
       "9                      EASY PERMIT            SCAFFOLDING\n",
       "10                 EASY PERMIT WEB    EASY PERMIT PROCESS\n",
       "11                 EASY PERMIT WEB        ELECTRIC WIRING\n",
       "12          ELECTRICAL PLAN REVIEW        ELECTRIC WIRING\n",
       "13          FIRE PROTECTION SYSTEM        ELECTRIC WIRING\n",
       "14                       SELF CERT       NEW CONSTRUCTION\n",
       "15                       SELF CERT  RENOVATION/ALTERATION\n",
       "16                     SIGN PERMIT                  SIGNS\n",
       "17            STANDARD PLAN REVIEW                   DROP\n",
       "18            STANDARD PLAN REVIEW       NEW CONSTRUCTION\n",
       "19            STANDARD PLAN REVIEW  RENOVATION/ALTERATION\n",
       "20  TRADITIONAL DEVELOPER SERVICES       NEW CONSTRUCTION\n",
       "21  TRADITIONAL DEVELOPER SERVICES  RENOVATION/ALTERATION"
      ]
     },
     "execution_count": 178,
     "metadata": {},
     "output_type": "execute_result"
    }
   ],
   "source": [
    "#groupby REVIEW_TYPE & PERMIT_TYPE to view unique pair combinations\n",
    "check=permits_scaled.groupby(['REVIEW_TYPE','PERMIT_TYPE']).size().reset_index()[['REVIEW_TYPE','PERMIT_TYPE']]\n",
    "check"
   ]
  },
  {
   "cell_type": "code",
   "execution_count": 179,
   "metadata": {},
   "outputs": [
    {
     "data": {
      "text/plain": [
       "[('CONVEYANCE DEVICE PERMIT', 'ELEVATOR EQUIPMENT'),\n",
       " ('DEMOLITION PERMIT', 'WRECKING/DEMOLITION'),\n",
       " ('SIGN PERMIT', 'SIGNS')]"
      ]
     },
     "execution_count": 179,
     "metadata": {},
     "output_type": "execute_result"
    }
   ],
   "source": [
    "dup_pairs=[]\n",
    "for i,row in check.iterrows():\n",
    "    condition_one=(check[check['REVIEW_TYPE']==row['REVIEW_TYPE']]).shape[0]==1\n",
    "    condition_two=(check[check['PERMIT_TYPE']==row['PERMIT_TYPE']]).shape[0]==1\n",
    "    if condition_one&condition_two:\n",
    "        dup_pairs.append((row['REVIEW_TYPE'],row['PERMIT_TYPE']))\n",
    "dup_pairs"
   ]
  },
  {
   "attachments": {},
   "cell_type": "markdown",
   "metadata": {},
   "source": [
    "* The pairs of review and permit types above form a one-to-one match. One of them needs to be dropped\n",
    "* Let's rename the permit types `'ELEVATOR EQUIPMENT', 'WRECKING/DEMOLITION', 'SIGNS'` to be called `DROP`\n",
    "* Remember to drop `'PERMIT_TYPE_DROP'` before modelling"
   ]
  },
  {
   "cell_type": "code",
   "execution_count": 180,
   "metadata": {},
   "outputs": [],
   "source": [
    "permits_scaled['PERMIT_TYPE']=permits_scaled['PERMIT_TYPE'].replace({'ELEVATOR EQUIPMENT':'DROP','WRECKING/DEMOLITION':'DROP','SIGNS':'DROP'})"
   ]
  },
  {
   "cell_type": "code",
   "execution_count": 181,
   "metadata": {},
   "outputs": [
    {
     "data": {
      "text/plain": [
       "array(['RENOVATION/ALTERATION', 'NEW CONSTRUCTION', 'DROP',\n",
       "       'ELECTRIC WIRING', 'EASY PERMIT PROCESS', 'SCAFFOLDING',\n",
       "       'REINSTATE REVOKED PMT'], dtype=object)"
      ]
     },
     "execution_count": 181,
     "metadata": {},
     "output_type": "execute_result"
    }
   ],
   "source": [
    "permits_scaled['PERMIT_TYPE'].unique()"
   ]
  },
  {
   "attachments": {},
   "cell_type": "markdown",
   "metadata": {},
   "source": [
    "***\n",
    "**Review Type**"
   ]
  },
  {
   "cell_type": "code",
   "execution_count": 182,
   "metadata": {},
   "outputs": [
    {
     "data": {
      "image/png": "[encoded data removed]",
      "text/plain": [
       "<Figure size 1500x1000 with 1 Axes>"
      ]
     },
     "metadata": {},
     "output_type": "display_data"
    }
   ],
   "source": [
    "plt.figure(figsize=(15,10))\n",
    "sns.countplot(data=df_obj,y='REVIEW_TYPE',color='seagreen',orient=\"h\")\n",
    "plt.xticks(rotation=45);"
   ]
  },
  {
   "cell_type": "code",
   "execution_count": 183,
   "metadata": {},
   "outputs": [
    {
     "data": {
      "text/plain": [
       "EASY PERMIT WEB                   292975\n",
       "EASY PERMIT                       162936\n",
       "STANDARD PLAN REVIEW              125643\n",
       "SIGN PERMIT                        46707\n",
       "SELF CERT                          44408\n",
       "DEMOLITION PERMIT                  19730\n",
       "CONVEYANCE DEVICE PERMIT           18456\n",
       "FIRE PROTECTION SYSTEM              6927\n",
       "ELECTRICAL PLAN REVIEW              5991\n",
       "TRADITIONAL DEVELOPER SERVICES      5365\n",
       "DIRECT DEVELOPER SERVICES           1373\n",
       "Name: REVIEW_TYPE, dtype: int64"
      ]
     },
     "execution_count": 183,
     "metadata": {},
     "output_type": "execute_result"
    }
   ],
   "source": [
    "df_obj['REVIEW_TYPE'].value_counts()"
   ]
  },
  {
   "attachments": {},
   "cell_type": "markdown",
   "metadata": {},
   "source": [
    "* DIRECT DEVELOPER SERVICES has the smallest count\n",
    "* Consider if it was present in all years"
   ]
  },
  {
   "cell_type": "code",
   "execution_count": 184,
   "metadata": {},
   "outputs": [
    {
     "data": {
      "text/plain": [
       "ISSUE_DATE\n",
       "2006    10\n",
       "2007    10\n",
       "2008    10\n",
       "2009    10\n",
       "2010    10\n",
       "2011    10\n",
       "2012    10\n",
       "2013    10\n",
       "2014    10\n",
       "2015    11\n",
       "2016    11\n",
       "2017    11\n",
       "2018    11\n",
       "2019    11\n",
       "2020    11\n",
       "2021    11\n",
       "2022    11\n",
       "2023    11\n",
       "Name: REVIEW_TYPE, dtype: int64"
      ]
     },
     "execution_count": 184,
     "metadata": {},
     "output_type": "execute_result"
    }
   ],
   "source": [
    "unique_yearly['REVIEW_TYPE']"
   ]
  },
  {
   "attachments": {},
   "cell_type": "markdown",
   "metadata": {},
   "source": [
    "* One Review Type was added between 2006 and 2023\n",
    "* Check if it was `DIRECT DEVELOPER SERVICES`"
   ]
  },
  {
   "cell_type": "code",
   "execution_count": 185,
   "metadata": {},
   "outputs": [
    {
     "data": {
      "text/plain": [
       "{'DIRECT DEVELOPER SERVICES'}"
      ]
     },
     "execution_count": 185,
     "metadata": {},
     "output_type": "execute_result"
    }
   ],
   "source": [
    "distict_review_types_2006=set(df_obj[df_obj['ISSUE_DATE'].dt.year==2006]['REVIEW_TYPE'].unique())\n",
    "distict_review_types_2022=set(df_obj[df_obj['ISSUE_DATE'].dt.year==2022]['REVIEW_TYPE'].unique())\n",
    "distict_review_types_2006.symmetric_difference(distict_review_types_2022)"
   ]
  },
  {
   "attachments": {},
   "cell_type": "markdown",
   "metadata": {},
   "source": [
    "* DIRECT DEVELOPER SERVICES was only added in 2015. Hence, it will be missing in the early years.</br>\n",
    "* While it is unlikely to be a good predictor in the current model due to the lack of datapoints with DIRECT DEVELOPER SERVICES, it might become a good predictor in the future\n",
    "* Hence, let's not drop it but when running stastical tests be mindful that it might not show any correlations when the model is trained on the data from years before 2015"
   ]
  },
  {
   "attachments": {},
   "cell_type": "markdown",
   "metadata": {},
   "source": [
    "***\n",
    "***CONTACT_1_TYPE***"
   ]
  },
  {
   "cell_type": "code",
   "execution_count": 186,
   "metadata": {},
   "outputs": [
    {
     "data": {
      "text/plain": [
       "array(['OWNER AS GENERAL CONTRACTOR', 'ARCHITECT',\n",
       "       'CONTRACTOR-ELECTRICAL', 'SELF CERT ARCHITECT', 'UNKNOWN',\n",
       "       'CONTRACTOR-GENERAL CONTRACTOR', 'SIGN CONTRACTOR',\n",
       "       'STRUCTURAL ENGINEER', 'OWNER', 'OWNER AS ARCHITECT & CONTRACTR',\n",
       "       'OWNER OCCUPIED', 'CONTRACTOR-ELEVATOR', 'EXPEDITOR',\n",
       "       'BUILDING OWNER', 'CONTRACTOR-WRECKING', 'CONTRACTOR-VENTILATION',\n",
       "       'CONTRACTOR-PLUMBER/PLUMBING', 'OWNER AS ARCHITECT',\n",
       "       'TENT CONTRACTOR', 'MASON - BRICK AND CONCRETE',\n",
       "       'MASON - BRICK ONLY', 'MASONRY CONTRACTOR', 'CONTRACTOR-HEATING',\n",
       "       'PLUMBING CONTRACTOR', 'MASON - CONCRETE ONLY',\n",
       "       'RESIDENTAL REAL ESTATE DEV', 'CONTRACTOR-REFRIGERATION'],\n",
       "      dtype=object)"
      ]
     },
     "execution_count": 186,
     "metadata": {},
     "output_type": "execute_result"
    }
   ],
   "source": [
    "permits_scaled['CONTACT_1_TYPE'].unique()"
   ]
  },
  {
   "cell_type": "code",
   "execution_count": 187,
   "metadata": {},
   "outputs": [
    {
     "data": {
      "text/plain": [
       "<AxesSubplot:xlabel='count', ylabel='CONTACT_1_TYPE'>"
      ]
     },
     "execution_count": 187,
     "metadata": {},
     "output_type": "execute_result"
    },
    {
     "data": {
      "image/png": "[encoded data removed]",
      "text/plain": [
       "<Figure size 1500x1000 with 1 Axes>"
      ]
     },
     "metadata": {},
     "output_type": "display_data"
    }
   ],
   "source": [
    "plt.figure(figsize=(15,10))\n",
    "sns.countplot(data=df_obj,y='CONTACT_1_TYPE',color='seagreen',orient=\"h\")\n",
    "#plt.xticks(rotation=45);"
   ]
  },
  {
   "cell_type": "code",
   "execution_count": 188,
   "metadata": {},
   "outputs": [
    {
     "data": {
      "text/plain": [
       "CONTRACTOR-ELECTRICAL             272995\n",
       "CONTRACTOR-GENERAL CONTRACTOR      79675\n",
       "OWNER                              58533\n",
       "OWNER AS GENERAL CONTRACTOR        57524\n",
       "SELF CERT ARCHITECT                38748\n",
       "OWNER OCCUPIED                     36737\n",
       "ARCHITECT                          32752\n",
       "EXPEDITOR                          31478\n",
       "SIGN CONTRACTOR                    29689\n",
       "CONTRACTOR-ELEVATOR                18284\n",
       "CONTRACTOR-WRECKING                16678\n",
       "MASONRY CONTRACTOR                 10383\n",
       "CONTRACTOR-PLUMBER/PLUMBING         9975\n",
       "STRUCTURAL ENGINEER                 9840\n",
       "BUILDING OWNER                      6122\n",
       "UNKNOWN                             4773\n",
       "TENT CONTRACTOR                     4665\n",
       "OWNER AS ARCHITECT & CONTRACTR      4238\n",
       "CONTRACTOR-VENTILATION              3750\n",
       "OWNER AS ARCHITECT                  1874\n",
       "PLUMBING CONTRACTOR                  816\n",
       "MASON - BRICK AND CONCRETE           315\n",
       "MASON - BRICK ONLY                   224\n",
       "CONTRACTOR-HEATING                   202\n",
       "CONTRACTOR-REFRIGERATION             201\n",
       "MASON - CONCRETE ONLY                 38\n",
       "RESIDENTAL REAL ESTATE DEV             2\n",
       "Name: CONTACT_1_TYPE, dtype: int64"
      ]
     },
     "execution_count": 188,
     "metadata": {},
     "output_type": "execute_result"
    }
   ],
   "source": [
    "#absolute values\n",
    "df_obj['CONTACT_1_TYPE'].value_counts()"
   ]
  },
  {
   "attachments": {},
   "cell_type": "markdown",
   "metadata": {},
   "source": [
    "Note 1:\n",
    "* RESIDENTAL REAL ESTATE DEV has only 2 counts, let's rename it to `DROP`\n",
    "* Remember to drop `'CONTACT_1_TYPE_DROP'` before modelling"
   ]
  },
  {
   "cell_type": "code",
   "execution_count": 189,
   "metadata": {},
   "outputs": [],
   "source": [
    "permits_scaled['CONTACT_1_TYPE']=permits_scaled['CONTACT_1_TYPE'].replace({'CONTACT_1_TYPE_DROP':'DROP'})"
   ]
  },
  {
   "attachments": {},
   "cell_type": "markdown",
   "metadata": {},
   "source": [
    "Note 2:\n",
    "* Categories `'MASON - BRICK AND CONCRETE'`, `'MASON - BRICK ONLY'` and `'MASON - CONCRETE ONLY'` all have low counts\n",
    "* Let's merge them all together into **'MASON - BRICK AND CONCRETE'** since they all refer to masonry contractor working with brick and concrete\n"
   ]
  },
  {
   "cell_type": "code",
   "execution_count": 190,
   "metadata": {},
   "outputs": [],
   "source": [
    "permits_scaled['CONTACT_1_TYPE']=permits_scaled['CONTACT_1_TYPE'].replace({'MASON - BRICK ONLY':'MASON - BRICK AND CONCRETE','MASON - CONCRETE ONLY':'MASON - BRICK AND CONCRETE'})"
   ]
  },
  {
   "attachments": {},
   "cell_type": "markdown",
   "metadata": {},
   "source": [
    "Note 3:\n",
    "* Categories `CONTRACTOR-HEATING` and `CONTRACTOR-REFRIGERATION` both reger to a Contractor working with heating, ventilation and air conditioning\n",
    "* Since they have counts, let's also merge them together into **CONTRACTOR-ENERGY**"
   ]
  },
  {
   "attachments": {},
   "cell_type": "markdown",
   "metadata": {},
   "source": [
    "***\n",
    "***CONTACT_1_CITY***"
   ]
  },
  {
   "cell_type": "code",
   "execution_count": 192,
   "metadata": {},
   "outputs": [
    {
     "name": "stdout",
     "output_type": "stream",
     "text": [
      "CHICAGO              341031\n",
      "CHICAGO X             15248\n",
      "MINOOKA               12798\n",
      "OAK BROOK             12758\n",
      "CHGO                  11960\n",
      "NORTHBROOK            10484\n",
      "ELK GROVE VILLAGE     10323\n",
      "UNKNOWN               10305\n",
      "IRVING                 8685\n",
      "ADDISON                7723\n",
      "LOMBARD                7555\n",
      "DOWNERS GROVE          7102\n",
      "SKOKIE                 6874\n",
      "ARLINGTON HEIGHTS      5891\n",
      "PARK RIDGE             5754\n",
      "DES PLAINES            5333\n",
      "SCHAUMBURG             5127\n",
      "ELMHURST               4881\n",
      "ELGIN                  4646\n",
      "OAK LAWN               4504\n",
      "SUMMIT                 4467\n",
      "ROLLING MEADOWS        4457\n",
      "GLENVIEW               4006\n",
      "MELROSE PARK           3972\n",
      "ALSIP                  3916\n",
      "Name: CONTACT_1_CITY, dtype: int64\n",
      "\n",
      "\n",
      "2576\n"
     ]
    }
   ],
   "source": [
    "print(permits_scaled['CONTACT_1_CITY'].value_counts()[0:25])\n",
    "print('\\n')\n",
    "print(permits_scaled['CONTACT_1_CITY'].value_counts().shape[0])"
   ]
  },
  {
   "attachments": {},
   "cell_type": "markdown",
   "metadata": {},
   "source": [
    "* Let's rename apelling variatios of Chicago to CHICAGO"
   ]
  },
  {
   "cell_type": "code",
   "execution_count": 195,
   "metadata": {},
   "outputs": [
    {
     "data": {
      "text/plain": [
       "Index(['MINOOKA', 'OAK BROOK', 'NORTHBROOK', 'ELK GROVE VILLAGE', 'UNKNOWN',\n",
       "       'IRVING', 'ADDISON', 'LOMBARD', 'DOWNERS GROVE', 'SKOKIE',\n",
       "       'ARLINGTON HEIGHTS', 'PARK RIDGE', 'DES PLAINES', 'SCHAUMBURG',\n",
       "       'ELMHURST'],\n",
       "      dtype='object')"
      ]
     },
     "execution_count": 195,
     "metadata": {},
     "output_type": "execute_result"
    }
   ],
   "source": [
    "permits_scaled['CONTACT_1_CITY'].value_counts()[1:16].index"
   ]
  },
  {
   "cell_type": "code",
   "execution_count": 196,
   "metadata": {},
   "outputs": [],
   "source": [
    "permits_scaled['CONTACT_1_CITY']=permits_scaled['CONTACT_1_CITY'].replace({'CHICAGO X':'CHICAGO','CHGO':'CHICAGO'})\n",
    "\n",
    "#top 14 cities apart from Chicago\n",
    "cities=list(permits_scaled['CONTACT_1_CITY'].value_counts()[1:14].index)\n",
    "cities.append('CHICAGO')\n",
    "permits_scaled['CONTACT_1_CITY']=[x if x in cities else 'OTHER' for x in permits_scaled['CONTACT_1_CITY']]"
   ]
  },
  {
   "cell_type": "code",
   "execution_count": 197,
   "metadata": {},
   "outputs": [
    {
     "name": "stdout",
     "output_type": "stream",
     "text": [
      "CHICAGO              368239\n",
      "OTHER                250687\n",
      "MINOOKA               12798\n",
      "OAK BROOK             12758\n",
      "NORTHBROOK            10484\n",
      "ELK GROVE VILLAGE     10323\n",
      "UNKNOWN               10305\n",
      "IRVING                 8685\n",
      "ADDISON                7723\n",
      "LOMBARD                7555\n",
      "DOWNERS GROVE          7102\n",
      "SKOKIE                 6874\n",
      "ARLINGTON HEIGHTS      5891\n",
      "PARK RIDGE             5754\n",
      "DES PLAINES            5333\n",
      "Name: CONTACT_1_CITY, dtype: int64\n"
     ]
    }
   ],
   "source": [
    "print(permits_scaled['CONTACT_1_CITY'].value_counts()[0:25])"
   ]
  },
  {
   "attachments": {},
   "cell_type": "markdown",
   "metadata": {},
   "source": [
    "---\n",
    "***CONTACT_1_STATE***"
   ]
  },
  {
   "cell_type": "code",
   "execution_count": 200,
   "metadata": {},
   "outputs": [
    {
     "name": "stdout",
     "output_type": "stream",
     "text": [
      "IL          684614\n",
      "TX            9794\n",
      "UNKNOWN       6903\n",
      "IN            5345\n",
      "CA            4784\n",
      "WI            2698\n",
      "UT            1841\n",
      "ILLINOIS      1684\n",
      "NJ            1537\n",
      "FL            1158\n",
      "IL.           1113\n",
      "MI             982\n",
      "NY             835\n",
      "GA             765\n",
      "60             716\n",
      "ILL            671\n",
      "OH             602\n",
      "MO             599\n",
      "KS             432\n",
      "PA             343\n",
      "MN             268\n",
      "MA             248\n",
      "CO             212\n",
      "TN             200\n",
      "AZ             182\n",
      "Name: CONTACT_1_STATE, dtype: int64\n",
      "\n",
      "\n",
      "220\n"
     ]
    }
   ],
   "source": [
    "print(permits_scaled['CONTACT_1_STATE'].value_counts()[0:25])\n",
    "print('\\n')\n",
    "print(permits_scaled['CONTACT_1_STATE'].value_counts().shape[0])"
   ]
  },
  {
   "cell_type": "code",
   "execution_count": 201,
   "metadata": {},
   "outputs": [],
   "source": [
    "permits_scaled['CONTACT_1_STATE']=permits_scaled['CONTACT_1_STATE'].replace({'ILLINOIS':'IL','ILL':'IL','IL.':'IL'})"
   ]
  },
  {
   "cell_type": "code",
   "execution_count": 202,
   "metadata": {},
   "outputs": [],
   "source": [
    "states=['IL','TX','IN','CA','WI','UT','NJ','FL','MI','NY']\n",
    "permits_scaled['CONTACT_1_STATE']=[x if x in states else 'OTHER' for x in permits_scaled['CONTACT_1_STATE']]"
   ]
  },
  {
   "cell_type": "code",
   "execution_count": 232,
   "metadata": {},
   "outputs": [
    {
     "data": {
      "text/plain": [
       "IL       688082\n",
       "OTHER     13455\n",
       "TX         9794\n",
       "IN         5345\n",
       "CA         4784\n",
       "WI         2698\n",
       "UT         1841\n",
       "NJ         1537\n",
       "FL         1158\n",
       "MI          982\n",
       "NY          835\n",
       "Name: CONTACT_1_STATE, dtype: int64"
      ]
     },
     "execution_count": 232,
     "metadata": {},
     "output_type": "execute_result"
    }
   ],
   "source": [
    "permits_scaled['CONTACT_1_STATE'].value_counts()"
   ]
  },
  {
   "cell_type": "code",
   "execution_count": 244,
   "metadata": {},
   "outputs": [],
   "source": [
    "#Create another feature that is the contact in IL state but not Chicago\n",
    "condition_one=permits_scaled['CONTACT_1_CITY'].isin(['UNKNOWN', 'OTHER'])\n",
    "condition_two=permits_scaled['CONTACT_1_STATE']!='IL'\n",
    "permits_scaled.loc[(condition_one&condition_two),'CONTACT_1_CITY']='CHICAGO_SUBURBS'"
   ]
  },
  {
   "attachments": {},
   "cell_type": "markdown",
   "metadata": {},
   "source": [
    "---\n",
    "### EDA for NLP\n",
    "*Sample of Work Descriptions*"
   ]
  },
  {
   "cell_type": "code",
   "execution_count": 245,
   "metadata": {},
   "outputs": [
    {
     "ename": "NameError",
     "evalue": "name 'df_wip2' is not defined",
     "output_type": "error",
     "traceback": [
      "\u001b[1;31m---------------------------------------------------------------------------\u001b[0m",
      "\u001b[1;31mNameError\u001b[0m                                 Traceback (most recent call last)",
      "\u001b[1;32m~\\AppData\\Local\\Temp\\ipykernel_163084\\3403177658.py\u001b[0m in \u001b[0;36m<module>\u001b[1;34m\u001b[0m\n\u001b[0;32m      1\u001b[0m \u001b[1;32mfor\u001b[0m \u001b[0mn\u001b[0m \u001b[1;32min\u001b[0m \u001b[0mrange\u001b[0m\u001b[1;33m(\u001b[0m\u001b[1;36m0\u001b[0m\u001b[1;33m,\u001b[0m\u001b[1;36m700000\u001b[0m\u001b[1;33m,\u001b[0m\u001b[1;36m50000\u001b[0m\u001b[1;33m)\u001b[0m\u001b[1;33m:\u001b[0m\u001b[1;33m\u001b[0m\u001b[1;33m\u001b[0m\u001b[0m\n\u001b[1;32m----> 2\u001b[1;33m     \u001b[0mprint\u001b[0m\u001b[1;33m(\u001b[0m\u001b[0mdf_wip2\u001b[0m\u001b[1;33m[\u001b[0m\u001b[1;34m'WORK_DESCRIPTION'\u001b[0m\u001b[1;33m]\u001b[0m\u001b[1;33m[\u001b[0m\u001b[0mn\u001b[0m\u001b[1;33m]\u001b[0m\u001b[1;33m)\u001b[0m\u001b[1;33m\u001b[0m\u001b[1;33m\u001b[0m\u001b[0m\n\u001b[0m",
      "\u001b[1;31mNameError\u001b[0m: name 'df_wip2' is not defined"
     ]
    }
   ],
   "source": [
    "for n in range(0,700000,50000):\n",
    "    print(df_wip2['WORK_DESCRIPTION'][n])"
   ]
  },
  {
   "attachments": {},
   "cell_type": "markdown",
   "metadata": {},
   "source": [
    "#restaurant"
   ]
  },
  {
   "attachments": {},
   "cell_type": "markdown",
   "metadata": {},
   "source": [
    "`Analysed and cleaned in the next notebook`"
   ]
  },
  {
   "attachments": {},
   "cell_type": "markdown",
   "metadata": {},
   "source": [
    "* Analyse by most occuring words\n",
    "* Analyse per permit type"
   ]
  },
  {
   "cell_type": "code",
   "execution_count": null,
   "metadata": {},
   "outputs": [],
   "source": [
    "# government can only access census data\n",
    "# not collected regularly\n",
    "# what other indicators might be useful to epxlore gentrification\n",
    "# how much information contains in the planning applications that is useful \n",
    "# it is not going to be enough \n",
    "# how influential planning application is \n",
    "# spot checks -> is there a trend that is missing\n",
    "# "
   ]
  },
  {
   "cell_type": "code",
   "execution_count": 247,
   "metadata": {},
   "outputs": [
    {
     "data": {
      "text/plain": [
       "'CONTACT_1_TYPE_DROP'"
      ]
     },
     "execution_count": 247,
     "metadata": {},
     "output_type": "execute_result"
    }
   ],
   "source": [
    "'CONTACT_1_TYPE_DROP'"
   ]
  },
  {
   "cell_type": "code",
   "execution_count": 250,
   "metadata": {},
   "outputs": [],
   "source": [
    "permits_scaled=permits_scaled.drop(columns='ID')"
   ]
  },
  {
   "cell_type": "code",
   "execution_count": 251,
   "metadata": {},
   "outputs": [],
   "source": [
    "permits_scaled.to_csv('../data/interim/permits_cleaned.csv')"
   ]
  },
  {
   "cell_type": "markdown",
   "metadata": {},
   "source": [
    "***"
   ]
  },
  {
   "attachments": {},
   "cell_type": "markdown",
   "metadata": {},
   "source": [
    "*Further Thoughts*:\n",
    "* Could clustering be used to find patterns between census tracts\n",
    "* Is it valid to compare all districts using the same metrics?\n",
    "    * Some are more urban, some are more suburban?\n",
    "    * Is it possible to instead compare the change?\n",
    "        * EG. How the number of applications changed in comparison to the last 5 years\n",
    "        * Then need to compare to the average change\n",
    "            * (X_new/X_old)/(Mean_new/Mean_old)\n",
    "            * In other words, what is the percentage increase in the number of applications with respect to the overall city change?\n"
   ]
  },
  {
   "cell_type": "markdown",
   "metadata": {},
   "source": []
  }
 ],
 "metadata": {
  "kernelspec": {
   "display_name": "capstone",
   "language": "python",
   "name": "capstone"
  },
  "language_info": {
   "codemirror_mode": {
    "name": "ipython",
    "version": 3
   },
   "file_extension": ".py",
   "mimetype": "text/x-python",
   "name": "python",
   "nbconvert_exporter": "python",
   "pygments_lexer": "ipython3",
   "version": "3.9.13"
  },
  "orig_nbformat": 4,
  "vscode": {
   "interpreter": {
    "hash": "a4ccad7f4245b41ef23b14c32aed64178d0c17e4b57b15c0d4f0def3d96d0932"
   }
  }
 },
 "nbformat": 4,
 "nbformat_minor": 2
}
