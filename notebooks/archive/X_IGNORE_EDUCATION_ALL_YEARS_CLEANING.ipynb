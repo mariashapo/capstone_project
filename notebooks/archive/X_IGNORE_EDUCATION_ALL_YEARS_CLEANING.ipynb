{
 "cells": [
  {
   "cell_type": "code",
   "execution_count": 1,
   "metadata": {},
   "outputs": [],
   "source": [
    "import pandas as pd\n",
    "import numpy as np\n",
    "import matplotlib.pyplot as plt\n",
    "\n",
    "import joblib"
   ]
  },
  {
   "attachments": {},
   "cell_type": "markdown",
   "metadata": {},
   "source": [
    "Aim for this notebook is to extract **'S1501_C01_059E':'Median_earnings_over_25_1_year'** column from Education Census Data column for all the years between 2006 and 2021"
   ]
  },
  {
   "attachments": {},
   "cell_type": "markdown",
   "metadata": {},
   "source": [
    "***"
   ]
  },
  {
   "attachments": {},
   "cell_type": "markdown",
   "metadata": {},
   "source": [
    "- [ ] Download US Census Data for all years (2010 to 2021 incl)\n",
    "- [ ] Compile a dataframe as demonstrated below, median_1_y_earnings\n",
    "    - Loop through the CVS Files\n",
    "    - Reformat Census Tract number from Geo_ID\n",
    "        - Loop through each Census Tract\n",
    "        - Create a new row input recording the year and the median earnings\n",
    "- [ ] Export 'median_1_y_earnings' DataFrame\n",
    "\n"
   ]
  },
  {
   "attachments": {},
   "cell_type": "markdown",
   "metadata": {},
   "source": [
    "| Census Tract | Median Earnings | Year |\n",
    "| --- | --- | --- |\n",
    "| xxxx | xxxx | 2019 |\n",
    "| --- | --- | --- |\n",
    "| xxxx | xxxx | 2015 |"
   ]
  },
  {
   "attachments": {},
   "cell_type": "markdown",
   "metadata": {},
   "source": [
    "***"
   ]
  },
  {
   "cell_type": "code",
   "execution_count": 2,
   "metadata": {},
   "outputs": [
    {
     "ename": "FileNotFoundError",
     "evalue": "[Errno 2] No such file or directory: '../data/raw/education/ACSST5Y2021.S1501-Data.csv'",
     "output_type": "error",
     "traceback": [
      "\u001b[1;31m---------------------------------------------------------------------------\u001b[0m",
      "\u001b[1;31mFileNotFoundError\u001b[0m                         Traceback (most recent call last)",
      "\u001b[1;32m~\\AppData\\Local\\Temp\\ipykernel_274840\\165507478.py\u001b[0m in \u001b[0;36m<module>\u001b[1;34m\u001b[0m\n\u001b[1;32m----> 1\u001b[1;33m \u001b[0medu_2021\u001b[0m\u001b[1;33m=\u001b[0m\u001b[0mpd\u001b[0m\u001b[1;33m.\u001b[0m\u001b[0mread_csv\u001b[0m\u001b[1;33m(\u001b[0m\u001b[1;34m'../data/raw/education/ACSST5Y2021.S1501-Data.csv'\u001b[0m\u001b[1;33m)\u001b[0m\u001b[1;33m\u001b[0m\u001b[1;33m\u001b[0m\u001b[0m\n\u001b[0m\u001b[0;32m      2\u001b[0m \u001b[0medu_2020\u001b[0m\u001b[1;33m=\u001b[0m\u001b[0mpd\u001b[0m\u001b[1;33m.\u001b[0m\u001b[0mread_csv\u001b[0m\u001b[1;33m(\u001b[0m\u001b[1;34m'../data/raw/education/ACSST5Y2020.S1501-Data.csv'\u001b[0m\u001b[1;33m)\u001b[0m\u001b[1;33m\u001b[0m\u001b[1;33m\u001b[0m\u001b[0m\n\u001b[0;32m      3\u001b[0m \u001b[0medu_2019\u001b[0m\u001b[1;33m=\u001b[0m\u001b[0mpd\u001b[0m\u001b[1;33m.\u001b[0m\u001b[0mread_csv\u001b[0m\u001b[1;33m(\u001b[0m\u001b[1;34m'../data/raw/education/ACSST5Y2019.S1501-Data.csv'\u001b[0m\u001b[1;33m)\u001b[0m\u001b[1;33m\u001b[0m\u001b[1;33m\u001b[0m\u001b[0m\n\u001b[0;32m      4\u001b[0m \u001b[0medu_2018\u001b[0m\u001b[1;33m=\u001b[0m\u001b[0mpd\u001b[0m\u001b[1;33m.\u001b[0m\u001b[0mread_csv\u001b[0m\u001b[1;33m(\u001b[0m\u001b[1;34m'../data/raw/education/ACSST5Y2018.S1501-Data.csv'\u001b[0m\u001b[1;33m)\u001b[0m\u001b[1;33m\u001b[0m\u001b[1;33m\u001b[0m\u001b[0m\n\u001b[0;32m      5\u001b[0m \u001b[0medu_2017\u001b[0m\u001b[1;33m=\u001b[0m\u001b[0mpd\u001b[0m\u001b[1;33m.\u001b[0m\u001b[0mread_csv\u001b[0m\u001b[1;33m(\u001b[0m\u001b[1;34m'../data/raw/education/ACSST5Y2017.S1501-Data.csv'\u001b[0m\u001b[1;33m)\u001b[0m\u001b[1;33m\u001b[0m\u001b[1;33m\u001b[0m\u001b[0m\n",
      "\u001b[1;32mc:\\Users\\44742\\anaconda3\\lib\\site-packages\\pandas\\util\\_decorators.py\u001b[0m in \u001b[0;36mwrapper\u001b[1;34m(*args, **kwargs)\u001b[0m\n\u001b[0;32m    309\u001b[0m                     \u001b[0mstacklevel\u001b[0m\u001b[1;33m=\u001b[0m\u001b[0mstacklevel\u001b[0m\u001b[1;33m,\u001b[0m\u001b[1;33m\u001b[0m\u001b[1;33m\u001b[0m\u001b[0m\n\u001b[0;32m    310\u001b[0m                 )\n\u001b[1;32m--> 311\u001b[1;33m             \u001b[1;32mreturn\u001b[0m \u001b[0mfunc\u001b[0m\u001b[1;33m(\u001b[0m\u001b[1;33m*\u001b[0m\u001b[0margs\u001b[0m\u001b[1;33m,\u001b[0m \u001b[1;33m**\u001b[0m\u001b[0mkwargs\u001b[0m\u001b[1;33m)\u001b[0m\u001b[1;33m\u001b[0m\u001b[1;33m\u001b[0m\u001b[0m\n\u001b[0m\u001b[0;32m    312\u001b[0m \u001b[1;33m\u001b[0m\u001b[0m\n\u001b[0;32m    313\u001b[0m         \u001b[1;32mreturn\u001b[0m \u001b[0mwrapper\u001b[0m\u001b[1;33m\u001b[0m\u001b[1;33m\u001b[0m\u001b[0m\n",
      "\u001b[1;32mc:\\Users\\44742\\anaconda3\\lib\\site-packages\\pandas\\io\\parsers\\readers.py\u001b[0m in \u001b[0;36mread_csv\u001b[1;34m(filepath_or_buffer, sep, delimiter, header, names, index_col, usecols, squeeze, prefix, mangle_dupe_cols, dtype, engine, converters, true_values, false_values, skipinitialspace, skiprows, skipfooter, nrows, na_values, keep_default_na, na_filter, verbose, skip_blank_lines, parse_dates, infer_datetime_format, keep_date_col, date_parser, dayfirst, cache_dates, iterator, chunksize, compression, thousands, decimal, lineterminator, quotechar, quoting, doublequote, escapechar, comment, encoding, encoding_errors, dialect, error_bad_lines, warn_bad_lines, on_bad_lines, delim_whitespace, low_memory, memory_map, float_precision, storage_options)\u001b[0m\n\u001b[0;32m    676\u001b[0m     \u001b[0mkwds\u001b[0m\u001b[1;33m.\u001b[0m\u001b[0mupdate\u001b[0m\u001b[1;33m(\u001b[0m\u001b[0mkwds_defaults\u001b[0m\u001b[1;33m)\u001b[0m\u001b[1;33m\u001b[0m\u001b[1;33m\u001b[0m\u001b[0m\n\u001b[0;32m    677\u001b[0m \u001b[1;33m\u001b[0m\u001b[0m\n\u001b[1;32m--> 678\u001b[1;33m     \u001b[1;32mreturn\u001b[0m \u001b[0m_read\u001b[0m\u001b[1;33m(\u001b[0m\u001b[0mfilepath_or_buffer\u001b[0m\u001b[1;33m,\u001b[0m \u001b[0mkwds\u001b[0m\u001b[1;33m)\u001b[0m\u001b[1;33m\u001b[0m\u001b[1;33m\u001b[0m\u001b[0m\n\u001b[0m\u001b[0;32m    679\u001b[0m \u001b[1;33m\u001b[0m\u001b[0m\n\u001b[0;32m    680\u001b[0m \u001b[1;33m\u001b[0m\u001b[0m\n",
      "\u001b[1;32mc:\\Users\\44742\\anaconda3\\lib\\site-packages\\pandas\\io\\parsers\\readers.py\u001b[0m in \u001b[0;36m_read\u001b[1;34m(filepath_or_buffer, kwds)\u001b[0m\n\u001b[0;32m    573\u001b[0m \u001b[1;33m\u001b[0m\u001b[0m\n\u001b[0;32m    574\u001b[0m     \u001b[1;31m# Create the parser.\u001b[0m\u001b[1;33m\u001b[0m\u001b[1;33m\u001b[0m\u001b[0m\n\u001b[1;32m--> 575\u001b[1;33m     \u001b[0mparser\u001b[0m \u001b[1;33m=\u001b[0m \u001b[0mTextFileReader\u001b[0m\u001b[1;33m(\u001b[0m\u001b[0mfilepath_or_buffer\u001b[0m\u001b[1;33m,\u001b[0m \u001b[1;33m**\u001b[0m\u001b[0mkwds\u001b[0m\u001b[1;33m)\u001b[0m\u001b[1;33m\u001b[0m\u001b[1;33m\u001b[0m\u001b[0m\n\u001b[0m\u001b[0;32m    576\u001b[0m \u001b[1;33m\u001b[0m\u001b[0m\n\u001b[0;32m    577\u001b[0m     \u001b[1;32mif\u001b[0m \u001b[0mchunksize\u001b[0m \u001b[1;32mor\u001b[0m \u001b[0miterator\u001b[0m\u001b[1;33m:\u001b[0m\u001b[1;33m\u001b[0m\u001b[1;33m\u001b[0m\u001b[0m\n",
      "\u001b[1;32mc:\\Users\\44742\\anaconda3\\lib\\site-packages\\pandas\\io\\parsers\\readers.py\u001b[0m in \u001b[0;36m__init__\u001b[1;34m(self, f, engine, **kwds)\u001b[0m\n\u001b[0;32m    930\u001b[0m \u001b[1;33m\u001b[0m\u001b[0m\n\u001b[0;32m    931\u001b[0m         \u001b[0mself\u001b[0m\u001b[1;33m.\u001b[0m\u001b[0mhandles\u001b[0m\u001b[1;33m:\u001b[0m \u001b[0mIOHandles\u001b[0m \u001b[1;33m|\u001b[0m \u001b[1;32mNone\u001b[0m \u001b[1;33m=\u001b[0m \u001b[1;32mNone\u001b[0m\u001b[1;33m\u001b[0m\u001b[1;33m\u001b[0m\u001b[0m\n\u001b[1;32m--> 932\u001b[1;33m         \u001b[0mself\u001b[0m\u001b[1;33m.\u001b[0m\u001b[0m_engine\u001b[0m \u001b[1;33m=\u001b[0m \u001b[0mself\u001b[0m\u001b[1;33m.\u001b[0m\u001b[0m_make_engine\u001b[0m\u001b[1;33m(\u001b[0m\u001b[0mf\u001b[0m\u001b[1;33m,\u001b[0m \u001b[0mself\u001b[0m\u001b[1;33m.\u001b[0m\u001b[0mengine\u001b[0m\u001b[1;33m)\u001b[0m\u001b[1;33m\u001b[0m\u001b[1;33m\u001b[0m\u001b[0m\n\u001b[0m\u001b[0;32m    933\u001b[0m \u001b[1;33m\u001b[0m\u001b[0m\n\u001b[0;32m    934\u001b[0m     \u001b[1;32mdef\u001b[0m \u001b[0mclose\u001b[0m\u001b[1;33m(\u001b[0m\u001b[0mself\u001b[0m\u001b[1;33m)\u001b[0m\u001b[1;33m:\u001b[0m\u001b[1;33m\u001b[0m\u001b[1;33m\u001b[0m\u001b[0m\n",
      "\u001b[1;32mc:\\Users\\44742\\anaconda3\\lib\\site-packages\\pandas\\io\\parsers\\readers.py\u001b[0m in \u001b[0;36m_make_engine\u001b[1;34m(self, f, engine)\u001b[0m\n\u001b[0;32m   1214\u001b[0m             \u001b[1;31m# \"Union[str, PathLike[str], ReadCsvBuffer[bytes], ReadCsvBuffer[str]]\"\u001b[0m\u001b[1;33m\u001b[0m\u001b[1;33m\u001b[0m\u001b[0m\n\u001b[0;32m   1215\u001b[0m             \u001b[1;31m# , \"str\", \"bool\", \"Any\", \"Any\", \"Any\", \"Any\", \"Any\"\u001b[0m\u001b[1;33m\u001b[0m\u001b[1;33m\u001b[0m\u001b[0m\n\u001b[1;32m-> 1216\u001b[1;33m             self.handles = get_handle(  # type: ignore[call-overload]\n\u001b[0m\u001b[0;32m   1217\u001b[0m                 \u001b[0mf\u001b[0m\u001b[1;33m,\u001b[0m\u001b[1;33m\u001b[0m\u001b[1;33m\u001b[0m\u001b[0m\n\u001b[0;32m   1218\u001b[0m                 \u001b[0mmode\u001b[0m\u001b[1;33m,\u001b[0m\u001b[1;33m\u001b[0m\u001b[1;33m\u001b[0m\u001b[0m\n",
      "\u001b[1;32mc:\\Users\\44742\\anaconda3\\lib\\site-packages\\pandas\\io\\common.py\u001b[0m in \u001b[0;36mget_handle\u001b[1;34m(path_or_buf, mode, encoding, compression, memory_map, is_text, errors, storage_options)\u001b[0m\n\u001b[0;32m    784\u001b[0m         \u001b[1;32mif\u001b[0m \u001b[0mioargs\u001b[0m\u001b[1;33m.\u001b[0m\u001b[0mencoding\u001b[0m \u001b[1;32mand\u001b[0m \u001b[1;34m\"b\"\u001b[0m \u001b[1;32mnot\u001b[0m \u001b[1;32min\u001b[0m \u001b[0mioargs\u001b[0m\u001b[1;33m.\u001b[0m\u001b[0mmode\u001b[0m\u001b[1;33m:\u001b[0m\u001b[1;33m\u001b[0m\u001b[1;33m\u001b[0m\u001b[0m\n\u001b[0;32m    785\u001b[0m             \u001b[1;31m# Encoding\u001b[0m\u001b[1;33m\u001b[0m\u001b[1;33m\u001b[0m\u001b[0m\n\u001b[1;32m--> 786\u001b[1;33m             handle = open(\n\u001b[0m\u001b[0;32m    787\u001b[0m                 \u001b[0mhandle\u001b[0m\u001b[1;33m,\u001b[0m\u001b[1;33m\u001b[0m\u001b[1;33m\u001b[0m\u001b[0m\n\u001b[0;32m    788\u001b[0m                 \u001b[0mioargs\u001b[0m\u001b[1;33m.\u001b[0m\u001b[0mmode\u001b[0m\u001b[1;33m,\u001b[0m\u001b[1;33m\u001b[0m\u001b[1;33m\u001b[0m\u001b[0m\n",
      "\u001b[1;31mFileNotFoundError\u001b[0m: [Errno 2] No such file or directory: '../data/raw/education/ACSST5Y2021.S1501-Data.csv'"
     ]
    }
   ],
   "source": [
    "edu_2021=pd.read_csv('../data/raw/education/ACSST5Y2021.S1501-Data.csv')\n",
    "edu_2020=pd.read_csv('../data/raw/education/ACSST5Y2020.S1501-Data.csv')\n",
    "edu_2019=pd.read_csv('../data/raw/education/ACSST5Y2019.S1501-Data.csv')\n",
    "edu_2018=pd.read_csv('../data/raw/education/ACSST5Y2018.S1501-Data.csv')\n",
    "edu_2017=pd.read_csv('../data/raw/education/ACSST5Y2017.S1501-Data.csv')\n",
    "edu_2016=pd.read_csv('../data/raw/education/ACSST5Y2016.S1501-Data.csv')\n",
    "edu_2015=pd.read_csv('../data/raw/education/ACSST5Y2015.S1501-Data.csv')\n",
    "edu_2014=pd.read_csv('../data/raw/education/ACSST5Y2014.S1501-Data.csv')\n",
    "edu_2013=pd.read_csv('../data/raw/education/ACSST5Y2013.S1501-Data.csv')\n",
    "edu_2012=pd.read_csv('../data/raw/education/ACSST5Y2012.S1501-Data.csv')\n",
    "edu_2011=pd.read_csv('../data/raw/education/ACSST5Y2011.S1501-Data.csv')\n",
    "edu_2010=pd.read_csv('../data/raw/education/ACSST5Y2010.S1501-Data.csv')\n",
    "\n",
    "#Save all dataframes into a list\n",
    "edu_all=[edu_2021,edu_2020,edu_2019,edu_2018,edu_2017,edu_2016,edu_2015,edu_2014,edu_2013,edu_2012,edu_2011,edu_2010]\n",
    "\n",
    "edu_backup=edu_all.copy()"
   ]
  },
  {
   "cell_type": "code",
   "execution_count": 8,
   "metadata": {},
   "outputs": [
    {
     "name": "stdout",
     "output_type": "stream",
     "text": [
      "Shape of one dataframe is (1333, 1539)\n"
     ]
    }
   ],
   "source": [
    "print(f'Shape of one dataframe is {edu_2021.shape}')"
   ]
  },
  {
   "attachments": {},
   "cell_type": "markdown",
   "metadata": {},
   "source": [
    "***\n",
    "* [ ] First Step : Feature Selection"
   ]
  },
  {
   "cell_type": "code",
   "execution_count": 19,
   "metadata": {},
   "outputs": [],
   "source": [
    "#List of columns that are of interest for this investigation\n",
    "edu_col_di_extra={'Census_Tract':'Census_Tract','S1501_C01_006E':'Population_over_25','S1501_C01_014E': 'High_school_plus_over_25',\n",
    "            'S1501_C01_015E':'Bachelors_plus_over_25','S1501_C01_059E':'Median_earnings'}"
   ]
  },
  {
   "cell_type": "code",
   "execution_count": null,
   "metadata": {},
   "outputs": [],
   "source": []
  },
  {
   "cell_type": "code",
   "execution_count": null,
   "metadata": {},
   "outputs": [],
   "source": []
  },
  {
   "cell_type": "code",
   "execution_count": null,
   "metadata": {},
   "outputs": [],
   "source": []
  },
  {
   "cell_type": "code",
   "execution_count": 21,
   "metadata": {},
   "outputs": [
    {
     "ename": "KeyError",
     "evalue": "'GEO_ID'",
     "output_type": "error",
     "traceback": [
      "\u001b[1;31m---------------------------------------------------------------------------\u001b[0m",
      "\u001b[1;31mKeyError\u001b[0m                                  Traceback (most recent call last)",
      "\u001b[1;32mc:\\Users\\44742\\anaconda3\\lib\\site-packages\\pandas\\core\\indexes\\base.py\u001b[0m in \u001b[0;36mget_loc\u001b[1;34m(self, key, method, tolerance)\u001b[0m\n\u001b[0;32m   3628\u001b[0m             \u001b[1;32mtry\u001b[0m\u001b[1;33m:\u001b[0m\u001b[1;33m\u001b[0m\u001b[1;33m\u001b[0m\u001b[0m\n\u001b[1;32m-> 3629\u001b[1;33m                 \u001b[1;32mreturn\u001b[0m \u001b[0mself\u001b[0m\u001b[1;33m.\u001b[0m\u001b[0m_engine\u001b[0m\u001b[1;33m.\u001b[0m\u001b[0mget_loc\u001b[0m\u001b[1;33m(\u001b[0m\u001b[0mcasted_key\u001b[0m\u001b[1;33m)\u001b[0m\u001b[1;33m\u001b[0m\u001b[1;33m\u001b[0m\u001b[0m\n\u001b[0m\u001b[0;32m   3630\u001b[0m             \u001b[1;32mexcept\u001b[0m \u001b[0mKeyError\u001b[0m \u001b[1;32mas\u001b[0m \u001b[0merr\u001b[0m\u001b[1;33m:\u001b[0m\u001b[1;33m\u001b[0m\u001b[1;33m\u001b[0m\u001b[0m\n",
      "\u001b[1;32mc:\\Users\\44742\\anaconda3\\lib\\site-packages\\pandas\\_libs\\index.pyx\u001b[0m in \u001b[0;36mpandas._libs.index.IndexEngine.get_loc\u001b[1;34m()\u001b[0m\n",
      "\u001b[1;32mc:\\Users\\44742\\anaconda3\\lib\\site-packages\\pandas\\_libs\\index.pyx\u001b[0m in \u001b[0;36mpandas._libs.index.IndexEngine.get_loc\u001b[1;34m()\u001b[0m\n",
      "\u001b[1;32mpandas\\_libs\\hashtable_class_helper.pxi\u001b[0m in \u001b[0;36mpandas._libs.hashtable.PyObjectHashTable.get_item\u001b[1;34m()\u001b[0m\n",
      "\u001b[1;32mpandas\\_libs\\hashtable_class_helper.pxi\u001b[0m in \u001b[0;36mpandas._libs.hashtable.PyObjectHashTable.get_item\u001b[1;34m()\u001b[0m\n",
      "\u001b[1;31mKeyError\u001b[0m: 'GEO_ID'",
      "\nThe above exception was the direct cause of the following exception:\n",
      "\u001b[1;31mKeyError\u001b[0m                                  Traceback (most recent call last)",
      "\u001b[1;32m~\\AppData\\Local\\Temp\\ipykernel_101332\\3715847104.py\u001b[0m in \u001b[0;36m<module>\u001b[1;34m\u001b[0m\n\u001b[0;32m      1\u001b[0m \u001b[1;32mfor\u001b[0m \u001b[0medu\u001b[0m \u001b[1;32min\u001b[0m \u001b[0medu_all\u001b[0m\u001b[1;33m:\u001b[0m\u001b[1;33m\u001b[0m\u001b[1;33m\u001b[0m\u001b[0m\n\u001b[1;32m----> 2\u001b[1;33m     \u001b[0medu\u001b[0m\u001b[1;33m[\u001b[0m\u001b[1;34m'GEO_ID'\u001b[0m\u001b[1;33m]\u001b[0m\u001b[1;33m=\u001b[0m\u001b[0medu\u001b[0m\u001b[1;33m[\u001b[0m\u001b[1;34m'GEO_ID'\u001b[0m\u001b[1;33m]\u001b[0m\u001b[1;33m.\u001b[0m\u001b[0mstr\u001b[0m\u001b[1;33m[\u001b[0m\u001b[1;33m-\u001b[0m\u001b[1;36m6\u001b[0m\u001b[1;33m:\u001b[0m\u001b[1;33m]\u001b[0m\u001b[1;33m\u001b[0m\u001b[1;33m\u001b[0m\u001b[0m\n\u001b[0m\u001b[0;32m      3\u001b[0m     \u001b[0medu\u001b[0m\u001b[1;33m.\u001b[0m\u001b[0mrename\u001b[0m\u001b[1;33m(\u001b[0m\u001b[0mcolumns\u001b[0m\u001b[1;33m=\u001b[0m\u001b[1;33m{\u001b[0m\u001b[1;34m'GEO_ID'\u001b[0m\u001b[1;33m:\u001b[0m\u001b[1;34m'Census_Tract'\u001b[0m\u001b[1;33m}\u001b[0m\u001b[1;33m,\u001b[0m\u001b[0minplace\u001b[0m\u001b[1;33m=\u001b[0m\u001b[1;32mTrue\u001b[0m\u001b[1;33m)\u001b[0m\u001b[1;33m\u001b[0m\u001b[1;33m\u001b[0m\u001b[0m\n\u001b[0;32m      4\u001b[0m \u001b[1;33m\u001b[0m\u001b[0m\n\u001b[0;32m      5\u001b[0m \u001b[1;33m\u001b[0m\u001b[0m\n",
      "\u001b[1;32mc:\\Users\\44742\\anaconda3\\lib\\site-packages\\pandas\\core\\frame.py\u001b[0m in \u001b[0;36m__getitem__\u001b[1;34m(self, key)\u001b[0m\n\u001b[0;32m   3503\u001b[0m             \u001b[1;32mif\u001b[0m \u001b[0mself\u001b[0m\u001b[1;33m.\u001b[0m\u001b[0mcolumns\u001b[0m\u001b[1;33m.\u001b[0m\u001b[0mnlevels\u001b[0m \u001b[1;33m>\u001b[0m \u001b[1;36m1\u001b[0m\u001b[1;33m:\u001b[0m\u001b[1;33m\u001b[0m\u001b[1;33m\u001b[0m\u001b[0m\n\u001b[0;32m   3504\u001b[0m                 \u001b[1;32mreturn\u001b[0m \u001b[0mself\u001b[0m\u001b[1;33m.\u001b[0m\u001b[0m_getitem_multilevel\u001b[0m\u001b[1;33m(\u001b[0m\u001b[0mkey\u001b[0m\u001b[1;33m)\u001b[0m\u001b[1;33m\u001b[0m\u001b[1;33m\u001b[0m\u001b[0m\n\u001b[1;32m-> 3505\u001b[1;33m             \u001b[0mindexer\u001b[0m \u001b[1;33m=\u001b[0m \u001b[0mself\u001b[0m\u001b[1;33m.\u001b[0m\u001b[0mcolumns\u001b[0m\u001b[1;33m.\u001b[0m\u001b[0mget_loc\u001b[0m\u001b[1;33m(\u001b[0m\u001b[0mkey\u001b[0m\u001b[1;33m)\u001b[0m\u001b[1;33m\u001b[0m\u001b[1;33m\u001b[0m\u001b[0m\n\u001b[0m\u001b[0;32m   3506\u001b[0m             \u001b[1;32mif\u001b[0m \u001b[0mis_integer\u001b[0m\u001b[1;33m(\u001b[0m\u001b[0mindexer\u001b[0m\u001b[1;33m)\u001b[0m\u001b[1;33m:\u001b[0m\u001b[1;33m\u001b[0m\u001b[1;33m\u001b[0m\u001b[0m\n\u001b[0;32m   3507\u001b[0m                 \u001b[0mindexer\u001b[0m \u001b[1;33m=\u001b[0m \u001b[1;33m[\u001b[0m\u001b[0mindexer\u001b[0m\u001b[1;33m]\u001b[0m\u001b[1;33m\u001b[0m\u001b[1;33m\u001b[0m\u001b[0m\n",
      "\u001b[1;32mc:\\Users\\44742\\anaconda3\\lib\\site-packages\\pandas\\core\\indexes\\base.py\u001b[0m in \u001b[0;36mget_loc\u001b[1;34m(self, key, method, tolerance)\u001b[0m\n\u001b[0;32m   3629\u001b[0m                 \u001b[1;32mreturn\u001b[0m \u001b[0mself\u001b[0m\u001b[1;33m.\u001b[0m\u001b[0m_engine\u001b[0m\u001b[1;33m.\u001b[0m\u001b[0mget_loc\u001b[0m\u001b[1;33m(\u001b[0m\u001b[0mcasted_key\u001b[0m\u001b[1;33m)\u001b[0m\u001b[1;33m\u001b[0m\u001b[1;33m\u001b[0m\u001b[0m\n\u001b[0;32m   3630\u001b[0m             \u001b[1;32mexcept\u001b[0m \u001b[0mKeyError\u001b[0m \u001b[1;32mas\u001b[0m \u001b[0merr\u001b[0m\u001b[1;33m:\u001b[0m\u001b[1;33m\u001b[0m\u001b[1;33m\u001b[0m\u001b[0m\n\u001b[1;32m-> 3631\u001b[1;33m                 \u001b[1;32mraise\u001b[0m \u001b[0mKeyError\u001b[0m\u001b[1;33m(\u001b[0m\u001b[0mkey\u001b[0m\u001b[1;33m)\u001b[0m \u001b[1;32mfrom\u001b[0m \u001b[0merr\u001b[0m\u001b[1;33m\u001b[0m\u001b[1;33m\u001b[0m\u001b[0m\n\u001b[0m\u001b[0;32m   3632\u001b[0m             \u001b[1;32mexcept\u001b[0m \u001b[0mTypeError\u001b[0m\u001b[1;33m:\u001b[0m\u001b[1;33m\u001b[0m\u001b[1;33m\u001b[0m\u001b[0m\n\u001b[0;32m   3633\u001b[0m                 \u001b[1;31m# If we have a listlike key, _check_indexing_error will raise\u001b[0m\u001b[1;33m\u001b[0m\u001b[1;33m\u001b[0m\u001b[0m\n",
      "\u001b[1;31mKeyError\u001b[0m: 'GEO_ID'"
     ]
    }
   ],
   "source": [
    "for edu in edu_all:\n",
    "    edu['GEO_ID']=edu['GEO_ID'].str[-6:]\n",
    "    edu.rename(columns={'GEO_ID':'Census_Tract'},inplace=True)"
   ]
  },
  {
   "cell_type": "code",
   "execution_count": 22,
   "metadata": {},
   "outputs": [],
   "source": [
    "#List of columns that are of interest for this investigation\n",
    "edu_col_di_extra={'Census_Tract':'Census_Tract','S1501_C01_006E':'Population_over_25','S1501_C01_014E': 'High_school_plus_over_25',\n",
    "            'S1501_C01_015E':'Bachelors_plus_over_25','S1501_C01_059E':'Median_earnings'}\n",
    "\n",
    "edu_all[7:]=[edu.rename(columns={'S1501_C01_032E':'S1501_C01_059E'}) for edu in edu_all[7:]]\n",
    "\n",
    "#edu_col_di={'Census_Tract':'Census_Tract','S1501_C01_059E':'Median_earnings'}"
   ]
  },
  {
   "cell_type": "code",
   "execution_count": 24,
   "metadata": {},
   "outputs": [],
   "source": [
    "def column_selector(df):\n",
    "\n",
    "    #remove first row\n",
    "    df=df.iloc[1:,:]\n",
    "\n",
    "    df_temp=df[edu_col_di_extra.keys()]\n",
    "    df_temp=df_temp.rename(columns=edu_col_di_extra)\n",
    "\n",
    "    for col in list(df_temp.columns):\n",
    "        df_temp[col]=pd.to_numeric(df_temp[col], errors='coerce')\n",
    "\n",
    "    #convert to NaN if still string\n",
    "\n",
    "    return df_temp\n"
   ]
  },
  {
   "cell_type": "code",
   "execution_count": 25,
   "metadata": {},
   "outputs": [],
   "source": [
    "edu_all_temp=[column_selector(df) for df in edu_all]"
   ]
  },
  {
   "attachments": {},
   "cell_type": "markdown",
   "metadata": {},
   "source": [
    "***"
   ]
  },
  {
   "attachments": {},
   "cell_type": "markdown",
   "metadata": {},
   "source": [
    "**Let's import the dataframes to convert census tract formats (created in PERMITS_CENSUS_TRACTS)**"
   ]
  },
  {
   "attachments": {},
   "cell_type": "markdown",
   "metadata": {},
   "source": [
    "***Part 1 Conversion DF***"
   ]
  },
  {
   "cell_type": "code",
   "execution_count": 396,
   "metadata": {},
   "outputs": [],
   "source": [
    "#Import Part 1 Census Tract Dictionary \n",
    "census_tract_map=pd.read_csv(\"../data/interim/di_part1.csv\").astype('int32')\n",
    "\n",
    "census_tract_map.head();\n",
    "\n",
    "census_tract_di={row['REF']:row['Census_Tract_Match'] for i,row in census_tract_map.iterrows()}"
   ]
  },
  {
   "attachments": {},
   "cell_type": "markdown",
   "metadata": {},
   "source": [
    "**Further Actions**:\n",
    "- [ ] Extract all Census Tract Numbers for Education Census Data\n",
    "- [ ] Compare to the Census Tract Numbers from Permit\n",
    "- [ ] Check if there is Education Data input for each tract from the Permit list\n",
    "- [ ] Then filter the Education data census tracts to only include the ones we need"
   ]
  },
  {
   "cell_type": "code",
   "execution_count": 397,
   "metadata": {},
   "outputs": [
    {
     "name": "stdout",
     "output_type": "stream",
     "text": [
      "The following tracts are still missing - []\n",
      "\n",
      "\n",
      "mathces between all edu & permits\n",
      "809\n",
      "809\n"
     ]
    }
   ],
   "source": [
    "#list of all census tract numbers from Education\n",
    "edu_tracts_li=[]\n",
    "for edu in edu_all:\n",
    "    for item in list(edu['Census_Tract'])[1:]:\n",
    "        edu_tracts_li.append(int(item))\n",
    "\n",
    "# selecting the distinct tract numbers\n",
    "edu_tracts_li=list(set(edu_tracts_li))\n",
    "\n",
    "\n",
    "\n",
    "#tract numbers from Permit Dataset\n",
    "permit_tracts=[i for i in pd.read_csv('../data/interim/list.csv',names=['Tracts']).astype(int)['Tracts']]\n",
    "\n",
    "missing=[i for i in permit_tracts if i not in edu_tracts_li]\n",
    "print(f'The following tracts are still missing - {missing}')\n",
    "\n",
    "present=[i for i in edu_tracts_li if i in permit_tracts]\n",
    "\n",
    "print('\\n')\n",
    "print('mathces between all edu & permits')\n",
    "print(f\"{len(present)}\")\n",
    "print(f\"{len(permit_tracts)}\")"
   ]
  },
  {
   "attachments": {},
   "cell_type": "markdown",
   "metadata": {},
   "source": [
    "Check for each year how many census tracts are present\n",
    "- [ ] Loop through each df\n",
    "- [ ] Extract a list of census tract - in the format ('edu_tracts=[int(i) for i in list(edu['Census_Tract'])[1:]]')\n",
    "- [ ] Check for portion of present - in the format (Check for the present=[i for i in edu_tracts if i in permit_tracts])\n",
    "- [ ] Save as tuples in a new list"
   ]
  },
  {
   "cell_type": "code",
   "execution_count": 398,
   "metadata": {},
   "outputs": [
    {
     "data": {
      "text/plain": [
       "[(2021, 809),\n",
       " (2020, 809),\n",
       " (2019, 797),\n",
       " (2018, 797),\n",
       " (2017, 797),\n",
       " (2016, 797),\n",
       " (2015, 797),\n",
       " (2014, 797),\n",
       " (2013, 797),\n",
       " (2012, 797),\n",
       " (2011, 797),\n",
       " (2010, 797)]"
      ]
     },
     "execution_count": 398,
     "metadata": {},
     "output_type": "execute_result"
    }
   ],
   "source": [
    "num_of_present=[]\n",
    "year=2021\n",
    "for edu in edu_all:\n",
    "    edu_tracts=[int(i) for i in list(edu['Census_Tract'])[1:]]\n",
    "    present=len([i for i in permit_tracts if i in edu_tracts])\n",
    "    #checking how many of the education tracts are also in permit_tracrs\n",
    "    num_of_present.append((year, present))\n",
    "    year-=1\n",
    "\n",
    "num_of_present"
   ]
  },
  {
   "attachments": {},
   "cell_type": "markdown",
   "metadata": {},
   "source": [
    "Why could the new tracts be created?"
   ]
  },
  {
   "cell_type": "code",
   "execution_count": 399,
   "metadata": {},
   "outputs": [],
   "source": [
    "edu_tracts_2020=set([int(i) for i in list(edu_2020['Census_Tract'])[1:]])\n",
    "\n",
    "edu_tracts_2019=set([int(i) for i in list(edu_2019['Census_Tract'])[1:]])\n",
    "\n",
    "permit_tracts=set(permit_tracts)"
   ]
  },
  {
   "cell_type": "code",
   "execution_count": 400,
   "metadata": {},
   "outputs": [
    {
     "name": "stdout",
     "output_type": "stream",
     "text": [
      "{460800, 320101, 320102, 630600, 612200, 380600, 490200, 330101, 330102, 330103, 844600, 844700}\n"
     ]
    }
   ],
   "source": [
    "#new 2020 tracts (tracts present in permits dataframe that were only added in 2020)\n",
    "new_tracts_missing=((edu_tracts_2020).symmetric_difference(edu_tracts_2019)).intersection(permit_tracts)\n",
    "print(new_tracts_missing)"
   ]
  },
  {
   "cell_type": "code",
   "execution_count": 16,
   "metadata": {},
   "outputs": [],
   "source": [
    "#CONVERT OLD TO NEW\n",
    "tract_changes_2020={\n",
    "            #new_to_old\n",
    "            '320101':'320100','320102':'320100',\n",
    "            '330101':'330100','330102':'330100','330103':'330100',\n",
    "            #old_to_new\n",
    "            '835900':'380600','380700':'380600',\n",
    "            '490300':'490200','490400':'490200',\n",
    "            '460700':'460800','460600':'460800',\n",
    "            '611000':'612200','611100':'612200',\n",
    "            '630200':'630600','630100':'630600',\n",
    "            '380700':'844600','835700':'844600',\n",
    "            '841400':'844700','841600':'844700'}"
   ]
  },
  {
   "cell_type": "code",
   "execution_count": 402,
   "metadata": {},
   "outputs": [],
   "source": [
    "#let's also update the permit tracts\n",
    "permit_tracts_li=[]\n",
    "for tract in permit_tracts:\n",
    "    if tract in [int(i) for i in tract_changes_2020.keys()]:\n",
    "        permit_tracts_li.append(tract_changes_2020[str(tract)])\n",
    "    else:\n",
    "        permit_tracts_li.append(tract)"
   ]
  },
  {
   "cell_type": "code",
   "execution_count": 17,
   "metadata": {},
   "outputs": [
    {
     "data": {
      "text/plain": [
       "['../data/interim/tract_changes_2020.pkl']"
      ]
     },
     "execution_count": 17,
     "metadata": {},
     "output_type": "execute_result"
    }
   ],
   "source": [
    "joblib.dump(tract_changes_2020, '../data/interim/tract_changes_2020.pkl')\n",
    "#di_test=joblib.load('../data/interim/tract_changes_2020.pkl')"
   ]
  },
  {
   "cell_type": "code",
   "execution_count": 421,
   "metadata": {},
   "outputs": [
    {
     "data": {
      "text/html": [
       "<div>\n",
       "<style scoped>\n",
       "    .dataframe tbody tr th:only-of-type {\n",
       "        vertical-align: middle;\n",
       "    }\n",
       "\n",
       "    .dataframe tbody tr th {\n",
       "        vertical-align: top;\n",
       "    }\n",
       "\n",
       "    .dataframe thead th {\n",
       "        text-align: right;\n",
       "    }\n",
       "</style>\n",
       "<table border=\"1\" class=\"dataframe\">\n",
       "  <thead>\n",
       "    <tr style=\"text-align: right;\">\n",
       "      <th></th>\n",
       "      <th>Census_Tract</th>\n",
       "      <th>Population_over_25</th>\n",
       "      <th>High_school_plus_over_25</th>\n",
       "      <th>Bachelors_plus_over_25</th>\n",
       "      <th>Median_earnings</th>\n",
       "    </tr>\n",
       "  </thead>\n",
       "  <tbody>\n",
       "    <tr>\n",
       "      <th>1</th>\n",
       "      <td>10100</td>\n",
       "      <td>3443</td>\n",
       "      <td>2948</td>\n",
       "      <td>1725</td>\n",
       "      <td>41424.0</td>\n",
       "    </tr>\n",
       "    <tr>\n",
       "      <th>2</th>\n",
       "      <td>10201</td>\n",
       "      <td>4905</td>\n",
       "      <td>4125</td>\n",
       "      <td>1700</td>\n",
       "      <td>35750.0</td>\n",
       "    </tr>\n",
       "    <tr>\n",
       "      <th>3</th>\n",
       "      <td>10202</td>\n",
       "      <td>2184</td>\n",
       "      <td>1812</td>\n",
       "      <td>790</td>\n",
       "      <td>31212.0</td>\n",
       "    </tr>\n",
       "    <tr>\n",
       "      <th>4</th>\n",
       "      <td>10300</td>\n",
       "      <td>5151</td>\n",
       "      <td>4575</td>\n",
       "      <td>2291</td>\n",
       "      <td>39812.0</td>\n",
       "    </tr>\n",
       "    <tr>\n",
       "      <th>5</th>\n",
       "      <td>10400</td>\n",
       "      <td>2742</td>\n",
       "      <td>2649</td>\n",
       "      <td>1643</td>\n",
       "      <td>42526.0</td>\n",
       "    </tr>\n",
       "    <tr>\n",
       "      <th>...</th>\n",
       "      <td>...</td>\n",
       "      <td>...</td>\n",
       "      <td>...</td>\n",
       "      <td>...</td>\n",
       "      <td>...</td>\n",
       "    </tr>\n",
       "    <tr>\n",
       "      <th>1328</th>\n",
       "      <td>844600</td>\n",
       "      <td>1501</td>\n",
       "      <td>1304</td>\n",
       "      <td>277</td>\n",
       "      <td>26414.0</td>\n",
       "    </tr>\n",
       "    <tr>\n",
       "      <th>1329</th>\n",
       "      <td>844700</td>\n",
       "      <td>972</td>\n",
       "      <td>783</td>\n",
       "      <td>143</td>\n",
       "      <td>29896.0</td>\n",
       "    </tr>\n",
       "    <tr>\n",
       "      <th>1330</th>\n",
       "      <td>980000</td>\n",
       "      <td>0</td>\n",
       "      <td>0</td>\n",
       "      <td>0</td>\n",
       "      <td>NaN</td>\n",
       "    </tr>\n",
       "    <tr>\n",
       "      <th>1331</th>\n",
       "      <td>980100</td>\n",
       "      <td>0</td>\n",
       "      <td>0</td>\n",
       "      <td>0</td>\n",
       "      <td>NaN</td>\n",
       "    </tr>\n",
       "    <tr>\n",
       "      <th>1332</th>\n",
       "      <td>990000</td>\n",
       "      <td>0</td>\n",
       "      <td>0</td>\n",
       "      <td>0</td>\n",
       "      <td>NaN</td>\n",
       "    </tr>\n",
       "  </tbody>\n",
       "</table>\n",
       "<p>1332 rows × 5 columns</p>\n",
       "</div>"
      ],
      "text/plain": [
       "      Census_Tract  Population_over_25  High_school_plus_over_25  \\\n",
       "1            10100                3443                      2948   \n",
       "2            10201                4905                      4125   \n",
       "3            10202                2184                      1812   \n",
       "4            10300                5151                      4575   \n",
       "5            10400                2742                      2649   \n",
       "...            ...                 ...                       ...   \n",
       "1328        844600                1501                      1304   \n",
       "1329        844700                 972                       783   \n",
       "1330        980000                   0                         0   \n",
       "1331        980100                   0                         0   \n",
       "1332        990000                   0                         0   \n",
       "\n",
       "      Bachelors_plus_over_25  Median_earnings  \n",
       "1                       1725          41424.0  \n",
       "2                       1700          35750.0  \n",
       "3                        790          31212.0  \n",
       "4                       2291          39812.0  \n",
       "5                       1643          42526.0  \n",
       "...                      ...              ...  \n",
       "1328                     277          26414.0  \n",
       "1329                     143          29896.0  \n",
       "1330                       0              NaN  \n",
       "1331                       0              NaN  \n",
       "1332                       0              NaN  \n",
       "\n",
       "[1332 rows x 5 columns]"
      ]
     },
     "execution_count": 421,
     "metadata": {},
     "output_type": "execute_result"
    }
   ],
   "source": [
    "edu_all_temp[1]"
   ]
  },
  {
   "cell_type": "code",
   "execution_count": null,
   "metadata": {},
   "outputs": [],
   "source": [
    "#NEED TO WRITE A FUNCTION THAT WILL UPDATE THE CENSUS TRACTS & AVERAGE FOR THE SAME TRACTS\n",
    "\n",
    "def census_tract_converted(df):\n",
    "\n",
    "    df['Census_Tract']=df['Census_Tract'].replace(tract_changes_2020)\n",
    "    df=df[['Census_Tract','Median_earnings_over_25_1_year']].groupby('Census_Tract').mean().reset_index()\n",
    "\n",
    "    return df"
   ]
  },
  {
   "cell_type": "code",
   "execution_count": null,
   "metadata": {},
   "outputs": [],
   "source": []
  },
  {
   "cell_type": "code",
   "execution_count": null,
   "metadata": {},
   "outputs": [],
   "source": []
  },
  {
   "cell_type": "code",
   "execution_count": 1,
   "metadata": {},
   "outputs": [
    {
     "ename": "NameError",
     "evalue": "name 'pd' is not defined",
     "output_type": "error",
     "traceback": [
      "\u001b[1;31m---------------------------------------------------------------------------\u001b[0m",
      "\u001b[1;31mNameError\u001b[0m                                 Traceback (most recent call last)",
      "\u001b[1;32m~\\AppData\\Local\\Temp\\ipykernel_170124\\294371768.py\u001b[0m in \u001b[0;36m<module>\u001b[1;34m\u001b[0m\n\u001b[0;32m      1\u001b[0m \u001b[0myear\u001b[0m\u001b[1;33m=\u001b[0m\u001b[1;36m2021\u001b[0m\u001b[1;33m\u001b[0m\u001b[1;33m\u001b[0m\u001b[0m\n\u001b[1;32m----> 2\u001b[1;33m \u001b[0medu_combined\u001b[0m\u001b[1;33m=\u001b[0m\u001b[0mpd\u001b[0m\u001b[1;33m.\u001b[0m\u001b[0mDataFrame\u001b[0m\u001b[1;33m(\u001b[0m\u001b[1;33m)\u001b[0m\u001b[1;33m\u001b[0m\u001b[1;33m\u001b[0m\u001b[0m\n\u001b[0m\u001b[0;32m      3\u001b[0m \u001b[0medu_update\u001b[0m\u001b[1;33m=\u001b[0m\u001b[0medu_all_temp\u001b[0m\u001b[1;33m[\u001b[0m\u001b[1;36m0\u001b[0m\u001b[1;33m]\u001b[0m\u001b[1;33m\u001b[0m\u001b[1;33m\u001b[0m\u001b[0m\n\u001b[0;32m      4\u001b[0m \u001b[1;32mfor\u001b[0m \u001b[0medu\u001b[0m \u001b[1;32min\u001b[0m \u001b[0medu_all_temp\u001b[0m\u001b[1;33m[\u001b[0m\u001b[1;36m1\u001b[0m\u001b[1;33m:\u001b[0m\u001b[1;33m]\u001b[0m\u001b[1;33m:\u001b[0m\u001b[1;33m\u001b[0m\u001b[1;33m\u001b[0m\u001b[0m\n\u001b[0;32m      5\u001b[0m     \u001b[0mprint\u001b[0m\u001b[1;33m(\u001b[0m\u001b[0myear\u001b[0m\u001b[1;33m)\u001b[0m\u001b[1;33m\u001b[0m\u001b[1;33m\u001b[0m\u001b[0m\n",
      "\u001b[1;31mNameError\u001b[0m: name 'pd' is not defined"
     ]
    }
   ],
   "source": [
    "year=2021\n",
    "edu_combined=pd.DataFrame()\n",
    "edu_update=edu_all_temp[0]\n",
    "for edu in edu_all_temp[1:]:\n",
    "    print(year)\n",
    "    edu_combined=pd.merge(edu_update,edu,on='Census_Tract',how='outer',suffixes=('_'+str(year),'_'+str(year-1)))\n",
    "    edu_update=edu_combined.copy()\n",
    "    year-=1\n",
    "    #selecting earnings column"
   ]
  },
  {
   "cell_type": "code",
   "execution_count": 424,
   "metadata": {},
   "outputs": [],
   "source": [
    "edu_combined['Census_Tract']=edu_combined['Census_Tract'].replace(tract_changes_2020)"
   ]
  },
  {
   "cell_type": "code",
   "execution_count": 425,
   "metadata": {},
   "outputs": [
    {
     "data": {
      "text/html": [
       "<div>\n",
       "<style scoped>\n",
       "    .dataframe tbody tr th:only-of-type {\n",
       "        vertical-align: middle;\n",
       "    }\n",
       "\n",
       "    .dataframe tbody tr th {\n",
       "        vertical-align: top;\n",
       "    }\n",
       "\n",
       "    .dataframe thead th {\n",
       "        text-align: right;\n",
       "    }\n",
       "</style>\n",
       "<table border=\"1\" class=\"dataframe\">\n",
       "  <thead>\n",
       "    <tr style=\"text-align: right;\">\n",
       "      <th></th>\n",
       "      <th>Census_Tract</th>\n",
       "      <th>Population_over_25_2021</th>\n",
       "      <th>High_school_plus_over_25_2021</th>\n",
       "      <th>Bachelors_plus_over_25_2021</th>\n",
       "      <th>Median_earnings_2021</th>\n",
       "      <th>Population_over_25_2020</th>\n",
       "      <th>High_school_plus_over_25_2020</th>\n",
       "      <th>Bachelors_plus_over_25_2020</th>\n",
       "      <th>Median_earnings_2020</th>\n",
       "      <th>Population_over_25_2019</th>\n",
       "      <th>...</th>\n",
       "      <th>Bachelors_plus_over_25_2012</th>\n",
       "      <th>Median_earnings_2012</th>\n",
       "      <th>Population_over_25_2011</th>\n",
       "      <th>High_school_plus_over_25_2011</th>\n",
       "      <th>Bachelors_plus_over_25_2011</th>\n",
       "      <th>Median_earnings_2011</th>\n",
       "      <th>Population_over_25_2010</th>\n",
       "      <th>High_school_plus_over_25_2010</th>\n",
       "      <th>Bachelors_plus_over_25_2010</th>\n",
       "      <th>Median_earnings_2010</th>\n",
       "    </tr>\n",
       "  </thead>\n",
       "  <tbody>\n",
       "    <tr>\n",
       "      <th>0</th>\n",
       "      <td>10100</td>\n",
       "      <td>3285.0</td>\n",
       "      <td>2886.0</td>\n",
       "      <td>1678.0</td>\n",
       "      <td>43829.0</td>\n",
       "      <td>3443.0</td>\n",
       "      <td>2948.0</td>\n",
       "      <td>1725.0</td>\n",
       "      <td>41424.0</td>\n",
       "      <td>3242.0</td>\n",
       "      <td>...</td>\n",
       "      <td>29.0</td>\n",
       "      <td>30455.0</td>\n",
       "      <td>3182.0</td>\n",
       "      <td>85.6</td>\n",
       "      <td>30.0</td>\n",
       "      <td>31860.0</td>\n",
       "      <td>3175.0</td>\n",
       "      <td>82.3</td>\n",
       "      <td>35.0</td>\n",
       "      <td>32631.0</td>\n",
       "    </tr>\n",
       "    <tr>\n",
       "      <th>1</th>\n",
       "      <td>10201</td>\n",
       "      <td>4931.0</td>\n",
       "      <td>4230.0</td>\n",
       "      <td>1616.0</td>\n",
       "      <td>36176.0</td>\n",
       "      <td>4905.0</td>\n",
       "      <td>4125.0</td>\n",
       "      <td>1700.0</td>\n",
       "      <td>35750.0</td>\n",
       "      <td>5038.0</td>\n",
       "      <td>...</td>\n",
       "      <td>34.5</td>\n",
       "      <td>29688.0</td>\n",
       "      <td>4348.0</td>\n",
       "      <td>81.1</td>\n",
       "      <td>34.4</td>\n",
       "      <td>29346.0</td>\n",
       "      <td>3669.0</td>\n",
       "      <td>82.4</td>\n",
       "      <td>34.0</td>\n",
       "      <td>30931.0</td>\n",
       "    </tr>\n",
       "    <tr>\n",
       "      <th>2</th>\n",
       "      <td>10202</td>\n",
       "      <td>2178.0</td>\n",
       "      <td>1769.0</td>\n",
       "      <td>792.0</td>\n",
       "      <td>30365.0</td>\n",
       "      <td>2184.0</td>\n",
       "      <td>1812.0</td>\n",
       "      <td>790.0</td>\n",
       "      <td>31212.0</td>\n",
       "      <td>2003.0</td>\n",
       "      <td>...</td>\n",
       "      <td>34.3</td>\n",
       "      <td>27299.0</td>\n",
       "      <td>1999.0</td>\n",
       "      <td>78.1</td>\n",
       "      <td>27.1</td>\n",
       "      <td>30408.0</td>\n",
       "      <td>2125.0</td>\n",
       "      <td>76.0</td>\n",
       "      <td>23.2</td>\n",
       "      <td>30136.0</td>\n",
       "    </tr>\n",
       "    <tr>\n",
       "      <th>3</th>\n",
       "      <td>10300</td>\n",
       "      <td>5092.0</td>\n",
       "      <td>4435.0</td>\n",
       "      <td>2216.0</td>\n",
       "      <td>46552.0</td>\n",
       "      <td>5151.0</td>\n",
       "      <td>4575.0</td>\n",
       "      <td>2291.0</td>\n",
       "      <td>39812.0</td>\n",
       "      <td>5200.0</td>\n",
       "      <td>...</td>\n",
       "      <td>30.3</td>\n",
       "      <td>36772.0</td>\n",
       "      <td>4725.0</td>\n",
       "      <td>81.5</td>\n",
       "      <td>30.7</td>\n",
       "      <td>40144.0</td>\n",
       "      <td>4838.0</td>\n",
       "      <td>79.2</td>\n",
       "      <td>30.2</td>\n",
       "      <td>40259.0</td>\n",
       "    </tr>\n",
       "    <tr>\n",
       "      <th>4</th>\n",
       "      <td>10400</td>\n",
       "      <td>2510.0</td>\n",
       "      <td>2437.0</td>\n",
       "      <td>1480.0</td>\n",
       "      <td>44372.0</td>\n",
       "      <td>2742.0</td>\n",
       "      <td>2649.0</td>\n",
       "      <td>1643.0</td>\n",
       "      <td>42526.0</td>\n",
       "      <td>2649.0</td>\n",
       "      <td>...</td>\n",
       "      <td>59.3</td>\n",
       "      <td>38242.0</td>\n",
       "      <td>2675.0</td>\n",
       "      <td>90.1</td>\n",
       "      <td>52.0</td>\n",
       "      <td>41913.0</td>\n",
       "      <td>2717.0</td>\n",
       "      <td>90.1</td>\n",
       "      <td>50.2</td>\n",
       "      <td>39303.0</td>\n",
       "    </tr>\n",
       "    <tr>\n",
       "      <th>...</th>\n",
       "      <td>...</td>\n",
       "      <td>...</td>\n",
       "      <td>...</td>\n",
       "      <td>...</td>\n",
       "      <td>...</td>\n",
       "      <td>...</td>\n",
       "      <td>...</td>\n",
       "      <td>...</td>\n",
       "      <td>...</td>\n",
       "      <td>...</td>\n",
       "      <td>...</td>\n",
       "      <td>...</td>\n",
       "      <td>...</td>\n",
       "      <td>...</td>\n",
       "      <td>...</td>\n",
       "      <td>...</td>\n",
       "      <td>...</td>\n",
       "      <td>...</td>\n",
       "      <td>...</td>\n",
       "      <td>...</td>\n",
       "      <td>...</td>\n",
       "    </tr>\n",
       "    <tr>\n",
       "      <th>1358</th>\n",
       "      <td>829901</td>\n",
       "      <td>NaN</td>\n",
       "      <td>NaN</td>\n",
       "      <td>NaN</td>\n",
       "      <td>NaN</td>\n",
       "      <td>NaN</td>\n",
       "      <td>NaN</td>\n",
       "      <td>NaN</td>\n",
       "      <td>NaN</td>\n",
       "      <td>6867.0</td>\n",
       "      <td>...</td>\n",
       "      <td>34.0</td>\n",
       "      <td>44018.0</td>\n",
       "      <td>6503.0</td>\n",
       "      <td>94.9</td>\n",
       "      <td>33.4</td>\n",
       "      <td>41989.0</td>\n",
       "      <td>6304.0</td>\n",
       "      <td>94.7</td>\n",
       "      <td>28.9</td>\n",
       "      <td>40291.0</td>\n",
       "    </tr>\n",
       "    <tr>\n",
       "      <th>1359</th>\n",
       "      <td>835700</td>\n",
       "      <td>NaN</td>\n",
       "      <td>NaN</td>\n",
       "      <td>NaN</td>\n",
       "      <td>NaN</td>\n",
       "      <td>NaN</td>\n",
       "      <td>NaN</td>\n",
       "      <td>NaN</td>\n",
       "      <td>NaN</td>\n",
       "      <td>144.0</td>\n",
       "      <td>...</td>\n",
       "      <td>NaN</td>\n",
       "      <td>NaN</td>\n",
       "      <td>0.0</td>\n",
       "      <td>NaN</td>\n",
       "      <td>NaN</td>\n",
       "      <td>NaN</td>\n",
       "      <td>0.0</td>\n",
       "      <td>NaN</td>\n",
       "      <td>NaN</td>\n",
       "      <td>NaN</td>\n",
       "    </tr>\n",
       "    <tr>\n",
       "      <th>1360</th>\n",
       "      <td>835900</td>\n",
       "      <td>NaN</td>\n",
       "      <td>NaN</td>\n",
       "      <td>NaN</td>\n",
       "      <td>NaN</td>\n",
       "      <td>NaN</td>\n",
       "      <td>NaN</td>\n",
       "      <td>NaN</td>\n",
       "      <td>NaN</td>\n",
       "      <td>2167.0</td>\n",
       "      <td>...</td>\n",
       "      <td>22.2</td>\n",
       "      <td>32743.0</td>\n",
       "      <td>1997.0</td>\n",
       "      <td>73.1</td>\n",
       "      <td>22.1</td>\n",
       "      <td>33362.0</td>\n",
       "      <td>1848.0</td>\n",
       "      <td>74.7</td>\n",
       "      <td>21.4</td>\n",
       "      <td>30386.0</td>\n",
       "    </tr>\n",
       "    <tr>\n",
       "      <th>1361</th>\n",
       "      <td>841400</td>\n",
       "      <td>NaN</td>\n",
       "      <td>NaN</td>\n",
       "      <td>NaN</td>\n",
       "      <td>NaN</td>\n",
       "      <td>NaN</td>\n",
       "      <td>NaN</td>\n",
       "      <td>NaN</td>\n",
       "      <td>NaN</td>\n",
       "      <td>619.0</td>\n",
       "      <td>...</td>\n",
       "      <td>5.7</td>\n",
       "      <td>24200.0</td>\n",
       "      <td>784.0</td>\n",
       "      <td>84.6</td>\n",
       "      <td>7.9</td>\n",
       "      <td>23807.0</td>\n",
       "      <td>787.0</td>\n",
       "      <td>87.8</td>\n",
       "      <td>11.3</td>\n",
       "      <td>24777.0</td>\n",
       "    </tr>\n",
       "    <tr>\n",
       "      <th>1362</th>\n",
       "      <td>841600</td>\n",
       "      <td>NaN</td>\n",
       "      <td>NaN</td>\n",
       "      <td>NaN</td>\n",
       "      <td>NaN</td>\n",
       "      <td>NaN</td>\n",
       "      <td>NaN</td>\n",
       "      <td>NaN</td>\n",
       "      <td>NaN</td>\n",
       "      <td>417.0</td>\n",
       "      <td>...</td>\n",
       "      <td>5.6</td>\n",
       "      <td>32083.0</td>\n",
       "      <td>550.0</td>\n",
       "      <td>82.4</td>\n",
       "      <td>14.7</td>\n",
       "      <td>36328.0</td>\n",
       "      <td>512.0</td>\n",
       "      <td>73.2</td>\n",
       "      <td>14.8</td>\n",
       "      <td>42845.0</td>\n",
       "    </tr>\n",
       "  </tbody>\n",
       "</table>\n",
       "<p>1363 rows × 49 columns</p>\n",
       "</div>"
      ],
      "text/plain": [
       "      Census_Tract  Population_over_25_2021  High_school_plus_over_25_2021  \\\n",
       "0            10100                   3285.0                         2886.0   \n",
       "1            10201                   4931.0                         4230.0   \n",
       "2            10202                   2178.0                         1769.0   \n",
       "3            10300                   5092.0                         4435.0   \n",
       "4            10400                   2510.0                         2437.0   \n",
       "...            ...                      ...                            ...   \n",
       "1358        829901                      NaN                            NaN   \n",
       "1359        835700                      NaN                            NaN   \n",
       "1360        835900                      NaN                            NaN   \n",
       "1361        841400                      NaN                            NaN   \n",
       "1362        841600                      NaN                            NaN   \n",
       "\n",
       "      Bachelors_plus_over_25_2021  Median_earnings_2021  \\\n",
       "0                          1678.0               43829.0   \n",
       "1                          1616.0               36176.0   \n",
       "2                           792.0               30365.0   \n",
       "3                          2216.0               46552.0   \n",
       "4                          1480.0               44372.0   \n",
       "...                           ...                   ...   \n",
       "1358                          NaN                   NaN   \n",
       "1359                          NaN                   NaN   \n",
       "1360                          NaN                   NaN   \n",
       "1361                          NaN                   NaN   \n",
       "1362                          NaN                   NaN   \n",
       "\n",
       "      Population_over_25_2020  High_school_plus_over_25_2020  \\\n",
       "0                      3443.0                         2948.0   \n",
       "1                      4905.0                         4125.0   \n",
       "2                      2184.0                         1812.0   \n",
       "3                      5151.0                         4575.0   \n",
       "4                      2742.0                         2649.0   \n",
       "...                       ...                            ...   \n",
       "1358                      NaN                            NaN   \n",
       "1359                      NaN                            NaN   \n",
       "1360                      NaN                            NaN   \n",
       "1361                      NaN                            NaN   \n",
       "1362                      NaN                            NaN   \n",
       "\n",
       "      Bachelors_plus_over_25_2020  Median_earnings_2020  \\\n",
       "0                          1725.0               41424.0   \n",
       "1                          1700.0               35750.0   \n",
       "2                           790.0               31212.0   \n",
       "3                          2291.0               39812.0   \n",
       "4                          1643.0               42526.0   \n",
       "...                           ...                   ...   \n",
       "1358                          NaN                   NaN   \n",
       "1359                          NaN                   NaN   \n",
       "1360                          NaN                   NaN   \n",
       "1361                          NaN                   NaN   \n",
       "1362                          NaN                   NaN   \n",
       "\n",
       "      Population_over_25_2019  ...  Bachelors_plus_over_25_2012  \\\n",
       "0                      3242.0  ...                         29.0   \n",
       "1                      5038.0  ...                         34.5   \n",
       "2                      2003.0  ...                         34.3   \n",
       "3                      5200.0  ...                         30.3   \n",
       "4                      2649.0  ...                         59.3   \n",
       "...                       ...  ...                          ...   \n",
       "1358                   6867.0  ...                         34.0   \n",
       "1359                    144.0  ...                          NaN   \n",
       "1360                   2167.0  ...                         22.2   \n",
       "1361                    619.0  ...                          5.7   \n",
       "1362                    417.0  ...                          5.6   \n",
       "\n",
       "      Median_earnings_2012  Population_over_25_2011  \\\n",
       "0                  30455.0                   3182.0   \n",
       "1                  29688.0                   4348.0   \n",
       "2                  27299.0                   1999.0   \n",
       "3                  36772.0                   4725.0   \n",
       "4                  38242.0                   2675.0   \n",
       "...                    ...                      ...   \n",
       "1358               44018.0                   6503.0   \n",
       "1359                   NaN                      0.0   \n",
       "1360               32743.0                   1997.0   \n",
       "1361               24200.0                    784.0   \n",
       "1362               32083.0                    550.0   \n",
       "\n",
       "      High_school_plus_over_25_2011  Bachelors_plus_over_25_2011  \\\n",
       "0                              85.6                         30.0   \n",
       "1                              81.1                         34.4   \n",
       "2                              78.1                         27.1   \n",
       "3                              81.5                         30.7   \n",
       "4                              90.1                         52.0   \n",
       "...                             ...                          ...   \n",
       "1358                           94.9                         33.4   \n",
       "1359                            NaN                          NaN   \n",
       "1360                           73.1                         22.1   \n",
       "1361                           84.6                          7.9   \n",
       "1362                           82.4                         14.7   \n",
       "\n",
       "      Median_earnings_2011  Population_over_25_2010  \\\n",
       "0                  31860.0                   3175.0   \n",
       "1                  29346.0                   3669.0   \n",
       "2                  30408.0                   2125.0   \n",
       "3                  40144.0                   4838.0   \n",
       "4                  41913.0                   2717.0   \n",
       "...                    ...                      ...   \n",
       "1358               41989.0                   6304.0   \n",
       "1359                   NaN                      0.0   \n",
       "1360               33362.0                   1848.0   \n",
       "1361               23807.0                    787.0   \n",
       "1362               36328.0                    512.0   \n",
       "\n",
       "      High_school_plus_over_25_2010  Bachelors_plus_over_25_2010  \\\n",
       "0                              82.3                         35.0   \n",
       "1                              82.4                         34.0   \n",
       "2                              76.0                         23.2   \n",
       "3                              79.2                         30.2   \n",
       "4                              90.1                         50.2   \n",
       "...                             ...                          ...   \n",
       "1358                           94.7                         28.9   \n",
       "1359                            NaN                          NaN   \n",
       "1360                           74.7                         21.4   \n",
       "1361                           87.8                         11.3   \n",
       "1362                           73.2                         14.8   \n",
       "\n",
       "      Median_earnings_2010  \n",
       "0                  32631.0  \n",
       "1                  30931.0  \n",
       "2                  30136.0  \n",
       "3                  40259.0  \n",
       "4                  39303.0  \n",
       "...                    ...  \n",
       "1358               40291.0  \n",
       "1359                   NaN  \n",
       "1360               30386.0  \n",
       "1361               24777.0  \n",
       "1362               42845.0  \n",
       "\n",
       "[1363 rows x 49 columns]"
      ]
     },
     "execution_count": 425,
     "metadata": {},
     "output_type": "execute_result"
    }
   ],
   "source": [
    "edu_combined"
   ]
  },
  {
   "cell_type": "code",
   "execution_count": 426,
   "metadata": {},
   "outputs": [],
   "source": [
    "edu_combined=edu_combined.groupby('Census_Tract').mean().reset_index()"
   ]
  },
  {
   "cell_type": "code",
   "execution_count": 427,
   "metadata": {},
   "outputs": [],
   "source": [
    "edu_combined=edu_combined[edu_combined['Census_Tract'].isin(permit_tracts_li)].reset_index(drop=True)"
   ]
  },
  {
   "cell_type": "code",
   "execution_count": 430,
   "metadata": {},
   "outputs": [],
   "source": [
    "import re"
   ]
  },
  {
   "cell_type": "code",
   "execution_count": 432,
   "metadata": {},
   "outputs": [],
   "source": [
    "edu_combined=edu_combined.replace(0,np.NaN)"
   ]
  },
  {
   "cell_type": "code",
   "execution_count": 433,
   "metadata": {},
   "outputs": [
    {
     "data": {
      "text/plain": [
       "Census_Tract                       0\n",
       "Population_over_25_2021            3\n",
       "High_school_plus_over_25_2021      3\n",
       "Bachelors_plus_over_25_2021        3\n",
       "Median_earnings_2021               8\n",
       "Population_over_25_2020            3\n",
       "High_school_plus_over_25_2020      3\n",
       "Bachelors_plus_over_25_2020        3\n",
       "Median_earnings_2020               7\n",
       "Population_over_25_2019           10\n",
       "High_school_plus_over_25_2019     10\n",
       "Bachelors_plus_over_25_2019       10\n",
       "Median_earnings_2019              10\n",
       "Population_over_25_2018           10\n",
       "High_school_plus_over_25_2018     10\n",
       "Bachelors_plus_over_25_2018       10\n",
       "Median_earnings_2018              10\n",
       "Population_over_25_2017           10\n",
       "High_school_plus_over_25_2017    804\n",
       "Bachelors_plus_over_25_2017      804\n",
       "Median_earnings_2017              10\n",
       "Population_over_25_2016           10\n",
       "High_school_plus_over_25_2016    804\n",
       "Bachelors_plus_over_25_2016      804\n",
       "Median_earnings_2016              10\n",
       "Population_over_25_2015           10\n",
       "High_school_plus_over_25_2015    804\n",
       "Bachelors_plus_over_25_2015      804\n",
       "Median_earnings_2015             653\n",
       "Population_over_25_2014           10\n",
       "High_school_plus_over_25_2014     10\n",
       "Bachelors_plus_over_25_2014       10\n",
       "Median_earnings_2014              10\n",
       "Population_over_25_2013           10\n",
       "High_school_plus_over_25_2013     10\n",
       "Bachelors_plus_over_25_2013       10\n",
       "Median_earnings_2013              10\n",
       "Population_over_25_2012           10\n",
       "High_school_plus_over_25_2012     10\n",
       "Bachelors_plus_over_25_2012       10\n",
       "Median_earnings_2012              10\n",
       "Population_over_25_2011           10\n",
       "High_school_plus_over_25_2011     10\n",
       "Bachelors_plus_over_25_2011       11\n",
       "Median_earnings_2011              10\n",
       "Population_over_25_2010           10\n",
       "High_school_plus_over_25_2010     10\n",
       "Bachelors_plus_over_25_2010       17\n",
       "Median_earnings_2010              11\n",
       "dtype: int64"
      ]
     },
     "execution_count": 433,
     "metadata": {},
     "output_type": "execute_result"
    }
   ],
   "source": [
    "edu_combined.isna().sum()"
   ]
  },
  {
   "cell_type": "code",
   "execution_count": 463,
   "metadata": {},
   "outputs": [],
   "source": [
    "\n",
    "edu_earnings=edu_combined.loc[:,[bool(re.search(r'^Median',col)) for col in edu_combined.columns]]"
   ]
  },
  {
   "cell_type": "code",
   "execution_count": 465,
   "metadata": {},
   "outputs": [],
   "source": [
    "edu_earnings=pd.concat([edu_combined['Census_Tract'],edu_earnings],axis=1)"
   ]
  },
  {
   "cell_type": "code",
   "execution_count": 468,
   "metadata": {},
   "outputs": [
    {
     "data": {
      "text/plain": [
       "Census_Tract              0\n",
       "Median_earnings_2021      8\n",
       "Median_earnings_2020      7\n",
       "Median_earnings_2019     10\n",
       "Median_earnings_2018     10\n",
       "Median_earnings_2017     10\n",
       "Median_earnings_2016     10\n",
       "Median_earnings_2015    653\n",
       "Median_earnings_2014     10\n",
       "Median_earnings_2013     10\n",
       "Median_earnings_2012     10\n",
       "Median_earnings_2011     10\n",
       "Median_earnings_2010     11\n",
       "dtype: int64"
      ]
     },
     "execution_count": 468,
     "metadata": {},
     "output_type": "execute_result"
    }
   ],
   "source": [
    "edu_earnings.isna().sum()"
   ]
  },
  {
   "cell_type": "code",
   "execution_count": 500,
   "metadata": {},
   "outputs": [],
   "source": [
    "edu_earnings['Median_earnings_2015']=edu_earnings['Median_earnings_2015'].apply((lambda x: np.mean(edu_earnings[['Median_earnings_2016','Median_earnings_2014']],axis=1) if x!=np.NaN else x)).iloc[0,:]"
   ]
  },
  {
   "cell_type": "code",
   "execution_count": 501,
   "metadata": {},
   "outputs": [],
   "source": [
    "edu_earnings.to_csv('../data/interim/edu_earnings.csv')"
   ]
  },
  {
   "cell_type": "code",
   "execution_count": null,
   "metadata": {},
   "outputs": [],
   "source": []
  }
 ],
 "metadata": {
  "kernelspec": {
   "display_name": "capstone",
   "language": "python",
   "name": "capstone"
  },
  "language_info": {
   "codemirror_mode": {
    "name": "ipython",
    "version": 3
   },
   "file_extension": ".py",
   "mimetype": "text/x-python",
   "name": "python",
   "nbconvert_exporter": "python",
   "pygments_lexer": "ipython3",
   "version": "3.9.13"
  },
  "orig_nbformat": 4,
  "vscode": {
   "interpreter": {
    "hash": "a4ccad7f4245b41ef23b14c32aed64178d0c17e4b57b15c0d4f0def3d96d0932"
   }
  }
 },
 "nbformat": 4,
 "nbformat_minor": 2
}
