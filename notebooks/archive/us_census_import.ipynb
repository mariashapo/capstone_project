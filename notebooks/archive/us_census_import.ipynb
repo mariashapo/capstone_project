{
 "cells": [
  {
   "cell_type": "code",
   "execution_count": 198,
   "metadata": {},
   "outputs": [],
   "source": [
    "import pandas as pd\n",
    "import numpy as np\n",
    "import matplotlib.pyplot as plt"
   ]
  },
  {
   "cell_type": "code",
   "execution_count": 199,
   "metadata": {},
   "outputs": [
    {
     "data": {
      "text/plain": [
       "(1333, 259)"
      ]
     },
     "execution_count": 199,
     "metadata": {},
     "output_type": "execute_result"
    }
   ],
   "source": [
    "income_2021_raw=pd.read_csv('../data/raw/ACSST5Y2021.S1901-Data.csv')\n",
    "income_2021_raw.shape"
   ]
  },
  {
   "cell_type": "code",
   "execution_count": 200,
   "metadata": {},
   "outputs": [
    {
     "data": {
      "text/plain": [
       "106"
      ]
     },
     "execution_count": 200,
     "metadata": {},
     "output_type": "execute_result"
    }
   ],
   "source": [
    "(income_2021_raw.isna().sum()/income_2021_raw.shape[0]>0.15).sum()"
   ]
  },
  {
   "cell_type": "code",
   "execution_count": 201,
   "metadata": {},
   "outputs": [
    {
     "data": {
      "text/html": [
       "<div>\n",
       "<style scoped>\n",
       "    .dataframe tbody tr th:only-of-type {\n",
       "        vertical-align: middle;\n",
       "    }\n",
       "\n",
       "    .dataframe tbody tr th {\n",
       "        vertical-align: top;\n",
       "    }\n",
       "\n",
       "    .dataframe thead th {\n",
       "        text-align: right;\n",
       "    }\n",
       "</style>\n",
       "<table border=\"1\" class=\"dataframe\">\n",
       "  <thead>\n",
       "    <tr style=\"text-align: right;\">\n",
       "      <th></th>\n",
       "      <th>GEO_ID</th>\n",
       "      <th>NAME</th>\n",
       "      <th>S1901_C01_001E</th>\n",
       "      <th>S1901_C01_001M</th>\n",
       "      <th>S1901_C01_001MA</th>\n",
       "      <th>S1901_C01_001EA</th>\n",
       "      <th>S1901_C01_002E</th>\n",
       "      <th>S1901_C01_002M</th>\n",
       "      <th>S1901_C01_002MA</th>\n",
       "      <th>S1901_C01_002EA</th>\n",
       "      <th>...</th>\n",
       "      <th>S1901_C04_014EA</th>\n",
       "      <th>S1901_C04_015E</th>\n",
       "      <th>S1901_C04_015M</th>\n",
       "      <th>S1901_C04_015MA</th>\n",
       "      <th>S1901_C04_015EA</th>\n",
       "      <th>S1901_C04_016E</th>\n",
       "      <th>S1901_C04_016EA</th>\n",
       "      <th>S1901_C04_016M</th>\n",
       "      <th>S1901_C04_016MA</th>\n",
       "      <th>Unnamed: 258</th>\n",
       "    </tr>\n",
       "  </thead>\n",
       "  <tbody>\n",
       "    <tr>\n",
       "      <th>0</th>\n",
       "      <td>Geography</td>\n",
       "      <td>Geographic Area Name</td>\n",
       "      <td>Estimate!!Households!!Total</td>\n",
       "      <td>Margin of Error!!Households!!Total</td>\n",
       "      <td>Annotation of Margin of Error!!Households!!Total</td>\n",
       "      <td>Annotation of Estimate!!Households!!Total</td>\n",
       "      <td>Estimate!!Households!!Total!!Less than $10,000</td>\n",
       "      <td>Margin of Error!!Households!!Total!!Less than ...</td>\n",
       "      <td>Annotation of Margin of Error!!Households!!Tot...</td>\n",
       "      <td>Annotation of Estimate!!Households!!Total!!Les...</td>\n",
       "      <td>...</td>\n",
       "      <td>Annotation of Estimate!!Nonfamily households!!...</td>\n",
       "      <td>Estimate!!Nonfamily households!!PERCENT ALLOCA...</td>\n",
       "      <td>Margin of Error!!Nonfamily households!!PERCENT...</td>\n",
       "      <td>Annotation of Margin of Error!!Nonfamily house...</td>\n",
       "      <td>Annotation of Estimate!!Nonfamily households!!...</td>\n",
       "      <td>Estimate!!Nonfamily households!!PERCENT ALLOCA...</td>\n",
       "      <td>Annotation of Estimate!!Nonfamily households!!...</td>\n",
       "      <td>Margin of Error!!Nonfamily households!!PERCENT...</td>\n",
       "      <td>Annotation of Margin of Error!!Nonfamily house...</td>\n",
       "      <td>NaN</td>\n",
       "    </tr>\n",
       "    <tr>\n",
       "      <th>1</th>\n",
       "      <td>1400000US17031010100</td>\n",
       "      <td>Census Tract 101, Cook County, Illinois</td>\n",
       "      <td>2411</td>\n",
       "      <td>306</td>\n",
       "      <td>NaN</td>\n",
       "      <td>NaN</td>\n",
       "      <td>14.8</td>\n",
       "      <td>6.9</td>\n",
       "      <td>NaN</td>\n",
       "      <td>NaN</td>\n",
       "      <td>...</td>\n",
       "      <td>(X)</td>\n",
       "      <td>(X)</td>\n",
       "      <td>(X)</td>\n",
       "      <td>(X)</td>\n",
       "      <td>(X)</td>\n",
       "      <td>26.0</td>\n",
       "      <td>NaN</td>\n",
       "      <td>(X)</td>\n",
       "      <td>(X)</td>\n",
       "      <td>NaN</td>\n",
       "    </tr>\n",
       "  </tbody>\n",
       "</table>\n",
       "<p>2 rows × 259 columns</p>\n",
       "</div>"
      ],
      "text/plain": [
       "                 GEO_ID                                     NAME  \\\n",
       "0             Geography                     Geographic Area Name   \n",
       "1  1400000US17031010100  Census Tract 101, Cook County, Illinois   \n",
       "\n",
       "                S1901_C01_001E                      S1901_C01_001M  \\\n",
       "0  Estimate!!Households!!Total  Margin of Error!!Households!!Total   \n",
       "1                         2411                                 306   \n",
       "\n",
       "                                    S1901_C01_001MA  \\\n",
       "0  Annotation of Margin of Error!!Households!!Total   \n",
       "1                                               NaN   \n",
       "\n",
       "                             S1901_C01_001EA  \\\n",
       "0  Annotation of Estimate!!Households!!Total   \n",
       "1                                        NaN   \n",
       "\n",
       "                                   S1901_C01_002E  \\\n",
       "0  Estimate!!Households!!Total!!Less than $10,000   \n",
       "1                                            14.8   \n",
       "\n",
       "                                      S1901_C01_002M  \\\n",
       "0  Margin of Error!!Households!!Total!!Less than ...   \n",
       "1                                                6.9   \n",
       "\n",
       "                                     S1901_C01_002MA  \\\n",
       "0  Annotation of Margin of Error!!Households!!Tot...   \n",
       "1                                                NaN   \n",
       "\n",
       "                                     S1901_C01_002EA  ...  \\\n",
       "0  Annotation of Estimate!!Households!!Total!!Les...  ...   \n",
       "1                                                NaN  ...   \n",
       "\n",
       "                                     S1901_C04_014EA  \\\n",
       "0  Annotation of Estimate!!Nonfamily households!!...   \n",
       "1                                                (X)   \n",
       "\n",
       "                                      S1901_C04_015E  \\\n",
       "0  Estimate!!Nonfamily households!!PERCENT ALLOCA...   \n",
       "1                                                (X)   \n",
       "\n",
       "                                      S1901_C04_015M  \\\n",
       "0  Margin of Error!!Nonfamily households!!PERCENT...   \n",
       "1                                                (X)   \n",
       "\n",
       "                                     S1901_C04_015MA  \\\n",
       "0  Annotation of Margin of Error!!Nonfamily house...   \n",
       "1                                                (X)   \n",
       "\n",
       "                                     S1901_C04_015EA  \\\n",
       "0  Annotation of Estimate!!Nonfamily households!!...   \n",
       "1                                                (X)   \n",
       "\n",
       "                                      S1901_C04_016E  \\\n",
       "0  Estimate!!Nonfamily households!!PERCENT ALLOCA...   \n",
       "1                                               26.0   \n",
       "\n",
       "                                     S1901_C04_016EA  \\\n",
       "0  Annotation of Estimate!!Nonfamily households!!...   \n",
       "1                                                NaN   \n",
       "\n",
       "                                      S1901_C04_016M  \\\n",
       "0  Margin of Error!!Nonfamily households!!PERCENT...   \n",
       "1                                                (X)   \n",
       "\n",
       "                                     S1901_C04_016MA Unnamed: 258  \n",
       "0  Annotation of Margin of Error!!Nonfamily house...          NaN  \n",
       "1                                                (X)          NaN  \n",
       "\n",
       "[2 rows x 259 columns]"
      ]
     },
     "execution_count": 201,
     "metadata": {},
     "output_type": "execute_result"
    }
   ],
   "source": [
    "income_2021_raw.head(2)"
   ]
  },
  {
   "cell_type": "markdown",
   "metadata": {},
   "source": [
    "## 1. Select and clean up the columns"
   ]
  },
  {
   "cell_type": "code",
   "execution_count": 202,
   "metadata": {},
   "outputs": [
    {
     "data": {
      "text/plain": [
       "(1333, 259)"
      ]
     },
     "execution_count": 202,
     "metadata": {},
     "output_type": "execute_result"
    }
   ],
   "source": [
    "income_2021_raw.shape\n",
    "#259 columns in total"
   ]
  },
  {
   "cell_type": "code",
   "execution_count": 203,
   "metadata": {},
   "outputs": [],
   "source": [
    "income_2021_raw['S1901_C01_013E'];"
   ]
  },
  {
   "cell_type": "code",
   "execution_count": 204,
   "metadata": {},
   "outputs": [],
   "source": [
    "income_2021_wip=pd.DataFrame(data=income_2021_raw[['GEO_ID','NAME','S1901_C01_013E']])\n",
    "income_2021_wip.rename(columns={'S1901_C01_013E':'Mean_House_Income'},inplace=True)"
   ]
  },
  {
   "cell_type": "code",
   "execution_count": 205,
   "metadata": {},
   "outputs": [
    {
     "data": {
      "text/html": [
       "<div>\n",
       "<style scoped>\n",
       "    .dataframe tbody tr th:only-of-type {\n",
       "        vertical-align: middle;\n",
       "    }\n",
       "\n",
       "    .dataframe tbody tr th {\n",
       "        vertical-align: top;\n",
       "    }\n",
       "\n",
       "    .dataframe thead th {\n",
       "        text-align: right;\n",
       "    }\n",
       "</style>\n",
       "<table border=\"1\" class=\"dataframe\">\n",
       "  <thead>\n",
       "    <tr style=\"text-align: right;\">\n",
       "      <th></th>\n",
       "      <th>GEO_ID</th>\n",
       "      <th>NAME</th>\n",
       "      <th>Mean_House_Income</th>\n",
       "    </tr>\n",
       "  </thead>\n",
       "  <tbody>\n",
       "    <tr>\n",
       "      <th>0</th>\n",
       "      <td>Geography</td>\n",
       "      <td>Geographic Area Name</td>\n",
       "      <td>Estimate!!Households!!Mean income (dollars)</td>\n",
       "    </tr>\n",
       "    <tr>\n",
       "      <th>1</th>\n",
       "      <td>1400000US17031010100</td>\n",
       "      <td>Census Tract 101, Cook County, Illinois</td>\n",
       "      <td>69746</td>\n",
       "    </tr>\n",
       "    <tr>\n",
       "      <th>2</th>\n",
       "      <td>1400000US17031010201</td>\n",
       "      <td>Census Tract 102.01, Cook County, Illinois</td>\n",
       "      <td>62192</td>\n",
       "    </tr>\n",
       "    <tr>\n",
       "      <th>3</th>\n",
       "      <td>1400000US17031010202</td>\n",
       "      <td>Census Tract 102.02, Cook County, Illinois</td>\n",
       "      <td>58572</td>\n",
       "    </tr>\n",
       "    <tr>\n",
       "      <th>4</th>\n",
       "      <td>1400000US17031010300</td>\n",
       "      <td>Census Tract 103, Cook County, Illinois</td>\n",
       "      <td>71497</td>\n",
       "    </tr>\n",
       "  </tbody>\n",
       "</table>\n",
       "</div>"
      ],
      "text/plain": [
       "                 GEO_ID                                        NAME  \\\n",
       "0             Geography                        Geographic Area Name   \n",
       "1  1400000US17031010100     Census Tract 101, Cook County, Illinois   \n",
       "2  1400000US17031010201  Census Tract 102.01, Cook County, Illinois   \n",
       "3  1400000US17031010202  Census Tract 102.02, Cook County, Illinois   \n",
       "4  1400000US17031010300     Census Tract 103, Cook County, Illinois   \n",
       "\n",
       "                             Mean_House_Income  \n",
       "0  Estimate!!Households!!Mean income (dollars)  \n",
       "1                                        69746  \n",
       "2                                        62192  \n",
       "3                                        58572  \n",
       "4                                        71497  "
      ]
     },
     "execution_count": 205,
     "metadata": {},
     "output_type": "execute_result"
    }
   ],
   "source": [
    "income_2021_wip.head(5)"
   ]
  },
  {
   "cell_type": "code",
   "execution_count": 206,
   "metadata": {},
   "outputs": [
    {
     "data": {
      "text/html": [
       "<div>\n",
       "<style scoped>\n",
       "    .dataframe tbody tr th:only-of-type {\n",
       "        vertical-align: middle;\n",
       "    }\n",
       "\n",
       "    .dataframe tbody tr th {\n",
       "        vertical-align: top;\n",
       "    }\n",
       "\n",
       "    .dataframe thead th {\n",
       "        text-align: right;\n",
       "    }\n",
       "</style>\n",
       "<table border=\"1\" class=\"dataframe\">\n",
       "  <thead>\n",
       "    <tr style=\"text-align: right;\">\n",
       "      <th></th>\n",
       "      <th>GEO_ID</th>\n",
       "      <th>NAME</th>\n",
       "      <th>Mean_House_Income</th>\n",
       "      <th>Census_Tract</th>\n",
       "    </tr>\n",
       "  </thead>\n",
       "  <tbody>\n",
       "    <tr>\n",
       "      <th>1</th>\n",
       "      <td>1400000US17031010100</td>\n",
       "      <td>Census Tract 101, Cook County, Illinois</td>\n",
       "      <td>69746</td>\n",
       "      <td>010100</td>\n",
       "    </tr>\n",
       "    <tr>\n",
       "      <th>2</th>\n",
       "      <td>1400000US17031010201</td>\n",
       "      <td>Census Tract 102.01, Cook County, Illinois</td>\n",
       "      <td>62192</td>\n",
       "      <td>010201</td>\n",
       "    </tr>\n",
       "    <tr>\n",
       "      <th>3</th>\n",
       "      <td>1400000US17031010202</td>\n",
       "      <td>Census Tract 102.02, Cook County, Illinois</td>\n",
       "      <td>58572</td>\n",
       "      <td>010202</td>\n",
       "    </tr>\n",
       "    <tr>\n",
       "      <th>4</th>\n",
       "      <td>1400000US17031010300</td>\n",
       "      <td>Census Tract 103, Cook County, Illinois</td>\n",
       "      <td>71497</td>\n",
       "      <td>010300</td>\n",
       "    </tr>\n",
       "    <tr>\n",
       "      <th>5</th>\n",
       "      <td>1400000US17031010400</td>\n",
       "      <td>Census Tract 104, Cook County, Illinois</td>\n",
       "      <td>58464</td>\n",
       "      <td>010400</td>\n",
       "    </tr>\n",
       "  </tbody>\n",
       "</table>\n",
       "</div>"
      ],
      "text/plain": [
       "                 GEO_ID                                        NAME  \\\n",
       "1  1400000US17031010100     Census Tract 101, Cook County, Illinois   \n",
       "2  1400000US17031010201  Census Tract 102.01, Cook County, Illinois   \n",
       "3  1400000US17031010202  Census Tract 102.02, Cook County, Illinois   \n",
       "4  1400000US17031010300     Census Tract 103, Cook County, Illinois   \n",
       "5  1400000US17031010400     Census Tract 104, Cook County, Illinois   \n",
       "\n",
       "  Mean_House_Income Census_Tract  \n",
       "1             69746       010100  \n",
       "2             62192       010201  \n",
       "3             58572       010202  \n",
       "4             71497       010300  \n",
       "5             58464       010400  "
      ]
     },
     "execution_count": 206,
     "metadata": {},
     "output_type": "execute_result"
    }
   ],
   "source": [
    "income_2021_wip2.head(5)"
   ]
  },
  {
   "cell_type": "code",
   "execution_count": 207,
   "metadata": {},
   "outputs": [
    {
     "data": {
      "text/html": [
       "<div>\n",
       "<style scoped>\n",
       "    .dataframe tbody tr th:only-of-type {\n",
       "        vertical-align: middle;\n",
       "    }\n",
       "\n",
       "    .dataframe tbody tr th {\n",
       "        vertical-align: top;\n",
       "    }\n",
       "\n",
       "    .dataframe thead th {\n",
       "        text-align: right;\n",
       "    }\n",
       "</style>\n",
       "<table border=\"1\" class=\"dataframe\">\n",
       "  <thead>\n",
       "    <tr style=\"text-align: right;\">\n",
       "      <th></th>\n",
       "      <th>GEO_ID</th>\n",
       "      <th>NAME</th>\n",
       "      <th>Mean_House_Income</th>\n",
       "      <th>Census_Tract</th>\n",
       "    </tr>\n",
       "  </thead>\n",
       "  <tbody>\n",
       "    <tr>\n",
       "      <th>1328</th>\n",
       "      <td>1400000US17031844600</td>\n",
       "      <td>Census Tract 8446, Cook County, Illinois</td>\n",
       "      <td>69381</td>\n",
       "      <td>844600</td>\n",
       "    </tr>\n",
       "    <tr>\n",
       "      <th>1329</th>\n",
       "      <td>1400000US17031844700</td>\n",
       "      <td>Census Tract 8447, Cook County, Illinois</td>\n",
       "      <td>46398</td>\n",
       "      <td>844700</td>\n",
       "    </tr>\n",
       "    <tr>\n",
       "      <th>1330</th>\n",
       "      <td>1400000US17031980000</td>\n",
       "      <td>Census Tract 9800, Cook County, Illinois</td>\n",
       "      <td>-</td>\n",
       "      <td>980000</td>\n",
       "    </tr>\n",
       "    <tr>\n",
       "      <th>1331</th>\n",
       "      <td>1400000US17031980100</td>\n",
       "      <td>Census Tract 9801, Cook County, Illinois</td>\n",
       "      <td>-</td>\n",
       "      <td>980100</td>\n",
       "    </tr>\n",
       "    <tr>\n",
       "      <th>1332</th>\n",
       "      <td>1400000US17031990000</td>\n",
       "      <td>Census Tract 9900, Cook County, Illinois</td>\n",
       "      <td>-</td>\n",
       "      <td>990000</td>\n",
       "    </tr>\n",
       "  </tbody>\n",
       "</table>\n",
       "</div>"
      ],
      "text/plain": [
       "                    GEO_ID                                      NAME  \\\n",
       "1328  1400000US17031844600  Census Tract 8446, Cook County, Illinois   \n",
       "1329  1400000US17031844700  Census Tract 8447, Cook County, Illinois   \n",
       "1330  1400000US17031980000  Census Tract 9800, Cook County, Illinois   \n",
       "1331  1400000US17031980100  Census Tract 9801, Cook County, Illinois   \n",
       "1332  1400000US17031990000  Census Tract 9900, Cook County, Illinois   \n",
       "\n",
       "     Mean_House_Income Census_Tract  \n",
       "1328             69381       844600  \n",
       "1329             46398       844700  \n",
       "1330                 -       980000  \n",
       "1331                 -       980100  \n",
       "1332                 -       990000  "
      ]
     },
     "execution_count": 207,
     "metadata": {},
     "output_type": "execute_result"
    }
   ],
   "source": [
    "income_2021_wip2.tail(5)"
   ]
  },
  {
   "cell_type": "code",
   "execution_count": 208,
   "metadata": {},
   "outputs": [],
   "source": [
    "tracts_permits=pd.read_csv('../data/interim/tracts.csv',index_col=0)\n",
    "tracts_permits.rename(columns={'0':'COUNTS'},inplace=True)\n",
    "#import the list of census tracts from the permit dataset (as index) & counts of applications for each "
   ]
  },
  {
   "cell_type": "code",
   "execution_count": 209,
   "metadata": {},
   "outputs": [],
   "source": [
    "tracts_num_p=list(tracts_permits.index)\n",
    "#these are the tract number from the raw Permits Dataframe. We need to match them to the Income Dataframe"
   ]
  },
  {
   "cell_type": "code",
   "execution_count": 210,
   "metadata": {},
   "outputs": [
    {
     "data": {
      "text/html": [
       "<div>\n",
       "<style scoped>\n",
       "    .dataframe tbody tr th:only-of-type {\n",
       "        vertical-align: middle;\n",
       "    }\n",
       "\n",
       "    .dataframe tbody tr th {\n",
       "        vertical-align: top;\n",
       "    }\n",
       "\n",
       "    .dataframe thead th {\n",
       "        text-align: right;\n",
       "    }\n",
       "</style>\n",
       "<table border=\"1\" class=\"dataframe\">\n",
       "  <thead>\n",
       "    <tr style=\"text-align: right;\">\n",
       "      <th></th>\n",
       "      <th>COUNTS</th>\n",
       "    </tr>\n",
       "    <tr>\n",
       "      <th>CENSUS_TRACT</th>\n",
       "      <th></th>\n",
       "    </tr>\n",
       "  </thead>\n",
       "  <tbody>\n",
       "    <tr>\n",
       "      <th>834000</th>\n",
       "      <td>223</td>\n",
       "    </tr>\n",
       "    <tr>\n",
       "      <th>2836</th>\n",
       "      <td>161</td>\n",
       "    </tr>\n",
       "    <tr>\n",
       "      <th>2907</th>\n",
       "      <td>45</td>\n",
       "    </tr>\n",
       "    <tr>\n",
       "      <th>506</th>\n",
       "      <td>225</td>\n",
       "    </tr>\n",
       "    <tr>\n",
       "      <th>2418</th>\n",
       "      <td>120</td>\n",
       "    </tr>\n",
       "  </tbody>\n",
       "</table>\n",
       "</div>"
      ],
      "text/plain": [
       "              COUNTS\n",
       "CENSUS_TRACT        \n",
       "834000           223\n",
       "2836             161\n",
       "2907              45\n",
       "506              225\n",
       "2418             120"
      ]
     },
     "execution_count": 210,
     "metadata": {},
     "output_type": "execute_result"
    }
   ],
   "source": [
    "tracts_permits.sample(5)"
   ]
  },
  {
   "cell_type": "code",
   "execution_count": 211,
   "metadata": {},
   "outputs": [
    {
     "data": {
      "text/plain": [
       "6"
      ]
     },
     "execution_count": 211,
     "metadata": {},
     "output_type": "execute_result"
    }
   ],
   "source": [
    "for i in tracts_permits.index:\n",
    "    t1=0\n",
    "    t2=len(str(i))\n",
    "    result=max(t1,t2)\n",
    "result"
   ]
  },
  {
   "cell_type": "code",
   "execution_count": 212,
   "metadata": {},
   "outputs": [],
   "source": [
    "#6 = max number of digits in the census tracts (from the permit database)\n",
    "#Notice that the last 6 digits of GEO_ID appear to contain similar information\n",
    "#Let's try extracting the last 6 digits from the GEO_ID column"
   ]
  },
  {
   "cell_type": "code",
   "execution_count": 213,
   "metadata": {},
   "outputs": [],
   "source": [
    "#income_2021_wip2.assign(Census_Tract = lambda x: x['GEO_ID'])"
   ]
  },
  {
   "cell_type": "code",
   "execution_count": 214,
   "metadata": {},
   "outputs": [
    {
     "name": "stderr",
     "output_type": "stream",
     "text": [
      "C:\\Users\\44742\\AppData\\Local\\Temp\\ipykernel_2628\\3958311354.py:1: SettingWithCopyWarning: \n",
      "A value is trying to be set on a copy of a slice from a DataFrame.\n",
      "Try using .loc[row_indexer,col_indexer] = value instead\n",
      "\n",
      "See the caveats in the documentation: https://pandas.pydata.org/pandas-docs/stable/user_guide/indexing.html#returning-a-view-versus-a-copy\n",
      "  income_2021_wip2['Census_Tract']=income_2021_wip2['GEO_ID'].apply(lambda x: x[-6:]);\n"
     ]
    }
   ],
   "source": [
    "income_2021_wip2['Census_Tract']=income_2021_wip2['GEO_ID'].apply(lambda x: x[-6:]);"
   ]
  },
  {
   "cell_type": "code",
   "execution_count": 215,
   "metadata": {},
   "outputs": [],
   "source": [
    "#income_2021_wip2['Census_Tract']=income_2021_wip2['Census_Tract'].apply(lambda x: x.lstrip('0'))"
   ]
  },
  {
   "cell_type": "code",
   "execution_count": 216,
   "metadata": {},
   "outputs": [
    {
     "data": {
      "text/html": [
       "<div>\n",
       "<style scoped>\n",
       "    .dataframe tbody tr th:only-of-type {\n",
       "        vertical-align: middle;\n",
       "    }\n",
       "\n",
       "    .dataframe tbody tr th {\n",
       "        vertical-align: top;\n",
       "    }\n",
       "\n",
       "    .dataframe thead th {\n",
       "        text-align: right;\n",
       "    }\n",
       "</style>\n",
       "<table border=\"1\" class=\"dataframe\">\n",
       "  <thead>\n",
       "    <tr style=\"text-align: right;\">\n",
       "      <th></th>\n",
       "      <th>GEO_ID</th>\n",
       "      <th>NAME</th>\n",
       "      <th>Mean_House_Income</th>\n",
       "      <th>Census_Tract</th>\n",
       "    </tr>\n",
       "  </thead>\n",
       "  <tbody>\n",
       "    <tr>\n",
       "      <th>1</th>\n",
       "      <td>1400000US17031010100</td>\n",
       "      <td>Census Tract 101, Cook County, Illinois</td>\n",
       "      <td>69746</td>\n",
       "      <td>010100</td>\n",
       "    </tr>\n",
       "    <tr>\n",
       "      <th>2</th>\n",
       "      <td>1400000US17031010201</td>\n",
       "      <td>Census Tract 102.01, Cook County, Illinois</td>\n",
       "      <td>62192</td>\n",
       "      <td>010201</td>\n",
       "    </tr>\n",
       "    <tr>\n",
       "      <th>3</th>\n",
       "      <td>1400000US17031010202</td>\n",
       "      <td>Census Tract 102.02, Cook County, Illinois</td>\n",
       "      <td>58572</td>\n",
       "      <td>010202</td>\n",
       "    </tr>\n",
       "    <tr>\n",
       "      <th>4</th>\n",
       "      <td>1400000US17031010300</td>\n",
       "      <td>Census Tract 103, Cook County, Illinois</td>\n",
       "      <td>71497</td>\n",
       "      <td>010300</td>\n",
       "    </tr>\n",
       "    <tr>\n",
       "      <th>5</th>\n",
       "      <td>1400000US17031010400</td>\n",
       "      <td>Census Tract 104, Cook County, Illinois</td>\n",
       "      <td>58464</td>\n",
       "      <td>010400</td>\n",
       "    </tr>\n",
       "  </tbody>\n",
       "</table>\n",
       "</div>"
      ],
      "text/plain": [
       "                 GEO_ID                                        NAME  \\\n",
       "1  1400000US17031010100     Census Tract 101, Cook County, Illinois   \n",
       "2  1400000US17031010201  Census Tract 102.01, Cook County, Illinois   \n",
       "3  1400000US17031010202  Census Tract 102.02, Cook County, Illinois   \n",
       "4  1400000US17031010300     Census Tract 103, Cook County, Illinois   \n",
       "5  1400000US17031010400     Census Tract 104, Cook County, Illinois   \n",
       "\n",
       "  Mean_House_Income Census_Tract  \n",
       "1             69746       010100  \n",
       "2             62192       010201  \n",
       "3             58572       010202  \n",
       "4             71497       010300  \n",
       "5             58464       010400  "
      ]
     },
     "execution_count": 216,
     "metadata": {},
     "output_type": "execute_result"
    }
   ],
   "source": [
    "income_2021_wip2.head(5)"
   ]
  },
  {
   "cell_type": "code",
   "execution_count": null,
   "metadata": {},
   "outputs": [],
   "source": [
    "income_2021_wip2.to_csv('../data/interim/income_201.csv')"
   ]
  },
  {
   "cell_type": "code",
   "execution_count": 217,
   "metadata": {},
   "outputs": [
    {
     "data": {
      "text/html": [
       "<div>\n",
       "<style scoped>\n",
       "    .dataframe tbody tr th:only-of-type {\n",
       "        vertical-align: middle;\n",
       "    }\n",
       "\n",
       "    .dataframe tbody tr th {\n",
       "        vertical-align: top;\n",
       "    }\n",
       "\n",
       "    .dataframe thead th {\n",
       "        text-align: right;\n",
       "    }\n",
       "</style>\n",
       "<table border=\"1\" class=\"dataframe\">\n",
       "  <thead>\n",
       "    <tr style=\"text-align: right;\">\n",
       "      <th></th>\n",
       "      <th>GEO_ID</th>\n",
       "      <th>NAME</th>\n",
       "      <th>Mean_House_Income</th>\n",
       "      <th>Census_Tract</th>\n",
       "    </tr>\n",
       "  </thead>\n",
       "  <tbody>\n",
       "    <tr>\n",
       "      <th>989</th>\n",
       "      <td>1400000US17031816500</td>\n",
       "      <td>Census Tract 8165, Cook County, Illinois</td>\n",
       "      <td>61310</td>\n",
       "      <td>816500</td>\n",
       "    </tr>\n",
       "    <tr>\n",
       "      <th>940</th>\n",
       "      <td>1400000US17031812301</td>\n",
       "      <td>Census Tract 8123.01, Cook County, Illinois</td>\n",
       "      <td>111004</td>\n",
       "      <td>812301</td>\n",
       "    </tr>\n",
       "    <tr>\n",
       "      <th>266</th>\n",
       "      <td>1400000US17031222600</td>\n",
       "      <td>Census Tract 2226, Cook County, Illinois</td>\n",
       "      <td>98995</td>\n",
       "      <td>222600</td>\n",
       "    </tr>\n",
       "    <tr>\n",
       "      <th>11</th>\n",
       "      <td>1400000US17031010702</td>\n",
       "      <td>Census Tract 107.02, Cook County, Illinois</td>\n",
       "      <td>61339</td>\n",
       "      <td>010702</td>\n",
       "    </tr>\n",
       "    <tr>\n",
       "      <th>1177</th>\n",
       "      <td>1400000US17031828000</td>\n",
       "      <td>Census Tract 8280, Cook County, Illinois</td>\n",
       "      <td>73741</td>\n",
       "      <td>828000</td>\n",
       "    </tr>\n",
       "    <tr>\n",
       "      <th>1096</th>\n",
       "      <td>1400000US17031823903</td>\n",
       "      <td>Census Tract 8239.03, Cook County, Illinois</td>\n",
       "      <td>140939</td>\n",
       "      <td>823903</td>\n",
       "    </tr>\n",
       "    <tr>\n",
       "      <th>293</th>\n",
       "      <td>1400000US17031241400</td>\n",
       "      <td>Census Tract 2414, Cook County, Illinois</td>\n",
       "      <td>221343</td>\n",
       "      <td>241400</td>\n",
       "    </tr>\n",
       "    <tr>\n",
       "      <th>911</th>\n",
       "      <td>1400000US17031810000</td>\n",
       "      <td>Census Tract 8100, Cook County, Illinois</td>\n",
       "      <td>150030</td>\n",
       "      <td>810000</td>\n",
       "    </tr>\n",
       "    <tr>\n",
       "      <th>451</th>\n",
       "      <td>1400000US17031430600</td>\n",
       "      <td>Census Tract 4306, Cook County, Illinois</td>\n",
       "      <td>85700</td>\n",
       "      <td>430600</td>\n",
       "    </tr>\n",
       "    <tr>\n",
       "      <th>1267</th>\n",
       "      <td>1400000US17031836300</td>\n",
       "      <td>Census Tract 8363, Cook County, Illinois</td>\n",
       "      <td>76553</td>\n",
       "      <td>836300</td>\n",
       "    </tr>\n",
       "  </tbody>\n",
       "</table>\n",
       "</div>"
      ],
      "text/plain": [
       "                    GEO_ID                                         NAME  \\\n",
       "989   1400000US17031816500     Census Tract 8165, Cook County, Illinois   \n",
       "940   1400000US17031812301  Census Tract 8123.01, Cook County, Illinois   \n",
       "266   1400000US17031222600     Census Tract 2226, Cook County, Illinois   \n",
       "11    1400000US17031010702   Census Tract 107.02, Cook County, Illinois   \n",
       "1177  1400000US17031828000     Census Tract 8280, Cook County, Illinois   \n",
       "1096  1400000US17031823903  Census Tract 8239.03, Cook County, Illinois   \n",
       "293   1400000US17031241400     Census Tract 2414, Cook County, Illinois   \n",
       "911   1400000US17031810000     Census Tract 8100, Cook County, Illinois   \n",
       "451   1400000US17031430600     Census Tract 4306, Cook County, Illinois   \n",
       "1267  1400000US17031836300     Census Tract 8363, Cook County, Illinois   \n",
       "\n",
       "     Mean_House_Income Census_Tract  \n",
       "989              61310       816500  \n",
       "940             111004       812301  \n",
       "266              98995       222600  \n",
       "11               61339       010702  \n",
       "1177             73741       828000  \n",
       "1096            140939       823903  \n",
       "293             221343       241400  \n",
       "911             150030       810000  \n",
       "451              85700       430600  \n",
       "1267             76553       836300  "
      ]
     },
     "execution_count": 217,
     "metadata": {},
     "output_type": "execute_result"
    }
   ],
   "source": [
    "income_2021_wip2.sample(10)"
   ]
  },
  {
   "cell_type": "code",
   "execution_count": 218,
   "metadata": {},
   "outputs": [],
   "source": [
    "income_clean=income_2021_wip2[['Mean_House_Income','Census_Tract']]"
   ]
  },
  {
   "cell_type": "code",
   "execution_count": 219,
   "metadata": {},
   "outputs": [
    {
     "data": {
      "text/html": [
       "<div>\n",
       "<style scoped>\n",
       "    .dataframe tbody tr th:only-of-type {\n",
       "        vertical-align: middle;\n",
       "    }\n",
       "\n",
       "    .dataframe tbody tr th {\n",
       "        vertical-align: top;\n",
       "    }\n",
       "\n",
       "    .dataframe thead th {\n",
       "        text-align: right;\n",
       "    }\n",
       "</style>\n",
       "<table border=\"1\" class=\"dataframe\">\n",
       "  <thead>\n",
       "    <tr style=\"text-align: right;\">\n",
       "      <th></th>\n",
       "      <th>Mean_House_Income</th>\n",
       "      <th>Census_Tract</th>\n",
       "    </tr>\n",
       "  </thead>\n",
       "  <tbody>\n",
       "    <tr>\n",
       "      <th>193</th>\n",
       "      <td>94642</td>\n",
       "      <td>160300</td>\n",
       "    </tr>\n",
       "    <tr>\n",
       "      <th>954</th>\n",
       "      <td>79954</td>\n",
       "      <td>813400</td>\n",
       "    </tr>\n",
       "    <tr>\n",
       "      <th>615</th>\n",
       "      <td>38547</td>\n",
       "      <td>680600</td>\n",
       "    </tr>\n",
       "    <tr>\n",
       "      <th>915</th>\n",
       "      <td>125743</td>\n",
       "      <td>810302</td>\n",
       "    </tr>\n",
       "    <tr>\n",
       "      <th>1313</th>\n",
       "      <td>64428</td>\n",
       "      <td>842400</td>\n",
       "    </tr>\n",
       "  </tbody>\n",
       "</table>\n",
       "</div>"
      ],
      "text/plain": [
       "     Mean_House_Income Census_Tract\n",
       "193              94642       160300\n",
       "954              79954       813400\n",
       "615              38547       680600\n",
       "915             125743       810302\n",
       "1313             64428       842400"
      ]
     },
     "execution_count": 219,
     "metadata": {},
     "output_type": "execute_result"
    }
   ],
   "source": [
    "income_clean.sample(5)"
   ]
  },
  {
   "cell_type": "code",
   "execution_count": 238,
   "metadata": {},
   "outputs": [],
   "source": [
    "tracts_income=list(income_clean['Census_Tract'])"
   ]
  },
  {
   "cell_type": "code",
   "execution_count": 220,
   "metadata": {},
   "outputs": [],
   "source": [
    "tracts_num_p=list(tracts_permits.index)"
   ]
  },
  {
   "cell_type": "code",
   "execution_count": 221,
   "metadata": {},
   "outputs": [
    {
     "data": {
      "text/plain": [
       "[101, 2417, 4408, 30500, 252201, 691400]"
      ]
     },
     "execution_count": 221,
     "metadata": {},
     "output_type": "execute_result"
    }
   ],
   "source": [
    "# let's go back to 'tracts_num_p' to see if we can match tract numbers from Income to Permits\n",
    "tracts_num_p[::300]\n",
    "#sample from census tract numbers from the permit database"
   ]
  },
  {
   "cell_type": "code",
   "execution_count": 281,
   "metadata": {},
   "outputs": [
    {
     "data": {
      "text/plain": [
       "[101, 1707, 2828, 4408, 6812, 81100, 252201, 570500, 835800]"
      ]
     },
     "execution_count": 281,
     "metadata": {},
     "output_type": "execute_result"
    }
   ],
   "source": [
    "tracts_num_p[::200]"
   ]
  },
  {
   "cell_type": "code",
   "execution_count": 224,
   "metadata": {},
   "outputs": [],
   "source": [
    "#need to add leading zeros for tracts starting with 1\n",
    "#tracts_num_p=[''.join(('0',str(i))) for i in tracts_num_p if str(i)[0]=='1' else]"
   ]
  },
  {
   "cell_type": "code",
   "execution_count": 225,
   "metadata": {},
   "outputs": [
    {
     "data": {
      "text/plain": [
       "['0101', '2417', '4408', '30500', '252201', '691400']"
      ]
     },
     "execution_count": 225,
     "metadata": {},
     "output_type": "execute_result"
    }
   ],
   "source": [
    "tracts_num_p_wip=[(lambda x:''.join(('0',x)) if len(x)==3 else x)(str(i)) for i in list(tracts_permits.index)]\n",
    "tracts_num_p_wip[::300]"
   ]
  },
  {
   "cell_type": "code",
   "execution_count": 227,
   "metadata": {},
   "outputs": [],
   "source": [
    "#now need to add zeros at the end to ensure all of the numbers are 6 digits long\n",
    "#tracts_num_p_wip2=[''.join(('0',i)) for i in tracts_num_p if len(i)<6]"
   ]
  },
  {
   "cell_type": "code",
   "execution_count": 257,
   "metadata": {},
   "outputs": [
    {
     "data": {
      "text/plain": [
       "['0101',\n",
       " '0102',\n",
       " '0103',\n",
       " '0104',\n",
       " '0105',\n",
       " '0106',\n",
       " '0107',\n",
       " '0108',\n",
       " '0109',\n",
       " '0201']"
      ]
     },
     "execution_count": 257,
     "metadata": {},
     "output_type": "execute_result"
    }
   ],
   "source": [
    "tracts_num_p_wip[0:10]"
   ]
  },
  {
   "cell_type": "code",
   "execution_count": 258,
   "metadata": {},
   "outputs": [],
   "source": [
    "six_digits=[i for i in tracts_num_p_wip if len(i)==6]"
   ]
  },
  {
   "cell_type": "code",
   "execution_count": 272,
   "metadata": {},
   "outputs": [
    {
     "data": {
      "text/plain": [
       "['100100',\n",
       " '140500',\n",
       " '160601',\n",
       " '190402',\n",
       " '210900',\n",
       " '230300',\n",
       " '242100',\n",
       " '251300',\n",
       " '271400',\n",
       " '301200',\n",
       " '350400',\n",
       " '400500',\n",
       " '430400',\n",
       " '460500',\n",
       " '500300',\n",
       " '560400',\n",
       " '600700',\n",
       " '630500',\n",
       " '661100',\n",
       " '681300',\n",
       " '710600',\n",
       " '740100',\n",
       " '831200',\n",
       " '834600',\n",
       " '837400',\n",
       " '841100',\n",
       " '843700']"
      ]
     },
     "execution_count": 272,
     "metadata": {},
     "output_type": "execute_result"
    }
   ],
   "source": [
    "six_digits[::25]"
   ]
  },
  {
   "cell_type": "code",
   "execution_count": 235,
   "metadata": {},
   "outputs": [],
   "source": [
    "tracts_num_p_wip2=[''.join((i,'0'*(6-len(i)))) for i in tracts_num_p_wip]"
   ]
  },
  {
   "cell_type": "code",
   "execution_count": 237,
   "metadata": {},
   "outputs": [
    {
     "data": {
      "text/plain": [
       "['010100', '241700', '440800', '305000', '252201', '691400']"
      ]
     },
     "execution_count": 237,
     "metadata": {},
     "output_type": "execute_result"
    }
   ],
   "source": [
    "tracts_num_p_wip2[::300]"
   ]
  },
  {
   "cell_type": "code",
   "execution_count": 239,
   "metadata": {},
   "outputs": [],
   "source": [
    "#now we have tracts_num_p_wip2 & tracts_income"
   ]
  },
  {
   "cell_type": "code",
   "execution_count": 261,
   "metadata": {},
   "outputs": [],
   "source": [
    "missing=[i for i in tracts_num_p_wip2 if i not in tracts_income]"
   ]
  },
  {
   "cell_type": "code",
   "execution_count": 262,
   "metadata": {},
   "outputs": [
    {
     "data": {
      "text/plain": [
       "469"
      ]
     },
     "execution_count": 262,
     "metadata": {},
     "output_type": "execute_result"
    }
   ],
   "source": [
    "len(missing)"
   ]
  },
  {
   "cell_type": "code",
   "execution_count": 303,
   "metadata": {},
   "outputs": [
    {
     "data": {
      "text/plain": [
       "['010200',\n",
       " '063300',\n",
       " '190400',\n",
       " '231600',\n",
       " '280300',\n",
       " '284200',\n",
       " '301400',\n",
       " '350900',\n",
       " '411400',\n",
       " '561300',\n",
       " '630100',\n",
       " '102010',\n",
       " '303000',\n",
       " '406000',\n",
       " '619020',\n",
       " '713000',\n",
       " '630200']"
      ]
     },
     "execution_count": 303,
     "metadata": {},
     "output_type": "execute_result"
    }
   ],
   "source": [
    "missing[::29]"
   ]
  },
  {
   "cell_type": "code",
   "execution_count": 283,
   "metadata": {},
   "outputs": [],
   "source": [
    "missing_int=[int(i) for i in missing]"
   ]
  },
  {
   "cell_type": "code",
   "execution_count": 296,
   "metadata": {},
   "outputs": [],
   "source": [
    "test=[(i,k) for i,k in zip(tracts_permits.index, tracts_income)]"
   ]
  },
  {
   "cell_type": "code",
   "execution_count": 309,
   "metadata": {},
   "outputs": [
    {
     "data": {
      "text/html": [
       "<div>\n",
       "<style scoped>\n",
       "    .dataframe tbody tr th:only-of-type {\n",
       "        vertical-align: middle;\n",
       "    }\n",
       "\n",
       "    .dataframe tbody tr th {\n",
       "        vertical-align: top;\n",
       "    }\n",
       "\n",
       "    .dataframe thead th {\n",
       "        text-align: right;\n",
       "    }\n",
       "</style>\n",
       "<table border=\"1\" class=\"dataframe\">\n",
       "  <thead>\n",
       "    <tr style=\"text-align: right;\">\n",
       "      <th></th>\n",
       "      <th>Mean_House_Income</th>\n",
       "      <th>Census_Tract</th>\n",
       "    </tr>\n",
       "  </thead>\n",
       "  <tbody>\n",
       "    <tr>\n",
       "      <th>121</th>\n",
       "      <td>180751</td>\n",
       "      <td>071400</td>\n",
       "    </tr>\n",
       "    <tr>\n",
       "      <th>122</th>\n",
       "      <td>142618</td>\n",
       "      <td>071500</td>\n",
       "    </tr>\n",
       "    <tr>\n",
       "      <th>123</th>\n",
       "      <td>271032</td>\n",
       "      <td>071600</td>\n",
       "    </tr>\n",
       "    <tr>\n",
       "      <th>124</th>\n",
       "      <td>249828</td>\n",
       "      <td>071700</td>\n",
       "    </tr>\n",
       "    <tr>\n",
       "      <th>125</th>\n",
       "      <td>280147</td>\n",
       "      <td>071800</td>\n",
       "    </tr>\n",
       "    <tr>\n",
       "      <th>126</th>\n",
       "      <td>185035</td>\n",
       "      <td>080100</td>\n",
       "    </tr>\n",
       "    <tr>\n",
       "      <th>127</th>\n",
       "      <td>204784</td>\n",
       "      <td>080201</td>\n",
       "    </tr>\n",
       "    <tr>\n",
       "      <th>128</th>\n",
       "      <td>197731</td>\n",
       "      <td>080202</td>\n",
       "    </tr>\n",
       "    <tr>\n",
       "      <th>129</th>\n",
       "      <td>185009</td>\n",
       "      <td>080300</td>\n",
       "    </tr>\n",
       "    <tr>\n",
       "      <th>130</th>\n",
       "      <td>172315</td>\n",
       "      <td>080400</td>\n",
       "    </tr>\n",
       "  </tbody>\n",
       "</table>\n",
       "</div>"
      ],
      "text/plain": [
       "    Mean_House_Income Census_Tract\n",
       "121            180751       071400\n",
       "122            142618       071500\n",
       "123            271032       071600\n",
       "124            249828       071700\n",
       "125            280147       071800\n",
       "126            185035       080100\n",
       "127            204784       080201\n",
       "128            197731       080202\n",
       "129            185009       080300\n",
       "130            172315       080400"
      ]
     },
     "execution_count": 309,
     "metadata": {},
     "output_type": "execute_result"
    }
   ],
   "source": [
    "income_clean[120:130]"
   ]
  },
  {
   "cell_type": "code",
   "execution_count": null,
   "metadata": {},
   "outputs": [],
   "source": []
  },
  {
   "cell_type": "code",
   "execution_count": null,
   "metadata": {},
   "outputs": [],
   "source": []
  },
  {
   "cell_type": "code",
   "execution_count": null,
   "metadata": {},
   "outputs": [],
   "source": []
  }
 ],
 "metadata": {
  "kernelspec": {
   "display_name": "base",
   "language": "python",
   "name": "python3"
  },
  "language_info": {
   "codemirror_mode": {
    "name": "ipython",
    "version": 3
   },
   "file_extension": ".py",
   "mimetype": "text/x-python",
   "name": "python",
   "nbconvert_exporter": "python",
   "pygments_lexer": "ipython3",
   "version": "3.9.13"
  },
  "orig_nbformat": 4,
  "vscode": {
   "interpreter": {
    "hash": "a4ccad7f4245b41ef23b14c32aed64178d0c17e4b57b15c0d4f0def3d96d0932"
   }
  }
 },
 "nbformat": 4,
 "nbformat_minor": 2
}
