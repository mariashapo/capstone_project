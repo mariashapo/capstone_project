{
 "cells": [
  {
   "cell_type": "code",
   "execution_count": 1,
   "metadata": {},
   "outputs": [],
   "source": [
    "import pandas as pd\n",
    "import numpy as np\n",
    "import matplotlib.pyplot as plt"
   ]
  },
  {
   "cell_type": "code",
   "execution_count": 2,
   "metadata": {},
   "outputs": [
    {
     "name": "stderr",
     "output_type": "stream",
     "text": [
      "C:\\Users\\44742\\AppData\\Local\\Temp\\ipykernel_212464\\3343405108.py:1: DtypeWarning: Columns (2,3,4,5,6,7,8,9,10,11,12,13,14,15,16,17,18,19,20,21,22,23,24,25,26,27,28,29,30,31,32,33,34,35,36,37,38,39,40,41,42,43,44,45,46,47,48,49,50,51,52,53,54,55,56,57,58,59,60,61,62,63,64,65,66,67,68,69,70,71,72,73,74,75,76,77,78,79,80,81,82,83,84,85,86,87,88,89,90,91,92,93,94,95,96,97,98,99,100,101,102,103,104,105,106,107,108,109,110,111,112,113,114,115,116,117,118,119,120,121,122,123,124,125,126,127,128,129,130,131,132,133,134,135,136,137,138,139,140,141,142,143,144,145,146,147,148,149,150,151,152,153,154,155,156,157,158,159,160,161,162,163,164,165,166,167,168,169,170,171,172,173,174,175,176,177,178,179,180,181,182,183,184,185,186,187,188,189,190,191,192,193,194,195,196,197,198,199,200,201,202,203,204,205,206,207,208,209,210,211,212,213,214,215,216,217,262,263,264,265,266,267,268,269,270,271,272,273,274,275,276,277,282,283,284,285,286,287,288,289,290,291,292,293,294,295,296,297,298,299,300,301,302,303,304,305,306,307,308,309,310,311,312,313,314,315,316,317,322,323,324,325,326,327,328,329,334,335,336,337,338,339,340,341,346,347,348,349,350,351,352,353,358,359,360,361,362,363,364,365,478,479,480,481,482,483,484,485,486,487,488,489,514,515,516,517,518,519,520,521,522,523,524,525,526,527,528,529,530,531,532,533,534,535,536,537,538,539,540,541,542,543,544,545,546,547,548,549,550,551,552,553,554,555,556,557,558,559,560,561,562,563,564,565,566,567,568,569,570,571,572,573,574,575,576,577,578,579,580,581,582,583,584,585,586,587,588,589,590,591,592,593,594,595,596,597,598,599,600,601,602,603,604,605,606,607,608,609,610,611,612,613,614,615,616,617,618,619,620,621,622,623,624,625,626,627,628,629,630,631,632,633,634,635,636,637,638,639,640,641,642,643,644,645,646,647,648,649,650,651,652,653,654,655,656,657,658,659,660,661,662,663,664,665,666,667,668,669,670,671,672,673,674,675,676,677,678,679,680,681,682,683,684,685,686,687,688,689,690,691,692,693,694,695,696,697,698,699,700,701,702,703,704,705,706,707,708,709,710,711,712,713,714,715,716,717,718,719,720,721,722,723,724,725,726,727,728,729,794,795,796,797,798,799,800,801,802,803,804,805,806,807,808,809,810,811,812,813,814,815,816,817,818,819,820,821,822,823,824,825,826,827,828,829,858,859,860,861,862,863,864,865,870,871,872,873,874,875,876,877,1026,1027,1028,1029,1030,1031,1032,1033,1034,1035,1036,1037,1038,1039,1040,1041,1042,1043,1044,1045,1046,1047,1048,1049,1050,1051,1052,1053,1054,1055,1056,1057,1058,1059,1060,1061,1062,1063,1064,1065,1066,1067,1068,1069,1070,1071,1072,1073,1074,1075,1076,1077,1078,1079,1080,1081,1082,1083,1084,1085,1086,1087,1088,1089,1090,1091,1092,1093,1094,1095,1096,1097,1098,1099,1100,1101,1102,1103,1104,1105,1106,1107,1108,1109,1110,1111,1112,1113,1114,1115,1116,1117,1118,1119,1120,1121,1122,1123,1124,1125,1126,1127,1128,1129,1130,1131,1132,1133,1134,1135,1136,1137,1138,1139,1140,1141,1142,1143,1144,1145,1146,1147,1148,1149,1150,1151,1152,1153,1154,1155,1156,1157,1158,1159,1160,1161,1162,1163,1164,1165,1166,1167,1168,1169,1170,1171,1172,1173,1174,1175,1176,1177,1178,1179,1180,1181,1182,1183,1184,1185,1186,1187,1188,1189,1190,1191,1192,1193,1194,1195,1196,1197,1198,1199,1200,1201,1202,1203,1204,1205,1206,1207,1208,1209,1210,1211,1212,1213,1214,1215,1216,1217,1218,1219,1220,1221,1222,1223,1224,1225,1226,1227,1228,1229,1230,1231,1232,1233,1234,1235,1236,1237,1238,1239,1240,1241,1306,1307,1308,1309,1310,1311,1312,1313,1314,1315,1316,1317,1318,1319,1320,1321,1322,1323,1324,1325,1326,1327,1328,1329,1330,1331,1332,1333,1334,1335,1336,1337,1338,1339,1340,1341,1346,1347,1348,1349,1350,1351,1352,1353,1370,1371,1372,1373,1374,1375,1376,1377,1382,1383,1384,1385,1386,1387,1388,1389,1502,1503,1504,1505,1506,1507,1508,1509) have mixed types. Specify dtype option on import or set low_memory=False.\n",
      "  education_2021_raw=pd.read_csv('../data/raw/education/ACSST5Y2021.S1501-Data.csv')\n"
     ]
    },
    {
     "data": {
      "text/plain": [
       "(1333, 1539)"
      ]
     },
     "execution_count": 2,
     "metadata": {},
     "output_type": "execute_result"
    }
   ],
   "source": [
    "education_2021_raw=pd.read_csv('../data/raw/education/ACSST5Y2021.S1501-Data.csv')\n",
    "education_2021_raw.shape"
   ]
  },
  {
   "cell_type": "code",
   "execution_count": 3,
   "metadata": {},
   "outputs": [
    {
     "data": {
      "text/plain": [
       "Index(['GEO_ID', 'NAME', 'S1501_C01_001E', 'S1501_C01_001M', 'S1501_C01_001MA',\n",
       "       'S1501_C01_001EA', 'S1501_C01_002E', 'S1501_C01_002M',\n",
       "       'S1501_C01_002MA', 'S1501_C01_002EA',\n",
       "       ...\n",
       "       'S1501_C06_062EA', 'S1501_C06_063E', 'S1501_C06_063EA',\n",
       "       'S1501_C06_063M', 'S1501_C06_063MA', 'S1501_C06_064E',\n",
       "       'S1501_C06_064EA', 'S1501_C06_064M', 'S1501_C06_064MA',\n",
       "       'Unnamed: 1538'],\n",
       "      dtype='object', length=1539)"
      ]
     },
     "execution_count": 3,
     "metadata": {},
     "output_type": "execute_result"
    }
   ],
   "source": [
    "education_2021_raw.columns"
   ]
  },
  {
   "attachments": {},
   "cell_type": "markdown",
   "metadata": {},
   "source": [
    "## Select relevant columns"
   ]
  },
  {
   "attachments": {},
   "cell_type": "markdown",
   "metadata": {},
   "source": [
    "#Which columns are useful? This is being determined by referring to the dataset metadata file </br>\n",
    "'GEO_ID':'GEO_ID'</br>\n",
    "'S1501_C01_006E':'Population_over_25'</br>\n",
    "'S1501_C01_014E': 'High_school_plus_over_25'</br>\n",
    "'S1501_C01_015E':'Bachelors_plus_over_25'</br>\n",
    "'S1501_C01_059E':'Median_earnings_over_25_1_year'</br>\n"
   ]
  },
  {
   "cell_type": "code",
   "execution_count": 4,
   "metadata": {},
   "outputs": [],
   "source": [
    "edu_col_di={'GEO_ID':'GEO_ID','S1501_C01_006E':'Population_over_25','S1501_C01_014E': 'High_school_plus_over_25','S1501_C01_015E':'Bachelors_plus_over_25','S1501_C01_059E':'Median_earnings_over_25_1_year'}"
   ]
  },
  {
   "cell_type": "code",
   "execution_count": 5,
   "metadata": {},
   "outputs": [],
   "source": [
    "education_2021_wip=education_2021_raw[edu_col_di.keys()]"
   ]
  },
  {
   "cell_type": "code",
   "execution_count": 6,
   "metadata": {},
   "outputs": [
    {
     "name": "stdout",
     "output_type": "stream",
     "text": [
      "<class 'pandas.core.frame.DataFrame'>\n",
      "RangeIndex: 1333 entries, 0 to 1332\n",
      "Data columns (total 5 columns):\n",
      " #   Column          Non-Null Count  Dtype \n",
      "---  ------          --------------  ----- \n",
      " 0   GEO_ID          1333 non-null   object\n",
      " 1   S1501_C01_006E  1333 non-null   object\n",
      " 2   S1501_C01_014E  1333 non-null   object\n",
      " 3   S1501_C01_015E  1333 non-null   object\n",
      " 4   S1501_C01_059E  1333 non-null   object\n",
      "dtypes: object(5)\n",
      "memory usage: 52.2+ KB\n"
     ]
    }
   ],
   "source": [
    "education_2021_wip.info()"
   ]
  },
  {
   "cell_type": "code",
   "execution_count": 7,
   "metadata": {},
   "outputs": [
    {
     "data": {
      "text/html": [
       "<div>\n",
       "<style scoped>\n",
       "    .dataframe tbody tr th:only-of-type {\n",
       "        vertical-align: middle;\n",
       "    }\n",
       "\n",
       "    .dataframe tbody tr th {\n",
       "        vertical-align: top;\n",
       "    }\n",
       "\n",
       "    .dataframe thead th {\n",
       "        text-align: right;\n",
       "    }\n",
       "</style>\n",
       "<table border=\"1\" class=\"dataframe\">\n",
       "  <thead>\n",
       "    <tr style=\"text-align: right;\">\n",
       "      <th></th>\n",
       "      <th>GEO_ID</th>\n",
       "      <th>Population_over_25</th>\n",
       "      <th>High_school_plus_over_25</th>\n",
       "      <th>Bachelors_plus_over_25</th>\n",
       "      <th>Median_earnings_over_25_1_year</th>\n",
       "    </tr>\n",
       "  </thead>\n",
       "  <tbody>\n",
       "    <tr>\n",
       "      <th>0</th>\n",
       "      <td>Geography</td>\n",
       "      <td>Estimate!!Total!!AGE BY EDUCATIONAL ATTAINMENT...</td>\n",
       "      <td>Estimate!!Total!!AGE BY EDUCATIONAL ATTAINMENT...</td>\n",
       "      <td>Estimate!!Total!!AGE BY EDUCATIONAL ATTAINMENT...</td>\n",
       "      <td>Estimate!!Total!!MEDIAN EARNINGS IN THE PAST 1...</td>\n",
       "    </tr>\n",
       "    <tr>\n",
       "      <th>1</th>\n",
       "      <td>1400000US17031010100</td>\n",
       "      <td>3285</td>\n",
       "      <td>2886</td>\n",
       "      <td>1678</td>\n",
       "      <td>43829</td>\n",
       "    </tr>\n",
       "    <tr>\n",
       "      <th>2</th>\n",
       "      <td>1400000US17031010201</td>\n",
       "      <td>4931</td>\n",
       "      <td>4230</td>\n",
       "      <td>1616</td>\n",
       "      <td>36176</td>\n",
       "    </tr>\n",
       "    <tr>\n",
       "      <th>3</th>\n",
       "      <td>1400000US17031010202</td>\n",
       "      <td>2178</td>\n",
       "      <td>1769</td>\n",
       "      <td>792</td>\n",
       "      <td>30365</td>\n",
       "    </tr>\n",
       "    <tr>\n",
       "      <th>4</th>\n",
       "      <td>1400000US17031010300</td>\n",
       "      <td>5092</td>\n",
       "      <td>4435</td>\n",
       "      <td>2216</td>\n",
       "      <td>46552</td>\n",
       "    </tr>\n",
       "    <tr>\n",
       "      <th>...</th>\n",
       "      <td>...</td>\n",
       "      <td>...</td>\n",
       "      <td>...</td>\n",
       "      <td>...</td>\n",
       "      <td>...</td>\n",
       "    </tr>\n",
       "    <tr>\n",
       "      <th>1328</th>\n",
       "      <td>1400000US17031844600</td>\n",
       "      <td>1768</td>\n",
       "      <td>1592</td>\n",
       "      <td>425</td>\n",
       "      <td>24873</td>\n",
       "    </tr>\n",
       "    <tr>\n",
       "      <th>1329</th>\n",
       "      <td>1400000US17031844700</td>\n",
       "      <td>1030</td>\n",
       "      <td>835</td>\n",
       "      <td>164</td>\n",
       "      <td>31037</td>\n",
       "    </tr>\n",
       "    <tr>\n",
       "      <th>1330</th>\n",
       "      <td>1400000US17031980000</td>\n",
       "      <td>0</td>\n",
       "      <td>0</td>\n",
       "      <td>0</td>\n",
       "      <td>-</td>\n",
       "    </tr>\n",
       "    <tr>\n",
       "      <th>1331</th>\n",
       "      <td>1400000US17031980100</td>\n",
       "      <td>0</td>\n",
       "      <td>0</td>\n",
       "      <td>0</td>\n",
       "      <td>-</td>\n",
       "    </tr>\n",
       "    <tr>\n",
       "      <th>1332</th>\n",
       "      <td>1400000US17031990000</td>\n",
       "      <td>0</td>\n",
       "      <td>0</td>\n",
       "      <td>0</td>\n",
       "      <td>-</td>\n",
       "    </tr>\n",
       "  </tbody>\n",
       "</table>\n",
       "<p>1333 rows × 5 columns</p>\n",
       "</div>"
      ],
      "text/plain": [
       "                    GEO_ID                                 Population_over_25  \\\n",
       "0                Geography  Estimate!!Total!!AGE BY EDUCATIONAL ATTAINMENT...   \n",
       "1     1400000US17031010100                                               3285   \n",
       "2     1400000US17031010201                                               4931   \n",
       "3     1400000US17031010202                                               2178   \n",
       "4     1400000US17031010300                                               5092   \n",
       "...                    ...                                                ...   \n",
       "1328  1400000US17031844600                                               1768   \n",
       "1329  1400000US17031844700                                               1030   \n",
       "1330  1400000US17031980000                                                  0   \n",
       "1331  1400000US17031980100                                                  0   \n",
       "1332  1400000US17031990000                                                  0   \n",
       "\n",
       "                               High_school_plus_over_25  \\\n",
       "0     Estimate!!Total!!AGE BY EDUCATIONAL ATTAINMENT...   \n",
       "1                                                  2886   \n",
       "2                                                  4230   \n",
       "3                                                  1769   \n",
       "4                                                  4435   \n",
       "...                                                 ...   \n",
       "1328                                               1592   \n",
       "1329                                                835   \n",
       "1330                                                  0   \n",
       "1331                                                  0   \n",
       "1332                                                  0   \n",
       "\n",
       "                                 Bachelors_plus_over_25  \\\n",
       "0     Estimate!!Total!!AGE BY EDUCATIONAL ATTAINMENT...   \n",
       "1                                                  1678   \n",
       "2                                                  1616   \n",
       "3                                                   792   \n",
       "4                                                  2216   \n",
       "...                                                 ...   \n",
       "1328                                                425   \n",
       "1329                                                164   \n",
       "1330                                                  0   \n",
       "1331                                                  0   \n",
       "1332                                                  0   \n",
       "\n",
       "                         Median_earnings_over_25_1_year  \n",
       "0     Estimate!!Total!!MEDIAN EARNINGS IN THE PAST 1...  \n",
       "1                                                 43829  \n",
       "2                                                 36176  \n",
       "3                                                 30365  \n",
       "4                                                 46552  \n",
       "...                                                 ...  \n",
       "1328                                              24873  \n",
       "1329                                              31037  \n",
       "1330                                                  -  \n",
       "1331                                                  -  \n",
       "1332                                                  -  \n",
       "\n",
       "[1333 rows x 5 columns]"
      ]
     },
     "execution_count": 7,
     "metadata": {},
     "output_type": "execute_result"
    }
   ],
   "source": [
    "education_2021_wip.rename(columns=edu_col_di)"
   ]
  },
  {
   "cell_type": "code",
   "execution_count": 8,
   "metadata": {},
   "outputs": [],
   "source": [
    "#drop first row\n",
    "education_2021_wip=education_2021_wip.iloc[1:,:]"
   ]
  },
  {
   "cell_type": "code",
   "execution_count": 9,
   "metadata": {},
   "outputs": [],
   "source": [
    "education_2021_wip.replace('-', 0, inplace=True)"
   ]
  },
  {
   "cell_type": "code",
   "execution_count": 10,
   "metadata": {},
   "outputs": [],
   "source": [
    "education_2021_wip.iloc[:,1:]=education_2021_wip.iloc[:,1:].astype('int32')\n",
    "#convert all columns (excluding the first) to integer type"
   ]
  },
  {
   "cell_type": "code",
   "execution_count": 11,
   "metadata": {},
   "outputs": [],
   "source": [
    "education_2021_wip.replace(0, np.nan, inplace=True)"
   ]
  },
  {
   "cell_type": "code",
   "execution_count": 12,
   "metadata": {},
   "outputs": [
    {
     "data": {
      "text/plain": [
       "GEO_ID            0\n",
       "S1501_C01_006E    4\n",
       "S1501_C01_014E    4\n",
       "S1501_C01_015E    4\n",
       "S1501_C01_059E    9\n",
       "dtype: int64"
      ]
     },
     "execution_count": 12,
     "metadata": {},
     "output_type": "execute_result"
    }
   ],
   "source": [
    "education_2021_wip.isna().sum()"
   ]
  },
  {
   "cell_type": "code",
   "execution_count": 13,
   "metadata": {},
   "outputs": [
    {
     "data": {
      "text/plain": [
       "1332"
      ]
     },
     "execution_count": 13,
     "metadata": {},
     "output_type": "execute_result"
    }
   ],
   "source": [
    "education_2021_wip.shape[0]"
   ]
  },
  {
   "cell_type": "code",
   "execution_count": 14,
   "metadata": {},
   "outputs": [
    {
     "name": "stdout",
     "output_type": "stream",
     "text": [
      "pecentage of null vlues\n"
     ]
    },
    {
     "data": {
      "text/plain": [
       "GEO_ID            0.000000\n",
       "S1501_C01_006E    0.300300\n",
       "S1501_C01_014E    0.300300\n",
       "S1501_C01_015E    0.300300\n",
       "S1501_C01_059E    0.675676\n",
       "dtype: float64"
      ]
     },
     "execution_count": 14,
     "metadata": {},
     "output_type": "execute_result"
    }
   ],
   "source": [
    "print('pecentage of null vlues')\n",
    "education_2021_wip.isna().sum()/education_2021_wip.shape[0]*100"
   ]
  },
  {
   "cell_type": "code",
   "execution_count": 15,
   "metadata": {},
   "outputs": [],
   "source": [
    "education_2021_wip=education_2021_wip.rename(columns=edu_col_di)"
   ]
  },
  {
   "cell_type": "code",
   "execution_count": 16,
   "metadata": {},
   "outputs": [
    {
     "data": {
      "text/html": [
       "<div>\n",
       "<style scoped>\n",
       "    .dataframe tbody tr th:only-of-type {\n",
       "        vertical-align: middle;\n",
       "    }\n",
       "\n",
       "    .dataframe tbody tr th {\n",
       "        vertical-align: top;\n",
       "    }\n",
       "\n",
       "    .dataframe thead th {\n",
       "        text-align: right;\n",
       "    }\n",
       "</style>\n",
       "<table border=\"1\" class=\"dataframe\">\n",
       "  <thead>\n",
       "    <tr style=\"text-align: right;\">\n",
       "      <th></th>\n",
       "      <th>GEO_ID</th>\n",
       "      <th>Population_over_25</th>\n",
       "      <th>High_school_plus_over_25</th>\n",
       "      <th>Bachelors_plus_over_25</th>\n",
       "      <th>Median_earnings_over_25_1_year</th>\n",
       "    </tr>\n",
       "  </thead>\n",
       "  <tbody>\n",
       "    <tr>\n",
       "      <th>798</th>\n",
       "      <td>1400000US17031804506</td>\n",
       "      <td>3775.0</td>\n",
       "      <td>3485.0</td>\n",
       "      <td>1803.0</td>\n",
       "      <td>73559.0</td>\n",
       "    </tr>\n",
       "  </tbody>\n",
       "</table>\n",
       "</div>"
      ],
      "text/plain": [
       "                   GEO_ID  Population_over_25  High_school_plus_over_25  \\\n",
       "798  1400000US17031804506              3775.0                    3485.0   \n",
       "\n",
       "     Bachelors_plus_over_25  Median_earnings_over_25_1_year  \n",
       "798                  1803.0                         73559.0  "
      ]
     },
     "execution_count": 16,
     "metadata": {},
     "output_type": "execute_result"
    }
   ],
   "source": [
    "education_2021_wip.sample()"
   ]
  },
  {
   "cell_type": "code",
   "execution_count": 17,
   "metadata": {},
   "outputs": [],
   "source": [
    "education_2021_wip['Census_Tract']=education_2021_wip.loc[:,'GEO_ID'].apply(lambda x: x[-6:]);"
   ]
  },
  {
   "cell_type": "code",
   "execution_count": 18,
   "metadata": {},
   "outputs": [],
   "source": [
    "education_2021_clean=education_2021_wip.drop(columns='GEO_ID')"
   ]
  },
  {
   "cell_type": "code",
   "execution_count": 19,
   "metadata": {},
   "outputs": [
    {
     "data": {
      "text/html": [
       "<div>\n",
       "<style scoped>\n",
       "    .dataframe tbody tr th:only-of-type {\n",
       "        vertical-align: middle;\n",
       "    }\n",
       "\n",
       "    .dataframe tbody tr th {\n",
       "        vertical-align: top;\n",
       "    }\n",
       "\n",
       "    .dataframe thead th {\n",
       "        text-align: right;\n",
       "    }\n",
       "</style>\n",
       "<table border=\"1\" class=\"dataframe\">\n",
       "  <thead>\n",
       "    <tr style=\"text-align: right;\">\n",
       "      <th></th>\n",
       "      <th>Population_over_25</th>\n",
       "      <th>High_school_plus_over_25</th>\n",
       "      <th>Bachelors_plus_over_25</th>\n",
       "      <th>Median_earnings_over_25_1_year</th>\n",
       "      <th>Census_Tract</th>\n",
       "    </tr>\n",
       "  </thead>\n",
       "  <tbody>\n",
       "    <tr>\n",
       "      <th>1</th>\n",
       "      <td>3285.0</td>\n",
       "      <td>2886.0</td>\n",
       "      <td>1678.0</td>\n",
       "      <td>43829.0</td>\n",
       "      <td>010100</td>\n",
       "    </tr>\n",
       "    <tr>\n",
       "      <th>2</th>\n",
       "      <td>4931.0</td>\n",
       "      <td>4230.0</td>\n",
       "      <td>1616.0</td>\n",
       "      <td>36176.0</td>\n",
       "      <td>010201</td>\n",
       "    </tr>\n",
       "    <tr>\n",
       "      <th>3</th>\n",
       "      <td>2178.0</td>\n",
       "      <td>1769.0</td>\n",
       "      <td>792.0</td>\n",
       "      <td>30365.0</td>\n",
       "      <td>010202</td>\n",
       "    </tr>\n",
       "    <tr>\n",
       "      <th>4</th>\n",
       "      <td>5092.0</td>\n",
       "      <td>4435.0</td>\n",
       "      <td>2216.0</td>\n",
       "      <td>46552.0</td>\n",
       "      <td>010300</td>\n",
       "    </tr>\n",
       "    <tr>\n",
       "      <th>5</th>\n",
       "      <td>2510.0</td>\n",
       "      <td>2437.0</td>\n",
       "      <td>1480.0</td>\n",
       "      <td>44372.0</td>\n",
       "      <td>010400</td>\n",
       "    </tr>\n",
       "    <tr>\n",
       "      <th>...</th>\n",
       "      <td>...</td>\n",
       "      <td>...</td>\n",
       "      <td>...</td>\n",
       "      <td>...</td>\n",
       "      <td>...</td>\n",
       "    </tr>\n",
       "    <tr>\n",
       "      <th>1328</th>\n",
       "      <td>1768.0</td>\n",
       "      <td>1592.0</td>\n",
       "      <td>425.0</td>\n",
       "      <td>24873.0</td>\n",
       "      <td>844600</td>\n",
       "    </tr>\n",
       "    <tr>\n",
       "      <th>1329</th>\n",
       "      <td>1030.0</td>\n",
       "      <td>835.0</td>\n",
       "      <td>164.0</td>\n",
       "      <td>31037.0</td>\n",
       "      <td>844700</td>\n",
       "    </tr>\n",
       "    <tr>\n",
       "      <th>1330</th>\n",
       "      <td>NaN</td>\n",
       "      <td>NaN</td>\n",
       "      <td>NaN</td>\n",
       "      <td>NaN</td>\n",
       "      <td>980000</td>\n",
       "    </tr>\n",
       "    <tr>\n",
       "      <th>1331</th>\n",
       "      <td>NaN</td>\n",
       "      <td>NaN</td>\n",
       "      <td>NaN</td>\n",
       "      <td>NaN</td>\n",
       "      <td>980100</td>\n",
       "    </tr>\n",
       "    <tr>\n",
       "      <th>1332</th>\n",
       "      <td>NaN</td>\n",
       "      <td>NaN</td>\n",
       "      <td>NaN</td>\n",
       "      <td>NaN</td>\n",
       "      <td>990000</td>\n",
       "    </tr>\n",
       "  </tbody>\n",
       "</table>\n",
       "<p>1332 rows × 5 columns</p>\n",
       "</div>"
      ],
      "text/plain": [
       "      Population_over_25  High_school_plus_over_25  Bachelors_plus_over_25  \\\n",
       "1                 3285.0                    2886.0                  1678.0   \n",
       "2                 4931.0                    4230.0                  1616.0   \n",
       "3                 2178.0                    1769.0                   792.0   \n",
       "4                 5092.0                    4435.0                  2216.0   \n",
       "5                 2510.0                    2437.0                  1480.0   \n",
       "...                  ...                       ...                     ...   \n",
       "1328              1768.0                    1592.0                   425.0   \n",
       "1329              1030.0                     835.0                   164.0   \n",
       "1330                 NaN                       NaN                     NaN   \n",
       "1331                 NaN                       NaN                     NaN   \n",
       "1332                 NaN                       NaN                     NaN   \n",
       "\n",
       "      Median_earnings_over_25_1_year Census_Tract  \n",
       "1                            43829.0       010100  \n",
       "2                            36176.0       010201  \n",
       "3                            30365.0       010202  \n",
       "4                            46552.0       010300  \n",
       "5                            44372.0       010400  \n",
       "...                              ...          ...  \n",
       "1328                         24873.0       844600  \n",
       "1329                         31037.0       844700  \n",
       "1330                             NaN       980000  \n",
       "1331                             NaN       980100  \n",
       "1332                             NaN       990000  \n",
       "\n",
       "[1332 rows x 5 columns]"
      ]
     },
     "execution_count": 19,
     "metadata": {},
     "output_type": "execute_result"
    }
   ],
   "source": [
    "education_2021_clean"
   ]
  },
  {
   "cell_type": "code",
   "execution_count": 20,
   "metadata": {},
   "outputs": [],
   "source": [
    "education_2021_temp=education_2021_clean.copy()"
   ]
  },
  {
   "cell_type": "code",
   "execution_count": 21,
   "metadata": {},
   "outputs": [],
   "source": [
    "education_2021_temp['Census_Tract']=education_2021_temp['Census_Tract'].apply(lambda x: 's'+x)"
   ]
  },
  {
   "cell_type": "code",
   "execution_count": 22,
   "metadata": {},
   "outputs": [],
   "source": [
    "education_2021_temp.to_csv('../data/interim/wip/edu_2021.csv')"
   ]
  }
 ],
 "metadata": {
  "kernelspec": {
   "display_name": "base",
   "language": "python",
   "name": "python3"
  },
  "language_info": {
   "codemirror_mode": {
    "name": "ipython",
    "version": 3
   },
   "file_extension": ".py",
   "mimetype": "text/x-python",
   "name": "python",
   "nbconvert_exporter": "python",
   "pygments_lexer": "ipython3",
   "version": "3.9.13"
  },
  "orig_nbformat": 4,
  "vscode": {
   "interpreter": {
    "hash": "a4ccad7f4245b41ef23b14c32aed64178d0c17e4b57b15c0d4f0def3d96d0932"
   }
  }
 },
 "nbformat": 4,
 "nbformat_minor": 2
}
