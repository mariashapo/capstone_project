{
 "cells": [
  {
   "attachments": {},
   "cell_type": "markdown",
   "metadata": {},
   "source": [
    "# Predicting Gentrification\n",
    "*A study into planning application features that can help to signal early warnings of gentrification*\n",
    "</br></br></br></br>\n",
    "`Notebook 4: Classification Models`</br>\n",
    "Author: Mariia Shapovalova</br>\n",
    "Date: April, 2023"
   ]
  },
  {
   "attachments": {},
   "cell_type": "markdown",
   "metadata": {},
   "source": [
    "---\n",
    "## Table of Contents\n",
    "Notebook 4: Modelling\n",
    "- [0.0 Initial Models](#identifier_0)\n",
    "  - A - Model Containing all features\n",
    "  - B - Model with features that did not pass ttest in notebook 3 removed\n",
    "  - C - Model with multicollinear features removed\n",
    "  - Gridseach for model A and C\n",
    "  - Residuals viewed on the map\n",
    "- [1.0 NLP Model](#identifier_1)\n",
    "  - Initial NlP Model\n",
    "  - Gridsearch\n",
    "- [2.0 Stacked Model](#identifier_2)\n",
    "  - Optimizing the length of training and prediction windows\n",
    "  - Gridsearch\n"
   ]
  },
  {
   "attachments": {},
   "cell_type": "markdown",
   "metadata": {},
   "source": [
    "---\n",
    "<center><h2 id=\"identifier_0\">NOTEBOOK INTRODUCTION</h2><center>"
   ]
  },
  {
   "attachments": {},
   "cell_type": "markdown",
   "metadata": {},
   "source": [
    "* This notebook focuses on developing classification models based on previously defined metrics. \n",
    "* In this notebook, we will create three different model typologies:\n",
    "  * First typology: having one distinct census tract in the dataframe and predicting from a fixed year\n",
    "    * For this typology, three different set of features will be tested (all features, features that passed the statistical test and features after multicollinearity cleaning)\n",
    "  * Second typology: an NLP model to analyze the text descriptions of applications, attempting to define words that would indicate gentrification\n",
    "    * for this typology, only income and application descriptions will be used\n",
    "  * Third typology: \n",
    "    * instead of using a fixed year for prediction, looping through all possible year combinations given the input train and prediction window\n",
    "    * then stacking all the groups together to result in a larger dataset"
   ]
  },
  {
   "attachments": {},
   "cell_type": "markdown",
   "metadata": {},
   "source": [
    "***"
   ]
  },
  {
   "cell_type": "code",
   "execution_count": 36,
   "metadata": {},
   "outputs": [],
   "source": [
    "import pandas as pd\n",
    "import numpy as np\n",
    "\n",
    "#visualisations\n",
    "import matplotlib.pyplot as plt\n",
    "import seaborn as sns\n",
    "\n",
    "import re\n",
    "import random\n",
    "import joblib\n",
    "\n",
    "from sklearn.model_selection import train_test_split\n",
    "from sklearn.preprocessing import StandardScaler\n",
    "from sklearn.preprocessing import MinMaxScaler\n",
    "from sklearn.decomposition import PCA\n",
    "\n",
    "from sklearn.linear_model import LinearRegression\n",
    "from sklearn.linear_model import LogisticRegression\n",
    "from sklearn.neighbors import KNeighborsClassifier\n",
    "from sklearn.tree import DecisionTreeClassifier\n",
    "\n",
    "from sklearn.preprocessing import OneHotEncoder\n",
    "\n",
    "# To set up a temporary directory for caching pipeline results\n",
    "from tempfile import mkdtemp\n",
    "import tempfile\n",
    "\n",
    "# To build a pipelines \n",
    "from sklearn.pipeline import Pipeline\n",
    "from sklearn.preprocessing import FunctionTransformer\n",
    "\n",
    "# To build custom column column transformers\n",
    "from sklearn.base import BaseEstimator, TransformerMixin\n",
    "from sklearn.compose import ColumnTransformer\n",
    "\n",
    "# To do a cross-validated grid search\n",
    "from sklearn.model_selection import GridSearchCV\n",
    "\n",
    "import warnings\n",
    "warnings.filterwarnings('ignore')"
   ]
  },
  {
   "cell_type": "code",
   "execution_count": 37,
   "metadata": {},
   "outputs": [],
   "source": [
    "#import custom functions\n",
    "from functions import *"
   ]
  },
  {
   "attachments": {},
   "cell_type": "markdown",
   "metadata": {},
   "source": [
    "## Load Data"
   ]
  },
  {
   "cell_type": "code",
   "execution_count": 38,
   "metadata": {},
   "outputs": [],
   "source": [
    "df=pd.read_csv('../data/clean/merged_df',index_col=0)"
   ]
  },
  {
   "cell_type": "code",
   "execution_count": 39,
   "metadata": {},
   "outputs": [
    {
     "name": "stdout",
     "output_type": "stream",
     "text": [
      "The dataframe shape is (724869, 29)\n"
     ]
    },
    {
     "data": {
      "text/html": [
       "<div>\n",
       "<style scoped>\n",
       "    .dataframe tbody tr th:only-of-type {\n",
       "        vertical-align: middle;\n",
       "    }\n",
       "\n",
       "    .dataframe tbody tr th {\n",
       "        vertical-align: top;\n",
       "    }\n",
       "\n",
       "    .dataframe thead th {\n",
       "        text-align: right;\n",
       "    }\n",
       "</style>\n",
       "<table border=\"1\" class=\"dataframe\">\n",
       "  <thead>\n",
       "    <tr style=\"text-align: right;\">\n",
       "      <th></th>\n",
       "      <th>Data Types</th>\n",
       "      <th>Total Null Values</th>\n",
       "      <th>Null Values Percentage</th>\n",
       "      <th>Sample Value Head</th>\n",
       "      <th>Sample Value Tail</th>\n",
       "      <th>Sample Value</th>\n",
       "    </tr>\n",
       "    <tr>\n",
       "      <th>Column_Name</th>\n",
       "      <th></th>\n",
       "      <th></th>\n",
       "      <th></th>\n",
       "      <th></th>\n",
       "      <th></th>\n",
       "      <th></th>\n",
       "    </tr>\n",
       "  </thead>\n",
       "  <tbody>\n",
       "    <tr>\n",
       "      <th>PERMIT_TYPE</th>\n",
       "      <td>object</td>\n",
       "      <td>0</td>\n",
       "      <td>0.0</td>\n",
       "      <td>RENOVATION/ALTERATION</td>\n",
       "      <td>ELECTRIC WIRING</td>\n",
       "      <td>ELECTRIC WIRING</td>\n",
       "    </tr>\n",
       "    <tr>\n",
       "      <th>REVIEW_TYPE</th>\n",
       "      <td>object</td>\n",
       "      <td>0</td>\n",
       "      <td>0.0</td>\n",
       "      <td>STANDARD PLAN REVIEW</td>\n",
       "      <td>EASY PERMIT WEB</td>\n",
       "      <td>EASY PERMIT WEB</td>\n",
       "    </tr>\n",
       "    <tr>\n",
       "      <th>WORK_DESCRIPTION</th>\n",
       "      <td>object</td>\n",
       "      <td>0</td>\n",
       "      <td>0.0</td>\n",
       "      <td>INTERIOR REMODELING OF EXISTING 3 D.U. PER PLA...</td>\n",
       "      <td>INSTALLATION OF (1) 30 AMP DUAL POLE BREAKER A...</td>\n",
       "      <td>REVISION TO PERMIT #100546970 TO CHANGE THE EL...</td>\n",
       "    </tr>\n",
       "    <tr>\n",
       "      <th>CONTACT_1_TYPE</th>\n",
       "      <td>object</td>\n",
       "      <td>0</td>\n",
       "      <td>0.0</td>\n",
       "      <td>OWNER AS GENERAL CONTRACTOR</td>\n",
       "      <td>CONTRACTOR-ELECTRICAL</td>\n",
       "      <td>EXPEDITOR</td>\n",
       "    </tr>\n",
       "    <tr>\n",
       "      <th>CONTACT_1_CITY</th>\n",
       "      <td>object</td>\n",
       "      <td>0</td>\n",
       "      <td>0.0</td>\n",
       "      <td>CHICAGO</td>\n",
       "      <td>CHICAGO</td>\n",
       "      <td>CHICAGO</td>\n",
       "    </tr>\n",
       "    <tr>\n",
       "      <th>CONTACT_1_STATE</th>\n",
       "      <td>object</td>\n",
       "      <td>0</td>\n",
       "      <td>0.0</td>\n",
       "      <td>IL</td>\n",
       "      <td>IL</td>\n",
       "      <td>IL</td>\n",
       "    </tr>\n",
       "    <tr>\n",
       "      <th>LOG_PROCESSING_TIME</th>\n",
       "      <td>float64</td>\n",
       "      <td>0</td>\n",
       "      <td>0.0</td>\n",
       "      <td>4.394449</td>\n",
       "      <td>1.791759</td>\n",
       "      <td>-23.025851</td>\n",
       "    </tr>\n",
       "    <tr>\n",
       "      <th>LOG_BUILDING_FEE_PAID</th>\n",
       "      <td>float64</td>\n",
       "      <td>0</td>\n",
       "      <td>0.0</td>\n",
       "      <td>4.828314</td>\n",
       "      <td>3.688879</td>\n",
       "      <td>3.912023</td>\n",
       "    </tr>\n",
       "    <tr>\n",
       "      <th>LOG_ZONING_FEE_PAID</th>\n",
       "      <td>float64</td>\n",
       "      <td>0</td>\n",
       "      <td>0.0</td>\n",
       "      <td>4.317488</td>\n",
       "      <td>-23.025851</td>\n",
       "      <td>-23.025851</td>\n",
       "    </tr>\n",
       "    <tr>\n",
       "      <th>LOG_OTHER_FEE_PAID</th>\n",
       "      <td>float64</td>\n",
       "      <td>0</td>\n",
       "      <td>0.0</td>\n",
       "      <td>-23.025851</td>\n",
       "      <td>-23.025851</td>\n",
       "      <td>-23.025851</td>\n",
       "    </tr>\n",
       "    <tr>\n",
       "      <th>LOG_SUBTOTAL_PAID</th>\n",
       "      <td>float64</td>\n",
       "      <td>0</td>\n",
       "      <td>0.0</td>\n",
       "      <td>5.298317</td>\n",
       "      <td>3.688879</td>\n",
       "      <td>3.912023</td>\n",
       "    </tr>\n",
       "    <tr>\n",
       "      <th>LOG_TOTAL_FEE</th>\n",
       "      <td>float64</td>\n",
       "      <td>0</td>\n",
       "      <td>0.0</td>\n",
       "      <td>5.298317</td>\n",
       "      <td>3.688879</td>\n",
       "      <td>3.912023</td>\n",
       "    </tr>\n",
       "    <tr>\n",
       "      <th>LOG_REPORTED_COST</th>\n",
       "      <td>float64</td>\n",
       "      <td>0</td>\n",
       "      <td>0.0</td>\n",
       "      <td>8.006368</td>\n",
       "      <td>6.214608</td>\n",
       "      <td>3.912023</td>\n",
       "    </tr>\n",
       "    <tr>\n",
       "      <th>YEAR</th>\n",
       "      <td>int64</td>\n",
       "      <td>0</td>\n",
       "      <td>0.0</td>\n",
       "      <td>2006</td>\n",
       "      <td>2007</td>\n",
       "      <td>2014</td>\n",
       "    </tr>\n",
       "    <tr>\n",
       "      <th>New_Topics</th>\n",
       "      <td>object</td>\n",
       "      <td>0</td>\n",
       "      <td>0.0</td>\n",
       "      <td>porch</td>\n",
       "      <td>electricity upgrade</td>\n",
       "      <td>wrecking</td>\n",
       "    </tr>\n",
       "    <tr>\n",
       "      <th>Census_Tract</th>\n",
       "      <td>float64</td>\n",
       "      <td>0</td>\n",
       "      <td>0.0</td>\n",
       "      <td>220702.0</td>\n",
       "      <td>813801.0</td>\n",
       "      <td>81500.0</td>\n",
       "    </tr>\n",
       "    <tr>\n",
       "      <th>Mean_Income_2010</th>\n",
       "      <td>float64</td>\n",
       "      <td>0</td>\n",
       "      <td>0.0</td>\n",
       "      <td>49437.0</td>\n",
       "      <td>55427.0</td>\n",
       "      <td>158728.0</td>\n",
       "    </tr>\n",
       "    <tr>\n",
       "      <th>Mean_Income_2011</th>\n",
       "      <td>float64</td>\n",
       "      <td>0</td>\n",
       "      <td>0.0</td>\n",
       "      <td>49646.0</td>\n",
       "      <td>53797.0</td>\n",
       "      <td>171276.0</td>\n",
       "    </tr>\n",
       "    <tr>\n",
       "      <th>Mean_Income_2012</th>\n",
       "      <td>float64</td>\n",
       "      <td>0</td>\n",
       "      <td>0.0</td>\n",
       "      <td>51154.0</td>\n",
       "      <td>46439.0</td>\n",
       "      <td>180521.0</td>\n",
       "    </tr>\n",
       "    <tr>\n",
       "      <th>Mean_Income_2013</th>\n",
       "      <td>float64</td>\n",
       "      <td>0</td>\n",
       "      <td>0.0</td>\n",
       "      <td>48068.0</td>\n",
       "      <td>48099.0</td>\n",
       "      <td>175891.0</td>\n",
       "    </tr>\n",
       "    <tr>\n",
       "      <th>Mean_Income_2014</th>\n",
       "      <td>float64</td>\n",
       "      <td>0</td>\n",
       "      <td>0.0</td>\n",
       "      <td>47427.0</td>\n",
       "      <td>46662.0</td>\n",
       "      <td>165600.0</td>\n",
       "    </tr>\n",
       "    <tr>\n",
       "      <th>Mean_Income_2015</th>\n",
       "      <td>float64</td>\n",
       "      <td>0</td>\n",
       "      <td>0.0</td>\n",
       "      <td>52271.0</td>\n",
       "      <td>47319.0</td>\n",
       "      <td>163442.0</td>\n",
       "    </tr>\n",
       "    <tr>\n",
       "      <th>Mean_Income_2016</th>\n",
       "      <td>float64</td>\n",
       "      <td>0</td>\n",
       "      <td>0.0</td>\n",
       "      <td>59620.0</td>\n",
       "      <td>52432.0</td>\n",
       "      <td>169209.0</td>\n",
       "    </tr>\n",
       "    <tr>\n",
       "      <th>Mean_Income_2017</th>\n",
       "      <td>float64</td>\n",
       "      <td>0</td>\n",
       "      <td>0.0</td>\n",
       "      <td>67280.0</td>\n",
       "      <td>52461.0</td>\n",
       "      <td>161542.0</td>\n",
       "    </tr>\n",
       "    <tr>\n",
       "      <th>Mean_Income_2018</th>\n",
       "      <td>float64</td>\n",
       "      <td>0</td>\n",
       "      <td>0.0</td>\n",
       "      <td>72035.0</td>\n",
       "      <td>54678.0</td>\n",
       "      <td>168072.0</td>\n",
       "    </tr>\n",
       "    <tr>\n",
       "      <th>Mean_Income_2019</th>\n",
       "      <td>float64</td>\n",
       "      <td>0</td>\n",
       "      <td>0.0</td>\n",
       "      <td>78153.0</td>\n",
       "      <td>58207.0</td>\n",
       "      <td>199530.0</td>\n",
       "    </tr>\n",
       "    <tr>\n",
       "      <th>Mean_Income_2020</th>\n",
       "      <td>float64</td>\n",
       "      <td>0</td>\n",
       "      <td>0.0</td>\n",
       "      <td>83630.0</td>\n",
       "      <td>54888.0</td>\n",
       "      <td>191480.0</td>\n",
       "    </tr>\n",
       "    <tr>\n",
       "      <th>Mean_Income_2021</th>\n",
       "      <td>float64</td>\n",
       "      <td>0</td>\n",
       "      <td>0.0</td>\n",
       "      <td>87528.0</td>\n",
       "      <td>57468.0</td>\n",
       "      <td>200452.0</td>\n",
       "    </tr>\n",
       "    <tr>\n",
       "      <th>Household_Count</th>\n",
       "      <td>float64</td>\n",
       "      <td>0</td>\n",
       "      <td>0.0</td>\n",
       "      <td>1320.5</td>\n",
       "      <td>760.5</td>\n",
       "      <td>2976.0</td>\n",
       "    </tr>\n",
       "  </tbody>\n",
       "</table>\n",
       "</div>"
      ],
      "text/plain": [
       "                      Data Types  Total Null Values  Null Values Percentage  \\\n",
       "Column_Name                                                                   \n",
       "PERMIT_TYPE               object                  0                     0.0   \n",
       "REVIEW_TYPE               object                  0                     0.0   \n",
       "WORK_DESCRIPTION          object                  0                     0.0   \n",
       "CONTACT_1_TYPE            object                  0                     0.0   \n",
       "CONTACT_1_CITY            object                  0                     0.0   \n",
       "CONTACT_1_STATE           object                  0                     0.0   \n",
       "LOG_PROCESSING_TIME      float64                  0                     0.0   \n",
       "LOG_BUILDING_FEE_PAID    float64                  0                     0.0   \n",
       "LOG_ZONING_FEE_PAID      float64                  0                     0.0   \n",
       "LOG_OTHER_FEE_PAID       float64                  0                     0.0   \n",
       "LOG_SUBTOTAL_PAID        float64                  0                     0.0   \n",
       "LOG_TOTAL_FEE            float64                  0                     0.0   \n",
       "LOG_REPORTED_COST        float64                  0                     0.0   \n",
       "YEAR                       int64                  0                     0.0   \n",
       "New_Topics                object                  0                     0.0   \n",
       "Census_Tract             float64                  0                     0.0   \n",
       "Mean_Income_2010         float64                  0                     0.0   \n",
       "Mean_Income_2011         float64                  0                     0.0   \n",
       "Mean_Income_2012         float64                  0                     0.0   \n",
       "Mean_Income_2013         float64                  0                     0.0   \n",
       "Mean_Income_2014         float64                  0                     0.0   \n",
       "Mean_Income_2015         float64                  0                     0.0   \n",
       "Mean_Income_2016         float64                  0                     0.0   \n",
       "Mean_Income_2017         float64                  0                     0.0   \n",
       "Mean_Income_2018         float64                  0                     0.0   \n",
       "Mean_Income_2019         float64                  0                     0.0   \n",
       "Mean_Income_2020         float64                  0                     0.0   \n",
       "Mean_Income_2021         float64                  0                     0.0   \n",
       "Household_Count          float64                  0                     0.0   \n",
       "\n",
       "                                                       Sample Value Head  \\\n",
       "Column_Name                                                                \n",
       "PERMIT_TYPE                                        RENOVATION/ALTERATION   \n",
       "REVIEW_TYPE                                         STANDARD PLAN REVIEW   \n",
       "WORK_DESCRIPTION       INTERIOR REMODELING OF EXISTING 3 D.U. PER PLA...   \n",
       "CONTACT_1_TYPE                               OWNER AS GENERAL CONTRACTOR   \n",
       "CONTACT_1_CITY                                                   CHICAGO   \n",
       "CONTACT_1_STATE                                                       IL   \n",
       "LOG_PROCESSING_TIME                                             4.394449   \n",
       "LOG_BUILDING_FEE_PAID                                           4.828314   \n",
       "LOG_ZONING_FEE_PAID                                             4.317488   \n",
       "LOG_OTHER_FEE_PAID                                            -23.025851   \n",
       "LOG_SUBTOTAL_PAID                                               5.298317   \n",
       "LOG_TOTAL_FEE                                                   5.298317   \n",
       "LOG_REPORTED_COST                                               8.006368   \n",
       "YEAR                                                                2006   \n",
       "New_Topics                                                         porch   \n",
       "Census_Tract                                                    220702.0   \n",
       "Mean_Income_2010                                                 49437.0   \n",
       "Mean_Income_2011                                                 49646.0   \n",
       "Mean_Income_2012                                                 51154.0   \n",
       "Mean_Income_2013                                                 48068.0   \n",
       "Mean_Income_2014                                                 47427.0   \n",
       "Mean_Income_2015                                                 52271.0   \n",
       "Mean_Income_2016                                                 59620.0   \n",
       "Mean_Income_2017                                                 67280.0   \n",
       "Mean_Income_2018                                                 72035.0   \n",
       "Mean_Income_2019                                                 78153.0   \n",
       "Mean_Income_2020                                                 83630.0   \n",
       "Mean_Income_2021                                                 87528.0   \n",
       "Household_Count                                                   1320.5   \n",
       "\n",
       "                                                       Sample Value Tail  \\\n",
       "Column_Name                                                                \n",
       "PERMIT_TYPE                                              ELECTRIC WIRING   \n",
       "REVIEW_TYPE                                              EASY PERMIT WEB   \n",
       "WORK_DESCRIPTION       INSTALLATION OF (1) 30 AMP DUAL POLE BREAKER A...   \n",
       "CONTACT_1_TYPE                                     CONTRACTOR-ELECTRICAL   \n",
       "CONTACT_1_CITY                                                   CHICAGO   \n",
       "CONTACT_1_STATE                                                       IL   \n",
       "LOG_PROCESSING_TIME                                             1.791759   \n",
       "LOG_BUILDING_FEE_PAID                                           3.688879   \n",
       "LOG_ZONING_FEE_PAID                                           -23.025851   \n",
       "LOG_OTHER_FEE_PAID                                            -23.025851   \n",
       "LOG_SUBTOTAL_PAID                                               3.688879   \n",
       "LOG_TOTAL_FEE                                                   3.688879   \n",
       "LOG_REPORTED_COST                                               6.214608   \n",
       "YEAR                                                                2007   \n",
       "New_Topics                                           electricity upgrade   \n",
       "Census_Tract                                                    813801.0   \n",
       "Mean_Income_2010                                                 55427.0   \n",
       "Mean_Income_2011                                                 53797.0   \n",
       "Mean_Income_2012                                                 46439.0   \n",
       "Mean_Income_2013                                                 48099.0   \n",
       "Mean_Income_2014                                                 46662.0   \n",
       "Mean_Income_2015                                                 47319.0   \n",
       "Mean_Income_2016                                                 52432.0   \n",
       "Mean_Income_2017                                                 52461.0   \n",
       "Mean_Income_2018                                                 54678.0   \n",
       "Mean_Income_2019                                                 58207.0   \n",
       "Mean_Income_2020                                                 54888.0   \n",
       "Mean_Income_2021                                                 57468.0   \n",
       "Household_Count                                                    760.5   \n",
       "\n",
       "                                                            Sample Value  \n",
       "Column_Name                                                               \n",
       "PERMIT_TYPE                                              ELECTRIC WIRING  \n",
       "REVIEW_TYPE                                              EASY PERMIT WEB  \n",
       "WORK_DESCRIPTION       REVISION TO PERMIT #100546970 TO CHANGE THE EL...  \n",
       "CONTACT_1_TYPE                                                 EXPEDITOR  \n",
       "CONTACT_1_CITY                                                   CHICAGO  \n",
       "CONTACT_1_STATE                                                       IL  \n",
       "LOG_PROCESSING_TIME                                           -23.025851  \n",
       "LOG_BUILDING_FEE_PAID                                           3.912023  \n",
       "LOG_ZONING_FEE_PAID                                           -23.025851  \n",
       "LOG_OTHER_FEE_PAID                                            -23.025851  \n",
       "LOG_SUBTOTAL_PAID                                               3.912023  \n",
       "LOG_TOTAL_FEE                                                   3.912023  \n",
       "LOG_REPORTED_COST                                               3.912023  \n",
       "YEAR                                                                2014  \n",
       "New_Topics                                                      wrecking  \n",
       "Census_Tract                                                     81500.0  \n",
       "Mean_Income_2010                                                158728.0  \n",
       "Mean_Income_2011                                                171276.0  \n",
       "Mean_Income_2012                                                180521.0  \n",
       "Mean_Income_2013                                                175891.0  \n",
       "Mean_Income_2014                                                165600.0  \n",
       "Mean_Income_2015                                                163442.0  \n",
       "Mean_Income_2016                                                169209.0  \n",
       "Mean_Income_2017                                                161542.0  \n",
       "Mean_Income_2018                                                168072.0  \n",
       "Mean_Income_2019                                                199530.0  \n",
       "Mean_Income_2020                                                191480.0  \n",
       "Mean_Income_2021                                                200452.0  \n",
       "Household_Count                                                   2976.0  "
      ]
     },
     "execution_count": 39,
     "metadata": {},
     "output_type": "execute_result"
    }
   ],
   "source": [
    "overview (df)"
   ]
  },
  {
   "attachments": {},
   "cell_type": "markdown",
   "metadata": {},
   "source": [
    "***\n",
    "<center><h2>Test/Remainder Split<center><h2>"
   ]
  },
  {
   "cell_type": "code",
   "execution_count": 43,
   "metadata": {},
   "outputs": [
    {
     "data": {
      "text/html": [
       "<div>\n",
       "<style scoped>\n",
       "    .dataframe tbody tr th:only-of-type {\n",
       "        vertical-align: middle;\n",
       "    }\n",
       "\n",
       "    .dataframe tbody tr th {\n",
       "        vertical-align: top;\n",
       "    }\n",
       "\n",
       "    .dataframe thead th {\n",
       "        text-align: right;\n",
       "    }\n",
       "</style>\n",
       "<table border=\"1\" class=\"dataframe\">\n",
       "  <thead>\n",
       "    <tr style=\"text-align: right;\">\n",
       "      <th></th>\n",
       "      <th>PERMIT_TYPE</th>\n",
       "      <th>REVIEW_TYPE</th>\n",
       "      <th>WORK_DESCRIPTION</th>\n",
       "      <th>CONTACT_1_TYPE</th>\n",
       "      <th>CONTACT_1_CITY</th>\n",
       "      <th>CONTACT_1_STATE</th>\n",
       "      <th>LOG_PROCESSING_TIME</th>\n",
       "      <th>LOG_BUILDING_FEE_PAID</th>\n",
       "      <th>LOG_ZONING_FEE_PAID</th>\n",
       "      <th>LOG_OTHER_FEE_PAID</th>\n",
       "      <th>...</th>\n",
       "      <th>Mean_Income_2013</th>\n",
       "      <th>Mean_Income_2014</th>\n",
       "      <th>Mean_Income_2015</th>\n",
       "      <th>Mean_Income_2016</th>\n",
       "      <th>Mean_Income_2017</th>\n",
       "      <th>Mean_Income_2018</th>\n",
       "      <th>Mean_Income_2019</th>\n",
       "      <th>Mean_Income_2020</th>\n",
       "      <th>Mean_Income_2021</th>\n",
       "      <th>Household_Count</th>\n",
       "    </tr>\n",
       "  </thead>\n",
       "  <tbody>\n",
       "    <tr>\n",
       "      <th>523748</th>\n",
       "      <td>EASY PERMIT PROCESS</td>\n",
       "      <td>EASY PERMIT</td>\n",
       "      <td>INSTALL (1) LAYER OF RUBBER ROLL-SEAL EDGES WI...</td>\n",
       "      <td>OWNER AS GENERAL CONTRACTOR</td>\n",
       "      <td>CHICAGO</td>\n",
       "      <td>IL</td>\n",
       "      <td>-23.025851</td>\n",
       "      <td>4.923624</td>\n",
       "      <td>4.317488</td>\n",
       "      <td>-23.025851</td>\n",
       "      <td>...</td>\n",
       "      <td>190800.0</td>\n",
       "      <td>185166.0</td>\n",
       "      <td>172638.0</td>\n",
       "      <td>168201.0</td>\n",
       "      <td>182847.0</td>\n",
       "      <td>224724.0</td>\n",
       "      <td>265489.0</td>\n",
       "      <td>303998.0</td>\n",
       "      <td>316864.0</td>\n",
       "      <td>1238.0</td>\n",
       "    </tr>\n",
       "    <tr>\n",
       "      <th>523749</th>\n",
       "      <td>ELECTRIC WIRING</td>\n",
       "      <td>ELECTRICAL PLAN REVIEW</td>\n",
       "      <td>Install low voltage burglar alarm check # 8647</td>\n",
       "      <td>CONTRACTOR-ELECTRICAL</td>\n",
       "      <td>CHICAGO_SUBURBS</td>\n",
       "      <td>TX</td>\n",
       "      <td>3.663562</td>\n",
       "      <td>3.688879</td>\n",
       "      <td>-23.025851</td>\n",
       "      <td>-23.025851</td>\n",
       "      <td>...</td>\n",
       "      <td>190800.0</td>\n",
       "      <td>185166.0</td>\n",
       "      <td>172638.0</td>\n",
       "      <td>168201.0</td>\n",
       "      <td>182847.0</td>\n",
       "      <td>224724.0</td>\n",
       "      <td>265489.0</td>\n",
       "      <td>303998.0</td>\n",
       "      <td>316864.0</td>\n",
       "      <td>1238.0</td>\n",
       "    </tr>\n",
       "    <tr>\n",
       "      <th>523750</th>\n",
       "      <td>DROP</td>\n",
       "      <td>STANDARD PLAN REVIEW</td>\n",
       "      <td>ALL WORK SUBJECT TO FIELD INSPECTION : REMOVE ...</td>\n",
       "      <td>CONTRACTOR-GENERAL CONTRACTOR</td>\n",
       "      <td>CHICAGO</td>\n",
       "      <td>IL</td>\n",
       "      <td>-23.025851</td>\n",
       "      <td>4.665795</td>\n",
       "      <td>4.317488</td>\n",
       "      <td>-23.025851</td>\n",
       "      <td>...</td>\n",
       "      <td>190800.0</td>\n",
       "      <td>185166.0</td>\n",
       "      <td>172638.0</td>\n",
       "      <td>168201.0</td>\n",
       "      <td>182847.0</td>\n",
       "      <td>224724.0</td>\n",
       "      <td>265489.0</td>\n",
       "      <td>303998.0</td>\n",
       "      <td>316864.0</td>\n",
       "      <td>1238.0</td>\n",
       "    </tr>\n",
       "    <tr>\n",
       "      <th>523751</th>\n",
       "      <td>EASY PERMIT PROCESS</td>\n",
       "      <td>EASY PERMIT</td>\n",
       "      <td>REPLACE PLUMBING FIXTURES ONLY</td>\n",
       "      <td>CONTRACTOR-PLUMBER/PLUMBING</td>\n",
       "      <td>CHICAGO_SUBURBS</td>\n",
       "      <td>OTHER</td>\n",
       "      <td>-23.025851</td>\n",
       "      <td>4.653960</td>\n",
       "      <td>-23.025851</td>\n",
       "      <td>-23.025851</td>\n",
       "      <td>...</td>\n",
       "      <td>190800.0</td>\n",
       "      <td>185166.0</td>\n",
       "      <td>172638.0</td>\n",
       "      <td>168201.0</td>\n",
       "      <td>182847.0</td>\n",
       "      <td>224724.0</td>\n",
       "      <td>265489.0</td>\n",
       "      <td>303998.0</td>\n",
       "      <td>316864.0</td>\n",
       "      <td>1238.0</td>\n",
       "    </tr>\n",
       "    <tr>\n",
       "      <th>523752</th>\n",
       "      <td>EASY PERMIT PROCESS</td>\n",
       "      <td>EASY PERMIT</td>\n",
       "      <td>REVISION TO PERMIT 100237152 ISSUED 6/ 26 / 08...</td>\n",
       "      <td>CONTRACTOR-GENERAL CONTRACTOR</td>\n",
       "      <td>CHICAGO</td>\n",
       "      <td>IL</td>\n",
       "      <td>-23.025851</td>\n",
       "      <td>3.912023</td>\n",
       "      <td>-23.025851</td>\n",
       "      <td>-23.025851</td>\n",
       "      <td>...</td>\n",
       "      <td>190800.0</td>\n",
       "      <td>185166.0</td>\n",
       "      <td>172638.0</td>\n",
       "      <td>168201.0</td>\n",
       "      <td>182847.0</td>\n",
       "      <td>224724.0</td>\n",
       "      <td>265489.0</td>\n",
       "      <td>303998.0</td>\n",
       "      <td>316864.0</td>\n",
       "      <td>1238.0</td>\n",
       "    </tr>\n",
       "    <tr>\n",
       "      <th>...</th>\n",
       "      <td>...</td>\n",
       "      <td>...</td>\n",
       "      <td>...</td>\n",
       "      <td>...</td>\n",
       "      <td>...</td>\n",
       "      <td>...</td>\n",
       "      <td>...</td>\n",
       "      <td>...</td>\n",
       "      <td>...</td>\n",
       "      <td>...</td>\n",
       "      <td>...</td>\n",
       "      <td>...</td>\n",
       "      <td>...</td>\n",
       "      <td>...</td>\n",
       "      <td>...</td>\n",
       "      <td>...</td>\n",
       "      <td>...</td>\n",
       "      <td>...</td>\n",
       "      <td>...</td>\n",
       "      <td>...</td>\n",
       "      <td>...</td>\n",
       "    </tr>\n",
       "    <tr>\n",
       "      <th>524609</th>\n",
       "      <td>EASY PERMIT PROCESS</td>\n",
       "      <td>EASY PERMIT</td>\n",
       "      <td>CONCRETE REPAIRS. SLABJACKING &amp; GROUTING.</td>\n",
       "      <td>MASONRY CONTRACTOR</td>\n",
       "      <td>OTHER</td>\n",
       "      <td>IL</td>\n",
       "      <td>-23.025851</td>\n",
       "      <td>5.521461</td>\n",
       "      <td>3.912023</td>\n",
       "      <td>-23.025851</td>\n",
       "      <td>...</td>\n",
       "      <td>190800.0</td>\n",
       "      <td>185166.0</td>\n",
       "      <td>172638.0</td>\n",
       "      <td>168201.0</td>\n",
       "      <td>182847.0</td>\n",
       "      <td>224724.0</td>\n",
       "      <td>265489.0</td>\n",
       "      <td>303998.0</td>\n",
       "      <td>316864.0</td>\n",
       "      <td>1238.0</td>\n",
       "    </tr>\n",
       "    <tr>\n",
       "      <th>524610</th>\n",
       "      <td>EASY PERMIT PROCESS</td>\n",
       "      <td>EASY PERMIT</td>\n",
       "      <td>WORK TO UNIT A: INSTALL (1) HELICAL SHAFT WITH...</td>\n",
       "      <td>EXPEDITOR</td>\n",
       "      <td>CHICAGO</td>\n",
       "      <td>IL</td>\n",
       "      <td>-23.025851</td>\n",
       "      <td>5.521461</td>\n",
       "      <td>3.912023</td>\n",
       "      <td>-23.025851</td>\n",
       "      <td>...</td>\n",
       "      <td>190800.0</td>\n",
       "      <td>185166.0</td>\n",
       "      <td>172638.0</td>\n",
       "      <td>168201.0</td>\n",
       "      <td>182847.0</td>\n",
       "      <td>224724.0</td>\n",
       "      <td>265489.0</td>\n",
       "      <td>303998.0</td>\n",
       "      <td>316864.0</td>\n",
       "      <td>1238.0</td>\n",
       "    </tr>\n",
       "    <tr>\n",
       "      <th>524611</th>\n",
       "      <td>RENOVATION/ALTERATION</td>\n",
       "      <td>STANDARD PLAN REVIEW</td>\n",
       "      <td>FOUNDATION REINFORCING FOR EXISTING TWO STORY ...</td>\n",
       "      <td>OWNER OCCUPIED</td>\n",
       "      <td>CHICAGO</td>\n",
       "      <td>IL</td>\n",
       "      <td>-23.025851</td>\n",
       "      <td>6.329721</td>\n",
       "      <td>3.912023</td>\n",
       "      <td>-23.025851</td>\n",
       "      <td>...</td>\n",
       "      <td>190800.0</td>\n",
       "      <td>185166.0</td>\n",
       "      <td>172638.0</td>\n",
       "      <td>168201.0</td>\n",
       "      <td>182847.0</td>\n",
       "      <td>224724.0</td>\n",
       "      <td>265489.0</td>\n",
       "      <td>303998.0</td>\n",
       "      <td>316864.0</td>\n",
       "      <td>1238.0</td>\n",
       "    </tr>\n",
       "    <tr>\n",
       "      <th>524612</th>\n",
       "      <td>RENOVATION/ALTERATION</td>\n",
       "      <td>STANDARD PLAN REVIEW</td>\n",
       "      <td>FOUNDATION UNDERPINNING OF AN EXISTING THREE (...</td>\n",
       "      <td>OWNER OCCUPIED</td>\n",
       "      <td>CHICAGO</td>\n",
       "      <td>IL</td>\n",
       "      <td>3.367296</td>\n",
       "      <td>6.214608</td>\n",
       "      <td>3.912023</td>\n",
       "      <td>-23.025851</td>\n",
       "      <td>...</td>\n",
       "      <td>190800.0</td>\n",
       "      <td>185166.0</td>\n",
       "      <td>172638.0</td>\n",
       "      <td>168201.0</td>\n",
       "      <td>182847.0</td>\n",
       "      <td>224724.0</td>\n",
       "      <td>265489.0</td>\n",
       "      <td>303998.0</td>\n",
       "      <td>316864.0</td>\n",
       "      <td>1238.0</td>\n",
       "    </tr>\n",
       "    <tr>\n",
       "      <th>524613</th>\n",
       "      <td>RENOVATION/ALTERATION</td>\n",
       "      <td>STANDARD PLAN REVIEW</td>\n",
       "      <td>ERECT 3RD FLOOR. &amp; PARTIAL 4TH FLOOR. MASONRY ...</td>\n",
       "      <td>OWNER</td>\n",
       "      <td>CHICAGO</td>\n",
       "      <td>IL</td>\n",
       "      <td>3.135494</td>\n",
       "      <td>7.198632</td>\n",
       "      <td>4.317488</td>\n",
       "      <td>-23.025851</td>\n",
       "      <td>...</td>\n",
       "      <td>190800.0</td>\n",
       "      <td>185166.0</td>\n",
       "      <td>172638.0</td>\n",
       "      <td>168201.0</td>\n",
       "      <td>182847.0</td>\n",
       "      <td>224724.0</td>\n",
       "      <td>265489.0</td>\n",
       "      <td>303998.0</td>\n",
       "      <td>316864.0</td>\n",
       "      <td>1238.0</td>\n",
       "    </tr>\n",
       "  </tbody>\n",
       "</table>\n",
       "<p>866 rows × 29 columns</p>\n",
       "</div>"
      ],
      "text/plain": [
       "                  PERMIT_TYPE             REVIEW_TYPE  \\\n",
       "523748    EASY PERMIT PROCESS             EASY PERMIT   \n",
       "523749        ELECTRIC WIRING  ELECTRICAL PLAN REVIEW   \n",
       "523750                   DROP    STANDARD PLAN REVIEW   \n",
       "523751    EASY PERMIT PROCESS             EASY PERMIT   \n",
       "523752    EASY PERMIT PROCESS             EASY PERMIT   \n",
       "...                       ...                     ...   \n",
       "524609    EASY PERMIT PROCESS             EASY PERMIT   \n",
       "524610    EASY PERMIT PROCESS             EASY PERMIT   \n",
       "524611  RENOVATION/ALTERATION    STANDARD PLAN REVIEW   \n",
       "524612  RENOVATION/ALTERATION    STANDARD PLAN REVIEW   \n",
       "524613  RENOVATION/ALTERATION    STANDARD PLAN REVIEW   \n",
       "\n",
       "                                         WORK_DESCRIPTION  \\\n",
       "523748  INSTALL (1) LAYER OF RUBBER ROLL-SEAL EDGES WI...   \n",
       "523749     Install low voltage burglar alarm check # 8647   \n",
       "523750  ALL WORK SUBJECT TO FIELD INSPECTION : REMOVE ...   \n",
       "523751                     REPLACE PLUMBING FIXTURES ONLY   \n",
       "523752  REVISION TO PERMIT 100237152 ISSUED 6/ 26 / 08...   \n",
       "...                                                   ...   \n",
       "524609          CONCRETE REPAIRS. SLABJACKING & GROUTING.   \n",
       "524610  WORK TO UNIT A: INSTALL (1) HELICAL SHAFT WITH...   \n",
       "524611  FOUNDATION REINFORCING FOR EXISTING TWO STORY ...   \n",
       "524612  FOUNDATION UNDERPINNING OF AN EXISTING THREE (...   \n",
       "524613  ERECT 3RD FLOOR. & PARTIAL 4TH FLOOR. MASONRY ...   \n",
       "\n",
       "                       CONTACT_1_TYPE   CONTACT_1_CITY CONTACT_1_STATE  \\\n",
       "523748    OWNER AS GENERAL CONTRACTOR          CHICAGO              IL   \n",
       "523749          CONTRACTOR-ELECTRICAL  CHICAGO_SUBURBS              TX   \n",
       "523750  CONTRACTOR-GENERAL CONTRACTOR          CHICAGO              IL   \n",
       "523751    CONTRACTOR-PLUMBER/PLUMBING  CHICAGO_SUBURBS           OTHER   \n",
       "523752  CONTRACTOR-GENERAL CONTRACTOR          CHICAGO              IL   \n",
       "...                               ...              ...             ...   \n",
       "524609             MASONRY CONTRACTOR            OTHER              IL   \n",
       "524610                      EXPEDITOR          CHICAGO              IL   \n",
       "524611                 OWNER OCCUPIED          CHICAGO              IL   \n",
       "524612                 OWNER OCCUPIED          CHICAGO              IL   \n",
       "524613                          OWNER          CHICAGO              IL   \n",
       "\n",
       "        LOG_PROCESSING_TIME  LOG_BUILDING_FEE_PAID  LOG_ZONING_FEE_PAID  \\\n",
       "523748           -23.025851               4.923624             4.317488   \n",
       "523749             3.663562               3.688879           -23.025851   \n",
       "523750           -23.025851               4.665795             4.317488   \n",
       "523751           -23.025851               4.653960           -23.025851   \n",
       "523752           -23.025851               3.912023           -23.025851   \n",
       "...                     ...                    ...                  ...   \n",
       "524609           -23.025851               5.521461             3.912023   \n",
       "524610           -23.025851               5.521461             3.912023   \n",
       "524611           -23.025851               6.329721             3.912023   \n",
       "524612             3.367296               6.214608             3.912023   \n",
       "524613             3.135494               7.198632             4.317488   \n",
       "\n",
       "        LOG_OTHER_FEE_PAID  ...  Mean_Income_2013  Mean_Income_2014  \\\n",
       "523748          -23.025851  ...          190800.0          185166.0   \n",
       "523749          -23.025851  ...          190800.0          185166.0   \n",
       "523750          -23.025851  ...          190800.0          185166.0   \n",
       "523751          -23.025851  ...          190800.0          185166.0   \n",
       "523752          -23.025851  ...          190800.0          185166.0   \n",
       "...                    ...  ...               ...               ...   \n",
       "524609          -23.025851  ...          190800.0          185166.0   \n",
       "524610          -23.025851  ...          190800.0          185166.0   \n",
       "524611          -23.025851  ...          190800.0          185166.0   \n",
       "524612          -23.025851  ...          190800.0          185166.0   \n",
       "524613          -23.025851  ...          190800.0          185166.0   \n",
       "\n",
       "        Mean_Income_2015  Mean_Income_2016 Mean_Income_2017  Mean_Income_2018  \\\n",
       "523748          172638.0          168201.0         182847.0          224724.0   \n",
       "523749          172638.0          168201.0         182847.0          224724.0   \n",
       "523750          172638.0          168201.0         182847.0          224724.0   \n",
       "523751          172638.0          168201.0         182847.0          224724.0   \n",
       "523752          172638.0          168201.0         182847.0          224724.0   \n",
       "...                  ...               ...              ...               ...   \n",
       "524609          172638.0          168201.0         182847.0          224724.0   \n",
       "524610          172638.0          168201.0         182847.0          224724.0   \n",
       "524611          172638.0          168201.0         182847.0          224724.0   \n",
       "524612          172638.0          168201.0         182847.0          224724.0   \n",
       "524613          172638.0          168201.0         182847.0          224724.0   \n",
       "\n",
       "        Mean_Income_2019  Mean_Income_2020  Mean_Income_2021  Household_Count  \n",
       "523748          265489.0          303998.0          316864.0           1238.0  \n",
       "523749          265489.0          303998.0          316864.0           1238.0  \n",
       "523750          265489.0          303998.0          316864.0           1238.0  \n",
       "523751          265489.0          303998.0          316864.0           1238.0  \n",
       "523752          265489.0          303998.0          316864.0           1238.0  \n",
       "...                  ...               ...               ...              ...  \n",
       "524609          265489.0          303998.0          316864.0           1238.0  \n",
       "524610          265489.0          303998.0          316864.0           1238.0  \n",
       "524611          265489.0          303998.0          316864.0           1238.0  \n",
       "524612          265489.0          303998.0          316864.0           1238.0  \n",
       "524613          265489.0          303998.0          316864.0           1238.0  \n",
       "\n",
       "[866 rows x 29 columns]"
      ]
     },
     "execution_count": 43,
     "metadata": {},
     "output_type": "execute_result"
    }
   ],
   "source": [
    "df.query('Mean_Income_2021 == Mean_Income_2021.max()')"
   ]
  },
  {
   "cell_type": "code",
   "execution_count": 40,
   "metadata": {},
   "outputs": [
    {
     "data": {
      "text/plain": [
       "'egg'"
      ]
     },
     "execution_count": 40,
     "metadata": {},
     "output_type": "execute_result"
    }
   ],
   "source": [
    "m = re.search(r'(?<=-)\\w+', 'spam-egg')\n",
    "m.group(0)"
   ]
  },
  {
   "cell_type": "code",
   "execution_count": 30,
   "metadata": {},
   "outputs": [
    {
     "data": {
      "text/plain": [
       "1"
      ]
     },
     "execution_count": 30,
     "metadata": {},
     "output_type": "execute_result"
    }
   ],
   "source": [
    "'1hey'.find('hey')"
   ]
  },
  {
   "cell_type": "code",
   "execution_count": 27,
   "metadata": {},
   "outputs": [
    {
     "data": {
      "text/plain": [
       "0         INTERIOR REMODELING OF EXISTING 3 D.U. PER PLA...\n",
       "1         REPLACE REAR OPEN WOOD PORCH WITH A NEW STEELW...\n",
       "2         DECONVERT 2ND FLOOR APARTMENT TO MAKE BUILDING...\n",
       "3                                 LOW VOLTAGE BURGLAR ALARM\n",
       "4         REPAIR EXISTNG TWO STORY WOOD FRAME PORCH PER ...\n",
       "                                ...                        \n",
       "724864    adding gfi protection to existing receptacles ...\n",
       "724865    PORCH REPAIR PERMIT ONLY (NO INTERIOR WORK UND...\n",
       "724866    REPLACE APPRX. 100 SHEETS OF GYP. BRD. MAXIMUM...\n",
       "724867    INSTALLATION OF (1) 30 AMP DUAL POLE BREAKER A...\n",
       "724868    INSTALLATION OF (1) 30 AMP DUAL POLE BREAKER A...\n",
       "Name: WORK_DESCRIPTION, Length: 724869, dtype: object"
      ]
     },
     "execution_count": 27,
     "metadata": {},
     "output_type": "execute_result"
    }
   ],
   "source": [
    "df_copy['WORK_DESCRIPTION'].apply(lambda x: re.sub(r'/', '', x))"
   ]
  },
  {
   "cell_type": "code",
   "execution_count": 16,
   "metadata": {},
   "outputs": [
    {
     "data": {
      "text/plain": [
       "0         INTERIOR R\n",
       "1         REPLACE RE\n",
       "2         DECONVERT \n",
       "3         LOW VOLTAG\n",
       "4         REPAIR EXI\n",
       "             ...    \n",
       "724864    adding gfi\n",
       "724865    PORCH REPA\n",
       "724866    REPLACE AP\n",
       "724867    INSTALLATI\n",
       "724868    INSTALLATI\n",
       "Length: 724869, dtype: object"
      ]
     },
     "execution_count": 16,
     "metadata": {},
     "output_type": "execute_result"
    }
   ],
   "source": [
    "df_copy.apply(lambda x: x['WORK_DESCRIPTION'][0:10],axis=1)"
   ]
  },
  {
   "cell_type": "code",
   "execution_count": 17,
   "metadata": {},
   "outputs": [
    {
     "data": {
      "text/plain": [
       "0         INTERIOR R\n",
       "1         REPLACE RE\n",
       "2         DECONVERT \n",
       "3         LOW VOLTAG\n",
       "4         REPAIR EXI\n",
       "             ...    \n",
       "724864    adding gfi\n",
       "724865    PORCH REPA\n",
       "724866    REPLACE AP\n",
       "724867    INSTALLATI\n",
       "724868    INSTALLATI\n",
       "Name: WORK_DESCRIPTION, Length: 724869, dtype: object"
      ]
     },
     "execution_count": 17,
     "metadata": {},
     "output_type": "execute_result"
    }
   ],
   "source": [
    "df_copy['WORK_DESCRIPTION'].str[0:10]"
   ]
  },
  {
   "cell_type": "code",
   "execution_count": 14,
   "metadata": {},
   "outputs": [
    {
     "data": {
      "text/plain": [
       "0         INTERIOR R\n",
       "1         REPLACE RE\n",
       "2         DECONVERT \n",
       "3         LOW VOLTAG\n",
       "4         REPAIR EXI\n",
       "             ...    \n",
       "724864    adding gfi\n",
       "724865    PORCH REPA\n",
       "724866    REPLACE AP\n",
       "724867    INSTALLATI\n",
       "724868    INSTALLATI\n",
       "Name: WORK_DESCRIPTION, Length: 724869, dtype: object"
      ]
     },
     "execution_count": 14,
     "metadata": {},
     "output_type": "execute_result"
    }
   ],
   "source": [
    "df_copy['WORK_DESCRIPTION'].apply(lambda x: x[0:10])"
   ]
  },
  {
   "cell_type": "code",
   "execution_count": 6,
   "metadata": {},
   "outputs": [
    {
     "data": {
      "text/plain": [
       "0         1\n",
       "1         1\n",
       "2         1\n",
       "3         1\n",
       "4         1\n",
       "         ..\n",
       "724864    1\n",
       "724865    1\n",
       "724866    1\n",
       "724867    1\n",
       "724868    1\n",
       "Length: 724869, dtype: int64"
      ]
     },
     "execution_count": 6,
     "metadata": {},
     "output_type": "execute_result"
    }
   ],
   "source": [
    "df[['Mean_Income_2013','YEAR']].apply(lambda x: 1 if (x['Mean_Income_2013']>5000 and x['YEAR']<2018) else 0, axis=1)"
   ]
  },
  {
   "cell_type": "code",
   "execution_count": 7,
   "metadata": {},
   "outputs": [
    {
     "data": {
      "text/plain": [
       "0         1\n",
       "1         1\n",
       "2         1\n",
       "3         1\n",
       "4         1\n",
       "         ..\n",
       "724864    1\n",
       "724865    1\n",
       "724866    1\n",
       "724867    1\n",
       "724868    1\n",
       "Length: 724869, dtype: int64"
      ]
     },
     "execution_count": 7,
     "metadata": {},
     "output_type": "execute_result"
    }
   ],
   "source": [
    "df[['Mean_Income_2013','YEAR']].apply(lambda x: 1 if (x['Mean_Income_2013']>5000 and x['YEAR']<2018) else 0, axis=1)"
   ]
  },
  {
   "cell_type": "code",
   "execution_count": 9,
   "metadata": {},
   "outputs": [],
   "source": [
    "df_copy=df.copy()"
   ]
  },
  {
   "cell_type": "code",
   "execution_count": null,
   "metadata": {},
   "outputs": [],
   "source": [
    "df_copy.insert(new_col=lambda x: )"
   ]
  },
  {
   "cell_type": "code",
   "execution_count": 8,
   "metadata": {},
   "outputs": [
    {
     "ename": "SyntaxError",
     "evalue": "invalid syntax. Maybe you meant '==' or ':=' instead of '='? (114238338.py, line 1)",
     "output_type": "error",
     "traceback": [
      "\u001b[0;36m  Cell \u001b[0;32mIn[8], line 1\u001b[0;36m\u001b[0m\n\u001b[0;31m    (lambda x: [1,0], (df['Mean_Income_2013']>5000 and df['YEAR']<2018, axis=1))\u001b[0m\n\u001b[0m                                                                        ^\u001b[0m\n\u001b[0;31mSyntaxError\u001b[0m\u001b[0;31m:\u001b[0m invalid syntax. Maybe you meant '==' or ':=' instead of '='?\n"
     ]
    }
   ],
   "source": [
    "(lambda x: [1,0], (df['Mean_Income_2013']>5000 and df['YEAR']<2018, axis=1))"
   ]
  },
  {
   "attachments": {},
   "cell_type": "markdown",
   "metadata": {},
   "source": [
    "* Test/Validation/Train Splits will be done based on the census tracts (geographies)\n",
    "* Let's select 20% of the distinct census tracts and separate them in the test dataframe"
   ]
  },
  {
   "cell_type": "code",
   "execution_count": 6,
   "metadata": {},
   "outputs": [],
   "source": [
    "import random\n",
    "\n",
    "test_size=0.2\n",
    "\n",
    "#create a set of distinct census tracts\n",
    "geo_set=set(df['Census_Tract'])\n",
    "\n",
    "#measure its length and multiply by the specified test si\\e\n",
    "test_len=int(len(geo_set)*test_size)\n",
    "\n",
    "random.seed(42)\n",
    "#select a random subset of distinct census tract of the required size\n",
    "geo_test=random.sample(list(geo_set),k=test_len)\n",
    "\n",
    "#create test mask by testing if census tracts belong to the test subset\n",
    "test_mask=df['Census_Tract'].isin(geo_test)\n",
    "\n",
    "#apply the mask to generate the test dataset and the inverse to generate remainder dataset\n",
    "df_test=df[test_mask].reset_index(drop=True)\n",
    "df_rem=df[~test_mask].reset_index(drop=True)"
   ]
  },
  {
   "cell_type": "code",
   "execution_count": 7,
   "metadata": {},
   "outputs": [
    {
     "name": "stdout",
     "output_type": "stream",
     "text": [
      "remained df shape is  (546259, 29)\n",
      "test df shape is  (178610, 29)\n"
     ]
    }
   ],
   "source": [
    "#check the shapes\n",
    "print('remained df shape is ', df_rem.shape)\n",
    "print('test df shape is ', df_test.shape)"
   ]
  },
  {
   "attachments": {},
   "cell_type": "markdown",
   "metadata": {},
   "source": [
    "---\n",
    "<center><h2 id=\"heading_identifier_1\">INITIAL MODELS</h2>"
   ]
  },
  {
   "attachments": {},
   "cell_type": "markdown",
   "metadata": {},
   "source": [
    "\n",
    "**Preprocessing Steps**"
   ]
  },
  {
   "attachments": {},
   "cell_type": "markdown",
   "metadata": {},
   "source": [
    "* OHE:\n",
    "  * Fit & transform on train\n",
    "  * Transform only on test\n",
    "  * All columns are numeric apart from Work Description\n",
    "* Group by Census Tract & Year\n",
    "  * Average Numeric Columns\n",
    "  * Combine descriptions for Work Description Column\n",
    "* Determine intial train and prediction windows\n",
    "  * Baseline model: split at 2013\n",
    "    * training on 2006 to 2013 data\n",
    "    * predicting from 2013 to 2021\n",
    "* Split X and y"
   ]
  },
  {
   "attachments": {},
   "cell_type": "markdown",
   "metadata": {},
   "source": [
    "---\n",
    "* **OHE**"
   ]
  },
  {
   "cell_type": "code",
   "execution_count": 8,
   "metadata": {},
   "outputs": [
    {
     "data": {
      "text/plain": [
       "['PERMIT_TYPE',\n",
       " 'REVIEW_TYPE',\n",
       " 'CONTACT_1_TYPE',\n",
       " 'CONTACT_1_CITY',\n",
       " 'CONTACT_1_STATE',\n",
       " 'New_Topics']"
      ]
     },
     "execution_count": 8,
     "metadata": {},
     "output_type": "execute_result"
    }
   ],
   "source": [
    "ohe_col=list(df_rem.drop(columns='WORK_DESCRIPTION').select_dtypes(include=['object']).columns)\n",
    "ohe_col"
   ]
  },
  {
   "attachments": {},
   "cell_type": "markdown",
   "metadata": {},
   "source": [
    "* Custom Column Transformer: One Hot Encoding that returns a whole dataframe with column names and one hot encoded column dropped"
   ]
  },
  {
   "cell_type": "code",
   "execution_count": 9,
   "metadata": {},
   "outputs": [],
   "source": [
    "from functions import CustomOneHotEncoder_CT"
   ]
  },
  {
   "attachments": {},
   "cell_type": "markdown",
   "metadata": {},
   "source": [
    "* `Function Transformer 2`: Grouping by Census Tract and Year\n",
    "  * based on the year we are making the prediction from and the training length"
   ]
  },
  {
   "cell_type": "code",
   "execution_count": 10,
   "metadata": {},
   "outputs": [],
   "source": [
    "from functions import df_window_multi_type"
   ]
  },
  {
   "attachments": {},
   "cell_type": "markdown",
   "metadata": {},
   "source": [
    "* `Custom Transformer 3`: Convert income data into a Binary Target Column calculating if gentrification occured\n",
    "  * based on the year we are making the prediction from and the prediction length"
   ]
  },
  {
   "cell_type": "code",
   "execution_count": 11,
   "metadata": {},
   "outputs": [],
   "source": [
    "from functions import comb_change_calc\n",
    "#Import previously defined function to calculate the combined change metric between incomes from two years using the formula"
   ]
  },
  {
   "cell_type": "code",
   "execution_count": 12,
   "metadata": {},
   "outputs": [],
   "source": [
    "class GentrificationTarget(BaseEstimator, TransformerMixin):\n",
    "    def __init__(self,year,prediction_period,metric,perc_power):\n",
    "        self.year=year\n",
    "        self.prediction_period=prediction_period\n",
    "        self.metric=metric\n",
    "        if metric=='power':\n",
    "            self.perc_power=perc_power\n",
    "        self.current_income_col=None\n",
    "        self.future_income_col=None\n",
    "        self.median_change=None\n",
    "\n",
    "\n",
    "    def fit(self,df,y=None):\n",
    "\n",
    "        #name of the column containing income for the current year\n",
    "        self.current_income_col='Mean_Income_'+str(self.year)\n",
    "\n",
    "        #the year we are making the prediction for\n",
    "        prediction_year=self.year+self.prediction_period\n",
    "\n",
    "        #name of the column containing income for the year we are making the prediction for\n",
    "        self.future_income_col='Mean_Income_'+str(prediction_year)\n",
    "\n",
    "        current_income=df[self.current_income_col]\n",
    "        future_income=df[self.future_income_col]\n",
    "\n",
    "        if self.metric=='self':\n",
    "            combined_change=[comb_change_calc(start,finish) for (start,finish) in zip(current_income,future_income)]\n",
    "        \n",
    "        elif self.metric=='power':\n",
    "            combined_change=[comb_change_calc_power(start,finish,perc_power=self.perc_power) for (start,finish) in zip(current_income,future_income)]\n",
    "\n",
    "        #fitting in our case is just finding the median change\n",
    "        self.median_change=np.median(combined_change)\n",
    "        #returning self with updated attributes that can be accessed in the transform method later\n",
    "        return self\n",
    "\n",
    "    def transform(self, df, y=None):\n",
    "        #this method transforms the existing dataframe to calculate if the change for each geography was more or less than the mean \n",
    "        #dropping all the other columns\n",
    "\n",
    "        df_temp=df.copy()\n",
    "\n",
    "        current_income=df[self.current_income_col]\n",
    "        future_income=df[self.future_income_col]\n",
    "\n",
    "        if self.metric=='self':\n",
    "            combined_change=[comb_change_calc(start,finish) for (start,finish) in zip(current_income,future_income)]\n",
    "        \n",
    "        elif self.metric=='power':\n",
    "            combined_change=[comb_change_calc_power(start,finish,perc_power=self.perc_power) for (start,finish) in zip(current_income,future_income)]\n",
    "\n",
    "        #this is y_target column as a list\n",
    "        target=[1 if i>self.median_change else 0 for i in combined_change]\n",
    "\n",
    "        y_col=[col for col in list(df_temp.columns) if bool(re.search('Mean',col))]\n",
    "        df_temp=df_temp.drop(columns=y_col)\n",
    "        df_temp['Income']=current_income\n",
    "        df_temp['Target']=target\n",
    "\n",
    "        return df_temp"
   ]
  },
  {
   "attachments": {},
   "cell_type": "markdown",
   "metadata": {},
   "source": [
    "* `Function Transformer 4`: Split X and y columns"
   ]
  },
  {
   "cell_type": "code",
   "execution_count": 13,
   "metadata": {},
   "outputs": [],
   "source": [
    "def select_columns(df):\n",
    "    X = df.drop(columns='Target')\n",
    "    y = df['Target']\n",
    "    return X, y"
   ]
  },
  {
   "attachments": {},
   "cell_type": "markdown",
   "metadata": {},
   "source": [
    "***\n",
    "# Modelling Typology 1: \n",
    "* **Dataframe Structure**: One distinct census tract in the input dataframe \n",
    "* **Input Features**: Numeric and One Hot Encoded Columns"
   ]
  },
  {
   "attachments": {},
   "cell_type": "markdown",
   "metadata": {},
   "source": [
    "`this cell takes XXX minutes to run`"
   ]
  },
  {
   "cell_type": "code",
   "execution_count": 14,
   "metadata": {},
   "outputs": [
    {
     "ename": "KeyboardInterrupt",
     "evalue": "",
     "output_type": "error",
     "traceback": [
      "\u001b[1;31m---------------------------------------------------------------------------\u001b[0m",
      "\u001b[1;31mKeyboardInterrupt\u001b[0m                         Traceback (most recent call last)",
      "\u001b[1;32m~\\AppData\\Local\\Temp\\ipykernel_33796\\968894123.py\u001b[0m in \u001b[0;36m<module>\u001b[1;34m\u001b[0m\n\u001b[0;32m     33\u001b[0m     \u001b[1;31m#Conduct preprocessing using the first pipeline\u001b[0m\u001b[1;33m\u001b[0m\u001b[1;33m\u001b[0m\u001b[0m\n\u001b[0;32m     34\u001b[0m     \u001b[0mX_y_prep_baseline\u001b[0m\u001b[1;33m.\u001b[0m\u001b[0mfit\u001b[0m\u001b[1;33m(\u001b[0m\u001b[0mdf_rem\u001b[0m\u001b[1;33m)\u001b[0m\u001b[1;33m\u001b[0m\u001b[1;33m\u001b[0m\u001b[0m\n\u001b[1;32m---> 35\u001b[1;33m     \u001b[0mX_rem\u001b[0m\u001b[1;33m,\u001b[0m\u001b[0my_rem\u001b[0m\u001b[1;33m=\u001b[0m\u001b[0mX_y_prep_baseline\u001b[0m\u001b[1;33m.\u001b[0m\u001b[0mtransform\u001b[0m\u001b[1;33m(\u001b[0m\u001b[0mdf_rem\u001b[0m\u001b[1;33m)\u001b[0m\u001b[1;33m\u001b[0m\u001b[1;33m\u001b[0m\u001b[0m\n\u001b[0m\u001b[0;32m     36\u001b[0m     \u001b[0mX_test\u001b[0m\u001b[1;33m,\u001b[0m\u001b[0my_test\u001b[0m\u001b[1;33m=\u001b[0m\u001b[0mX_y_prep_baseline\u001b[0m\u001b[1;33m.\u001b[0m\u001b[0mtransform\u001b[0m\u001b[1;33m(\u001b[0m\u001b[0mdf_test\u001b[0m\u001b[1;33m)\u001b[0m\u001b[1;33m\u001b[0m\u001b[1;33m\u001b[0m\u001b[0m\n\u001b[0;32m     37\u001b[0m \u001b[1;33m\u001b[0m\u001b[0m\n",
      "\u001b[1;32mc:\\Users\\44742\\anaconda3\\lib\\site-packages\\sklearn\\utils\\metaestimators.py\u001b[0m in \u001b[0;36m<lambda>\u001b[1;34m(*args, **kwargs)\u001b[0m\n\u001b[0;32m    111\u001b[0m \u001b[1;33m\u001b[0m\u001b[0m\n\u001b[0;32m    112\u001b[0m             \u001b[1;31m# lambda, but not partial, allows help() to work with update_wrapper\u001b[0m\u001b[1;33m\u001b[0m\u001b[1;33m\u001b[0m\u001b[0m\n\u001b[1;32m--> 113\u001b[1;33m             \u001b[0mout\u001b[0m \u001b[1;33m=\u001b[0m \u001b[1;32mlambda\u001b[0m \u001b[1;33m*\u001b[0m\u001b[0margs\u001b[0m\u001b[1;33m,\u001b[0m \u001b[1;33m**\u001b[0m\u001b[0mkwargs\u001b[0m\u001b[1;33m:\u001b[0m \u001b[0mself\u001b[0m\u001b[1;33m.\u001b[0m\u001b[0mfn\u001b[0m\u001b[1;33m(\u001b[0m\u001b[0mobj\u001b[0m\u001b[1;33m,\u001b[0m \u001b[1;33m*\u001b[0m\u001b[0margs\u001b[0m\u001b[1;33m,\u001b[0m \u001b[1;33m**\u001b[0m\u001b[0mkwargs\u001b[0m\u001b[1;33m)\u001b[0m  \u001b[1;31m# noqa\u001b[0m\u001b[1;33m\u001b[0m\u001b[1;33m\u001b[0m\u001b[0m\n\u001b[0m\u001b[0;32m    114\u001b[0m         \u001b[1;32melse\u001b[0m\u001b[1;33m:\u001b[0m\u001b[1;33m\u001b[0m\u001b[1;33m\u001b[0m\u001b[0m\n\u001b[0;32m    115\u001b[0m \u001b[1;33m\u001b[0m\u001b[0m\n",
      "\u001b[1;32mc:\\Users\\44742\\anaconda3\\lib\\site-packages\\sklearn\\pipeline.py\u001b[0m in \u001b[0;36mtransform\u001b[1;34m(self, X)\u001b[0m\n\u001b[0;32m    645\u001b[0m         \u001b[0mXt\u001b[0m \u001b[1;33m=\u001b[0m \u001b[0mX\u001b[0m\u001b[1;33m\u001b[0m\u001b[1;33m\u001b[0m\u001b[0m\n\u001b[0;32m    646\u001b[0m         \u001b[1;32mfor\u001b[0m \u001b[0m_\u001b[0m\u001b[1;33m,\u001b[0m \u001b[0m_\u001b[0m\u001b[1;33m,\u001b[0m \u001b[0mtransform\u001b[0m \u001b[1;32min\u001b[0m \u001b[0mself\u001b[0m\u001b[1;33m.\u001b[0m\u001b[0m_iter\u001b[0m\u001b[1;33m(\u001b[0m\u001b[1;33m)\u001b[0m\u001b[1;33m:\u001b[0m\u001b[1;33m\u001b[0m\u001b[1;33m\u001b[0m\u001b[0m\n\u001b[1;32m--> 647\u001b[1;33m             \u001b[0mXt\u001b[0m \u001b[1;33m=\u001b[0m \u001b[0mtransform\u001b[0m\u001b[1;33m.\u001b[0m\u001b[0mtransform\u001b[0m\u001b[1;33m(\u001b[0m\u001b[0mXt\u001b[0m\u001b[1;33m)\u001b[0m\u001b[1;33m\u001b[0m\u001b[1;33m\u001b[0m\u001b[0m\n\u001b[0m\u001b[0;32m    648\u001b[0m         \u001b[1;32mreturn\u001b[0m \u001b[0mXt\u001b[0m\u001b[1;33m\u001b[0m\u001b[1;33m\u001b[0m\u001b[0m\n\u001b[0;32m    649\u001b[0m \u001b[1;33m\u001b[0m\u001b[0m\n",
      "\u001b[1;32mc:\\Users\\44742\\anaconda3\\lib\\site-packages\\sklearn\\preprocessing\\_function_transformer.py\u001b[0m in \u001b[0;36mtransform\u001b[1;34m(self, X)\u001b[0m\n\u001b[0;32m    180\u001b[0m         \"\"\"\n\u001b[0;32m    181\u001b[0m         \u001b[0mX\u001b[0m \u001b[1;33m=\u001b[0m \u001b[0mself\u001b[0m\u001b[1;33m.\u001b[0m\u001b[0m_check_input\u001b[0m\u001b[1;33m(\u001b[0m\u001b[0mX\u001b[0m\u001b[1;33m,\u001b[0m \u001b[0mreset\u001b[0m\u001b[1;33m=\u001b[0m\u001b[1;32mFalse\u001b[0m\u001b[1;33m)\u001b[0m\u001b[1;33m\u001b[0m\u001b[1;33m\u001b[0m\u001b[0m\n\u001b[1;32m--> 182\u001b[1;33m         \u001b[1;32mreturn\u001b[0m \u001b[0mself\u001b[0m\u001b[1;33m.\u001b[0m\u001b[0m_transform\u001b[0m\u001b[1;33m(\u001b[0m\u001b[0mX\u001b[0m\u001b[1;33m,\u001b[0m \u001b[0mfunc\u001b[0m\u001b[1;33m=\u001b[0m\u001b[0mself\u001b[0m\u001b[1;33m.\u001b[0m\u001b[0mfunc\u001b[0m\u001b[1;33m,\u001b[0m \u001b[0mkw_args\u001b[0m\u001b[1;33m=\u001b[0m\u001b[0mself\u001b[0m\u001b[1;33m.\u001b[0m\u001b[0mkw_args\u001b[0m\u001b[1;33m)\u001b[0m\u001b[1;33m\u001b[0m\u001b[1;33m\u001b[0m\u001b[0m\n\u001b[0m\u001b[0;32m    183\u001b[0m \u001b[1;33m\u001b[0m\u001b[0m\n\u001b[0;32m    184\u001b[0m     \u001b[1;32mdef\u001b[0m \u001b[0minverse_transform\u001b[0m\u001b[1;33m(\u001b[0m\u001b[0mself\u001b[0m\u001b[1;33m,\u001b[0m \u001b[0mX\u001b[0m\u001b[1;33m)\u001b[0m\u001b[1;33m:\u001b[0m\u001b[1;33m\u001b[0m\u001b[1;33m\u001b[0m\u001b[0m\n",
      "\u001b[1;32mc:\\Users\\44742\\anaconda3\\lib\\site-packages\\sklearn\\preprocessing\\_function_transformer.py\u001b[0m in \u001b[0;36m_transform\u001b[1;34m(self, X, func, kw_args)\u001b[0m\n\u001b[0;32m    203\u001b[0m             \u001b[0mfunc\u001b[0m \u001b[1;33m=\u001b[0m \u001b[0m_identity\u001b[0m\u001b[1;33m\u001b[0m\u001b[1;33m\u001b[0m\u001b[0m\n\u001b[0;32m    204\u001b[0m \u001b[1;33m\u001b[0m\u001b[0m\n\u001b[1;32m--> 205\u001b[1;33m         \u001b[1;32mreturn\u001b[0m \u001b[0mfunc\u001b[0m\u001b[1;33m(\u001b[0m\u001b[0mX\u001b[0m\u001b[1;33m,\u001b[0m \u001b[1;33m**\u001b[0m\u001b[1;33m(\u001b[0m\u001b[0mkw_args\u001b[0m \u001b[1;32mif\u001b[0m \u001b[0mkw_args\u001b[0m \u001b[1;32melse\u001b[0m \u001b[1;33m{\u001b[0m\u001b[1;33m}\u001b[0m\u001b[1;33m)\u001b[0m\u001b[1;33m)\u001b[0m\u001b[1;33m\u001b[0m\u001b[1;33m\u001b[0m\u001b[0m\n\u001b[0m\u001b[0;32m    206\u001b[0m \u001b[1;33m\u001b[0m\u001b[0m\n\u001b[0;32m    207\u001b[0m     \u001b[1;32mdef\u001b[0m \u001b[0m__sklearn_is_fitted__\u001b[0m\u001b[1;33m(\u001b[0m\u001b[0mself\u001b[0m\u001b[1;33m)\u001b[0m\u001b[1;33m:\u001b[0m\u001b[1;33m\u001b[0m\u001b[1;33m\u001b[0m\u001b[0m\n",
      "\u001b[1;32mc:\\Users\\44742\\OneDrive\\BrainStation\\capstone-project-mariashapo\\notebooks\\functions.py\u001b[0m in \u001b[0;36mdf_window_multi_type\u001b[1;34m(df, year, t)\u001b[0m\n\u001b[0;32m    361\u001b[0m     \u001b[1;31m#Taking averages for numeric columns\u001b[0m\u001b[1;33m\u001b[0m\u001b[1;33m\u001b[0m\u001b[0m\n\u001b[0;32m    362\u001b[0m     \u001b[1;32mfor\u001b[0m \u001b[0mcol\u001b[0m \u001b[1;32min\u001b[0m \u001b[0mnum_cols\u001b[0m\u001b[1;33m:\u001b[0m\u001b[1;33m\u001b[0m\u001b[1;33m\u001b[0m\u001b[0m\n\u001b[1;32m--> 363\u001b[1;33m         \u001b[0mdf_result\u001b[0m\u001b[1;33m[\u001b[0m\u001b[0mcol\u001b[0m\u001b[1;33m]\u001b[0m\u001b[1;33m=\u001b[0m\u001b[0mdf_temp\u001b[0m\u001b[1;33m.\u001b[0m\u001b[0mgroupby\u001b[0m\u001b[1;33m(\u001b[0m\u001b[0mlevel\u001b[0m\u001b[1;33m=\u001b[0m\u001b[1;36m0\u001b[0m\u001b[1;33m)\u001b[0m\u001b[1;33m[\u001b[0m\u001b[0mcol\u001b[0m\u001b[1;33m]\u001b[0m\u001b[1;33m.\u001b[0m\u001b[0mmean\u001b[0m\u001b[1;33m(\u001b[0m\u001b[1;33m)\u001b[0m\u001b[1;33m\u001b[0m\u001b[1;33m\u001b[0m\u001b[0m\n\u001b[0m\u001b[0;32m    364\u001b[0m \u001b[1;33m\u001b[0m\u001b[0m\n\u001b[0;32m    365\u001b[0m     \u001b[1;31m#Concatenating qualitative columns\u001b[0m\u001b[1;33m\u001b[0m\u001b[1;33m\u001b[0m\u001b[0m\n",
      "\u001b[1;32mc:\\Users\\44742\\anaconda3\\lib\\site-packages\\pandas\\core\\groupby\\groupby.py\u001b[0m in \u001b[0;36mmean\u001b[1;34m(self, numeric_only, engine, engine_kwargs)\u001b[0m\n\u001b[0;32m   1963\u001b[0m             \u001b[1;32mreturn\u001b[0m \u001b[0mself\u001b[0m\u001b[1;33m.\u001b[0m\u001b[0m_numba_agg_general\u001b[0m\u001b[1;33m(\u001b[0m\u001b[0msliding_mean\u001b[0m\u001b[1;33m,\u001b[0m \u001b[0mengine_kwargs\u001b[0m\u001b[1;33m,\u001b[0m \u001b[1;34m\"groupby_mean\"\u001b[0m\u001b[1;33m)\u001b[0m\u001b[1;33m\u001b[0m\u001b[1;33m\u001b[0m\u001b[0m\n\u001b[0;32m   1964\u001b[0m         \u001b[1;32melse\u001b[0m\u001b[1;33m:\u001b[0m\u001b[1;33m\u001b[0m\u001b[1;33m\u001b[0m\u001b[0m\n\u001b[1;32m-> 1965\u001b[1;33m             result = self._cython_agg_general(\n\u001b[0m\u001b[0;32m   1966\u001b[0m                 \u001b[1;34m\"mean\"\u001b[0m\u001b[1;33m,\u001b[0m\u001b[1;33m\u001b[0m\u001b[1;33m\u001b[0m\u001b[0m\n\u001b[0;32m   1967\u001b[0m                 \u001b[0malt\u001b[0m\u001b[1;33m=\u001b[0m\u001b[1;32mlambda\u001b[0m \u001b[0mx\u001b[0m\u001b[1;33m:\u001b[0m \u001b[0mSeries\u001b[0m\u001b[1;33m(\u001b[0m\u001b[0mx\u001b[0m\u001b[1;33m)\u001b[0m\u001b[1;33m.\u001b[0m\u001b[0mmean\u001b[0m\u001b[1;33m(\u001b[0m\u001b[0mnumeric_only\u001b[0m\u001b[1;33m=\u001b[0m\u001b[0mnumeric_only_bool\u001b[0m\u001b[1;33m)\u001b[0m\u001b[1;33m,\u001b[0m\u001b[1;33m\u001b[0m\u001b[1;33m\u001b[0m\u001b[0m\n",
      "\u001b[1;32mc:\\Users\\44742\\anaconda3\\lib\\site-packages\\pandas\\core\\groupby\\groupby.py\u001b[0m in \u001b[0;36m_cython_agg_general\u001b[1;34m(self, how, alt, numeric_only, min_count)\u001b[0m\n\u001b[0;32m   1599\u001b[0m         \u001b[1;31m# TypeError -> we may have an exception in trying to aggregate\u001b[0m\u001b[1;33m\u001b[0m\u001b[1;33m\u001b[0m\u001b[0m\n\u001b[0;32m   1600\u001b[0m         \u001b[1;31m#  continue and exclude the block\u001b[0m\u001b[1;33m\u001b[0m\u001b[1;33m\u001b[0m\u001b[0m\n\u001b[1;32m-> 1601\u001b[1;33m         \u001b[0mnew_mgr\u001b[0m \u001b[1;33m=\u001b[0m \u001b[0mdata\u001b[0m\u001b[1;33m.\u001b[0m\u001b[0mgrouped_reduce\u001b[0m\u001b[1;33m(\u001b[0m\u001b[0marray_func\u001b[0m\u001b[1;33m,\u001b[0m \u001b[0mignore_failures\u001b[0m\u001b[1;33m=\u001b[0m\u001b[1;32mTrue\u001b[0m\u001b[1;33m)\u001b[0m\u001b[1;33m\u001b[0m\u001b[1;33m\u001b[0m\u001b[0m\n\u001b[0m\u001b[0;32m   1602\u001b[0m \u001b[1;33m\u001b[0m\u001b[0m\n\u001b[0;32m   1603\u001b[0m         \u001b[1;32mif\u001b[0m \u001b[1;32mnot\u001b[0m \u001b[0mis_ser\u001b[0m \u001b[1;32mand\u001b[0m \u001b[0mlen\u001b[0m\u001b[1;33m(\u001b[0m\u001b[0mnew_mgr\u001b[0m\u001b[1;33m)\u001b[0m \u001b[1;33m<\u001b[0m \u001b[0mlen\u001b[0m\u001b[1;33m(\u001b[0m\u001b[0mdata\u001b[0m\u001b[1;33m)\u001b[0m\u001b[1;33m:\u001b[0m\u001b[1;33m\u001b[0m\u001b[1;33m\u001b[0m\u001b[0m\n",
      "\u001b[1;32mc:\\Users\\44742\\anaconda3\\lib\\site-packages\\pandas\\core\\internals\\base.py\u001b[0m in \u001b[0;36mgrouped_reduce\u001b[1;34m(self, func, ignore_failures)\u001b[0m\n\u001b[0;32m    197\u001b[0m \u001b[1;33m\u001b[0m\u001b[0m\n\u001b[0;32m    198\u001b[0m         \u001b[0marr\u001b[0m \u001b[1;33m=\u001b[0m \u001b[0mself\u001b[0m\u001b[1;33m.\u001b[0m\u001b[0marray\u001b[0m\u001b[1;33m\u001b[0m\u001b[1;33m\u001b[0m\u001b[0m\n\u001b[1;32m--> 199\u001b[1;33m         \u001b[0mres\u001b[0m \u001b[1;33m=\u001b[0m \u001b[0mfunc\u001b[0m\u001b[1;33m(\u001b[0m\u001b[0marr\u001b[0m\u001b[1;33m)\u001b[0m\u001b[1;33m\u001b[0m\u001b[1;33m\u001b[0m\u001b[0m\n\u001b[0m\u001b[0;32m    200\u001b[0m         \u001b[0mindex\u001b[0m \u001b[1;33m=\u001b[0m \u001b[0mdefault_index\u001b[0m\u001b[1;33m(\u001b[0m\u001b[0mlen\u001b[0m\u001b[1;33m(\u001b[0m\u001b[0mres\u001b[0m\u001b[1;33m)\u001b[0m\u001b[1;33m)\u001b[0m\u001b[1;33m\u001b[0m\u001b[1;33m\u001b[0m\u001b[0m\n\u001b[0;32m    201\u001b[0m \u001b[1;33m\u001b[0m\u001b[0m\n",
      "\u001b[1;32mc:\\Users\\44742\\anaconda3\\lib\\site-packages\\pandas\\core\\groupby\\groupby.py\u001b[0m in \u001b[0;36marray_func\u001b[1;34m(values)\u001b[0m\n\u001b[0;32m   1585\u001b[0m         \u001b[1;32mdef\u001b[0m \u001b[0marray_func\u001b[0m\u001b[1;33m(\u001b[0m\u001b[0mvalues\u001b[0m\u001b[1;33m:\u001b[0m \u001b[0mArrayLike\u001b[0m\u001b[1;33m)\u001b[0m \u001b[1;33m->\u001b[0m \u001b[0mArrayLike\u001b[0m\u001b[1;33m:\u001b[0m\u001b[1;33m\u001b[0m\u001b[1;33m\u001b[0m\u001b[0m\n\u001b[0;32m   1586\u001b[0m             \u001b[1;32mtry\u001b[0m\u001b[1;33m:\u001b[0m\u001b[1;33m\u001b[0m\u001b[1;33m\u001b[0m\u001b[0m\n\u001b[1;32m-> 1587\u001b[1;33m                 result = self.grouper._cython_operation(\n\u001b[0m\u001b[0;32m   1588\u001b[0m                     \u001b[1;34m\"aggregate\"\u001b[0m\u001b[1;33m,\u001b[0m \u001b[0mvalues\u001b[0m\u001b[1;33m,\u001b[0m \u001b[0mhow\u001b[0m\u001b[1;33m,\u001b[0m \u001b[0maxis\u001b[0m\u001b[1;33m=\u001b[0m\u001b[0mdata\u001b[0m\u001b[1;33m.\u001b[0m\u001b[0mndim\u001b[0m \u001b[1;33m-\u001b[0m \u001b[1;36m1\u001b[0m\u001b[1;33m,\u001b[0m \u001b[0mmin_count\u001b[0m\u001b[1;33m=\u001b[0m\u001b[0mmin_count\u001b[0m\u001b[1;33m\u001b[0m\u001b[1;33m\u001b[0m\u001b[0m\n\u001b[0;32m   1589\u001b[0m                 )\n",
      "\u001b[1;32mc:\\Users\\44742\\anaconda3\\lib\\site-packages\\pandas\\core\\groupby\\ops.py\u001b[0m in \u001b[0;36m_cython_operation\u001b[1;34m(self, kind, values, how, axis, min_count, **kwargs)\u001b[0m\n\u001b[0;32m    935\u001b[0m         \u001b[0mcy_op\u001b[0m \u001b[1;33m=\u001b[0m \u001b[0mWrappedCythonOp\u001b[0m\u001b[1;33m(\u001b[0m\u001b[0mkind\u001b[0m\u001b[1;33m=\u001b[0m\u001b[0mkind\u001b[0m\u001b[1;33m,\u001b[0m \u001b[0mhow\u001b[0m\u001b[1;33m=\u001b[0m\u001b[0mhow\u001b[0m\u001b[1;33m)\u001b[0m\u001b[1;33m\u001b[0m\u001b[1;33m\u001b[0m\u001b[0m\n\u001b[0;32m    936\u001b[0m \u001b[1;33m\u001b[0m\u001b[0m\n\u001b[1;32m--> 937\u001b[1;33m         \u001b[0mids\u001b[0m\u001b[1;33m,\u001b[0m \u001b[0m_\u001b[0m\u001b[1;33m,\u001b[0m \u001b[0m_\u001b[0m \u001b[1;33m=\u001b[0m \u001b[0mself\u001b[0m\u001b[1;33m.\u001b[0m\u001b[0mgroup_info\u001b[0m\u001b[1;33m\u001b[0m\u001b[1;33m\u001b[0m\u001b[0m\n\u001b[0m\u001b[0;32m    938\u001b[0m         \u001b[0mngroups\u001b[0m \u001b[1;33m=\u001b[0m \u001b[0mself\u001b[0m\u001b[1;33m.\u001b[0m\u001b[0mngroups\u001b[0m\u001b[1;33m\u001b[0m\u001b[1;33m\u001b[0m\u001b[0m\n\u001b[0;32m    939\u001b[0m         return cy_op.cython_operation(\n",
      "\u001b[1;32mc:\\Users\\44742\\anaconda3\\lib\\site-packages\\pandas\\_libs\\properties.pyx\u001b[0m in \u001b[0;36mpandas._libs.properties.CachedProperty.__get__\u001b[1;34m()\u001b[0m\n",
      "\u001b[1;32mc:\\Users\\44742\\anaconda3\\lib\\site-packages\\pandas\\core\\groupby\\ops.py\u001b[0m in \u001b[0;36mgroup_info\u001b[1;34m(self)\u001b[0m\n\u001b[0;32m    832\u001b[0m     \u001b[1;33m@\u001b[0m\u001b[0mcache_readonly\u001b[0m\u001b[1;33m\u001b[0m\u001b[1;33m\u001b[0m\u001b[0m\n\u001b[0;32m    833\u001b[0m     \u001b[1;32mdef\u001b[0m \u001b[0mgroup_info\u001b[0m\u001b[1;33m(\u001b[0m\u001b[0mself\u001b[0m\u001b[1;33m)\u001b[0m \u001b[1;33m->\u001b[0m \u001b[0mtuple\u001b[0m\u001b[1;33m[\u001b[0m\u001b[0mnpt\u001b[0m\u001b[1;33m.\u001b[0m\u001b[0mNDArray\u001b[0m\u001b[1;33m[\u001b[0m\u001b[0mnp\u001b[0m\u001b[1;33m.\u001b[0m\u001b[0mintp\u001b[0m\u001b[1;33m]\u001b[0m\u001b[1;33m,\u001b[0m \u001b[0mnpt\u001b[0m\u001b[1;33m.\u001b[0m\u001b[0mNDArray\u001b[0m\u001b[1;33m[\u001b[0m\u001b[0mnp\u001b[0m\u001b[1;33m.\u001b[0m\u001b[0mintp\u001b[0m\u001b[1;33m]\u001b[0m\u001b[1;33m,\u001b[0m \u001b[0mint\u001b[0m\u001b[1;33m]\u001b[0m\u001b[1;33m:\u001b[0m\u001b[1;33m\u001b[0m\u001b[1;33m\u001b[0m\u001b[0m\n\u001b[1;32m--> 834\u001b[1;33m         \u001b[0mcomp_ids\u001b[0m\u001b[1;33m,\u001b[0m \u001b[0mobs_group_ids\u001b[0m \u001b[1;33m=\u001b[0m \u001b[0mself\u001b[0m\u001b[1;33m.\u001b[0m\u001b[0m_get_compressed_codes\u001b[0m\u001b[1;33m(\u001b[0m\u001b[1;33m)\u001b[0m\u001b[1;33m\u001b[0m\u001b[1;33m\u001b[0m\u001b[0m\n\u001b[0m\u001b[0;32m    835\u001b[0m \u001b[1;33m\u001b[0m\u001b[0m\n\u001b[0;32m    836\u001b[0m         \u001b[0mngroups\u001b[0m \u001b[1;33m=\u001b[0m \u001b[0mlen\u001b[0m\u001b[1;33m(\u001b[0m\u001b[0mobs_group_ids\u001b[0m\u001b[1;33m)\u001b[0m\u001b[1;33m\u001b[0m\u001b[1;33m\u001b[0m\u001b[0m\n",
      "\u001b[1;32mc:\\Users\\44742\\anaconda3\\lib\\site-packages\\pandas\\core\\groupby\\ops.py\u001b[0m in \u001b[0;36m_get_compressed_codes\u001b[1;34m(self)\u001b[0m\n\u001b[0;32m    860\u001b[0m \u001b[1;33m\u001b[0m\u001b[0m\n\u001b[0;32m    861\u001b[0m         \u001b[0mping\u001b[0m \u001b[1;33m=\u001b[0m \u001b[0mself\u001b[0m\u001b[1;33m.\u001b[0m\u001b[0mgroupings\u001b[0m\u001b[1;33m[\u001b[0m\u001b[1;36m0\u001b[0m\u001b[1;33m]\u001b[0m\u001b[1;33m\u001b[0m\u001b[1;33m\u001b[0m\u001b[0m\n\u001b[1;32m--> 862\u001b[1;33m         \u001b[1;32mreturn\u001b[0m \u001b[0mping\u001b[0m\u001b[1;33m.\u001b[0m\u001b[0mcodes\u001b[0m\u001b[1;33m,\u001b[0m \u001b[0mnp\u001b[0m\u001b[1;33m.\u001b[0m\u001b[0marange\u001b[0m\u001b[1;33m(\u001b[0m\u001b[0mlen\u001b[0m\u001b[1;33m(\u001b[0m\u001b[0mping\u001b[0m\u001b[1;33m.\u001b[0m\u001b[0mgroup_index\u001b[0m\u001b[1;33m)\u001b[0m\u001b[1;33m,\u001b[0m \u001b[0mdtype\u001b[0m\u001b[1;33m=\u001b[0m\u001b[0mnp\u001b[0m\u001b[1;33m.\u001b[0m\u001b[0mintp\u001b[0m\u001b[1;33m)\u001b[0m\u001b[1;33m\u001b[0m\u001b[1;33m\u001b[0m\u001b[0m\n\u001b[0m\u001b[0;32m    863\u001b[0m \u001b[1;33m\u001b[0m\u001b[0m\n\u001b[0;32m    864\u001b[0m     \u001b[1;33m@\u001b[0m\u001b[0mfinal\u001b[0m\u001b[1;33m\u001b[0m\u001b[1;33m\u001b[0m\u001b[0m\n",
      "\u001b[1;32mc:\\Users\\44742\\anaconda3\\lib\\site-packages\\pandas\\core\\groupby\\grouper.py\u001b[0m in \u001b[0;36mcodes\u001b[1;34m(self)\u001b[0m\n\u001b[0;32m    620\u001b[0m             \u001b[1;32mreturn\u001b[0m \u001b[0mself\u001b[0m\u001b[1;33m.\u001b[0m\u001b[0m_codes\u001b[0m\u001b[1;33m\u001b[0m\u001b[1;33m\u001b[0m\u001b[0m\n\u001b[0;32m    621\u001b[0m \u001b[1;33m\u001b[0m\u001b[0m\n\u001b[1;32m--> 622\u001b[1;33m         \u001b[1;32mreturn\u001b[0m \u001b[0mself\u001b[0m\u001b[1;33m.\u001b[0m\u001b[0m_codes_and_uniques\u001b[0m\u001b[1;33m[\u001b[0m\u001b[1;36m0\u001b[0m\u001b[1;33m]\u001b[0m\u001b[1;33m\u001b[0m\u001b[1;33m\u001b[0m\u001b[0m\n\u001b[0m\u001b[0;32m    623\u001b[0m \u001b[1;33m\u001b[0m\u001b[0m\n\u001b[0;32m    624\u001b[0m     \u001b[1;33m@\u001b[0m\u001b[0mcache_readonly\u001b[0m\u001b[1;33m\u001b[0m\u001b[1;33m\u001b[0m\u001b[0m\n",
      "\u001b[1;32mc:\\Users\\44742\\anaconda3\\lib\\site-packages\\pandas\\_libs\\properties.pyx\u001b[0m in \u001b[0;36mpandas._libs.properties.CachedProperty.__get__\u001b[1;34m()\u001b[0m\n",
      "\u001b[1;32mc:\\Users\\44742\\anaconda3\\lib\\site-packages\\pandas\\core\\groupby\\grouper.py\u001b[0m in \u001b[0;36m_codes_and_uniques\u001b[1;34m(self)\u001b[0m\n\u001b[0;32m    688\u001b[0m             \u001b[1;32melse\u001b[0m\u001b[1;33m:\u001b[0m\u001b[1;33m\u001b[0m\u001b[1;33m\u001b[0m\u001b[0m\n\u001b[0;32m    689\u001b[0m                 \u001b[0mna_sentinel\u001b[0m \u001b[1;33m=\u001b[0m \u001b[1;33m-\u001b[0m\u001b[1;36m1\u001b[0m\u001b[1;33m\u001b[0m\u001b[1;33m\u001b[0m\u001b[0m\n\u001b[1;32m--> 690\u001b[1;33m             codes, uniques = algorithms.factorize(\n\u001b[0m\u001b[0;32m    691\u001b[0m                 \u001b[0mself\u001b[0m\u001b[1;33m.\u001b[0m\u001b[0mgrouping_vector\u001b[0m\u001b[1;33m,\u001b[0m \u001b[0msort\u001b[0m\u001b[1;33m=\u001b[0m\u001b[0mself\u001b[0m\u001b[1;33m.\u001b[0m\u001b[0m_sort\u001b[0m\u001b[1;33m,\u001b[0m \u001b[0mna_sentinel\u001b[0m\u001b[1;33m=\u001b[0m\u001b[0mna_sentinel\u001b[0m\u001b[1;33m\u001b[0m\u001b[1;33m\u001b[0m\u001b[0m\n\u001b[0;32m    692\u001b[0m             )\n",
      "\u001b[1;32mc:\\Users\\44742\\anaconda3\\lib\\site-packages\\pandas\\core\\algorithms.py\u001b[0m in \u001b[0;36mfactorize\u001b[1;34m(values, sort, na_sentinel, size_hint)\u001b[0m\n\u001b[0;32m    761\u001b[0m             \u001b[0mna_value\u001b[0m \u001b[1;33m=\u001b[0m \u001b[1;32mNone\u001b[0m\u001b[1;33m\u001b[0m\u001b[1;33m\u001b[0m\u001b[0m\n\u001b[0;32m    762\u001b[0m \u001b[1;33m\u001b[0m\u001b[0m\n\u001b[1;32m--> 763\u001b[1;33m         codes, uniques = factorize_array(\n\u001b[0m\u001b[0;32m    764\u001b[0m             \u001b[0mvalues\u001b[0m\u001b[1;33m,\u001b[0m \u001b[0mna_sentinel\u001b[0m\u001b[1;33m=\u001b[0m\u001b[0mna_sentinel\u001b[0m\u001b[1;33m,\u001b[0m \u001b[0msize_hint\u001b[0m\u001b[1;33m=\u001b[0m\u001b[0msize_hint\u001b[0m\u001b[1;33m,\u001b[0m \u001b[0mna_value\u001b[0m\u001b[1;33m=\u001b[0m\u001b[0mna_value\u001b[0m\u001b[1;33m\u001b[0m\u001b[1;33m\u001b[0m\u001b[0m\n\u001b[0;32m    765\u001b[0m         )\n",
      "\u001b[1;32mc:\\Users\\44742\\anaconda3\\lib\\site-packages\\pandas\\core\\algorithms.py\u001b[0m in \u001b[0;36mfactorize_array\u001b[1;34m(values, na_sentinel, size_hint, na_value, mask)\u001b[0m\n\u001b[0;32m    558\u001b[0m \u001b[1;33m\u001b[0m\u001b[0m\n\u001b[0;32m    559\u001b[0m     \u001b[0mtable\u001b[0m \u001b[1;33m=\u001b[0m \u001b[0mhash_klass\u001b[0m\u001b[1;33m(\u001b[0m\u001b[0msize_hint\u001b[0m \u001b[1;32mor\u001b[0m \u001b[0mlen\u001b[0m\u001b[1;33m(\u001b[0m\u001b[0mvalues\u001b[0m\u001b[1;33m)\u001b[0m\u001b[1;33m)\u001b[0m\u001b[1;33m\u001b[0m\u001b[1;33m\u001b[0m\u001b[0m\n\u001b[1;32m--> 560\u001b[1;33m     uniques, codes = table.factorize(\n\u001b[0m\u001b[0;32m    561\u001b[0m         \u001b[0mvalues\u001b[0m\u001b[1;33m,\u001b[0m \u001b[0mna_sentinel\u001b[0m\u001b[1;33m=\u001b[0m\u001b[0mna_sentinel\u001b[0m\u001b[1;33m,\u001b[0m \u001b[0mna_value\u001b[0m\u001b[1;33m=\u001b[0m\u001b[0mna_value\u001b[0m\u001b[1;33m,\u001b[0m \u001b[0mmask\u001b[0m\u001b[1;33m=\u001b[0m\u001b[0mmask\u001b[0m\u001b[1;33m\u001b[0m\u001b[1;33m\u001b[0m\u001b[0m\n\u001b[0;32m    562\u001b[0m     )\n",
      "\u001b[1;31mKeyboardInterrupt\u001b[0m: "
     ]
    }
   ],
   "source": [
    "#Define pipeline parameters that will remain constant for the loop\n",
    "year=2013\n",
    "train_period=5\n",
    "\n",
    "prediction_period=8\n",
    "metric='power'\n",
    "\n",
    "#Instantiate a dataframe to store results of the loop\n",
    "df_result=pd.DataFrame({'perc_power':[],'train_acc':[],'test_acc':[],'income_coef':[]})\n",
    "\n",
    "#Loop through perc_power\n",
    "for i,perc_power in enumerate(range(0,15)):\n",
    "\n",
    "    #Define a pipeline for X and y preprocessing based on the steps outlined above\n",
    "    X_y_prep_baseline = Pipeline(\n",
    "        [\n",
    "        #one hot encoding\n",
    "        ('ohe', CustomOneHotEncoder_CT()),\n",
    "        #grouping based on the year we are making the prediction from and the training length\n",
    "        ('group',FunctionTransformer(df_window_multi_type, kw_args={'year': year, 't': train_period})),\n",
    "        #convert income change into y_target based on the year we are making the prediction from and the prediction length and drop the remaining of Income columns\n",
    "        ('target',GentrificationTarget(year,prediction_period,metric,perc_power)),\n",
    "        #split into X & y\n",
    "        ('X_y_split',FunctionTransformer(select_columns))\n",
    "        ])\n",
    "\n",
    "    #Define a modelling pipeline\n",
    "    model_pipeline = Pipeline([\n",
    "        ('scaler', MinMaxScaler()),   # data normalization step\n",
    "        ('model', LogisticRegression())   # linear regression model\n",
    "    ])\n",
    "\n",
    "    #Conduct preprocessing using the first pipeline\n",
    "    X_y_prep_baseline.fit(df_rem)\n",
    "    X_rem,y_rem=X_y_prep_baseline.transform(df_rem)\n",
    "    X_test,y_test=X_y_prep_baseline.transform(df_test)\n",
    "\n",
    "    #Initial models not integrating work_desc\n",
    "    #Drop Work Description Column\n",
    "    X_rem=X_rem.drop(columns='WORK_DESCRIPTION')\n",
    "    X_test=X_test.drop(columns='WORK_DESCRIPTION')\n",
    "\n",
    "    #Fit the modelling pipeline on X_rem and y_rem\n",
    "    model_pipeline.fit(X_rem,y_rem)\n",
    "    find_metric=model_pipeline\n",
    "\n",
    "    #save train and test accuracies\n",
    "    train_acc=find_metric.score(X_rem,y_rem)\n",
    "    test_acc=find_metric.score(X_test,y_test)\n",
    "\n",
    "    #\n",
    "    df_result.loc[i,'perc_power']=perc_power\n",
    "    df_result.loc[i,'train_acc']=train_acc\n",
    "    df_result.loc[i,'test_acc']=test_acc\n",
    "\n",
    "    df_output=pipe_to_df(X_rem,find_metric)\n",
    "    inc_coef=float(df_output[df_output.feature=='Income'].loc[:,'coefficients'])\n",
    "    df_result.loc[i,'income_coef']=inc_coef"
   ]
  },
  {
   "cell_type": "code",
   "execution_count": 103,
   "metadata": {},
   "outputs": [
    {
     "data": {
      "image/png": "[encoded data removed]",
      "text/plain": [
       "<Figure size 1500x1000 with 2 Axes>"
      ]
     },
     "metadata": {},
     "output_type": "display_data"
    }
   ],
   "source": [
    "sns.set_style('whitegrid')\n",
    "\n",
    "fig, ax = plt.subplots(2,1, figsize=(15,10))\n",
    "\n",
    "plt.subplot(2,1,1)\n",
    "\n",
    "# Plot the chart\n",
    "sns.lineplot(data=df_result, x='perc_power', y='train_acc',label='train_acc')\n",
    "sns.lineplot(data=df_result, x='perc_power', y='test_acc',label='test_acc')\n",
    "plt.ylabel('Accuracy')\n",
    "#sns.lineplot(data=df_result, x='perc_power', y=abs(df_result.income_coef),label='income_coef')\n",
    "\n",
    "plt.title('The effect of changing the power coefficient of the percentage change on the model accuracy')\n",
    "plt.legend()\n",
    "\n",
    "plt.subplot(2,1,2)\n",
    "\n",
    "# Plot the chart\n",
    "sns.lineplot(data=df_result, x='perc_power', y=df_result.income_coef,label='absolute of the income_coef',color='green')\n",
    "\n",
    "plt.title('The effect of changing the power coefficient of the percentage change on the logistic classification coefficient')\n",
    "plt.ylabel('Absolute of Income Coefficient from the Logistic Model')\n",
    "\n",
    "plt.legend()\n",
    "\n",
    "plt.show()\n"
   ]
  },
  {
   "attachments": {},
   "cell_type": "markdown",
   "metadata": {},
   "source": [
    "* Need to aim for the lowest absolute value of the income optimal perc_power\n",
    "  * Optimal perc_power=2"
   ]
  },
  {
   "cell_type": "code",
   "execution_count": 94,
   "metadata": {},
   "outputs": [
    {
     "data": {
      "text/plain": [
       "14.0"
      ]
     },
     "execution_count": 94,
     "metadata": {},
     "output_type": "execute_result"
    }
   ],
   "source": [
    "df_result.iloc[df_result['income_coef'].idxmin()]['perc_power']"
   ]
  },
  {
   "cell_type": "code",
   "execution_count": 105,
   "metadata": {},
   "outputs": [
    {
     "name": "stdout",
     "output_type": "stream",
     "text": [
      "(3, 10.0, 0     2.721647\n",
      "1     0.856219\n",
      "2     1.282291\n",
      "3     0.845722\n",
      "4     1.009469\n",
      "5     0.903658\n",
      "6     0.756641\n",
      "7     0.898601\n",
      "8     0.696186\n",
      "9     0.898601\n",
      "10    0.635852\n",
      "11    0.898601\n",
      "12    0.635852\n",
      "13    0.898601\n",
      "14    0.635852\n",
      "Name: abs_income_coef, dtype: float64)\n",
      "(4, 2.0, 0     2.052301\n",
      "1     1.360260\n",
      "2     0.399465\n",
      "3     1.493910\n",
      "4     0.656636\n",
      "5     1.493910\n",
      "6     0.709766\n",
      "7     1.545526\n",
      "8     0.709766\n",
      "9     1.545526\n",
      "10    0.899366\n",
      "11    1.545526\n",
      "12    0.894392\n",
      "13    1.545526\n",
      "14    0.952458\n",
      "Name: abs_income_coef, dtype: float64)\n",
      "(5, 4.0, 0     2.023879\n",
      "1     1.017640\n",
      "2     0.336452\n",
      "3     1.395868\n",
      "4     0.137005\n",
      "5     1.438422\n",
      "6     0.326709\n",
      "7     1.546260\n",
      "8     0.427734\n",
      "9     1.546260\n",
      "10    0.474088\n",
      "11    1.546260\n",
      "12    0.474088\n",
      "13    1.515777\n",
      "14    0.474088\n",
      "Name: abs_income_coef, dtype: float64)\n",
      "(6, 4.0, 0     2.684579\n",
      "1     0.817204\n",
      "2     0.332247\n",
      "3     1.053818\n",
      "4     0.164841\n",
      "5     1.041198\n",
      "6     0.446309\n",
      "7     1.204086\n",
      "8     0.515247\n",
      "9     1.204086\n",
      "10    0.515247\n",
      "11    1.204086\n",
      "12    0.619028\n",
      "13    1.204086\n",
      "14    0.619028\n",
      "Name: abs_income_coef, dtype: float64)\n",
      "(7, 4.0, 0     2.055054\n",
      "1     0.178741\n",
      "2     0.252269\n",
      "3     1.132364\n",
      "4     0.033091\n",
      "5     1.441084\n",
      "6     0.422991\n",
      "7     1.444969\n",
      "8     0.457143\n",
      "9     1.444969\n",
      "10    0.492486\n",
      "11    1.444969\n",
      "12    0.509142\n",
      "13    1.491613\n",
      "14    0.569863\n",
      "Name: abs_income_coef, dtype: float64)\n",
      "(8, 2.0, 0     1.957099\n",
      "1     0.289110\n",
      "2     0.105080\n",
      "3     0.529286\n",
      "4     0.280482\n",
      "5     0.778458\n",
      "6     0.466002\n",
      "7     0.832628\n",
      "8     0.579375\n",
      "9     0.811322\n",
      "10    0.575058\n",
      "11    0.811322\n",
      "12    0.742518\n",
      "13    0.811322\n",
      "14    0.863982\n",
      "Name: abs_income_coef, dtype: float64)\n",
      "(9, 5.0, 0     2.791091\n",
      "1     1.217614\n",
      "2     0.885464\n",
      "3     0.548698\n",
      "4     0.671744\n",
      "5     0.098141\n",
      "6     0.189691\n",
      "7     0.274932\n",
      "8     0.243322\n",
      "9     0.564631\n",
      "10    0.364637\n",
      "11    0.597185\n",
      "12    0.560413\n",
      "13    0.597185\n",
      "14    0.726902\n",
      "Name: abs_income_coef, dtype: float64)\n",
      "(10, 3.0, 0     2.654989\n",
      "1     0.805146\n",
      "2     0.420866\n",
      "3     0.003680\n",
      "4     0.012437\n",
      "5     0.176493\n",
      "6     0.224407\n",
      "7     0.365249\n",
      "8     0.248283\n",
      "9     0.403695\n",
      "10    0.248283\n",
      "11    0.424089\n",
      "12    0.347292\n",
      "13    0.495998\n",
      "14    0.347292\n",
      "Name: abs_income_coef, dtype: float64)\n"
     ]
    }
   ],
   "source": [
    "new_li=[]\n",
    "for prediction_period in range (3,11):\n",
    "    #Define pipeline parameters that will remain constant for the loop\n",
    "\n",
    "    year=2010\n",
    "    train_period=5\n",
    "    metric='power'\n",
    "\n",
    "    #Instantiate a dataframe to store results of the loop\n",
    "    df_result=pd.DataFrame({'perc_power':[],'train_acc':[],'test_acc':[],'income_coef':[]})\n",
    "\n",
    "    #Loop through perc_power\n",
    "    for i,perc_power in enumerate(range(0,15)):\n",
    "\n",
    "        #Define a pipeline for X and y preprocessing based on the steps outlined above\n",
    "        X_y_prep_baseline = Pipeline(\n",
    "            [\n",
    "            #one hot encoding\n",
    "            ('ohe', CustomOneHotEncoder_CT()),\n",
    "            #grouping based on the year we are making the prediction from and the training length\n",
    "            ('group',FunctionTransformer(df_window_multi_type, kw_args={'year': year, 't': train_period})),\n",
    "            #convert income change into y_target based on the year we are making the prediction from and the prediction length and drop the remaining of Income columns\n",
    "            ('target',GentrificationTarget(year,prediction_period,metric,perc_power)),\n",
    "            #split into X & y\n",
    "            ('X_y_split',FunctionTransformer(select_columns))\n",
    "            ])\n",
    "\n",
    "        #Define a modelling pipeline\n",
    "        model_pipeline = Pipeline([\n",
    "            ('scaler', MinMaxScaler()),   # data normalization step\n",
    "            ('model', LogisticRegression())   # linear regression model\n",
    "        ])\n",
    "\n",
    "        #Conduct preprocessing using the first pipeline\n",
    "        X_y_prep_baseline.fit(df_rem)\n",
    "        X_rem,y_rem=X_y_prep_baseline.transform(df_rem)\n",
    "        X_test,y_test=X_y_prep_baseline.transform(df_test)\n",
    "\n",
    "        #Initial models not integrating work_desc\n",
    "        #Drop Work Description Column\n",
    "        X_rem=X_rem.drop(columns='WORK_DESCRIPTION')\n",
    "        X_test=X_test.drop(columns='WORK_DESCRIPTION')\n",
    "\n",
    "        #Fit the modelling pipeline on X_rem and y_rem\n",
    "        model_pipeline.fit(X_rem,y_rem)\n",
    "        find_metric=model_pipeline\n",
    "\n",
    "        #save train and test accuracies\n",
    "        train_acc=find_metric.score(X_rem,y_rem)\n",
    "        test_acc=find_metric.score(X_test,y_test)\n",
    "\n",
    "        #\n",
    "        df_result.loc[i,'perc_power']=perc_power\n",
    "        df_result.loc[i,'train_acc']=train_acc\n",
    "        df_result.loc[i,'test_acc']=test_acc\n",
    "\n",
    "        df_output=pipe_to_df(X_rem,find_metric)\n",
    "        inc_coef=float(df_output[df_output.feature=='Income'].loc[:,'coefficients'])\n",
    "        df_result.loc[i,'abs_income_coef']=abs(inc_coef)\n",
    "\n",
    "\n",
    "    x=df_result.iloc[df_result['abs_income_coef'].idxmin()]['perc_power']\n",
    "    k=(prediction_period,x,df_result.abs_income_coef)\n",
    "    new_li.append(k)\n",
    "    print(k)"
   ]
  },
  {
   "cell_type": "code",
   "execution_count": null,
   "metadata": {},
   "outputs": [],
   "source": []
  },
  {
   "cell_type": "code",
   "execution_count": null,
   "metadata": {},
   "outputs": [],
   "source": []
  },
  {
   "attachments": {},
   "cell_type": "markdown",
   "metadata": {},
   "source": [
    "**Model A**\n",
    "* First, let's fit a model with all the one hot encoded features, without conducting any further feature selection\n",
    "* `model A contains all the features without conducting any statistical tests`"
   ]
  },
  {
   "cell_type": "code",
   "execution_count": 70,
   "metadata": {},
   "outputs": [],
   "source": [
    "year=2010\n",
    "train_period=3\n",
    "prediction_period=11\n",
    "metric='power'\n",
    "perc_power=7\n",
    "\n",
    "#Define a pipeline for X and y preprocessing based on the steps outlined above\n",
    "X_y_prep_baseline = Pipeline(\n",
    "    [\n",
    "    #one hot encoding\n",
    "    ('ohe', CustomOneHotEncoder_CT()),\n",
    "    #grouping based on the year we are making the prediction from and the training length\n",
    "    ('group',FunctionTransformer(df_window_multi_type, kw_args={'year': year, 't': train_period})),\n",
    "    #convert income change into y_target based on the year we are making the prediction from and the prediction length and drop the remaining of Income columns\n",
    "    ('target',GentrificationTarget(year,prediction_period,metric,perc_power)),\n",
    "    #split into X & y\n",
    "    ('X_y_split',FunctionTransformer(select_columns))\n",
    "    ])\n",
    "\n",
    "#Define a modelling pipeline\n",
    "model_pipeline = Pipeline([\n",
    "    ('scaler', MinMaxScaler()),   # data normalization step\n",
    "    ('model', LogisticRegression())   # linear regression model\n",
    "])"
   ]
  },
  {
   "cell_type": "code",
   "execution_count": 71,
   "metadata": {},
   "outputs": [],
   "source": [
    "#Conduct preprocessing using the first pipeline\n",
    "X_y_prep_baseline.fit(df_rem)\n",
    "X_rem,y_rem=X_y_prep_baseline.transform(df_rem)\n",
    "X_test,y_test=X_y_prep_baseline.transform(df_test)\n",
    "\n",
    "#Initial models not integrating work_desc\n",
    "#Drop Work Description Column\n",
    "X_rem=X_rem.drop(columns='WORK_DESCRIPTION')\n",
    "X_test=X_test.drop(columns='WORK_DESCRIPTION')\n",
    "\n",
    "#Fit the modelling pipeline on X_rem and y_rem\n",
    "model_pipeline.fit(X_rem,y_rem)\n",
    "all_features_model=model_pipeline"
   ]
  },
  {
   "attachments": {},
   "cell_type": "markdown",
   "metadata": {},
   "source": [
    "* Print accuracy for the baseline model with all the features"
   ]
  },
  {
   "cell_type": "code",
   "execution_count": 72,
   "metadata": {},
   "outputs": [
    {
     "name": "stdout",
     "output_type": "stream",
     "text": [
      "Baseline model train accuracy is 67.31%\n",
      "Baseline model test accuracy is 63.57%\n"
     ]
    }
   ],
   "source": [
    "train_accuracy = all_features_model.score(X_rem, y_rem)\n",
    "test_accuracy = all_features_model.score(X_test, y_test)\n",
    "\n",
    "print(f'Baseline model train accuracy is {train_accuracy*100:.2f}%')\n",
    "print(f'Baseline model test accuracy is {test_accuracy*100:.2f}%')"
   ]
  },
  {
   "cell_type": "code",
   "execution_count": 73,
   "metadata": {},
   "outputs": [
    {
     "data": {
      "text/html": [
       "<div>\n",
       "<style scoped>\n",
       "    .dataframe tbody tr th:only-of-type {\n",
       "        vertical-align: middle;\n",
       "    }\n",
       "\n",
       "    .dataframe tbody tr th {\n",
       "        vertical-align: top;\n",
       "    }\n",
       "\n",
       "    .dataframe thead th {\n",
       "        text-align: right;\n",
       "    }\n",
       "</style>\n",
       "<table border=\"1\" class=\"dataframe\">\n",
       "  <thead>\n",
       "    <tr style=\"text-align: right;\">\n",
       "      <th></th>\n",
       "      <th>feature</th>\n",
       "      <th>coefficients</th>\n",
       "    </tr>\n",
       "  </thead>\n",
       "  <tbody>\n",
       "    <tr>\n",
       "      <th>42</th>\n",
       "      <td>CONTACT_1_TYPE_OWNER AS ARCHITECT &amp; CONTRACTR</td>\n",
       "      <td>-0.846302</td>\n",
       "    </tr>\n",
       "    <tr>\n",
       "      <th>18</th>\n",
       "      <td>REVIEW_TYPE_EASY PERMIT</td>\n",
       "      <td>-0.809501</td>\n",
       "    </tr>\n",
       "    <tr>\n",
       "      <th>52</th>\n",
       "      <td>CONTACT_1_CITY_CHICAGO_SUBURBS</td>\n",
       "      <td>-0.807327</td>\n",
       "    </tr>\n",
       "    <tr>\n",
       "      <th>34</th>\n",
       "      <td>CONTACT_1_TYPE_CONTRACTOR-VENTILATION</td>\n",
       "      <td>-0.782515</td>\n",
       "    </tr>\n",
       "    <tr>\n",
       "      <th>21</th>\n",
       "      <td>REVIEW_TYPE_FIRE PROTECTION SYSTEM</td>\n",
       "      <td>-0.764169</td>\n",
       "    </tr>\n",
       "    <tr>\n",
       "      <th>61</th>\n",
       "      <td>CONTACT_1_STATE_TX</td>\n",
       "      <td>-0.748036</td>\n",
       "    </tr>\n",
       "    <tr>\n",
       "      <th>70</th>\n",
       "      <td>New_Topics_repair</td>\n",
       "      <td>-0.665267</td>\n",
       "    </tr>\n",
       "    <tr>\n",
       "      <th>57</th>\n",
       "      <td>CONTACT_1_CITY_OTHER</td>\n",
       "      <td>-0.657832</td>\n",
       "    </tr>\n",
       "    <tr>\n",
       "      <th>10</th>\n",
       "      <td>PERMIT_TYPE_ELECTRIC WIRING</td>\n",
       "      <td>-0.653119</td>\n",
       "    </tr>\n",
       "    <tr>\n",
       "      <th>14</th>\n",
       "      <td>PERMIT_TYPE_SCAFFOLDING</td>\n",
       "      <td>-0.544073</td>\n",
       "    </tr>\n",
       "    <tr>\n",
       "      <th>54</th>\n",
       "      <td>CONTACT_1_CITY_MINOOKA</td>\n",
       "      <td>-0.526793</td>\n",
       "    </tr>\n",
       "    <tr>\n",
       "      <th>28</th>\n",
       "      <td>CONTACT_1_TYPE_CONTRACTOR-ELECTRICAL</td>\n",
       "      <td>-0.465928</td>\n",
       "    </tr>\n",
       "    <tr>\n",
       "      <th>6</th>\n",
       "      <td>LOG_REPORTED_COST</td>\n",
       "      <td>-0.464353</td>\n",
       "    </tr>\n",
       "    <tr>\n",
       "      <th>45</th>\n",
       "      <td>CONTACT_1_TYPE_PLUMBING CONTRACTOR</td>\n",
       "      <td>-0.348128</td>\n",
       "    </tr>\n",
       "    <tr>\n",
       "      <th>48</th>\n",
       "      <td>CONTACT_1_TYPE_STRUCTURAL ENGINEER</td>\n",
       "      <td>-0.319028</td>\n",
       "    </tr>\n",
       "  </tbody>\n",
       "</table>\n",
       "</div>"
      ],
      "text/plain": [
       "                                          feature  coefficients\n",
       "42  CONTACT_1_TYPE_OWNER AS ARCHITECT & CONTRACTR     -0.846302\n",
       "18                        REVIEW_TYPE_EASY PERMIT     -0.809501\n",
       "52                 CONTACT_1_CITY_CHICAGO_SUBURBS     -0.807327\n",
       "34          CONTACT_1_TYPE_CONTRACTOR-VENTILATION     -0.782515\n",
       "21             REVIEW_TYPE_FIRE PROTECTION SYSTEM     -0.764169\n",
       "61                             CONTACT_1_STATE_TX     -0.748036\n",
       "70                              New_Topics_repair     -0.665267\n",
       "57                           CONTACT_1_CITY_OTHER     -0.657832\n",
       "10                    PERMIT_TYPE_ELECTRIC WIRING     -0.653119\n",
       "14                        PERMIT_TYPE_SCAFFOLDING     -0.544073\n",
       "54                         CONTACT_1_CITY_MINOOKA     -0.526793\n",
       "28           CONTACT_1_TYPE_CONTRACTOR-ELECTRICAL     -0.465928\n",
       "6                               LOG_REPORTED_COST     -0.464353\n",
       "45             CONTACT_1_TYPE_PLUMBING CONTRACTOR     -0.348128\n",
       "48             CONTACT_1_TYPE_STRUCTURAL ENGINEER     -0.319028"
      ]
     },
     "execution_count": 73,
     "metadata": {},
     "output_type": "execute_result"
    }
   ],
   "source": [
    "df_output=pipe_to_df(X_rem,all_features_model)\n",
    "df_output.sort_values('coefficients')[:15]"
   ]
  },
  {
   "cell_type": "code",
   "execution_count": 74,
   "metadata": {},
   "outputs": [
    {
     "data": {
      "text/html": [
       "<div>\n",
       "<style scoped>\n",
       "    .dataframe tbody tr th:only-of-type {\n",
       "        vertical-align: middle;\n",
       "    }\n",
       "\n",
       "    .dataframe tbody tr th {\n",
       "        vertical-align: top;\n",
       "    }\n",
       "\n",
       "    .dataframe thead th {\n",
       "        text-align: right;\n",
       "    }\n",
       "</style>\n",
       "<table border=\"1\" class=\"dataframe\">\n",
       "  <thead>\n",
       "    <tr style=\"text-align: right;\">\n",
       "      <th></th>\n",
       "      <th>feature</th>\n",
       "      <th>coefficients</th>\n",
       "    </tr>\n",
       "  </thead>\n",
       "  <tbody>\n",
       "    <tr>\n",
       "      <th>9</th>\n",
       "      <td>PERMIT_TYPE_EASY PERMIT PROCESS</td>\n",
       "      <td>0.524746</td>\n",
       "    </tr>\n",
       "    <tr>\n",
       "      <th>58</th>\n",
       "      <td>CONTACT_1_STATE_IL</td>\n",
       "      <td>0.538828</td>\n",
       "    </tr>\n",
       "    <tr>\n",
       "      <th>53</th>\n",
       "      <td>CONTACT_1_CITY_ELK GROVE VILLAGE</td>\n",
       "      <td>0.541673</td>\n",
       "    </tr>\n",
       "    <tr>\n",
       "      <th>19</th>\n",
       "      <td>REVIEW_TYPE_EASY PERMIT WEB</td>\n",
       "      <td>0.586019</td>\n",
       "    </tr>\n",
       "    <tr>\n",
       "      <th>71</th>\n",
       "      <td>New_Topics_wrecking</td>\n",
       "      <td>0.613972</td>\n",
       "    </tr>\n",
       "    <tr>\n",
       "      <th>25</th>\n",
       "      <td>REVIEW_TYPE_TRADITIONAL DEVELOPER SERVICES</td>\n",
       "      <td>0.627959</td>\n",
       "    </tr>\n",
       "    <tr>\n",
       "      <th>37</th>\n",
       "      <td>CONTACT_1_TYPE_EXPEDITOR</td>\n",
       "      <td>0.654315</td>\n",
       "    </tr>\n",
       "    <tr>\n",
       "      <th>39</th>\n",
       "      <td>CONTACT_1_TYPE_MASONRY CONTRACTOR</td>\n",
       "      <td>0.712340</td>\n",
       "    </tr>\n",
       "    <tr>\n",
       "      <th>22</th>\n",
       "      <td>REVIEW_TYPE_SELF CERT</td>\n",
       "      <td>0.719004</td>\n",
       "    </tr>\n",
       "    <tr>\n",
       "      <th>50</th>\n",
       "      <td>CONTACT_1_TYPE_UNKNOWN</td>\n",
       "      <td>0.731630</td>\n",
       "    </tr>\n",
       "    <tr>\n",
       "      <th>51</th>\n",
       "      <td>CONTACT_1_CITY_CHICAGO</td>\n",
       "      <td>0.763115</td>\n",
       "    </tr>\n",
       "    <tr>\n",
       "      <th>47</th>\n",
       "      <td>CONTACT_1_TYPE_SIGN CONTRACTOR</td>\n",
       "      <td>0.789129</td>\n",
       "    </tr>\n",
       "    <tr>\n",
       "      <th>12</th>\n",
       "      <td>PERMIT_TYPE_REINSTATE REVOKED PMT</td>\n",
       "      <td>0.807459</td>\n",
       "    </tr>\n",
       "    <tr>\n",
       "      <th>2</th>\n",
       "      <td>LOG_ZONING_FEE_PAID</td>\n",
       "      <td>0.827708</td>\n",
       "    </tr>\n",
       "    <tr>\n",
       "      <th>43</th>\n",
       "      <td>CONTACT_1_TYPE_OWNER AS GENERAL CONTRACTOR</td>\n",
       "      <td>0.837286</td>\n",
       "    </tr>\n",
       "  </tbody>\n",
       "</table>\n",
       "</div>"
      ],
      "text/plain": [
       "                                       feature  coefficients\n",
       "9              PERMIT_TYPE_EASY PERMIT PROCESS      0.524746\n",
       "58                          CONTACT_1_STATE_IL      0.538828\n",
       "53            CONTACT_1_CITY_ELK GROVE VILLAGE      0.541673\n",
       "19                 REVIEW_TYPE_EASY PERMIT WEB      0.586019\n",
       "71                         New_Topics_wrecking      0.613972\n",
       "25  REVIEW_TYPE_TRADITIONAL DEVELOPER SERVICES      0.627959\n",
       "37                    CONTACT_1_TYPE_EXPEDITOR      0.654315\n",
       "39           CONTACT_1_TYPE_MASONRY CONTRACTOR      0.712340\n",
       "22                       REVIEW_TYPE_SELF CERT      0.719004\n",
       "50                      CONTACT_1_TYPE_UNKNOWN      0.731630\n",
       "51                      CONTACT_1_CITY_CHICAGO      0.763115\n",
       "47              CONTACT_1_TYPE_SIGN CONTRACTOR      0.789129\n",
       "12           PERMIT_TYPE_REINSTATE REVOKED PMT      0.807459\n",
       "2                          LOG_ZONING_FEE_PAID      0.827708\n",
       "43  CONTACT_1_TYPE_OWNER AS GENERAL CONTRACTOR      0.837286"
      ]
     },
     "execution_count": 74,
     "metadata": {},
     "output_type": "execute_result"
    }
   ],
   "source": [
    "df_output=pipe_to_df(X_rem,all_features_model)\n",
    "df_output.sort_values('coefficients')[-15:]"
   ]
  },
  {
   "cell_type": "code",
   "execution_count": null,
   "metadata": {},
   "outputs": [],
   "source": []
  },
  {
   "attachments": {},
   "cell_type": "markdown",
   "metadata": {},
   "source": [
    "* Initial accuracy scores might appear relatively high, but it should be noted that test scores are surprisingly slighly higher than the train scores\n",
    "* Additioanlly, should be noted that the class distribution is aroudn 50/50, which means that guessing gentrified every time would give a baseline accuracy of 50 %\n",
    "* This could happen because the model is underfitting or because the pattern capturing the link between income change and building permits happened to be in the test test due to the small size of the dataset\n",
    "* A grid search will be run later on in the notebook to further evaluate the model performance"
   ]
  },
  {
   "cell_type": "code",
   "execution_count": 75,
   "metadata": {},
   "outputs": [],
   "source": [
    "#Define a function to generate confusion matrix\n",
    "from sklearn.metrics import confusion_matrix, ConfusionMatrixDisplay\n",
    "\n",
    "def conf_matrix(model,X_test):\n",
    "    y_pred = model.predict(X_test)\n",
    "    cf_matrix = confusion_matrix(y_test, y_pred)\n",
    "\n",
    "    cf_df = pd.DataFrame(\n",
    "        cf_matrix, \n",
    "        columns=[\"Predicted No-Gentrification\", \"Predicted Gentrification\"],\n",
    "        index=[\"True No-Gentrification\", \"True Gentrification\"]\n",
    "    )\n",
    "\n",
    "    display(cf_df)\n",
    "\n",
    "    tp = cf_matrix[1, 1]\n",
    "    predicted_gentrification = cf_matrix[:, 1].sum()\n",
    "    precision = tp/predicted_gentrification\n",
    "    print(f\"Precision = {tp}/{predicted_gentrification} = {round(precision*100, 2)}%\")\n",
    "\n",
    "    true_gentrification = cf_matrix[1, :].sum()\n",
    "    recall = tp/true_gentrification\n",
    "    print(f\"Recall = {tp}/{true_gentrification} = {round(recall*100, 2)}%\")\n",
    "\n",
    "    # the function expects the estimator, inputs and target as parameters\n",
    "    ConfusionMatrixDisplay.from_estimator(model, X_test, y_test);"
   ]
  },
  {
   "attachments": {},
   "cell_type": "markdown",
   "metadata": {},
   "source": [
    "`Confusion Matrix for Model A`"
   ]
  },
  {
   "cell_type": "code",
   "execution_count": 76,
   "metadata": {},
   "outputs": [
    {
     "data": {
      "text/html": [
       "<div>\n",
       "<style scoped>\n",
       "    .dataframe tbody tr th:only-of-type {\n",
       "        vertical-align: middle;\n",
       "    }\n",
       "\n",
       "    .dataframe tbody tr th {\n",
       "        vertical-align: top;\n",
       "    }\n",
       "\n",
       "    .dataframe thead th {\n",
       "        text-align: right;\n",
       "    }\n",
       "</style>\n",
       "<table border=\"1\" class=\"dataframe\">\n",
       "  <thead>\n",
       "    <tr style=\"text-align: right;\">\n",
       "      <th></th>\n",
       "      <th>Predicted No-Gentrification</th>\n",
       "      <th>Predicted Gentrification</th>\n",
       "    </tr>\n",
       "  </thead>\n",
       "  <tbody>\n",
       "    <tr>\n",
       "      <th>True No-Gentrification</th>\n",
       "      <td>35</td>\n",
       "      <td>20</td>\n",
       "    </tr>\n",
       "    <tr>\n",
       "      <th>True Gentrification</th>\n",
       "      <td>31</td>\n",
       "      <td>54</td>\n",
       "    </tr>\n",
       "  </tbody>\n",
       "</table>\n",
       "</div>"
      ],
      "text/plain": [
       "                        Predicted No-Gentrification  Predicted Gentrification\n",
       "True No-Gentrification                           35                        20\n",
       "True Gentrification                              31                        54"
      ]
     },
     "metadata": {},
     "output_type": "display_data"
    },
    {
     "name": "stdout",
     "output_type": "stream",
     "text": [
      "Precision = 54/74 = 72.97%\n",
      "Recall = 54/85 = 63.53%\n"
     ]
    },
    {
     "data": {
      "image/png": "[encoded data removed]",
      "text/plain": [
       "<Figure size 640x480 with 2 Axes>"
      ]
     },
     "metadata": {},
     "output_type": "display_data"
    }
   ],
   "source": [
    "conf_matrix(all_features_model,X_test)"
   ]
  },
  {
   "attachments": {},
   "cell_type": "markdown",
   "metadata": {},
   "source": [
    "* Out of 75 gentrified geographies, model a picked up on 46, resulting in a recall score of 61%\n",
    "* Out of 63 labelled as gentrified, 46 were labelled correcly, leading to the precision score of 73%"
   ]
  },
  {
   "attachments": {},
   "cell_type": "markdown",
   "metadata": {},
   "source": [
    "---\n",
    "To form next modelling feature sets import outcome of statistic test and multicollinearity explorations"
   ]
  },
  {
   "cell_type": "code",
   "execution_count": 77,
   "metadata": {},
   "outputs": [],
   "source": [
    "#load the columns to be dropped based on not passing the statistical t-test\n",
    "columns_to_drop=joblib.load('../data/interim/MODEL_drop_feature_ttest.pkl')\n",
    "\n",
    "#load dictionary to merge some of the categories together'\n",
    "merging_categories_di=joblib.load('../data/interim/MODEL_change_cat.pkl')\n",
    "\n",
    "#multocollinearity\n",
    "multicol=joblib.load('../data/interim/MODEL_milticol.pkl')"
   ]
  },
  {
   "attachments": {},
   "cell_type": "markdown",
   "metadata": {},
   "source": [
    "**Model B**</br>\n",
    "`Drop columns that did not pass t-test in notebook 3`"
   ]
  },
  {
   "cell_type": "code",
   "execution_count": 78,
   "metadata": {},
   "outputs": [],
   "source": [
    "#apply the dictionary from notebook 3 to clean up some of the categories\n",
    "df_rem_temp=df_rem.replace(merging_categories_di)\n",
    "df_test_temp=df_test.replace(merging_categories_di)\n",
    "\n",
    "#using the same pipeline preprocess data for modelling\n",
    "X_y_prep_baseline.fit(df_rem_temp)\n",
    "X_rem,y_rem=X_y_prep_baseline.transform(df_rem_temp)\n",
    "X_test,y_test=X_y_prep_baseline.transform(df_test_temp)\n",
    "\n",
    "X_rem=X_rem.drop(columns='WORK_DESCRIPTION')\n",
    "X_test=X_test.drop(columns='WORK_DESCRIPTION')\n",
    "\n",
    "#drop columns that did not pass t-test from the list `columns_to_drop` impored in the cell above\n",
    "X_rem_ttest=X_rem.drop(columns=columns_to_drop)\n",
    "X_test_ttest=X_test.drop(columns=columns_to_drop)\n",
    "\n",
    "#fit a logistic model using the same modelling pipeline\n",
    "model_pipeline.fit(X_rem_ttest,y_rem)\n",
    "ttest_model=model_pipeline"
   ]
  },
  {
   "cell_type": "code",
   "execution_count": 79,
   "metadata": {},
   "outputs": [
    {
     "name": "stdout",
     "output_type": "stream",
     "text": [
      "Baseline model train accuracy is 64.16%\n",
      "Baseline model test accuracy is 60.71%\n"
     ]
    }
   ],
   "source": [
    "train_accuracy = ttest_model.score(X_rem_ttest, y_rem)\n",
    "test_accuracy = ttest_model.score(X_test_ttest, y_test)\n",
    "\n",
    "print(f'Baseline model train accuracy is {train_accuracy*100:.2f}%')\n",
    "print(f'Baseline model test accuracy is {test_accuracy*100:.2f}%')"
   ]
  },
  {
   "cell_type": "code",
   "execution_count": 80,
   "metadata": {},
   "outputs": [
    {
     "data": {
      "text/html": [
       "<div>\n",
       "<style scoped>\n",
       "    .dataframe tbody tr th:only-of-type {\n",
       "        vertical-align: middle;\n",
       "    }\n",
       "\n",
       "    .dataframe tbody tr th {\n",
       "        vertical-align: top;\n",
       "    }\n",
       "\n",
       "    .dataframe thead th {\n",
       "        text-align: right;\n",
       "    }\n",
       "</style>\n",
       "<table border=\"1\" class=\"dataframe\">\n",
       "  <thead>\n",
       "    <tr style=\"text-align: right;\">\n",
       "      <th></th>\n",
       "      <th>Predicted No-Gentrification</th>\n",
       "      <th>Predicted Gentrification</th>\n",
       "    </tr>\n",
       "  </thead>\n",
       "  <tbody>\n",
       "    <tr>\n",
       "      <th>True No-Gentrification</th>\n",
       "      <td>33</td>\n",
       "      <td>22</td>\n",
       "    </tr>\n",
       "    <tr>\n",
       "      <th>True Gentrification</th>\n",
       "      <td>33</td>\n",
       "      <td>52</td>\n",
       "    </tr>\n",
       "  </tbody>\n",
       "</table>\n",
       "</div>"
      ],
      "text/plain": [
       "                        Predicted No-Gentrification  Predicted Gentrification\n",
       "True No-Gentrification                           33                        22\n",
       "True Gentrification                              33                        52"
      ]
     },
     "metadata": {},
     "output_type": "display_data"
    },
    {
     "name": "stdout",
     "output_type": "stream",
     "text": [
      "Precision = 52/74 = 70.27%\n",
      "Recall = 52/85 = 61.18%\n"
     ]
    },
    {
     "data": {
      "image/png": "[encoded data removed]",
      "text/plain": [
       "<Figure size 640x480 with 2 Axes>"
      ]
     },
     "metadata": {},
     "output_type": "display_data"
    }
   ],
   "source": [
    "conf_matrix(ttest_model,X_test_ttest)"
   ]
  },
  {
   "attachments": {},
   "cell_type": "markdown",
   "metadata": {},
   "source": [
    "* After dropping features that proved to be not statistically significant using a t-test, accuracy reduced\n",
    "* However, now we observe a more expected patter of train set having higher accuracy scores than the test set\n",
    "* Recall score dropped to less than 50%"
   ]
  },
  {
   "attachments": {},
   "cell_type": "markdown",
   "metadata": {},
   "source": [
    "**Model C**</br>\n",
    "`Drop multicollinear columns defined in notebook 3"
   ]
  },
  {
   "cell_type": "code",
   "execution_count": 81,
   "metadata": {},
   "outputs": [],
   "source": [
    "#further drop columns that were multicollinear\n",
    "X_rem_ttest_multicol=X_rem_ttest.drop(columns=multicol)\n",
    "X_test_ttest_multicol=X_test_ttest.drop(columns=multicol)\n",
    "\n",
    "model_pipeline.fit(X_rem_ttest_multicol,y_rem)\n",
    "ttest_multicol_model=model_pipeline"
   ]
  },
  {
   "cell_type": "code",
   "execution_count": 82,
   "metadata": {},
   "outputs": [
    {
     "name": "stdout",
     "output_type": "stream",
     "text": [
      "Baseline model train accuracy is 64.34%\n",
      "Baseline model test accuracy is 62.86%\n"
     ]
    }
   ],
   "source": [
    "train_accuracy = ttest_multicol_model.score(X_rem_ttest_multicol, y_rem)\n",
    "test_accuracy = ttest_multicol_model.score(X_test_ttest_multicol, y_test)\n",
    "\n",
    "print(f'Baseline model train accuracy is {train_accuracy*100:.2f}%')\n",
    "print(f'Baseline model test accuracy is {test_accuracy*100:.2f}%')"
   ]
  },
  {
   "attachments": {},
   "cell_type": "markdown",
   "metadata": {},
   "source": [
    "* Dropping multicollinear columns appears to have marginally improved accuracy scores"
   ]
  },
  {
   "cell_type": "code",
   "execution_count": 83,
   "metadata": {},
   "outputs": [
    {
     "data": {
      "text/html": [
       "<div>\n",
       "<style scoped>\n",
       "    .dataframe tbody tr th:only-of-type {\n",
       "        vertical-align: middle;\n",
       "    }\n",
       "\n",
       "    .dataframe tbody tr th {\n",
       "        vertical-align: top;\n",
       "    }\n",
       "\n",
       "    .dataframe thead th {\n",
       "        text-align: right;\n",
       "    }\n",
       "</style>\n",
       "<table border=\"1\" class=\"dataframe\">\n",
       "  <thead>\n",
       "    <tr style=\"text-align: right;\">\n",
       "      <th></th>\n",
       "      <th>Predicted No-Gentrification</th>\n",
       "      <th>Predicted Gentrification</th>\n",
       "    </tr>\n",
       "  </thead>\n",
       "  <tbody>\n",
       "    <tr>\n",
       "      <th>True No-Gentrification</th>\n",
       "      <td>32</td>\n",
       "      <td>23</td>\n",
       "    </tr>\n",
       "    <tr>\n",
       "      <th>True Gentrification</th>\n",
       "      <td>29</td>\n",
       "      <td>56</td>\n",
       "    </tr>\n",
       "  </tbody>\n",
       "</table>\n",
       "</div>"
      ],
      "text/plain": [
       "                        Predicted No-Gentrification  Predicted Gentrification\n",
       "True No-Gentrification                           32                        23\n",
       "True Gentrification                              29                        56"
      ]
     },
     "metadata": {},
     "output_type": "display_data"
    },
    {
     "name": "stdout",
     "output_type": "stream",
     "text": [
      "Precision = 56/79 = 70.89%\n",
      "Recall = 56/85 = 65.88%\n"
     ]
    },
    {
     "data": {
      "image/png": "[encoded data removed]",
      "text/plain": [
       "<Figure size 640x480 with 2 Axes>"
      ]
     },
     "metadata": {},
     "output_type": "display_data"
    }
   ],
   "source": [
    "conf_matrix(ttest_multicol_model,X_test_ttest_multicol)"
   ]
  },
  {
   "attachments": {},
   "cell_type": "markdown",
   "metadata": {},
   "source": [
    "* Similarly, after dropping multicollinear columns, recall score has increased above 50%"
   ]
  },
  {
   "attachments": {},
   "cell_type": "markdown",
   "metadata": {},
   "source": [
    "* While model A resulted in the highest scores of 65%, using model A to evaluate coefficients might give mislleading results since it contains many multicollinear features\n",
    "* Hence, let's use model C, which had multicollinear features removed, to preview model coefficients"
   ]
  },
  {
   "cell_type": "code",
   "execution_count": 84,
   "metadata": {},
   "outputs": [],
   "source": [
    "logistic_model = ttest_multicol_model.named_steps['model']\n",
    "coefficients = logistic_model.coef_[0]"
   ]
  },
  {
   "cell_type": "code",
   "execution_count": 85,
   "metadata": {},
   "outputs": [
    {
     "data": {
      "text/html": [
       "<div>\n",
       "<style scoped>\n",
       "    .dataframe tbody tr th:only-of-type {\n",
       "        vertical-align: middle;\n",
       "    }\n",
       "\n",
       "    .dataframe tbody tr th {\n",
       "        vertical-align: top;\n",
       "    }\n",
       "\n",
       "    .dataframe thead th {\n",
       "        text-align: right;\n",
       "    }\n",
       "</style>\n",
       "<table border=\"1\" class=\"dataframe\">\n",
       "  <thead>\n",
       "    <tr style=\"text-align: right;\">\n",
       "      <th></th>\n",
       "      <th>features</th>\n",
       "      <th>coef</th>\n",
       "    </tr>\n",
       "  </thead>\n",
       "  <tbody>\n",
       "    <tr>\n",
       "      <th>12</th>\n",
       "      <td>CONTACT_1_CITY_CHICAGO</td>\n",
       "      <td>0.793885</td>\n",
       "    </tr>\n",
       "    <tr>\n",
       "      <th>18</th>\n",
       "      <td>Income</td>\n",
       "      <td>0.616709</td>\n",
       "    </tr>\n",
       "    <tr>\n",
       "      <th>17</th>\n",
       "      <td>New_Topics_wrecking</td>\n",
       "      <td>0.586502</td>\n",
       "    </tr>\n",
       "    <tr>\n",
       "      <th>11</th>\n",
       "      <td>CONTACT_1_TYPE_MASONRY CONTRACTOR</td>\n",
       "      <td>0.516899</td>\n",
       "    </tr>\n",
       "    <tr>\n",
       "      <th>10</th>\n",
       "      <td>CONTACT_1_TYPE_EXPEDITOR</td>\n",
       "      <td>0.356662</td>\n",
       "    </tr>\n",
       "    <tr>\n",
       "      <th>4</th>\n",
       "      <td>PERMIT_TYPE_NEW CONSTRUCTION</td>\n",
       "      <td>0.338352</td>\n",
       "    </tr>\n",
       "    <tr>\n",
       "      <th>15</th>\n",
       "      <td>New_Topics_alarm</td>\n",
       "      <td>0.291242</td>\n",
       "    </tr>\n",
       "    <tr>\n",
       "      <th>7</th>\n",
       "      <td>CONTACT_1_TYPE_ARCHITECT</td>\n",
       "      <td>0.185126</td>\n",
       "    </tr>\n",
       "    <tr>\n",
       "      <th>2</th>\n",
       "      <td>PERMIT_TYPE_EASY PERMIT PROCESS</td>\n",
       "      <td>0.169669</td>\n",
       "    </tr>\n",
       "    <tr>\n",
       "      <th>5</th>\n",
       "      <td>PERMIT_TYPE_RENOVATION/ALTERATION</td>\n",
       "      <td>0.165971</td>\n",
       "    </tr>\n",
       "    <tr>\n",
       "      <th>9</th>\n",
       "      <td>CONTACT_1_TYPE_CONTRACTOR-PLUMBER/PLUMBING</td>\n",
       "      <td>0.160146</td>\n",
       "    </tr>\n",
       "    <tr>\n",
       "      <th>16</th>\n",
       "      <td>New_Topics_interior</td>\n",
       "      <td>0.155158</td>\n",
       "    </tr>\n",
       "    <tr>\n",
       "      <th>8</th>\n",
       "      <td>CONTACT_1_TYPE_CONTRACTOR-HEATING</td>\n",
       "      <td>0.043563</td>\n",
       "    </tr>\n",
       "    <tr>\n",
       "      <th>6</th>\n",
       "      <td>REVIEW_TYPE_DIRECT DEVELOPER SERVICES</td>\n",
       "      <td>0.000000</td>\n",
       "    </tr>\n",
       "    <tr>\n",
       "      <th>0</th>\n",
       "      <td>LOG_OTHER_FEE_PAID</td>\n",
       "      <td>-0.164811</td>\n",
       "    </tr>\n",
       "    <tr>\n",
       "      <th>1</th>\n",
       "      <td>LOG_REPORTED_COST</td>\n",
       "      <td>-0.838371</td>\n",
       "    </tr>\n",
       "    <tr>\n",
       "      <th>13</th>\n",
       "      <td>CONTACT_1_CITY_CHICAGO_SUBURBS</td>\n",
       "      <td>-0.908914</td>\n",
       "    </tr>\n",
       "    <tr>\n",
       "      <th>3</th>\n",
       "      <td>PERMIT_TYPE_ELECTRIC WIRING</td>\n",
       "      <td>-0.930881</td>\n",
       "    </tr>\n",
       "    <tr>\n",
       "      <th>14</th>\n",
       "      <td>CONTACT_1_STATE_TX</td>\n",
       "      <td>-1.100587</td>\n",
       "    </tr>\n",
       "  </tbody>\n",
       "</table>\n",
       "</div>"
      ],
      "text/plain": [
       "                                      features      coef\n",
       "12                      CONTACT_1_CITY_CHICAGO  0.793885\n",
       "18                                      Income  0.616709\n",
       "17                         New_Topics_wrecking  0.586502\n",
       "11           CONTACT_1_TYPE_MASONRY CONTRACTOR  0.516899\n",
       "10                    CONTACT_1_TYPE_EXPEDITOR  0.356662\n",
       "4                 PERMIT_TYPE_NEW CONSTRUCTION  0.338352\n",
       "15                            New_Topics_alarm  0.291242\n",
       "7                     CONTACT_1_TYPE_ARCHITECT  0.185126\n",
       "2              PERMIT_TYPE_EASY PERMIT PROCESS  0.169669\n",
       "5            PERMIT_TYPE_RENOVATION/ALTERATION  0.165971\n",
       "9   CONTACT_1_TYPE_CONTRACTOR-PLUMBER/PLUMBING  0.160146\n",
       "16                         New_Topics_interior  0.155158\n",
       "8            CONTACT_1_TYPE_CONTRACTOR-HEATING  0.043563\n",
       "6        REVIEW_TYPE_DIRECT DEVELOPER SERVICES  0.000000\n",
       "0                           LOG_OTHER_FEE_PAID -0.164811\n",
       "1                            LOG_REPORTED_COST -0.838371\n",
       "13              CONTACT_1_CITY_CHICAGO_SUBURBS -0.908914\n",
       "3                  PERMIT_TYPE_ELECTRIC WIRING -0.930881\n",
       "14                          CONTACT_1_STATE_TX -1.100587"
      ]
     },
     "execution_count": 85,
     "metadata": {},
     "output_type": "execute_result"
    }
   ],
   "source": [
    "results=pd.DataFrame({'features':X_rem_ttest_multicol.columns, 'coef':coefficients})\n",
    "results.sort_values('coef',ascending=False)"
   ]
  },
  {
   "cell_type": "code",
   "execution_count": 86,
   "metadata": {},
   "outputs": [
    {
     "data": {
      "image/png": "[encoded data removed]",
      "text/plain": [
       "<Figure size 1000x1000 with 1 Axes>"
      ]
     },
     "metadata": {},
     "output_type": "display_data"
    }
   ],
   "source": [
    "# sort the dataframe by coefficients\n",
    "results_sorted = results.sort_values('coef', ascending=False)\n",
    "\n",
    "# create a horizontal bar plot\n",
    "fig=plt.subplots(figsize = (10, 10))\n",
    "\n",
    "plt.barh(results_sorted['features'], results_sorted['coef'])\n",
    "\n",
    "# set the title and labels\n",
    "plt.title('Logistic Regression Coefficients')\n",
    "plt.xlabel('Coefficients')\n",
    "plt.ylabel('Features')\n",
    "\n",
    "# show the plot\n",
    "plt.show()\n"
   ]
  },
  {
   "attachments": {},
   "cell_type": "markdown",
   "metadata": {},
   "source": [
    "**Positive Indicators**\n",
    "* New Construction Permit Types are an expected indicator of gentrification\n",
    "* Masonry Contractor as the primary project contact is a more surprising indicator of gentrification\n",
    "  * this might suggest higher-quality or more expensive construction\n",
    "* Architect being responsible for a project result in a slightly increased likelihood of gentrification\n",
    "</br></br>\n",
    "\n",
    "**Negative Indicators**\n",
    "* Primary Contact responsible for the project being a plumbing contractor or a heating contractor makes a district less likely to gentrify in the near future\n",
    "  * implies that the project may be related to maintenance or repair work, which is less likely to indicate gentrification\n",
    "* Interestingly, the model indicates that higher numbers of renovations point towards unlikely gentrification\n",
    "  * This appears counter-intuitive and suggests that the model might be finding other patterns shared between the census tracts apart from gentrification\n",
    "  * Nevertheless, it should be recalled that when conducting topic modelling on the Renovation Descriptions, a lot of them referred to maintenance work\n",
    "* 'Income' at the year of the prediction also appears to be a negative indicator of gentrification. This signifies that the metric developed for classifying census tracts into gentrified and not gentrified is skewed towards lower-income areas"
   ]
  },
  {
   "attachments": {},
   "cell_type": "markdown",
   "metadata": {},
   "source": [
    "***"
   ]
  },
  {
   "attachments": {},
   "cell_type": "markdown",
   "metadata": {},
   "source": [
    "* Let's go back to model A and preview model residuals"
   ]
  },
  {
   "cell_type": "code",
   "execution_count": 29,
   "metadata": {},
   "outputs": [
    {
     "name": "stdout",
     "output_type": "stream",
     "text": [
      "Baseline model train accuracy is 68.41%\n",
      "Baseline model test accuracy is 63.64%\n"
     ]
    }
   ],
   "source": [
    "year=2013\n",
    "train_period=5\n",
    "prediction_period=8\n",
    "metric='power'\n",
    "perc_power=4\n",
    "\n",
    "X_y_prep_baseline = Pipeline(\n",
    "    [\n",
    "    #one hot encoding\n",
    "    ('ohe', CustomOneHotEncoder_CT()),\n",
    "    #grouping based on the year we are making the prediction from and the training length\n",
    "    ('group',FunctionTransformer(df_window_multi_type, kw_args={'year': year, 't': train_period})),\n",
    "    #convert income change into y_target based on the year we are making the prediction from and the prediction length and drop the remaining of Income columns\n",
    "    ('target',GentrificationTarget(year,prediction_period,metric,perc_power)),\n",
    "    #split into X & y\n",
    "    ('X_y_split',FunctionTransformer(select_columns))\n",
    "    ])\n",
    "\n",
    "model_pipeline = Pipeline([\n",
    "    ('scaler', MinMaxScaler()),   # data normalization step\n",
    "    ('regressor', LogisticRegression())   # linear regression model\n",
    "])\n",
    "\n",
    "X_y_prep_baseline.fit(df_rem)\n",
    "X_rem,y_rem=X_y_prep_baseline.transform(df_rem)\n",
    "X_test,y_test=X_y_prep_baseline.transform(df_test)\n",
    "\n",
    "#Initial models not integrating work_desc\n",
    "X_rem=X_rem.drop(columns='WORK_DESCRIPTION')\n",
    "X_test=X_test.drop(columns='WORK_DESCRIPTION')\n",
    "\n",
    "model_pipeline.fit(X_rem,y_rem)\n",
    "all_features_model=model_pipeline\n",
    "\n",
    "train_accuracy = all_features_model.score(X_rem, y_rem)\n",
    "test_accuracy = all_features_model.score(X_test, y_test)\n",
    "\n",
    "print(f'Baseline model train accuracy is {train_accuracy*100:.2f}%')\n",
    "print(f'Baseline model test accuracy is {test_accuracy*100:.2f}%')"
   ]
  },
  {
   "attachments": {},
   "cell_type": "markdown",
   "metadata": {},
   "source": [
    "* Model Residuals"
   ]
  },
  {
   "cell_type": "code",
   "execution_count": 30,
   "metadata": {},
   "outputs": [],
   "source": [
    "y_pred=all_features_model.predict(X_test)\n",
    "\n",
    "residuals_df=pd.DataFrame()\n",
    "\n",
    "#tp if y_pred is 1 and y_test is 1\n",
    "#fp if y_pred is 0 but y_test is 1\n",
    "#tn if y_pred is 0 and y_test is 0\n",
    "#fn if y_pred is 1 but y_test is 0\n",
    "\n",
    "for i in range(len(y_test)):\n",
    "    if list(y_test)[i] == 1 and y_pred[i] == 1:\n",
    "        # True positive\n",
    "        residuals_df.loc[i, 'outcome'] = 'true_positive'\n",
    "    elif list(y_test)[i] == 0 and y_pred[i] == 1:\n",
    "        # False positive\n",
    "        residuals_df.loc[i, 'outcome'] = 'false_positive'\n",
    "    elif list(y_test)[i] == 0 and y_pred[i] == 0:\n",
    "        # True negative\n",
    "        residuals_df.loc[i, 'outcome'] = 'true_negative'\n",
    "    elif list(y_test)[i] == 1 and y_pred[i] == 0:\n",
    "        # False negative\n",
    "        residuals_df.loc[i, 'outcome'] = 'false_negative'\n",
    "\n",
    "residuals_df=residuals_df.fillna(0)\n",
    "\n",
    "#add census tracts\n",
    "residuals_df['Census_Tract']=y_test.index"
   ]
  },
  {
   "cell_type": "code",
   "execution_count": 31,
   "metadata": {},
   "outputs": [],
   "source": [
    "#Load a dataframe with all the census tracts and their respective coordiantes from the current Permit Dataframe\n",
    "ct_coord=joblib.load('../data/interim/ct_coord.pkl').reset_index(drop=True)\n",
    "ct_coord=ct_coord.groupby('CENSUS_TRACT').mean().reset_index()\n",
    "\n",
    "#add coordinates\n",
    "residuals_coord_df=coord(residuals_df,ct_coord)\n",
    "\n",
    "#add 2021 income\n",
    "income_2021=df.groupby('Census_Tract')['Mean_Income_2021'].mean().reset_index()\n",
    "\n",
    "residuals_coord_df=residuals_coord_df.merge(income_2021, on='Census_Tract')"
   ]
  },
  {
   "attachments": {},
   "cell_type": "markdown",
   "metadata": {},
   "source": [
    "* Preview correctly and incorrectly classfied geographies on a map to check for geographic or income biases"
   ]
  },
  {
   "cell_type": "code",
   "execution_count": 32,
   "metadata": {},
   "outputs": [
    {
     "data": {
      "application/vnd.plotly.v1+json": {
       "config": {
        "plotlyServerURL": "https://plot.ly"
       },
       "data": [
        {
         "hovertemplate": "outcome=true_negative<br>Mean_Income_2021=%{marker.size}<br>LATITUDE=%{lat}<br>LONGITUDE=%{lon}<extra></extra>",
         "lat": [
          42.01634394081635,
          42.00934819529867,
          41.979800522,
          41.97606950707334,
          41.94898370103737,
          41.94126614790164,
          41.88359593938619,
          41.84751443848388,
          41.870932916369036,
          41.8195203912597,
          41.77664730056626,
          41.76037379856885,
          41.75815283036258,
          41.74467754607261,
          41.74161197460344,
          41.73551720576136,
          41.729738988235454,
          41.716327876058735,
          41.693748993986915,
          41.79744196864896,
          41.78113096249735,
          41.76620690100421,
          41.776504685906595,
          41.77200655168444,
          41.76901891391705,
          41.76193734109528,
          41.754786569121656,
          41.752382644619516,
          41.74453122696183,
          41.74593300886963,
          41.748158369896636,
          41.72521202136235,
          41.714148575208945,
          41.68516839012869,
          41.68906632428883,
          41.78972535233803,
          41.80211282057912
         ],
         "legendgroup": "true_negative",
         "lon": [
          -87.67962447775588,
          -87.67286072642479,
          -87.6935447176923,
          -87.70083484869767,
          -87.65212535793772,
          -87.82198570201405,
          -87.74898526833077,
          -87.71244132773333,
          -87.62498199010106,
          -87.61047218865373,
          -87.61113992938593,
          -87.57142289877201,
          -87.55593501446421,
          -87.62005226335569,
          -87.58045385734236,
          -87.57747282210984,
          -87.58765599550138,
          -87.54944843434338,
          -87.53069634258377,
          -87.6719647297067,
          -87.7889975554354,
          -87.71774474486536,
          -87.66651176492033,
          -87.670571415272,
          -87.62004779362722,
          -87.61070122042275,
          -87.62014710160695,
          -87.72448478572842,
          -87.71170573976082,
          -87.69051455545423,
          -87.64883007154972,
          -87.63897442851416,
          -87.6385796850104,
          -87.68487504491007,
          -87.65165333932889,
          -87.68745650645455,
          -87.64337648996202
         ],
         "marker": {
          "color": "green",
          "size": [
           62192,
           61339,
           71519,
           109838,
           126151,
           80159,
           36996,
           53025,
           133221,
           60035,
           30610,
           61871,
           46160,
           77854,
           59615,
           70823,
           66277.5,
           56052,
           94143,
           39083.5,
           84682,
           69688,
           39224,
           42001,
           42819,
           49585,
           66736,
           81376,
           82305,
           69901,
           34822,
           64439,
           71308,
           127605,
           67738,
           54525,
           48387
          ],
          "sizemode": "area",
          "sizeref": 712.6925
         },
         "mode": "markers",
         "name": "true_negative",
         "showlegend": true,
         "subplot": "mapbox",
         "type": "scattermapbox"
        },
        {
         "hovertemplate": "outcome=true_positive<br>Mean_Income_2021=%{marker.size}<br>LATITUDE=%{lat}<br>LONGITUDE=%{lon}<extra></extra>",
         "lat": [
          42.00938171370118,
          42.005778305933255,
          41.986611202050746,
          41.99327923872098,
          41.96712255163672,
          41.97196248472063,
          41.96719976645355,
          41.957356818297136,
          41.95783208634521,
          41.94461931506747,
          41.941068315921,
          41.94901593587663,
          41.94129950790709,
          41.91390026633577,
          42.00519667265223,
          41.99482429765062,
          41.97015641821361,
          41.959513031271115,
          41.95754849698969,
          41.95563839057754,
          41.9418240998447,
          41.93450425851601,
          41.927449560231864,
          41.91939342352717,
          41.93764126251663,
          41.93437697302813,
          41.935289835408845,
          41.91206425831818,
          41.907062282920236,
          41.90769952147077,
          41.899541043408824,
          41.90056653344719,
          41.89295738347667,
          41.863679670131475,
          41.801285021775726,
          41.79818285797384,
          41.783098051716756,
          41.76431802162771,
          41.79530036659911,
          41.79042195984164,
          41.74488623898165,
          41.915128349451415,
          41.94642454825803,
          41.91900467045333,
          41.92222048806371,
          41.79773426118053,
          41.871508111291995,
          41.833185242681516,
          41.827414219821556,
          41.83140463004383,
          41.8415407463544,
          41.847030666669895,
          41.8148381955846,
          41.94447770820456
         ],
         "legendgroup": "true_positive",
         "lon": [
          -87.66400642496745,
          -87.66746171240514,
          -87.6939859844776,
          -87.69431326849808,
          -87.67072757754102,
          -87.68507884495929,
          -87.68487571733789,
          -87.6765704161969,
          -87.69109651816369,
          -87.6759809740771,
          -87.68068406947037,
          -87.66175306672568,
          -87.66151591666384,
          -87.63514870967492,
          -87.81289482373057,
          -87.7952602517636,
          -87.76026649207753,
          -87.75227148542011,
          -87.73059849004983,
          -87.7032074224492,
          -87.78120881580115,
          -87.78114321071939,
          -87.75138348076425,
          -87.73095167169016,
          -87.71175398437029,
          -87.71318415467263,
          -87.69365208818662,
          -87.70433394948637,
          -87.6894174817318,
          -87.68390235426612,
          -87.67950812861662,
          -87.69438232478807,
          -87.652084910176,
          -87.65404935729481,
          -87.58758587885224,
          -87.60395098543863,
          -87.61325082614495,
          -87.58078303343723,
          -87.79107030888927,
          -87.69931296317156,
          -87.73229991672477,
          -87.67681539776802,
          -87.65439871156049,
          -87.67232796206105,
          -87.66296500027052,
          -87.74631688799059,
          -87.63104057128479,
          -87.61969697586633,
          -87.64581514842128,
          -87.63875730102436,
          -87.70727063410835,
          -87.68317918390072,
          -87.65084493538602,
          -87.68924825705969
         ],
         "marker": {
          "color": "orange",
          "size": [
           65586,
           85113,
           79892,
           84824,
           115960,
           162477,
           147682,
           166438,
           190840,
           180433,
           191555,
           220074,
           273110,
           142618,
           141907.5,
           123178,
           83728,
           107842,
           94642,
           98084,
           99124,
           99608,
           73154,
           79277,
           122427,
           114354,
           116491,
           118568,
           106680,
           138312,
           135803,
           102749,
           176550,
           95620,
           79794,
           93456,
           48691,
           42968,
           110092,
           69598,
           83017,
           207956,
           161281,
           170606,
           214179,
           86222,
           131436,
           105458,
           107167,
           76820.5,
           54927,
           81399,
           100192,
           211809
          ],
          "sizemode": "area",
          "sizeref": 712.6925
         },
         "mode": "markers",
         "name": "true_positive",
         "showlegend": true,
         "subplot": "mapbox",
         "type": "scattermapbox"
        },
        {
         "hovertemplate": "outcome=false_positive<br>Mean_Income_2021=%{marker.size}<br>LATITUDE=%{lat}<br>LONGITUDE=%{lon}<extra></extra>",
         "lat": [
          42.00447474406051,
          41.988380907408754,
          41.98274240271569,
          41.97282710268252,
          41.96366063453417,
          41.957481417272724,
          41.94228638855097,
          41.93846384887544,
          41.9287141538822,
          41.92949495784616,
          41.890802622942715,
          41.984117967014946,
          41.942127643992066,
          41.93495566082108,
          41.9275723268359,
          41.929898000581964,
          41.8780781179062,
          41.84472109763636,
          41.83602284256496,
          41.77114778992358,
          41.82606129425797,
          41.805549099224194,
          41.77467656161006,
          41.9252162310087,
          41.88130890576672,
          41.85262996872194
         ],
         "legendgroup": "false_positive",
         "lon": [
          -87.66303688751596,
          -87.65649095193065,
          -87.65813585671569,
          -87.65219193112944,
          -87.68397101302091,
          -87.66652912554403,
          -87.65174207434623,
          -87.64106610656721,
          -87.6395697314763,
          -87.66077686250813,
          -87.6318340248053,
          -87.73169468365283,
          -87.73028200265972,
          -87.76155268858807,
          -87.7717462972188,
          -87.7611784007295,
          -87.72336793929094,
          -87.72765674680352,
          -87.63352089367976,
          -87.6095432792489,
          -87.69095703498115,
          -87.66257734990036,
          -87.74042997299685,
          -87.7982262430348,
          -87.63316127736435,
          -87.70461392430867
         ],
         "marker": {
          "color": "blue",
          "size": [
           64302,
           66938,
           62582,
           71628,
           113950,
           197459,
           137661,
           125962,
           140011,
           234527,
           160602,
           111141,
           66836,
           78795,
           67886,
           70728,
           49892,
           54903,
           60015,
           45095.5,
           58131,
           33030,
           64027.5,
           72477,
           215749.5,
           36451
          ],
          "sizemode": "area",
          "sizeref": 712.6925
         },
         "mode": "markers",
         "name": "false_positive",
         "showlegend": true,
         "subplot": "mapbox",
         "type": "scattermapbox"
        },
        {
         "hovertemplate": "outcome=false_negative<br>Mean_Income_2021=%{marker.size}<br>LATITUDE=%{lat}<br>LONGITUDE=%{lon}<extra></extra>",
         "lat": [
          41.98064383771111,
          41.943013114921825,
          41.90658504984995,
          41.90075848037112,
          41.90185191018897,
          42.01500788608871,
          41.94255041552537,
          41.94938595505152,
          41.92083978529086,
          41.90651475060084,
          41.891276792909395,
          41.883725240242505,
          41.84081007113095,
          null,
          41.84170635413636,
          41.842053759003676,
          41.80630834852716,
          41.764527397061876,
          41.81254839862297,
          41.74000085437702,
          41.6958095994876,
          41.967785427833334,
          41.731899407397506,
          41.787601665907395,
          41.67776156014429,
          41.864414363244705
         ],
         "legendgroup": "false_negative",
         "lon": [
          -87.65495743013332,
          -87.64084914437296,
          -87.6303908799131,
          -87.62902538432999,
          -87.62430657361509,
          -87.81336081653687,
          -87.75481793678622,
          -87.78105696013485,
          -87.75942961672355,
          -87.73173375139075,
          -87.75182554852685,
          -87.728406835055,
          -87.72949353145636,
          null,
          -87.61604968368687,
          -87.62783025326472,
          -87.6040285467324,
          -87.57159342151697,
          -87.70930370073918,
          -87.64829154266756,
          -87.65159879752892,
          -87.7870889655,
          -87.55036599917112,
          -87.63491886894033,
          -87.56536198856482,
          -87.6734562150935
         ],
         "marker": {
          "color": "red",
          "size": [
           95968,
           128471,
           197731,
           126518,
           285077,
           122080,
           95097,
           100549,
           61022,
           67036,
           53376,
           45814.5,
           53198,
           159114.66666666666,
           73462,
           30833,
           63308,
           85700,
           66131,
           63896,
           76302,
           85738,
           56477,
           53603,
           51205,
           52810
          ],
          "sizemode": "area",
          "sizeref": 712.6925
         },
         "mode": "markers",
         "name": "false_negative",
         "showlegend": true,
         "subplot": "mapbox",
         "type": "scattermapbox"
        }
       ],
       "layout": {
        "height": 1000,
        "legend": {
         "itemsizing": "constant",
         "title": {
          "text": "outcome"
         },
         "tracegroupgap": 0
        },
        "mapbox": {
         "center": {
          "lat": 41.870473219967465,
          "lon": -87.67711444920216
         },
         "domain": {
          "x": [
           0,
           1
          ],
          "y": [
           0,
           1
          ]
         },
         "style": "carto-positron",
         "zoom": 10
        },
        "margin": {
         "t": 60
        },
        "template": {
         "data": {
          "bar": [
           {
            "error_x": {
             "color": "#2a3f5f"
            },
            "error_y": {
             "color": "#2a3f5f"
            },
            "marker": {
             "line": {
              "color": "#E5ECF6",
              "width": 0.5
             },
             "pattern": {
              "fillmode": "overlay",
              "size": 10,
              "solidity": 0.2
             }
            },
            "type": "bar"
           }
          ],
          "barpolar": [
           {
            "marker": {
             "line": {
              "color": "#E5ECF6",
              "width": 0.5
             },
             "pattern": {
              "fillmode": "overlay",
              "size": 10,
              "solidity": 0.2
             }
            },
            "type": "barpolar"
           }
          ],
          "carpet": [
           {
            "aaxis": {
             "endlinecolor": "#2a3f5f",
             "gridcolor": "white",
             "linecolor": "white",
             "minorgridcolor": "white",
             "startlinecolor": "#2a3f5f"
            },
            "baxis": {
             "endlinecolor": "#2a3f5f",
             "gridcolor": "white",
             "linecolor": "white",
             "minorgridcolor": "white",
             "startlinecolor": "#2a3f5f"
            },
            "type": "carpet"
           }
          ],
          "choropleth": [
           {
            "colorbar": {
             "outlinewidth": 0,
             "ticks": ""
            },
            "type": "choropleth"
           }
          ],
          "contour": [
           {
            "colorbar": {
             "outlinewidth": 0,
             "ticks": ""
            },
            "colorscale": [
             [
              0,
              "#0d0887"
             ],
             [
              0.1111111111111111,
              "#46039f"
             ],
             [
              0.2222222222222222,
              "#7201a8"
             ],
             [
              0.3333333333333333,
              "#9c179e"
             ],
             [
              0.4444444444444444,
              "#bd3786"
             ],
             [
              0.5555555555555556,
              "#d8576b"
             ],
             [
              0.6666666666666666,
              "#ed7953"
             ],
             [
              0.7777777777777778,
              "#fb9f3a"
             ],
             [
              0.8888888888888888,
              "#fdca26"
             ],
             [
              1,
              "#f0f921"
             ]
            ],
            "type": "contour"
           }
          ],
          "contourcarpet": [
           {
            "colorbar": {
             "outlinewidth": 0,
             "ticks": ""
            },
            "type": "contourcarpet"
           }
          ],
          "heatmap": [
           {
            "colorbar": {
             "outlinewidth": 0,
             "ticks": ""
            },
            "colorscale": [
             [
              0,
              "#0d0887"
             ],
             [
              0.1111111111111111,
              "#46039f"
             ],
             [
              0.2222222222222222,
              "#7201a8"
             ],
             [
              0.3333333333333333,
              "#9c179e"
             ],
             [
              0.4444444444444444,
              "#bd3786"
             ],
             [
              0.5555555555555556,
              "#d8576b"
             ],
             [
              0.6666666666666666,
              "#ed7953"
             ],
             [
              0.7777777777777778,
              "#fb9f3a"
             ],
             [
              0.8888888888888888,
              "#fdca26"
             ],
             [
              1,
              "#f0f921"
             ]
            ],
            "type": "heatmap"
           }
          ],
          "heatmapgl": [
           {
            "colorbar": {
             "outlinewidth": 0,
             "ticks": ""
            },
            "colorscale": [
             [
              0,
              "#0d0887"
             ],
             [
              0.1111111111111111,
              "#46039f"
             ],
             [
              0.2222222222222222,
              "#7201a8"
             ],
             [
              0.3333333333333333,
              "#9c179e"
             ],
             [
              0.4444444444444444,
              "#bd3786"
             ],
             [
              0.5555555555555556,
              "#d8576b"
             ],
             [
              0.6666666666666666,
              "#ed7953"
             ],
             [
              0.7777777777777778,
              "#fb9f3a"
             ],
             [
              0.8888888888888888,
              "#fdca26"
             ],
             [
              1,
              "#f0f921"
             ]
            ],
            "type": "heatmapgl"
           }
          ],
          "histogram": [
           {
            "marker": {
             "pattern": {
              "fillmode": "overlay",
              "size": 10,
              "solidity": 0.2
             }
            },
            "type": "histogram"
           }
          ],
          "histogram2d": [
           {
            "colorbar": {
             "outlinewidth": 0,
             "ticks": ""
            },
            "colorscale": [
             [
              0,
              "#0d0887"
             ],
             [
              0.1111111111111111,
              "#46039f"
             ],
             [
              0.2222222222222222,
              "#7201a8"
             ],
             [
              0.3333333333333333,
              "#9c179e"
             ],
             [
              0.4444444444444444,
              "#bd3786"
             ],
             [
              0.5555555555555556,
              "#d8576b"
             ],
             [
              0.6666666666666666,
              "#ed7953"
             ],
             [
              0.7777777777777778,
              "#fb9f3a"
             ],
             [
              0.8888888888888888,
              "#fdca26"
             ],
             [
              1,
              "#f0f921"
             ]
            ],
            "type": "histogram2d"
           }
          ],
          "histogram2dcontour": [
           {
            "colorbar": {
             "outlinewidth": 0,
             "ticks": ""
            },
            "colorscale": [
             [
              0,
              "#0d0887"
             ],
             [
              0.1111111111111111,
              "#46039f"
             ],
             [
              0.2222222222222222,
              "#7201a8"
             ],
             [
              0.3333333333333333,
              "#9c179e"
             ],
             [
              0.4444444444444444,
              "#bd3786"
             ],
             [
              0.5555555555555556,
              "#d8576b"
             ],
             [
              0.6666666666666666,
              "#ed7953"
             ],
             [
              0.7777777777777778,
              "#fb9f3a"
             ],
             [
              0.8888888888888888,
              "#fdca26"
             ],
             [
              1,
              "#f0f921"
             ]
            ],
            "type": "histogram2dcontour"
           }
          ],
          "mesh3d": [
           {
            "colorbar": {
             "outlinewidth": 0,
             "ticks": ""
            },
            "type": "mesh3d"
           }
          ],
          "parcoords": [
           {
            "line": {
             "colorbar": {
              "outlinewidth": 0,
              "ticks": ""
             }
            },
            "type": "parcoords"
           }
          ],
          "pie": [
           {
            "automargin": true,
            "type": "pie"
           }
          ],
          "scatter": [
           {
            "fillpattern": {
             "fillmode": "overlay",
             "size": 10,
             "solidity": 0.2
            },
            "type": "scatter"
           }
          ],
          "scatter3d": [
           {
            "line": {
             "colorbar": {
              "outlinewidth": 0,
              "ticks": ""
             }
            },
            "marker": {
             "colorbar": {
              "outlinewidth": 0,
              "ticks": ""
             }
            },
            "type": "scatter3d"
           }
          ],
          "scattercarpet": [
           {
            "marker": {
             "colorbar": {
              "outlinewidth": 0,
              "ticks": ""
             }
            },
            "type": "scattercarpet"
           }
          ],
          "scattergeo": [
           {
            "marker": {
             "colorbar": {
              "outlinewidth": 0,
              "ticks": ""
             }
            },
            "type": "scattergeo"
           }
          ],
          "scattergl": [
           {
            "marker": {
             "colorbar": {
              "outlinewidth": 0,
              "ticks": ""
             }
            },
            "type": "scattergl"
           }
          ],
          "scattermapbox": [
           {
            "marker": {
             "colorbar": {
              "outlinewidth": 0,
              "ticks": ""
             }
            },
            "type": "scattermapbox"
           }
          ],
          "scatterpolar": [
           {
            "marker": {
             "colorbar": {
              "outlinewidth": 0,
              "ticks": ""
             }
            },
            "type": "scatterpolar"
           }
          ],
          "scatterpolargl": [
           {
            "marker": {
             "colorbar": {
              "outlinewidth": 0,
              "ticks": ""
             }
            },
            "type": "scatterpolargl"
           }
          ],
          "scatterternary": [
           {
            "marker": {
             "colorbar": {
              "outlinewidth": 0,
              "ticks": ""
             }
            },
            "type": "scatterternary"
           }
          ],
          "surface": [
           {
            "colorbar": {
             "outlinewidth": 0,
             "ticks": ""
            },
            "colorscale": [
             [
              0,
              "#0d0887"
             ],
             [
              0.1111111111111111,
              "#46039f"
             ],
             [
              0.2222222222222222,
              "#7201a8"
             ],
             [
              0.3333333333333333,
              "#9c179e"
             ],
             [
              0.4444444444444444,
              "#bd3786"
             ],
             [
              0.5555555555555556,
              "#d8576b"
             ],
             [
              0.6666666666666666,
              "#ed7953"
             ],
             [
              0.7777777777777778,
              "#fb9f3a"
             ],
             [
              0.8888888888888888,
              "#fdca26"
             ],
             [
              1,
              "#f0f921"
             ]
            ],
            "type": "surface"
           }
          ],
          "table": [
           {
            "cells": {
             "fill": {
              "color": "#EBF0F8"
             },
             "line": {
              "color": "white"
             }
            },
            "header": {
             "fill": {
              "color": "#C8D4E3"
             },
             "line": {
              "color": "white"
             }
            },
            "type": "table"
           }
          ]
         },
         "layout": {
          "annotationdefaults": {
           "arrowcolor": "#2a3f5f",
           "arrowhead": 0,
           "arrowwidth": 1
          },
          "autotypenumbers": "strict",
          "coloraxis": {
           "colorbar": {
            "outlinewidth": 0,
            "ticks": ""
           }
          },
          "colorscale": {
           "diverging": [
            [
             0,
             "#8e0152"
            ],
            [
             0.1,
             "#c51b7d"
            ],
            [
             0.2,
             "#de77ae"
            ],
            [
             0.3,
             "#f1b6da"
            ],
            [
             0.4,
             "#fde0ef"
            ],
            [
             0.5,
             "#f7f7f7"
            ],
            [
             0.6,
             "#e6f5d0"
            ],
            [
             0.7,
             "#b8e186"
            ],
            [
             0.8,
             "#7fbc41"
            ],
            [
             0.9,
             "#4d9221"
            ],
            [
             1,
             "#276419"
            ]
           ],
           "sequential": [
            [
             0,
             "#0d0887"
            ],
            [
             0.1111111111111111,
             "#46039f"
            ],
            [
             0.2222222222222222,
             "#7201a8"
            ],
            [
             0.3333333333333333,
             "#9c179e"
            ],
            [
             0.4444444444444444,
             "#bd3786"
            ],
            [
             0.5555555555555556,
             "#d8576b"
            ],
            [
             0.6666666666666666,
             "#ed7953"
            ],
            [
             0.7777777777777778,
             "#fb9f3a"
            ],
            [
             0.8888888888888888,
             "#fdca26"
            ],
            [
             1,
             "#f0f921"
            ]
           ],
           "sequentialminus": [
            [
             0,
             "#0d0887"
            ],
            [
             0.1111111111111111,
             "#46039f"
            ],
            [
             0.2222222222222222,
             "#7201a8"
            ],
            [
             0.3333333333333333,
             "#9c179e"
            ],
            [
             0.4444444444444444,
             "#bd3786"
            ],
            [
             0.5555555555555556,
             "#d8576b"
            ],
            [
             0.6666666666666666,
             "#ed7953"
            ],
            [
             0.7777777777777778,
             "#fb9f3a"
            ],
            [
             0.8888888888888888,
             "#fdca26"
            ],
            [
             1,
             "#f0f921"
            ]
           ]
          },
          "colorway": [
           "#636efa",
           "#EF553B",
           "#00cc96",
           "#ab63fa",
           "#FFA15A",
           "#19d3f3",
           "#FF6692",
           "#B6E880",
           "#FF97FF",
           "#FECB52"
          ],
          "font": {
           "color": "#2a3f5f"
          },
          "geo": {
           "bgcolor": "white",
           "lakecolor": "white",
           "landcolor": "#E5ECF6",
           "showlakes": true,
           "showland": true,
           "subunitcolor": "white"
          },
          "hoverlabel": {
           "align": "left"
          },
          "hovermode": "closest",
          "mapbox": {
           "style": "light"
          },
          "paper_bgcolor": "white",
          "plot_bgcolor": "#E5ECF6",
          "polar": {
           "angularaxis": {
            "gridcolor": "white",
            "linecolor": "white",
            "ticks": ""
           },
           "bgcolor": "#E5ECF6",
           "radialaxis": {
            "gridcolor": "white",
            "linecolor": "white",
            "ticks": ""
           }
          },
          "scene": {
           "xaxis": {
            "backgroundcolor": "#E5ECF6",
            "gridcolor": "white",
            "gridwidth": 2,
            "linecolor": "white",
            "showbackground": true,
            "ticks": "",
            "zerolinecolor": "white"
           },
           "yaxis": {
            "backgroundcolor": "#E5ECF6",
            "gridcolor": "white",
            "gridwidth": 2,
            "linecolor": "white",
            "showbackground": true,
            "ticks": "",
            "zerolinecolor": "white"
           },
           "zaxis": {
            "backgroundcolor": "#E5ECF6",
            "gridcolor": "white",
            "gridwidth": 2,
            "linecolor": "white",
            "showbackground": true,
            "ticks": "",
            "zerolinecolor": "white"
           }
          },
          "shapedefaults": {
           "line": {
            "color": "#2a3f5f"
           }
          },
          "ternary": {
           "aaxis": {
            "gridcolor": "white",
            "linecolor": "white",
            "ticks": ""
           },
           "baxis": {
            "gridcolor": "white",
            "linecolor": "white",
            "ticks": ""
           },
           "bgcolor": "#E5ECF6",
           "caxis": {
            "gridcolor": "white",
            "linecolor": "white",
            "ticks": ""
           }
          },
          "title": {
           "x": 0.05
          },
          "xaxis": {
           "automargin": true,
           "gridcolor": "white",
           "linecolor": "white",
           "ticks": "",
           "title": {
            "standoff": 15
           },
           "zerolinecolor": "white",
           "zerolinewidth": 2
          },
          "yaxis": {
           "automargin": true,
           "gridcolor": "white",
           "linecolor": "white",
           "ticks": "",
           "title": {
            "standoff": 15
           },
           "zerolinecolor": "white",
           "zerolinewidth": 2
          }
         }
        },
        "width": 1500
       }
      }
     },
     "metadata": {},
     "output_type": "display_data"
    }
   ],
   "source": [
    "import plotly.express as px\n",
    "\n",
    "outcome=residuals_coord_df['outcome']\n",
    "\n",
    "fig = px.scatter_mapbox(residuals_coord_df, lat=\"LATITUDE\", lon=\"LONGITUDE\", color='outcome', color_discrete_map={'true_negative': 'green', 'false_positive': 'blue', 'false_negative': 'red', 'true_positive':'orange'}, size='Mean_Income_2021',zoom=10, mapbox_style=\"carto-positron\")\n",
    "\n",
    "fig.update_layout(width=1500,height=1000)\n",
    "\n",
    "fig.show()"
   ]
  },
  {
   "attachments": {},
   "cell_type": "markdown",
   "metadata": {},
   "source": [
    "![Alt text](images/Plotly_2.png)"
   ]
  },
  {
   "attachments": {},
   "cell_type": "markdown",
   "metadata": {},
   "source": [
    "* The map displays model A predictions, with each shown in a different color. Note that the size of each marker is determined by the median income.\n",
    "* There appears to be no strong geographic bias in the model's predictions, even though predictions of gentrification appear to be more clustered around the central area than predictions of no gentrification.\n",
    "* This is surprising, given that model coefficients demonstrated that income had a negative coefficient. Hence, another feature must be inducing the geographic bias."
   ]
  },
  {
   "attachments": {},
   "cell_type": "markdown",
   "metadata": {},
   "source": [
    "---\n",
    "* Run this model with PCA to determine if 1 PC would be form a good model\n"
   ]
  },
  {
   "cell_type": "code",
   "execution_count": 32,
   "metadata": {},
   "outputs": [
    {
     "name": "stdout",
     "output_type": "stream",
     "text": [
      "Baseline model train accuracy is 56.41%\n",
      "Baseline model test accuracy is 53.52%\n"
     ]
    }
   ],
   "source": [
    "model_pipeline_pca = Pipeline([\n",
    "    ('scaler', MinMaxScaler()),\n",
    "    ('dim_reducer', PCA(n_components=1)),\n",
    "    ('regressor', LogisticRegression())   # linear regression model\n",
    "])\n",
    "\n",
    "model_pipeline_pca.fit(X_rem,y_rem)\n",
    "all_features_model=model_pipeline_pca\n",
    "\n",
    "train_accuracy = all_features_model.score(X_rem, y_rem)\n",
    "test_accuracy = all_features_model.score(X_test, y_test)\n",
    "\n",
    "print(f'Baseline model train accuracy is {train_accuracy*100:.2f}%')\n",
    "print(f'Baseline model test accuracy is {test_accuracy*100:.2f}%')"
   ]
  },
  {
   "attachments": {},
   "cell_type": "markdown",
   "metadata": {},
   "source": [
    "* Using 1 PC results in very low acucracy scores"
   ]
  },
  {
   "cell_type": "code",
   "execution_count": 33,
   "metadata": {},
   "outputs": [
    {
     "data": {
      "text/html": [
       "<div>\n",
       "<style scoped>\n",
       "    .dataframe tbody tr th:only-of-type {\n",
       "        vertical-align: middle;\n",
       "    }\n",
       "\n",
       "    .dataframe tbody tr th {\n",
       "        vertical-align: top;\n",
       "    }\n",
       "\n",
       "    .dataframe thead th {\n",
       "        text-align: right;\n",
       "    }\n",
       "</style>\n",
       "<table border=\"1\" class=\"dataframe\">\n",
       "  <thead>\n",
       "    <tr style=\"text-align: right;\">\n",
       "      <th></th>\n",
       "      <th>Predicted No-Gentrification</th>\n",
       "      <th>Predicted Gentrification</th>\n",
       "    </tr>\n",
       "  </thead>\n",
       "  <tbody>\n",
       "    <tr>\n",
       "      <th>True No-Gentrification</th>\n",
       "      <td>34</td>\n",
       "      <td>33</td>\n",
       "    </tr>\n",
       "    <tr>\n",
       "      <th>True Gentrification</th>\n",
       "      <td>33</td>\n",
       "      <td>42</td>\n",
       "    </tr>\n",
       "  </tbody>\n",
       "</table>\n",
       "</div>"
      ],
      "text/plain": [
       "                        Predicted No-Gentrification  Predicted Gentrification\n",
       "True No-Gentrification                           34                        33\n",
       "True Gentrification                              33                        42"
      ]
     },
     "metadata": {},
     "output_type": "display_data"
    },
    {
     "name": "stdout",
     "output_type": "stream",
     "text": [
      "Precision = 42/75 = 56.0%\n",
      "Recall = 42/75 = 56.0%\n"
     ]
    },
    {
     "data": {
      "image/png": "[encoded data removed]",
      "text/plain": [
       "<Figure size 640x480 with 2 Axes>"
      ]
     },
     "metadata": {},
     "output_type": "display_data"
    }
   ],
   "source": [
    "conf_matrix(model_pipeline_pca,X_test)"
   ]
  },
  {
   "attachments": {},
   "cell_type": "markdown",
   "metadata": {},
   "source": [
    "* Recall appears to be higher than for models B and C, nevertheless, the accuracy score of 53.5% suggests that 1 PC is not sufficient for a significant prediction"
   ]
  },
  {
   "attachments": {},
   "cell_type": "markdown",
   "metadata": {},
   "source": [
    "***\n",
    "### Gridsearch\n",
    "Conduct gridsearch analysis to establish the model accuracy could be improved"
   ]
  },
  {
   "cell_type": "code",
   "execution_count": 34,
   "metadata": {},
   "outputs": [],
   "source": [
    "c_values = [.00001, .0001, .001, .1, 1, 10, 100, 1000]\n",
    "\n",
    "logreg_param_grid = [\n",
    "    \n",
    "# l1\n",
    "    {'scaler': [StandardScaler(),MinMaxScaler()],\n",
    "    'dim_reducer': [PCA()],\n",
    "    'dim_reducer__n_components': [1,2,4,10,0.8,0.9,0.95,None],\n",
    "    'model': [LogisticRegression(penalty='l1',solver='saga',random_state=22,n_jobs=-1,max_iter=10000)],\n",
    "    'model__C': c_values,\n",
    "    'model__solver': ['saga']},\n",
    "    \n",
    "# l2\n",
    "    {'scaler': [StandardScaler(),MinMaxScaler()],\n",
    "    'dim_reducer': [PCA()],\n",
    "    'dim_reducer__n_components': [1,2,4,10,0.8,0.9,0.95,None],\n",
    "    'model': [LogisticRegression(penalty='l2',random_state=22,n_jobs=-1,max_iter=10000)],\n",
    "    'model__C': c_values,\n",
    "    'model__solver': ['lbfgs']}]\n",
    "    \n",
    "\n",
    "model_pipeline_pca = Pipeline([\n",
    "    ('scaler', MinMaxScaler()),\n",
    "    ('dim_reducer', PCA()),\n",
    "    ('model', LogisticRegression())   # linear regression model\n",
    "])\n",
    "\n",
    "\n",
    "# Instantiate the log reg grid search\n",
    "logreg_gs = GridSearchCV(\n",
    "    model_pipeline_pca,\n",
    "    param_grid=logreg_param_grid,\n",
    "    cv=5,\n",
    "    n_jobs=-1,verbose=1,return_train_score=True\n",
    "    )"
   ]
  },
  {
   "attachments": {},
   "cell_type": "markdown",
   "metadata": {},
   "source": [
    "`let's first test the model with all features` - **model A**"
   ]
  },
  {
   "cell_type": "code",
   "execution_count": 35,
   "metadata": {},
   "outputs": [
    {
     "name": "stdout",
     "output_type": "stream",
     "text": [
      "Fitting 5 folds for each of 256 candidates, totalling 1280 fits\n"
     ]
    },
    {
     "data": {
      "text/plain": [
       "{'dim_reducer': PCA(n_components=2),\n",
       " 'dim_reducer__n_components': 2,\n",
       " 'model': LogisticRegression(C=10, max_iter=10000, n_jobs=-1, penalty='l1',\n",
       "                    random_state=22, solver='saga'),\n",
       " 'model__C': 10,\n",
       " 'model__solver': 'saga',\n",
       " 'scaler': MinMaxScaler()}"
      ]
     },
     "execution_count": 35,
     "metadata": {},
     "output_type": "execute_result"
    }
   ],
   "source": [
    "tuned_logreg_gs = logreg_gs.fit(X_rem, y_rem)\n",
    "\n",
    "tuned_logreg_gs.best_params_"
   ]
  },
  {
   "cell_type": "code",
   "execution_count": 36,
   "metadata": {},
   "outputs": [
    {
     "data": {
      "text/plain": [
       "0.5745225896599907"
      ]
     },
     "execution_count": 36,
     "metadata": {},
     "output_type": "execute_result"
    }
   ],
   "source": [
    "tuned_logreg_gs.best_score_"
   ]
  },
  {
   "attachments": {},
   "cell_type": "markdown",
   "metadata": {},
   "source": [
    "* cross-validation score is significantly lower than the previous test score\n",
    "* this is likely because running a cross-fold validation made the model more generalized, which is a crucial feature for a real-life model\n",
    "* random fluctuations may have influenced the previous test score in the test set \n",
    "* it's also possible that some data regions within the cross-validation gave particularly low scores, indicating that the model is not performing well on those particular data points or regions"
   ]
  },
  {
   "attachments": {},
   "cell_type": "markdown",
   "metadata": {},
   "source": [
    "***"
   ]
  },
  {
   "attachments": {},
   "cell_type": "markdown",
   "metadata": {},
   "source": [
    "* Let's also run gridsearch on the columns filtered by ttest\n",
    "* recall that test scores differed drastically when using a single test-train split\n",
    "  * with the model fitted on all features resulting in higher scores"
   ]
  },
  {
   "cell_type": "code",
   "execution_count": 37,
   "metadata": {},
   "outputs": [
    {
     "name": "stdout",
     "output_type": "stream",
     "text": [
      "Fitting 5 folds for each of 256 candidates, totalling 1280 fits\n"
     ]
    },
    {
     "data": {
      "text/plain": [
       "{'dim_reducer': PCA(n_components=2),\n",
       " 'dim_reducer__n_components': 2,\n",
       " 'model': LogisticRegression(C=0.0001, max_iter=10000, n_jobs=-1, random_state=22),\n",
       " 'model__C': 0.0001,\n",
       " 'model__solver': 'lbfgs',\n",
       " 'scaler': StandardScaler()}"
      ]
     },
     "execution_count": 37,
     "metadata": {},
     "output_type": "execute_result"
    }
   ],
   "source": [
    "tuned_logreg_gs = logreg_gs.fit(X_rem_ttest, y_rem)\n",
    "\n",
    "tuned_logreg_gs.best_params_"
   ]
  },
  {
   "cell_type": "code",
   "execution_count": 38,
   "metadata": {},
   "outputs": [
    {
     "data": {
      "text/plain": [
       "0.572783729234591"
      ]
     },
     "execution_count": 38,
     "metadata": {},
     "output_type": "execute_result"
    }
   ],
   "source": [
    "tuned_logreg_gs.best_score_"
   ]
  },
  {
   "attachments": {},
   "cell_type": "markdown",
   "metadata": {},
   "source": [
    "* While testing model A (all features) and B on a single train-test split results in a big accuracy score difference\n",
    "* running cross-validation on these two sets of features resulted in the same accuracy scores\n",
    "  * indicating that the statistical test conducted in notebook 3 was meaningful\n"
   ]
  },
  {
   "attachments": {},
   "cell_type": "markdown",
   "metadata": {},
   "source": [
    "* Fitting logistic models above allowed extracting some valuable indicators, such as Masonry Contacts being more frequent in districts that are gentrifying, but ultimately accuracy scores remained low.\n",
    "* More data would need to be added to improve the scores"
   ]
  },
  {
   "attachments": {},
   "cell_type": "markdown",
   "metadata": {},
   "source": [
    "***\n",
    "<center><h3> NLP Model <center><h3>"
   ]
  },
  {
   "attachments": {},
   "cell_type": "markdown",
   "metadata": {},
   "source": [
    "* Let's run NLP models to see if more information could be extracted"
   ]
  },
  {
   "cell_type": "code",
   "execution_count": 116,
   "metadata": {},
   "outputs": [
    {
     "name": "stderr",
     "output_type": "stream",
     "text": [
      "[nltk_data] Downloading package stopwords to\n",
      "[nltk_data]     C:\\Users\\44742\\AppData\\Roaming\\nltk_data...\n",
      "[nltk_data]   Package stopwords is already up-to-date!\n"
     ]
    }
   ],
   "source": [
    "from sklearn.feature_extraction.text import TfidfVectorizer\n",
    "import string\n",
    "\n",
    "# import the nltk stopwords\n",
    "import nltk\n",
    "nltk.download('stopwords')\n",
    "from nltk.corpus import stopwords\n",
    "from nltk.tag import pos_tag \n",
    "from nltk.stem import PorterStemmer\n",
    "\n",
    "STOP_WORDS = stopwords.words('english')\n",
    "STOP_WORDS.append('per')\n",
    "\n",
    "def my_tokenizer(sentence):\n",
    "    # remove punctuation and set to lower case\n",
    "    for punctuation_mark in string.punctuation:\n",
    "        sentence = sentence.replace(punctuation_mark,'').lower()\n",
    "\n",
    "    # split sentence into words\n",
    "    listofwords = sentence.split(' ')\n",
    "    listof_words = []\n",
    "    \n",
    "    # remove stopwords and any tokens that are just empty strings\n",
    "    for word in listofwords:\n",
    "        if (not word in STOP_WORDS) & (len(word)>2) & (not bool(re.search('\\d', word))):\n",
    "            #stemmer = PorterStemmer()\n",
    "            #stemmed_word = stemmer.stem(word)\n",
    "            #listof_words.append(stemmed_word)\n",
    "            listof_words.append(word)\n",
    "        else:\n",
    "            continue\n",
    "\n",
    "    return listof_words"
   ]
  },
  {
   "cell_type": "code",
   "execution_count": 117,
   "metadata": {},
   "outputs": [],
   "source": [
    "from sklearn.base import BaseEstimator, TransformerMixin\n",
    "from sklearn.feature_extraction.text import TfidfVectorizer\n",
    "\n",
    "class Description_Vector(BaseEstimator, TransformerMixin):\n",
    "    def __init__(self):\n",
    "        self.vectorizer = TfidfVectorizer(tokenizer=my_tokenizer,min_df=0.05, max_df=0.8)\n",
    "        \n",
    "    def fit(self, df, y=None):\n",
    "        description=df['WORK_DESCRIPTION']\n",
    "        self.vectorizer.fit(description)\n",
    "        return self\n",
    "        \n",
    "    def transform(self, df, y=None):\n",
    "        '''\n",
    "        This methos vectorizers one columnn but returns the whole dataframe\n",
    "        '''\n",
    "        description=df['WORK_DESCRIPTION']\n",
    "        description_transformed = self.vectorizer.transform(description)\n",
    "        feature_names=self.vectorizer.get_feature_names_out()\n",
    "        df_vect=pd.DataFrame(description_transformed.toarray(), columns=feature_names)\n",
    "        df_return=pd.concat([df.reset_index(drop=True),df_vect.reset_index(drop=True)],axis=1).drop(columns='WORK_DESCRIPTION')\n",
    "        return df_return\n",
    "    \n",
    "    "
   ]
  },
  {
   "cell_type": "code",
   "execution_count": 120,
   "metadata": {},
   "outputs": [],
   "source": [
    "year=2015\n",
    "train_period=5\n",
    "prediction_period=5\n",
    "metric='power'\n",
    "perc_power=2\n",
    "\n",
    "X_y_prep_nlp = Pipeline(\n",
    "    [\n",
    "    #grouping based on the year we are making the prediction from and the training length\n",
    "    ('group',FunctionTransformer(df_window_multi_type, kw_args={'year': year, 't': train_period})),\n",
    "    #convert income change into y_target based on the year we are making the prediction from and the prediction length and drop the remaining of Income columns\n",
    "    ('target',GentrificationTarget(year,prediction_period,metric,perc_power)),\n",
    "    #split into X & y\n",
    "    ('vector',Description_Vector()),\n",
    "    ('X_y_split',FunctionTransformer(select_columns))\n",
    "    ])"
   ]
  },
  {
   "cell_type": "code",
   "execution_count": 121,
   "metadata": {},
   "outputs": [],
   "source": [
    "#select only Work Description, Year, Census_Tract columns and columns containing Mean\n",
    "df_rem_nlp=pd.concat([df_rem['WORK_DESCRIPTION'],df_rem['YEAR'],df_rem['Census_Tract'],get_columns_with_regex(df_rem,'Mean')],axis=1)\n",
    "df_test_nlp=pd.concat([df_test['WORK_DESCRIPTION'],df_test['YEAR'],df_test['Census_Tract'],get_columns_with_regex(df_test,'Mean')],axis=1)\n",
    "\n",
    "X_y_prep_nlp.fit(df_rem_nlp)\n",
    "X_rem_nlp,y_rem=X_y_prep_nlp.transform(df_rem_nlp)\n",
    "X_test_nlp,y_test=X_y_prep_nlp.transform(df_test_nlp)"
   ]
  },
  {
   "cell_type": "code",
   "execution_count": 122,
   "metadata": {},
   "outputs": [
    {
     "name": "stdout",
     "output_type": "stream",
     "text": [
      "Baseline model train accuracy is 100.00%\n",
      "Baseline model test accuracy is 58.45%\n"
     ]
    }
   ],
   "source": [
    "model_pipeline_nlp = Pipeline([\n",
    "    ('scaler', MinMaxScaler()),\n",
    "    ('regressor', LogisticRegression())   # linear regression model\n",
    "])\n",
    "\n",
    "model_pipeline_nlp.fit(X_rem_nlp,y_rem)\n",
    "nlp_model=model_pipeline_nlp\n",
    "\n",
    "train_accuracy = nlp_model.score(X_rem_nlp, y_rem)\n",
    "test_accuracy = nlp_model.score(X_test_nlp, y_test)\n",
    "\n",
    "print(f'Baseline model train accuracy is {train_accuracy*100:.2f}%')\n",
    "print(f'Baseline model test accuracy is {test_accuracy*100:.2f}%')"
   ]
  },
  {
   "attachments": {},
   "cell_type": "markdown",
   "metadata": {},
   "source": [
    "* The first model iteration strongly overfits since train accuracy is significatnly higher than the test accuracy\n",
    "* Let's reduce c-hyperparameter to reduce overfitting by penalizing large weights in the model."
   ]
  },
  {
   "cell_type": "code",
   "execution_count": 44,
   "metadata": {},
   "outputs": [
    {
     "name": "stdout",
     "output_type": "stream",
     "text": [
      "Baseline model train accuracy is 76.80%\n",
      "Baseline model test accuracy is 61.27%\n"
     ]
    }
   ],
   "source": [
    "model_pipeline_nlp = Pipeline([\n",
    "    ('scaler', MinMaxScaler()),\n",
    "    ('regressor', LogisticRegression(C=0.005))   # reduce c-value to reduce overfitting\n",
    "])\n",
    "\n",
    "model_pipeline_nlp.fit(X_rem_nlp,y_rem)\n",
    "nlp_model=model_pipeline_nlp\n",
    "\n",
    "train_accuracy = nlp_model.score(X_rem_nlp, y_rem)\n",
    "test_accuracy = nlp_model.score(X_test_nlp, y_test)\n",
    "\n",
    "print(f'Baseline model train accuracy is {train_accuracy*100:.2f}%')\n",
    "print(f'Baseline model test accuracy is {test_accuracy*100:.2f}%')"
   ]
  },
  {
   "cell_type": "code",
   "execution_count": 45,
   "metadata": {},
   "outputs": [],
   "source": [
    "result_coeff=pd.DataFrame({'feature':list(X_rem_nlp.columns),'coefficient':nlp_model.steps[-1][1].coef_[0]})"
   ]
  },
  {
   "cell_type": "code",
   "execution_count": 46,
   "metadata": {},
   "outputs": [],
   "source": [
    "#Sort by the largest coefficients\n",
    "top_20=result_coeff.sort_values('coefficient',ascending=False)[:21].reset_index(drop=True)\n",
    "bottom_20=result_coeff.sort_values('coefficient')[:21].reset_index(drop=True)"
   ]
  },
  {
   "cell_type": "code",
   "execution_count": 47,
   "metadata": {},
   "outputs": [
    {
     "data": {
      "image/png": "[encoded data removed]",
      "text/plain": [
       "<Figure size 1500x1500 with 2 Axes>"
      ]
     },
     "metadata": {},
     "output_type": "display_data"
    }
   ],
   "source": [
    "#Plot\n",
    "fig, axs = plt.subplots(2, 1, figsize=(15, 15))\n",
    "\n",
    "top_20.set_index('feature').plot(kind=\"bar\", rot=45, ax=axs[0], color=\"red\")\n",
    "axs[0].set_title(\"Words associated with likely gentrification\")\n",
    "axs[0].set_xlabel(\"Words from planning application descriptions\")\n",
    "axs[0].set_ylabel(\"Logistic regression coefficients\")\n",
    "\n",
    "bottom_20.set_index('feature').plot(kind=\"bar\", rot=45, ax=axs[1], color=\"green\")\n",
    "axs[1].set_title(\"Words associated with unlikely gentrification\")\n",
    "axs[1].set_xlabel(\"Words from planning application descriptions\")\n",
    "axs[1].set_ylabel(\"Logistic regression coefficients\")\n",
    "\n",
    "fig.tight_layout(pad=5.0)"
   ]
  },
  {
   "attachments": {},
   "cell_type": "markdown",
   "metadata": {},
   "source": [
    "* Some insightful words to indicate an area gentrifying are 'penthouse' - an indicator of new high-end construction,'car'- an indicator of increased economic activity\n",
    "* While 'partitions' and 'rewire' are related may be related to renovations and maintenance and,hence, to lower chances of gentrification"
   ]
  },
  {
   "attachments": {},
   "cell_type": "markdown",
   "metadata": {},
   "source": [
    "* The model can be also used to extract coefficients of specific words"
   ]
  },
  {
   "cell_type": "code",
   "execution_count": 123,
   "metadata": {},
   "outputs": [
    {
     "data": {
      "text/html": [
       "<div>\n",
       "<style scoped>\n",
       "    .dataframe tbody tr th:only-of-type {\n",
       "        vertical-align: middle;\n",
       "    }\n",
       "\n",
       "    .dataframe tbody tr th {\n",
       "        vertical-align: top;\n",
       "    }\n",
       "\n",
       "    .dataframe thead th {\n",
       "        text-align: right;\n",
       "    }\n",
       "</style>\n",
       "<table border=\"1\" class=\"dataframe\">\n",
       "  <thead>\n",
       "    <tr style=\"text-align: right;\">\n",
       "      <th></th>\n",
       "      <th>feature</th>\n",
       "      <th>coefficient</th>\n",
       "    </tr>\n",
       "  </thead>\n",
       "  <tbody>\n",
       "    <tr>\n",
       "      <th>191</th>\n",
       "      <td>cafe</td>\n",
       "      <td>0.000071</td>\n",
       "    </tr>\n",
       "  </tbody>\n",
       "</table>\n",
       "</div>"
      ],
      "text/plain": [
       "    feature  coefficient\n",
       "191    cafe     0.000071"
      ]
     },
     "execution_count": 123,
     "metadata": {},
     "output_type": "execute_result"
    }
   ],
   "source": [
    "result_coeff[result_coeff['feature']=='cafe']"
   ]
  },
  {
   "attachments": {},
   "cell_type": "markdown",
   "metadata": {},
   "source": [
    "* For example the word, cafe appears to have a small positive coefficient"
   ]
  },
  {
   "cell_type": "code",
   "execution_count": 124,
   "metadata": {},
   "outputs": [
    {
     "data": {
      "text/html": [
       "<div>\n",
       "<style scoped>\n",
       "    .dataframe tbody tr th:only-of-type {\n",
       "        vertical-align: middle;\n",
       "    }\n",
       "\n",
       "    .dataframe tbody tr th {\n",
       "        vertical-align: top;\n",
       "    }\n",
       "\n",
       "    .dataframe thead th {\n",
       "        text-align: right;\n",
       "    }\n",
       "</style>\n",
       "<table border=\"1\" class=\"dataframe\">\n",
       "  <thead>\n",
       "    <tr style=\"text-align: right;\">\n",
       "      <th></th>\n",
       "      <th>feature</th>\n",
       "      <th>coefficient</th>\n",
       "    </tr>\n",
       "  </thead>\n",
       "  <tbody>\n",
       "    <tr>\n",
       "      <th>1104</th>\n",
       "      <td>office</td>\n",
       "      <td>0.017065</td>\n",
       "    </tr>\n",
       "  </tbody>\n",
       "</table>\n",
       "</div>"
      ],
      "text/plain": [
       "     feature  coefficient\n",
       "1104  office     0.017065"
      ]
     },
     "execution_count": 124,
     "metadata": {},
     "output_type": "execute_result"
    }
   ],
   "source": [
    "result_coeff[result_coeff['feature']=='office']"
   ]
  },
  {
   "attachments": {},
   "cell_type": "markdown",
   "metadata": {},
   "source": [
    "* A word office has a stronger positive coefficient, suggesting it is a better predictor of gentrification based on the current model"
   ]
  },
  {
   "attachments": {},
   "cell_type": "markdown",
   "metadata": {},
   "source": [
    "\n",
    "* Let's run a gridsearch to optimise parameters"
   ]
  },
  {
   "cell_type": "code",
   "execution_count": 50,
   "metadata": {},
   "outputs": [
    {
     "name": "stdout",
     "output_type": "stream",
     "text": [
      "Fitting 5 folds for each of 112 candidates, totalling 560 fits\n"
     ]
    },
    {
     "data": {
      "text/plain": [
       "0.5985915492957746"
      ]
     },
     "execution_count": 50,
     "metadata": {},
     "output_type": "execute_result"
    }
   ],
   "source": [
    "c_values = [.00001, .0001, .001, .1, 1, 10, 100, 1000]\n",
    "\n",
    "logreg_param_grid = [\n",
    "    \n",
    "# l1\n",
    "    {'scaler': [MinMaxScaler()],\n",
    "    'dim_reducer': [PCA()],\n",
    "    'dim_reducer__n_components': [0.2,0.4,0.6,0.8,0.9,0.95,None],\n",
    "    'model': [LogisticRegression(penalty='l1',solver='saga',random_state=22,n_jobs=-1,max_iter=10000)],\n",
    "    'model__C': c_values,\n",
    "    'model__solver': ['saga']},\n",
    "    \n",
    "# l2\n",
    "    {'scaler': [MinMaxScaler()],\n",
    "    'dim_reducer': [PCA()],\n",
    "    'dim_reducer__n_components': [0.2,0.4,0.6,0.8,0.9,0.95,None],\n",
    "    'model': [LogisticRegression(penalty='l2',random_state=22,n_jobs=-1,max_iter=10000)],\n",
    "    'model__C': c_values,\n",
    "    'model__solver': ['lbfgs']}]\n",
    "    \n",
    "\n",
    "model_pipeline_nlp_pca = Pipeline([\n",
    "    ('scaler', MinMaxScaler()),\n",
    "    ('dim_reducer', PCA()),\n",
    "    ('model', LogisticRegression())   # linear regression model\n",
    "])\n",
    "\n",
    "\n",
    "# Instantiate the log reg grid search\n",
    "logreg_gs = GridSearchCV(\n",
    "    model_pipeline_nlp_pca,\n",
    "    param_grid=logreg_param_grid,\n",
    "    cv=5,\n",
    "    n_jobs=-1,verbose=1,return_train_score=True\n",
    "    )\n",
    "\n",
    "tuned_nlp_gs = logreg_gs.fit(X_rem_nlp, y_rem)\n",
    "tuned_nlp_gs.score(X_test_nlp,y_test)"
   ]
  },
  {
   "attachments": {},
   "cell_type": "markdown",
   "metadata": {},
   "source": [
    "* Model accuracy, given that it is a 50/50 classification problem, remains low\n",
    "* Running grid searches does not appear to improve the test scores drastically\n",
    "* Apart from other possible reasons, this can also arise from the limited nature of the target variable\n",
    "  * To improve scores, better data for the target variable would need to be obtained\n",
    "  * Ultimately, relying exclusively on income data is not sufficient to evaluate gentrification\n",
    "* Nevertheless, it should also be noted that so far we have been running grid-searched on relatively small datasets\n",
    "  * consider increasing the size of the dataset by constructing stacked dataframes\n",
    "  * for exmaple, instead of predicting gentrification from 2015 to 2020 for each area,\n",
    "  * predict for each 5 year ranges in-between 2015 and 2020"
   ]
  },
  {
   "attachments": {},
   "cell_type": "markdown",
   "metadata": {},
   "source": [
    "---\n",
    "<center><h3>Model Interation: Stacked Model <center><h3>"
   ]
  },
  {
   "attachments": {},
   "cell_type": "markdown",
   "metadata": {},
   "source": [
    "This subsection will \n",
    "* Create Baseline Stacked Model\n",
    "* Looping through different combinations of train and prediciton windows to establish optimal timeframes\n",
    "* Gridsearch for stacked model"
   ]
  },
  {
   "attachments": {},
   "cell_type": "markdown",
   "metadata": {},
   "source": [
    "* Next steps: add a way to concat data given specific train and prediction periods"
   ]
  },
  {
   "cell_type": "code",
   "execution_count": 51,
   "metadata": {},
   "outputs": [],
   "source": [
    "#define a custom column transformer to stack the dataset as a part of pre-processing\n",
    "\n",
    "class GentrificationTarget_Stacked(BaseEstimator, TransformerMixin):\n",
    "    def __init__(self,training_period,prediction_period):\n",
    "        self.training_period=training_period\n",
    "        self.prediction_period=prediction_period\n",
    "        self.median_change=None\n",
    "\n",
    "        #the last year we can make the prediction from = 2021 (last year in the income dataset) - prediction windows\n",
    "        self.year_last_from=2021-self.prediction_period\n",
    "        #range of years we can predict from. +1 to be inclusive of the last year\n",
    "        self.year_from_range=range(2010,self.year_last_from+1)\n",
    "\n",
    "    def fit(self,df,y=None):\n",
    "\n",
    "        median_di={}\n",
    "\n",
    "        for year_from in self.year_from_range:\n",
    "            #only need Median and YEAR columns\n",
    "            mask=[col for col in list(df.columns) if bool(re.search('Mean',col)) or col in ['Census_Tract','YEAR']]\n",
    "            df_temp=df_window_multi_type(df[mask],year_from,self.training_period)\n",
    "\n",
    "            #name of the column containing income for the current year\n",
    "            current_income_col='Mean_Income_'+str(year_from)\n",
    "            #the year we are making the prediction for\n",
    "            prediction_year=year_from+self.prediction_period\n",
    "\n",
    "            #name of the column containing income for the year we are making the prediction for\n",
    "            future_income_col='Mean_Income_'+str(prediction_year)\n",
    "\n",
    "            current_income=df_temp[current_income_col]\n",
    "            future_income=df_temp[future_income_col]\n",
    "\n",
    "            combined_change=[comb_change_calc(start,finish) for (start,finish) in zip(current_income,future_income)]\n",
    "\n",
    "            #for each year create a key:value dictionary pair\n",
    "            median_di[year_from]=np.median(combined_change)\n",
    "\n",
    "        #fitting in our case is just finding the mean change\n",
    "        self.median_changes=median_di\n",
    "        #returning self with updated attributes that can be accessed in the transform method later\n",
    "        return self\n",
    "\n",
    "    def transform(self, df, y=None):\n",
    "        #this method transforms the existing dataframe to calculate if the change for each geography was more or less than the mean & dropping all the other columns\n",
    "\n",
    "        #instantiate an empty df for X features\n",
    "        df_result=pd.DataFrame() \n",
    "\n",
    "\n",
    "        #loop for all years less or equal to the last year we can predict from\n",
    "        for year_from in self.year_from_range:\n",
    "\n",
    "            #for each loop filter by year, average numeric columns & add concat strings for each year\n",
    "            df_temp=df_window_multi_type(df,year_from,self.training_period)\n",
    "\n",
    "            #for each loop determine the year we are predicting for\n",
    "            prediction_year=year_from+self.prediction_period\n",
    "\n",
    "            #get income for the year the prediction is made FROM\n",
    "            current_income_col='Mean_Income_'+str(year_from)\n",
    "            current_income=df_temp[current_income_col]\n",
    "\n",
    "            #get income for the year the prediction is made FOR\n",
    "            future_income=df_temp['Mean_Income_'+str(prediction_year)]\n",
    "\n",
    "            #calculate change\n",
    "            combined_change=[comb_change_calc(start,finish) for (start,finish) in zip(current_income,future_income)]\n",
    "            \n",
    "            median_temp=self.median_changes[year_from]\n",
    "            target_temp=[1 if i>median_temp else 0 for i in combined_change]\n",
    "\n",
    "            #drop all Income columns\n",
    "            y_col=[col for col in list(df_temp.columns) if bool(re.search('Mean',col))]\n",
    "            df_temp=df_temp.drop(columns=y_col)\n",
    "\n",
    "            #add current income column back but rename as Income (otherwise for each loop the name would be different)\n",
    "            df_temp['Income']=current_income\n",
    "\n",
    "            #add target column\n",
    "            df_temp['Target']=target_temp\n",
    "\n",
    "            #keep concating df_temp to df_result for each loop \n",
    "            df_result=pd.concat([df_result,df_temp])\n",
    "\n",
    "        #separate into X and y\n",
    "        X = df_result.drop(columns='Target')\n",
    "        y = df_result['Target']\n",
    "\n",
    "        return X,y"
   ]
  },
  {
   "cell_type": "code",
   "execution_count": 52,
   "metadata": {},
   "outputs": [],
   "source": [
    "#define a function to drop columns that did not pass the statistical test\n",
    "def col_drop(df):\n",
    "    #ensure the input is \n",
    "    df_temp=pd.DataFrame(df)\n",
    "    new_df=df_temp.drop(columns=columns_to_drop)\n",
    "    return new_df"
   ]
  },
  {
   "cell_type": "code",
   "execution_count": 53,
   "metadata": {},
   "outputs": [],
   "source": [
    "cachedir = mkdtemp()\n",
    "\n",
    "train_period=5\n",
    "prediction_period=5\n",
    "\n",
    "X_y_prep_stacked = Pipeline(\n",
    "    [\n",
    "    #one hot encoding\n",
    "    ('ohe', CustomOneHotEncoder_CT()),\n",
    "    #drop columns that did not pass statistical test,\n",
    "    ('col_drop',FunctionTransformer(col_drop)),\n",
    "    #convert income change into y_target based on the year we are making the prediction from and the prediction length and drop the remaining of Income columns\n",
    "    ('target',GentrificationTarget_Stacked(train_period,prediction_period))\n",
    "    ],\n",
    "    memory=cachedir)"
   ]
  },
  {
   "cell_type": "code",
   "execution_count": 54,
   "metadata": {},
   "outputs": [],
   "source": [
    "model_pipeline_stacked = Pipeline([\n",
    "    ('scaler', MinMaxScaler()),   # data normalization step\n",
    "    ('model', LogisticRegression(max_iter=1000))   # linear regression model\n",
    "])"
   ]
  },
  {
   "cell_type": "code",
   "execution_count": 55,
   "metadata": {},
   "outputs": [],
   "source": [
    "X_y_prep_stacked.fit(df_rem)\n",
    "X_rem,y_rem=X_y_prep_stacked.transform(df_rem)\n",
    "X_test,y_test=X_y_prep_stacked.transform(df_test)\n",
    "\n",
    "X_rem=X_rem.drop(columns='WORK_DESCRIPTION')\n",
    "X_test=X_test.drop(columns='WORK_DESCRIPTION')\n",
    "\n",
    "model_pipeline_stacked.fit(X_rem,y_rem)\n",
    "accuracy = model_pipeline_stacked.score(X_test, y_test)"
   ]
  },
  {
   "cell_type": "code",
   "execution_count": 56,
   "metadata": {},
   "outputs": [
    {
     "name": "stdout",
     "output_type": "stream",
     "text": [
      "Stacked model accuracy is 56.22%\n"
     ]
    }
   ],
   "source": [
    "print(f'Stacked model accuracy is {accuracy*100:.2f}%')"
   ]
  },
  {
   "cell_type": "code",
   "execution_count": 57,
   "metadata": {},
   "outputs": [
    {
     "data": {
      "text/plain": [
       "0.5936642554252931"
      ]
     },
     "execution_count": 57,
     "metadata": {},
     "output_type": "execute_result"
    }
   ],
   "source": [
    "model_pipeline_stacked.score(X_rem,y_rem)"
   ]
  },
  {
   "attachments": {},
   "cell_type": "markdown",
   "metadata": {},
   "source": [
    "* Run through all possible combinations of train_period & prediction_period to determine optimal prediction and train windows"
   ]
  },
  {
   "attachments": {},
   "cell_type": "markdown",
   "metadata": {},
   "source": [
    "`20+ min to run`"
   ]
  },
  {
   "cell_type": "code",
   "execution_count": 58,
   "metadata": {},
   "outputs": [
    {
     "data": {
      "text/plain": [
       "\"#loop through each combination of train_period & prediction_period and store test accuracy\\n\\n#train_period should not exceed 5 years because then predictions from 2010 would not be accurate\\n\\nimport itertools\\n\\ntrain_range = [i+1 for i in range(5)]\\nprediction_range = [i+1 for i in range(11)]\\n\\ndf_results=pd.DataFrame({'train_range':[],'prediction_range':[],'train_score':[],'test_score':[]})\\n\\n\\nfor i, pair in enumerate(itertools.product(train_range, prediction_range)):\\n\\n    train_period=pair[0]\\n    prediction_period=pair[1]\\n\\n    X_y_prep_stacked = Pipeline(\\n    [('ohe', CustomOneHotEncoder_CT()),\\n    ('target',GentrificationTarget_Stacked(train_period,prediction_period))],\\n    memory=cachedir)\\n\\n    X_y_prep_stacked.fit(df_rem)\\n    X_rem,y_rem=X_y_prep_stacked.transform(df_rem)\\n    X_test,y_test=X_y_prep_stacked.transform(df_test)\\n\\n    X_rem=X_rem.drop(columns='WORK_DESCRIPTION')\\n    X_test=X_test.drop(columns='WORK_DESCRIPTION')\\n\\n    model_pipeline_stacked.fit(X_rem,y_rem)\\n\\n    train_accuracy=model_pipeline_stacked.score(X_rem, y_rem)\\n    test_accuracy = model_pipeline_stacked.score(X_test, y_test)\\n\\n    df_results.loc[i] = [train_period, prediction_period, train_accuracy, test_accuracy]\""
      ]
     },
     "execution_count": 58,
     "metadata": {},
     "output_type": "execute_result"
    }
   ],
   "source": [
    "'''#loop through each combination of train_period & prediction_period and store test accuracy\n",
    "\n",
    "#train_period should not exceed 5 years because then predictions from 2010 would not be accurate\n",
    "\n",
    "import itertools\n",
    "\n",
    "train_range = [i+1 for i in range(5)]\n",
    "prediction_range = [i+1 for i in range(11)]\n",
    "\n",
    "df_results=pd.DataFrame({'train_range':[],'prediction_range':[],'train_score':[],'test_score':[]})\n",
    "\n",
    "\n",
    "for i, pair in enumerate(itertools.product(train_range, prediction_range)):\n",
    "\n",
    "    train_period=pair[0]\n",
    "    prediction_period=pair[1]\n",
    "\n",
    "    X_y_prep_stacked = Pipeline(\n",
    "    [('ohe', CustomOneHotEncoder_CT()),\n",
    "    ('target',GentrificationTarget_Stacked(train_period,prediction_period))],\n",
    "    memory=cachedir)\n",
    "\n",
    "    X_y_prep_stacked.fit(df_rem)\n",
    "    X_rem,y_rem=X_y_prep_stacked.transform(df_rem)\n",
    "    X_test,y_test=X_y_prep_stacked.transform(df_test)\n",
    "\n",
    "    X_rem=X_rem.drop(columns='WORK_DESCRIPTION')\n",
    "    X_test=X_test.drop(columns='WORK_DESCRIPTION')\n",
    "\n",
    "    model_pipeline_stacked.fit(X_rem,y_rem)\n",
    "\n",
    "    train_accuracy=model_pipeline_stacked.score(X_rem, y_rem)\n",
    "    test_accuracy = model_pipeline_stacked.score(X_test, y_test)\n",
    "\n",
    "    df_results.loc[i] = [train_period, prediction_period, train_accuracy, test_accuracy]'''\n"
   ]
  },
  {
   "cell_type": "code",
   "execution_count": 34,
   "metadata": {},
   "outputs": [],
   "source": [
    "#joblib.dump(df_results, '../data/interim/window_optimization.pkl')\n",
    "df_results=joblib.load('../data/interim/window_optimization.pkl')"
   ]
  },
  {
   "cell_type": "code",
   "execution_count": 35,
   "metadata": {},
   "outputs": [
    {
     "data": {
      "text/html": [
       "<div>\n",
       "<style scoped>\n",
       "    .dataframe tbody tr th:only-of-type {\n",
       "        vertical-align: middle;\n",
       "    }\n",
       "\n",
       "    .dataframe tbody tr th {\n",
       "        vertical-align: top;\n",
       "    }\n",
       "\n",
       "    .dataframe thead th {\n",
       "        text-align: right;\n",
       "    }\n",
       "</style>\n",
       "<table border=\"1\" class=\"dataframe\">\n",
       "  <thead>\n",
       "    <tr style=\"text-align: right;\">\n",
       "      <th></th>\n",
       "      <th>train_range</th>\n",
       "      <th>prediction_range</th>\n",
       "      <th>train_score</th>\n",
       "      <th>test_score</th>\n",
       "    </tr>\n",
       "  </thead>\n",
       "  <tbody>\n",
       "    <tr>\n",
       "      <th>16</th>\n",
       "      <td>2.0</td>\n",
       "      <td>6.0</td>\n",
       "      <td>0.598810</td>\n",
       "      <td>0.637786</td>\n",
       "    </tr>\n",
       "    <tr>\n",
       "      <th>27</th>\n",
       "      <td>3.0</td>\n",
       "      <td>6.0</td>\n",
       "      <td>0.617052</td>\n",
       "      <td>0.629280</td>\n",
       "    </tr>\n",
       "    <tr>\n",
       "      <th>38</th>\n",
       "      <td>4.0</td>\n",
       "      <td>6.0</td>\n",
       "      <td>0.621354</td>\n",
       "      <td>0.624706</td>\n",
       "    </tr>\n",
       "    <tr>\n",
       "      <th>43</th>\n",
       "      <td>4.0</td>\n",
       "      <td>11.0</td>\n",
       "      <td>0.648696</td>\n",
       "      <td>0.624113</td>\n",
       "    </tr>\n",
       "    <tr>\n",
       "      <th>54</th>\n",
       "      <td>5.0</td>\n",
       "      <td>11.0</td>\n",
       "      <td>0.648696</td>\n",
       "      <td>0.624113</td>\n",
       "    </tr>\n",
       "    <tr>\n",
       "      <th>5</th>\n",
       "      <td>1.0</td>\n",
       "      <td>6.0</td>\n",
       "      <td>0.602112</td>\n",
       "      <td>0.620859</td>\n",
       "    </tr>\n",
       "    <tr>\n",
       "      <th>53</th>\n",
       "      <td>5.0</td>\n",
       "      <td>10.0</td>\n",
       "      <td>0.666087</td>\n",
       "      <td>0.620567</td>\n",
       "    </tr>\n",
       "    <tr>\n",
       "      <th>49</th>\n",
       "      <td>5.0</td>\n",
       "      <td>6.0</td>\n",
       "      <td>0.622965</td>\n",
       "      <td>0.620164</td>\n",
       "    </tr>\n",
       "    <tr>\n",
       "      <th>52</th>\n",
       "      <td>5.0</td>\n",
       "      <td>9.0</td>\n",
       "      <td>0.652199</td>\n",
       "      <td>0.619718</td>\n",
       "    </tr>\n",
       "    <tr>\n",
       "      <th>51</th>\n",
       "      <td>5.0</td>\n",
       "      <td>8.0</td>\n",
       "      <td>0.644502</td>\n",
       "      <td>0.613357</td>\n",
       "    </tr>\n",
       "    <tr>\n",
       "      <th>15</th>\n",
       "      <td>2.0</td>\n",
       "      <td>5.0</td>\n",
       "      <td>0.600305</td>\n",
       "      <td>0.610483</td>\n",
       "    </tr>\n",
       "    <tr>\n",
       "      <th>50</th>\n",
       "      <td>5.0</td>\n",
       "      <td>7.0</td>\n",
       "      <td>0.638105</td>\n",
       "      <td>0.609001</td>\n",
       "    </tr>\n",
       "    <tr>\n",
       "      <th>39</th>\n",
       "      <td>4.0</td>\n",
       "      <td>7.0</td>\n",
       "      <td>0.640084</td>\n",
       "      <td>0.608757</td>\n",
       "    </tr>\n",
       "    <tr>\n",
       "      <th>41</th>\n",
       "      <td>4.0</td>\n",
       "      <td>9.0</td>\n",
       "      <td>0.646512</td>\n",
       "      <td>0.608491</td>\n",
       "    </tr>\n",
       "    <tr>\n",
       "      <th>48</th>\n",
       "      <td>5.0</td>\n",
       "      <td>5.0</td>\n",
       "      <td>0.606635</td>\n",
       "      <td>0.607430</td>\n",
       "    </tr>\n",
       "    <tr>\n",
       "      <th>17</th>\n",
       "      <td>2.0</td>\n",
       "      <td>7.0</td>\n",
       "      <td>0.622135</td>\n",
       "      <td>0.607246</td>\n",
       "    </tr>\n",
       "    <tr>\n",
       "      <th>37</th>\n",
       "      <td>4.0</td>\n",
       "      <td>5.0</td>\n",
       "      <td>0.610458</td>\n",
       "      <td>0.606244</td>\n",
       "    </tr>\n",
       "    <tr>\n",
       "      <th>40</th>\n",
       "      <td>4.0</td>\n",
       "      <td>8.0</td>\n",
       "      <td>0.630568</td>\n",
       "      <td>0.606007</td>\n",
       "    </tr>\n",
       "    <tr>\n",
       "      <th>30</th>\n",
       "      <td>3.0</td>\n",
       "      <td>9.0</td>\n",
       "      <td>0.634818</td>\n",
       "      <td>0.605701</td>\n",
       "    </tr>\n",
       "    <tr>\n",
       "      <th>29</th>\n",
       "      <td>3.0</td>\n",
       "      <td>8.0</td>\n",
       "      <td>0.627692</td>\n",
       "      <td>0.603908</td>\n",
       "    </tr>\n",
       "  </tbody>\n",
       "</table>\n",
       "</div>"
      ],
      "text/plain": [
       "    train_range  prediction_range  train_score  test_score\n",
       "16          2.0               6.0     0.598810    0.637786\n",
       "27          3.0               6.0     0.617052    0.629280\n",
       "38          4.0               6.0     0.621354    0.624706\n",
       "43          4.0              11.0     0.648696    0.624113\n",
       "54          5.0              11.0     0.648696    0.624113\n",
       "5           1.0               6.0     0.602112    0.620859\n",
       "53          5.0              10.0     0.666087    0.620567\n",
       "49          5.0               6.0     0.622965    0.620164\n",
       "52          5.0               9.0     0.652199    0.619718\n",
       "51          5.0               8.0     0.644502    0.613357\n",
       "15          2.0               5.0     0.600305    0.610483\n",
       "50          5.0               7.0     0.638105    0.609001\n",
       "39          4.0               7.0     0.640084    0.608757\n",
       "41          4.0               9.0     0.646512    0.608491\n",
       "48          5.0               5.0     0.606635    0.607430\n",
       "17          2.0               7.0     0.622135    0.607246\n",
       "37          4.0               5.0     0.610458    0.606244\n",
       "40          4.0               8.0     0.630568    0.606007\n",
       "30          3.0               9.0     0.634818    0.605701\n",
       "29          3.0               8.0     0.627692    0.603908"
      ]
     },
     "execution_count": 35,
     "metadata": {},
     "output_type": "execute_result"
    }
   ],
   "source": [
    "df_results.sort_values('test_score',ascending=False)[:20]"
   ]
  },
  {
   "attachments": {},
   "cell_type": "markdown",
   "metadata": {},
   "source": [
    "* The best scores are observed for longer prediction periods, this cna be explained by:\n",
    "  * 1) Volatility in the target variable\n",
    "  * 2) Gentrification being a long-term change"
   ]
  },
  {
   "attachments": {},
   "cell_type": "markdown",
   "metadata": {},
   "source": [
    "* Overall, the scores remain around 60% even when using the stacked dataframe and increasing the number of datapoints."
   ]
  },
  {
   "attachments": {},
   "cell_type": "markdown",
   "metadata": {},
   "source": [
    "***"
   ]
  },
  {
   "attachments": {},
   "cell_type": "markdown",
   "metadata": {},
   "source": [
    "Summary and the main Next Steps:\n",
    "* The main next step would be to improve the accuracy of the target variable at predicting gentrification by introducing other variables, such as education or crime levels\n",
    "  * It would also be beneficial to consider adjusting the calssification threshold split and consider introdusing more classes\n",
    "  * while splitting data using media, might at first seem to be a problem simplification, in reality, might also make it more difficult to split data, since the majority if datapoints would be around the median\n",
    "* While numerical and vategorical features were explored extensively, Work Description column has potential to be investigated much further\n",
    "  * running initial topic analysis already offered interesting insights such as that many permits currenly classified as Renovation Permits, in fact, are maintenance-related\n",
    "  * further topic analysis can be helpful to have more control over the assignment of permit types"
   ]
  },
  {
   "attachments": {},
   "cell_type": "markdown",
   "metadata": {},
   "source": []
  }
 ],
 "metadata": {
  "kernelspec": {
   "display_name": "base",
   "language": "python",
   "name": "python3"
  },
  "language_info": {
   "codemirror_mode": {
    "name": "ipython",
    "version": 3
   },
   "file_extension": ".py",
   "mimetype": "text/x-python",
   "name": "python",
   "nbconvert_exporter": "python",
   "pygments_lexer": "ipython3",
   "version": "3.10.9"
  },
  "orig_nbformat": 4
 },
 "nbformat": 4,
 "nbformat_minor": 2
}
