{
 "cells": [
  {
   "cell_type": "code",
   "execution_count": 3,
   "id": "2a4f4786",
   "metadata": {
    "ExecuteTime": {
     "end_time": "2023-02-21T17:11:30.136854Z",
     "start_time": "2023-02-21T17:11:27.910454Z"
    }
   },
   "outputs": [],
   "source": [
    "# Standard imports\n",
    "import numpy as np\n",
    "import pandas as pd\n",
    "\n",
    "# For web scraping\n",
    "import requests\n",
    "from bs4 import BeautifulSoup\n",
    "\n",
    "# For performing regex operations\n",
    "import re\n",
    "\n",
    "# For adding delays so that we don't spam requests\n",
    "import time"
   ]
  },
  {
   "cell_type": "code",
   "execution_count": 23,
   "id": "2b0282c2",
   "metadata": {},
   "outputs": [
    {
     "data": {
      "text/plain": [
       "'$ curl --location --request POST \\'https://planningdata.london.gov.uk/api-guest/applications/_search\\' --header \\'X-API-AllowRequest: be2rmRnt&\\' --header \\'Content-Type: application/json\\' --data-raw \\'{\"query\": {\"bool\": {\"must\": [{\"range\": {\"valid_date\": {\"lt\": \"01/01/2013\"}}}]}}, \"_source\": [\"lpa_name\", \"lpa_app_no\", \"last_updated\", \"valid_date\", \"decision_date\", \"id\", \"application_type\"]}\\' > old.json'"
      ]
     },
     "execution_count": 23,
     "metadata": {},
     "output_type": "execute_result"
    }
   ],
   "source": [
    "#Elastic search query used: filtering on before 2013\n",
    "'''$ curl --location --request POST 'https://planningdata.london.gov.uk/api-guest/applications/_search' --header 'X-API-AllowRequest: be2rmRnt&' --header 'Content-Type: application/json' --data-raw '{\"query\": {\"bool\": {\"must\": [{\"range\": {\"valid_date\": {\"lt\": \"01/01/2013\"}}}]}}, \"_source\": [\"lpa_name\", \"lpa_app_no\", \"last_updated\", \"valid_date\", \"decision_date\", \"id\", \"application_type\"]}' > old.json'''"
   ]
  },
  {
   "cell_type": "code",
   "execution_count": 29,
   "id": "2e987b2b",
   "metadata": {},
   "outputs": [
    {
     "data": {
      "text/html": [
       "<div>\n",
       "<style scoped>\n",
       "    .dataframe tbody tr th:only-of-type {\n",
       "        vertical-align: middle;\n",
       "    }\n",
       "\n",
       "    .dataframe tbody tr th {\n",
       "        vertical-align: top;\n",
       "    }\n",
       "\n",
       "    .dataframe thead th {\n",
       "        text-align: right;\n",
       "    }\n",
       "</style>\n",
       "<table border=\"1\" class=\"dataframe\">\n",
       "  <thead>\n",
       "    <tr style=\"text-align: right;\">\n",
       "      <th></th>\n",
       "      <th>took</th>\n",
       "      <th>timed_out</th>\n",
       "      <th>_shards</th>\n",
       "      <th>hits</th>\n",
       "    </tr>\n",
       "  </thead>\n",
       "  <tbody>\n",
       "    <tr>\n",
       "      <th>total</th>\n",
       "      <td>1289</td>\n",
       "      <td>False</td>\n",
       "      <td>1.0</td>\n",
       "      <td>{'value': 8231, 'relation': 'eq'}</td>\n",
       "    </tr>\n",
       "    <tr>\n",
       "      <th>successful</th>\n",
       "      <td>1289</td>\n",
       "      <td>False</td>\n",
       "      <td>1.0</td>\n",
       "      <td>NaN</td>\n",
       "    </tr>\n",
       "    <tr>\n",
       "      <th>skipped</th>\n",
       "      <td>1289</td>\n",
       "      <td>False</td>\n",
       "      <td>0.0</td>\n",
       "      <td>NaN</td>\n",
       "    </tr>\n",
       "    <tr>\n",
       "      <th>failed</th>\n",
       "      <td>1289</td>\n",
       "      <td>False</td>\n",
       "      <td>0.0</td>\n",
       "      <td>NaN</td>\n",
       "    </tr>\n",
       "    <tr>\n",
       "      <th>max_score</th>\n",
       "      <td>1289</td>\n",
       "      <td>False</td>\n",
       "      <td>NaN</td>\n",
       "      <td>1.0</td>\n",
       "    </tr>\n",
       "    <tr>\n",
       "      <th>hits</th>\n",
       "      <td>1289</td>\n",
       "      <td>False</td>\n",
       "      <td>NaN</td>\n",
       "      <td>[{'_index': 'applications', '_type': '_doc', '...</td>\n",
       "    </tr>\n",
       "  </tbody>\n",
       "</table>\n",
       "</div>"
      ],
      "text/plain": [
       "            took  timed_out  _shards  \\\n",
       "total       1289      False      1.0   \n",
       "successful  1289      False      1.0   \n",
       "skipped     1289      False      0.0   \n",
       "failed      1289      False      0.0   \n",
       "max_score   1289      False      NaN   \n",
       "hits        1289      False      NaN   \n",
       "\n",
       "                                                         hits  \n",
       "total                       {'value': 8231, 'relation': 'eq'}  \n",
       "successful                                                NaN  \n",
       "skipped                                                   NaN  \n",
       "failed                                                    NaN  \n",
       "max_score                                                 1.0  \n",
       "hits        [{'_index': 'applications', '_type': '_doc', '...  "
      ]
     },
     "execution_count": 29,
     "metadata": {},
     "output_type": "execute_result"
    }
   ],
   "source": [
    "before2013_raw = pd.read_json('old.json')\n",
    "before2013_raw"
   ]
  },
  {
   "cell_type": "code",
   "execution_count": 30,
   "id": "085854e1",
   "metadata": {},
   "outputs": [
    {
     "data": {
      "text/plain": [
       "_source.lpa_name\n",
       "Barnet             869\n",
       "Bexley               4\n",
       "Bromley            262\n",
       "Camden              35\n",
       "City of London     194\n",
       "Croydon              5\n",
       "Ealing            6326\n",
       "Enfield             20\n",
       "Hackney             11\n",
       "Havering            53\n",
       "Hillingdon          31\n",
       "LLDC                 1\n",
       "Lambeth            185\n",
       "Merton               9\n",
       "Redbridge            8\n",
       "Richmond           167\n",
       "Wandsworth          23\n",
       "Westminster         28\n",
       "Name: _index, dtype: int64"
      ]
     },
     "execution_count": 30,
     "metadata": {},
     "output_type": "execute_result"
    }
   ],
   "source": [
    "before2013_raw = pd.json_normalize(before2013_raw.loc['hits', 'hits'])\n",
    "before2013_raw.sort_values('_source.valid_date')\n",
    "before2013_raw.groupby('_source.lpa_name').count()['_index']"
   ]
  },
  {
   "attachments": {},
   "cell_type": "markdown",
   "id": "cd4cd2ba",
   "metadata": {},
   "source": [
    "Let's look at the ditribution for Hackney (as it was majorly gentrified -> important for the study)"
   ]
  },
  {
   "cell_type": "code",
   "execution_count": 35,
   "id": "c39f3669",
   "metadata": {},
   "outputs": [
    {
     "data": {
      "text/plain": [
       "'$ curl --location --request POST \\'https://planningdata.london.gov.uk/api-guest/applications/_search\\' --header \\'X-API-AllowRequest: be2rmRnt&\\' --header \\'Content-Type: application/json\\' --data-raw \\'{\"query\": {\"bool\": {\"must\": [{\"term\":{\"lpa_name.raw\": \"Hackney\"}}, {\"range\": {\"valid_date\": {\"lt\": \"01/01/2021\"}}}]}}, \"_source\": [\"lpa_name\", \"lpa_app_no\", \"last_updated\", \"valid_date\", \"decision_date\", \"id\", \"application_type\"], \"size\" : 10000}\\' > old_Hackney.json'"
      ]
     },
     "execution_count": 35,
     "metadata": {},
     "output_type": "execute_result"
    }
   ],
   "source": [
    "#elastic search query for applications before 2021\n",
    "'''$ curl --location --request POST 'https://planningdata.london.gov.uk/api-guest/applications/_search' --header 'X-API-AllowRequest: be2rmRnt&' --header 'Content-Type: application/json' --data-raw '{\"query\": {\"bool\": {\"must\": [{\"term\":{\"lpa_name.raw\": \"Hackney\"}}, {\"range\": {\"valid_date\": {\"lt\": \"01/01/2021\"}}}]}}, \"_source\": [\"lpa_name\", \"lpa_app_no\", \"last_updated\", \"valid_date\", \"decision_date\", \"id\", \"application_type\"], \"size\" : 10000}' > old_Hackney.json'''"
   ]
  },
  {
   "cell_type": "code",
   "execution_count": 34,
   "id": "14717b12",
   "metadata": {},
   "outputs": [
    {
     "data": {
      "text/html": [
       "<div>\n",
       "<style scoped>\n",
       "    .dataframe tbody tr th:only-of-type {\n",
       "        vertical-align: middle;\n",
       "    }\n",
       "\n",
       "    .dataframe tbody tr th {\n",
       "        vertical-align: top;\n",
       "    }\n",
       "\n",
       "    .dataframe thead th {\n",
       "        text-align: right;\n",
       "    }\n",
       "</style>\n",
       "<table border=\"1\" class=\"dataframe\">\n",
       "  <thead>\n",
       "    <tr style=\"text-align: right;\">\n",
       "      <th></th>\n",
       "      <th>took</th>\n",
       "      <th>timed_out</th>\n",
       "      <th>_shards</th>\n",
       "      <th>hits</th>\n",
       "    </tr>\n",
       "  </thead>\n",
       "  <tbody>\n",
       "    <tr>\n",
       "      <th>total</th>\n",
       "      <td>323</td>\n",
       "      <td>False</td>\n",
       "      <td>1.0</td>\n",
       "      <td>{'value': 969, 'relation': 'eq'}</td>\n",
       "    </tr>\n",
       "    <tr>\n",
       "      <th>successful</th>\n",
       "      <td>323</td>\n",
       "      <td>False</td>\n",
       "      <td>1.0</td>\n",
       "      <td>NaN</td>\n",
       "    </tr>\n",
       "    <tr>\n",
       "      <th>skipped</th>\n",
       "      <td>323</td>\n",
       "      <td>False</td>\n",
       "      <td>0.0</td>\n",
       "      <td>NaN</td>\n",
       "    </tr>\n",
       "    <tr>\n",
       "      <th>failed</th>\n",
       "      <td>323</td>\n",
       "      <td>False</td>\n",
       "      <td>0.0</td>\n",
       "      <td>NaN</td>\n",
       "    </tr>\n",
       "    <tr>\n",
       "      <th>max_score</th>\n",
       "      <td>323</td>\n",
       "      <td>False</td>\n",
       "      <td>NaN</td>\n",
       "      <td>5.152546</td>\n",
       "    </tr>\n",
       "    <tr>\n",
       "      <th>hits</th>\n",
       "      <td>323</td>\n",
       "      <td>False</td>\n",
       "      <td>NaN</td>\n",
       "      <td>[{'_index': 'applications', '_type': '_doc', '...</td>\n",
       "    </tr>\n",
       "  </tbody>\n",
       "</table>\n",
       "</div>"
      ],
      "text/plain": [
       "            took  timed_out  _shards  \\\n",
       "total        323      False      1.0   \n",
       "successful   323      False      1.0   \n",
       "skipped      323      False      0.0   \n",
       "failed       323      False      0.0   \n",
       "max_score    323      False      NaN   \n",
       "hits         323      False      NaN   \n",
       "\n",
       "                                                         hits  \n",
       "total                        {'value': 969, 'relation': 'eq'}  \n",
       "successful                                                NaN  \n",
       "skipped                                                   NaN  \n",
       "failed                                                    NaN  \n",
       "max_score                                            5.152546  \n",
       "hits        [{'_index': 'applications', '_type': '_doc', '...  "
      ]
     },
     "execution_count": 34,
     "metadata": {},
     "output_type": "execute_result"
    }
   ],
   "source": [
    "Hackney_all = pd.read_json('old_Hackney.json')\n",
    "Hackney_all"
   ]
  },
  {
   "cell_type": "code",
   "execution_count": 59,
   "id": "29a22a22",
   "metadata": {},
   "outputs": [],
   "source": [
    "#only 969 applications before 2021 for Hackney"
   ]
  },
  {
   "attachments": {},
   "cell_type": "markdown",
   "id": "49fc1aa5",
   "metadata": {},
   "source": [
    "# Exploring Recent Applications for Hackney"
   ]
  },
  {
   "cell_type": "code",
   "execution_count": 7,
   "id": "2148bf85",
   "metadata": {
    "ExecuteTime": {
     "end_time": "2023-02-22T12:24:16.381452Z",
     "start_time": "2023-02-22T12:24:16.365843Z"
    }
   },
   "outputs": [],
   "source": [
    "#load json for Hackney\n",
    "test_all = pd.read_json('test_all.json')\n",
    "my_test_all=test_all.loc['hits', 'hits']"
   ]
  },
  {
   "cell_type": "code",
   "execution_count": 8,
   "id": "a96851d9",
   "metadata": {},
   "outputs": [],
   "source": [
    "test7 = pd.read_json('test7.json')"
   ]
  },
  {
   "cell_type": "code",
   "execution_count": 9,
   "id": "277dd4f1",
   "metadata": {},
   "outputs": [],
   "source": [
    "my_test=test7.loc['hits', 'hits']"
   ]
  },
  {
   "cell_type": "code",
   "execution_count": 221,
   "id": "944d6f79",
   "metadata": {},
   "outputs": [
    {
     "data": {
      "text/plain": [
       "{'_index': 'applications',\n",
       " '_type': '_doc',\n",
       " '_id': 'Hackney-2022_2840',\n",
       " '_score': 5.1420603,\n",
       " '_source': {'lpa_name': 'Hackney',\n",
       "  'decision_date': None,\n",
       "  'last_updated': '2023-02-22T20:00:15.896Z',\n",
       "  'valid_date': '07/02/2023',\n",
       "  'lpa_app_no': '2022/2840',\n",
       "  'application_type': 'Householder',\n",
       "  'centroid': {'lon': -7.55716, 'lat': 49.766807},\n",
       "  'postcode': 'N16 6TS',\n",
       "  'application_details': {'total_gia_gained': 5},\n",
       "  'id': 'Hackney-2022_2840',\n",
       "  'application_type_full': 'Householder planning permission'}}"
      ]
     },
     "execution_count": 221,
     "metadata": {},
     "output_type": "execute_result"
    }
   ],
   "source": [
    "my_test[0]"
   ]
  },
  {
   "cell_type": "code",
   "execution_count": 12,
   "id": "fe4dfeda",
   "metadata": {},
   "outputs": [],
   "source": [
    "#How can we convert json into a dataframe?\n",
    "'''my_test[0].keys()\n",
    "#Tryiing to construct a dataframe with dictionary keys as column names\n",
    "#my_test\n",
    "for key in my_test[0]:\n",
    "    print(key)\n",
    "    #df_new['key']=app_dict[key]\n",
    "    #print(df_new)''';\n"
   ]
  },
  {
   "attachments": {},
   "cell_type": "markdown",
   "id": "fcad0ab6",
   "metadata": {},
   "source": [
    "# Let's look at all the columns?"
   ]
  },
  {
   "cell_type": "code",
   "execution_count": 41,
   "id": "b96e0bae",
   "metadata": {},
   "outputs": [
    {
     "data": {
      "text/html": [
       "<div>\n",
       "<style scoped>\n",
       "    .dataframe tbody tr th:only-of-type {\n",
       "        vertical-align: middle;\n",
       "    }\n",
       "\n",
       "    .dataframe tbody tr th {\n",
       "        vertical-align: top;\n",
       "    }\n",
       "\n",
       "    .dataframe thead th {\n",
       "        text-align: right;\n",
       "    }\n",
       "</style>\n",
       "<table border=\"1\" class=\"dataframe\">\n",
       "  <thead>\n",
       "    <tr style=\"text-align: right;\">\n",
       "      <th></th>\n",
       "      <th>took</th>\n",
       "      <th>timed_out</th>\n",
       "      <th>_shards</th>\n",
       "      <th>hits</th>\n",
       "    </tr>\n",
       "  </thead>\n",
       "  <tbody>\n",
       "    <tr>\n",
       "      <th>total</th>\n",
       "      <td>1555</td>\n",
       "      <td>False</td>\n",
       "      <td>1.0</td>\n",
       "      <td>{'value': 4896, 'relation': 'eq'}</td>\n",
       "    </tr>\n",
       "    <tr>\n",
       "      <th>successful</th>\n",
       "      <td>1555</td>\n",
       "      <td>False</td>\n",
       "      <td>1.0</td>\n",
       "      <td>NaN</td>\n",
       "    </tr>\n",
       "    <tr>\n",
       "      <th>skipped</th>\n",
       "      <td>1555</td>\n",
       "      <td>False</td>\n",
       "      <td>0.0</td>\n",
       "      <td>NaN</td>\n",
       "    </tr>\n",
       "    <tr>\n",
       "      <th>failed</th>\n",
       "      <td>1555</td>\n",
       "      <td>False</td>\n",
       "      <td>0.0</td>\n",
       "      <td>NaN</td>\n",
       "    </tr>\n",
       "    <tr>\n",
       "      <th>max_score</th>\n",
       "      <td>1555</td>\n",
       "      <td>False</td>\n",
       "      <td>NaN</td>\n",
       "      <td>4.852367</td>\n",
       "    </tr>\n",
       "    <tr>\n",
       "      <th>hits</th>\n",
       "      <td>1555</td>\n",
       "      <td>False</td>\n",
       "      <td>NaN</td>\n",
       "      <td>[{'_index': 'applications', '_type': '_doc', '...</td>\n",
       "    </tr>\n",
       "  </tbody>\n",
       "</table>\n",
       "</div>"
      ],
      "text/plain": [
       "            took  timed_out  _shards  \\\n",
       "total       1555      False      1.0   \n",
       "successful  1555      False      1.0   \n",
       "skipped     1555      False      0.0   \n",
       "failed      1555      False      0.0   \n",
       "max_score   1555      False      NaN   \n",
       "hits        1555      False      NaN   \n",
       "\n",
       "                                                         hits  \n",
       "total                       {'value': 4896, 'relation': 'eq'}  \n",
       "successful                                                NaN  \n",
       "skipped                                                   NaN  \n",
       "failed                                                    NaN  \n",
       "max_score                                            4.852367  \n",
       "hits        [{'_index': 'applications', '_type': '_doc', '...  "
      ]
     },
     "execution_count": 41,
     "metadata": {},
     "output_type": "execute_result"
    }
   ],
   "source": [
    "all_columns=pd.read_json('test1.json')\n",
    "all_columns"
   ]
  },
  {
   "cell_type": "code",
   "execution_count": 43,
   "id": "bcfe1baf",
   "metadata": {},
   "outputs": [
    {
     "data": {
      "text/plain": [
       "4896"
      ]
     },
     "execution_count": 43,
     "metadata": {},
     "output_type": "execute_result"
    }
   ],
   "source": [
    "len(all_columns.loc['hits', 'hits'])"
   ]
  },
  {
   "cell_type": "code",
   "execution_count": 44,
   "id": "11b33f77",
   "metadata": {},
   "outputs": [
    {
     "data": {
      "text/plain": [
       "(4896, 227)"
      ]
     },
     "execution_count": 44,
     "metadata": {},
     "output_type": "execute_result"
    }
   ],
   "source": [
    "all_columns2 = pd.json_normalize(all_columns.loc['hits', 'hits'])\n",
    "all_columns2.shape"
   ]
  },
  {
   "cell_type": "code",
   "execution_count": 45,
   "id": "41115e8d",
   "metadata": {},
   "outputs": [
    {
     "data": {
      "text/plain": [
       "_index                                              0.000000\n",
       "_source.bo_system                                   0.000000\n",
       "_source.last_synced                                 0.000000\n",
       "_source.last_updated_by                             0.000000\n",
       "_source.lpa_name                                    0.000000\n",
       "_source.centroid.lon                                0.000000\n",
       "_source.centroid.lat                                0.000000\n",
       "_source.application_type                            0.000000\n",
       "_source.valid_date                                  0.000000\n",
       "_source.lpa_app_no                                  0.000000\n",
       "_source.id                                          0.000000\n",
       "_score                                              0.000000\n",
       "_id                                                 0.000000\n",
       "_type                                               0.000000\n",
       "_source.last_updated                                0.000000\n",
       "_source.pp_id                                       4.248366\n",
       "_source.application_type_full                      14.562908\n",
       "_source.borough                                    21.813725\n",
       "_source.description                                21.813725\n",
       "_source.development_type                           21.813725\n",
       "_source.decision_target_date                       21.813725\n",
       "_source.status                                     21.813725\n",
       "_source.decision_process                           21.834150\n",
       "_source.ward                                       21.956699\n",
       "_source.postcode                                   22.017974\n",
       "_source.street_name                                22.385621\n",
       "_source.polygon.type                               22.487745\n",
       "_source.polygon.geometries                         22.487745\n",
       "_source.locality                                   22.569444\n",
       "_source.url_planning_app                           22.896242\n",
       "_source.uprn                                       24.836601\n",
       "_source.site_number                                26.225490\n",
       "_source.wgs84_polygon.type                         30.106209\n",
       "_source.wgs84_polygon.coordinates                  30.106209\n",
       "_source.last_date_consultation_comments            37.908497\n",
       "_source.site_name                                  37.908497\n",
       "_source.decision                                   38.521242\n",
       "_source.lapsed_date                                38.684641\n",
       "_source.decision_date                              38.684641\n",
       "_source.decision_conditions                        38.745915\n",
       "_source.application_details.total_gia_gained       41.135621\n",
       "_source.application_details.constraints_details    48.508987\n",
       "dtype: float64"
      ]
     },
     "execution_count": 45,
     "metadata": {},
     "output_type": "execute_result"
    }
   ],
   "source": [
    "(all_columns2.isna().sum().sort_values()*100/all_columns2.shape[0])[(all_columns2.isna().sum().sort_values()*100/all_columns2.shape[0])<50]"
   ]
  },
  {
   "cell_type": "code",
   "execution_count": 46,
   "id": "abb0d2d4",
   "metadata": {},
   "outputs": [],
   "source": [
    "(all_columns2.isna().sum().sort_values()*100/all_columns2.shape[0])[-50::];"
   ]
  },
  {
   "attachments": {},
   "cell_type": "markdown",
   "id": "0c0bc88a",
   "metadata": {},
   "source": [
    "# Let's look at data before 2009"
   ]
  },
  {
   "cell_type": "code",
   "execution_count": 47,
   "id": "76316ac1",
   "metadata": {},
   "outputs": [
    {
     "data": {
      "text/html": [
       "<div>\n",
       "<style scoped>\n",
       "    .dataframe tbody tr th:only-of-type {\n",
       "        vertical-align: middle;\n",
       "    }\n",
       "\n",
       "    .dataframe tbody tr th {\n",
       "        vertical-align: top;\n",
       "    }\n",
       "\n",
       "    .dataframe thead th {\n",
       "        text-align: right;\n",
       "    }\n",
       "</style>\n",
       "<table border=\"1\" class=\"dataframe\">\n",
       "  <thead>\n",
       "    <tr style=\"text-align: right;\">\n",
       "      <th></th>\n",
       "      <th>took</th>\n",
       "      <th>timed_out</th>\n",
       "      <th>_shards</th>\n",
       "      <th>hits</th>\n",
       "    </tr>\n",
       "  </thead>\n",
       "  <tbody>\n",
       "    <tr>\n",
       "      <th>total</th>\n",
       "      <td>582</td>\n",
       "      <td>False</td>\n",
       "      <td>1.0</td>\n",
       "      <td>{'value': 2709, 'relation': 'eq'}</td>\n",
       "    </tr>\n",
       "    <tr>\n",
       "      <th>successful</th>\n",
       "      <td>582</td>\n",
       "      <td>False</td>\n",
       "      <td>1.0</td>\n",
       "      <td>NaN</td>\n",
       "    </tr>\n",
       "    <tr>\n",
       "      <th>skipped</th>\n",
       "      <td>582</td>\n",
       "      <td>False</td>\n",
       "      <td>0.0</td>\n",
       "      <td>NaN</td>\n",
       "    </tr>\n",
       "    <tr>\n",
       "      <th>failed</th>\n",
       "      <td>582</td>\n",
       "      <td>False</td>\n",
       "      <td>0.0</td>\n",
       "      <td>NaN</td>\n",
       "    </tr>\n",
       "    <tr>\n",
       "      <th>max_score</th>\n",
       "      <td>582</td>\n",
       "      <td>False</td>\n",
       "      <td>NaN</td>\n",
       "      <td>1.0</td>\n",
       "    </tr>\n",
       "    <tr>\n",
       "      <th>hits</th>\n",
       "      <td>582</td>\n",
       "      <td>False</td>\n",
       "      <td>NaN</td>\n",
       "      <td>[{'_index': 'applications', '_type': '_doc', '...</td>\n",
       "    </tr>\n",
       "  </tbody>\n",
       "</table>\n",
       "</div>"
      ],
      "text/plain": [
       "            took  timed_out  _shards  \\\n",
       "total        582      False      1.0   \n",
       "successful   582      False      1.0   \n",
       "skipped      582      False      0.0   \n",
       "failed       582      False      0.0   \n",
       "max_score    582      False      NaN   \n",
       "hits         582      False      NaN   \n",
       "\n",
       "                                                         hits  \n",
       "total                       {'value': 2709, 'relation': 'eq'}  \n",
       "successful                                                NaN  \n",
       "skipped                                                   NaN  \n",
       "failed                                                    NaN  \n",
       "max_score                                                 1.0  \n",
       "hits        [{'_index': 'applications', '_type': '_doc', '...  "
      ]
     },
     "execution_count": 47,
     "metadata": {},
     "output_type": "execute_result"
    }
   ],
   "source": [
    "all_old_js=pd.read_json('test_old.json')\n",
    "all_old_js"
   ]
  },
  {
   "cell_type": "code",
   "execution_count": 48,
   "id": "26725d1c",
   "metadata": {},
   "outputs": [
    {
     "data": {
      "text/html": [
       "<div>\n",
       "<style scoped>\n",
       "    .dataframe tbody tr th:only-of-type {\n",
       "        vertical-align: middle;\n",
       "    }\n",
       "\n",
       "    .dataframe tbody tr th {\n",
       "        vertical-align: top;\n",
       "    }\n",
       "\n",
       "    .dataframe thead th {\n",
       "        text-align: right;\n",
       "    }\n",
       "</style>\n",
       "<table border=\"1\" class=\"dataframe\">\n",
       "  <thead>\n",
       "    <tr style=\"text-align: right;\">\n",
       "      <th></th>\n",
       "      <th>_index</th>\n",
       "      <th>_type</th>\n",
       "      <th>_id</th>\n",
       "      <th>_score</th>\n",
       "      <th>_source.lpa_name</th>\n",
       "      <th>_source.last_updated</th>\n",
       "      <th>_source.valid_date</th>\n",
       "      <th>_source.application_type</th>\n",
       "      <th>_source.id</th>\n",
       "      <th>_ignored</th>\n",
       "      <th>_source.application_details.3d_model</th>\n",
       "    </tr>\n",
       "  </thead>\n",
       "  <tbody>\n",
       "    <tr>\n",
       "      <th>1366</th>\n",
       "      <td>applications</td>\n",
       "      <td>_doc</td>\n",
       "      <td>Redbridge-PL_WW0013_62_A</td>\n",
       "      <td>1.0</td>\n",
       "      <td>Redbridge</td>\n",
       "      <td>2021-05-07T00:01:41.700Z</td>\n",
       "      <td>01/01/1962</td>\n",
       "      <td>All Other</td>\n",
       "      <td>Redbridge-PL_WW0013_62_A</td>\n",
       "      <td>NaN</td>\n",
       "      <td>False</td>\n",
       "    </tr>\n",
       "    <tr>\n",
       "      <th>1378</th>\n",
       "      <td>applications</td>\n",
       "      <td>_doc</td>\n",
       "      <td>Redbridge-PL_0662_89</td>\n",
       "      <td>1.0</td>\n",
       "      <td>Redbridge</td>\n",
       "      <td>2021-05-01T00:02:22.838Z</td>\n",
       "      <td>01/01/1989</td>\n",
       "      <td>All Other</td>\n",
       "      <td>Redbridge-PL_0662_89</td>\n",
       "      <td>NaN</td>\n",
       "      <td>False</td>\n",
       "    </tr>\n",
       "    <tr>\n",
       "      <th>1811</th>\n",
       "      <td>applications</td>\n",
       "      <td>_doc</td>\n",
       "      <td>Havering-P1597.19</td>\n",
       "      <td>1.0</td>\n",
       "      <td>Havering</td>\n",
       "      <td>2021-11-17T04:11:57.505Z</td>\n",
       "      <td>01/01/2001</td>\n",
       "      <td>All Other</td>\n",
       "      <td>Havering-P1597.19</td>\n",
       "      <td>NaN</td>\n",
       "      <td>NaN</td>\n",
       "    </tr>\n",
       "    <tr>\n",
       "      <th>2429</th>\n",
       "      <td>applications</td>\n",
       "      <td>_doc</td>\n",
       "      <td>Ealing-P_2002_0257</td>\n",
       "      <td>1.0</td>\n",
       "      <td>Ealing</td>\n",
       "      <td>2022-11-21T09:01:20.840Z</td>\n",
       "      <td>01/02/2002</td>\n",
       "      <td>All Other</td>\n",
       "      <td>Ealing-P_2002_0257</td>\n",
       "      <td>NaN</td>\n",
       "      <td>NaN</td>\n",
       "    </tr>\n",
       "    <tr>\n",
       "      <th>2312</th>\n",
       "      <td>applications</td>\n",
       "      <td>_doc</td>\n",
       "      <td>Barnet-W09502C_05</td>\n",
       "      <td>1.0</td>\n",
       "      <td>Barnet</td>\n",
       "      <td>2022-08-29T20:01:44.577Z</td>\n",
       "      <td>01/02/2005</td>\n",
       "      <td>All Other</td>\n",
       "      <td>Barnet-W09502C_05</td>\n",
       "      <td>NaN</td>\n",
       "      <td>NaN</td>\n",
       "    </tr>\n",
       "    <tr>\n",
       "      <th>...</th>\n",
       "      <td>...</td>\n",
       "      <td>...</td>\n",
       "      <td>...</td>\n",
       "      <td>...</td>\n",
       "      <td>...</td>\n",
       "      <td>...</td>\n",
       "      <td>...</td>\n",
       "      <td>...</td>\n",
       "      <td>...</td>\n",
       "      <td>...</td>\n",
       "      <td>...</td>\n",
       "    </tr>\n",
       "    <tr>\n",
       "      <th>582</th>\n",
       "      <td>applications</td>\n",
       "      <td>_doc</td>\n",
       "      <td>Ealing-P_2003_4321</td>\n",
       "      <td>1.0</td>\n",
       "      <td>Ealing</td>\n",
       "      <td>2020-11-26T10:30:19.215Z</td>\n",
       "      <td>31/10/2003</td>\n",
       "      <td>All Other</td>\n",
       "      <td>Ealing-P_2003_4321</td>\n",
       "      <td>[polygon]</td>\n",
       "      <td>NaN</td>\n",
       "    </tr>\n",
       "    <tr>\n",
       "      <th>1982</th>\n",
       "      <td>applications</td>\n",
       "      <td>_doc</td>\n",
       "      <td>Barnet-W16122_07</td>\n",
       "      <td>1.0</td>\n",
       "      <td>Barnet</td>\n",
       "      <td>2022-06-15T20:02:00.739Z</td>\n",
       "      <td>31/10/2007</td>\n",
       "      <td>All Other</td>\n",
       "      <td>Barnet-W16122_07</td>\n",
       "      <td>NaN</td>\n",
       "      <td>NaN</td>\n",
       "    </tr>\n",
       "    <tr>\n",
       "      <th>1362</th>\n",
       "      <td>applications</td>\n",
       "      <td>_doc</td>\n",
       "      <td>Barnet-C03312BK_07</td>\n",
       "      <td>1.0</td>\n",
       "      <td>Barnet</td>\n",
       "      <td>2021-05-06T20:01:46.960Z</td>\n",
       "      <td>31/10/2007</td>\n",
       "      <td>All Other</td>\n",
       "      <td>Barnet-C03312BK_07</td>\n",
       "      <td>NaN</td>\n",
       "      <td>NaN</td>\n",
       "    </tr>\n",
       "    <tr>\n",
       "      <th>1418</th>\n",
       "      <td>applications</td>\n",
       "      <td>_doc</td>\n",
       "      <td>Barnet-B_04096_08</td>\n",
       "      <td>1.0</td>\n",
       "      <td>Barnet</td>\n",
       "      <td>2021-04-22T20:02:18.024Z</td>\n",
       "      <td>31/10/2008</td>\n",
       "      <td>All Other</td>\n",
       "      <td>Barnet-B_04096_08</td>\n",
       "      <td>NaN</td>\n",
       "      <td>NaN</td>\n",
       "    </tr>\n",
       "    <tr>\n",
       "      <th>1628</th>\n",
       "      <td>applications</td>\n",
       "      <td>_doc</td>\n",
       "      <td>Barnet-H_00002_09</td>\n",
       "      <td>1.0</td>\n",
       "      <td>Barnet</td>\n",
       "      <td>2021-07-22T20:03:59.244Z</td>\n",
       "      <td>31/12/2008</td>\n",
       "      <td>All Other</td>\n",
       "      <td>Barnet-H_00002_09</td>\n",
       "      <td>NaN</td>\n",
       "      <td>NaN</td>\n",
       "    </tr>\n",
       "  </tbody>\n",
       "</table>\n",
       "<p>2709 rows × 11 columns</p>\n",
       "</div>"
      ],
      "text/plain": [
       "            _index _type                       _id  _score _source.lpa_name  \\\n",
       "1366  applications  _doc  Redbridge-PL_WW0013_62_A     1.0        Redbridge   \n",
       "1378  applications  _doc      Redbridge-PL_0662_89     1.0        Redbridge   \n",
       "1811  applications  _doc         Havering-P1597.19     1.0         Havering   \n",
       "2429  applications  _doc        Ealing-P_2002_0257     1.0           Ealing   \n",
       "2312  applications  _doc         Barnet-W09502C_05     1.0           Barnet   \n",
       "...            ...   ...                       ...     ...              ...   \n",
       "582   applications  _doc        Ealing-P_2003_4321     1.0           Ealing   \n",
       "1982  applications  _doc          Barnet-W16122_07     1.0           Barnet   \n",
       "1362  applications  _doc        Barnet-C03312BK_07     1.0           Barnet   \n",
       "1418  applications  _doc         Barnet-B_04096_08     1.0           Barnet   \n",
       "1628  applications  _doc         Barnet-H_00002_09     1.0           Barnet   \n",
       "\n",
       "          _source.last_updated _source.valid_date _source.application_type  \\\n",
       "1366  2021-05-07T00:01:41.700Z         01/01/1962                All Other   \n",
       "1378  2021-05-01T00:02:22.838Z         01/01/1989                All Other   \n",
       "1811  2021-11-17T04:11:57.505Z         01/01/2001                All Other   \n",
       "2429  2022-11-21T09:01:20.840Z         01/02/2002                All Other   \n",
       "2312  2022-08-29T20:01:44.577Z         01/02/2005                All Other   \n",
       "...                        ...                ...                      ...   \n",
       "582   2020-11-26T10:30:19.215Z         31/10/2003                All Other   \n",
       "1982  2022-06-15T20:02:00.739Z         31/10/2007                All Other   \n",
       "1362  2021-05-06T20:01:46.960Z         31/10/2007                All Other   \n",
       "1418  2021-04-22T20:02:18.024Z         31/10/2008                All Other   \n",
       "1628  2021-07-22T20:03:59.244Z         31/12/2008                All Other   \n",
       "\n",
       "                    _source.id   _ignored _source.application_details.3d_model  \n",
       "1366  Redbridge-PL_WW0013_62_A        NaN                                False  \n",
       "1378      Redbridge-PL_0662_89        NaN                                False  \n",
       "1811         Havering-P1597.19        NaN                                  NaN  \n",
       "2429        Ealing-P_2002_0257        NaN                                  NaN  \n",
       "2312         Barnet-W09502C_05        NaN                                  NaN  \n",
       "...                        ...        ...                                  ...  \n",
       "582         Ealing-P_2003_4321  [polygon]                                  NaN  \n",
       "1982          Barnet-W16122_07        NaN                                  NaN  \n",
       "1362        Barnet-C03312BK_07        NaN                                  NaN  \n",
       "1418         Barnet-B_04096_08        NaN                                  NaN  \n",
       "1628         Barnet-H_00002_09        NaN                                  NaN  \n",
       "\n",
       "[2709 rows x 11 columns]"
      ]
     },
     "execution_count": 48,
     "metadata": {},
     "output_type": "execute_result"
    }
   ],
   "source": [
    "\n",
    "all_old_raw = pd.json_normalize(all_old_js.loc['hits', 'hits'])\n",
    "all_old_raw.sort_values('_source.valid_date')"
   ]
  },
  {
   "cell_type": "code",
   "execution_count": 57,
   "id": "353f2c70",
   "metadata": {},
   "outputs": [
    {
     "name": "stdout",
     "output_type": "stream",
     "text": [
      "<class 'pandas.core.frame.DataFrame'>\n",
      "RangeIndex: 2709 entries, 0 to 2708\n",
      "Data columns (total 11 columns):\n",
      " #   Column                                Non-Null Count  Dtype         \n",
      "---  ------                                --------------  -----         \n",
      " 0   _index                                2709 non-null   object        \n",
      " 1   _type                                 2709 non-null   object        \n",
      " 2   _id                                   2709 non-null   object        \n",
      " 3   _score                                2709 non-null   float64       \n",
      " 4   _source.lpa_name                      2709 non-null   object        \n",
      " 5   _source.last_updated                  2709 non-null   object        \n",
      " 6   _source.valid_date                    2709 non-null   datetime64[ns]\n",
      " 7   _source.application_type              2709 non-null   object        \n",
      " 8   _source.id                            2709 non-null   object        \n",
      " 9   _ignored                              214 non-null    object        \n",
      " 10  _source.application_details.3d_model  4 non-null      object        \n",
      "dtypes: datetime64[ns](1), float64(1), object(9)\n",
      "memory usage: 232.9+ KB\n"
     ]
    }
   ],
   "source": [
    "all_old_raw['_source.valid_date']=pd.to_datetime(all_old_raw['_source.valid_date'])\n",
    "all_old_raw.info();"
   ]
  },
  {
   "cell_type": "code",
   "execution_count": 50,
   "id": "d15a5d9f",
   "metadata": {},
   "outputs": [
    {
     "data": {
      "text/plain": [
       "_source.lpa_name\n",
       "Barnet             479\n",
       "Bexley               1\n",
       "Bromley            104\n",
       "Camden              16\n",
       "City of London      99\n",
       "Croydon              3\n",
       "Ealing            1697\n",
       "Enfield             17\n",
       "Hackney             10\n",
       "Havering            36\n",
       "Hillingdon          26\n",
       "Lambeth             86\n",
       "Merton               9\n",
       "Redbridge            7\n",
       "Richmond            88\n",
       "Wandsworth          11\n",
       "Westminster         20\n",
       "Name: _index, dtype: int64"
      ]
     },
     "execution_count": 50,
     "metadata": {},
     "output_type": "execute_result"
    }
   ],
   "source": [
    "all_old_raw.groupby('_source.lpa_name').count()['_index']"
   ]
  },
  {
   "attachments": {},
   "cell_type": "markdown",
   "id": "fda7401f",
   "metadata": {},
   "source": [
    "# Can we extract any useful information for Ealing?"
   ]
  },
  {
   "cell_type": "code",
   "execution_count": 51,
   "id": "b0a82fa0",
   "metadata": {},
   "outputs": [
    {
     "data": {
      "text/html": [
       "<div>\n",
       "<style scoped>\n",
       "    .dataframe tbody tr th:only-of-type {\n",
       "        vertical-align: middle;\n",
       "    }\n",
       "\n",
       "    .dataframe tbody tr th {\n",
       "        vertical-align: top;\n",
       "    }\n",
       "\n",
       "    .dataframe thead th {\n",
       "        text-align: right;\n",
       "    }\n",
       "</style>\n",
       "<table border=\"1\" class=\"dataframe\">\n",
       "  <thead>\n",
       "    <tr style=\"text-align: right;\">\n",
       "      <th></th>\n",
       "      <th>took</th>\n",
       "      <th>timed_out</th>\n",
       "      <th>_shards</th>\n",
       "      <th>hits</th>\n",
       "    </tr>\n",
       "  </thead>\n",
       "  <tbody>\n",
       "    <tr>\n",
       "      <th>total</th>\n",
       "      <td>28</td>\n",
       "      <td>False</td>\n",
       "      <td>1.0</td>\n",
       "      <td>{'value': 141, 'relation': 'eq'}</td>\n",
       "    </tr>\n",
       "    <tr>\n",
       "      <th>successful</th>\n",
       "      <td>28</td>\n",
       "      <td>False</td>\n",
       "      <td>1.0</td>\n",
       "      <td>NaN</td>\n",
       "    </tr>\n",
       "    <tr>\n",
       "      <th>skipped</th>\n",
       "      <td>28</td>\n",
       "      <td>False</td>\n",
       "      <td>0.0</td>\n",
       "      <td>NaN</td>\n",
       "    </tr>\n",
       "    <tr>\n",
       "      <th>failed</th>\n",
       "      <td>28</td>\n",
       "      <td>False</td>\n",
       "      <td>0.0</td>\n",
       "      <td>NaN</td>\n",
       "    </tr>\n",
       "    <tr>\n",
       "      <th>max_score</th>\n",
       "      <td>28</td>\n",
       "      <td>False</td>\n",
       "      <td>NaN</td>\n",
       "      <td>0.0</td>\n",
       "    </tr>\n",
       "    <tr>\n",
       "      <th>hits</th>\n",
       "      <td>28</td>\n",
       "      <td>False</td>\n",
       "      <td>NaN</td>\n",
       "      <td>[{'_index': 'applications', '_type': '_doc', '...</td>\n",
       "    </tr>\n",
       "  </tbody>\n",
       "</table>\n",
       "</div>"
      ],
      "text/plain": [
       "            took  timed_out  _shards  \\\n",
       "total         28      False      1.0   \n",
       "successful    28      False      1.0   \n",
       "skipped       28      False      0.0   \n",
       "failed        28      False      0.0   \n",
       "max_score     28      False      NaN   \n",
       "hits          28      False      NaN   \n",
       "\n",
       "                                                         hits  \n",
       "total                        {'value': 141, 'relation': 'eq'}  \n",
       "successful                                                NaN  \n",
       "skipped                                                   NaN  \n",
       "failed                                                    NaN  \n",
       "max_score                                                 0.0  \n",
       "hits        [{'_index': 'applications', '_type': '_doc', '...  "
      ]
     },
     "execution_count": 51,
     "metadata": {},
     "output_type": "execute_result"
    }
   ],
   "source": [
    "ealing_js=pd.read_json('test_Ealing.json')\n",
    "ealing_js"
   ]
  },
  {
   "cell_type": "code",
   "execution_count": 52,
   "id": "42e82656",
   "metadata": {},
   "outputs": [],
   "source": [
    "ealing_raw = pd.json_normalize(ealing_js.loc['hits', 'hits'])\n",
    "#.sort_values('_source.valid_date')"
   ]
  },
  {
   "cell_type": "code",
   "execution_count": 55,
   "id": "b6128246",
   "metadata": {},
   "outputs": [],
   "source": [
    "ealing_raw['_source.valid_date']=pd.to_datetime(ealing_raw['_source.valid_date'])"
   ]
  },
  {
   "cell_type": "code",
   "execution_count": 56,
   "id": "34c91e1c",
   "metadata": {},
   "outputs": [
    {
     "data": {
      "text/plain": [
       "_source.valid_date\n",
       "1      8\n",
       "2      6\n",
       "3     12\n",
       "4     10\n",
       "5     12\n",
       "6      9\n",
       "7     16\n",
       "8     18\n",
       "9     14\n",
       "10    10\n",
       "11    13\n",
       "12    13\n",
       "Name: _source.lpa_name, dtype: int64"
      ]
     },
     "execution_count": 56,
     "metadata": {},
     "output_type": "execute_result"
    }
   ],
   "source": [
    "ealing_raw.groupby(ealing_raw['_source.valid_date'].dt.month).count()['_source.lpa_name']"
   ]
  },
  {
   "cell_type": "code",
   "execution_count": 153,
   "id": "6c814886",
   "metadata": {},
   "outputs": [
    {
     "data": {
      "text/html": [
       "<div>\n",
       "<style scoped>\n",
       "    .dataframe tbody tr th:only-of-type {\n",
       "        vertical-align: middle;\n",
       "    }\n",
       "\n",
       "    .dataframe tbody tr th {\n",
       "        vertical-align: top;\n",
       "    }\n",
       "\n",
       "    .dataframe thead th {\n",
       "        text-align: right;\n",
       "    }\n",
       "</style>\n",
       "<table border=\"1\" class=\"dataframe\">\n",
       "  <thead>\n",
       "    <tr style=\"text-align: right;\">\n",
       "      <th></th>\n",
       "      <th>took</th>\n",
       "      <th>timed_out</th>\n",
       "      <th>_shards</th>\n",
       "      <th>hits</th>\n",
       "    </tr>\n",
       "  </thead>\n",
       "  <tbody>\n",
       "    <tr>\n",
       "      <th>total</th>\n",
       "      <td>1164</td>\n",
       "      <td>False</td>\n",
       "      <td>1.0</td>\n",
       "      <td>{'value': 8122, 'relation': 'eq'}</td>\n",
       "    </tr>\n",
       "    <tr>\n",
       "      <th>successful</th>\n",
       "      <td>1164</td>\n",
       "      <td>False</td>\n",
       "      <td>1.0</td>\n",
       "      <td>NaN</td>\n",
       "    </tr>\n",
       "    <tr>\n",
       "      <th>skipped</th>\n",
       "      <td>1164</td>\n",
       "      <td>False</td>\n",
       "      <td>0.0</td>\n",
       "      <td>NaN</td>\n",
       "    </tr>\n",
       "    <tr>\n",
       "      <th>failed</th>\n",
       "      <td>1164</td>\n",
       "      <td>False</td>\n",
       "      <td>0.0</td>\n",
       "      <td>NaN</td>\n",
       "    </tr>\n",
       "    <tr>\n",
       "      <th>max_score</th>\n",
       "      <td>1164</td>\n",
       "      <td>False</td>\n",
       "      <td>NaN</td>\n",
       "      <td>0.0</td>\n",
       "    </tr>\n",
       "    <tr>\n",
       "      <th>hits</th>\n",
       "      <td>1164</td>\n",
       "      <td>False</td>\n",
       "      <td>NaN</td>\n",
       "      <td>[{'_index': 'applications', '_type': '_doc', '...</td>\n",
       "    </tr>\n",
       "  </tbody>\n",
       "</table>\n",
       "</div>"
      ],
      "text/plain": [
       "            took  timed_out  _shards  \\\n",
       "total       1164      False      1.0   \n",
       "successful  1164      False      1.0   \n",
       "skipped     1164      False      0.0   \n",
       "failed      1164      False      0.0   \n",
       "max_score   1164      False      NaN   \n",
       "hits        1164      False      NaN   \n",
       "\n",
       "                                                         hits  \n",
       "total                       {'value': 8122, 'relation': 'eq'}  \n",
       "successful                                                NaN  \n",
       "skipped                                                   NaN  \n",
       "failed                                                    NaN  \n",
       "max_score                                                 0.0  \n",
       "hits        [{'_index': 'applications', '_type': '_doc', '...  "
      ]
     },
     "execution_count": 153,
     "metadata": {},
     "output_type": "execute_result"
    }
   ],
   "source": [
    "df_test_10=pd.read_json('test_old2.json')\n",
    "df_test_10"
   ]
  },
  {
   "cell_type": "code",
   "execution_count": 154,
   "id": "d26638cb",
   "metadata": {},
   "outputs": [
    {
     "data": {
      "text/plain": [
       "_source.lpa_name\n",
       "Barnet             675\n",
       "Bexley              11\n",
       "Bromley            145\n",
       "Camden              19\n",
       "City of London      75\n",
       "Croydon              7\n",
       "Ealing            6341\n",
       "Enfield             41\n",
       "Hackney              1\n",
       "Havering             6\n",
       "Hillingdon           9\n",
       "LLDC                34\n",
       "Lambeth            108\n",
       "Merton               1\n",
       "Newham               1\n",
       "OPDC                 1\n",
       "Redbridge            1\n",
       "Richmond            63\n",
       "Tower Hamlets      560\n",
       "Wandsworth           4\n",
       "Westminster         19\n",
       "Name: _index, dtype: int64"
      ]
     },
     "execution_count": 154,
     "metadata": {},
     "output_type": "execute_result"
    }
   ],
   "source": [
    "df_test_10 = pd.json_normalize(df_test_10.loc['hits', 'hits'])\n",
    "df_test_10.sort_values('_source.valid_date')\n",
    "df_test_10.groupby('_source.lpa_name').count()['_index']"
   ]
  },
  {
   "attachments": {},
   "cell_type": "markdown",
   "id": "b0b6a16a",
   "metadata": {},
   "source": [
    "Can we extract data in other ways?"
   ]
  },
  {
   "cell_type": "code",
   "execution_count": 4,
   "id": "5d19ab91",
   "metadata": {},
   "outputs": [],
   "source": [
    "#test before finding out about the pd normalize function\n",
    "\n",
    "'''from ukplanning import run\n",
    "\n",
    "scraper = 'Hart'\n",
    "scraper_dict = run.all_scraper_classes()\n",
    "if not scraper in scraper_dict.keys():\n",
    "    print 'Scraper class not yet implemented for s' % scraper\n",
    "else:\n",
    "    print 'Found scraper class for %s' % scraper\n",
    "    scraper_obj = run.get_scraper(scraper, log_directory='logs')\n",
    "    print 'Wait ...'\n",
    "    scraped = scraper_obj.gather_ids()\n",
    "    if scraped.get('result'):\n",
    "        result = scraped['result']\n",
    "        print \"Found %d applications from %s to %s\" % (len(result), scraped['from'], scraped['to'])\n",
    "        app = result[0]\n",
    "        updated = scraper_obj.update_application(app)\n",
    "        if 'scrape_error' not in updated:\n",
    "            print 'Updated first full record from %s' % scraper\n",
    "            print app\n",
    "            print 'OK'\n",
    "        else:\n",
    "            print 'Error during application update: %s' % updated['scrape_error']\n",
    "    else:\n",
    "        print 'Error when gathering applications: %s' % scraped['scrape_error']''';"
   ]
  },
  {
   "cell_type": "code",
   "execution_count": null,
   "id": "beb07e8c",
   "metadata": {},
   "outputs": [],
   "source": []
  }
 ],
 "metadata": {
  "kernelspec": {
   "display_name": "base",
   "language": "python",
   "name": "python3"
  },
  "language_info": {
   "codemirror_mode": {
    "name": "ipython",
    "version": 3
   },
   "file_extension": ".py",
   "mimetype": "text/x-python",
   "name": "python",
   "nbconvert_exporter": "python",
   "pygments_lexer": "ipython3",
   "version": "3.9.13"
  },
  "toc": {
   "base_numbering": 1,
   "nav_menu": {},
   "number_sections": true,
   "sideBar": true,
   "skip_h1_title": false,
   "title_cell": "Table of Contents",
   "title_sidebar": "Contents",
   "toc_cell": false,
   "toc_position": {},
   "toc_section_display": true,
   "toc_window_display": false
  },
  "vscode": {
   "interpreter": {
    "hash": "a4ccad7f4245b41ef23b14c32aed64178d0c17e4b57b15c0d4f0def3d96d0932"
   }
  }
 },
 "nbformat": 4,
 "nbformat_minor": 5
}
